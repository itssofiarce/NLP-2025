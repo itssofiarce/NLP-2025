{
  "nbformat": 4,
  "nbformat_minor": 0,
  "metadata": {
    "colab": {
      "provenance": [],
      "authorship_tag": "ABX9TyPqVNwflix24reA39sB3idM"
    },
    "kernelspec": {
      "name": "python3",
      "display_name": "Python 3"
    },
    "language_info": {
      "name": "python"
    }
  },
  "cells": [
    {
      "cell_type": "markdown",
      "source": [
        "## Procesamiento del Lenguaje Natural - 2025\n",
        "\n",
        "### Trabajo Práctico\n",
        "\n",
        "Arce, Sofía."
      ],
      "metadata": {
        "id": "x_EvKNTurstJ"
      }
    },
    {
      "cell_type": "markdown",
      "source": [
        "## Preparación de entorno"
      ],
      "metadata": {
        "id": "WysTa0aAtJlQ"
      }
    },
    {
      "cell_type": "code",
      "source": [
        "# Clonamos el reposotorio y el directorio de los datos\n",
        "import os\n",
        "\n",
        "REPO_NAME = \"NLP-2025\"\n",
        "if REPO_NAME not in os.getcwd():\n",
        "  if not os.path.exists(REPO_NAME):\n",
        "    !git clone https://github.com/itssofiarce/{REPO_NAME}.git\n",
        "  os.chdir(REPO_NAME)"
      ],
      "metadata": {
        "id": "Y7XGcTWxtYhV"
      },
      "execution_count": 22,
      "outputs": []
    },
    {
      "cell_type": "markdown",
      "source": [
        "### Pre analísis de la información .txt"
      ],
      "metadata": {
        "id": "PuIME37GG1VG"
      }
    },
    {
      "cell_type": "code",
      "source": [
        "# Texto mas extenso\n",
        "longitud = {}\n",
        "informacion = os.listdir('/content/NLP-2025/NLP_CASCADIA/datos/información')\n",
        "\n",
        "for texto in informacion:\n",
        "  contenido = open(f'/content/NLP-2025/NLP_CASCADIA/datos/información/{texto}', 'r')\n",
        "  # Cuento solo las palabras\n",
        "\n",
        "  longitud[texto] = len(contenido.read().split())\n",
        "\n",
        "print(longitud)\n"
      ],
      "metadata": {
        "colab": {
          "base_uri": "https://localhost:8080/"
        },
        "id": "cDoWo-0hG01w",
        "outputId": "7170736a-47f6-42ad-e050-015385437a34"
      },
      "execution_count": 23,
      "outputs": [
        {
          "output_type": "stream",
          "name": "stdout",
          "text": [
            "{'whatboardgame_review.txt': 2288, 'board_game_co_uk_guide.txt': 127, 'flatout_games.txt': 298, 'boardgamereview_review.txt': 2606, 'cascadia_manual.txt': 6734, 'bluehighwaygames_description.txt': 908, 'oneboardfamily_review.txt': 1592}\n"
          ]
        }
      ]
    },
    {
      "cell_type": "markdown",
      "source": [
        "En base al output de arriba el texto mas extenso es el manual de cascadia con 6734 palabras.\n",
        "\n"
      ],
      "metadata": {
        "id": "fKUWkY-NJr2j"
      }
    },
    {
      "cell_type": "markdown",
      "source": [
        "Para facilitar el desarrollo del Trabajo Práctico crearé la clase \"TextoParaAnalizar\" con los metodós necesarios para completar los enunciados."
      ],
      "metadata": {
        "id": "WuGJ1zh-KYHr"
      }
    },
    {
      "cell_type": "code",
      "source": [
        "import pandas as pd"
      ],
      "metadata": {
        "id": "OQoKd182ozec"
      },
      "execution_count": 24,
      "outputs": []
    },
    {
      "cell_type": "code",
      "source": [
        "# Funciones adicionales\n",
        "def entorno_modelo(tipo_embedding):\n",
        "  if tipo_embedding == \"CountVectorizer\":\n",
        "\n",
        "    from sklearn.feature_extraction.text import CountVectorizer\n",
        "    model = CountVectorizer()\n",
        "\n",
        "  elif tipo_embedding == \"sentencetransformer\":\n",
        "    !pip install -U sentence-transformers\n",
        "    from sentence_transformers import SentenceTransformer\n",
        "    model = SentenceTransformer('all-MiniLM-L6-v2')\n",
        "\n",
        "  return model\n"
      ],
      "metadata": {
        "id": "h0JM5JPSjrs4"
      },
      "execution_count": 26,
      "outputs": []
    },
    {
      "cell_type": "code",
      "source": [
        "class TextoParaAnalizar:\n",
        "\n",
        "  def __init__(self, text):\n",
        "    # Validar path del archivo\n",
        "    if not os.path.exists(text):\n",
        "      raise Exception('El archivo no existe')\n",
        "    self.text = text\n",
        "\n",
        "  def __str__(self):\n",
        "    \"\"\" Devuelve el contenido del texto \"\"\"\n",
        "    with open(self.text, 'r') as f:\n",
        "      return f.read()\n",
        "\n",
        "  def fragmentos(self, fragmento=\"palabra\"):\n",
        "    \"\"\" Devuelve una lista de fragmentos del texto.\n",
        "      - \"Fragmento: oracion\"\n",
        "      - \"Fragmento: palabra\"\n",
        "    \"\"\"\n",
        "    import re\n",
        "    texto_limpio = re.sub(r'[().!]', '', self.__str__())\n",
        "    if fragmento == \"oracion\":\n",
        "      texto_limpio =[line for line in texto_limpio.splitlines() if line.strip()]\n",
        "      return texto_limpio\n",
        "    return texto_limpio.split()\n",
        "\n",
        "\n",
        "  def vectorizar(self, tipo: str = \"sentencetransformer\"):\n",
        "    \"\"\" Vectoriza los fragmentos y los devuelve en un dataset. Por default usa ul modelo ContextDependent como word2vec.\n",
        "        tipo:\n",
        "        - \"ContextDependent: CountVectorizer\"\n",
        "        - \"ContextIndependent: \"\" sentencetransformer \"\"\"\n",
        "    import pandas as pd\n",
        "    modelo = entorno_modelo(tipo)\n",
        "    oraciones = self.fragmentos(\"oracion\")\n",
        "    embeddings = []\n",
        "\n",
        "    if tipo == \"CountVectorizer\":\n",
        "      X = modelo.fit_transform(oraciones)\n",
        "      response_new = pd.DataFrame(X.toarray(), columns=modelo.get_feature_names_out())\n",
        "\n",
        "    elif tipo == \"sentencetransformer\":\n",
        "      response_new = modelo.encode(oraciones)\n",
        "\n",
        "    return response_new, modelo"
      ],
      "metadata": {
        "id": "dxPsLpchFDQW"
      },
      "execution_count": 27,
      "outputs": []
    },
    {
      "cell_type": "markdown",
      "source": [
        "## EJERCICIO 2\n",
        "Apoyándose en la sección de información. Separa en fragmentos un texto extenso extraído y vectoriza cada fragmento con alguno de los modelos de embedding vistos en clases."
      ],
      "metadata": {
        "id": "Jnu8naJLshLD"
      }
    },
    {
      "cell_type": "code",
      "source": [
        "texto_extenso = TextoParaAnalizar('/content/NLP-2025/NLP_CASCADIA/datos/información/cascadia_manual.txt')"
      ],
      "metadata": {
        "id": "uilsKM2ptIKD"
      },
      "execution_count": 28,
      "outputs": []
    },
    {
      "cell_type": "markdown",
      "source": [
        "En el bloque de codigo de arriba, dataframe es un diccionario que almacena en forma de lista, las palabras de las oraciones, esto el permite a word2vec aprender mejor el contexto de las mismas. Luego entrenamos el modelo y lo guardamos."
      ],
      "metadata": {
        "id": "l48BSpaBAyzt"
      }
    },
    {
      "cell_type": "markdown",
      "source": [
        "Las palabras \"rules\" y \"games\" tienen una similitud cerca de uno por lo que significa que son palabras cuyos embeddings estan cerca en el espacio y por lo tanto, estan relacionadas en cuanto a significado. Ahora entrenaré otro modelo para probarlo con frases."
      ],
      "metadata": {
        "id": "oAskidedEU_Q"
      }
    },
    {
      "cell_type": "code",
      "source": [
        "# Separo en palabras y vectorizo\n",
        "dataframe, model = texto_extenso.vectorizar(\"CountVectorizer\")"
      ],
      "metadata": {
        "id": "ignT9XVCKZhW"
      },
      "execution_count": null,
      "outputs": []
    },
    {
      "cell_type": "code",
      "source": [
        "# Separo en frases\n",
        "dataframe, model = texto_extenso.vectorizar(\"sentencetransformer\")"
      ],
      "metadata": {
        "id": "DBfDJSBGdIyq"
      },
      "execution_count": null,
      "outputs": []
    },
    {
      "cell_type": "markdown",
      "source": [
        "Luego realiza un análisis de similitud de texto ingresando varias frases a buscar semánticamente, compare distintas técnicas de distancias vistas en clases, elija la mejor y justifique la razón por la que esa técnica se ajusta para este tipo de búsquedas.\n",
        "\n"
      ],
      "metadata": {
        "id": "FCULlDu74BDx"
      }
    },
    {
      "cell_type": "code",
      "source": [
        "# Calcular la similutid del coseno entre las frases_ejemplo y todo el texto.\n",
        "from sentence_transformers import util\n",
        "frases_ejemplo=[\"Casadia is a game\", \"There are only 3 types of Wildlife cards\", \"Casadia ia a geographic region\"]\n",
        "frases_ejemplo_vectorizadas = model.encode(frases_ejemplo)"
      ],
      "metadata": {
        "id": "3wGkhFnshYdf"
      },
      "execution_count": 37,
      "outputs": []
    },
    {
      "cell_type": "code",
      "source": [
        "to_plot_coincidencias=[]\n",
        "to_plot_coincidencias_vectorizadas=[]"
      ],
      "metadata": {
        "id": "QsOYRKYf_hcb"
      },
      "execution_count": 74,
      "outputs": []
    },
    {
      "cell_type": "code",
      "source": [
        "for i, frase in enumerate(frases_ejemplo):\n",
        "    similitudes = util.cos_sim(frases_ejemplo_vectorizadas[i], dataframe)\n",
        "    print(f\"\\nFrase ejemplo: '{frase}'\")\n",
        "    # Mostrar las frases del texto más similares a esta\n",
        "    resultados_ordenados = similitudes[0].argsort(descending=True)\n",
        "    for idx in resultados_ordenados[:3]:  # Top 3 resultados\n",
        "        # Busco por idx la oracion original\n",
        "        to_plot_coincidencias.append(texto_extenso.fragmentos(\"oracion\")[idx])\n",
        "        to_plot_coincidencias_vectorizadas.append(dataframe[idx])\n",
        "        oracion_similar = texto_extenso.fragmentos(\"oracion\")[idx.item()]\n",
        "        print(f\" → {oracion_similar} (Similitud: {similitudes[0][idx]:.4f})\")"
      ],
      "metadata": {
        "id": "fATK6cd8wgix",
        "outputId": "4db13343-1aff-4953-ce21-84ec8ff147d7",
        "colab": {
          "base_uri": "https://localhost:8080/"
        }
      },
      "execution_count": 75,
      "outputs": [
        {
          "output_type": "stream",
          "name": "stdout",
          "text": [
            "\n",
            "Frase ejemplo: 'Casadia is a game'\n",
            " → Set up and play a multi-player game of Cascadia using the  (Similitud: 0.5859)\n",
            " → Set up and play a multi-player game of Cascadia following  (Similitud: 0.5751)\n",
            " → The Flatout Games CoLab for Cascadia is: (Similitud: 0.5627)\n",
            "\n",
            "Frase ejemplo: 'There are only 3 types of Wildlife cards'\n",
            " → Only have 3 types of Wildlife (Similitud: 0.7758)\n",
            " → 1 Wildlife Scoring Cards (Similitud: 0.7268)\n",
            " → 1 Wildlife Scoring Cards (Similitud: 0.7268)\n",
            "\n",
            "Frase ejemplo: 'Casadia ia a geographic region'\n",
            " → About the Region (Similitud: 0.5014)\n",
            " → landmarks in the region (Similitud: 0.4970)\n",
            " → wild places wherever you may be, or consider paying Cascadia a visit (Similitud: 0.4175)\n"
          ]
        }
      ]
    },
    {
      "cell_type": "code",
      "source": [
        "# Similitud de Jaccard\n",
        "def jaccard_similarity(str1, str2):\n",
        "    set1 = set(str1.lower().split())\n",
        "    set2 = set(str2.lower().split())\n",
        "    return len(set1 & set2) / len(set1 | set2) if set1 | set2 else 0"
      ],
      "metadata": {
        "id": "EaBl7Pyn2Qx3"
      },
      "execution_count": 41,
      "outputs": []
    },
    {
      "cell_type": "code",
      "source": [
        "from sentence_transformers import util\n",
        "\n",
        "frases_ejemplo = [\"Casadia is a game\", \"There are only 3 types of Wildlife cards\", \"Casadia ia a geographic region\"]\n",
        "\n",
        "for i, frase in enumerate(frases_ejemplo):\n",
        "    print(f\"\\nFrase ejemplo: '{frase}'\")\n",
        "\n",
        "    # Calculate Jaccard similarity for each fragment in the text\n",
        "    similitudes_jaccard = [jaccard_similarity(frase, oracion) for oracion in texto_extenso.fragmentos(\"oracion\")]\n",
        "\n",
        "    # Get the indices of the top 3 most similar sentences\n",
        "    resultados_ordenados_jaccard = sorted(range(len(similitudes_jaccard)), key=lambda i: similitudes_jaccard[i], reverse=True)[:3]\n",
        "\n",
        "    # Print the top 3 most similar sentences and their Jaccard similarities\n",
        "    for idx in resultados_ordenados_jaccard:\n",
        "        oracion_similar = texto_extenso.fragmentos(\"oracion\")[idx]\n",
        "        print(f\" → {oracion_similar} (Similitud Jaccard: {similitudes_jaccard[idx]:.4f})\")"
      ],
      "metadata": {
        "id": "EedMbbJQ5SXJ",
        "outputId": "ed767d08-68b7-461b-bd10-544baf673d9a",
        "colab": {
          "base_uri": "https://localhost:8080/"
        }
      },
      "execution_count": 46,
      "outputs": [
        {
          "output_type": "stream",
          "name": "stdout",
          "text": [
            "\n",
            "Frase ejemplo: 'Casadia is a game'\n",
            " → This tile is a Keystone  (Similitud Jaccard: 0.2857)\n",
            " → A (Similitud Jaccard: 0.2500)\n",
            " → A (Similitud Jaccard: 0.2500)\n",
            "\n",
            "Frase ejemplo: 'There are only 3 types of Wildlife cards'\n",
            " → Only have 3 types of Wildlife (Similitud Jaccard: 0.5556)\n",
            " → If 3 of the available Wildlife Tokens are the same, then  (Similitud Jaccard: 0.2857)\n",
            " → Overpopulation: 3 of the same Wildlife Token (Similitud Jaccard: 0.2500)\n",
            "\n",
            "Frase ejemplo: 'Casadia ia a geographic region'\n",
            " → A (Similitud Jaccard: 0.2000)\n",
            " → A (Similitud Jaccard: 0.2000)\n",
            " → A (Similitud Jaccard: 0.2000)\n"
          ]
        }
      ]
    },
    {
      "cell_type": "markdown",
      "source": [
        "OPCIONAL: Visualizar en 3D aplicando PCA o t-SNE la ubicación de los fragmentos y la query ingresada vectorizada en el espacio. Realizar una observación sobre la visualización.\n"
      ],
      "metadata": {
        "id": "-0CHsIxw67GP"
      }
    },
    {
      "cell_type": "code",
      "source": [
        "!pip install plotly"
      ],
      "metadata": {
        "id": "YZ1v_X0I6nJv"
      },
      "execution_count": null,
      "outputs": []
    },
    {
      "cell_type": "code",
      "source": [
        "import plotly.graph_objects as go\n",
        "from sklearn.decomposition import PCA\n",
        "import numpy as np\n",
        "\n",
        "# Initialize lists to store all data points for PCA\n",
        "all_vectores = []\n",
        "all_oraciones = []\n",
        "all_colores = []\n",
        "\n",
        "for i, frase in enumerate(frases_ejemplo):\n",
        "    similitudes = util.cos_sim(frases_ejemplo_vectorizadas[i], dataframe)\n",
        "    print(f\"\\nFrase ejemplo: '{frase}'\")\n",
        "\n",
        "    resultados_ordenados = similitudes[0].argsort(descending=True)\n",
        "\n",
        "    # Store data for current phrase\n",
        "    all_oraciones.append(frase)  # include the example phrase\n",
        "    all_vectores.append(frases_ejemplo_vectorizadas[i])\n",
        "    all_colores.append('red')\n",
        "\n",
        "    for idx in resultados_ordenados[:3]:\n",
        "        oracion_similar = texto_extenso.fragmentos(\"oracion\")[idx.item()]\n",
        "        print(f\" → {oracion_similar} (Similitud: {similitudes[0][idx]:.4f})\")\n",
        "\n",
        "        # Store data for similar sentences\n",
        "        all_oraciones.append(oracion_similar)\n",
        "        all_vectores.append(dataframe[idx.item()])\n",
        "        all_colores.append('blue')\n",
        "\n",
        "\n",
        "# Apply PCA to all collected data points\n",
        "pca = PCA(n_components=3)\n",
        "vectores_3d = pca.fit_transform(np.array(all_vectores))\n",
        "x, y, z = vectores_3d[:, 0], vectores_3d[:, 1], vectores_3d[:, 2]\n",
        "hover_text = [f\"{j}: {sent}\" for j, sent in enumerate(all_oraciones)]\n",
        "\n",
        "# Create a single plot with all data points\n",
        "fig = go.Figure()\n",
        "fig.add_trace(go.Scatter3d(\n",
        "    x=x,\n",
        "    y=y,\n",
        "    z=z,\n",
        "    mode='markers+text',\n",
        "    marker=dict(\n",
        "        size=6,\n",
        "        color=all_colores,\n",
        "        opacity=0.8\n",
        "    ),\n",
        "    text=[str(j) for j in range(len(all_oraciones))],\n",
        "    hovertext=hover_text,\n",
        "    hoverinfo='text'\n",
        "))\n",
        "\n",
        "fig.update_layout(\n",
        "    title='Visualización de Frases Ejemplo y Similares',\n",
        "    scene=dict(\n",
        "        xaxis_title='PC 1',\n",
        "        yaxis_title='PC 2',\n",
        "        zaxis_title='PC 3'\n",
        "    ),\n",
        "    showlegend=False\n",
        ")\n",
        "\n",
        "fig.show()"
      ],
      "metadata": {
        "id": "5lrCcmDA39hh",
        "outputId": "1a09fe86-6748-4873-8db0-dbe46357e499",
        "colab": {
          "base_uri": "https://localhost:8080/",
          "height": 802
        }
      },
      "execution_count": 85,
      "outputs": [
        {
          "output_type": "stream",
          "name": "stdout",
          "text": [
            "\n",
            "Frase ejemplo: 'Casadia is a game'\n",
            " → Set up and play a multi-player game of Cascadia using the  (Similitud: 0.5859)\n",
            " → Set up and play a multi-player game of Cascadia following  (Similitud: 0.5751)\n",
            " → The Flatout Games CoLab for Cascadia is: (Similitud: 0.5627)\n",
            "\n",
            "Frase ejemplo: 'There are only 3 types of Wildlife cards'\n",
            " → Only have 3 types of Wildlife (Similitud: 0.7758)\n",
            " → 1 Wildlife Scoring Cards (Similitud: 0.7268)\n",
            " → 1 Wildlife Scoring Cards (Similitud: 0.7268)\n",
            "\n",
            "Frase ejemplo: 'Casadia ia a geographic region'\n",
            " → About the Region (Similitud: 0.5014)\n",
            " → landmarks in the region (Similitud: 0.4970)\n",
            " → wild places wherever you may be, or consider paying Cascadia a visit (Similitud: 0.4175)\n"
          ]
        },
        {
          "output_type": "display_data",
          "data": {
            "text/html": [
              "<html>\n",
              "<head><meta charset=\"utf-8\" /></head>\n",
              "<body>\n",
              "    <div>            <script src=\"https://cdnjs.cloudflare.com/ajax/libs/mathjax/2.7.5/MathJax.js?config=TeX-AMS-MML_SVG\"></script><script type=\"text/javascript\">if (window.MathJax && window.MathJax.Hub && window.MathJax.Hub.Config) {window.MathJax.Hub.Config({SVG: {font: \"STIX-Web\"}});}</script>                <script type=\"text/javascript\">window.PlotlyConfig = {MathJaxConfig: 'local'};</script>\n",
              "        <script charset=\"utf-8\" src=\"https://cdn.plot.ly/plotly-2.35.2.min.js\"></script>                <div id=\"031a6a53-2620-4ea5-ae37-33f269f68516\" class=\"plotly-graph-div\" style=\"height:525px; width:100%;\"></div>            <script type=\"text/javascript\">                                    window.PLOTLYENV=window.PLOTLYENV || {};                                    if (document.getElementById(\"031a6a53-2620-4ea5-ae37-33f269f68516\")) {                    Plotly.newPlot(                        \"031a6a53-2620-4ea5-ae37-33f269f68516\",                        [{\"hoverinfo\":\"text\",\"hovertext\":[\"0: Casadia is a game\",\"1: Set up and play a multi-player game of Cascadia using the \",\"2: Set up and play a multi-player game of Cascadia following \",\"3: The Flatout Games CoLab for Cascadia is:\",\"4: There are only 3 types of Wildlife cards\",\"5: Only have 3 types of Wildlife\",\"6: 1 Wildlife Scoring Cards\",\"7: 1 Wildlife Scoring Cards\",\"8: Casadia ia a geographic region\",\"9: About the Region\",\"10: landmarks in the region\",\"11: wild places wherever you may be, or consider paying Cascadia a visit\"],\"marker\":{\"color\":[\"red\",\"blue\",\"blue\",\"blue\",\"red\",\"blue\",\"blue\",\"blue\",\"red\",\"blue\",\"blue\",\"blue\"],\"opacity\":0.8,\"size\":6},\"mode\":\"markers+text\",\"text\":[\"0\",\"1\",\"2\",\"3\",\"4\",\"5\",\"6\",\"7\",\"8\",\"9\",\"10\",\"11\"],\"x\":[0.47355458,0.4723551,0.46170494,0.39408362,-0.68912935,-0.5354666,-0.65857613,-0.65857625,0.40941268,0.10865969,0.026116755,0.19586077],\"y\":[0.10466473,0.4789535,0.4780574,0.35446945,0.1222511,-0.05794252,0.21842867,0.21842884,-0.43091774,-0.656232,-0.67770934,-0.15245211],\"z\":[0.19512853,-0.032263637,-0.027003475,-0.010213758,-0.20125115,-0.47088692,0.33010924,0.3301094,0.1407123,0.16138287,0.061276298,-0.47709998],\"type\":\"scatter3d\"}],                        {\"template\":{\"data\":{\"histogram2dcontour\":[{\"type\":\"histogram2dcontour\",\"colorbar\":{\"outlinewidth\":0,\"ticks\":\"\"},\"colorscale\":[[0.0,\"#0d0887\"],[0.1111111111111111,\"#46039f\"],[0.2222222222222222,\"#7201a8\"],[0.3333333333333333,\"#9c179e\"],[0.4444444444444444,\"#bd3786\"],[0.5555555555555556,\"#d8576b\"],[0.6666666666666666,\"#ed7953\"],[0.7777777777777778,\"#fb9f3a\"],[0.8888888888888888,\"#fdca26\"],[1.0,\"#f0f921\"]]}],\"choropleth\":[{\"type\":\"choropleth\",\"colorbar\":{\"outlinewidth\":0,\"ticks\":\"\"}}],\"histogram2d\":[{\"type\":\"histogram2d\",\"colorbar\":{\"outlinewidth\":0,\"ticks\":\"\"},\"colorscale\":[[0.0,\"#0d0887\"],[0.1111111111111111,\"#46039f\"],[0.2222222222222222,\"#7201a8\"],[0.3333333333333333,\"#9c179e\"],[0.4444444444444444,\"#bd3786\"],[0.5555555555555556,\"#d8576b\"],[0.6666666666666666,\"#ed7953\"],[0.7777777777777778,\"#fb9f3a\"],[0.8888888888888888,\"#fdca26\"],[1.0,\"#f0f921\"]]}],\"heatmap\":[{\"type\":\"heatmap\",\"colorbar\":{\"outlinewidth\":0,\"ticks\":\"\"},\"colorscale\":[[0.0,\"#0d0887\"],[0.1111111111111111,\"#46039f\"],[0.2222222222222222,\"#7201a8\"],[0.3333333333333333,\"#9c179e\"],[0.4444444444444444,\"#bd3786\"],[0.5555555555555556,\"#d8576b\"],[0.6666666666666666,\"#ed7953\"],[0.7777777777777778,\"#fb9f3a\"],[0.8888888888888888,\"#fdca26\"],[1.0,\"#f0f921\"]]}],\"heatmapgl\":[{\"type\":\"heatmapgl\",\"colorbar\":{\"outlinewidth\":0,\"ticks\":\"\"},\"colorscale\":[[0.0,\"#0d0887\"],[0.1111111111111111,\"#46039f\"],[0.2222222222222222,\"#7201a8\"],[0.3333333333333333,\"#9c179e\"],[0.4444444444444444,\"#bd3786\"],[0.5555555555555556,\"#d8576b\"],[0.6666666666666666,\"#ed7953\"],[0.7777777777777778,\"#fb9f3a\"],[0.8888888888888888,\"#fdca26\"],[1.0,\"#f0f921\"]]}],\"contourcarpet\":[{\"type\":\"contourcarpet\",\"colorbar\":{\"outlinewidth\":0,\"ticks\":\"\"}}],\"contour\":[{\"type\":\"contour\",\"colorbar\":{\"outlinewidth\":0,\"ticks\":\"\"},\"colorscale\":[[0.0,\"#0d0887\"],[0.1111111111111111,\"#46039f\"],[0.2222222222222222,\"#7201a8\"],[0.3333333333333333,\"#9c179e\"],[0.4444444444444444,\"#bd3786\"],[0.5555555555555556,\"#d8576b\"],[0.6666666666666666,\"#ed7953\"],[0.7777777777777778,\"#fb9f3a\"],[0.8888888888888888,\"#fdca26\"],[1.0,\"#f0f921\"]]}],\"surface\":[{\"type\":\"surface\",\"colorbar\":{\"outlinewidth\":0,\"ticks\":\"\"},\"colorscale\":[[0.0,\"#0d0887\"],[0.1111111111111111,\"#46039f\"],[0.2222222222222222,\"#7201a8\"],[0.3333333333333333,\"#9c179e\"],[0.4444444444444444,\"#bd3786\"],[0.5555555555555556,\"#d8576b\"],[0.6666666666666666,\"#ed7953\"],[0.7777777777777778,\"#fb9f3a\"],[0.8888888888888888,\"#fdca26\"],[1.0,\"#f0f921\"]]}],\"mesh3d\":[{\"type\":\"mesh3d\",\"colorbar\":{\"outlinewidth\":0,\"ticks\":\"\"}}],\"scatter\":[{\"fillpattern\":{\"fillmode\":\"overlay\",\"size\":10,\"solidity\":0.2},\"type\":\"scatter\"}],\"parcoords\":[{\"type\":\"parcoords\",\"line\":{\"colorbar\":{\"outlinewidth\":0,\"ticks\":\"\"}}}],\"scatterpolargl\":[{\"type\":\"scatterpolargl\",\"marker\":{\"colorbar\":{\"outlinewidth\":0,\"ticks\":\"\"}}}],\"bar\":[{\"error_x\":{\"color\":\"#2a3f5f\"},\"error_y\":{\"color\":\"#2a3f5f\"},\"marker\":{\"line\":{\"color\":\"#E5ECF6\",\"width\":0.5},\"pattern\":{\"fillmode\":\"overlay\",\"size\":10,\"solidity\":0.2}},\"type\":\"bar\"}],\"scattergeo\":[{\"type\":\"scattergeo\",\"marker\":{\"colorbar\":{\"outlinewidth\":0,\"ticks\":\"\"}}}],\"scatterpolar\":[{\"type\":\"scatterpolar\",\"marker\":{\"colorbar\":{\"outlinewidth\":0,\"ticks\":\"\"}}}],\"histogram\":[{\"marker\":{\"pattern\":{\"fillmode\":\"overlay\",\"size\":10,\"solidity\":0.2}},\"type\":\"histogram\"}],\"scattergl\":[{\"type\":\"scattergl\",\"marker\":{\"colorbar\":{\"outlinewidth\":0,\"ticks\":\"\"}}}],\"scatter3d\":[{\"type\":\"scatter3d\",\"line\":{\"colorbar\":{\"outlinewidth\":0,\"ticks\":\"\"}},\"marker\":{\"colorbar\":{\"outlinewidth\":0,\"ticks\":\"\"}}}],\"scattermapbox\":[{\"type\":\"scattermapbox\",\"marker\":{\"colorbar\":{\"outlinewidth\":0,\"ticks\":\"\"}}}],\"scatterternary\":[{\"type\":\"scatterternary\",\"marker\":{\"colorbar\":{\"outlinewidth\":0,\"ticks\":\"\"}}}],\"scattercarpet\":[{\"type\":\"scattercarpet\",\"marker\":{\"colorbar\":{\"outlinewidth\":0,\"ticks\":\"\"}}}],\"carpet\":[{\"aaxis\":{\"endlinecolor\":\"#2a3f5f\",\"gridcolor\":\"white\",\"linecolor\":\"white\",\"minorgridcolor\":\"white\",\"startlinecolor\":\"#2a3f5f\"},\"baxis\":{\"endlinecolor\":\"#2a3f5f\",\"gridcolor\":\"white\",\"linecolor\":\"white\",\"minorgridcolor\":\"white\",\"startlinecolor\":\"#2a3f5f\"},\"type\":\"carpet\"}],\"table\":[{\"cells\":{\"fill\":{\"color\":\"#EBF0F8\"},\"line\":{\"color\":\"white\"}},\"header\":{\"fill\":{\"color\":\"#C8D4E3\"},\"line\":{\"color\":\"white\"}},\"type\":\"table\"}],\"barpolar\":[{\"marker\":{\"line\":{\"color\":\"#E5ECF6\",\"width\":0.5},\"pattern\":{\"fillmode\":\"overlay\",\"size\":10,\"solidity\":0.2}},\"type\":\"barpolar\"}],\"pie\":[{\"automargin\":true,\"type\":\"pie\"}]},\"layout\":{\"autotypenumbers\":\"strict\",\"colorway\":[\"#636efa\",\"#EF553B\",\"#00cc96\",\"#ab63fa\",\"#FFA15A\",\"#19d3f3\",\"#FF6692\",\"#B6E880\",\"#FF97FF\",\"#FECB52\"],\"font\":{\"color\":\"#2a3f5f\"},\"hovermode\":\"closest\",\"hoverlabel\":{\"align\":\"left\"},\"paper_bgcolor\":\"white\",\"plot_bgcolor\":\"#E5ECF6\",\"polar\":{\"bgcolor\":\"#E5ECF6\",\"angularaxis\":{\"gridcolor\":\"white\",\"linecolor\":\"white\",\"ticks\":\"\"},\"radialaxis\":{\"gridcolor\":\"white\",\"linecolor\":\"white\",\"ticks\":\"\"}},\"ternary\":{\"bgcolor\":\"#E5ECF6\",\"aaxis\":{\"gridcolor\":\"white\",\"linecolor\":\"white\",\"ticks\":\"\"},\"baxis\":{\"gridcolor\":\"white\",\"linecolor\":\"white\",\"ticks\":\"\"},\"caxis\":{\"gridcolor\":\"white\",\"linecolor\":\"white\",\"ticks\":\"\"}},\"coloraxis\":{\"colorbar\":{\"outlinewidth\":0,\"ticks\":\"\"}},\"colorscale\":{\"sequential\":[[0.0,\"#0d0887\"],[0.1111111111111111,\"#46039f\"],[0.2222222222222222,\"#7201a8\"],[0.3333333333333333,\"#9c179e\"],[0.4444444444444444,\"#bd3786\"],[0.5555555555555556,\"#d8576b\"],[0.6666666666666666,\"#ed7953\"],[0.7777777777777778,\"#fb9f3a\"],[0.8888888888888888,\"#fdca26\"],[1.0,\"#f0f921\"]],\"sequentialminus\":[[0.0,\"#0d0887\"],[0.1111111111111111,\"#46039f\"],[0.2222222222222222,\"#7201a8\"],[0.3333333333333333,\"#9c179e\"],[0.4444444444444444,\"#bd3786\"],[0.5555555555555556,\"#d8576b\"],[0.6666666666666666,\"#ed7953\"],[0.7777777777777778,\"#fb9f3a\"],[0.8888888888888888,\"#fdca26\"],[1.0,\"#f0f921\"]],\"diverging\":[[0,\"#8e0152\"],[0.1,\"#c51b7d\"],[0.2,\"#de77ae\"],[0.3,\"#f1b6da\"],[0.4,\"#fde0ef\"],[0.5,\"#f7f7f7\"],[0.6,\"#e6f5d0\"],[0.7,\"#b8e186\"],[0.8,\"#7fbc41\"],[0.9,\"#4d9221\"],[1,\"#276419\"]]},\"xaxis\":{\"gridcolor\":\"white\",\"linecolor\":\"white\",\"ticks\":\"\",\"title\":{\"standoff\":15},\"zerolinecolor\":\"white\",\"automargin\":true,\"zerolinewidth\":2},\"yaxis\":{\"gridcolor\":\"white\",\"linecolor\":\"white\",\"ticks\":\"\",\"title\":{\"standoff\":15},\"zerolinecolor\":\"white\",\"automargin\":true,\"zerolinewidth\":2},\"scene\":{\"xaxis\":{\"backgroundcolor\":\"#E5ECF6\",\"gridcolor\":\"white\",\"linecolor\":\"white\",\"showbackground\":true,\"ticks\":\"\",\"zerolinecolor\":\"white\",\"gridwidth\":2},\"yaxis\":{\"backgroundcolor\":\"#E5ECF6\",\"gridcolor\":\"white\",\"linecolor\":\"white\",\"showbackground\":true,\"ticks\":\"\",\"zerolinecolor\":\"white\",\"gridwidth\":2},\"zaxis\":{\"backgroundcolor\":\"#E5ECF6\",\"gridcolor\":\"white\",\"linecolor\":\"white\",\"showbackground\":true,\"ticks\":\"\",\"zerolinecolor\":\"white\",\"gridwidth\":2}},\"shapedefaults\":{\"line\":{\"color\":\"#2a3f5f\"}},\"annotationdefaults\":{\"arrowcolor\":\"#2a3f5f\",\"arrowhead\":0,\"arrowwidth\":1},\"geo\":{\"bgcolor\":\"white\",\"landcolor\":\"#E5ECF6\",\"subunitcolor\":\"white\",\"showland\":true,\"showlakes\":true,\"lakecolor\":\"white\"},\"title\":{\"x\":0.05},\"mapbox\":{\"style\":\"light\"}}},\"title\":{\"text\":\"Visualización de Frases Ejemplo y Similares\"},\"scene\":{\"xaxis\":{\"title\":{\"text\":\"PC 1\"}},\"yaxis\":{\"title\":{\"text\":\"PC 2\"}},\"zaxis\":{\"title\":{\"text\":\"PC 3\"}}},\"showlegend\":false},                        {\"responsive\": true}                    ).then(function(){\n",
              "                            \n",
              "var gd = document.getElementById('031a6a53-2620-4ea5-ae37-33f269f68516');\n",
              "var x = new MutationObserver(function (mutations, observer) {{\n",
              "        var display = window.getComputedStyle(gd).display;\n",
              "        if (!display || display === 'none') {{\n",
              "            console.log([gd, 'removed!']);\n",
              "            Plotly.purge(gd);\n",
              "            observer.disconnect();\n",
              "        }}\n",
              "}});\n",
              "\n",
              "// Listen for the removal of the full notebook cells\n",
              "var notebookContainer = gd.closest('#notebook-container');\n",
              "if (notebookContainer) {{\n",
              "    x.observe(notebookContainer, {childList: true});\n",
              "}}\n",
              "\n",
              "// Listen for the clearing of the current output cell\n",
              "var outputEl = gd.closest('.output');\n",
              "if (outputEl) {{\n",
              "    x.observe(outputEl, {childList: true});\n",
              "}}\n",
              "\n",
              "                        })                };                            </script>        </div>\n",
              "</body>\n",
              "</html>"
            ]
          },
          "metadata": {}
        }
      ]
    },
    {
      "cell_type": "markdown",
      "source": [
        "de la teoria:: Los métodos Count Vectorizer y TF-IDF capturan la aparición o frecuencia de palabras. Si bien admiten el uso\n",
        "de similitud de coseno, la cercanía estará dada por las similitudes en cuanto a la presencia o cuenta de las\n",
        "mismas palabras, y no por su similitud semántica o de contexto, como en el caso de los modelos de\n",
        "embeddings.\n"
      ],
      "metadata": {
        "id": "HNBtDcVhbu9l"
      }
    },
    {
      "cell_type": "markdown",
      "source": [
        "## EJERCICIO 3\n",
        "Apoyándose nuevamente en la sección de información. Recoge un texto extenso extraído, divídelos en fragmentos, luego realiza extracciones de sustantivos (POS) y categoriza estos sustantivos (NER), a continuación realiza una búsqueda de similitud filtrando por sustantivos, compara las distintas técnicas de distancias vistas en clases, elija la mejor y justifique la razón por la que esta técnica se ajusta para este tipo de búsquedas.\n"
      ],
      "metadata": {
        "id": "NZ06MDkrslqx"
      }
    },
    {
      "cell_type": "markdown",
      "source": [
        "## EJERCICIO 4\n",
        "Mediante detección de idioma, separar los archivos en distintos lenguajes y guardar esa\n",
        "información en un dataframe.\n"
      ],
      "metadata": {
        "id": "O53-k9llsnnM"
      }
    },
    {
      "cell_type": "markdown",
      "source": [
        "##EJERCICIO 5\n",
        "En el caso de las reseñas realizadas por usuarios, utiliza análisis de sentimientos con modelos pre entrenados y guarda la clasificación predecida de cada reseña.\n",
        "\n",
        "Luego, crea un sistema de búsquedas por similitud semántica y que permita filtrar por sentimiento para obtener.\n"
      ],
      "metadata": {
        "id": "c2dgwPcvspc9"
      }
    },
    {
      "cell_type": "markdown",
      "source": [
        "## EJERCICIO 6\n",
        "Crea un set de datos de consultas (más de 300 preguntas en total) y categorizalas entre la\n",
        "fuente de datos que pueda llegar a responder esa pregunta entre estadísticas,\n",
        "información y relaciones.\n",
        "Por ejemplo:\n",
        "- ¿Cómo gano en el ajedrez? -> Información\n",
        "- ¿Quién trabajó para el ta-te-ti? -> Relaciones\n",
        "- ¿Qué puntaje tienen las damas? -> Estadística\n",
        "A continuación, transforma esas consultas en vectores y entrena un modelo de clasificación\n",
        "(a gusto del estudiante) en donde pueda predecir la categoría a través de la consulta\n",
        "ingresada.\n",
        "Agregar métricas y análisis durante todo el desarrollo, trabaje en varios modelos y\n",
        "comparelos."
      ],
      "metadata": {
        "id": "k1Uw6TrDsqxE"
      }
    },
    {
      "cell_type": "code",
      "execution_count": null,
      "metadata": {
        "id": "HGhk1idkrLsC"
      },
      "outputs": [],
      "source": []
    }
  ]
}