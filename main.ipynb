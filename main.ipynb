{
  "nbformat": 4,
  "nbformat_minor": 0,
  "metadata": {
    "colab": {
      "provenance": [],
      "authorship_tag": "ABX9TyOx5EDO3PDXNIg885oyR7EL",
      "include_colab_link": true
    },
    "kernelspec": {
      "name": "python3",
      "display_name": "Python 3"
    },
    "language_info": {
      "name": "python"
    }
  },
  "cells": [
    {
      "cell_type": "markdown",
      "metadata": {
        "id": "view-in-github",
        "colab_type": "text"
      },
      "source": [
        "<a href=\"https://colab.research.google.com/github/itssofiarce/NLP-2025/blob/main/main.ipynb\" target=\"_parent\"><img src=\"https://colab.research.google.com/assets/colab-badge.svg\" alt=\"Open In Colab\"/></a>"
      ]
    },
    {
      "cell_type": "markdown",
      "source": [
        "## Procesamiento del Lenguaje Natural - 2025\n",
        "\n",
        "### Trabajo Práctico\n",
        "\n",
        "Arce, Sofía."
      ],
      "metadata": {
        "id": "x_EvKNTurstJ"
      }
    },
    {
      "cell_type": "markdown",
      "source": [
        "## Preparación de entorno"
      ],
      "metadata": {
        "id": "WysTa0aAtJlQ"
      }
    },
    {
      "cell_type": "code",
      "source": [
        "# Clonamos el reposotorio y el directorio de los datos\n",
        "import os\n",
        "\n",
        "REPO_NAME = \"NLP-2025\"\n",
        "if REPO_NAME not in os.getcwd():\n",
        "  if not os.path.exists(REPO_NAME):\n",
        "    !git clone https://github.com/itssofiarce/{REPO_NAME}.git\n",
        "  os.chdir(REPO_NAME)"
      ],
      "metadata": {
        "id": "Y7XGcTWxtYhV"
      },
      "execution_count": 22,
      "outputs": []
    },
    {
      "cell_type": "markdown",
      "source": [
        "### Pre analísis de la información .txt"
      ],
      "metadata": {
        "id": "PuIME37GG1VG"
      }
    },
    {
      "cell_type": "code",
      "source": [
        "# Texto mas extenso\n",
        "longitud = {}\n",
        "informacion = os.listdir('/content/NLP-2025/NLP_CASCADIA/datos/información')\n",
        "\n",
        "for texto in informacion:\n",
        "  contenido = open(f'/content/NLP-2025/NLP_CASCADIA/datos/información/{texto}', 'r')\n",
        "  # Cuento solo las palabras\n",
        "\n",
        "  longitud[texto] = len(contenido.read().split())\n",
        "\n",
        "print(longitud)\n"
      ],
      "metadata": {
        "colab": {
          "base_uri": "https://localhost:8080/"
        },
        "id": "cDoWo-0hG01w",
        "outputId": "7170736a-47f6-42ad-e050-015385437a34"
      },
      "execution_count": 23,
      "outputs": [
        {
          "output_type": "stream",
          "name": "stdout",
          "text": [
            "{'whatboardgame_review.txt': 2288, 'board_game_co_uk_guide.txt': 127, 'flatout_games.txt': 298, 'boardgamereview_review.txt': 2606, 'cascadia_manual.txt': 6734, 'bluehighwaygames_description.txt': 908, 'oneboardfamily_review.txt': 1592}\n"
          ]
        }
      ]
    },
    {
      "cell_type": "markdown",
      "source": [
        "En base al output de arriba el texto mas extenso es el manual de cascadia con 6734 palabras.\n",
        "\n"
      ],
      "metadata": {
        "id": "fKUWkY-NJr2j"
      }
    },
    {
      "cell_type": "markdown",
      "source": [
        "Para facilitar el desarrollo del Trabajo Práctico crearé la clase \"TextoParaAnalizar\" con los metodós necesarios para completar los enunciados."
      ],
      "metadata": {
        "id": "WuGJ1zh-KYHr"
      }
    },
    {
      "cell_type": "code",
      "source": [
        "import pandas as pd"
      ],
      "metadata": {
        "id": "OQoKd182ozec"
      },
      "execution_count": 24,
      "outputs": []
    },
    {
      "cell_type": "code",
      "source": [
        "# Funciones adicionales\n",
        "def entorno_modelo(tipo_embedding):\n",
        "  if tipo_embedding == \"CountVectorizer\":\n",
        "\n",
        "    from sklearn.feature_extraction.text import CountVectorizer\n",
        "    model = CountVectorizer()\n",
        "\n",
        "  elif tipo_embedding == \"sentencetransformer\":\n",
        "    !pip install -U sentence-transformers\n",
        "    from sentence_transformers import SentenceTransformer\n",
        "    model = SentenceTransformer('all-MiniLM-L6-v2')\n",
        "\n",
        "  elif tipo_embedding == \"spacy\":\n",
        "    !python -m spacy download es_core_news_sm\n",
        "    import spacy\n",
        "    model = spacy.load(\"en_core_news_sm\")\n",
        "\n",
        "  return model\n"
      ],
      "metadata": {
        "id": "h0JM5JPSjrs4"
      },
      "execution_count": 115,
      "outputs": []
    },
    {
      "cell_type": "code",
      "source": [
        "class TextoParaAnalizar:\n",
        "\n",
        "  def __init__(self, text):\n",
        "    # Validar path del archivo\n",
        "    if not os.path.exists(text):\n",
        "      raise Exception('El archivo no existe')\n",
        "    self.text = text\n",
        "\n",
        "  def __str__(self):\n",
        "    \"\"\" Devuelve el contenido del texto \"\"\"\n",
        "    with open(self.text, 'r') as f:\n",
        "      return f.read()\n",
        "\n",
        "  def fragmentos(self, fragmento=\"palabra\"):\n",
        "    \"\"\" Devuelve una lista de fragmentos del texto.\n",
        "      - \"Fragmento: oracion\"\n",
        "      - \"Fragmento: palabra\"\n",
        "    \"\"\"\n",
        "    import re\n",
        "    texto_limpio = re.sub(r'[().!]', '', self.__str__())\n",
        "    if fragmento == \"oracion\":\n",
        "      texto_limpio =[line for line in texto_limpio.splitlines() if line.strip()]\n",
        "      return texto_limpio\n",
        "    return texto_limpio.split()\n",
        "\n",
        "\n",
        "  def vectorizar(self, tipo: str = \"sentencetransformer\"):\n",
        "    \"\"\" Vectoriza los fragmentos y los devuelve en un dataset. Por default usa ul modelo ContextDependent como word2vec.\n",
        "        tipo:\n",
        "        - \"ContextDependent: CountVectorizer\"\n",
        "        - \"ContextIndependent: \"\" sentencetransformer \"\"\"\n",
        "    import pandas as pd\n",
        "    modelo = entorno_modelo(tipo)\n",
        "    oraciones = self.fragmentos(\"oracion\")\n",
        "    embeddings = []\n",
        "\n",
        "    if tipo == \"CountVectorizer\":\n",
        "      X = modelo.fit_transform(oraciones)\n",
        "      response_new = pd.DataFrame(X.toarray(), columns=modelo.get_feature_names_out())\n",
        "\n",
        "    elif tipo == \"sentencetransformer\":\n",
        "      response_new = modelo.encode(oraciones)\n",
        "\n",
        "    return response_new, modelo\n",
        "\n",
        "  def extraer_sustantivos(self):\n",
        "      \"\"\" Extrae los sustantivos de un texto \"\"\"\n",
        "\n",
        "      modelo = entorno_modelo(\"spacy\")\n",
        "      oraciones = self.fragmentos(\"oracion\")\n",
        "\n",
        "      sustantivos_por_oracion = []\n",
        "      for oracion in oraciones:\n",
        "        doc = modelo(oracion)\n",
        "        sustantivos = [token.text.lower() for token in doc if token.pos_ == \"NOUN\"]\n",
        "        entidades = [ent.text for ent in doc.ents if ent.label_ in (\"ORG\", \"GPE\", \"LOC\", \"PRODUCT\", \"PERSON\")]\n",
        "        sustantivos_por_oracion.append(sustantivos)\n",
        "        entidades_por_oracion.append(entidades)\n",
        "\n",
        "      return sustantivos"
      ],
      "metadata": {
        "id": "dxPsLpchFDQW"
      },
      "execution_count": null,
      "outputs": []
    },
    {
      "cell_type": "markdown",
      "source": [
        "## EJERCICIO 2\n",
        "Apoyándose en la sección de información. Separa en fragmentos un texto extenso extraído y vectoriza cada fragmento con alguno de los modelos de embedding vistos en clases."
      ],
      "metadata": {
        "id": "Jnu8naJLshLD"
      }
    },
    {
      "cell_type": "code",
      "source": [
        "texto_extenso = TextoParaAnalizar('/content/NLP-2025/NLP_CASCADIA/datos/información/cascadia_manual.txt')"
      ],
      "metadata": {
        "id": "uilsKM2ptIKD"
      },
      "execution_count": 28,
      "outputs": []
    },
    {
      "cell_type": "markdown",
      "source": [
        "En el bloque de codigo de arriba, dataframe es un diccionario que almacena en forma de lista, las palabras de las oraciones, esto el permite a word2vec aprender mejor el contexto de las mismas. Luego entrenamos el modelo y lo guardamos."
      ],
      "metadata": {
        "id": "l48BSpaBAyzt"
      }
    },
    {
      "cell_type": "markdown",
      "source": [
        "Las palabras \"rules\" y \"games\" tienen una similitud cerca de uno por lo que significa que son palabras cuyos embeddings estan cerca en el espacio y por lo tanto, estan relacionadas en cuanto a significado. Ahora entrenaré otro modelo para probarlo con frases."
      ],
      "metadata": {
        "id": "oAskidedEU_Q"
      }
    },
    {
      "cell_type": "code",
      "source": [
        "# Separo en palabras y vectorizo\n",
        "dataframe, model = texto_extenso.vectorizar(\"CountVectorizer\")"
      ],
      "metadata": {
        "id": "ignT9XVCKZhW"
      },
      "execution_count": null,
      "outputs": []
    },
    {
      "cell_type": "code",
      "source": [
        "# Separo en frases\n",
        "dataframe, model = texto_extenso.vectorizar(\"sentencetransformer\")"
      ],
      "metadata": {
        "id": "DBfDJSBGdIyq"
      },
      "execution_count": null,
      "outputs": []
    },
    {
      "cell_type": "markdown",
      "source": [
        "Luego realiza un análisis de similitud de texto ingresando varias frases a buscar semánticamente, compare distintas técnicas de distancias vistas en clases, elija la mejor y justifique la razón por la que esa técnica se ajusta para este tipo de búsquedas.\n",
        "\n"
      ],
      "metadata": {
        "id": "FCULlDu74BDx"
      }
    },
    {
      "cell_type": "code",
      "source": [
        "# Calcular la similutid del coseno entre las frases_ejemplo y todo el texto.\n",
        "from sentence_transformers import util\n",
        "frases_ejemplo=[\"Casadia is a game\", \"There are only 3 types of Wildlife cards\", \"Casadia ia a geographic region\"]\n",
        "frases_ejemplo_vectorizadas = model.encode(frases_ejemplo)"
      ],
      "metadata": {
        "id": "3wGkhFnshYdf"
      },
      "execution_count": 37,
      "outputs": []
    },
    {
      "cell_type": "code",
      "source": [
        "to_plot_coincidencias=[]\n",
        "to_plot_coincidencias_vectorizadas=[]"
      ],
      "metadata": {
        "id": "QsOYRKYf_hcb"
      },
      "execution_count": 74,
      "outputs": []
    },
    {
      "cell_type": "code",
      "source": [
        "for i, frase in enumerate(frases_ejemplo):\n",
        "    similitudes = util.cos_sim(frases_ejemplo_vectorizadas[i], dataframe)\n",
        "    print(f\"\\nFrase ejemplo: '{frase}'\")\n",
        "    # Mostrar las frases del texto más similares a esta\n",
        "    resultados_ordenados = similitudes[0].argsort(descending=True)\n",
        "    for idx in resultados_ordenados[:3]:  # Top 3 resultados\n",
        "        # Busco por idx la oracion original\n",
        "        to_plot_coincidencias.append(texto_extenso.fragmentos(\"oracion\")[idx])\n",
        "        to_plot_coincidencias_vectorizadas.append(dataframe[idx])\n",
        "        oracion_similar = texto_extenso.fragmentos(\"oracion\")[idx.item()]\n",
        "        print(f\" → {oracion_similar} (Similitud: {similitudes[0][idx]:.4f})\")"
      ],
      "metadata": {
        "colab": {
          "base_uri": "https://localhost:8080/"
        },
        "id": "fATK6cd8wgix",
        "outputId": "4db13343-1aff-4953-ce21-84ec8ff147d7"
      },
      "execution_count": 75,
      "outputs": [
        {
          "output_type": "stream",
          "name": "stdout",
          "text": [
            "\n",
            "Frase ejemplo: 'Casadia is a game'\n",
            " → Set up and play a multi-player game of Cascadia using the  (Similitud: 0.5859)\n",
            " → Set up and play a multi-player game of Cascadia following  (Similitud: 0.5751)\n",
            " → The Flatout Games CoLab for Cascadia is: (Similitud: 0.5627)\n",
            "\n",
            "Frase ejemplo: 'There are only 3 types of Wildlife cards'\n",
            " → Only have 3 types of Wildlife (Similitud: 0.7758)\n",
            " → 1 Wildlife Scoring Cards (Similitud: 0.7268)\n",
            " → 1 Wildlife Scoring Cards (Similitud: 0.7268)\n",
            "\n",
            "Frase ejemplo: 'Casadia ia a geographic region'\n",
            " → About the Region (Similitud: 0.5014)\n",
            " → landmarks in the region (Similitud: 0.4970)\n",
            " → wild places wherever you may be, or consider paying Cascadia a visit (Similitud: 0.4175)\n"
          ]
        }
      ]
    },
    {
      "cell_type": "code",
      "source": [
        "# Similitud de Jaccard\n",
        "def jaccard_similarity(str1, str2):\n",
        "    set1 = set(str1.lower().split())\n",
        "    set2 = set(str2.lower().split())\n",
        "    return len(set1 & set2) / len(set1 | set2) if set1 | set2 else 0"
      ],
      "metadata": {
        "id": "EaBl7Pyn2Qx3"
      },
      "execution_count": 41,
      "outputs": []
    },
    {
      "cell_type": "code",
      "source": [
        "from sentence_transformers import util\n",
        "\n",
        "frases_ejemplo = [\"Casadia is a game\", \"There are only 3 types of Wildlife cards\", \"Casadia ia a geographic region\"]\n",
        "\n",
        "for i, frase in enumerate(frases_ejemplo):\n",
        "    print(f\"\\nFrase ejemplo: '{frase}'\")\n",
        "\n",
        "    # Calculate Jaccard similarity for each fragment in the text\n",
        "    similitudes_jaccard = [jaccard_similarity(frase, oracion) for oracion in texto_extenso.fragmentos(\"oracion\")]\n",
        "\n",
        "    # Get the indices of the top 3 most similar sentences\n",
        "    resultados_ordenados_jaccard = sorted(range(len(similitudes_jaccard)), key=lambda i: similitudes_jaccard[i], reverse=True)[:3]\n",
        "\n",
        "    # Print the top 3 most similar sentences and their Jaccard similarities\n",
        "    for idx in resultados_ordenados_jaccard:\n",
        "        oracion_similar = texto_extenso.fragmentos(\"oracion\")[idx]\n",
        "        print(f\" → {oracion_similar} (Similitud Jaccard: {similitudes_jaccard[idx]:.4f})\")"
      ],
      "metadata": {
        "colab": {
          "base_uri": "https://localhost:8080/"
        },
        "id": "EedMbbJQ5SXJ",
        "outputId": "ed767d08-68b7-461b-bd10-544baf673d9a"
      },
      "execution_count": 46,
      "outputs": [
        {
          "output_type": "stream",
          "name": "stdout",
          "text": [
            "\n",
            "Frase ejemplo: 'Casadia is a game'\n",
            " → This tile is a Keystone  (Similitud Jaccard: 0.2857)\n",
            " → A (Similitud Jaccard: 0.2500)\n",
            " → A (Similitud Jaccard: 0.2500)\n",
            "\n",
            "Frase ejemplo: 'There are only 3 types of Wildlife cards'\n",
            " → Only have 3 types of Wildlife (Similitud Jaccard: 0.5556)\n",
            " → If 3 of the available Wildlife Tokens are the same, then  (Similitud Jaccard: 0.2857)\n",
            " → Overpopulation: 3 of the same Wildlife Token (Similitud Jaccard: 0.2500)\n",
            "\n",
            "Frase ejemplo: 'Casadia ia a geographic region'\n",
            " → A (Similitud Jaccard: 0.2000)\n",
            " → A (Similitud Jaccard: 0.2000)\n",
            " → A (Similitud Jaccard: 0.2000)\n"
          ]
        }
      ]
    },
    {
      "cell_type": "markdown",
      "source": [
        "OPCIONAL: Visualizar en 3D aplicando PCA o t-SNE la ubicación de los fragmentos y la query ingresada vectorizada en el espacio. Realizar una observación sobre la visualización.\n"
      ],
      "metadata": {
        "id": "-0CHsIxw67GP"
      }
    },
    {
      "cell_type": "code",
      "source": [
        "!pip install plotly"
      ],
      "metadata": {
        "id": "YZ1v_X0I6nJv"
      },
      "execution_count": null,
      "outputs": []
    },
    {
      "cell_type": "code",
      "source": [
        "import plotly.graph_objects as go\n",
        "from sklearn.decomposition import PCA\n",
        "import numpy as np\n",
        "\n",
        "# Initialize lists to store all data points for PCA\n",
        "all_vectores = []\n",
        "all_oraciones = []\n",
        "all_colores = []\n",
        "\n",
        "for i, frase in enumerate(frases_ejemplo):\n",
        "    similitudes = util.cos_sim(frases_ejemplo_vectorizadas[i], dataframe)\n",
        "    print(f\"\\nFrase ejemplo: '{frase}'\")\n",
        "\n",
        "    resultados_ordenados = similitudes[0].argsort(descending=True)\n",
        "\n",
        "    # Store data for current phrase\n",
        "    all_oraciones.append(frase)  # include the example phrase\n",
        "    all_vectores.append(frases_ejemplo_vectorizadas[i])\n",
        "    all_colores.append('red')\n",
        "\n",
        "    for idx in resultados_ordenados[:3]:\n",
        "        oracion_similar = texto_extenso.fragmentos(\"oracion\")[idx.item()]\n",
        "        print(f\" → {oracion_similar} (Similitud: {similitudes[0][idx]:.4f})\")\n",
        "\n",
        "        # Store data for similar sentences\n",
        "        all_oraciones.append(oracion_similar)\n",
        "        all_vectores.append(dataframe[idx.item()])\n",
        "        all_colores.append('blue')\n",
        "\n",
        "\n",
        "# Apply PCA to all collected data points\n",
        "pca = PCA(n_components=3)\n",
        "vectores_3d = pca.fit_transform(np.array(all_vectores))\n",
        "x, y, z = vectores_3d[:, 0], vectores_3d[:, 1], vectores_3d[:, 2]\n",
        "hover_text = [f\"{j}: {sent}\" for j, sent in enumerate(all_oraciones)]\n",
        "\n",
        "# Create a single plot with all data points\n",
        "fig = go.Figure()\n",
        "fig.add_trace(go.Scatter3d(\n",
        "    x=x,\n",
        "    y=y,\n",
        "    z=z,\n",
        "    mode='markers+text',\n",
        "    marker=dict(\n",
        "        size=6,\n",
        "        color=all_colores,\n",
        "        opacity=0.8\n",
        "    ),\n",
        "    text=[str(j) for j in range(len(all_oraciones))],\n",
        "    hovertext=hover_text,\n",
        "    hoverinfo='text'\n",
        "))\n",
        "\n",
        "fig.update_layout(\n",
        "    title='Visualización de Frases Ejemplo y Similares',\n",
        "    scene=dict(\n",
        "        xaxis_title='PC 1',\n",
        "        yaxis_title='PC 2',\n",
        "        zaxis_title='PC 3'\n",
        "    ),\n",
        "    showlegend=False\n",
        ")\n",
        "\n",
        "fig.show()"
      ],
      "metadata": {
        "id": "5lrCcmDA39hh",
        "colab": {
          "base_uri": "https://localhost:8080/",
          "height": 802
        },
        "outputId": "1a09fe86-6748-4873-8db0-dbe46357e499"
      },
      "execution_count": 85,
      "outputs": [
        {
          "output_type": "stream",
          "name": "stdout",
          "text": [
            "\n",
            "Frase ejemplo: 'Casadia is a game'\n",
            " → Set up and play a multi-player game of Cascadia using the  (Similitud: 0.5859)\n",
            " → Set up and play a multi-player game of Cascadia following  (Similitud: 0.5751)\n",
            " → The Flatout Games CoLab for Cascadia is: (Similitud: 0.5627)\n",
            "\n",
            "Frase ejemplo: 'There are only 3 types of Wildlife cards'\n",
            " → Only have 3 types of Wildlife (Similitud: 0.7758)\n",
            " → 1 Wildlife Scoring Cards (Similitud: 0.7268)\n",
            " → 1 Wildlife Scoring Cards (Similitud: 0.7268)\n",
            "\n",
            "Frase ejemplo: 'Casadia ia a geographic region'\n",
            " → About the Region (Similitud: 0.5014)\n",
            " → landmarks in the region (Similitud: 0.4970)\n",
            " → wild places wherever you may be, or consider paying Cascadia a visit (Similitud: 0.4175)\n"
          ]
        },
        {
          "output_type": "display_data",
          "data": {
            "text/html": [
              "<html>\n",
              "<head><meta charset=\"utf-8\" /></head>\n",
              "<body>\n",
              "    <div>            <script src=\"https://cdnjs.cloudflare.com/ajax/libs/mathjax/2.7.5/MathJax.js?config=TeX-AMS-MML_SVG\"></script><script type=\"text/javascript\">if (window.MathJax && window.MathJax.Hub && window.MathJax.Hub.Config) {window.MathJax.Hub.Config({SVG: {font: \"STIX-Web\"}});}</script>                <script type=\"text/javascript\">window.PlotlyConfig = {MathJaxConfig: 'local'};</script>\n",
              "        <script charset=\"utf-8\" src=\"https://cdn.plot.ly/plotly-2.35.2.min.js\"></script>                <div id=\"031a6a53-2620-4ea5-ae37-33f269f68516\" class=\"plotly-graph-div\" style=\"height:525px; width:100%;\"></div>            <script type=\"text/javascript\">                                    window.PLOTLYENV=window.PLOTLYENV || {};                                    if (document.getElementById(\"031a6a53-2620-4ea5-ae37-33f269f68516\")) {                    Plotly.newPlot(                        \"031a6a53-2620-4ea5-ae37-33f269f68516\",                        [{\"hoverinfo\":\"text\",\"hovertext\":[\"0: Casadia is a game\",\"1: Set up and play a multi-player game of Cascadia using the \",\"2: Set up and play a multi-player game of Cascadia following \",\"3: The Flatout Games CoLab for Cascadia is:\",\"4: There are only 3 types of Wildlife cards\",\"5: Only have 3 types of Wildlife\",\"6: 1 Wildlife Scoring Cards\",\"7: 1 Wildlife Scoring Cards\",\"8: Casadia ia a geographic region\",\"9: About the Region\",\"10: landmarks in the region\",\"11: wild places wherever you may be, or consider paying Cascadia a visit\"],\"marker\":{\"color\":[\"red\",\"blue\",\"blue\",\"blue\",\"red\",\"blue\",\"blue\",\"blue\",\"red\",\"blue\",\"blue\",\"blue\"],\"opacity\":0.8,\"size\":6},\"mode\":\"markers+text\",\"text\":[\"0\",\"1\",\"2\",\"3\",\"4\",\"5\",\"6\",\"7\",\"8\",\"9\",\"10\",\"11\"],\"x\":[0.47355458,0.4723551,0.46170494,0.39408362,-0.68912935,-0.5354666,-0.65857613,-0.65857625,0.40941268,0.10865969,0.026116755,0.19586077],\"y\":[0.10466473,0.4789535,0.4780574,0.35446945,0.1222511,-0.05794252,0.21842867,0.21842884,-0.43091774,-0.656232,-0.67770934,-0.15245211],\"z\":[0.19512853,-0.032263637,-0.027003475,-0.010213758,-0.20125115,-0.47088692,0.33010924,0.3301094,0.1407123,0.16138287,0.061276298,-0.47709998],\"type\":\"scatter3d\"}],                        {\"template\":{\"data\":{\"histogram2dcontour\":[{\"type\":\"histogram2dcontour\",\"colorbar\":{\"outlinewidth\":0,\"ticks\":\"\"},\"colorscale\":[[0.0,\"#0d0887\"],[0.1111111111111111,\"#46039f\"],[0.2222222222222222,\"#7201a8\"],[0.3333333333333333,\"#9c179e\"],[0.4444444444444444,\"#bd3786\"],[0.5555555555555556,\"#d8576b\"],[0.6666666666666666,\"#ed7953\"],[0.7777777777777778,\"#fb9f3a\"],[0.8888888888888888,\"#fdca26\"],[1.0,\"#f0f921\"]]}],\"choropleth\":[{\"type\":\"choropleth\",\"colorbar\":{\"outlinewidth\":0,\"ticks\":\"\"}}],\"histogram2d\":[{\"type\":\"histogram2d\",\"colorbar\":{\"outlinewidth\":0,\"ticks\":\"\"},\"colorscale\":[[0.0,\"#0d0887\"],[0.1111111111111111,\"#46039f\"],[0.2222222222222222,\"#7201a8\"],[0.3333333333333333,\"#9c179e\"],[0.4444444444444444,\"#bd3786\"],[0.5555555555555556,\"#d8576b\"],[0.6666666666666666,\"#ed7953\"],[0.7777777777777778,\"#fb9f3a\"],[0.8888888888888888,\"#fdca26\"],[1.0,\"#f0f921\"]]}],\"heatmap\":[{\"type\":\"heatmap\",\"colorbar\":{\"outlinewidth\":0,\"ticks\":\"\"},\"colorscale\":[[0.0,\"#0d0887\"],[0.1111111111111111,\"#46039f\"],[0.2222222222222222,\"#7201a8\"],[0.3333333333333333,\"#9c179e\"],[0.4444444444444444,\"#bd3786\"],[0.5555555555555556,\"#d8576b\"],[0.6666666666666666,\"#ed7953\"],[0.7777777777777778,\"#fb9f3a\"],[0.8888888888888888,\"#fdca26\"],[1.0,\"#f0f921\"]]}],\"heatmapgl\":[{\"type\":\"heatmapgl\",\"colorbar\":{\"outlinewidth\":0,\"ticks\":\"\"},\"colorscale\":[[0.0,\"#0d0887\"],[0.1111111111111111,\"#46039f\"],[0.2222222222222222,\"#7201a8\"],[0.3333333333333333,\"#9c179e\"],[0.4444444444444444,\"#bd3786\"],[0.5555555555555556,\"#d8576b\"],[0.6666666666666666,\"#ed7953\"],[0.7777777777777778,\"#fb9f3a\"],[0.8888888888888888,\"#fdca26\"],[1.0,\"#f0f921\"]]}],\"contourcarpet\":[{\"type\":\"contourcarpet\",\"colorbar\":{\"outlinewidth\":0,\"ticks\":\"\"}}],\"contour\":[{\"type\":\"contour\",\"colorbar\":{\"outlinewidth\":0,\"ticks\":\"\"},\"colorscale\":[[0.0,\"#0d0887\"],[0.1111111111111111,\"#46039f\"],[0.2222222222222222,\"#7201a8\"],[0.3333333333333333,\"#9c179e\"],[0.4444444444444444,\"#bd3786\"],[0.5555555555555556,\"#d8576b\"],[0.6666666666666666,\"#ed7953\"],[0.7777777777777778,\"#fb9f3a\"],[0.8888888888888888,\"#fdca26\"],[1.0,\"#f0f921\"]]}],\"surface\":[{\"type\":\"surface\",\"colorbar\":{\"outlinewidth\":0,\"ticks\":\"\"},\"colorscale\":[[0.0,\"#0d0887\"],[0.1111111111111111,\"#46039f\"],[0.2222222222222222,\"#7201a8\"],[0.3333333333333333,\"#9c179e\"],[0.4444444444444444,\"#bd3786\"],[0.5555555555555556,\"#d8576b\"],[0.6666666666666666,\"#ed7953\"],[0.7777777777777778,\"#fb9f3a\"],[0.8888888888888888,\"#fdca26\"],[1.0,\"#f0f921\"]]}],\"mesh3d\":[{\"type\":\"mesh3d\",\"colorbar\":{\"outlinewidth\":0,\"ticks\":\"\"}}],\"scatter\":[{\"fillpattern\":{\"fillmode\":\"overlay\",\"size\":10,\"solidity\":0.2},\"type\":\"scatter\"}],\"parcoords\":[{\"type\":\"parcoords\",\"line\":{\"colorbar\":{\"outlinewidth\":0,\"ticks\":\"\"}}}],\"scatterpolargl\":[{\"type\":\"scatterpolargl\",\"marker\":{\"colorbar\":{\"outlinewidth\":0,\"ticks\":\"\"}}}],\"bar\":[{\"error_x\":{\"color\":\"#2a3f5f\"},\"error_y\":{\"color\":\"#2a3f5f\"},\"marker\":{\"line\":{\"color\":\"#E5ECF6\",\"width\":0.5},\"pattern\":{\"fillmode\":\"overlay\",\"size\":10,\"solidity\":0.2}},\"type\":\"bar\"}],\"scattergeo\":[{\"type\":\"scattergeo\",\"marker\":{\"colorbar\":{\"outlinewidth\":0,\"ticks\":\"\"}}}],\"scatterpolar\":[{\"type\":\"scatterpolar\",\"marker\":{\"colorbar\":{\"outlinewidth\":0,\"ticks\":\"\"}}}],\"histogram\":[{\"marker\":{\"pattern\":{\"fillmode\":\"overlay\",\"size\":10,\"solidity\":0.2}},\"type\":\"histogram\"}],\"scattergl\":[{\"type\":\"scattergl\",\"marker\":{\"colorbar\":{\"outlinewidth\":0,\"ticks\":\"\"}}}],\"scatter3d\":[{\"type\":\"scatter3d\",\"line\":{\"colorbar\":{\"outlinewidth\":0,\"ticks\":\"\"}},\"marker\":{\"colorbar\":{\"outlinewidth\":0,\"ticks\":\"\"}}}],\"scattermapbox\":[{\"type\":\"scattermapbox\",\"marker\":{\"colorbar\":{\"outlinewidth\":0,\"ticks\":\"\"}}}],\"scatterternary\":[{\"type\":\"scatterternary\",\"marker\":{\"colorbar\":{\"outlinewidth\":0,\"ticks\":\"\"}}}],\"scattercarpet\":[{\"type\":\"scattercarpet\",\"marker\":{\"colorbar\":{\"outlinewidth\":0,\"ticks\":\"\"}}}],\"carpet\":[{\"aaxis\":{\"endlinecolor\":\"#2a3f5f\",\"gridcolor\":\"white\",\"linecolor\":\"white\",\"minorgridcolor\":\"white\",\"startlinecolor\":\"#2a3f5f\"},\"baxis\":{\"endlinecolor\":\"#2a3f5f\",\"gridcolor\":\"white\",\"linecolor\":\"white\",\"minorgridcolor\":\"white\",\"startlinecolor\":\"#2a3f5f\"},\"type\":\"carpet\"}],\"table\":[{\"cells\":{\"fill\":{\"color\":\"#EBF0F8\"},\"line\":{\"color\":\"white\"}},\"header\":{\"fill\":{\"color\":\"#C8D4E3\"},\"line\":{\"color\":\"white\"}},\"type\":\"table\"}],\"barpolar\":[{\"marker\":{\"line\":{\"color\":\"#E5ECF6\",\"width\":0.5},\"pattern\":{\"fillmode\":\"overlay\",\"size\":10,\"solidity\":0.2}},\"type\":\"barpolar\"}],\"pie\":[{\"automargin\":true,\"type\":\"pie\"}]},\"layout\":{\"autotypenumbers\":\"strict\",\"colorway\":[\"#636efa\",\"#EF553B\",\"#00cc96\",\"#ab63fa\",\"#FFA15A\",\"#19d3f3\",\"#FF6692\",\"#B6E880\",\"#FF97FF\",\"#FECB52\"],\"font\":{\"color\":\"#2a3f5f\"},\"hovermode\":\"closest\",\"hoverlabel\":{\"align\":\"left\"},\"paper_bgcolor\":\"white\",\"plot_bgcolor\":\"#E5ECF6\",\"polar\":{\"bgcolor\":\"#E5ECF6\",\"angularaxis\":{\"gridcolor\":\"white\",\"linecolor\":\"white\",\"ticks\":\"\"},\"radialaxis\":{\"gridcolor\":\"white\",\"linecolor\":\"white\",\"ticks\":\"\"}},\"ternary\":{\"bgcolor\":\"#E5ECF6\",\"aaxis\":{\"gridcolor\":\"white\",\"linecolor\":\"white\",\"ticks\":\"\"},\"baxis\":{\"gridcolor\":\"white\",\"linecolor\":\"white\",\"ticks\":\"\"},\"caxis\":{\"gridcolor\":\"white\",\"linecolor\":\"white\",\"ticks\":\"\"}},\"coloraxis\":{\"colorbar\":{\"outlinewidth\":0,\"ticks\":\"\"}},\"colorscale\":{\"sequential\":[[0.0,\"#0d0887\"],[0.1111111111111111,\"#46039f\"],[0.2222222222222222,\"#7201a8\"],[0.3333333333333333,\"#9c179e\"],[0.4444444444444444,\"#bd3786\"],[0.5555555555555556,\"#d8576b\"],[0.6666666666666666,\"#ed7953\"],[0.7777777777777778,\"#fb9f3a\"],[0.8888888888888888,\"#fdca26\"],[1.0,\"#f0f921\"]],\"sequentialminus\":[[0.0,\"#0d0887\"],[0.1111111111111111,\"#46039f\"],[0.2222222222222222,\"#7201a8\"],[0.3333333333333333,\"#9c179e\"],[0.4444444444444444,\"#bd3786\"],[0.5555555555555556,\"#d8576b\"],[0.6666666666666666,\"#ed7953\"],[0.7777777777777778,\"#fb9f3a\"],[0.8888888888888888,\"#fdca26\"],[1.0,\"#f0f921\"]],\"diverging\":[[0,\"#8e0152\"],[0.1,\"#c51b7d\"],[0.2,\"#de77ae\"],[0.3,\"#f1b6da\"],[0.4,\"#fde0ef\"],[0.5,\"#f7f7f7\"],[0.6,\"#e6f5d0\"],[0.7,\"#b8e186\"],[0.8,\"#7fbc41\"],[0.9,\"#4d9221\"],[1,\"#276419\"]]},\"xaxis\":{\"gridcolor\":\"white\",\"linecolor\":\"white\",\"ticks\":\"\",\"title\":{\"standoff\":15},\"zerolinecolor\":\"white\",\"automargin\":true,\"zerolinewidth\":2},\"yaxis\":{\"gridcolor\":\"white\",\"linecolor\":\"white\",\"ticks\":\"\",\"title\":{\"standoff\":15},\"zerolinecolor\":\"white\",\"automargin\":true,\"zerolinewidth\":2},\"scene\":{\"xaxis\":{\"backgroundcolor\":\"#E5ECF6\",\"gridcolor\":\"white\",\"linecolor\":\"white\",\"showbackground\":true,\"ticks\":\"\",\"zerolinecolor\":\"white\",\"gridwidth\":2},\"yaxis\":{\"backgroundcolor\":\"#E5ECF6\",\"gridcolor\":\"white\",\"linecolor\":\"white\",\"showbackground\":true,\"ticks\":\"\",\"zerolinecolor\":\"white\",\"gridwidth\":2},\"zaxis\":{\"backgroundcolor\":\"#E5ECF6\",\"gridcolor\":\"white\",\"linecolor\":\"white\",\"showbackground\":true,\"ticks\":\"\",\"zerolinecolor\":\"white\",\"gridwidth\":2}},\"shapedefaults\":{\"line\":{\"color\":\"#2a3f5f\"}},\"annotationdefaults\":{\"arrowcolor\":\"#2a3f5f\",\"arrowhead\":0,\"arrowwidth\":1},\"geo\":{\"bgcolor\":\"white\",\"landcolor\":\"#E5ECF6\",\"subunitcolor\":\"white\",\"showland\":true,\"showlakes\":true,\"lakecolor\":\"white\"},\"title\":{\"x\":0.05},\"mapbox\":{\"style\":\"light\"}}},\"title\":{\"text\":\"Visualización de Frases Ejemplo y Similares\"},\"scene\":{\"xaxis\":{\"title\":{\"text\":\"PC 1\"}},\"yaxis\":{\"title\":{\"text\":\"PC 2\"}},\"zaxis\":{\"title\":{\"text\":\"PC 3\"}}},\"showlegend\":false},                        {\"responsive\": true}                    ).then(function(){\n",
              "                            \n",
              "var gd = document.getElementById('031a6a53-2620-4ea5-ae37-33f269f68516');\n",
              "var x = new MutationObserver(function (mutations, observer) {{\n",
              "        var display = window.getComputedStyle(gd).display;\n",
              "        if (!display || display === 'none') {{\n",
              "            console.log([gd, 'removed!']);\n",
              "            Plotly.purge(gd);\n",
              "            observer.disconnect();\n",
              "        }}\n",
              "}});\n",
              "\n",
              "// Listen for the removal of the full notebook cells\n",
              "var notebookContainer = gd.closest('#notebook-container');\n",
              "if (notebookContainer) {{\n",
              "    x.observe(notebookContainer, {childList: true});\n",
              "}}\n",
              "\n",
              "// Listen for the clearing of the current output cell\n",
              "var outputEl = gd.closest('.output');\n",
              "if (outputEl) {{\n",
              "    x.observe(outputEl, {childList: true});\n",
              "}}\n",
              "\n",
              "                        })                };                            </script>        </div>\n",
              "</body>\n",
              "</html>"
            ]
          },
          "metadata": {}
        }
      ]
    },
    {
      "cell_type": "markdown",
      "source": [
        "de la teoria:: Los métodos Count Vectorizer y TF-IDF capturan la aparición o frecuencia de palabras. Si bien admiten el uso\n",
        "de similitud de coseno, la cercanía estará dada por las similitudes en cuanto a la presencia o cuenta de las\n",
        "mismas palabras, y no por su similitud semántica o de contexto, como en el caso de los modelos de\n",
        "embeddings.\n"
      ],
      "metadata": {
        "id": "HNBtDcVhbu9l"
      }
    },
    {
      "cell_type": "markdown",
      "source": [
        "## EJERCICIO 3\n",
        "Apoyándose nuevamente en la sección de información. Recoge un texto extenso extraído, divídelos en fragmentos, luego realiza extracciones de sustantivos (POS) y categoriza estos sustantivos (NER), a continuación realiza una búsqueda de similitud filtrando por sustantivos, compara las distintas técnicas de distancias vistas en clases, elija la mejor y justifique la razón por la que esta técnica se ajusta para este tipo de búsquedas.\n"
      ],
      "metadata": {
        "id": "NZ06MDkrslqx"
      }
    },
    {
      "cell_type": "code",
      "source": [
        "texto_extenso_2 = TextoParaAnalizar('/content/NLP-2025/NLP_CASCADIA/datos/información/oneboardfamily_review.txt')"
      ],
      "metadata": {
        "id": "jtABqjCLEZ6j"
      },
      "execution_count": 120,
      "outputs": []
    },
    {
      "cell_type": "code",
      "source": [
        "texto_extenso_2.extraer_sustantivos()"
      ],
      "metadata": {
        "id": "15AsYnwOE17H",
        "outputId": "a7b105d7-ad47-451d-da60-39a9ec8ce18f",
        "colab": {
          "base_uri": "https://localhost:8080/",
          "height": 495
        }
      },
      "execution_count": 121,
      "outputs": [
        {
          "output_type": "stream",
          "name": "stdout",
          "text": [
            "esta aca\n",
            "Collecting es-core-news-sm==3.8.0\n",
            "  Downloading https://github.com/explosion/spacy-models/releases/download/es_core_news_sm-3.8.0/es_core_news_sm-3.8.0-py3-none-any.whl (12.9 MB)\n",
            "\u001b[2K     \u001b[90m━━━━━━━━━━━━━━━━━━━━━━━━━━━━━━━━━━━━━━━━\u001b[0m \u001b[32m12.9/12.9 MB\u001b[0m \u001b[31m66.2 MB/s\u001b[0m eta \u001b[36m0:00:00\u001b[0m\n",
            "\u001b[?25hInstalling collected packages: es-core-news-sm\n",
            "Successfully installed es-core-news-sm-3.8.0\n",
            "\u001b[38;5;2m✔ Download and installation successful\u001b[0m\n",
            "You can now load the package via spacy.load('es_core_news_sm')\n",
            "\u001b[38;5;3m⚠ Restart to reload dependencies\u001b[0m\n",
            "If you are in a Jupyter or Colab notebook, you may need to restart Python in\n",
            "order to load all the package's dependencies. You can do this by selecting the\n",
            "'Restart kernel' or 'Restart runtime' option.\n"
          ]
        },
        {
          "output_type": "error",
          "ename": "OSError",
          "evalue": "[E050] Can't find model 'en_core_news_sm'. It doesn't seem to be a Python package or a valid path to a data directory.",
          "traceback": [
            "\u001b[0;31m---------------------------------------------------------------------------\u001b[0m",
            "\u001b[0;31mOSError\u001b[0m                                   Traceback (most recent call last)",
            "\u001b[0;32m<ipython-input-121-c7b381105799>\u001b[0m in \u001b[0;36m<cell line: 0>\u001b[0;34m()\u001b[0m\n\u001b[0;32m----> 1\u001b[0;31m \u001b[0mtexto_extenso_2\u001b[0m\u001b[0;34m.\u001b[0m\u001b[0mextraer_sustantivos\u001b[0m\u001b[0;34m(\u001b[0m\u001b[0;34m)\u001b[0m\u001b[0;34m\u001b[0m\u001b[0;34m\u001b[0m\u001b[0m\n\u001b[0m",
            "\u001b[0;32m<ipython-input-119-3f316f227ee1>\u001b[0m in \u001b[0;36mextraer_sustantivos\u001b[0;34m(self)\u001b[0m\n\u001b[1;32m     47\u001b[0m       \u001b[0;34m\"\"\" Extrae los sustantivos de un texto \"\"\"\u001b[0m\u001b[0;34m\u001b[0m\u001b[0;34m\u001b[0m\u001b[0m\n\u001b[1;32m     48\u001b[0m       \u001b[0mprint\u001b[0m\u001b[0;34m(\u001b[0m\u001b[0;34m\"esta aca\"\u001b[0m\u001b[0;34m)\u001b[0m\u001b[0;34m\u001b[0m\u001b[0;34m\u001b[0m\u001b[0m\n\u001b[0;32m---> 49\u001b[0;31m       \u001b[0mmodelo\u001b[0m \u001b[0;34m=\u001b[0m \u001b[0mentorno_modelo\u001b[0m\u001b[0;34m(\u001b[0m\u001b[0;34m\"spacy\"\u001b[0m\u001b[0;34m)\u001b[0m\u001b[0;34m\u001b[0m\u001b[0;34m\u001b[0m\u001b[0m\n\u001b[0m\u001b[1;32m     50\u001b[0m       \u001b[0moraciones\u001b[0m \u001b[0;34m=\u001b[0m \u001b[0mself\u001b[0m\u001b[0;34m.\u001b[0m\u001b[0mfragmentos\u001b[0m\u001b[0;34m(\u001b[0m\u001b[0;34m\"oracion\"\u001b[0m\u001b[0;34m)\u001b[0m\u001b[0;34m\u001b[0m\u001b[0;34m\u001b[0m\u001b[0m\n\u001b[1;32m     51\u001b[0m \u001b[0;34m\u001b[0m\u001b[0m\n",
            "\u001b[0;32m<ipython-input-115-784676673e5b>\u001b[0m in \u001b[0;36mentorno_modelo\u001b[0;34m(tipo_embedding)\u001b[0m\n\u001b[1;32m     14\u001b[0m     \u001b[0mget_ipython\u001b[0m\u001b[0;34m(\u001b[0m\u001b[0;34m)\u001b[0m\u001b[0;34m.\u001b[0m\u001b[0msystem\u001b[0m\u001b[0;34m(\u001b[0m\u001b[0;34m'python -m spacy download es_core_news_sm'\u001b[0m\u001b[0;34m)\u001b[0m\u001b[0;34m\u001b[0m\u001b[0;34m\u001b[0m\u001b[0m\n\u001b[1;32m     15\u001b[0m     \u001b[0;32mimport\u001b[0m \u001b[0mspacy\u001b[0m\u001b[0;34m\u001b[0m\u001b[0;34m\u001b[0m\u001b[0m\n\u001b[0;32m---> 16\u001b[0;31m     \u001b[0mmodel\u001b[0m \u001b[0;34m=\u001b[0m \u001b[0mspacy\u001b[0m\u001b[0;34m.\u001b[0m\u001b[0mload\u001b[0m\u001b[0;34m(\u001b[0m\u001b[0;34m\"en_core_news_sm\"\u001b[0m\u001b[0;34m)\u001b[0m\u001b[0;34m\u001b[0m\u001b[0;34m\u001b[0m\u001b[0m\n\u001b[0m\u001b[1;32m     17\u001b[0m \u001b[0;34m\u001b[0m\u001b[0m\n\u001b[1;32m     18\u001b[0m   \u001b[0;32mreturn\u001b[0m \u001b[0mmodel\u001b[0m\u001b[0;34m\u001b[0m\u001b[0;34m\u001b[0m\u001b[0m\n",
            "\u001b[0;32m/usr/local/lib/python3.11/dist-packages/spacy/__init__.py\u001b[0m in \u001b[0;36mload\u001b[0;34m(name, vocab, disable, enable, exclude, config)\u001b[0m\n\u001b[1;32m     49\u001b[0m     \u001b[0mRETURNS\u001b[0m \u001b[0;34m(\u001b[0m\u001b[0mLanguage\u001b[0m\u001b[0;34m)\u001b[0m\u001b[0;34m:\u001b[0m \u001b[0mThe\u001b[0m \u001b[0mloaded\u001b[0m \u001b[0mnlp\u001b[0m \u001b[0mobject\u001b[0m\u001b[0;34m.\u001b[0m\u001b[0;34m\u001b[0m\u001b[0;34m\u001b[0m\u001b[0m\n\u001b[1;32m     50\u001b[0m     \"\"\"\n\u001b[0;32m---> 51\u001b[0;31m     return util.load_model(\n\u001b[0m\u001b[1;32m     52\u001b[0m         \u001b[0mname\u001b[0m\u001b[0;34m,\u001b[0m\u001b[0;34m\u001b[0m\u001b[0;34m\u001b[0m\u001b[0m\n\u001b[1;32m     53\u001b[0m         \u001b[0mvocab\u001b[0m\u001b[0;34m=\u001b[0m\u001b[0mvocab\u001b[0m\u001b[0;34m,\u001b[0m\u001b[0;34m\u001b[0m\u001b[0;34m\u001b[0m\u001b[0m\n",
            "\u001b[0;32m/usr/local/lib/python3.11/dist-packages/spacy/util.py\u001b[0m in \u001b[0;36mload_model\u001b[0;34m(name, vocab, disable, enable, exclude, config)\u001b[0m\n\u001b[1;32m    470\u001b[0m     \u001b[0;32mif\u001b[0m \u001b[0mname\u001b[0m \u001b[0;32min\u001b[0m \u001b[0mOLD_MODEL_SHORTCUTS\u001b[0m\u001b[0;34m:\u001b[0m\u001b[0;34m\u001b[0m\u001b[0;34m\u001b[0m\u001b[0m\n\u001b[1;32m    471\u001b[0m         \u001b[0;32mraise\u001b[0m \u001b[0mIOError\u001b[0m\u001b[0;34m(\u001b[0m\u001b[0mErrors\u001b[0m\u001b[0;34m.\u001b[0m\u001b[0mE941\u001b[0m\u001b[0;34m.\u001b[0m\u001b[0mformat\u001b[0m\u001b[0;34m(\u001b[0m\u001b[0mname\u001b[0m\u001b[0;34m=\u001b[0m\u001b[0mname\u001b[0m\u001b[0;34m,\u001b[0m \u001b[0mfull\u001b[0m\u001b[0;34m=\u001b[0m\u001b[0mOLD_MODEL_SHORTCUTS\u001b[0m\u001b[0;34m[\u001b[0m\u001b[0mname\u001b[0m\u001b[0;34m]\u001b[0m\u001b[0;34m)\u001b[0m\u001b[0;34m)\u001b[0m  \u001b[0;31m# type: ignore[index]\u001b[0m\u001b[0;34m\u001b[0m\u001b[0;34m\u001b[0m\u001b[0m\n\u001b[0;32m--> 472\u001b[0;31m     \u001b[0;32mraise\u001b[0m \u001b[0mIOError\u001b[0m\u001b[0;34m(\u001b[0m\u001b[0mErrors\u001b[0m\u001b[0;34m.\u001b[0m\u001b[0mE050\u001b[0m\u001b[0;34m.\u001b[0m\u001b[0mformat\u001b[0m\u001b[0;34m(\u001b[0m\u001b[0mname\u001b[0m\u001b[0;34m=\u001b[0m\u001b[0mname\u001b[0m\u001b[0;34m)\u001b[0m\u001b[0;34m)\u001b[0m\u001b[0;34m\u001b[0m\u001b[0;34m\u001b[0m\u001b[0m\n\u001b[0m\u001b[1;32m    473\u001b[0m \u001b[0;34m\u001b[0m\u001b[0m\n\u001b[1;32m    474\u001b[0m \u001b[0;34m\u001b[0m\u001b[0m\n",
            "\u001b[0;31mOSError\u001b[0m: [E050] Can't find model 'en_core_news_sm'. It doesn't seem to be a Python package or a valid path to a data directory."
          ]
        }
      ]
    },
    {
      "cell_type": "markdown",
      "source": [
        "## EJERCICIO 4\n",
        "Mediante detección de idioma, separar los archivos en distintos lenguajes y guardar esa\n",
        "información en un dataframe.\n"
      ],
      "metadata": {
        "id": "O53-k9llsnnM"
      }
    },
    {
      "cell_type": "code",
      "source": [
        "!pip install langdetect"
      ],
      "metadata": {
        "id": "VW45FGVwH06A",
        "outputId": "343524c5-911b-4804-bc75-eeea3f415e49",
        "colab": {
          "base_uri": "https://localhost:8080/"
        }
      },
      "execution_count": 123,
      "outputs": [
        {
          "output_type": "stream",
          "name": "stdout",
          "text": [
            "Collecting langdetect\n",
            "  Downloading langdetect-1.0.9.tar.gz (981 kB)\n",
            "\u001b[?25l     \u001b[90m━━━━━━━━━━━━━━━━━━━━━━━━━━━━━━━━━━━━━━━━\u001b[0m \u001b[32m0.0/981.5 kB\u001b[0m \u001b[31m?\u001b[0m eta \u001b[36m-:--:--\u001b[0m\r\u001b[2K     \u001b[91m━━━━━━━\u001b[0m\u001b[90m╺\u001b[0m\u001b[90m━━━━━━━━━━━━━━━━━━━━━━━━━━━━━━━\u001b[0m \u001b[32m184.3/981.5 kB\u001b[0m \u001b[31m5.2 MB/s\u001b[0m eta \u001b[36m0:00:01\u001b[0m\r\u001b[2K     \u001b[91m━━━━━━━━━━━━━━━━━━━━━━━━━━━━━━━━━━━━━\u001b[0m\u001b[91m╸\u001b[0m \u001b[32m972.8/981.5 kB\u001b[0m \u001b[31m15.4 MB/s\u001b[0m eta \u001b[36m0:00:01\u001b[0m\r\u001b[2K     \u001b[90m━━━━━━━━━━━━━━━━━━━━━━━━━━━━━━━━━━━━━━\u001b[0m \u001b[32m981.5/981.5 kB\u001b[0m \u001b[31m12.1 MB/s\u001b[0m eta \u001b[36m0:00:00\u001b[0m\n",
            "\u001b[?25h  Preparing metadata (setup.py) ... \u001b[?25l\u001b[?25hdone\n",
            "Requirement already satisfied: six in /usr/local/lib/python3.11/dist-packages (from langdetect) (1.17.0)\n",
            "Building wheels for collected packages: langdetect\n",
            "  Building wheel for langdetect (setup.py) ... \u001b[?25l\u001b[?25hdone\n",
            "  Created wheel for langdetect: filename=langdetect-1.0.9-py3-none-any.whl size=993223 sha256=c38ec347fbd338f38ccd737a88ae04a78a0056c669c31aacf90ea16c0a692c50\n",
            "  Stored in directory: /root/.cache/pip/wheels/0a/f2/b2/e5ca405801e05eb7c8ed5b3b4bcf1fcabcd6272c167640072e\n",
            "Successfully built langdetect\n",
            "Installing collected packages: langdetect\n",
            "Successfully installed langdetect-1.0.9\n"
          ]
        }
      ]
    },
    {
      "cell_type": "code",
      "source": [
        "import os\n",
        "import pandas as pd\n",
        "from langdetect import detect, LangDetectException\n",
        "\n",
        "def detect_language(text_path):\n",
        "    try:\n",
        "        with open(text_path, 'r', encoding='utf-8') as file:\n",
        "            text = file.read()\n",
        "            return detect(text)\n",
        "    except LangDetectException:\n",
        "        return \"unknown\"  # En caso de que falle al detectar el idioma\n",
        "    except Exception as e:\n",
        "        print(f\"Error processing {text_path}: {e}\")\n",
        "        return \"error\"\n",
        "\n",
        "\n",
        "# Directorio que contiene los archivos de texto\n",
        "directorio_informacion = '/content/NLP-2025/NLP_CASCADIA/datos/información'\n",
        "\n",
        "# Lista para almacenar la información de los archivos\n",
        "datos_archivos = []\n",
        "\n",
        "for filename in os.listdir(directorio_informacion):\n",
        "    if filename.endswith(\".txt\"):\n",
        "        ruta_completa = os.path.join(directorio_informacion, filename)\n",
        "        idioma = detect_language(ruta_completa)\n",
        "        datos_archivos.append([filename, idioma])\n",
        "\n",
        "\n",
        "# Crear un DataFrame de pandas\n",
        "df_idiomas = pd.DataFrame(datos_archivos, columns=[\"Nombre del archivo\", \"Idioma\"])\n",
        "\n",
        "df_idiomas\n"
      ],
      "metadata": {
        "id": "467XCf_SHqjp",
        "outputId": "d8d773c9-c3a0-4948-91cb-6511d0661c09",
        "colab": {
          "base_uri": "https://localhost:8080/",
          "height": 269
        }
      },
      "execution_count": 125,
      "outputs": [
        {
          "output_type": "execute_result",
          "data": {
            "text/plain": [
              "                 Nombre del archivo Idioma\n",
              "0          whatboardgame_review.txt     en\n",
              "1        board_game_co_uk_guide.txt     en\n",
              "2                 flatout_games.txt     en\n",
              "3        boardgamereview_review.txt     en\n",
              "4               cascadia_manual.txt     en\n",
              "5  bluehighwaygames_description.txt     en\n",
              "6         oneboardfamily_review.txt     en"
            ],
            "text/html": [
              "\n",
              "  <div id=\"df-fa28aa5b-8f8a-4c52-a15e-03f816762af3\" class=\"colab-df-container\">\n",
              "    <div>\n",
              "<style scoped>\n",
              "    .dataframe tbody tr th:only-of-type {\n",
              "        vertical-align: middle;\n",
              "    }\n",
              "\n",
              "    .dataframe tbody tr th {\n",
              "        vertical-align: top;\n",
              "    }\n",
              "\n",
              "    .dataframe thead th {\n",
              "        text-align: right;\n",
              "    }\n",
              "</style>\n",
              "<table border=\"1\" class=\"dataframe\">\n",
              "  <thead>\n",
              "    <tr style=\"text-align: right;\">\n",
              "      <th></th>\n",
              "      <th>Nombre del archivo</th>\n",
              "      <th>Idioma</th>\n",
              "    </tr>\n",
              "  </thead>\n",
              "  <tbody>\n",
              "    <tr>\n",
              "      <th>0</th>\n",
              "      <td>whatboardgame_review.txt</td>\n",
              "      <td>en</td>\n",
              "    </tr>\n",
              "    <tr>\n",
              "      <th>1</th>\n",
              "      <td>board_game_co_uk_guide.txt</td>\n",
              "      <td>en</td>\n",
              "    </tr>\n",
              "    <tr>\n",
              "      <th>2</th>\n",
              "      <td>flatout_games.txt</td>\n",
              "      <td>en</td>\n",
              "    </tr>\n",
              "    <tr>\n",
              "      <th>3</th>\n",
              "      <td>boardgamereview_review.txt</td>\n",
              "      <td>en</td>\n",
              "    </tr>\n",
              "    <tr>\n",
              "      <th>4</th>\n",
              "      <td>cascadia_manual.txt</td>\n",
              "      <td>en</td>\n",
              "    </tr>\n",
              "    <tr>\n",
              "      <th>5</th>\n",
              "      <td>bluehighwaygames_description.txt</td>\n",
              "      <td>en</td>\n",
              "    </tr>\n",
              "    <tr>\n",
              "      <th>6</th>\n",
              "      <td>oneboardfamily_review.txt</td>\n",
              "      <td>en</td>\n",
              "    </tr>\n",
              "  </tbody>\n",
              "</table>\n",
              "</div>\n",
              "    <div class=\"colab-df-buttons\">\n",
              "\n",
              "  <div class=\"colab-df-container\">\n",
              "    <button class=\"colab-df-convert\" onclick=\"convertToInteractive('df-fa28aa5b-8f8a-4c52-a15e-03f816762af3')\"\n",
              "            title=\"Convert this dataframe to an interactive table.\"\n",
              "            style=\"display:none;\">\n",
              "\n",
              "  <svg xmlns=\"http://www.w3.org/2000/svg\" height=\"24px\" viewBox=\"0 -960 960 960\">\n",
              "    <path d=\"M120-120v-720h720v720H120Zm60-500h600v-160H180v160Zm220 220h160v-160H400v160Zm0 220h160v-160H400v160ZM180-400h160v-160H180v160Zm440 0h160v-160H620v160ZM180-180h160v-160H180v160Zm440 0h160v-160H620v160Z\"/>\n",
              "  </svg>\n",
              "    </button>\n",
              "\n",
              "  <style>\n",
              "    .colab-df-container {\n",
              "      display:flex;\n",
              "      gap: 12px;\n",
              "    }\n",
              "\n",
              "    .colab-df-convert {\n",
              "      background-color: #E8F0FE;\n",
              "      border: none;\n",
              "      border-radius: 50%;\n",
              "      cursor: pointer;\n",
              "      display: none;\n",
              "      fill: #1967D2;\n",
              "      height: 32px;\n",
              "      padding: 0 0 0 0;\n",
              "      width: 32px;\n",
              "    }\n",
              "\n",
              "    .colab-df-convert:hover {\n",
              "      background-color: #E2EBFA;\n",
              "      box-shadow: 0px 1px 2px rgba(60, 64, 67, 0.3), 0px 1px 3px 1px rgba(60, 64, 67, 0.15);\n",
              "      fill: #174EA6;\n",
              "    }\n",
              "\n",
              "    .colab-df-buttons div {\n",
              "      margin-bottom: 4px;\n",
              "    }\n",
              "\n",
              "    [theme=dark] .colab-df-convert {\n",
              "      background-color: #3B4455;\n",
              "      fill: #D2E3FC;\n",
              "    }\n",
              "\n",
              "    [theme=dark] .colab-df-convert:hover {\n",
              "      background-color: #434B5C;\n",
              "      box-shadow: 0px 1px 3px 1px rgba(0, 0, 0, 0.15);\n",
              "      filter: drop-shadow(0px 1px 2px rgba(0, 0, 0, 0.3));\n",
              "      fill: #FFFFFF;\n",
              "    }\n",
              "  </style>\n",
              "\n",
              "    <script>\n",
              "      const buttonEl =\n",
              "        document.querySelector('#df-fa28aa5b-8f8a-4c52-a15e-03f816762af3 button.colab-df-convert');\n",
              "      buttonEl.style.display =\n",
              "        google.colab.kernel.accessAllowed ? 'block' : 'none';\n",
              "\n",
              "      async function convertToInteractive(key) {\n",
              "        const element = document.querySelector('#df-fa28aa5b-8f8a-4c52-a15e-03f816762af3');\n",
              "        const dataTable =\n",
              "          await google.colab.kernel.invokeFunction('convertToInteractive',\n",
              "                                                    [key], {});\n",
              "        if (!dataTable) return;\n",
              "\n",
              "        const docLinkHtml = 'Like what you see? Visit the ' +\n",
              "          '<a target=\"_blank\" href=https://colab.research.google.com/notebooks/data_table.ipynb>data table notebook</a>'\n",
              "          + ' to learn more about interactive tables.';\n",
              "        element.innerHTML = '';\n",
              "        dataTable['output_type'] = 'display_data';\n",
              "        await google.colab.output.renderOutput(dataTable, element);\n",
              "        const docLink = document.createElement('div');\n",
              "        docLink.innerHTML = docLinkHtml;\n",
              "        element.appendChild(docLink);\n",
              "      }\n",
              "    </script>\n",
              "  </div>\n",
              "\n",
              "\n",
              "    <div id=\"df-e8e3acab-e87a-4312-b7e7-fc2061a5e457\">\n",
              "      <button class=\"colab-df-quickchart\" onclick=\"quickchart('df-e8e3acab-e87a-4312-b7e7-fc2061a5e457')\"\n",
              "                title=\"Suggest charts\"\n",
              "                style=\"display:none;\">\n",
              "\n",
              "<svg xmlns=\"http://www.w3.org/2000/svg\" height=\"24px\"viewBox=\"0 0 24 24\"\n",
              "     width=\"24px\">\n",
              "    <g>\n",
              "        <path d=\"M19 3H5c-1.1 0-2 .9-2 2v14c0 1.1.9 2 2 2h14c1.1 0 2-.9 2-2V5c0-1.1-.9-2-2-2zM9 17H7v-7h2v7zm4 0h-2V7h2v10zm4 0h-2v-4h2v4z\"/>\n",
              "    </g>\n",
              "</svg>\n",
              "      </button>\n",
              "\n",
              "<style>\n",
              "  .colab-df-quickchart {\n",
              "      --bg-color: #E8F0FE;\n",
              "      --fill-color: #1967D2;\n",
              "      --hover-bg-color: #E2EBFA;\n",
              "      --hover-fill-color: #174EA6;\n",
              "      --disabled-fill-color: #AAA;\n",
              "      --disabled-bg-color: #DDD;\n",
              "  }\n",
              "\n",
              "  [theme=dark] .colab-df-quickchart {\n",
              "      --bg-color: #3B4455;\n",
              "      --fill-color: #D2E3FC;\n",
              "      --hover-bg-color: #434B5C;\n",
              "      --hover-fill-color: #FFFFFF;\n",
              "      --disabled-bg-color: #3B4455;\n",
              "      --disabled-fill-color: #666;\n",
              "  }\n",
              "\n",
              "  .colab-df-quickchart {\n",
              "    background-color: var(--bg-color);\n",
              "    border: none;\n",
              "    border-radius: 50%;\n",
              "    cursor: pointer;\n",
              "    display: none;\n",
              "    fill: var(--fill-color);\n",
              "    height: 32px;\n",
              "    padding: 0;\n",
              "    width: 32px;\n",
              "  }\n",
              "\n",
              "  .colab-df-quickchart:hover {\n",
              "    background-color: var(--hover-bg-color);\n",
              "    box-shadow: 0 1px 2px rgba(60, 64, 67, 0.3), 0 1px 3px 1px rgba(60, 64, 67, 0.15);\n",
              "    fill: var(--button-hover-fill-color);\n",
              "  }\n",
              "\n",
              "  .colab-df-quickchart-complete:disabled,\n",
              "  .colab-df-quickchart-complete:disabled:hover {\n",
              "    background-color: var(--disabled-bg-color);\n",
              "    fill: var(--disabled-fill-color);\n",
              "    box-shadow: none;\n",
              "  }\n",
              "\n",
              "  .colab-df-spinner {\n",
              "    border: 2px solid var(--fill-color);\n",
              "    border-color: transparent;\n",
              "    border-bottom-color: var(--fill-color);\n",
              "    animation:\n",
              "      spin 1s steps(1) infinite;\n",
              "  }\n",
              "\n",
              "  @keyframes spin {\n",
              "    0% {\n",
              "      border-color: transparent;\n",
              "      border-bottom-color: var(--fill-color);\n",
              "      border-left-color: var(--fill-color);\n",
              "    }\n",
              "    20% {\n",
              "      border-color: transparent;\n",
              "      border-left-color: var(--fill-color);\n",
              "      border-top-color: var(--fill-color);\n",
              "    }\n",
              "    30% {\n",
              "      border-color: transparent;\n",
              "      border-left-color: var(--fill-color);\n",
              "      border-top-color: var(--fill-color);\n",
              "      border-right-color: var(--fill-color);\n",
              "    }\n",
              "    40% {\n",
              "      border-color: transparent;\n",
              "      border-right-color: var(--fill-color);\n",
              "      border-top-color: var(--fill-color);\n",
              "    }\n",
              "    60% {\n",
              "      border-color: transparent;\n",
              "      border-right-color: var(--fill-color);\n",
              "    }\n",
              "    80% {\n",
              "      border-color: transparent;\n",
              "      border-right-color: var(--fill-color);\n",
              "      border-bottom-color: var(--fill-color);\n",
              "    }\n",
              "    90% {\n",
              "      border-color: transparent;\n",
              "      border-bottom-color: var(--fill-color);\n",
              "    }\n",
              "  }\n",
              "</style>\n",
              "\n",
              "      <script>\n",
              "        async function quickchart(key) {\n",
              "          const quickchartButtonEl =\n",
              "            document.querySelector('#' + key + ' button');\n",
              "          quickchartButtonEl.disabled = true;  // To prevent multiple clicks.\n",
              "          quickchartButtonEl.classList.add('colab-df-spinner');\n",
              "          try {\n",
              "            const charts = await google.colab.kernel.invokeFunction(\n",
              "                'suggestCharts', [key], {});\n",
              "          } catch (error) {\n",
              "            console.error('Error during call to suggestCharts:', error);\n",
              "          }\n",
              "          quickchartButtonEl.classList.remove('colab-df-spinner');\n",
              "          quickchartButtonEl.classList.add('colab-df-quickchart-complete');\n",
              "        }\n",
              "        (() => {\n",
              "          let quickchartButtonEl =\n",
              "            document.querySelector('#df-e8e3acab-e87a-4312-b7e7-fc2061a5e457 button');\n",
              "          quickchartButtonEl.style.display =\n",
              "            google.colab.kernel.accessAllowed ? 'block' : 'none';\n",
              "        })();\n",
              "      </script>\n",
              "    </div>\n",
              "\n",
              "  <div id=\"id_739f22d5-e0f8-40ca-b815-e9fc7b87806d\">\n",
              "    <style>\n",
              "      .colab-df-generate {\n",
              "        background-color: #E8F0FE;\n",
              "        border: none;\n",
              "        border-radius: 50%;\n",
              "        cursor: pointer;\n",
              "        display: none;\n",
              "        fill: #1967D2;\n",
              "        height: 32px;\n",
              "        padding: 0 0 0 0;\n",
              "        width: 32px;\n",
              "      }\n",
              "\n",
              "      .colab-df-generate:hover {\n",
              "        background-color: #E2EBFA;\n",
              "        box-shadow: 0px 1px 2px rgba(60, 64, 67, 0.3), 0px 1px 3px 1px rgba(60, 64, 67, 0.15);\n",
              "        fill: #174EA6;\n",
              "      }\n",
              "\n",
              "      [theme=dark] .colab-df-generate {\n",
              "        background-color: #3B4455;\n",
              "        fill: #D2E3FC;\n",
              "      }\n",
              "\n",
              "      [theme=dark] .colab-df-generate:hover {\n",
              "        background-color: #434B5C;\n",
              "        box-shadow: 0px 1px 3px 1px rgba(0, 0, 0, 0.15);\n",
              "        filter: drop-shadow(0px 1px 2px rgba(0, 0, 0, 0.3));\n",
              "        fill: #FFFFFF;\n",
              "      }\n",
              "    </style>\n",
              "    <button class=\"colab-df-generate\" onclick=\"generateWithVariable('df_idiomas')\"\n",
              "            title=\"Generate code using this dataframe.\"\n",
              "            style=\"display:none;\">\n",
              "\n",
              "  <svg xmlns=\"http://www.w3.org/2000/svg\" height=\"24px\"viewBox=\"0 0 24 24\"\n",
              "       width=\"24px\">\n",
              "    <path d=\"M7,19H8.4L18.45,9,17,7.55,7,17.6ZM5,21V16.75L18.45,3.32a2,2,0,0,1,2.83,0l1.4,1.43a1.91,1.91,0,0,1,.58,1.4,1.91,1.91,0,0,1-.58,1.4L9.25,21ZM18.45,9,17,7.55Zm-12,3A5.31,5.31,0,0,0,4.9,8.1,5.31,5.31,0,0,0,1,6.5,5.31,5.31,0,0,0,4.9,4.9,5.31,5.31,0,0,0,6.5,1,5.31,5.31,0,0,0,8.1,4.9,5.31,5.31,0,0,0,12,6.5,5.46,5.46,0,0,0,6.5,12Z\"/>\n",
              "  </svg>\n",
              "    </button>\n",
              "    <script>\n",
              "      (() => {\n",
              "      const buttonEl =\n",
              "        document.querySelector('#id_739f22d5-e0f8-40ca-b815-e9fc7b87806d button.colab-df-generate');\n",
              "      buttonEl.style.display =\n",
              "        google.colab.kernel.accessAllowed ? 'block' : 'none';\n",
              "\n",
              "      buttonEl.onclick = () => {\n",
              "        google.colab.notebook.generateWithVariable('df_idiomas');\n",
              "      }\n",
              "      })();\n",
              "    </script>\n",
              "  </div>\n",
              "\n",
              "    </div>\n",
              "  </div>\n"
            ],
            "application/vnd.google.colaboratory.intrinsic+json": {
              "type": "dataframe",
              "variable_name": "df_idiomas",
              "summary": "{\n  \"name\": \"df_idiomas\",\n  \"rows\": 7,\n  \"fields\": [\n    {\n      \"column\": \"Nombre del archivo\",\n      \"properties\": {\n        \"dtype\": \"string\",\n        \"num_unique_values\": 7,\n        \"samples\": [\n          \"whatboardgame_review.txt\",\n          \"board_game_co_uk_guide.txt\",\n          \"bluehighwaygames_description.txt\"\n        ],\n        \"semantic_type\": \"\",\n        \"description\": \"\"\n      }\n    },\n    {\n      \"column\": \"Idioma\",\n      \"properties\": {\n        \"dtype\": \"category\",\n        \"num_unique_values\": 1,\n        \"samples\": [\n          \"en\"\n        ],\n        \"semantic_type\": \"\",\n        \"description\": \"\"\n      }\n    }\n  ]\n}"
            }
          },
          "metadata": {},
          "execution_count": 125
        }
      ]
    },
    {
      "cell_type": "markdown",
      "source": [
        "##EJERCICIO 5\n",
        "En el caso de las reseñas realizadas por usuarios, utiliza análisis de sentimientos con modelos pre entrenados y guarda la clasificación predecida de cada reseña.\n",
        "\n",
        "Luego, crea un sistema de búsquedas por similitud semántica y que permita filtrar por sentimiento para obtener.\n"
      ],
      "metadata": {
        "id": "c2dgwPcvspc9"
      }
    },
    {
      "cell_type": "code",
      "source": [],
      "metadata": {
        "id": "Hp0L6XeTODa0"
      },
      "execution_count": null,
      "outputs": []
    },
    {
      "cell_type": "markdown",
      "source": [
        "## EJERCICIO 6\n",
        "Crea un set de datos de consultas (más de 300 preguntas en total) y categorizalas entre la\n",
        "fuente de datos que pueda llegar a responder esa pregunta entre estadísticas,\n",
        "información y relaciones.\n",
        "Por ejemplo:\n",
        "- ¿Cómo gano en el ajedrez? -> Información\n",
        "- ¿Quién trabajó para el ta-te-ti? -> Relaciones\n",
        "- ¿Qué puntaje tienen las damas? -> Estadística\n",
        "\n",
        "A continuación, transforma esas consultas en vectores y entrena un modelo de clasificación\n",
        "(a gusto del estudiante) en donde pueda predecir la categoría a través de la consulta\n",
        "ingresada.\n",
        "Agregar métricas y análisis durante todo el desarrollo, trabaje en varios modelos y\n",
        "comparelos."
      ],
      "metadata": {
        "id": "k1Uw6TrDsqxE"
      }
    },
    {
      "cell_type": "code",
      "execution_count": null,
      "metadata": {
        "id": "HGhk1idkrLsC"
      },
      "outputs": [],
      "source": []
    }
  ]
}