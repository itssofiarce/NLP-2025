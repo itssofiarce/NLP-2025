{
  "nbformat": 4,
  "nbformat_minor": 0,
  "metadata": {
    "colab": {
      "provenance": [],
      "authorship_tag": "ABX9TyO5pz/virET01tbskDaCajL",
      "include_colab_link": true
    },
    "kernelspec": {
      "name": "python3",
      "display_name": "Python 3"
    },
    "language_info": {
      "name": "python"
    }
  },
  "cells": [
    {
      "cell_type": "markdown",
      "metadata": {
        "id": "view-in-github",
        "colab_type": "text"
      },
      "source": [
        "<a href=\"https://colab.research.google.com/github/itssofiarce/NLP-2025/blob/main/tp_sagrada/sagrada_video_extraction.ipynb\" target=\"_parent\"><img src=\"https://colab.research.google.com/assets/colab-badge.svg\" alt=\"Open In Colab\"/></a>"
      ]
    },
    {
      "cell_type": "code",
      "execution_count": null,
      "metadata": {
        "id": "hh89IJSIa4Ti"
      },
      "outputs": [],
      "source": [
        "# Selenium\n",
        "# https://selenium-python.readthedocs.io/\n",
        "\n",
        "\n",
        "\n",
        "#MISUT MEEPLE, THE BOARD GAME.\n",
        "# https://boardgamegeek.com/boardgame/199561/sagrada/files\n",
        "# https://misutmeeple.com/2018/08/resena-sagrada/\n"
      ]
    },
    {
      "cell_type": "code",
      "source": [
        "!apt-get update\n",
        "!pip install selenium webdriver-manager flask"
      ],
      "metadata": {
        "id": "LO_aRNfUbWNf",
        "colab": {
          "base_uri": "https://localhost:8080/"
        },
        "outputId": "bcdc7a90-397a-4f63-811c-c4444af7cf7d"
      },
      "execution_count": 9,
      "outputs": [
        {
          "output_type": "stream",
          "name": "stdout",
          "text": [
            "\r0% [Working]\r            \rHit:1 https://developer.download.nvidia.com/compute/cuda/repos/ubuntu2204/x86_64  InRelease\n",
            "Get:2 https://cloud.r-project.org/bin/linux/ubuntu jammy-cran40/ InRelease [3,632 B]\n",
            "Get:3 http://security.ubuntu.com/ubuntu jammy-security InRelease [129 kB]\n",
            "Hit:4 http://archive.ubuntu.com/ubuntu jammy InRelease\n",
            "Get:5 http://archive.ubuntu.com/ubuntu jammy-updates InRelease [128 kB]\n",
            "Get:6 https://r2u.stat.illinois.edu/ubuntu jammy InRelease [6,555 B]\n",
            "Hit:7 https://ppa.launchpadcontent.net/deadsnakes/ppa/ubuntu jammy InRelease\n",
            "Hit:8 https://ppa.launchpadcontent.net/graphics-drivers/ppa/ubuntu jammy InRelease\n",
            "Get:9 https://r2u.stat.illinois.edu/ubuntu jammy/main amd64 Packages [2,678 kB]\n",
            "Hit:10 https://ppa.launchpadcontent.net/ubuntugis/ppa/ubuntu jammy InRelease\n",
            "Get:11 http://security.ubuntu.com/ubuntu jammy-security/universe amd64 Packages [1,237 kB]\n",
            "Get:12 http://archive.ubuntu.com/ubuntu jammy-backports InRelease [127 kB]\n",
            "Get:13 http://archive.ubuntu.com/ubuntu jammy-updates/universe amd64 Packages [1,535 kB]\n",
            "Get:14 http://security.ubuntu.com/ubuntu jammy-security/main amd64 Packages [2,692 kB]\n",
            "Get:15 https://r2u.stat.illinois.edu/ubuntu jammy/main all Packages [8,765 kB]\n",
            "Get:16 http://archive.ubuntu.com/ubuntu jammy-updates/main amd64 Packages [3,003 kB]\n",
            "Get:17 http://archive.ubuntu.com/ubuntu jammy-updates/restricted amd64 Packages [3,962 kB]\n",
            "Get:18 http://archive.ubuntu.com/ubuntu jammy-backports/main amd64 Packages [82.7 kB]\n",
            "Get:19 http://archive.ubuntu.com/ubuntu jammy-backports/universe amd64 Packages [35.2 kB]\n",
            "Fetched 24.4 MB in 4s (5,596 kB/s)\n",
            "Reading package lists... Done\n",
            "W: Skipping acquire of configured file 'main/source/Sources' as repository 'https://r2u.stat.illinois.edu/ubuntu jammy InRelease' does not seem to provide it (sources.list entry misspelt?)\n",
            "Collecting selenium\n",
            "  Downloading selenium-4.30.0-py3-none-any.whl.metadata (7.5 kB)\n",
            "Collecting webdriver-manager\n",
            "  Downloading webdriver_manager-4.0.2-py2.py3-none-any.whl.metadata (12 kB)\n",
            "Requirement already satisfied: flask in /usr/local/lib/python3.11/dist-packages (3.1.0)\n",
            "Requirement already satisfied: urllib3<3,>=1.26 in /usr/local/lib/python3.11/dist-packages (from urllib3[socks]<3,>=1.26->selenium) (2.3.0)\n",
            "Collecting trio~=0.17 (from selenium)\n",
            "  Downloading trio-0.29.0-py3-none-any.whl.metadata (8.5 kB)\n",
            "Collecting trio-websocket~=0.9 (from selenium)\n",
            "  Downloading trio_websocket-0.12.2-py3-none-any.whl.metadata (5.1 kB)\n",
            "Requirement already satisfied: certifi>=2021.10.8 in /usr/local/lib/python3.11/dist-packages (from selenium) (2025.1.31)\n",
            "Requirement already satisfied: typing_extensions~=4.9 in /usr/local/lib/python3.11/dist-packages (from selenium) (4.12.2)\n",
            "Requirement already satisfied: websocket-client~=1.8 in /usr/local/lib/python3.11/dist-packages (from selenium) (1.8.0)\n",
            "Requirement already satisfied: requests in /usr/local/lib/python3.11/dist-packages (from webdriver-manager) (2.32.3)\n",
            "Collecting python-dotenv (from webdriver-manager)\n",
            "  Downloading python_dotenv-1.0.1-py3-none-any.whl.metadata (23 kB)\n",
            "Requirement already satisfied: packaging in /usr/local/lib/python3.11/dist-packages (from webdriver-manager) (24.2)\n",
            "Requirement already satisfied: Werkzeug>=3.1 in /usr/local/lib/python3.11/dist-packages (from flask) (3.1.3)\n",
            "Requirement already satisfied: Jinja2>=3.1.2 in /usr/local/lib/python3.11/dist-packages (from flask) (3.1.6)\n",
            "Requirement already satisfied: itsdangerous>=2.2 in /usr/local/lib/python3.11/dist-packages (from flask) (2.2.0)\n",
            "Requirement already satisfied: click>=8.1.3 in /usr/local/lib/python3.11/dist-packages (from flask) (8.1.8)\n",
            "Requirement already satisfied: blinker>=1.9 in /usr/local/lib/python3.11/dist-packages (from flask) (1.9.0)\n",
            "Requirement already satisfied: MarkupSafe>=2.0 in /usr/local/lib/python3.11/dist-packages (from Jinja2>=3.1.2->flask) (3.0.2)\n",
            "Requirement already satisfied: attrs>=23.2.0 in /usr/local/lib/python3.11/dist-packages (from trio~=0.17->selenium) (25.3.0)\n",
            "Requirement already satisfied: sortedcontainers in /usr/local/lib/python3.11/dist-packages (from trio~=0.17->selenium) (2.4.0)\n",
            "Requirement already satisfied: idna in /usr/local/lib/python3.11/dist-packages (from trio~=0.17->selenium) (3.10)\n",
            "Collecting outcome (from trio~=0.17->selenium)\n",
            "  Downloading outcome-1.3.0.post0-py2.py3-none-any.whl.metadata (2.6 kB)\n",
            "Requirement already satisfied: sniffio>=1.3.0 in /usr/local/lib/python3.11/dist-packages (from trio~=0.17->selenium) (1.3.1)\n",
            "Collecting wsproto>=0.14 (from trio-websocket~=0.9->selenium)\n",
            "  Downloading wsproto-1.2.0-py3-none-any.whl.metadata (5.6 kB)\n",
            "Requirement already satisfied: pysocks!=1.5.7,<2.0,>=1.5.6 in /usr/local/lib/python3.11/dist-packages (from urllib3[socks]<3,>=1.26->selenium) (1.7.1)\n",
            "Requirement already satisfied: charset-normalizer<4,>=2 in /usr/local/lib/python3.11/dist-packages (from requests->webdriver-manager) (3.4.1)\n",
            "Requirement already satisfied: h11<1,>=0.9.0 in /usr/local/lib/python3.11/dist-packages (from wsproto>=0.14->trio-websocket~=0.9->selenium) (0.14.0)\n",
            "Downloading selenium-4.30.0-py3-none-any.whl (9.4 MB)\n",
            "\u001b[2K   \u001b[90m━━━━━━━━━━━━━━━━━━━━━━━━━━━━━━━━━━━━━━━━\u001b[0m \u001b[32m9.4/9.4 MB\u001b[0m \u001b[31m63.6 MB/s\u001b[0m eta \u001b[36m0:00:00\u001b[0m\n",
            "\u001b[?25hDownloading webdriver_manager-4.0.2-py2.py3-none-any.whl (27 kB)\n",
            "Downloading trio-0.29.0-py3-none-any.whl (492 kB)\n",
            "\u001b[2K   \u001b[90m━━━━━━━━━━━━━━━━━━━━━━━━━━━━━━━━━━━━━━━━\u001b[0m \u001b[32m492.9/492.9 kB\u001b[0m \u001b[31m34.5 MB/s\u001b[0m eta \u001b[36m0:00:00\u001b[0m\n",
            "\u001b[?25hDownloading trio_websocket-0.12.2-py3-none-any.whl (21 kB)\n",
            "Downloading python_dotenv-1.0.1-py3-none-any.whl (19 kB)\n",
            "Downloading outcome-1.3.0.post0-py2.py3-none-any.whl (10 kB)\n",
            "Downloading wsproto-1.2.0-py3-none-any.whl (24 kB)\n",
            "Installing collected packages: wsproto, python-dotenv, outcome, webdriver-manager, trio, trio-websocket, selenium\n",
            "Successfully installed outcome-1.3.0.post0 python-dotenv-1.0.1 selenium-4.30.0 trio-0.29.0 trio-websocket-0.12.2 webdriver-manager-4.0.2 wsproto-1.2.0\n"
          ]
        }
      ]
    },
    {
      "cell_type": "code",
      "source": [
        "from selenium import webdriver\n",
        "from selenium.webdriver.chrome.service import Service\n",
        "from selenium.webdriver.chrome.options import Options\n",
        "from selenium.webdriver.common.by import By\n",
        "from selenium.webdriver.support.ui import WebDriverWait\n",
        "from selenium.webdriver.support import expected_conditions as EC\n",
        "import time"
      ],
      "metadata": {
        "id": "HTWUaiOfdXDo"
      },
      "execution_count": 15,
      "outputs": []
    },
    {
      "cell_type": "code",
      "source": [
        "def start_driver(url, wait_load=True, delay=5, num_of_videos=10):\n",
        "    \"\"\"\n",
        "    TBD\n",
        "    \"\"\"\n",
        "    # Configuración más detallada de las opciones de Chrome\n",
        "    chrome_options = Options()\n",
        "    chrome_options.add_argument('--headless')\n",
        "    chrome_options.add_argument('--no-sandbox')\n",
        "    chrome_options.add_argument('--disable-dev-shm-usage')\n",
        "    chrome_options.add_argument('--disable-gpu')\n",
        "\n",
        "    # Configurar la ruta del driver\n",
        "    service = Service('/usr/bin/chromedriver')\n",
        "\n",
        "    driver = webdriver.Chrome(options=chrome_options)\n",
        "\n",
        "    # Navegar a la página para extraer videos\n",
        "    driver.get(url)\n",
        "\n",
        "    # Verificar si se debe esperar por la carga de la página\n",
        "    if wait_load:\n",
        "        print(f\"Esperando {delay} segundos para que cargue la página...\")\n",
        "        time.sleep(delay)\n",
        "\n",
        "    return driver\n",
        ""
      ],
      "metadata": {
        "id": "C2zjdcxWcs1e"
      },
      "execution_count": 16,
      "outputs": []
    },
    {
      "cell_type": "code",
      "source": [
        "def video_load(url,driver, file_to_save):\n",
        "    \"\"\"\n",
        "    TBD\n",
        "    \"\"\"\n",
        "\n",
        "    # Navegar a la página para extraer videos\n",
        "    driver.get(url)\n",
        "\n",
        "    # Intentar extraer los videos por nombre de tag\n",
        "    videos = driver.find_elements(By.TAG_NAME, \"geek-video\")\n",
        "\n",
        "    # Verificar si se encontraron videos\n",
        "    if not videos:\n",
        "      print(\"No se encontraron videos en la página.\")\n",
        "      return\n",
        "\n",
        "    # Imprimir encabezado\n",
        "    total_vid = len(videos)\n",
        "    print(f\"{total_vid} videos encontrados:\")\n",
        "\n",
        "    video_list = []\n",
        "    fieldnames = ['duración', 'titulo', 'tipo', 'canal', 'dia_publicación', 'idioma', 'likes', 'comentarios', 'link']\n",
        "\n",
        "    # Agrego encabezado\n",
        "    video_list.insert(0, fieldnames)\n",
        "\n",
        "    # Iterar y mostrar detalles de los videos\n",
        "    for i, video in enumerate(videos, start=0):\n",
        "        # Extraer detalles del video\n",
        "        full_raw_data = video.find_elements(By.TAG_NAME, 'a')\n",
        "\n",
        "        duración = full_raw_data[0].text\n",
        "        titulo = full_raw_data[1].text\n",
        "        tipo = full_raw_data[2].text.split()[1]\n",
        "        canal = full_raw_data[3].text.split()[2]\n",
        "        dia_publicación = full_raw_data[4].text\n",
        "        idioma = full_raw_data[5].text\n",
        "        likes = full_raw_data[6].text.split()[0]\n",
        "        comentarios = full_raw_data[6].text.split()[1]\n",
        "\n",
        "        link = full_raw_data[0].get_attribute('href')\n",
        "\n",
        "        video_list.append([duración,\n",
        "                          titulo,\n",
        "                          tipo,\n",
        "                          canal,\n",
        "                          dia_publicación,\n",
        "                          idioma,\n",
        "                          likes,\n",
        "                          comentarios,\n",
        "                          link])\n",
        "\n",
        "    return video_list\n"
      ],
      "metadata": {
        "id": "nuSjqiO4euOv"
      },
      "execution_count": 184,
      "outputs": []
    },
    {
      "cell_type": "code",
      "source": [
        "import os\n",
        "import csv\n",
        "\n",
        "def load_videos_to_csv(file, options=None):\n",
        "  \"\"\"\n",
        "  TBD\n",
        "  \"\"\"\n",
        "\n",
        "  if os.path.exists(file):\n",
        "    if options == \"--recreate\":\n",
        "      os.remove(file)\n",
        "      print('Se borró el archivo')\n",
        "  else:\n",
        "    print(\"El archivo no existe. No se puede recrear. ¿Desea crearlo? y/n\")\n",
        "    option = input()\n",
        "    if option == 'n':\n",
        "      print('El archivo no se recreó.')\n",
        "      return\n",
        "\n",
        "\n",
        "  # funcion con argumento --recreate va a recargar el archivo de los videos\n",
        "  print('Creando el archivo')\n",
        "  with open(file, 'w', newline='') as csvfile:\n",
        "      writer = csv.writer(csvfile) #data_videos[0].keys()\n",
        "      writer.writerows(data_videos)\n",
        "\n",
        "  print('Archivo creado')"
      ],
      "metadata": {
        "id": "47GMcjDcx0qX"
      },
      "execution_count": 183,
      "outputs": []
    },
    {
      "cell_type": "code",
      "source": [
        "# Web URL\n",
        "url_videos = \"https://boardgamegeek.com/boardgame/199561/sagrada/videos/all\"\n",
        "driver=start_driver(url_videos)\n"
      ],
      "metadata": {
        "colab": {
          "base_uri": "https://localhost:8080/"
        },
        "id": "hwcQFHI2bs2Y",
        "outputId": "19d0fd3a-da44-48da-9aa3-bf96ececf301"
      },
      "execution_count": 113,
      "outputs": [
        {
          "output_type": "stream",
          "name": "stdout",
          "text": [
            "Esperando 5 segundos para que cargue la página...\n"
          ]
        }
      ]
    },
    {
      "cell_type": "code",
      "source": [
        "# Navegar a la página para extraer videos\n",
        "data_videos = video_load(url_videos,driver, \"file_to_save.csv\")"
      ],
      "metadata": {
        "colab": {
          "base_uri": "https://localhost:8080/"
        },
        "id": "YQo-TmL-fzTt",
        "outputId": "2a1c07f2-2344-4245-fbc2-932073f996fb"
      },
      "execution_count": 185,
      "outputs": [
        {
          "output_type": "stream",
          "name": "stdout",
          "text": [
            "36 videos encontrados:\n"
          ]
        }
      ]
    },
    {
      "cell_type": "code",
      "source": [
        "# Cargar videos en archivo\n",
        "load_videos_to_csv(\"sagrada_videos.csv\", '--recreate')"
      ],
      "metadata": {
        "colab": {
          "base_uri": "https://localhost:8080/"
        },
        "id": "4qcN5FztBMAW",
        "outputId": "9e38adf7-f1cd-4282-d94d-5d8473fab556"
      },
      "execution_count": 187,
      "outputs": [
        {
          "output_type": "stream",
          "name": "stdout",
          "text": [
            "Se borró el archivo\n",
            "Creando el archivo\n",
            "Archivo creado\n"
          ]
        }
      ]
    }
  ]
}