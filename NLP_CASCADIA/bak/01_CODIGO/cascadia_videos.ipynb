{
 "cells": [
  {
   "cell_type": "code",
   "execution_count": null,
   "metadata": {},
   "outputs": [],
   "source": [
    "#!pip install youtube-transcript-api"
   ]
  },
  {
   "cell_type": "code",
   "execution_count": 2,
   "metadata": {},
   "outputs": [],
   "source": [
    "from youtube_transcript_api import YouTubeTranscriptApi\n",
    "\n",
    "# ID del video de YouTube\n",
    "video_id = 'OQWJHZjAdAk'\n",
    "transcript = YouTubeTranscriptApi.get_transcript(video_id)  # https://www.youtube.com/watch?v=OQWJHZjAdAk&t=3s\n",
    "\n",
    "\n",
    "# Mostrar la transcripción, con horario de inicio y fin\n",
    "# for entry in transcript:\n",
    "#     print(f\"{entry['start']} - {entry['start'] + entry['duration']}: {entry['text']}\")\n",
    "\n",
    "# Extraer y mostrar solo el texto de la transcripción\n",
    "# transcription_text = ' '.join([entry['text'] for entry in transcript])\n",
    "# print(transcription_text)\n"
   ]
  },
  {
   "cell_type": "code",
   "execution_count": 3,
   "metadata": {},
   "outputs": [],
   "source": [
    "# Nombre del archivo de texto\n",
    "filename = 'transcripcion_video1.txt'\n",
    "\n",
    "# Escribir cada entrada de la transcripción en una línea del archivo\n",
    "with open(filename, 'w', encoding='utf-8') as file:\n",
    "    for entry in transcript:\n",
    "        file.write(entry['text'] + '\\n')"
   ]
  }
 ],
 "metadata": {
  "kernelspec": {
   "display_name": "env",
   "language": "python",
   "name": "python3"
  },
  "language_info": {
   "codemirror_mode": {
    "name": "ipython",
    "version": 3
   },
   "file_extension": ".py",
   "mimetype": "text/x-python",
   "name": "python",
   "nbconvert_exporter": "python",
   "pygments_lexer": "ipython3",
   "version": "3.12.4"
  }
 },
 "nbformat": 4,
 "nbformat_minor": 2
}
