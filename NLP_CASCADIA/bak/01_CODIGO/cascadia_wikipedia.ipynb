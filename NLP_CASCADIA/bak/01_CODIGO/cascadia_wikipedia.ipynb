{
 "cells": [
  {
   "cell_type": "code",
   "execution_count": null,
   "metadata": {},
   "outputs": [],
   "source": [
    "#!pip install wikipedia\n",
    "#!pip install wikipedia-api\n",
    "\n",
    "import wikipedia\n",
    "import wikipediaapi"
   ]
  },
  {
   "cell_type": "code",
   "execution_count": null,
   "metadata": {},
   "outputs": [],
   "source": [
    "import wikipediaapi\n",
    "\n",
    "# Configura el idioma de Wikipedia que deseas usar, en este caso, español ('es').\n",
    "wiki_wiki = wikipediaapi.Wikipedia(language='en', user_agent=\"MiAplicacion/1.0\")  # idioma \"en\" es Inglés\n",
    "\n",
    "# Obtén el título de la página en español.\n",
    "page_title = \"Cascadia_(board_game)\"\n",
    "\n",
    "# Obtén la página que deseas. Utiliza el título de la página en lugar de la URL completa.\n",
    "page = wiki_wiki.page(page_title)  # Título de la página en español\n",
    "\n",
    "# Verifica si la página existe usando el meétodo exist()\n",
    "if not page.exists():\n",
    "    print(\"La página no existe.\")\n",
    "else:\n",
    "    # Imprime el resumen de la página.\n",
    "    #print(\"Resumen:\", page.summary[:100])  # Los primeros 100 caracteres del resumen\n",
    "\n",
    "    # Si deseas obtener el contenido completo:\n",
    "    #print(\"Contenido completo:\", page.text[:2000])  # Los primeros 100 caracteres del contenido completo\n",
    "    print(\"Contenido completo:\", page.text)  \n"
   ]
  },
  {
   "cell_type": "code",
   "execution_count": null,
   "metadata": {},
   "outputs": [],
   "source": [
    "# Nombre del archivo de texto\n",
    "filename = \"wikipedia_cascadia_en.txt\"\n",
    "\n",
    "# Escribe el contenido completo de la página en el archivo\n",
    "with open(filename, 'w', encoding='utf-8') as file:\n",
    "    file.write(page.text)\n",
    "    print(f\"El contenido de la página '{page_title}' se ha guardado en '{filename}'.\")"
   ]
  },
  {
   "cell_type": "code",
   "execution_count": null,
   "metadata": {},
   "outputs": [],
   "source": []
  },
  {
   "cell_type": "code",
   "execution_count": null,
   "metadata": {},
   "outputs": [],
   "source": []
  }
 ],
 "metadata": {
  "kernelspec": {
   "display_name": "env",
   "language": "python",
   "name": "python3"
  },
  "language_info": {
   "name": "python",
   "version": "3.12.4"
  }
 },
 "nbformat": 4,
 "nbformat_minor": 2
}
