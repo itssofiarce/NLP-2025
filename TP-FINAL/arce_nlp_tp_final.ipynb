{
  "nbformat": 4,
  "nbformat_minor": 0,
  "metadata": {
    "colab": {
      "provenance": [],
      "authorship_tag": "ABX9TyMuub2TVN+7bQ0N01KjIY8M",
      "include_colab_link": true
    },
    "kernelspec": {
      "name": "python3",
      "display_name": "Python 3"
    },
    "language_info": {
      "name": "python"
    },
    "widgets": {
      "application/vnd.jupyter.widget-state+json": {
        "fa9a31099c2b496d8c149ff54c6a20d7": {
          "model_module": "@jupyter-widgets/controls",
          "model_name": "HBoxModel",
          "model_module_version": "1.5.0",
          "state": {
            "_dom_classes": [],
            "_model_module": "@jupyter-widgets/controls",
            "_model_module_version": "1.5.0",
            "_model_name": "HBoxModel",
            "_view_count": null,
            "_view_module": "@jupyter-widgets/controls",
            "_view_module_version": "1.5.0",
            "_view_name": "HBoxView",
            "box_style": "",
            "children": [
              "IPY_MODEL_47fdd3e7c3124328a4506e7c58154518",
              "IPY_MODEL_568f81ff802e479bbc800b4a9bcc09fd",
              "IPY_MODEL_8de5a34418374fcb8734889e0e484c55"
            ],
            "layout": "IPY_MODEL_f65787a3532c4e9b96ba2f0d1cbf9298"
          }
        },
        "47fdd3e7c3124328a4506e7c58154518": {
          "model_module": "@jupyter-widgets/controls",
          "model_name": "HTMLModel",
          "model_module_version": "1.5.0",
          "state": {
            "_dom_classes": [],
            "_model_module": "@jupyter-widgets/controls",
            "_model_module_version": "1.5.0",
            "_model_name": "HTMLModel",
            "_view_count": null,
            "_view_module": "@jupyter-widgets/controls",
            "_view_module_version": "1.5.0",
            "_view_name": "HTMLView",
            "description": "",
            "description_tooltip": null,
            "layout": "IPY_MODEL_fe0b8d33dd044dfca44cabb982d27aad",
            "placeholder": "​",
            "style": "IPY_MODEL_897e510b032043cc978b0e718250aa13",
            "value": "Batches: 100%"
          }
        },
        "568f81ff802e479bbc800b4a9bcc09fd": {
          "model_module": "@jupyter-widgets/controls",
          "model_name": "FloatProgressModel",
          "model_module_version": "1.5.0",
          "state": {
            "_dom_classes": [],
            "_model_module": "@jupyter-widgets/controls",
            "_model_module_version": "1.5.0",
            "_model_name": "FloatProgressModel",
            "_view_count": null,
            "_view_module": "@jupyter-widgets/controls",
            "_view_module_version": "1.5.0",
            "_view_name": "ProgressView",
            "bar_style": "success",
            "description": "",
            "description_tooltip": null,
            "layout": "IPY_MODEL_cbb54be3a48e435295832439f6d31de1",
            "max": 1,
            "min": 0,
            "orientation": "horizontal",
            "style": "IPY_MODEL_d9c2dbbc4c98490a947882595c03594a",
            "value": 1
          }
        },
        "8de5a34418374fcb8734889e0e484c55": {
          "model_module": "@jupyter-widgets/controls",
          "model_name": "HTMLModel",
          "model_module_version": "1.5.0",
          "state": {
            "_dom_classes": [],
            "_model_module": "@jupyter-widgets/controls",
            "_model_module_version": "1.5.0",
            "_model_name": "HTMLModel",
            "_view_count": null,
            "_view_module": "@jupyter-widgets/controls",
            "_view_module_version": "1.5.0",
            "_view_name": "HTMLView",
            "description": "",
            "description_tooltip": null,
            "layout": "IPY_MODEL_1600ba6b0ca047dc8ec406dc7baa382b",
            "placeholder": "​",
            "style": "IPY_MODEL_3ee245b674d341f683619d19a8bb1250",
            "value": " 1/1 [00:00&lt;00:00,  3.03it/s]"
          }
        },
        "f65787a3532c4e9b96ba2f0d1cbf9298": {
          "model_module": "@jupyter-widgets/base",
          "model_name": "LayoutModel",
          "model_module_version": "1.2.0",
          "state": {
            "_model_module": "@jupyter-widgets/base",
            "_model_module_version": "1.2.0",
            "_model_name": "LayoutModel",
            "_view_count": null,
            "_view_module": "@jupyter-widgets/base",
            "_view_module_version": "1.2.0",
            "_view_name": "LayoutView",
            "align_content": null,
            "align_items": null,
            "align_self": null,
            "border": null,
            "bottom": null,
            "display": null,
            "flex": null,
            "flex_flow": null,
            "grid_area": null,
            "grid_auto_columns": null,
            "grid_auto_flow": null,
            "grid_auto_rows": null,
            "grid_column": null,
            "grid_gap": null,
            "grid_row": null,
            "grid_template_areas": null,
            "grid_template_columns": null,
            "grid_template_rows": null,
            "height": null,
            "justify_content": null,
            "justify_items": null,
            "left": null,
            "margin": null,
            "max_height": null,
            "max_width": null,
            "min_height": null,
            "min_width": null,
            "object_fit": null,
            "object_position": null,
            "order": null,
            "overflow": null,
            "overflow_x": null,
            "overflow_y": null,
            "padding": null,
            "right": null,
            "top": null,
            "visibility": null,
            "width": null
          }
        },
        "fe0b8d33dd044dfca44cabb982d27aad": {
          "model_module": "@jupyter-widgets/base",
          "model_name": "LayoutModel",
          "model_module_version": "1.2.0",
          "state": {
            "_model_module": "@jupyter-widgets/base",
            "_model_module_version": "1.2.0",
            "_model_name": "LayoutModel",
            "_view_count": null,
            "_view_module": "@jupyter-widgets/base",
            "_view_module_version": "1.2.0",
            "_view_name": "LayoutView",
            "align_content": null,
            "align_items": null,
            "align_self": null,
            "border": null,
            "bottom": null,
            "display": null,
            "flex": null,
            "flex_flow": null,
            "grid_area": null,
            "grid_auto_columns": null,
            "grid_auto_flow": null,
            "grid_auto_rows": null,
            "grid_column": null,
            "grid_gap": null,
            "grid_row": null,
            "grid_template_areas": null,
            "grid_template_columns": null,
            "grid_template_rows": null,
            "height": null,
            "justify_content": null,
            "justify_items": null,
            "left": null,
            "margin": null,
            "max_height": null,
            "max_width": null,
            "min_height": null,
            "min_width": null,
            "object_fit": null,
            "object_position": null,
            "order": null,
            "overflow": null,
            "overflow_x": null,
            "overflow_y": null,
            "padding": null,
            "right": null,
            "top": null,
            "visibility": null,
            "width": null
          }
        },
        "897e510b032043cc978b0e718250aa13": {
          "model_module": "@jupyter-widgets/controls",
          "model_name": "DescriptionStyleModel",
          "model_module_version": "1.5.0",
          "state": {
            "_model_module": "@jupyter-widgets/controls",
            "_model_module_version": "1.5.0",
            "_model_name": "DescriptionStyleModel",
            "_view_count": null,
            "_view_module": "@jupyter-widgets/base",
            "_view_module_version": "1.2.0",
            "_view_name": "StyleView",
            "description_width": ""
          }
        },
        "cbb54be3a48e435295832439f6d31de1": {
          "model_module": "@jupyter-widgets/base",
          "model_name": "LayoutModel",
          "model_module_version": "1.2.0",
          "state": {
            "_model_module": "@jupyter-widgets/base",
            "_model_module_version": "1.2.0",
            "_model_name": "LayoutModel",
            "_view_count": null,
            "_view_module": "@jupyter-widgets/base",
            "_view_module_version": "1.2.0",
            "_view_name": "LayoutView",
            "align_content": null,
            "align_items": null,
            "align_self": null,
            "border": null,
            "bottom": null,
            "display": null,
            "flex": null,
            "flex_flow": null,
            "grid_area": null,
            "grid_auto_columns": null,
            "grid_auto_flow": null,
            "grid_auto_rows": null,
            "grid_column": null,
            "grid_gap": null,
            "grid_row": null,
            "grid_template_areas": null,
            "grid_template_columns": null,
            "grid_template_rows": null,
            "height": null,
            "justify_content": null,
            "justify_items": null,
            "left": null,
            "margin": null,
            "max_height": null,
            "max_width": null,
            "min_height": null,
            "min_width": null,
            "object_fit": null,
            "object_position": null,
            "order": null,
            "overflow": null,
            "overflow_x": null,
            "overflow_y": null,
            "padding": null,
            "right": null,
            "top": null,
            "visibility": null,
            "width": null
          }
        },
        "d9c2dbbc4c98490a947882595c03594a": {
          "model_module": "@jupyter-widgets/controls",
          "model_name": "ProgressStyleModel",
          "model_module_version": "1.5.0",
          "state": {
            "_model_module": "@jupyter-widgets/controls",
            "_model_module_version": "1.5.0",
            "_model_name": "ProgressStyleModel",
            "_view_count": null,
            "_view_module": "@jupyter-widgets/base",
            "_view_module_version": "1.2.0",
            "_view_name": "StyleView",
            "bar_color": null,
            "description_width": ""
          }
        },
        "1600ba6b0ca047dc8ec406dc7baa382b": {
          "model_module": "@jupyter-widgets/base",
          "model_name": "LayoutModel",
          "model_module_version": "1.2.0",
          "state": {
            "_model_module": "@jupyter-widgets/base",
            "_model_module_version": "1.2.0",
            "_model_name": "LayoutModel",
            "_view_count": null,
            "_view_module": "@jupyter-widgets/base",
            "_view_module_version": "1.2.0",
            "_view_name": "LayoutView",
            "align_content": null,
            "align_items": null,
            "align_self": null,
            "border": null,
            "bottom": null,
            "display": null,
            "flex": null,
            "flex_flow": null,
            "grid_area": null,
            "grid_auto_columns": null,
            "grid_auto_flow": null,
            "grid_auto_rows": null,
            "grid_column": null,
            "grid_gap": null,
            "grid_row": null,
            "grid_template_areas": null,
            "grid_template_columns": null,
            "grid_template_rows": null,
            "height": null,
            "justify_content": null,
            "justify_items": null,
            "left": null,
            "margin": null,
            "max_height": null,
            "max_width": null,
            "min_height": null,
            "min_width": null,
            "object_fit": null,
            "object_position": null,
            "order": null,
            "overflow": null,
            "overflow_x": null,
            "overflow_y": null,
            "padding": null,
            "right": null,
            "top": null,
            "visibility": null,
            "width": null
          }
        },
        "3ee245b674d341f683619d19a8bb1250": {
          "model_module": "@jupyter-widgets/controls",
          "model_name": "DescriptionStyleModel",
          "model_module_version": "1.5.0",
          "state": {
            "_model_module": "@jupyter-widgets/controls",
            "_model_module_version": "1.5.0",
            "_model_name": "DescriptionStyleModel",
            "_view_count": null,
            "_view_module": "@jupyter-widgets/base",
            "_view_module_version": "1.2.0",
            "_view_name": "StyleView",
            "description_width": ""
          }
        },
        "534058290f39419197606d9d78cf4c21": {
          "model_module": "@jupyter-widgets/controls",
          "model_name": "HBoxModel",
          "model_module_version": "1.5.0",
          "state": {
            "_dom_classes": [],
            "_model_module": "@jupyter-widgets/controls",
            "_model_module_version": "1.5.0",
            "_model_name": "HBoxModel",
            "_view_count": null,
            "_view_module": "@jupyter-widgets/controls",
            "_view_module_version": "1.5.0",
            "_view_name": "HBoxView",
            "box_style": "",
            "children": [
              "IPY_MODEL_684ee7a009d04f0180abb8bed94180b9",
              "IPY_MODEL_b343fadbd79d4e6d8955ceea527f5244",
              "IPY_MODEL_4a1fb9e4f1f54106a87199c5e468b2d6"
            ],
            "layout": "IPY_MODEL_5f091a8b0238442aa7e864ac167a5494"
          }
        },
        "684ee7a009d04f0180abb8bed94180b9": {
          "model_module": "@jupyter-widgets/controls",
          "model_name": "HTMLModel",
          "model_module_version": "1.5.0",
          "state": {
            "_dom_classes": [],
            "_model_module": "@jupyter-widgets/controls",
            "_model_module_version": "1.5.0",
            "_model_name": "HTMLModel",
            "_view_count": null,
            "_view_module": "@jupyter-widgets/controls",
            "_view_module_version": "1.5.0",
            "_view_name": "HTMLView",
            "description": "",
            "description_tooltip": null,
            "layout": "IPY_MODEL_572c89f08fdb4ddc802c404842a77427",
            "placeholder": "​",
            "style": "IPY_MODEL_b7a21d7496a3464d8c91623955373cc9",
            "value": "Batches: 100%"
          }
        },
        "b343fadbd79d4e6d8955ceea527f5244": {
          "model_module": "@jupyter-widgets/controls",
          "model_name": "FloatProgressModel",
          "model_module_version": "1.5.0",
          "state": {
            "_dom_classes": [],
            "_model_module": "@jupyter-widgets/controls",
            "_model_module_version": "1.5.0",
            "_model_name": "FloatProgressModel",
            "_view_count": null,
            "_view_module": "@jupyter-widgets/controls",
            "_view_module_version": "1.5.0",
            "_view_name": "ProgressView",
            "bar_style": "success",
            "description": "",
            "description_tooltip": null,
            "layout": "IPY_MODEL_fc7b2d0e61a2480bb3718d29c72e96a8",
            "max": 1,
            "min": 0,
            "orientation": "horizontal",
            "style": "IPY_MODEL_8167bc337bb140e1836126dfeb683735",
            "value": 1
          }
        },
        "4a1fb9e4f1f54106a87199c5e468b2d6": {
          "model_module": "@jupyter-widgets/controls",
          "model_name": "HTMLModel",
          "model_module_version": "1.5.0",
          "state": {
            "_dom_classes": [],
            "_model_module": "@jupyter-widgets/controls",
            "_model_module_version": "1.5.0",
            "_model_name": "HTMLModel",
            "_view_count": null,
            "_view_module": "@jupyter-widgets/controls",
            "_view_module_version": "1.5.0",
            "_view_name": "HTMLView",
            "description": "",
            "description_tooltip": null,
            "layout": "IPY_MODEL_774d23dcfdde40ff8977f01627efcf5d",
            "placeholder": "​",
            "style": "IPY_MODEL_71601c1ba383480e8cb7b3a27cb6a840",
            "value": " 1/1 [00:00&lt;00:00,  2.65it/s]"
          }
        },
        "5f091a8b0238442aa7e864ac167a5494": {
          "model_module": "@jupyter-widgets/base",
          "model_name": "LayoutModel",
          "model_module_version": "1.2.0",
          "state": {
            "_model_module": "@jupyter-widgets/base",
            "_model_module_version": "1.2.0",
            "_model_name": "LayoutModel",
            "_view_count": null,
            "_view_module": "@jupyter-widgets/base",
            "_view_module_version": "1.2.0",
            "_view_name": "LayoutView",
            "align_content": null,
            "align_items": null,
            "align_self": null,
            "border": null,
            "bottom": null,
            "display": null,
            "flex": null,
            "flex_flow": null,
            "grid_area": null,
            "grid_auto_columns": null,
            "grid_auto_flow": null,
            "grid_auto_rows": null,
            "grid_column": null,
            "grid_gap": null,
            "grid_row": null,
            "grid_template_areas": null,
            "grid_template_columns": null,
            "grid_template_rows": null,
            "height": null,
            "justify_content": null,
            "justify_items": null,
            "left": null,
            "margin": null,
            "max_height": null,
            "max_width": null,
            "min_height": null,
            "min_width": null,
            "object_fit": null,
            "object_position": null,
            "order": null,
            "overflow": null,
            "overflow_x": null,
            "overflow_y": null,
            "padding": null,
            "right": null,
            "top": null,
            "visibility": null,
            "width": null
          }
        },
        "572c89f08fdb4ddc802c404842a77427": {
          "model_module": "@jupyter-widgets/base",
          "model_name": "LayoutModel",
          "model_module_version": "1.2.0",
          "state": {
            "_model_module": "@jupyter-widgets/base",
            "_model_module_version": "1.2.0",
            "_model_name": "LayoutModel",
            "_view_count": null,
            "_view_module": "@jupyter-widgets/base",
            "_view_module_version": "1.2.0",
            "_view_name": "LayoutView",
            "align_content": null,
            "align_items": null,
            "align_self": null,
            "border": null,
            "bottom": null,
            "display": null,
            "flex": null,
            "flex_flow": null,
            "grid_area": null,
            "grid_auto_columns": null,
            "grid_auto_flow": null,
            "grid_auto_rows": null,
            "grid_column": null,
            "grid_gap": null,
            "grid_row": null,
            "grid_template_areas": null,
            "grid_template_columns": null,
            "grid_template_rows": null,
            "height": null,
            "justify_content": null,
            "justify_items": null,
            "left": null,
            "margin": null,
            "max_height": null,
            "max_width": null,
            "min_height": null,
            "min_width": null,
            "object_fit": null,
            "object_position": null,
            "order": null,
            "overflow": null,
            "overflow_x": null,
            "overflow_y": null,
            "padding": null,
            "right": null,
            "top": null,
            "visibility": null,
            "width": null
          }
        },
        "b7a21d7496a3464d8c91623955373cc9": {
          "model_module": "@jupyter-widgets/controls",
          "model_name": "DescriptionStyleModel",
          "model_module_version": "1.5.0",
          "state": {
            "_model_module": "@jupyter-widgets/controls",
            "_model_module_version": "1.5.0",
            "_model_name": "DescriptionStyleModel",
            "_view_count": null,
            "_view_module": "@jupyter-widgets/base",
            "_view_module_version": "1.2.0",
            "_view_name": "StyleView",
            "description_width": ""
          }
        },
        "fc7b2d0e61a2480bb3718d29c72e96a8": {
          "model_module": "@jupyter-widgets/base",
          "model_name": "LayoutModel",
          "model_module_version": "1.2.0",
          "state": {
            "_model_module": "@jupyter-widgets/base",
            "_model_module_version": "1.2.0",
            "_model_name": "LayoutModel",
            "_view_count": null,
            "_view_module": "@jupyter-widgets/base",
            "_view_module_version": "1.2.0",
            "_view_name": "LayoutView",
            "align_content": null,
            "align_items": null,
            "align_self": null,
            "border": null,
            "bottom": null,
            "display": null,
            "flex": null,
            "flex_flow": null,
            "grid_area": null,
            "grid_auto_columns": null,
            "grid_auto_flow": null,
            "grid_auto_rows": null,
            "grid_column": null,
            "grid_gap": null,
            "grid_row": null,
            "grid_template_areas": null,
            "grid_template_columns": null,
            "grid_template_rows": null,
            "height": null,
            "justify_content": null,
            "justify_items": null,
            "left": null,
            "margin": null,
            "max_height": null,
            "max_width": null,
            "min_height": null,
            "min_width": null,
            "object_fit": null,
            "object_position": null,
            "order": null,
            "overflow": null,
            "overflow_x": null,
            "overflow_y": null,
            "padding": null,
            "right": null,
            "top": null,
            "visibility": null,
            "width": null
          }
        },
        "8167bc337bb140e1836126dfeb683735": {
          "model_module": "@jupyter-widgets/controls",
          "model_name": "ProgressStyleModel",
          "model_module_version": "1.5.0",
          "state": {
            "_model_module": "@jupyter-widgets/controls",
            "_model_module_version": "1.5.0",
            "_model_name": "ProgressStyleModel",
            "_view_count": null,
            "_view_module": "@jupyter-widgets/base",
            "_view_module_version": "1.2.0",
            "_view_name": "StyleView",
            "bar_color": null,
            "description_width": ""
          }
        },
        "774d23dcfdde40ff8977f01627efcf5d": {
          "model_module": "@jupyter-widgets/base",
          "model_name": "LayoutModel",
          "model_module_version": "1.2.0",
          "state": {
            "_model_module": "@jupyter-widgets/base",
            "_model_module_version": "1.2.0",
            "_model_name": "LayoutModel",
            "_view_count": null,
            "_view_module": "@jupyter-widgets/base",
            "_view_module_version": "1.2.0",
            "_view_name": "LayoutView",
            "align_content": null,
            "align_items": null,
            "align_self": null,
            "border": null,
            "bottom": null,
            "display": null,
            "flex": null,
            "flex_flow": null,
            "grid_area": null,
            "grid_auto_columns": null,
            "grid_auto_flow": null,
            "grid_auto_rows": null,
            "grid_column": null,
            "grid_gap": null,
            "grid_row": null,
            "grid_template_areas": null,
            "grid_template_columns": null,
            "grid_template_rows": null,
            "height": null,
            "justify_content": null,
            "justify_items": null,
            "left": null,
            "margin": null,
            "max_height": null,
            "max_width": null,
            "min_height": null,
            "min_width": null,
            "object_fit": null,
            "object_position": null,
            "order": null,
            "overflow": null,
            "overflow_x": null,
            "overflow_y": null,
            "padding": null,
            "right": null,
            "top": null,
            "visibility": null,
            "width": null
          }
        },
        "71601c1ba383480e8cb7b3a27cb6a840": {
          "model_module": "@jupyter-widgets/controls",
          "model_name": "DescriptionStyleModel",
          "model_module_version": "1.5.0",
          "state": {
            "_model_module": "@jupyter-widgets/controls",
            "_model_module_version": "1.5.0",
            "_model_name": "DescriptionStyleModel",
            "_view_count": null,
            "_view_module": "@jupyter-widgets/base",
            "_view_module_version": "1.2.0",
            "_view_name": "StyleView",
            "description_width": ""
          }
        }
      }
    }
  },
  "cells": [
    {
      "cell_type": "markdown",
      "metadata": {
        "id": "view-in-github",
        "colab_type": "text"
      },
      "source": [
        "<a href=\"https://colab.research.google.com/github/itssofiarce/NLP-2025/blob/main/arce_nlp_tp_final.ipynb\" target=\"_parent\"><img src=\"https://colab.research.google.com/assets/colab-badge.svg\" alt=\"Open In Colab\"/></a>"
      ]
    },
    {
      "cell_type": "markdown",
      "source": [
        "TUIA NLP 2025\n",
        "TRABAJO PRÁCTICO FINAL\n",
        "\n",
        "Docentes:\n",
        "- jpmanson@gmail.com\n",
        "- alan.geary.b@gmail.com\n",
        "- constantinoferrucci@gmail.com\n",
        "- dolores.sollberger@gmail.com\n"
      ],
      "metadata": {
        "id": "xYAuhCiaJ8t5"
      }
    },
    {
      "cell_type": "markdown",
      "source": [
        "# Implementación de un chatbot con RAG experto en Sagrada"
      ],
      "metadata": {
        "id": "CWoz0VFfKJbE"
      }
    },
    {
      "cell_type": "code",
      "execution_count": null,
      "metadata": {
        "id": "Y2REVJtTJmI8"
      },
      "outputs": [],
      "source": [
        "# Preparación del entorno con lo trabajado en la primer parte del trabajo práctico\n",
        "import os\n",
        "\n",
        "REPO_NAME = \"sagrada\"\n",
        "if REPO_NAME not in os.getcwd():\n",
        "  if not os.path.exists(REPO_NAME):\n",
        "    !git clone https://github.com/itssofiarce/{REPO_NAME}.git\n",
        "  os.chdir(REPO_NAME)"
      ]
    },
    {
      "cell_type": "code",
      "source": [
        "REPO_NAME = \"NLP-2025\"\n",
        "if REPO_NAME not in os.getcwd():\n",
        "  if not os.path.exists(REPO_NAME):\n",
        "    !git clone https://github.com/itssofiarce/{REPO_NAME}.git\n",
        "  os.chdir(REPO_NAME)"
      ],
      "metadata": {
        "id": "P3dBuTenVCda"
      },
      "execution_count": null,
      "outputs": []
    },
    {
      "cell_type": "markdown",
      "source": [
        "# Creación de la base de datos vectorial con la data de Sagrada - Pinecone\n",
        "Para llevar a cabo esta parte primero deben estar completas estas subtareas\n",
        "\n",
        "\n",
        "1.   Preprocesamiento de los datos - generar chunks\n",
        "2.   Instanciar Pinecone\n",
        "3.   Creación de los embbedings para los chunks de la información\n",
        "4.   Agregar los indices a Pinecone\n",
        "5.  Crear la interfaz para encontrar los K fragmentos mas parecidos a la consulta.\n",
        "\n"
      ],
      "metadata": {
        "id": "xqLzR893LFb1"
      }
    },
    {
      "cell_type": "markdown",
      "source": [
        "## 1. Preprocesamiento de los datos - generar chunks\n"
      ],
      "metadata": {
        "id": "t5bNlMwGVHdO"
      }
    },
    {
      "cell_type": "code",
      "source": [
        "!pip install langchain"
      ],
      "metadata": {
        "colab": {
          "base_uri": "https://localhost:8080/"
        },
        "id": "A_gwK-LfZf_u",
        "outputId": "8ec9448d-f433-44b8-c549-5b03be1864b9"
      },
      "execution_count": null,
      "outputs": [
        {
          "output_type": "stream",
          "name": "stdout",
          "text": [
            "Requirement already satisfied: langchain in /usr/local/lib/python3.11/dist-packages (0.3.26)\n",
            "Requirement already satisfied: langchain-core<1.0.0,>=0.3.66 in /usr/local/lib/python3.11/dist-packages (from langchain) (0.3.66)\n",
            "Requirement already satisfied: langchain-text-splitters<1.0.0,>=0.3.8 in /usr/local/lib/python3.11/dist-packages (from langchain) (0.3.8)\n",
            "Requirement already satisfied: langsmith>=0.1.17 in /usr/local/lib/python3.11/dist-packages (from langchain) (0.3.45)\n",
            "Requirement already satisfied: pydantic<3.0.0,>=2.7.4 in /usr/local/lib/python3.11/dist-packages (from langchain) (2.11.7)\n",
            "Requirement already satisfied: SQLAlchemy<3,>=1.4 in /usr/local/lib/python3.11/dist-packages (from langchain) (2.0.41)\n",
            "Requirement already satisfied: requests<3,>=2 in /usr/local/lib/python3.11/dist-packages (from langchain) (2.32.3)\n",
            "Requirement already satisfied: PyYAML>=5.3 in /usr/local/lib/python3.11/dist-packages (from langchain) (6.0.2)\n",
            "Requirement already satisfied: tenacity!=8.4.0,<10.0.0,>=8.1.0 in /usr/local/lib/python3.11/dist-packages (from langchain-core<1.0.0,>=0.3.66->langchain) (9.1.2)\n",
            "Requirement already satisfied: jsonpatch<2.0,>=1.33 in /usr/local/lib/python3.11/dist-packages (from langchain-core<1.0.0,>=0.3.66->langchain) (1.33)\n",
            "Requirement already satisfied: packaging<25,>=23.2 in /usr/local/lib/python3.11/dist-packages (from langchain-core<1.0.0,>=0.3.66->langchain) (24.2)\n",
            "Requirement already satisfied: typing-extensions>=4.7 in /usr/local/lib/python3.11/dist-packages (from langchain-core<1.0.0,>=0.3.66->langchain) (4.14.0)\n",
            "Requirement already satisfied: httpx<1,>=0.23.0 in /usr/local/lib/python3.11/dist-packages (from langsmith>=0.1.17->langchain) (0.28.1)\n",
            "Requirement already satisfied: orjson<4.0.0,>=3.9.14 in /usr/local/lib/python3.11/dist-packages (from langsmith>=0.1.17->langchain) (3.10.18)\n",
            "Requirement already satisfied: requests-toolbelt<2.0.0,>=1.0.0 in /usr/local/lib/python3.11/dist-packages (from langsmith>=0.1.17->langchain) (1.0.0)\n",
            "Requirement already satisfied: zstandard<0.24.0,>=0.23.0 in /usr/local/lib/python3.11/dist-packages (from langsmith>=0.1.17->langchain) (0.23.0)\n",
            "Requirement already satisfied: annotated-types>=0.6.0 in /usr/local/lib/python3.11/dist-packages (from pydantic<3.0.0,>=2.7.4->langchain) (0.7.0)\n",
            "Requirement already satisfied: pydantic-core==2.33.2 in /usr/local/lib/python3.11/dist-packages (from pydantic<3.0.0,>=2.7.4->langchain) (2.33.2)\n",
            "Requirement already satisfied: typing-inspection>=0.4.0 in /usr/local/lib/python3.11/dist-packages (from pydantic<3.0.0,>=2.7.4->langchain) (0.4.1)\n",
            "Requirement already satisfied: charset-normalizer<4,>=2 in /usr/local/lib/python3.11/dist-packages (from requests<3,>=2->langchain) (3.4.2)\n",
            "Requirement already satisfied: idna<4,>=2.5 in /usr/local/lib/python3.11/dist-packages (from requests<3,>=2->langchain) (3.10)\n",
            "Requirement already satisfied: urllib3<3,>=1.21.1 in /usr/local/lib/python3.11/dist-packages (from requests<3,>=2->langchain) (2.4.0)\n",
            "Requirement already satisfied: certifi>=2017.4.17 in /usr/local/lib/python3.11/dist-packages (from requests<3,>=2->langchain) (2025.6.15)\n",
            "Requirement already satisfied: greenlet>=1 in /usr/local/lib/python3.11/dist-packages (from SQLAlchemy<3,>=1.4->langchain) (3.2.3)\n",
            "Requirement already satisfied: anyio in /usr/local/lib/python3.11/dist-packages (from httpx<1,>=0.23.0->langsmith>=0.1.17->langchain) (4.9.0)\n",
            "Requirement already satisfied: httpcore==1.* in /usr/local/lib/python3.11/dist-packages (from httpx<1,>=0.23.0->langsmith>=0.1.17->langchain) (1.0.9)\n",
            "Requirement already satisfied: h11>=0.16 in /usr/local/lib/python3.11/dist-packages (from httpcore==1.*->httpx<1,>=0.23.0->langsmith>=0.1.17->langchain) (0.16.0)\n",
            "Requirement already satisfied: jsonpointer>=1.9 in /usr/local/lib/python3.11/dist-packages (from jsonpatch<2.0,>=1.33->langchain-core<1.0.0,>=0.3.66->langchain) (3.0.0)\n",
            "Requirement already satisfied: sniffio>=1.1 in /usr/local/lib/python3.11/dist-packages (from anyio->httpx<1,>=0.23.0->langsmith>=0.1.17->langchain) (1.3.1)\n"
          ]
        }
      ]
    },
    {
      "cell_type": "code",
      "source": [
        "from langchain_text_splitters import SpacyTextSplitter\n",
        "from langchain_core.documents import Document\n",
        "\n",
        "splitter = SpacyTextSplitter()"
      ],
      "metadata": {
        "id": "jVKGFzhqXd4j"
      },
      "execution_count": null,
      "outputs": []
    },
    {
      "cell_type": "code",
      "source": [
        "# Preprocesamiento de los datos\n",
        "def add_metadata(doc, metadata):\n",
        "  return Document(page_content=doc, metadata=metadata)\n",
        "\n",
        "\n",
        "def preprocess_documentos(ruta_docs, categoria: str):\n",
        "\n",
        "  informacion_pinecone = []\n",
        "\n",
        "  with open(ruta_docs, 'r') as archivo:\n",
        "    contenido = archivo.read()\n",
        "\n",
        "  contenido_spliteado = splitter.split_text(contenido)\n",
        "  chunk_metadata = [add_metadata(chunk, {\"categoria\": categoria, \"num_chunk\": num }) for num, chunk in enumerate(contenido_spliteado)]\n",
        "  informacion_pinecone.extend(chunk_metadata)\n",
        "\n",
        "  return informacion_pinecone\n"
      ],
      "metadata": {
        "id": "S2p-L9MSNx8E"
      },
      "execution_count": null,
      "outputs": []
    },
    {
      "cell_type": "markdown",
      "source": [
        "Como las transcipciones de los videos tienen información y estan dividos por lineas de  --- antes de crearlos en un documento Langchain voy a preprocesar el texto para incluir los datos de las primeras lineas de los textos como metadata\n"
      ],
      "metadata": {
        "id": "0aiGv9FBOaE6"
      }
    },
    {
      "cell_type": "code",
      "source": [
        "def procesar_transcripciones_videos(transc_videos):\n",
        "\n",
        "  transcripciones_pinecone = []\n",
        "\n",
        "  transcipciones_con_metadata = []\n",
        "  metadata = {'categoria': 'transcipcion_video',\n",
        "              'titulo':\"\",\n",
        "              'url': \"\",\n",
        "              'idioma detectado':\"\",\n",
        "              }\n",
        "\n",
        "  with open(transc_videos, 'r') as transc_videos:\n",
        "    contenido = transc_videos.read()\n",
        "\n",
        "  contenido_spliteado = contenido.split(\"------------------------------------------------------------\")\n",
        "\n",
        "  for transcripcion in contenido_spliteado:\n",
        "\n",
        "    partes = transcripcion.split(\"TRANSCRIPCIÓN:\")\n",
        "    try:\n",
        "        cabecera = partes[0]\n",
        "        transcripcion_texto = partes[1]\n",
        "    except IndexError:\n",
        "        # Si no hay transcripción, quiere decir que llegamos al final del texto que termina en -------\n",
        "        continue\n",
        "\n",
        "    for linea in cabecera.splitlines():\n",
        "      if linea.startswith(\"TÍTULO:\"):\n",
        "          metadata[\"titulo\"] = linea.replace(\"TÍTULO:\", \"\").strip()\n",
        "      elif linea.startswith(\"ID:\"):\n",
        "          metadata[\"id\"] = linea.replace(\"ID:\", \"\").strip()\n",
        "      elif linea.startswith(\"URL:\"):\n",
        "          metadata[\"url\"] = linea.replace(\"URL:\", \"\").strip()\n",
        "      elif linea.startswith(\"IDIOMA DETECTADO:\"):\n",
        "          metadata[\"idioma detectado\"] = linea.replace(\"IDIOMA DETECTADO:\", \"\").strip()\n",
        "\n",
        "    transcipciones_con_metadata.append([metadata[\"id\"], metadata])\n",
        "\n",
        "    # Creamos los Document con las transcripciones\n",
        "    contenido_transcripcion_spliteado = splitter.split_text(transcripcion)\n",
        "    chunk_metadata = [add_metadata(chunk, metadata) for num, chunk in enumerate(contenido_transcripcion_spliteado)]\n",
        "    transcripciones_pinecone.extend(chunk_metadata)\n",
        "\n",
        "\n",
        "  return transcripciones_pinecone"
      ],
      "metadata": {
        "id": "mFd9KAZZqBSW"
      },
      "execution_count": null,
      "outputs": []
    },
    {
      "cell_type": "code",
      "source": [
        "informacion_pdfs_pc = preprocess_documentos(\"/content/sagrada/datos/informacion/pdfs_transcriptos.txt\", \"informacion\")"
      ],
      "metadata": {
        "id": "HxMoI9LAXdhX",
        "colab": {
          "base_uri": "https://localhost:8080/"
        },
        "outputId": "467aa7b7-9c46-4a25-d80f-e096060c8a6d"
      },
      "execution_count": null,
      "outputs": [
        {
          "output_type": "stream",
          "name": "stderr",
          "text": [
            "/usr/local/lib/python3.11/dist-packages/spacy/pipeline/lemmatizer.py:188: UserWarning: [W108] The rule-based lemmatizer did not find POS annotation for one or more tokens. Check that your pipeline includes components that assign token.pos, typically 'tagger'+'attribute_ruler' or 'morphologizer'.\n",
            "  warnings.warn(Warnings.W108)\n"
          ]
        }
      ]
    },
    {
      "cell_type": "code",
      "source": [
        "informacion_pdfs_pc[1]"
      ],
      "metadata": {
        "colab": {
          "base_uri": "https://localhost:8080/"
        },
        "id": "04QlmMTlzfpz",
        "outputId": "9f729b57-320d-4fb1-9015-6d685337ce82"
      },
      "execution_count": null,
      "outputs": [
        {
          "output_type": "execute_result",
          "data": {
            "text/plain": [
              "Document(metadata={'categoria': 'informacion', 'num_chunk': 1}, page_content='Ent-\\nende seine Punkte entsprech-\\nferne den Farbwürfel und setze\\nend seiner Wertungskarte.\\n\\ndas Glas mit derselben Zahl ein.\\n\\n\\nSeite 2\\n\\nDer AutomA\\nwählt sofort\\nseinen zweiten würfel\\n\\n\\nAutoma Muste r Sagrada\\nS G S G S G\\nELTENES LAS ELTENES LAS ELTENES LAS\\nP P P\\nOSITIONSKARTE OSITIONSKARTE OSITIONSKARTE\\nS G S G S G\\nELTENES LAS ELTENES LAS ELTENES LAS\\nP P P\\nOSITIONSKARTE OSITIONSKARTE OSITIONSKARTE\\nwenn Der AutomA gewählte\\nwürfel Der runDe nicht nutzen\\nkAnn, DArf er sie\\n\\nAuf leere\\nfelDer legen unD DAbei Die\\nfArbAnweisungen ignorieren\\nPOSITION SELTENES GLAS POSITION SELTENES GLAS POSITION SELTENES GLAS\\nPOSITION SELTENES GLAS POSITION SELTENES GLAS POSITION SELTENES GLAS\\n\\nEglomise Brush\\n2\\nAurora Sagradis Luz Celestial\\nFractal Drops Mov ig e n a o n r y i n o g n e c o d l\\n\\ni o e r i n re y s o tr u ic r t\\n\\nw io\\n\\ni n n s dow\\n12 Window Y\\np\\no\\nl\\nu\\nac\\nm\\nem\\nus\\ne\\nt\\nn\\no\\nt\\nb\\nr\\ne\\ne\\ny\\nst r\\na\\ni\\nl\\nc\\nl\\nt\\no\\nio\\nth\\nn\\ne\\ns\\nr\\nPattern Cards\\n12 Tool Cards\\n2\\n(18 x g r 5 e C en ol , 9 o b 0 r l s u D –\\n\\ne i , c r p e e u d r , p y l e e l ) low, Dice Bag Obje 1 c 0 t i P v u e b C l Se\\n\\ni a ts c o r f 1 L d\\n\\ni & g 2 h s t v a S lu h e\\n\\na s d\\n\\na e ny s where\\n4 P W la in y d er o w Bo F\\n\\na r r a d m s e 4 Score Markers\\n\\n# S Su h m ad o e f s v a o l f u G es r o e n e n gr • e e P n r i\\n\\nd v i a c t e e\\n5 Private\\n24 Favor Tokens\\nObjective\\nCards\\nPl 1 a - y e 4 rs M 30 in - u 4 te 5 s Age 13+ Round Track (front) STOP!\\n\\n\\nScore Track (back)\\nWe’ll teach you how to play!\\n\\nVisit\\nO Floodgategames.com/sagrada\\nverview\\nand watch a video explanation.\\n\\n\\nYou are an artist competing with fellow artists to Each round, players will take turns drafting from\\ncreate the most beautiful stained glass window a pool of dice, placing these dice on their window.\\n\\n\\nin the Sagrada Familia.\\n\\nYour glass pieces are Players must place them within the color and\\nrepresented by dice, which have a color and a shade restrictions on their Window card, and never\\nshade - indicated by the values on the dice (the have adjacent dice of the same color or value.\\n\\n\\nlower the value the lighter the shade).\\n\\n\\nAfter 10 rounds, players score points based on\\npublic and private objectives — the highest scoring\\nartisan is the winner!\\n\\n\\nCredits\\nGAME DESIGNERS PLAYTESTING Nikhil Katarya, Andreea Adamescu, Tyler Anderson, Tanya Andrews,\\nDaryl Andrews (@darylmandrews) Gina Angelea, Rob Baksh, Chris Bell, Steve Caires, Jen Farmer, Jon Gilmour, David\\nAdrian Adamescu (@Aadrian131)\\n\\nLeung, Stephen Sauer, Emily Tinawi, Nate Anderson, Brian Schrier, Evan Pedersen,\\nJosh Slivken, Michael Guigliano, Dan Marta, Samuel Bailey,\\nGAME DEVELOPMENT Curtis Clark, Kelsy Clark, Karl Liggin, Raul Taveras, Jax\\nBen Harkins (@BenHarkins) Sperling, Benny Sperling, and the Game Artisans of Canada\\nGRAPHIC DESIGN & ILLUSTRATION EDITING Emily Tinawi, Simon Rourke, David Castillo\\nPeter Wocken Design LLC (@PeterWocken)\\nSpecial Thanks to all of our Kickstarter Backers!\\n\\n\\nPUBLISHED BY\\nFloodgate Games (@FloodgateGames) Floodgate.games/sagrada\\nv1.2\\nP S G S\\nlayer etuP ame etuP\\n1•\\n\\nShuffle the Private Objective Cards (Gray die A• Place the Round Track near the center of the\\non the back) and give 1 to each player face down.\\n\\nplay area.\\n\\n\\nPlayers may secretly look at this card.\\n\\nB• Shuffle all of the Tool Cards and place 3 face up\\n2• Give each player 2 random Window Pattern in the center of the play area.\\n\\n\\nCards and 1 Window Frame Player Board.\\n\\nC• Shuffle all of the Public Objective cards (Blue\\nEach player selects 1 of the 4 Window Patterns to die on the back) and place 3 face up.\\n\\n\\nplay (front or back), the other card isn’t used.\\n\\n\\nD• Place all 90 dice in the Dice Bag.\\n\\n\\nNOte: Windows have varying difficulty from level 3\\nE•\\n\\nRandomly select a player to be the Start Player\\n(easiest) to 6 (hardest) as indicated near the name.\\n\\nand give them the Dice Bag.\\n\\nOne suggested method\\nDifficult windows give more Favor Tokens is whoever most recently visited a cathedral.')"
            ]
          },
          "metadata": {},
          "execution_count": 8
        }
      ]
    },
    {
      "cell_type": "code",
      "source": [
        "transc_videos = procesar_transcripciones_videos(\"/content/sagrada/datos/informacion/videos_transcriptos.txt\")"
      ],
      "metadata": {
        "colab": {
          "base_uri": "https://localhost:8080/"
        },
        "id": "qVv7Y4lTqdW6",
        "outputId": "64c71a48-49d1-4f9e-ab98-bf6162a1b24d"
      },
      "execution_count": null,
      "outputs": [
        {
          "output_type": "stream",
          "name": "stderr",
          "text": [
            "WARNING:langchain_text_splitters.base:Created a chunk of size 4792, which is longer than the specified 4000\n"
          ]
        }
      ]
    },
    {
      "cell_type": "code",
      "source": [
        "transc_videos[2]"
      ],
      "metadata": {
        "colab": {
          "base_uri": "https://localhost:8080/"
        },
        "id": "kM-QYK3L2KD2",
        "outputId": "c67febcb-a582-4e20-8c00-16134f385ac9"
      },
      "execution_count": null,
      "outputs": [
        {
          "output_type": "execute_result",
          "data": {
            "text/plain": [
              "Document(metadata={'categoria': 'transcipcion_video', 'titulo': 'Sagrada — Gen Con 2016 | Video | BoardGameGeek', 'url': 'https://boardgamegeek.com/video/108217/sagrada/sagrada-gen-con-2016', 'idioma detectado': 'en', 'id': 'GMeu2GbirqI'}, page_content=\"TÍTULO:\\n\\nSagrada — Gen Con 2016 | Video | BoardGameGeek\\nID: GMeu2GbirqI\\nURL: https://boardgamegeek.com/video/108217/sagrada/sagrada-gen-con-2016\\nIDIOMA DETECTADO: en\\nTRANSCRIPCIÓN:\\nhe said you're ready internal affairs\\n\\n\\nhi\\n\\nI'm Stephanie straw with\\nboardgamegeek and I am joined by Ben\\nHarkins Oleg eight games\\n\\nhaven\\n\\nwe're\\ngoing to be talking about sigurado just\\nsaying that I am very looking forward to\\nso please tell me about this amazing\\ngame so sagrada is a game by Darrell\\nAndrews and then your designer Adrian\\nmsq\\n\\nand this is a game of dice drafting\\nand window crafted you're building a\\nstained glass window I did that's very\\nintensive\\n\\nI appreciate that so in this\\ngame each of us are artisans helping\\ncomplete the stained glass windows at\\nthe Sagrada Familia the installation in\\nBarcelona\\n\\nokay\\n\\nso we start with our own\\nstained glass window that's an actual\\nplace in our syllabus it has this\\namazing stained glass you got it\\n\\ni\\nbelieve it was inspiration to the\\ndesigners\\n\\nyeah for for this game\\n\\nso it's\\nreally great when a game kinda has the\\ntheme girl up with the mechanic says\\n\\n\\nyeah\\n\\nas it's going so here we go we've\\ngot each of the players that are going\\nto start with a window that has some\\nplans on it for where specific colors or\\nshades of dice need to go we've got\\nthese little 3d printed prototype or a\\nprototype now I know everything here is\\nprototype the arts pretty darn close to\\nfinal but things could still change\\ngameplay wise what we do is each round\\nthe star player grabs grabs dice pulls\\nthem\\nand we're going to be taking turns\\ndrafting these dice to place them on our\\ncard let's say I was the star player I\\ncan place tight nice on my card such\\nthat you could place any die in a light\\nspace or you have to end up matching the\\ncolors or shade restrictions that are on\\nthe dice Ben numbers you got a shade\\nrepresented by the pips on the dice see\\nyou know what you want to pick that one\\n\\n\\nsure i'll pick that one and then\\nStephanie go ahead and draft board I'm\\ngonna do\\nI think I'm gonna do this great matching\\nthere\\n\\nand it's a snake draft so you\\nactually get to draft again\\n\\nyeah\\n\\nand I'm\\ngoing to take\\nthis six from you\\n\\nsuper you'll have to\\nbuild out your window starting from the\\nfrom the spaces that you started on kind\\nof progressing out so it'll need to\\ntouch you you said\\n\\nyep\\n\\nyou got it thanks\\nthat was that was on purpose i know\\n\\ni\\nmean i'll give you the rules as you\\nbreak them you should i'm gonna take\\nthis yelps you need more of those and\\nput that there very good\\n\\nand then now\\n\\n\\nyeah\\n\\nI'm kind of stuck here\\n\\nbut I'm\\ngonna try and go with this purple and\\nmeet that requirement drink you're gonna\\nbuild out you got it\\n\\nso that's the end\\nof the drafting we're going to take the\\nthe final die and that goes on around\\ntrack which I don't have here\\n\\nand so\\nthere's ten rounds in the game you can\\nnotice that we each draft two dice for\\naround and we'll be building out our\\nwindows mm-hmm a couple things about\\nthat first of all why in the world are\\nwe doing this we're dating this cuz it's\\nfun this one done already exactly the\\ngoal of the game is to gain victory\\npoints we've got variable victory point\\nconditions per game so we've got three\\ndifferent ones that are out here roll\\ncolor varieties so for every row that\\nyou don't have repeated colors you're\\ngoing to gain six points at the end of\\nthe game for every column that doesn't\\nhave repeated shades the number on the\\ndie you're getting there are these five\\ncolors in there\\n\\nright you got it only\\nfive colors and then for each for the\\nlonger diagonals that you have on your\\nboard where where the colors are\\ntouching\\n\\nyeah\\n\\nyou're going to gain\\npoints for how long those are ya so\\nwe're going to eat to be working toward\\nthese private objective are these public\\nobjectives reach also going to start\\nwith a public and a private objective\\ncard\\n\\nokay that will keep secret from our\\nopponents please give us on their\\nprivate\")"
            ]
          },
          "metadata": {},
          "execution_count": 10
        }
      ]
    },
    {
      "cell_type": "markdown",
      "source": [
        "## 2. Instanciar Pinecone"
      ],
      "metadata": {
        "id": "gp2F752kz16P"
      }
    },
    {
      "cell_type": "code",
      "source": [
        "from google.colab import userdata\n"
      ],
      "metadata": {
        "id": "bm0v0c-rl4yK"
      },
      "execution_count": null,
      "outputs": []
    },
    {
      "cell_type": "code",
      "source": [
        "!pip install pinecone"
      ],
      "metadata": {
        "colab": {
          "base_uri": "https://localhost:8080/"
        },
        "id": "cmNdB386mgrp",
        "outputId": "730bacff-9c13-4b5e-ea02-7d7b6f6c57e1"
      },
      "execution_count": null,
      "outputs": [
        {
          "output_type": "stream",
          "name": "stdout",
          "text": [
            "Requirement already satisfied: pinecone in /usr/local/lib/python3.11/dist-packages (7.2.0)\n",
            "Requirement already satisfied: certifi>=2019.11.17 in /usr/local/lib/python3.11/dist-packages (from pinecone) (2025.6.15)\n",
            "Requirement already satisfied: pinecone-plugin-assistant<2.0.0,>=1.6.0 in /usr/local/lib/python3.11/dist-packages (from pinecone) (1.7.0)\n",
            "Requirement already satisfied: pinecone-plugin-interface<0.0.8,>=0.0.7 in /usr/local/lib/python3.11/dist-packages (from pinecone) (0.0.7)\n",
            "Requirement already satisfied: python-dateutil>=2.5.3 in /usr/local/lib/python3.11/dist-packages (from pinecone) (2.9.0.post0)\n",
            "Requirement already satisfied: typing-extensions>=3.7.4 in /usr/local/lib/python3.11/dist-packages (from pinecone) (4.14.0)\n",
            "Requirement already satisfied: urllib3>=1.26.0 in /usr/local/lib/python3.11/dist-packages (from pinecone) (2.4.0)\n",
            "Requirement already satisfied: packaging<25.0,>=24.2 in /usr/local/lib/python3.11/dist-packages (from pinecone-plugin-assistant<2.0.0,>=1.6.0->pinecone) (24.2)\n",
            "Requirement already satisfied: requests<3.0.0,>=2.32.3 in /usr/local/lib/python3.11/dist-packages (from pinecone-plugin-assistant<2.0.0,>=1.6.0->pinecone) (2.32.3)\n",
            "Requirement already satisfied: six>=1.5 in /usr/local/lib/python3.11/dist-packages (from python-dateutil>=2.5.3->pinecone) (1.17.0)\n",
            "Requirement already satisfied: charset-normalizer<4,>=2 in /usr/local/lib/python3.11/dist-packages (from requests<3.0.0,>=2.32.3->pinecone-plugin-assistant<2.0.0,>=1.6.0->pinecone) (3.4.2)\n",
            "Requirement already satisfied: idna<4,>=2.5 in /usr/local/lib/python3.11/dist-packages (from requests<3.0.0,>=2.32.3->pinecone-plugin-assistant<2.0.0,>=1.6.0->pinecone) (3.10)\n"
          ]
        }
      ]
    },
    {
      "cell_type": "code",
      "source": [
        "from getpass import getpass\n",
        "\n",
        "def get_pinecone_api_key():\n",
        "\n",
        "    try:\n",
        "      api_key = userdata.get('PINE_TOKEN')\n",
        "    except ImportError:\n",
        "      # If not in Colab or authentication fails, prompt user for API key\n",
        "      print(\"Pinecone API key not found in environment.\")\n",
        "      api_key = getpass(\"Please enter your Pinecone API key: \")\n",
        "      # Save to environment for future use in session\n",
        "      os.environ[\"PINE_TOKEN\"] = api_key\n",
        "\n",
        "    return api_key\n",
        "\n",
        "PINECONE_API_KEY = get_pinecone_api_key()"
      ],
      "metadata": {
        "id": "6UZnXHVSz4Sa"
      },
      "execution_count": null,
      "outputs": []
    },
    {
      "cell_type": "code",
      "source": [
        "from pinecone import Pinecone, ServerlessSpec\n",
        "\n",
        "pc = Pinecone(\n",
        "        api_key=PINECONE_API_KEY,\n",
        "    )\n",
        "index_name = \"sagrada-rag\""
      ],
      "metadata": {
        "id": "n9pB3AX3LCh5"
      },
      "execution_count": null,
      "outputs": []
    },
    {
      "cell_type": "markdown",
      "source": [
        "El indice del cliente de Pinecone tiene las siguientes propiedades:\n",
        "- Nombre del indice: \"sagrada-rag\"\n",
        "- dimension: Que es el tamaño del vector del modelo\n",
        "- metric: \"Cosine\" para usar la distancia del coseno para evaluar la cercanía de los embeddings.\n",
        "- spec: Para indicat que estamos usando la versión alojada en aws de Pinecone en el Free tier"
      ],
      "metadata": {
        "id": "4eKjvPp1qXT-"
      }
    },
    {
      "cell_type": "code",
      "source": [
        "if not pc.has_index(index_name):\n",
        "    pc.create_index(\n",
        "        name=index_name,\n",
        "        dimension=768,\n",
        "        metric=\"cosine\",\n",
        "        spec=ServerlessSpec(\n",
        "            cloud='aws',\n",
        "            region='us-east-1'\n",
        "        )\n",
        "    )\n",
        "\n",
        "index = pc.Index(index_name)"
      ],
      "metadata": {
        "id": "YyolmT6LqT5T"
      },
      "execution_count": null,
      "outputs": []
    },
    {
      "cell_type": "markdown",
      "source": [
        "## 3. Crear los embeddings de los chunks"
      ],
      "metadata": {
        "id": "-1g6s0LeGvSA"
      }
    },
    {
      "cell_type": "code",
      "source": [
        "!pip install langchain_community"
      ],
      "metadata": {
        "colab": {
          "base_uri": "https://localhost:8080/"
        },
        "id": "w5onVian4iJD",
        "outputId": "b89b9269-17c4-40e4-ca25-feeff8ef700c"
      },
      "execution_count": null,
      "outputs": [
        {
          "output_type": "stream",
          "name": "stdout",
          "text": [
            "Requirement already satisfied: langchain_community in /usr/local/lib/python3.11/dist-packages (0.3.26)\n",
            "Requirement already satisfied: langchain-core<1.0.0,>=0.3.66 in /usr/local/lib/python3.11/dist-packages (from langchain_community) (0.3.66)\n",
            "Requirement already satisfied: langchain<1.0.0,>=0.3.26 in /usr/local/lib/python3.11/dist-packages (from langchain_community) (0.3.26)\n",
            "Requirement already satisfied: SQLAlchemy<3,>=1.4 in /usr/local/lib/python3.11/dist-packages (from langchain_community) (2.0.41)\n",
            "Requirement already satisfied: requests<3,>=2 in /usr/local/lib/python3.11/dist-packages (from langchain_community) (2.32.3)\n",
            "Requirement already satisfied: PyYAML>=5.3 in /usr/local/lib/python3.11/dist-packages (from langchain_community) (6.0.2)\n",
            "Requirement already satisfied: aiohttp<4.0.0,>=3.8.3 in /usr/local/lib/python3.11/dist-packages (from langchain_community) (3.11.15)\n",
            "Requirement already satisfied: tenacity!=8.4.0,<10,>=8.1.0 in /usr/local/lib/python3.11/dist-packages (from langchain_community) (9.1.2)\n",
            "Requirement already satisfied: dataclasses-json<0.7,>=0.5.7 in /usr/local/lib/python3.11/dist-packages (from langchain_community) (0.6.7)\n",
            "Requirement already satisfied: pydantic-settings<3.0.0,>=2.4.0 in /usr/local/lib/python3.11/dist-packages (from langchain_community) (2.10.0)\n",
            "Requirement already satisfied: langsmith>=0.1.125 in /usr/local/lib/python3.11/dist-packages (from langchain_community) (0.3.45)\n",
            "Requirement already satisfied: httpx-sse<1.0.0,>=0.4.0 in /usr/local/lib/python3.11/dist-packages (from langchain_community) (0.4.0)\n",
            "Requirement already satisfied: numpy>=1.26.2 in /usr/local/lib/python3.11/dist-packages (from langchain_community) (2.0.2)\n",
            "Requirement already satisfied: aiohappyeyeballs>=2.3.0 in /usr/local/lib/python3.11/dist-packages (from aiohttp<4.0.0,>=3.8.3->langchain_community) (2.6.1)\n",
            "Requirement already satisfied: aiosignal>=1.1.2 in /usr/local/lib/python3.11/dist-packages (from aiohttp<4.0.0,>=3.8.3->langchain_community) (1.3.2)\n",
            "Requirement already satisfied: attrs>=17.3.0 in /usr/local/lib/python3.11/dist-packages (from aiohttp<4.0.0,>=3.8.3->langchain_community) (25.3.0)\n",
            "Requirement already satisfied: frozenlist>=1.1.1 in /usr/local/lib/python3.11/dist-packages (from aiohttp<4.0.0,>=3.8.3->langchain_community) (1.7.0)\n",
            "Requirement already satisfied: multidict<7.0,>=4.5 in /usr/local/lib/python3.11/dist-packages (from aiohttp<4.0.0,>=3.8.3->langchain_community) (6.4.4)\n",
            "Requirement already satisfied: propcache>=0.2.0 in /usr/local/lib/python3.11/dist-packages (from aiohttp<4.0.0,>=3.8.3->langchain_community) (0.3.2)\n",
            "Requirement already satisfied: yarl<2.0,>=1.17.0 in /usr/local/lib/python3.11/dist-packages (from aiohttp<4.0.0,>=3.8.3->langchain_community) (1.20.1)\n",
            "Requirement already satisfied: marshmallow<4.0.0,>=3.18.0 in /usr/local/lib/python3.11/dist-packages (from dataclasses-json<0.7,>=0.5.7->langchain_community) (3.26.1)\n",
            "Requirement already satisfied: typing-inspect<1,>=0.4.0 in /usr/local/lib/python3.11/dist-packages (from dataclasses-json<0.7,>=0.5.7->langchain_community) (0.9.0)\n",
            "Requirement already satisfied: langchain-text-splitters<1.0.0,>=0.3.8 in /usr/local/lib/python3.11/dist-packages (from langchain<1.0.0,>=0.3.26->langchain_community) (0.3.8)\n",
            "Requirement already satisfied: pydantic<3.0.0,>=2.7.4 in /usr/local/lib/python3.11/dist-packages (from langchain<1.0.0,>=0.3.26->langchain_community) (2.11.7)\n",
            "Requirement already satisfied: jsonpatch<2.0,>=1.33 in /usr/local/lib/python3.11/dist-packages (from langchain-core<1.0.0,>=0.3.66->langchain_community) (1.33)\n",
            "Requirement already satisfied: packaging<25,>=23.2 in /usr/local/lib/python3.11/dist-packages (from langchain-core<1.0.0,>=0.3.66->langchain_community) (24.2)\n",
            "Requirement already satisfied: typing-extensions>=4.7 in /usr/local/lib/python3.11/dist-packages (from langchain-core<1.0.0,>=0.3.66->langchain_community) (4.14.0)\n",
            "Requirement already satisfied: httpx<1,>=0.23.0 in /usr/local/lib/python3.11/dist-packages (from langsmith>=0.1.125->langchain_community) (0.28.1)\n",
            "Requirement already satisfied: orjson<4.0.0,>=3.9.14 in /usr/local/lib/python3.11/dist-packages (from langsmith>=0.1.125->langchain_community) (3.10.18)\n",
            "Requirement already satisfied: requests-toolbelt<2.0.0,>=1.0.0 in /usr/local/lib/python3.11/dist-packages (from langsmith>=0.1.125->langchain_community) (1.0.0)\n",
            "Requirement already satisfied: zstandard<0.24.0,>=0.23.0 in /usr/local/lib/python3.11/dist-packages (from langsmith>=0.1.125->langchain_community) (0.23.0)\n",
            "Requirement already satisfied: python-dotenv>=0.21.0 in /usr/local/lib/python3.11/dist-packages (from pydantic-settings<3.0.0,>=2.4.0->langchain_community) (1.1.0)\n",
            "Requirement already satisfied: typing-inspection>=0.4.0 in /usr/local/lib/python3.11/dist-packages (from pydantic-settings<3.0.0,>=2.4.0->langchain_community) (0.4.1)\n",
            "Requirement already satisfied: charset-normalizer<4,>=2 in /usr/local/lib/python3.11/dist-packages (from requests<3,>=2->langchain_community) (3.4.2)\n",
            "Requirement already satisfied: idna<4,>=2.5 in /usr/local/lib/python3.11/dist-packages (from requests<3,>=2->langchain_community) (3.10)\n",
            "Requirement already satisfied: urllib3<3,>=1.21.1 in /usr/local/lib/python3.11/dist-packages (from requests<3,>=2->langchain_community) (2.4.0)\n",
            "Requirement already satisfied: certifi>=2017.4.17 in /usr/local/lib/python3.11/dist-packages (from requests<3,>=2->langchain_community) (2025.6.15)\n",
            "Requirement already satisfied: greenlet>=1 in /usr/local/lib/python3.11/dist-packages (from SQLAlchemy<3,>=1.4->langchain_community) (3.2.3)\n",
            "Requirement already satisfied: anyio in /usr/local/lib/python3.11/dist-packages (from httpx<1,>=0.23.0->langsmith>=0.1.125->langchain_community) (4.9.0)\n",
            "Requirement already satisfied: httpcore==1.* in /usr/local/lib/python3.11/dist-packages (from httpx<1,>=0.23.0->langsmith>=0.1.125->langchain_community) (1.0.9)\n",
            "Requirement already satisfied: h11>=0.16 in /usr/local/lib/python3.11/dist-packages (from httpcore==1.*->httpx<1,>=0.23.0->langsmith>=0.1.125->langchain_community) (0.16.0)\n",
            "Requirement already satisfied: jsonpointer>=1.9 in /usr/local/lib/python3.11/dist-packages (from jsonpatch<2.0,>=1.33->langchain-core<1.0.0,>=0.3.66->langchain_community) (3.0.0)\n",
            "Requirement already satisfied: annotated-types>=0.6.0 in /usr/local/lib/python3.11/dist-packages (from pydantic<3.0.0,>=2.7.4->langchain<1.0.0,>=0.3.26->langchain_community) (0.7.0)\n",
            "Requirement already satisfied: pydantic-core==2.33.2 in /usr/local/lib/python3.11/dist-packages (from pydantic<3.0.0,>=2.7.4->langchain<1.0.0,>=0.3.26->langchain_community) (2.33.2)\n",
            "Requirement already satisfied: mypy-extensions>=0.3.0 in /usr/local/lib/python3.11/dist-packages (from typing-inspect<1,>=0.4.0->dataclasses-json<0.7,>=0.5.7->langchain_community) (1.1.0)\n",
            "Requirement already satisfied: sniffio>=1.1 in /usr/local/lib/python3.11/dist-packages (from anyio->httpx<1,>=0.23.0->langsmith>=0.1.125->langchain_community) (1.3.1)\n"
          ]
        }
      ]
    },
    {
      "cell_type": "code",
      "source": [
        "!pip install langchain_pinecone"
      ],
      "metadata": {
        "colab": {
          "base_uri": "https://localhost:8080/"
        },
        "id": "boT067dIJb-T",
        "outputId": "585129cb-4914-4a23-a0da-4e4b5d301dc2"
      },
      "execution_count": null,
      "outputs": [
        {
          "output_type": "stream",
          "name": "stdout",
          "text": [
            "Requirement already satisfied: langchain_pinecone in /usr/local/lib/python3.11/dist-packages (0.2.8)\n",
            "Requirement already satisfied: langchain-core<1.0.0,>=0.3.34 in /usr/local/lib/python3.11/dist-packages (from langchain_pinecone) (0.3.66)\n",
            "Requirement already satisfied: pinecone<8.0.0,>=6.0.0 in /usr/local/lib/python3.11/dist-packages (from pinecone[asyncio]<8.0.0,>=6.0.0->langchain_pinecone) (7.2.0)\n",
            "Requirement already satisfied: numpy>=1.26.4 in /usr/local/lib/python3.11/dist-packages (from langchain_pinecone) (2.0.2)\n",
            "Requirement already satisfied: langchain-tests<1.0.0,>=0.3.7 in /usr/local/lib/python3.11/dist-packages (from langchain_pinecone) (0.3.20)\n",
            "Requirement already satisfied: langchain-openai>=0.3.11 in /usr/local/lib/python3.11/dist-packages (from langchain_pinecone) (0.3.24)\n",
            "Requirement already satisfied: langsmith>=0.3.45 in /usr/local/lib/python3.11/dist-packages (from langchain-core<1.0.0,>=0.3.34->langchain_pinecone) (0.3.45)\n",
            "Requirement already satisfied: tenacity!=8.4.0,<10.0.0,>=8.1.0 in /usr/local/lib/python3.11/dist-packages (from langchain-core<1.0.0,>=0.3.34->langchain_pinecone) (9.1.2)\n",
            "Requirement already satisfied: jsonpatch<2.0,>=1.33 in /usr/local/lib/python3.11/dist-packages (from langchain-core<1.0.0,>=0.3.34->langchain_pinecone) (1.33)\n",
            "Requirement already satisfied: PyYAML>=5.3 in /usr/local/lib/python3.11/dist-packages (from langchain-core<1.0.0,>=0.3.34->langchain_pinecone) (6.0.2)\n",
            "Requirement already satisfied: packaging<25,>=23.2 in /usr/local/lib/python3.11/dist-packages (from langchain-core<1.0.0,>=0.3.34->langchain_pinecone) (24.2)\n",
            "Requirement already satisfied: typing-extensions>=4.7 in /usr/local/lib/python3.11/dist-packages (from langchain-core<1.0.0,>=0.3.34->langchain_pinecone) (4.14.0)\n",
            "Requirement already satisfied: pydantic>=2.7.4 in /usr/local/lib/python3.11/dist-packages (from langchain-core<1.0.0,>=0.3.34->langchain_pinecone) (2.11.7)\n",
            "Requirement already satisfied: openai<2.0.0,>=1.86.0 in /usr/local/lib/python3.11/dist-packages (from langchain-openai>=0.3.11->langchain_pinecone) (1.86.0)\n",
            "Requirement already satisfied: tiktoken<1,>=0.7 in /usr/local/lib/python3.11/dist-packages (from langchain-openai>=0.3.11->langchain_pinecone) (0.9.0)\n",
            "Requirement already satisfied: pytest<9,>=7 in /usr/local/lib/python3.11/dist-packages (from langchain-tests<1.0.0,>=0.3.7->langchain_pinecone) (8.3.5)\n",
            "Requirement already satisfied: pytest-asyncio<1,>=0.20 in /usr/local/lib/python3.11/dist-packages (from langchain-tests<1.0.0,>=0.3.7->langchain_pinecone) (0.26.0)\n",
            "Requirement already satisfied: httpx<1,>=0.25.0 in /usr/local/lib/python3.11/dist-packages (from langchain-tests<1.0.0,>=0.3.7->langchain_pinecone) (0.28.1)\n",
            "Requirement already satisfied: syrupy<5,>=4 in /usr/local/lib/python3.11/dist-packages (from langchain-tests<1.0.0,>=0.3.7->langchain_pinecone) (4.9.1)\n",
            "Requirement already satisfied: pytest-socket<1,>=0.6.0 in /usr/local/lib/python3.11/dist-packages (from langchain-tests<1.0.0,>=0.3.7->langchain_pinecone) (0.7.0)\n",
            "Requirement already satisfied: pytest-benchmark in /usr/local/lib/python3.11/dist-packages (from langchain-tests<1.0.0,>=0.3.7->langchain_pinecone) (5.1.0)\n",
            "Requirement already satisfied: pytest-codspeed in /usr/local/lib/python3.11/dist-packages (from langchain-tests<1.0.0,>=0.3.7->langchain_pinecone) (3.2.0)\n",
            "Requirement already satisfied: pytest-recording in /usr/local/lib/python3.11/dist-packages (from langchain-tests<1.0.0,>=0.3.7->langchain_pinecone) (0.13.4)\n",
            "Requirement already satisfied: vcrpy>=7.0 in /usr/local/lib/python3.11/dist-packages (from langchain-tests<1.0.0,>=0.3.7->langchain_pinecone) (7.0.0)\n",
            "Requirement already satisfied: certifi>=2019.11.17 in /usr/local/lib/python3.11/dist-packages (from pinecone<8.0.0,>=6.0.0->pinecone[asyncio]<8.0.0,>=6.0.0->langchain_pinecone) (2025.6.15)\n",
            "Requirement already satisfied: pinecone-plugin-assistant<2.0.0,>=1.6.0 in /usr/local/lib/python3.11/dist-packages (from pinecone<8.0.0,>=6.0.0->pinecone[asyncio]<8.0.0,>=6.0.0->langchain_pinecone) (1.7.0)\n",
            "Requirement already satisfied: pinecone-plugin-interface<0.0.8,>=0.0.7 in /usr/local/lib/python3.11/dist-packages (from pinecone<8.0.0,>=6.0.0->pinecone[asyncio]<8.0.0,>=6.0.0->langchain_pinecone) (0.0.7)\n",
            "Requirement already satisfied: python-dateutil>=2.5.3 in /usr/local/lib/python3.11/dist-packages (from pinecone<8.0.0,>=6.0.0->pinecone[asyncio]<8.0.0,>=6.0.0->langchain_pinecone) (2.9.0.post0)\n",
            "Requirement already satisfied: urllib3>=1.26.0 in /usr/local/lib/python3.11/dist-packages (from pinecone<8.0.0,>=6.0.0->pinecone[asyncio]<8.0.0,>=6.0.0->langchain_pinecone) (2.4.0)\n",
            "Requirement already satisfied: aiohttp>=3.9.0 in /usr/local/lib/python3.11/dist-packages (from pinecone[asyncio]<8.0.0,>=6.0.0->langchain_pinecone) (3.11.15)\n",
            "Requirement already satisfied: aiohttp-retry<3.0.0,>=2.9.1 in /usr/local/lib/python3.11/dist-packages (from pinecone[asyncio]<8.0.0,>=6.0.0->langchain_pinecone) (2.9.1)\n",
            "Requirement already satisfied: aiohappyeyeballs>=2.3.0 in /usr/local/lib/python3.11/dist-packages (from aiohttp>=3.9.0->pinecone[asyncio]<8.0.0,>=6.0.0->langchain_pinecone) (2.6.1)\n",
            "Requirement already satisfied: aiosignal>=1.1.2 in /usr/local/lib/python3.11/dist-packages (from aiohttp>=3.9.0->pinecone[asyncio]<8.0.0,>=6.0.0->langchain_pinecone) (1.3.2)\n",
            "Requirement already satisfied: attrs>=17.3.0 in /usr/local/lib/python3.11/dist-packages (from aiohttp>=3.9.0->pinecone[asyncio]<8.0.0,>=6.0.0->langchain_pinecone) (25.3.0)\n",
            "Requirement already satisfied: frozenlist>=1.1.1 in /usr/local/lib/python3.11/dist-packages (from aiohttp>=3.9.0->pinecone[asyncio]<8.0.0,>=6.0.0->langchain_pinecone) (1.7.0)\n",
            "Requirement already satisfied: multidict<7.0,>=4.5 in /usr/local/lib/python3.11/dist-packages (from aiohttp>=3.9.0->pinecone[asyncio]<8.0.0,>=6.0.0->langchain_pinecone) (6.4.4)\n",
            "Requirement already satisfied: propcache>=0.2.0 in /usr/local/lib/python3.11/dist-packages (from aiohttp>=3.9.0->pinecone[asyncio]<8.0.0,>=6.0.0->langchain_pinecone) (0.3.2)\n",
            "Requirement already satisfied: yarl<2.0,>=1.17.0 in /usr/local/lib/python3.11/dist-packages (from aiohttp>=3.9.0->pinecone[asyncio]<8.0.0,>=6.0.0->langchain_pinecone) (1.20.1)\n",
            "Requirement already satisfied: anyio in /usr/local/lib/python3.11/dist-packages (from httpx<1,>=0.25.0->langchain-tests<1.0.0,>=0.3.7->langchain_pinecone) (4.9.0)\n",
            "Requirement already satisfied: httpcore==1.* in /usr/local/lib/python3.11/dist-packages (from httpx<1,>=0.25.0->langchain-tests<1.0.0,>=0.3.7->langchain_pinecone) (1.0.9)\n",
            "Requirement already satisfied: idna in /usr/local/lib/python3.11/dist-packages (from httpx<1,>=0.25.0->langchain-tests<1.0.0,>=0.3.7->langchain_pinecone) (3.10)\n",
            "Requirement already satisfied: h11>=0.16 in /usr/local/lib/python3.11/dist-packages (from httpcore==1.*->httpx<1,>=0.25.0->langchain-tests<1.0.0,>=0.3.7->langchain_pinecone) (0.16.0)\n",
            "Requirement already satisfied: jsonpointer>=1.9 in /usr/local/lib/python3.11/dist-packages (from jsonpatch<2.0,>=1.33->langchain-core<1.0.0,>=0.3.34->langchain_pinecone) (3.0.0)\n",
            "Requirement already satisfied: orjson<4.0.0,>=3.9.14 in /usr/local/lib/python3.11/dist-packages (from langsmith>=0.3.45->langchain-core<1.0.0,>=0.3.34->langchain_pinecone) (3.10.18)\n",
            "Requirement already satisfied: requests<3,>=2 in /usr/local/lib/python3.11/dist-packages (from langsmith>=0.3.45->langchain-core<1.0.0,>=0.3.34->langchain_pinecone) (2.32.3)\n",
            "Requirement already satisfied: requests-toolbelt<2.0.0,>=1.0.0 in /usr/local/lib/python3.11/dist-packages (from langsmith>=0.3.45->langchain-core<1.0.0,>=0.3.34->langchain_pinecone) (1.0.0)\n",
            "Requirement already satisfied: zstandard<0.24.0,>=0.23.0 in /usr/local/lib/python3.11/dist-packages (from langsmith>=0.3.45->langchain-core<1.0.0,>=0.3.34->langchain_pinecone) (0.23.0)\n",
            "Requirement already satisfied: distro<2,>=1.7.0 in /usr/local/lib/python3.11/dist-packages (from openai<2.0.0,>=1.86.0->langchain-openai>=0.3.11->langchain_pinecone) (1.9.0)\n",
            "Requirement already satisfied: jiter<1,>=0.4.0 in /usr/local/lib/python3.11/dist-packages (from openai<2.0.0,>=1.86.0->langchain-openai>=0.3.11->langchain_pinecone) (0.10.0)\n",
            "Requirement already satisfied: sniffio in /usr/local/lib/python3.11/dist-packages (from openai<2.0.0,>=1.86.0->langchain-openai>=0.3.11->langchain_pinecone) (1.3.1)\n",
            "Requirement already satisfied: tqdm>4 in /usr/local/lib/python3.11/dist-packages (from openai<2.0.0,>=1.86.0->langchain-openai>=0.3.11->langchain_pinecone) (4.67.1)\n",
            "Requirement already satisfied: annotated-types>=0.6.0 in /usr/local/lib/python3.11/dist-packages (from pydantic>=2.7.4->langchain-core<1.0.0,>=0.3.34->langchain_pinecone) (0.7.0)\n",
            "Requirement already satisfied: pydantic-core==2.33.2 in /usr/local/lib/python3.11/dist-packages (from pydantic>=2.7.4->langchain-core<1.0.0,>=0.3.34->langchain_pinecone) (2.33.2)\n",
            "Requirement already satisfied: typing-inspection>=0.4.0 in /usr/local/lib/python3.11/dist-packages (from pydantic>=2.7.4->langchain-core<1.0.0,>=0.3.34->langchain_pinecone) (0.4.1)\n",
            "Requirement already satisfied: iniconfig in /usr/local/lib/python3.11/dist-packages (from pytest<9,>=7->langchain-tests<1.0.0,>=0.3.7->langchain_pinecone) (2.1.0)\n",
            "Requirement already satisfied: pluggy<2,>=1.5 in /usr/local/lib/python3.11/dist-packages (from pytest<9,>=7->langchain-tests<1.0.0,>=0.3.7->langchain_pinecone) (1.6.0)\n",
            "Requirement already satisfied: six>=1.5 in /usr/local/lib/python3.11/dist-packages (from python-dateutil>=2.5.3->pinecone<8.0.0,>=6.0.0->pinecone[asyncio]<8.0.0,>=6.0.0->langchain_pinecone) (1.17.0)\n",
            "Requirement already satisfied: regex>=2022.1.18 in /usr/local/lib/python3.11/dist-packages (from tiktoken<1,>=0.7->langchain-openai>=0.3.11->langchain_pinecone) (2024.11.6)\n",
            "Requirement already satisfied: wrapt in /usr/local/lib/python3.11/dist-packages (from vcrpy>=7.0->langchain-tests<1.0.0,>=0.3.7->langchain_pinecone) (1.17.2)\n",
            "Requirement already satisfied: py-cpuinfo in /usr/local/lib/python3.11/dist-packages (from pytest-benchmark->langchain-tests<1.0.0,>=0.3.7->langchain_pinecone) (9.0.0)\n",
            "Requirement already satisfied: cffi>=1.17.1 in /usr/local/lib/python3.11/dist-packages (from pytest-codspeed->langchain-tests<1.0.0,>=0.3.7->langchain_pinecone) (1.17.1)\n",
            "Requirement already satisfied: rich>=13.8.1 in /usr/local/lib/python3.11/dist-packages (from pytest-codspeed->langchain-tests<1.0.0,>=0.3.7->langchain_pinecone) (13.9.4)\n",
            "Requirement already satisfied: pycparser in /usr/local/lib/python3.11/dist-packages (from cffi>=1.17.1->pytest-codspeed->langchain-tests<1.0.0,>=0.3.7->langchain_pinecone) (2.22)\n",
            "Requirement already satisfied: charset-normalizer<4,>=2 in /usr/local/lib/python3.11/dist-packages (from requests<3,>=2->langsmith>=0.3.45->langchain-core<1.0.0,>=0.3.34->langchain_pinecone) (3.4.2)\n",
            "Requirement already satisfied: markdown-it-py>=2.2.0 in /usr/local/lib/python3.11/dist-packages (from rich>=13.8.1->pytest-codspeed->langchain-tests<1.0.0,>=0.3.7->langchain_pinecone) (3.0.0)\n",
            "Requirement already satisfied: pygments<3.0.0,>=2.13.0 in /usr/local/lib/python3.11/dist-packages (from rich>=13.8.1->pytest-codspeed->langchain-tests<1.0.0,>=0.3.7->langchain_pinecone) (2.19.1)\n",
            "Requirement already satisfied: mdurl~=0.1 in /usr/local/lib/python3.11/dist-packages (from markdown-it-py>=2.2.0->rich>=13.8.1->pytest-codspeed->langchain-tests<1.0.0,>=0.3.7->langchain_pinecone) (0.1.2)\n"
          ]
        }
      ]
    },
    {
      "cell_type": "code",
      "source": [
        "from sentence_transformers import SentenceTransformer\n",
        "from langchain_pinecone import PineconeVectorStore\n",
        "from langchain_community.embeddings import HuggingFaceEmbeddings\n",
        "\n",
        "import torch\n",
        "device = 'cuda' if torch.cuda.is_available() else 'cpu'\n",
        "\n",
        "model = SentenceTransformer('sentence-transformers/all-mpnet-base-v2')"
      ],
      "metadata": {
        "id": "MMZp2EFxrZ34"
      },
      "execution_count": null,
      "outputs": []
    },
    {
      "cell_type": "code",
      "source": [
        "data = transc_videos + informacion_pdfs_pc"
      ],
      "metadata": {
        "id": "4ZJbAcL2rdaw"
      },
      "execution_count": null,
      "outputs": []
    },
    {
      "cell_type": "markdown",
      "source": [
        "Para guardarlos en la bdd es necesario generar los IDs para cada chunk."
      ],
      "metadata": {
        "id": "dtKlXe4ftqxQ"
      }
    },
    {
      "cell_type": "code",
      "source": [
        "def generate_ids(chunk):\n",
        "  if chunk.metadata['categoria'] == 'informacion':\n",
        "    return f\"categoria_{chunk.metadata['categoria']}#num_chunk_{chunk.metadata['num_chunk']}\"\n",
        "\n",
        "  if chunk.metadata['categoria'] == 'transcipcion_video':\n",
        "    return f\"categoria_{chunk.metadata['categoria']}#id_{chunk.metadata['id']}#url_{chunk.metadata['url']}\"\n",
        "\n"
      ],
      "metadata": {
        "id": "jDTuW9Cnt7Yk"
      },
      "execution_count": null,
      "outputs": []
    },
    {
      "cell_type": "code",
      "source": [
        "separate_chunks = [generate_ids(doc) for doc in data]\n"
      ],
      "metadata": {
        "id": "iHZ9WnuAshx0"
      },
      "execution_count": null,
      "outputs": []
    },
    {
      "cell_type": "markdown",
      "source": [
        "## 4 Agregar los indices a Pinecone"
      ],
      "metadata": {
        "id": "pZ8NcEfhE2gG"
      }
    },
    {
      "cell_type": "code",
      "source": [
        "embeddings = HuggingFaceEmbeddings(model_name=\"sentence-transformers/all-mpnet-base-v2\")\n",
        "vector_store = PineconeVectorStore(index=index, embedding=embeddings)\n",
        "vector_store.add_documents(documents=data, ids=separate_chunks)"
      ],
      "metadata": {
        "colab": {
          "base_uri": "https://localhost:8080/"
        },
        "id": "2P7sOfmtsIlV",
        "outputId": "f4253cf2-1502-487f-dcce-83d6abcf0f82"
      },
      "execution_count": null,
      "outputs": [
        {
          "output_type": "stream",
          "name": "stderr",
          "text": [
            "/tmp/ipython-input-22-914516624.py:1: LangChainDeprecationWarning: The class `HuggingFaceEmbeddings` was deprecated in LangChain 0.2.2 and will be removed in 1.0. An updated version of the class exists in the :class:`~langchain-huggingface package and should be used instead. To use it run `pip install -U :class:`~langchain-huggingface` and import as `from :class:`~langchain_huggingface import HuggingFaceEmbeddings``.\n",
            "  embeddings = HuggingFaceEmbeddings(model_name=\"sentence-transformers/all-mpnet-base-v2\")\n"
          ]
        },
        {
          "output_type": "execute_result",
          "data": {
            "text/plain": [
              "['categoria_transcipcion_video#id_2JchuN96jB4#url_https://boardgamegeek.com/video/279418/sagrada/sagrada-in-about-3-minutes',\n",
              " 'categoria_transcipcion_video#id_2JchuN96jB4#url_https://boardgamegeek.com/video/279418/sagrada/sagrada-in-about-3-minutes',\n",
              " 'categoria_transcipcion_video#id_GMeu2GbirqI#url_https://boardgamegeek.com/video/108217/sagrada/sagrada-gen-con-2016',\n",
              " 'categoria_transcipcion_video#id_GMeu2GbirqI#url_https://boardgamegeek.com/video/108217/sagrada/sagrada-gen-con-2016',\n",
              " 'categoria_transcipcion_video#id_GMeu2GbirqI#url_https://boardgamegeek.com/video/108217/sagrada/sagrada-gen-con-2016',\n",
              " 'categoria_transcipcion_video#id_ib0etodHNS0#url_https://boardgamegeek.com/video/134582/sagrada/bits-of-board-sagrada-review',\n",
              " 'categoria_transcipcion_video#id_ib0etodHNS0#url_https://boardgamegeek.com/video/134582/sagrada/bits-of-board-sagrada-review',\n",
              " 'categoria_transcipcion_video#id_ib0etodHNS0#url_https://boardgamegeek.com/video/134582/sagrada/bits-of-board-sagrada-review',\n",
              " 'categoria_transcipcion_video#id_ib0etodHNS0#url_https://boardgamegeek.com/video/134582/sagrada/bits-of-board-sagrada-review',\n",
              " 'categoria_transcipcion_video#id_ib0etodHNS0#url_https://boardgamegeek.com/video/134582/sagrada/bits-of-board-sagrada-review',\n",
              " 'categoria_transcipcion_video#id_olAPPUvVlBE#url_https://boardgamegeek.com/video/133090/sagrada/sagrada-review-by-man-vs-meeple',\n",
              " 'categoria_transcipcion_video#id_olAPPUvVlBE#url_https://boardgamegeek.com/video/133090/sagrada/sagrada-review-by-man-vs-meeple',\n",
              " 'categoria_transcipcion_video#id_olAPPUvVlBE#url_https://boardgamegeek.com/video/133090/sagrada/sagrada-review-by-man-vs-meeple',\n",
              " 'categoria_transcipcion_video#id_olAPPUvVlBE#url_https://boardgamegeek.com/video/133090/sagrada/sagrada-review-by-man-vs-meeple',\n",
              " 'categoria_transcipcion_video#id_0jW26nL5zFQ#url_https://boardgamegeek.com/video/137511/sagrada/solomode-games-sagrada-solo-session',\n",
              " 'categoria_transcipcion_video#id_0jW26nL5zFQ#url_https://boardgamegeek.com/video/137511/sagrada/solomode-games-sagrada-solo-session',\n",
              " 'categoria_transcipcion_video#id_0jW26nL5zFQ#url_https://boardgamegeek.com/video/137511/sagrada/solomode-games-sagrada-solo-session',\n",
              " 'categoria_transcipcion_video#id_0jW26nL5zFQ#url_https://boardgamegeek.com/video/137511/sagrada/solomode-games-sagrada-solo-session',\n",
              " 'categoria_transcipcion_video#id_0jW26nL5zFQ#url_https://boardgamegeek.com/video/137511/sagrada/solomode-games-sagrada-solo-session',\n",
              " 'categoria_transcipcion_video#id_iZJyGePr6c8#url_https://boardgamegeek.com/video/144617/sagrada/the-game-boy-geeks-allegro-2-min-review-of-sagrada',\n",
              " 'categoria_transcipcion_video#id_R8v2yzZNpNc#url_https://boardgamegeek.com/video/180136/sagrada/never-bored-gaming-our-thoughts',\n",
              " 'categoria_transcipcion_video#id_R8v2yzZNpNc#url_https://boardgamegeek.com/video/180136/sagrada/never-bored-gaming-our-thoughts',\n",
              " 'categoria_transcipcion_video#id_R8v2yzZNpNc#url_https://boardgamegeek.com/video/180136/sagrada/never-bored-gaming-our-thoughts',\n",
              " 'categoria_transcipcion_video#id_R8v2yzZNpNc#url_https://boardgamegeek.com/video/180136/sagrada/never-bored-gaming-our-thoughts',\n",
              " 'categoria_transcipcion_video#id_N6Kow5ZAYWY#url_https://boardgamegeek.com/video/149589/sagrada/video-review',\n",
              " 'categoria_transcipcion_video#id_N6Kow5ZAYWY#url_https://boardgamegeek.com/video/149589/sagrada/video-review',\n",
              " 'categoria_transcipcion_video#id_N6Kow5ZAYWY#url_https://boardgamegeek.com/video/149589/sagrada/video-review',\n",
              " 'categoria_transcipcion_video#id_N6Kow5ZAYWY#url_https://boardgamegeek.com/video/149589/sagrada/video-review',\n",
              " 'categoria_transcipcion_video#id_N6Kow5ZAYWY#url_https://boardgamegeek.com/video/149589/sagrada/video-review',\n",
              " 'categoria_transcipcion_video#id_jG-D9P8tKV8#url_https://boardgamegeek.com/video/133645/sagrada/sagrada-unboxing-and-simplified-play',\n",
              " 'categoria_transcipcion_video#id_NbIkubtxYRQ#url_https://boardgamegeek.com/video/170435/sagrada/the-gateway-guy-reviews-sagrada',\n",
              " 'categoria_transcipcion_video#id_NbIkubtxYRQ#url_https://boardgamegeek.com/video/170435/sagrada/the-gateway-guy-reviews-sagrada',\n",
              " 'categoria_transcipcion_video#id_xXZKamFXmNs#url_https://boardgamegeek.com/video/143686/sagrada/edo-sagrada-review',\n",
              " 'categoria_transcipcion_video#id_xXZKamFXmNs#url_https://boardgamegeek.com/video/143686/sagrada/edo-sagrada-review',\n",
              " 'categoria_transcipcion_video#id_4UUxnrQ2w14#url_https://boardgamegeek.com/video/163767/sagrada/the-art-design-and-player-experience-of-sagrada-by',\n",
              " 'categoria_transcipcion_video#id_4UUxnrQ2w14#url_https://boardgamegeek.com/video/163767/sagrada/the-art-design-and-player-experience-of-sagrada-by',\n",
              " 'categoria_transcipcion_video#id_Gv-IA4IcgsM#url_https://boardgamegeek.com/video/132725/sagrada/sagrada-unboxing',\n",
              " 'categoria_transcipcion_video#id_EPcQmGsuyzw#url_https://boardgamegeek.com/video/150292/sagrada/sagrada-gamenight-se5-ep14',\n",
              " 'categoria_transcipcion_video#id_EPcQmGsuyzw#url_https://boardgamegeek.com/video/150292/sagrada/sagrada-gamenight-se5-ep14',\n",
              " 'categoria_transcipcion_video#id_EPcQmGsuyzw#url_https://boardgamegeek.com/video/150292/sagrada/sagrada-gamenight-se5-ep14',\n",
              " 'categoria_transcipcion_video#id_EPcQmGsuyzw#url_https://boardgamegeek.com/video/150292/sagrada/sagrada-gamenight-se5-ep14',\n",
              " 'categoria_transcipcion_video#id_EPcQmGsuyzw#url_https://boardgamegeek.com/video/150292/sagrada/sagrada-gamenight-se5-ep14',\n",
              " 'categoria_transcipcion_video#id_EPcQmGsuyzw#url_https://boardgamegeek.com/video/150292/sagrada/sagrada-gamenight-se5-ep14',\n",
              " 'categoria_transcipcion_video#id_EPcQmGsuyzw#url_https://boardgamegeek.com/video/150292/sagrada/sagrada-gamenight-se5-ep14',\n",
              " 'categoria_transcipcion_video#id_EPcQmGsuyzw#url_https://boardgamegeek.com/video/150292/sagrada/sagrada-gamenight-se5-ep14',\n",
              " 'categoria_transcipcion_video#id_EPcQmGsuyzw#url_https://boardgamegeek.com/video/150292/sagrada/sagrada-gamenight-se5-ep14',\n",
              " 'categoria_transcipcion_video#id_EPcQmGsuyzw#url_https://boardgamegeek.com/video/150292/sagrada/sagrada-gamenight-se5-ep14',\n",
              " 'categoria_transcipcion_video#id_EPcQmGsuyzw#url_https://boardgamegeek.com/video/150292/sagrada/sagrada-gamenight-se5-ep14',\n",
              " 'categoria_transcipcion_video#id_EPcQmGsuyzw#url_https://boardgamegeek.com/video/150292/sagrada/sagrada-gamenight-se5-ep14',\n",
              " 'categoria_transcipcion_video#id_EPcQmGsuyzw#url_https://boardgamegeek.com/video/150292/sagrada/sagrada-gamenight-se5-ep14',\n",
              " 'categoria_transcipcion_video#id_EPcQmGsuyzw#url_https://boardgamegeek.com/video/150292/sagrada/sagrada-gamenight-se5-ep14',\n",
              " 'categoria_transcipcion_video#id_EPcQmGsuyzw#url_https://boardgamegeek.com/video/150292/sagrada/sagrada-gamenight-se5-ep14',\n",
              " 'categoria_transcipcion_video#id_EPcQmGsuyzw#url_https://boardgamegeek.com/video/150292/sagrada/sagrada-gamenight-se5-ep14',\n",
              " 'categoria_transcipcion_video#id_EPcQmGsuyzw#url_https://boardgamegeek.com/video/150292/sagrada/sagrada-gamenight-se5-ep14',\n",
              " 'categoria_transcipcion_video#id_eQOGVm1AvK0#url_https://boardgamegeek.com/video/133492/sagrada/sagrada-unboxing',\n",
              " 'categoria_transcipcion_video#id_w6mWCDnfLwc#url_https://boardgamegeek.com/video/155766/sagrada/sagrada-play-through-by-watch-it-played',\n",
              " 'categoria_transcipcion_video#id_w6mWCDnfLwc#url_https://boardgamegeek.com/video/155766/sagrada/sagrada-play-through-by-watch-it-played',\n",
              " 'categoria_transcipcion_video#id_w6mWCDnfLwc#url_https://boardgamegeek.com/video/155766/sagrada/sagrada-play-through-by-watch-it-played',\n",
              " 'categoria_transcipcion_video#id_kL-seAlTBW8#url_https://boardgamegeek.com/video/133792/sagrada/sagrada-review-with-tom-vasel',\n",
              " 'categoria_transcipcion_video#id_kL-seAlTBW8#url_https://boardgamegeek.com/video/133792/sagrada/sagrada-review-with-tom-vasel',\n",
              " 'categoria_transcipcion_video#id_kL-seAlTBW8#url_https://boardgamegeek.com/video/133792/sagrada/sagrada-review-with-tom-vasel',\n",
              " 'categoria_transcipcion_video#id_kL-seAlTBW8#url_https://boardgamegeek.com/video/133792/sagrada/sagrada-review-with-tom-vasel',\n",
              " 'categoria_transcipcion_video#id_PvU9SuWU02I#url_https://boardgamegeek.com/video/136132/sagrada/board-to-death-video-6-min',\n",
              " 'categoria_transcipcion_video#id_PvU9SuWU02I#url_https://boardgamegeek.com/video/136132/sagrada/board-to-death-video-6-min',\n",
              " 'categoria_transcipcion_video#id_v_3g9vMiq5w#url_https://boardgamegeek.com/video/144279/sagrada/sagrada-playthrough',\n",
              " 'categoria_transcipcion_video#id_v_3g9vMiq5w#url_https://boardgamegeek.com/video/144279/sagrada/sagrada-playthrough',\n",
              " 'categoria_transcipcion_video#id_v_3g9vMiq5w#url_https://boardgamegeek.com/video/144279/sagrada/sagrada-playthrough',\n",
              " 'categoria_transcipcion_video#id_v_3g9vMiq5w#url_https://boardgamegeek.com/video/144279/sagrada/sagrada-playthrough',\n",
              " 'categoria_transcipcion_video#id_v_3g9vMiq5w#url_https://boardgamegeek.com/video/144279/sagrada/sagrada-playthrough',\n",
              " 'categoria_transcipcion_video#id_rAXn5VAHznk#url_https://boardgamegeek.com/video/153105/sagrada/sagrada-juego-de-mesa-como-se-juega-tutorial',\n",
              " 'categoria_transcipcion_video#id_rAXn5VAHznk#url_https://boardgamegeek.com/video/153105/sagrada/sagrada-juego-de-mesa-como-se-juega-tutorial',\n",
              " 'categoria_transcipcion_video#id_rAXn5VAHznk#url_https://boardgamegeek.com/video/153105/sagrada/sagrada-juego-de-mesa-como-se-juega-tutorial',\n",
              " 'categoria_transcipcion_video#id_FRQEEpFyRoM#url_https://boardgamegeek.com/video/108675/sagrada/gen-con-bonanza-2016-sagrada-interview',\n",
              " 'categoria_transcipcion_video#id_FRQEEpFyRoM#url_https://boardgamegeek.com/video/108675/sagrada/gen-con-bonanza-2016-sagrada-interview',\n",
              " 'categoria_transcipcion_video#id_0JLpaGHL8MQ#url_https://boardgamegeek.com/video/153248/sagrada/sagrada-how-to-play-by-watch-it-played',\n",
              " 'categoria_transcipcion_video#id_0JLpaGHL8MQ#url_https://boardgamegeek.com/video/153248/sagrada/sagrada-how-to-play-by-watch-it-played',\n",
              " 'categoria_transcipcion_video#id_0JLpaGHL8MQ#url_https://boardgamegeek.com/video/153248/sagrada/sagrada-how-to-play-by-watch-it-played',\n",
              " 'categoria_transcipcion_video#id_I8OVtFrGnUg#url_https://boardgamegeek.com/video/110884/sagrada/sagrada-review',\n",
              " 'categoria_transcipcion_video#id_I8OVtFrGnUg#url_https://boardgamegeek.com/video/110884/sagrada/sagrada-review',\n",
              " 'categoria_transcipcion_video#id_I8OVtFrGnUg#url_https://boardgamegeek.com/video/110884/sagrada/sagrada-review',\n",
              " 'categoria_transcipcion_video#id_I8OVtFrGnUg#url_https://boardgamegeek.com/video/110884/sagrada/sagrada-review',\n",
              " 'categoria_transcipcion_video#id_zdxmGpisRg8#url_https://boardgamegeek.com/video/144618/sagrada/the-game-boy-geek-reviews-sagrada',\n",
              " 'categoria_transcipcion_video#id_zdxmGpisRg8#url_https://boardgamegeek.com/video/144618/sagrada/the-game-boy-geek-reviews-sagrada',\n",
              " 'categoria_transcipcion_video#id_zdxmGpisRg8#url_https://boardgamegeek.com/video/144618/sagrada/the-game-boy-geek-reviews-sagrada',\n",
              " 'categoria_transcipcion_video#id_zdxmGpisRg8#url_https://boardgamegeek.com/video/144618/sagrada/the-game-boy-geek-reviews-sagrada',\n",
              " 'categoria_transcipcion_video#id_zdxmGpisRg8#url_https://boardgamegeek.com/video/144618/sagrada/the-game-boy-geek-reviews-sagrada',\n",
              " 'categoria_transcipcion_video#id_v5Ldgz7UFoE#url_https://boardgamegeek.com/video/137214/sagrada/one-stop-solo-playthrough',\n",
              " 'categoria_transcipcion_video#id_v5Ldgz7UFoE#url_https://boardgamegeek.com/video/137214/sagrada/one-stop-solo-playthrough',\n",
              " 'categoria_transcipcion_video#id_v5Ldgz7UFoE#url_https://boardgamegeek.com/video/137214/sagrada/one-stop-solo-playthrough',\n",
              " 'categoria_transcipcion_video#id_FD_Eo22tplA#url_https://boardgamegeek.com/video/140947/sagrada/ntfg-sagrada-stained-glass',\n",
              " 'categoria_transcipcion_video#id_3BSonqR6RX0#url_https://boardgamegeek.com/video/110628/sagrada/rahdo-runs-through-sagrada',\n",
              " 'categoria_transcipcion_video#id_3BSonqR6RX0#url_https://boardgamegeek.com/video/110628/sagrada/rahdo-runs-through-sagrada',\n",
              " 'categoria_transcipcion_video#id_3BSonqR6RX0#url_https://boardgamegeek.com/video/110628/sagrada/rahdo-runs-through-sagrada',\n",
              " 'categoria_transcipcion_video#id_3BSonqR6RX0#url_https://boardgamegeek.com/video/110628/sagrada/rahdo-runs-through-sagrada',\n",
              " 'categoria_transcipcion_video#id_3BSonqR6RX0#url_https://boardgamegeek.com/video/110628/sagrada/rahdo-runs-through-sagrada',\n",
              " 'categoria_transcipcion_video#id_3BSonqR6RX0#url_https://boardgamegeek.com/video/110628/sagrada/rahdo-runs-through-sagrada',\n",
              " 'categoria_transcipcion_video#id_3BSonqR6RX0#url_https://boardgamegeek.com/video/110628/sagrada/rahdo-runs-through-sagrada',\n",
              " 'categoria_transcipcion_video#id_3BSonqR6RX0#url_https://boardgamegeek.com/video/110628/sagrada/rahdo-runs-through-sagrada',\n",
              " 'categoria_transcipcion_video#id_3BSonqR6RX0#url_https://boardgamegeek.com/video/110628/sagrada/rahdo-runs-through-sagrada',\n",
              " 'categoria_transcipcion_video#id_3BSonqR6RX0#url_https://boardgamegeek.com/video/110628/sagrada/rahdo-runs-through-sagrada',\n",
              " 'categoria_transcipcion_video#id_3dzhP7Ol_WY#url_https://boardgamegeek.com/video/138891/sagrada/jongetsgames-sagrada-full-playthrough',\n",
              " 'categoria_transcipcion_video#id_3dzhP7Ol_WY#url_https://boardgamegeek.com/video/138891/sagrada/jongetsgames-sagrada-full-playthrough',\n",
              " 'categoria_transcipcion_video#id_3dzhP7Ol_WY#url_https://boardgamegeek.com/video/138891/sagrada/jongetsgames-sagrada-full-playthrough',\n",
              " 'categoria_transcipcion_video#id_3dzhP7Ol_WY#url_https://boardgamegeek.com/video/138891/sagrada/jongetsgames-sagrada-full-playthrough',\n",
              " 'categoria_transcipcion_video#id_3dzhP7Ol_WY#url_https://boardgamegeek.com/video/138891/sagrada/jongetsgames-sagrada-full-playthrough',\n",
              " 'categoria_transcipcion_video#id_3dzhP7Ol_WY#url_https://boardgamegeek.com/video/138891/sagrada/jongetsgames-sagrada-full-playthrough',\n",
              " 'categoria_transcipcion_video#id_3dzhP7Ol_WY#url_https://boardgamegeek.com/video/138891/sagrada/jongetsgames-sagrada-full-playthrough',\n",
              " 'categoria_transcipcion_video#id_3dzhP7Ol_WY#url_https://boardgamegeek.com/video/138891/sagrada/jongetsgames-sagrada-full-playthrough',\n",
              " 'categoria_transcipcion_video#id_3dzhP7Ol_WY#url_https://boardgamegeek.com/video/138891/sagrada/jongetsgames-sagrada-full-playthrough',\n",
              " 'categoria_transcipcion_video#id_aoW-Ow3xkZc#url_https://boardgamegeek.com/video/154412/sagrada/boardgame-opinions-sagrada',\n",
              " 'categoria_transcipcion_video#id_aoW-Ow3xkZc#url_https://boardgamegeek.com/video/154412/sagrada/boardgame-opinions-sagrada',\n",
              " 'categoria_transcipcion_video#id_nsJqrQOsFoA#url_https://boardgamegeek.com/video/136824/sagrada/drivethrureview-586-die-burgund-von-basilica',\n",
              " 'categoria_transcipcion_video#id_nsJqrQOsFoA#url_https://boardgamegeek.com/video/136824/sagrada/drivethrureview-586-die-burgund-von-basilica',\n",
              " 'categoria_transcipcion_video#id_nsJqrQOsFoA#url_https://boardgamegeek.com/video/136824/sagrada/drivethrureview-586-die-burgund-von-basilica',\n",
              " 'categoria_transcipcion_video#id_nsJqrQOsFoA#url_https://boardgamegeek.com/video/136824/sagrada/drivethrureview-586-die-burgund-von-basilica',\n",
              " 'categoria_informacion#num_chunk_0',\n",
              " 'categoria_informacion#num_chunk_1',\n",
              " 'categoria_informacion#num_chunk_2',\n",
              " 'categoria_informacion#num_chunk_3',\n",
              " 'categoria_informacion#num_chunk_4',\n",
              " 'categoria_informacion#num_chunk_5',\n",
              " 'categoria_informacion#num_chunk_6',\n",
              " 'categoria_informacion#num_chunk_7']"
            ]
          },
          "metadata": {},
          "execution_count": 22
        }
      ]
    },
    {
      "cell_type": "markdown",
      "source": [
        "## 5.  Crear la interfaz para encontrar los K fragmentos mas parecidos a la consulta."
      ],
      "metadata": {
        "id": "OdWi5BhDE06O"
      }
    },
    {
      "cell_type": "code",
      "source": [
        "def encontrar_textos_para_query(consulta: str , cantidadtextos: int):\n",
        "\n",
        "  query = consulta\n",
        "\n",
        "  # Búsqueda en la BDD vectorial\n",
        "  retrieved_docs = vector_store.similarity_search(query, k=cantidadtextos)\n",
        "\n",
        "  for num, d in enumerate(retrieved_docs):\n",
        "      print(f\"Doc number: {num+1}\")\n",
        "      print(d.page_content)\n",
        "      print(\"Metadata:\")\n",
        "      print(d.metadata)\n",
        "      print(\"-\"*100)"
      ],
      "metadata": {
        "id": "vY3-CGt5B-c9"
      },
      "execution_count": null,
      "outputs": []
    },
    {
      "cell_type": "code",
      "source": [
        "# Query de ejemplo\n",
        "query = \"Can kids play Sagrada?\"\n",
        "\n",
        "encontrar_textos_para_query(query, 5)"
      ],
      "metadata": {
        "colab": {
          "base_uri": "https://localhost:8080/"
        },
        "id": "8AH8LUdGFax5",
        "outputId": "37c1a0ca-e7cd-4aa6-a8de-34a435a738f0"
      },
      "execution_count": null,
      "outputs": [
        {
          "output_type": "stream",
          "name": "stdout",
          "text": [
            "Doc number: 1\n",
            "it's one of\n",
            "those perfect family games that you can\n",
            "teach in about\n",
            "five minutes and everybody's gonna learn\n",
            "how to play it and know how to play it\n",
            "and have a lot of fun with it but\n",
            "let me talk more about that uh in my\n",
            "final thoughts i just want to say i for\n",
            "one\n",
            "have always hated the terminology of\n",
            "gateway game\n",
            "anything can be a gateway game it\n",
            "doesn't have to be a simple game it\n",
            "doesn't have to be\n",
            "a straightforward game it doesn't have\n",
            "to be like you know some\n",
            "you know like pillars of the earth or it\n",
            "doesn't have to be some ticket to ride\n",
            "my gateway game was arkham horror for\n",
            "crying out loud\n",
            "\n",
            "\n",
            "but i will say this i think sagrada is a\n",
            "wonderful gateway game\n",
            "um as i said when i brought this to my\n",
            "local game store\n",
            "\n",
            "and i was playing it\n",
            "\n",
            "i\n",
            "had more than a few people stop and like\n",
            "ask about it\n",
            "look at it check it out ask to play the\n",
            "game try it out\n",
            "and um i even had people that like\n",
            "basically were like there to drop\n",
            "off other people that weren't really\n",
            "gamers per se and they were really\n",
            "excited to play it\n",
            "\n",
            "and i had a couple\n",
            "people like they wanted to know where\n",
            "they could buy it right\n",
            "\n",
            "then right then\n",
            "immediately and like i basically had to\n",
            "say\n",
            "you have to wait a little bit and back\n",
            "on kickstarter and they were a little\n",
            "disappointed but\n",
            "i think i'm sure they backed it by now\n",
            "\n",
            "\n",
            "but i\n",
            "the thing is is that it has everything\n",
            "that it needs to be that type of game\n",
            "that type of family game it has really\n",
            "really straightforward rules\n",
            "um it affords a lot of communal thinking\n",
            "because of the fact that like when\n",
            "people are trying to figure which die to\n",
            "pick you know it just\n",
            "it's your nature to try to say you know\n",
            "maybe take that one and put it there or\n",
            "what have you\n",
            "\n",
            "\n",
            "and it is something that kind of can\n",
            "bridge the gaps if you will everybody's\n",
            "playing games with dice everybody's like\n",
            "you know\n",
            "done like a football draft with the\n",
            "serpentine thing you know\n",
            "\n",
            "i mean so it\n",
            "has a lot of\n",
            "uh things going for it that are just\n",
            "really really\n",
            "comfortable and like you know that that\n",
            "comfort level or whatever\n",
            "isn't isn't too imposing um my family\n",
            "loves it we played a lot of it\n",
            "\n",
            "uh my son\n",
            "maybe a little bit too young but both my\n",
            "wife and my daughter really took to it\n",
            "and had a great\n",
            "great fun with it\n",
            "\n",
            "so um if you're\n",
            "looking for one of those games that like\n",
            "kind of bridges that gap and also is\n",
            "that perfect\n",
            "wind-up game for the big game or like\n",
            "after the game night is winding down\n",
            "just a quick game you can play right\n",
            "before everybody goes home i really\n",
            "suggest you uh\n",
            "check out sagrada\n",
            "\n",
            "i don't think you'll\n",
            "be disappointed uh if you have any\n",
            "questions about the game ask away i'll\n",
            "be happy to answer those to the best of\n",
            "my ability\n",
            "uh thank you very much as always for\n",
            "taking the time to watch this video and\n",
            "until next time i'm the end of viking\n",
            "and i'm telling you\n",
            "to have yourself one heck of an awesome\n",
            "day\n",
            "\n",
            "all right bye\n",
            "Metadata:\n",
            "{'categoria': 'transcipcion_video', 'id': 'I8OVtFrGnUg', 'idioma detectado': 'en', 'titulo': 'Sagrada Review | Video | BoardGameGeek', 'url': 'https://boardgamegeek.com/video/110884/sagrada/sagrada-review'}\n",
            "----------------------------------------------------------------------------------------------------\n",
            "Doc number: 2\n",
            "and give them the Dice Bag.\n",
            "\n",
            "One suggested method\n",
            "Difficult windows give more Favor Tokens is whoever most recently visited a cathedral.\n",
            "\n",
            "\n",
            "3• Give each player the number of Favor Tokens\n",
            "Set aside all remaining Objective, Tool and Window\n",
            "indicated by the difficulty number on their card.\n",
            "\n",
            "\n",
            "Cards, they are not used during the game\n",
            "4• Slide the selected Window Pattern Card into the\n",
            "bottom of the Player Board.\n",
            "\n",
            "\n",
            "NOte: Setup is the same for 2, 3 or 4 players\n",
            "5•\n",
            "\n",
            "Place a Score Marker that matches the color of\n",
            "each player’s board next to the Round Track,\n",
            "these are used during eNd Game ScOriNG.\n",
            "\n",
            "A\n",
            "5\n",
            "2\n",
            "Eglomise Brush Grozing Pliers Lathekin\n",
            "2 1 4\n",
            "B\n",
            "Move any one die in your window After drafting,\n",
            "ignoring color restrictions increase or decrease the value Move exactly two dice, obeying\n",
            "You must obey all other of the drafted die by 1 all placement restrictions\n",
            "placement restrictions 1 may not change to 6, or 6 to 1\n",
            "NOte:\n",
            "\n",
            "This symbol is only used in Solo Play\n",
            "C\n",
            "5 Colu C m r o e l p n u e m C at n e o s d l w o co r it\n",
            "\n",
            "l h o V r n a s o r iety 2 Sets of L 1 i & gh 2 t v S al h\n",
            "\n",
            "u a es d a e n s\n",
            "\n",
            "ywhere 4 S C c et o o s l l o o o r f r o a n V n e y a w o r f h\n",
            "\n",
            "i e e e a r t e c y h\n",
            "D\n",
            "Victory Point (VP) value for\n",
            "each complete set of this type\n",
            "1\n",
            "4\n",
            "E\n",
            "3\n",
            "Luz Celestial\n",
            "G P d\n",
            "amePlay laciNG ice\n",
            "Each game of Sagrada is played over 10 rounds.\n",
            "\n",
            "When placing a die on a Window:\n",
            "Each round, the Start Player (the player with the • First die: Each player’s first die of the game must be\n",
            "Dice Bag) pulls dice out of the Dice Bag at random placed on an edge or corner space\n",
            "and rolls them.\n",
            "\n",
            "The number of dice pulled depends •\n",
            "\n",
            "Every other die must be adjacent to a previously\n",
            "on the number of players: placed die, touching diagonally (different row and\n",
            "2 Players - 5 Dice column) or orthogonally (same row or column)\n",
            "\n",
            "\n",
            "3 Players - 7 Dice •\n",
            "\n",
            "The die must match the color or value restriction\n",
            "4 Players - 9 Dice of the space.\n",
            "\n",
            "White spaces have no restrictions\n",
            "Example - A red space on the window may only be\n",
            "2 per player, plus 1 additional die\n",
            "filled by a red die (any value).\n",
            "\n",
            "A space showing a 3\n",
            "Once rolled, these dice form the Draft Pool.\n",
            "may only be filled by a die showing a 3 (any color)\n",
            "\n",
            "\n",
            "Beginning with the Start Player, each player takes a • Dice may never be placed orthogonally adjacent to\n",
            "turn in clockwise order.\n",
            "\n",
            "On a player’s turn, they may a die of the same color or the same value.\n",
            "\n",
            "Example\n",
            "perform each of the following actions in any order: - Two red dice or two dice showing a 3 may not be\n",
            "placed side by side\n",
            "• Select 1 die from the Draft Pool and place it in\n",
            "an open space on their Window Players may choose not to draft a die during their turn.\n",
            "\n",
            "\n",
            "• Use 1 Tool Card by spending Favor Tokens\n",
            "NOte: Any die may be placed on a white space as\n",
            "Each action is optional — A player may choose to\n",
            "long as all the above restrictions are obeyed\n",
            "perform both actions, only one action or pass their\n",
            "turn taking no actions.\n",
            "\n",
            "\n",
            "Turns proceed clockwise with each player taking\n",
            "a turn or passing.\n",
            "\n",
            "Example - Emily takes a turn (1),\n",
            "then Ben (2), then Mari (3) examPle: This Red 2 die has\n",
            "three spaces that meet all\n",
            "Ben 5 placement restrictions\n",
            "Fractal Drops\n",
            "2\n",
            "tiP: Try to avoid placing dice next to a matching space\n",
            "(such as a 2 die next to a 2 space or red die next to a red\n",
            "space) so a future die can still be placed in that space\n",
            "6 1 3 4\n",
            "t c & f t\n",
            "OOl ardS avOr OkeNS\n",
            "Players may spend Favor Tokens to gain a special\n",
            "Emily mari\n",
            "ability from 1 Tool Card during their turn:\n",
            "(Start Player)\n",
            "1.\n",
            "\n",
            "Place Favor Tokens on the Tool Card — 1 if\n",
            "Once the last player has completed their first turn,\n",
            "there aren’t any tokens on the card, otherwise\n",
            "the round continues in reverse order (counter-\n",
            "place 2.\n",
            "clockwise).\n",
            "\n",
            "Beginning with the last player,\n",
            "2.\n",
            "\n",
            "Use the ability listed on the Tool Card\n",
            "each player takes a second turn (selecting a second\n",
            "die from the Draft Pool, etc.)\n",
            "\n",
            "Example - Mari takes Players may choose not to use a Tool Card on\n",
            "her second turn (4), then Ben (5), then Emily (6) their turn.\n",
            "Metadata:\n",
            "{'categoria': 'informacion', 'num_chunk': 2.0}\n",
            "----------------------------------------------------------------------------------------------------\n",
            "Doc number: 3\n",
            "so using the rules above only one die can be placed in the middle four space here and that is a red four\n",
            "we draft a red three but this lets us use  one of the available tool cards\n",
            "we pay one tool token to use the card and change the three to a four\n",
            "subsequent uses of a tool card would use two charges\n",
            "if you ever accidentally break the placing rules you must remove those dice\n",
            "once 10 rounds are up scoring takes place\n",
            "you score the point shown in the bottom left of the goal for each time you achieve that goal\n",
            "so in this example we score it twice\n",
            "your private goal will always be the total value of one color\n",
            "and finally lose one point for each empty square\n",
            "why would you like this game\n",
            "sagrada is a puzzle game for people who love spatial puzzles\n",
            "and the rising tension of having your  available placement options get more and more limited as the game goes on\n",
            "and that's the best part of sagrada\n",
            "looking at the draft options and realizing that you have put yourself in a bad position\n",
            "or the triumph of getting a row exactly right to match a goal\n",
            "the tool cards give you different options on how to manipulate the game\n",
            "and only three are included each time you play\n",
            "and well it's simply a pretty looking game those shiny dice are really nice\n",
            "the best thing about this game is when it all works well and you have a wonderful looking high scoring completed window\n",
            "however, despite the myriad of tools, tiles and goals in the game if you don't like the core gameplay of drafting and placement\n",
            "none of the changes will make the game work for you\n",
            "there's also limited interaction\n",
            "while drafting to hurt other players can happen you're far more likely to draft for your own needs first\n",
            "like the mechanics but wish the game had swords and spells try roll player\n",
            "and for a different type of pretty dice  rafting game try noctiluca\n",
            "sagrada one pretty puzzle\n",
            "if you enjoyed this video hit the notification button subscribe to the channel and come support us on patreon\n",
            "Metadata:\n",
            "{'categoria': 'transcipcion_video', 'id': '2JchuN96jB4', 'idioma detectado': 'en', 'titulo': 'Sagrada in about 3 minutes | Video | BoardGameGeek', 'url': 'https://boardgamegeek.com/video/279418/sagrada/sagrada-in-about-3-minutes'}\n",
            "----------------------------------------------------------------------------------------------------\n",
            "Doc number: 4\n",
            "TÍTULO:\n",
            "\n",
            "Sagrada - Unboxing | Video | BoardGameGeek\n",
            "ID: eQOGVm1AvK0\n",
            "URL: https://boardgamegeek.com/video/133492/sagrada/sagrada-unboxing\n",
            "IDIOMA DETECTADO: en\n",
            "TRANSCRIPCIÓN:\n",
            "\n",
            "\n",
            "[Music]\n",
            "welcome thank you for joining me grade\n",
            "board game we're here with the unboxing\n",
            "of my latest Kickstarter fulfillment\n",
            "sagrada from floodgate games let's get\n",
            "the plastic off get this box open and\n",
            "see what's inside\n",
            "got the plastic off see if we can get\n",
            "the top off now Oh sounds like it's\n",
            "slide nice and easy see what we have\n",
            "inside the box it looks like a pretty\n",
            "simple to follow rulebook because that\n",
            "is it just four pages front to back I\n",
            "like the way that looks nothing rule\n",
            "heavy one we got some cardboard the\n",
            "colors on this great\n",
            "it's sticking car was sticking together\n",
            "a little bit there\n",
            "I haven't watched any videos on gameplay\n",
            "\n",
            "\n",
            "yes I do not know what each of these is\n",
            "for these player boards\n",
            "those are didn't get to focus there we\n",
            "go\n",
            "see those are quite thick you got these\n",
            "open windows so you're gonna have to\n",
            "slide some cards in there\n",
            "\n",
            "I like the way\n",
            "those are set up those are sturdy\n",
            "there's really good material on those we\n",
            "got the four different player boards at\n",
            "the Kickstarter exclusive board again\n",
            "the colors and the details and all of\n",
            "these are great\n",
            "\n",
            "I know my my wife has\n",
            "had her interest piqued by this one she\n",
            "was one of her degrees as a degree in\n",
            "fine arts\n",
            "\n",
            "so she was intrigued when she\n",
            "saw me opening this up and here are the\n",
            "cards we get the plastic off of these\n",
            "those were tricky to get the plastic off\n",
            "because it was vacuumed on there tight\n",
            "there was not a loose corner anywhere so\n",
            "I had to be real careful not to damage\n",
            "the cards because they're not a real\n",
            "heavy cardstock\n",
            "\n",
            "but they really don't\n",
            "have to be because judging by what I saw\n",
            "on here these are going to slide into\n",
            "the player cards there we go\n",
            "\n",
            "\n",
            "and they don't need to be sturdy because\n",
            "they're insighting really thick sturdy\n",
            "player boards so those get in there nice\n",
            "everything looks like it lines up great\n",
            "\n",
            "\n",
            "so the printing was done printing\n",
            "alignment was done properly several\n",
            "different cards so lots of different\n",
            "ways\n",
            "to complete it I have a couple of\n",
            "cardboard tokens here and these look\n",
            "like the score tokens for the different\n",
            "players one side just the regular color\n",
            "and then 50 then there's a Kickstarter\n",
            "players token\n",
            "\n",
            "I have a box of plain\n",
            "clear our bag of plain clear glass beads\n",
            "we have another another deck of cards\n",
            "and the like Gaudi Cathedral these cards\n",
            "had a loose corner on them\n",
            "\n",
            "so they were\n",
            "a little bit easier to open not sure of\n",
            "course\n",
            "what they're for because I haven't\n",
            "played the game yet or watched any\n",
            "videos on it but the cart design now\n",
            "these cards the dolt slide in appear to\n",
            "be a well maybe not maybe they are the\n",
            "same kind of stock now they feel a\n",
            "little bit heavier I might just be\n",
            "fooled because they're a smaller card\n",
            "but they feel to be a little more sturdy\n",
            "since they're not going to be slid\n",
            "inside a dense player board and we have\n",
            "a small bag a large bag and a whole\n",
            "bunch of dice which\n",
            "not the main selling point to me I\n",
            "enjoyed seeing a different kind of theme\n",
            "there\n",
            "\n",
            "but hey you're gonna get me when\n",
            "you give me a huge bag of multi colored\n",
            "translucent dice\n",
            "\n",
            "and I believe that's it\n",
            "unless there's something hiding\n",
            "underneath the plastic inserts which\n",
            "there is not there we go that is the\n",
            "unboxing I'm gonna get that back in\n",
            "there without breaking it there we have\n",
            "the unboxing of sagrada from floodgate\n",
            "games please take a moment to click on\n",
            "these links and consider supporting this\n",
            "channel through patreon don't forget to\n",
            "Like share subscribe comment and check\n",
            "out the other videos on my channel your\n",
            "support is appreciated and I'll see you\n",
            "in my next video\n",
            "Metadata:\n",
            "{'categoria': 'transcipcion_video', 'id': 'eQOGVm1AvK0', 'idioma detectado': 'en', 'titulo': 'Sagrada - Unboxing | Video | BoardGameGeek', 'url': 'https://boardgamegeek.com/video/133492/sagrada/sagrada-unboxing'}\n",
            "----------------------------------------------------------------------------------------------------\n",
            "Doc number: 5\n",
            "TÍTULO:\n",
            "\n",
            "[NTFG] Sagrada - Stained Glass | Video | BoardGameGeek\n",
            "ID: FD_Eo22tplA\n",
            "URL:\n",
            "\n",
            "https://boardgamegeek.com/video/140947/sagrada/ntfg-sagrada-stained-glass\n",
            "IDIOMA DETECTADO: en\n",
            "TRANSCRIPCIÓN:\n",
            "\n",
            "\n",
            "[Music]\n",
            "this is the Sagrada família the\n",
            "construction started in 1882 and it's\n",
            "still going strong today it's a monument\n",
            "and patients\n",
            "inside that you'll find the famous\n",
            "stained glass windows and the best part\n",
            "is that someone made a game about this\n",
            "\n",
            "\n",
            "[Music]\n",
            "[Music]\n",
            "Sagrada is a dice drafting window\n",
            "building window and this is the Spanish\n",
            "word for sacred\n",
            "\n",
            "so I guess in here\n",
            "God is a gambler and just look at those\n",
            "beautiful dyes they are cubic they are\n",
            "kind of sexy in a weird way they should\n",
            "make a cathedral out of them\n",
            "and this is how you play it\n",
            "the first thing you'll do is randomly\n",
            "pick a grid for your window you'll then\n",
            "roll the dice and draft them with the\n",
            "other players you can then start to\n",
            "build your window by carefully placing\n",
            "each day\n",
            "\n",
            "but there are restrictions\n",
            "\n",
            "\n",
            "[Music]\n",
            "thankfully there are tools you can work\n",
            "with along with private and public\n",
            "objectives this game feels like taking a\n",
            "hot shower in the winter while trying to\n",
            "fix a broken clock except your friends\n",
            "are all there with you messing with you\n",
            "clock sagrada has a very satisfying\n",
            "sense of progression but the game does\n",
            "feel repetitive after multiple plays the\n",
            "private objectives could be more\n",
            "interesting and the solo mode is\n",
            "impossible but look at those dice they\n",
            "look like vitamins fresh like a\n",
            "watermelon so it takes three minutes to\n",
            "learn 30 minutes to play\n",
            "\n",
            "and I think I\n",
            "will keep it for a long time sagrada is\n",
            "a game with a certain perfume it has\n",
            "character and it's artistic\n",
            "just like stained glass\n",
            "\n",
            "\n",
            "[Music]\n",
            "\n",
            "\n",
            "[Music]\n",
            "Oh\n",
            "\n",
            "\n",
            "[Music]\n",
            "\n",
            "\n",
            "[Music]\n",
            "Metadata:\n",
            "{'categoria': 'transcipcion_video', 'id': 'FD_Eo22tplA', 'idioma detectado': 'en', 'titulo': '[NTFG] Sagrada - Stained Glass | Video | BoardGameGeek', 'url': 'https://boardgamegeek.com/video/140947/sagrada/ntfg-sagrada-stained-glass'}\n",
            "----------------------------------------------------------------------------------------------------\n"
          ]
        }
      ]
    },
    {
      "cell_type": "markdown",
      "source": [
        "Como conlcusión de esta sección, los textos indexados en la bdd vectorial al pasar una query trae algunos textos que parecen tener relación semántica con la query de ejemplo. Si bien, en estos textos la información no está tal cual, es decir, la respuesta directa a la query no está en el contenido de los mismos pero sin dudas un modelo LLM podría interpretar los textos y responder la pregunta sin problema."
      ],
      "metadata": {
        "id": "k64n-GVOF-w4"
      }
    },
    {
      "cell_type": "markdown",
      "source": [
        "# Crear un acceso a los datos estadísticos"
      ],
      "metadata": {
        "id": "sS-Lr3o8HR8K"
      }
    },
    {
      "cell_type": "markdown",
      "source": [
        "En esta etapa los pasos son los siguientes:\n",
        "\n",
        "1. Cargar la información en Dataframes de Pandas o Tablas de SQL.\n",
        "2. Recopilar información de importancia\n",
        "3.  Utilizar un modelo de lenguaje con instrucciones de sistema ajustado a la información de nuestro set de datos (NO PASAR TODO EL SET DE DATOS ENTEROS, SOLO INFORMACIÓN EXTRAÍDA EN EL PUNTO ANTERIOR)\n",
        "4. Solicitar al modelo de lenguaje que nos de los filtros correspondientes para buscar la respuesta a la consulta que necesitamos.\n",
        "\n",
        "5. Utilizar esta respuesta obtenida para filtrar nuestro set de datos y devolver la respuesta\n",
        "\n",
        "6. Crear la interfa zpara acceder mediante una función en donde solamente le pasaremos filtros los cuales serán definidos por un modelo de lenguaje experto en código."
      ],
      "metadata": {
        "id": "fqsS8UW5HPJA"
      }
    },
    {
      "cell_type": "markdown",
      "source": [
        "## 1. Cargar la información en Dataframes de Pandas o Tablas de SQL."
      ],
      "metadata": {
        "id": "v0TAumzSH1Ru"
      }
    },
    {
      "cell_type": "code",
      "source": [
        "import pandas as pd"
      ],
      "metadata": {
        "id": "6M3oK8efH-nD"
      },
      "execution_count": null,
      "outputs": []
    },
    {
      "cell_type": "code",
      "source": [
        "estadísticas = pd.read_csv('/content/sagrada/datos/estadisticas/estadisticas.csv')"
      ],
      "metadata": {
        "id": "IhwuycobH5X4"
      },
      "execution_count": null,
      "outputs": []
    },
    {
      "cell_type": "code",
      "source": [
        "# convertir a dataframe\n",
        "df_estadísticas = pd.DataFrame(estadísticas)"
      ],
      "metadata": {
        "id": "evHuV-hCIRMo"
      },
      "execution_count": null,
      "outputs": []
    },
    {
      "cell_type": "code",
      "source": [
        "df_estadísticas"
      ],
      "metadata": {
        "colab": {
          "base_uri": "https://localhost:8080/",
          "height": 269
        },
        "id": "_8tzKLxnIb1h",
        "outputId": "da60736c-a1c0-415d-d76b-6d340fca5633"
      },
      "execution_count": null,
      "outputs": [
        {
          "output_type": "execute_result",
          "data": {
            "text/plain": [
              "              GAME STATS                        GAME RANKS  \\\n",
              "0      Avg. Rating 7.472  Overall Rank 213 Historical Rank   \n",
              "1  No. of Ratings 44,391  Abstract Rank 10 Historical Rank   \n",
              "2    Std. Deviation 1.16    Family Rank 45 Historical Rank   \n",
              "3        Weight 1.92 / 5                               NaN   \n",
              "4         Comments 6,137                               NaN   \n",
              "5             Fans 2,230                               NaN   \n",
              "6   Page Views 1,851,300                               NaN   \n",
              "\n",
              "               PLAY STATS                              COLLECTION STATS  \\\n",
              "0  All Time Plays 287,557                                    Own 73,808   \n",
              "1          This Month 299                             Prev. Owned 4,901   \n",
              "2                     NaN          For Trade 606 Find For-Trade Matches   \n",
              "3                     NaN  Want In Trade 832 Find Want-in-Trade Matches   \n",
              "4                     NaN                                Wishlist 9,323   \n",
              "5                     NaN                                           NaN   \n",
              "6                     NaN                                           NaN   \n",
              "\n",
              "  PARTS EXCHANGE  \n",
              "0   Has Parts 19  \n",
              "1  Want Parts 19  \n",
              "2            NaN  \n",
              "3            NaN  \n",
              "4            NaN  \n",
              "5            NaN  \n",
              "6            NaN  "
            ],
            "text/html": [
              "\n",
              "  <div id=\"df-6b789d6a-049f-40c9-a10d-ecba4b6561bd\" class=\"colab-df-container\">\n",
              "    <div>\n",
              "<style scoped>\n",
              "    .dataframe tbody tr th:only-of-type {\n",
              "        vertical-align: middle;\n",
              "    }\n",
              "\n",
              "    .dataframe tbody tr th {\n",
              "        vertical-align: top;\n",
              "    }\n",
              "\n",
              "    .dataframe thead th {\n",
              "        text-align: right;\n",
              "    }\n",
              "</style>\n",
              "<table border=\"1\" class=\"dataframe\">\n",
              "  <thead>\n",
              "    <tr style=\"text-align: right;\">\n",
              "      <th></th>\n",
              "      <th>GAME STATS</th>\n",
              "      <th>GAME RANKS</th>\n",
              "      <th>PLAY STATS</th>\n",
              "      <th>COLLECTION STATS</th>\n",
              "      <th>PARTS EXCHANGE</th>\n",
              "    </tr>\n",
              "  </thead>\n",
              "  <tbody>\n",
              "    <tr>\n",
              "      <th>0</th>\n",
              "      <td>Avg. Rating 7.472</td>\n",
              "      <td>Overall Rank 213 Historical Rank</td>\n",
              "      <td>All Time Plays 287,557</td>\n",
              "      <td>Own 73,808</td>\n",
              "      <td>Has Parts 19</td>\n",
              "    </tr>\n",
              "    <tr>\n",
              "      <th>1</th>\n",
              "      <td>No. of Ratings 44,391</td>\n",
              "      <td>Abstract Rank 10 Historical Rank</td>\n",
              "      <td>This Month 299</td>\n",
              "      <td>Prev. Owned 4,901</td>\n",
              "      <td>Want Parts 19</td>\n",
              "    </tr>\n",
              "    <tr>\n",
              "      <th>2</th>\n",
              "      <td>Std. Deviation 1.16</td>\n",
              "      <td>Family Rank 45 Historical Rank</td>\n",
              "      <td>NaN</td>\n",
              "      <td>For Trade 606 Find For-Trade Matches</td>\n",
              "      <td>NaN</td>\n",
              "    </tr>\n",
              "    <tr>\n",
              "      <th>3</th>\n",
              "      <td>Weight 1.92 / 5</td>\n",
              "      <td>NaN</td>\n",
              "      <td>NaN</td>\n",
              "      <td>Want In Trade 832 Find Want-in-Trade Matches</td>\n",
              "      <td>NaN</td>\n",
              "    </tr>\n",
              "    <tr>\n",
              "      <th>4</th>\n",
              "      <td>Comments 6,137</td>\n",
              "      <td>NaN</td>\n",
              "      <td>NaN</td>\n",
              "      <td>Wishlist 9,323</td>\n",
              "      <td>NaN</td>\n",
              "    </tr>\n",
              "    <tr>\n",
              "      <th>5</th>\n",
              "      <td>Fans 2,230</td>\n",
              "      <td>NaN</td>\n",
              "      <td>NaN</td>\n",
              "      <td>NaN</td>\n",
              "      <td>NaN</td>\n",
              "    </tr>\n",
              "    <tr>\n",
              "      <th>6</th>\n",
              "      <td>Page Views 1,851,300</td>\n",
              "      <td>NaN</td>\n",
              "      <td>NaN</td>\n",
              "      <td>NaN</td>\n",
              "      <td>NaN</td>\n",
              "    </tr>\n",
              "  </tbody>\n",
              "</table>\n",
              "</div>\n",
              "    <div class=\"colab-df-buttons\">\n",
              "\n",
              "  <div class=\"colab-df-container\">\n",
              "    <button class=\"colab-df-convert\" onclick=\"convertToInteractive('df-6b789d6a-049f-40c9-a10d-ecba4b6561bd')\"\n",
              "            title=\"Convert this dataframe to an interactive table.\"\n",
              "            style=\"display:none;\">\n",
              "\n",
              "  <svg xmlns=\"http://www.w3.org/2000/svg\" height=\"24px\" viewBox=\"0 -960 960 960\">\n",
              "    <path d=\"M120-120v-720h720v720H120Zm60-500h600v-160H180v160Zm220 220h160v-160H400v160Zm0 220h160v-160H400v160ZM180-400h160v-160H180v160Zm440 0h160v-160H620v160ZM180-180h160v-160H180v160Zm440 0h160v-160H620v160Z\"/>\n",
              "  </svg>\n",
              "    </button>\n",
              "\n",
              "  <style>\n",
              "    .colab-df-container {\n",
              "      display:flex;\n",
              "      gap: 12px;\n",
              "    }\n",
              "\n",
              "    .colab-df-convert {\n",
              "      background-color: #E8F0FE;\n",
              "      border: none;\n",
              "      border-radius: 50%;\n",
              "      cursor: pointer;\n",
              "      display: none;\n",
              "      fill: #1967D2;\n",
              "      height: 32px;\n",
              "      padding: 0 0 0 0;\n",
              "      width: 32px;\n",
              "    }\n",
              "\n",
              "    .colab-df-convert:hover {\n",
              "      background-color: #E2EBFA;\n",
              "      box-shadow: 0px 1px 2px rgba(60, 64, 67, 0.3), 0px 1px 3px 1px rgba(60, 64, 67, 0.15);\n",
              "      fill: #174EA6;\n",
              "    }\n",
              "\n",
              "    .colab-df-buttons div {\n",
              "      margin-bottom: 4px;\n",
              "    }\n",
              "\n",
              "    [theme=dark] .colab-df-convert {\n",
              "      background-color: #3B4455;\n",
              "      fill: #D2E3FC;\n",
              "    }\n",
              "\n",
              "    [theme=dark] .colab-df-convert:hover {\n",
              "      background-color: #434B5C;\n",
              "      box-shadow: 0px 1px 3px 1px rgba(0, 0, 0, 0.15);\n",
              "      filter: drop-shadow(0px 1px 2px rgba(0, 0, 0, 0.3));\n",
              "      fill: #FFFFFF;\n",
              "    }\n",
              "  </style>\n",
              "\n",
              "    <script>\n",
              "      const buttonEl =\n",
              "        document.querySelector('#df-6b789d6a-049f-40c9-a10d-ecba4b6561bd button.colab-df-convert');\n",
              "      buttonEl.style.display =\n",
              "        google.colab.kernel.accessAllowed ? 'block' : 'none';\n",
              "\n",
              "      async function convertToInteractive(key) {\n",
              "        const element = document.querySelector('#df-6b789d6a-049f-40c9-a10d-ecba4b6561bd');\n",
              "        const dataTable =\n",
              "          await google.colab.kernel.invokeFunction('convertToInteractive',\n",
              "                                                    [key], {});\n",
              "        if (!dataTable) return;\n",
              "\n",
              "        const docLinkHtml = 'Like what you see? Visit the ' +\n",
              "          '<a target=\"_blank\" href=https://colab.research.google.com/notebooks/data_table.ipynb>data table notebook</a>'\n",
              "          + ' to learn more about interactive tables.';\n",
              "        element.innerHTML = '';\n",
              "        dataTable['output_type'] = 'display_data';\n",
              "        await google.colab.output.renderOutput(dataTable, element);\n",
              "        const docLink = document.createElement('div');\n",
              "        docLink.innerHTML = docLinkHtml;\n",
              "        element.appendChild(docLink);\n",
              "      }\n",
              "    </script>\n",
              "  </div>\n",
              "\n",
              "\n",
              "    <div id=\"df-c8dc3849-738a-4cdd-b790-837a4df7a489\">\n",
              "      <button class=\"colab-df-quickchart\" onclick=\"quickchart('df-c8dc3849-738a-4cdd-b790-837a4df7a489')\"\n",
              "                title=\"Suggest charts\"\n",
              "                style=\"display:none;\">\n",
              "\n",
              "<svg xmlns=\"http://www.w3.org/2000/svg\" height=\"24px\"viewBox=\"0 0 24 24\"\n",
              "     width=\"24px\">\n",
              "    <g>\n",
              "        <path d=\"M19 3H5c-1.1 0-2 .9-2 2v14c0 1.1.9 2 2 2h14c1.1 0 2-.9 2-2V5c0-1.1-.9-2-2-2zM9 17H7v-7h2v7zm4 0h-2V7h2v10zm4 0h-2v-4h2v4z\"/>\n",
              "    </g>\n",
              "</svg>\n",
              "      </button>\n",
              "\n",
              "<style>\n",
              "  .colab-df-quickchart {\n",
              "      --bg-color: #E8F0FE;\n",
              "      --fill-color: #1967D2;\n",
              "      --hover-bg-color: #E2EBFA;\n",
              "      --hover-fill-color: #174EA6;\n",
              "      --disabled-fill-color: #AAA;\n",
              "      --disabled-bg-color: #DDD;\n",
              "  }\n",
              "\n",
              "  [theme=dark] .colab-df-quickchart {\n",
              "      --bg-color: #3B4455;\n",
              "      --fill-color: #D2E3FC;\n",
              "      --hover-bg-color: #434B5C;\n",
              "      --hover-fill-color: #FFFFFF;\n",
              "      --disabled-bg-color: #3B4455;\n",
              "      --disabled-fill-color: #666;\n",
              "  }\n",
              "\n",
              "  .colab-df-quickchart {\n",
              "    background-color: var(--bg-color);\n",
              "    border: none;\n",
              "    border-radius: 50%;\n",
              "    cursor: pointer;\n",
              "    display: none;\n",
              "    fill: var(--fill-color);\n",
              "    height: 32px;\n",
              "    padding: 0;\n",
              "    width: 32px;\n",
              "  }\n",
              "\n",
              "  .colab-df-quickchart:hover {\n",
              "    background-color: var(--hover-bg-color);\n",
              "    box-shadow: 0 1px 2px rgba(60, 64, 67, 0.3), 0 1px 3px 1px rgba(60, 64, 67, 0.15);\n",
              "    fill: var(--button-hover-fill-color);\n",
              "  }\n",
              "\n",
              "  .colab-df-quickchart-complete:disabled,\n",
              "  .colab-df-quickchart-complete:disabled:hover {\n",
              "    background-color: var(--disabled-bg-color);\n",
              "    fill: var(--disabled-fill-color);\n",
              "    box-shadow: none;\n",
              "  }\n",
              "\n",
              "  .colab-df-spinner {\n",
              "    border: 2px solid var(--fill-color);\n",
              "    border-color: transparent;\n",
              "    border-bottom-color: var(--fill-color);\n",
              "    animation:\n",
              "      spin 1s steps(1) infinite;\n",
              "  }\n",
              "\n",
              "  @keyframes spin {\n",
              "    0% {\n",
              "      border-color: transparent;\n",
              "      border-bottom-color: var(--fill-color);\n",
              "      border-left-color: var(--fill-color);\n",
              "    }\n",
              "    20% {\n",
              "      border-color: transparent;\n",
              "      border-left-color: var(--fill-color);\n",
              "      border-top-color: var(--fill-color);\n",
              "    }\n",
              "    30% {\n",
              "      border-color: transparent;\n",
              "      border-left-color: var(--fill-color);\n",
              "      border-top-color: var(--fill-color);\n",
              "      border-right-color: var(--fill-color);\n",
              "    }\n",
              "    40% {\n",
              "      border-color: transparent;\n",
              "      border-right-color: var(--fill-color);\n",
              "      border-top-color: var(--fill-color);\n",
              "    }\n",
              "    60% {\n",
              "      border-color: transparent;\n",
              "      border-right-color: var(--fill-color);\n",
              "    }\n",
              "    80% {\n",
              "      border-color: transparent;\n",
              "      border-right-color: var(--fill-color);\n",
              "      border-bottom-color: var(--fill-color);\n",
              "    }\n",
              "    90% {\n",
              "      border-color: transparent;\n",
              "      border-bottom-color: var(--fill-color);\n",
              "    }\n",
              "  }\n",
              "</style>\n",
              "\n",
              "      <script>\n",
              "        async function quickchart(key) {\n",
              "          const quickchartButtonEl =\n",
              "            document.querySelector('#' + key + ' button');\n",
              "          quickchartButtonEl.disabled = true;  // To prevent multiple clicks.\n",
              "          quickchartButtonEl.classList.add('colab-df-spinner');\n",
              "          try {\n",
              "            const charts = await google.colab.kernel.invokeFunction(\n",
              "                'suggestCharts', [key], {});\n",
              "          } catch (error) {\n",
              "            console.error('Error during call to suggestCharts:', error);\n",
              "          }\n",
              "          quickchartButtonEl.classList.remove('colab-df-spinner');\n",
              "          quickchartButtonEl.classList.add('colab-df-quickchart-complete');\n",
              "        }\n",
              "        (() => {\n",
              "          let quickchartButtonEl =\n",
              "            document.querySelector('#df-c8dc3849-738a-4cdd-b790-837a4df7a489 button');\n",
              "          quickchartButtonEl.style.display =\n",
              "            google.colab.kernel.accessAllowed ? 'block' : 'none';\n",
              "        })();\n",
              "      </script>\n",
              "    </div>\n",
              "\n",
              "  <div id=\"id_2d11b51b-ea67-44cc-bb90-69bd112958e1\">\n",
              "    <style>\n",
              "      .colab-df-generate {\n",
              "        background-color: #E8F0FE;\n",
              "        border: none;\n",
              "        border-radius: 50%;\n",
              "        cursor: pointer;\n",
              "        display: none;\n",
              "        fill: #1967D2;\n",
              "        height: 32px;\n",
              "        padding: 0 0 0 0;\n",
              "        width: 32px;\n",
              "      }\n",
              "\n",
              "      .colab-df-generate:hover {\n",
              "        background-color: #E2EBFA;\n",
              "        box-shadow: 0px 1px 2px rgba(60, 64, 67, 0.3), 0px 1px 3px 1px rgba(60, 64, 67, 0.15);\n",
              "        fill: #174EA6;\n",
              "      }\n",
              "\n",
              "      [theme=dark] .colab-df-generate {\n",
              "        background-color: #3B4455;\n",
              "        fill: #D2E3FC;\n",
              "      }\n",
              "\n",
              "      [theme=dark] .colab-df-generate:hover {\n",
              "        background-color: #434B5C;\n",
              "        box-shadow: 0px 1px 3px 1px rgba(0, 0, 0, 0.15);\n",
              "        filter: drop-shadow(0px 1px 2px rgba(0, 0, 0, 0.3));\n",
              "        fill: #FFFFFF;\n",
              "      }\n",
              "    </style>\n",
              "    <button class=\"colab-df-generate\" onclick=\"generateWithVariable('df_estadísticas')\"\n",
              "            title=\"Generate code using this dataframe.\"\n",
              "            style=\"display:none;\">\n",
              "\n",
              "  <svg xmlns=\"http://www.w3.org/2000/svg\" height=\"24px\"viewBox=\"0 0 24 24\"\n",
              "       width=\"24px\">\n",
              "    <path d=\"M7,19H8.4L18.45,9,17,7.55,7,17.6ZM5,21V16.75L18.45,3.32a2,2,0,0,1,2.83,0l1.4,1.43a1.91,1.91,0,0,1,.58,1.4,1.91,1.91,0,0,1-.58,1.4L9.25,21ZM18.45,9,17,7.55Zm-12,3A5.31,5.31,0,0,0,4.9,8.1,5.31,5.31,0,0,0,1,6.5,5.31,5.31,0,0,0,4.9,4.9,5.31,5.31,0,0,0,6.5,1,5.31,5.31,0,0,0,8.1,4.9,5.31,5.31,0,0,0,12,6.5,5.46,5.46,0,0,0,6.5,12Z\"/>\n",
              "  </svg>\n",
              "    </button>\n",
              "    <script>\n",
              "      (() => {\n",
              "      const buttonEl =\n",
              "        document.querySelector('#id_2d11b51b-ea67-44cc-bb90-69bd112958e1 button.colab-df-generate');\n",
              "      buttonEl.style.display =\n",
              "        google.colab.kernel.accessAllowed ? 'block' : 'none';\n",
              "\n",
              "      buttonEl.onclick = () => {\n",
              "        google.colab.notebook.generateWithVariable('df_estadísticas');\n",
              "      }\n",
              "      })();\n",
              "    </script>\n",
              "  </div>\n",
              "\n",
              "    </div>\n",
              "  </div>\n"
            ],
            "application/vnd.google.colaboratory.intrinsic+json": {
              "type": "dataframe",
              "variable_name": "df_estadísticas",
              "summary": "{\n  \"name\": \"df_estad\\u00edsticas\",\n  \"rows\": 7,\n  \"fields\": [\n    {\n      \"column\": \"GAME STATS\",\n      \"properties\": {\n        \"dtype\": \"string\",\n        \"num_unique_values\": 7,\n        \"samples\": [\n          \"Avg. Rating 7.472\",\n          \"No. of Ratings 44,391\",\n          \"Fans 2,230\"\n        ],\n        \"semantic_type\": \"\",\n        \"description\": \"\"\n      }\n    },\n    {\n      \"column\": \"GAME RANKS\",\n      \"properties\": {\n        \"dtype\": \"category\",\n        \"num_unique_values\": 3,\n        \"samples\": [\n          \"Overall Rank 213 Historical Rank\",\n          \"Abstract Rank 10 Historical Rank\",\n          \"Family Rank 45 Historical Rank\"\n        ],\n        \"semantic_type\": \"\",\n        \"description\": \"\"\n      }\n    },\n    {\n      \"column\": \"PLAY STATS\",\n      \"properties\": {\n        \"dtype\": \"category\",\n        \"num_unique_values\": 2,\n        \"samples\": [\n          \"This Month 299\",\n          \"All Time Plays 287,557\"\n        ],\n        \"semantic_type\": \"\",\n        \"description\": \"\"\n      }\n    },\n    {\n      \"column\": \"COLLECTION STATS\",\n      \"properties\": {\n        \"dtype\": \"string\",\n        \"num_unique_values\": 5,\n        \"samples\": [\n          \"Prev. Owned 4,901\",\n          \"Wishlist 9,323\"\n        ],\n        \"semantic_type\": \"\",\n        \"description\": \"\"\n      }\n    },\n    {\n      \"column\": \"PARTS EXCHANGE\",\n      \"properties\": {\n        \"dtype\": \"category\",\n        \"num_unique_values\": 2,\n        \"samples\": [\n          \"Want Parts 19\",\n          \"Has Parts 19\"\n        ],\n        \"semantic_type\": \"\",\n        \"description\": \"\"\n      }\n    }\n  ]\n}"
            }
          },
          "metadata": {},
          "execution_count": 28
        }
      ]
    },
    {
      "cell_type": "markdown",
      "source": [
        "## 2. Recopilar información estadística y de estructura.\n"
      ],
      "metadata": {
        "id": "iQj51xqAN0DH"
      }
    },
    {
      "cell_type": "code",
      "source": [
        "import re\n",
        "\n",
        "def extract_stats(column_data):\n",
        "    stats = {}\n",
        "    for entry in column_data.dropna():\n",
        "        # Encontrar todas las combinaciones tipo \"Nombre Número\"\n",
        "        matches = re.findall(r\"([\\w. ]+?)\\s([\\d,./]+)\", entry)\n",
        "        for key, val in matches:\n",
        "            key = key.strip().rstrip(\":\")\n",
        "            val_clean = val.replace(\",\", \"\")\n",
        "            # Si es un número, parsearlo\n",
        "            try:\n",
        "                if \"/\" in val_clean:\n",
        "                    # Por ejemplo \"1.92 / 5\"\n",
        "                    parts = val_clean.split(\"/\")\n",
        "                    stats[key] = {\n",
        "                        \"value\": float(parts[0].strip()),\n",
        "                        \"max\": float(parts[1].strip())\n",
        "                    }\n",
        "                else:\n",
        "                    stats[key] = float(val_clean)\n",
        "            except:\n",
        "                stats[key] = val_clean\n",
        "    return stats\n"
      ],
      "metadata": {
        "id": "TCpIuOZZIbz5"
      },
      "execution_count": null,
      "outputs": []
    },
    {
      "cell_type": "code",
      "source": [
        "resumen = {}\n",
        "\n",
        "for col in df_estadísticas.columns:\n",
        "    resumen[col] = extract_stats(df_estadísticas[col])\n",
        "\n",
        "from pprint import pprint\n",
        "pprint(resumen)"
      ],
      "metadata": {
        "colab": {
          "base_uri": "https://localhost:8080/"
        },
        "id": "aKLkzOwgO0me",
        "outputId": "8e3de847-a3e2-48f2-c37c-16720db751ca"
      },
      "execution_count": null,
      "outputs": [
        {
          "output_type": "stream",
          "name": "stdout",
          "text": [
            "{'COLLECTION STATS': {'For Trade': 606.0,\n",
            "                      'Own': 73808.0,\n",
            "                      'Prev. Owned': 4901.0,\n",
            "                      'Want In Trade': 832.0,\n",
            "                      'Wishlist': 9323.0},\n",
            " 'GAME RANKS': {'Abstract Rank': 10.0,\n",
            "                'Family Rank': 45.0,\n",
            "                'Overall Rank': 213.0},\n",
            " 'GAME STATS': {'Avg. Rating': 7.472,\n",
            "                'Comments': 6137.0,\n",
            "                'Fans': 2230.0,\n",
            "                'No. of Ratings': 44391.0,\n",
            "                'Page Views': 1851300.0,\n",
            "                'Std. Deviation': 1.16,\n",
            "                'Weight': 1.92},\n",
            " 'PARTS EXCHANGE': {'Has Parts': 19.0, 'Want Parts': 19.0},\n",
            " 'PLAY STATS': {'All Time Plays': 287557.0, 'This Month': 299.0}}\n"
          ]
        }
      ]
    },
    {
      "cell_type": "markdown",
      "source": [
        "## 3. Utilizar un modelo de lenguaje con instrucciones de sistema ajustado a la información de nuestro set de datos y 4.  Solicitar al modelo de lenguaje que nos de los filtros correspondientes para buscar la respuesta a la consulta que necesitamos."
      ],
      "metadata": {
        "id": "gMW6Nd4yQ9nm"
      }
    },
    {
      "cell_type": "code",
      "source": [
        "# Ajustamos la estrucutra del dataframe para hacerlo apto a consultas de pandas\n",
        "flat_data = []\n",
        "for category, subdict in resumen.items():\n",
        "    for key, value in subdict.items():\n",
        "        flat_data.append({\"Category\": category, \"Metric\": key, \"Value\": value})\n",
        "\n",
        "df_estadísticas = pd.DataFrame(flat_data)\n"
      ],
      "metadata": {
        "id": "AVYS2e1D7a69"
      },
      "execution_count": null,
      "outputs": []
    },
    {
      "cell_type": "code",
      "source": [
        "df_estadísticas"
      ],
      "metadata": {
        "colab": {
          "base_uri": "https://localhost:8080/",
          "height": 645
        },
        "id": "wcf-1ccv8C35",
        "outputId": "0e1581a9-b442-4be4-c87d-21af811cba03"
      },
      "execution_count": null,
      "outputs": [
        {
          "output_type": "execute_result",
          "data": {
            "text/plain": [
              "            Category          Metric        Value\n",
              "0         GAME STATS     Avg. Rating        7.472\n",
              "1         GAME STATS  No. of Ratings    44391.000\n",
              "2         GAME STATS  Std. Deviation        1.160\n",
              "3         GAME STATS          Weight        1.920\n",
              "4         GAME STATS        Comments     6137.000\n",
              "5         GAME STATS            Fans     2230.000\n",
              "6         GAME STATS      Page Views  1851300.000\n",
              "7         GAME RANKS    Overall Rank      213.000\n",
              "8         GAME RANKS   Abstract Rank       10.000\n",
              "9         GAME RANKS     Family Rank       45.000\n",
              "10        PLAY STATS  All Time Plays   287557.000\n",
              "11        PLAY STATS      This Month      299.000\n",
              "12  COLLECTION STATS             Own    73808.000\n",
              "13  COLLECTION STATS     Prev. Owned     4901.000\n",
              "14  COLLECTION STATS       For Trade      606.000\n",
              "15  COLLECTION STATS   Want In Trade      832.000\n",
              "16  COLLECTION STATS        Wishlist     9323.000\n",
              "17    PARTS EXCHANGE       Has Parts       19.000\n",
              "18    PARTS EXCHANGE      Want Parts       19.000"
            ],
            "text/html": [
              "\n",
              "  <div id=\"df-51e4b70a-1c29-43b2-84d7-a3a5e1e934da\" class=\"colab-df-container\">\n",
              "    <div>\n",
              "<style scoped>\n",
              "    .dataframe tbody tr th:only-of-type {\n",
              "        vertical-align: middle;\n",
              "    }\n",
              "\n",
              "    .dataframe tbody tr th {\n",
              "        vertical-align: top;\n",
              "    }\n",
              "\n",
              "    .dataframe thead th {\n",
              "        text-align: right;\n",
              "    }\n",
              "</style>\n",
              "<table border=\"1\" class=\"dataframe\">\n",
              "  <thead>\n",
              "    <tr style=\"text-align: right;\">\n",
              "      <th></th>\n",
              "      <th>Category</th>\n",
              "      <th>Metric</th>\n",
              "      <th>Value</th>\n",
              "    </tr>\n",
              "  </thead>\n",
              "  <tbody>\n",
              "    <tr>\n",
              "      <th>0</th>\n",
              "      <td>GAME STATS</td>\n",
              "      <td>Avg. Rating</td>\n",
              "      <td>7.472</td>\n",
              "    </tr>\n",
              "    <tr>\n",
              "      <th>1</th>\n",
              "      <td>GAME STATS</td>\n",
              "      <td>No. of Ratings</td>\n",
              "      <td>44391.000</td>\n",
              "    </tr>\n",
              "    <tr>\n",
              "      <th>2</th>\n",
              "      <td>GAME STATS</td>\n",
              "      <td>Std. Deviation</td>\n",
              "      <td>1.160</td>\n",
              "    </tr>\n",
              "    <tr>\n",
              "      <th>3</th>\n",
              "      <td>GAME STATS</td>\n",
              "      <td>Weight</td>\n",
              "      <td>1.920</td>\n",
              "    </tr>\n",
              "    <tr>\n",
              "      <th>4</th>\n",
              "      <td>GAME STATS</td>\n",
              "      <td>Comments</td>\n",
              "      <td>6137.000</td>\n",
              "    </tr>\n",
              "    <tr>\n",
              "      <th>5</th>\n",
              "      <td>GAME STATS</td>\n",
              "      <td>Fans</td>\n",
              "      <td>2230.000</td>\n",
              "    </tr>\n",
              "    <tr>\n",
              "      <th>6</th>\n",
              "      <td>GAME STATS</td>\n",
              "      <td>Page Views</td>\n",
              "      <td>1851300.000</td>\n",
              "    </tr>\n",
              "    <tr>\n",
              "      <th>7</th>\n",
              "      <td>GAME RANKS</td>\n",
              "      <td>Overall Rank</td>\n",
              "      <td>213.000</td>\n",
              "    </tr>\n",
              "    <tr>\n",
              "      <th>8</th>\n",
              "      <td>GAME RANKS</td>\n",
              "      <td>Abstract Rank</td>\n",
              "      <td>10.000</td>\n",
              "    </tr>\n",
              "    <tr>\n",
              "      <th>9</th>\n",
              "      <td>GAME RANKS</td>\n",
              "      <td>Family Rank</td>\n",
              "      <td>45.000</td>\n",
              "    </tr>\n",
              "    <tr>\n",
              "      <th>10</th>\n",
              "      <td>PLAY STATS</td>\n",
              "      <td>All Time Plays</td>\n",
              "      <td>287557.000</td>\n",
              "    </tr>\n",
              "    <tr>\n",
              "      <th>11</th>\n",
              "      <td>PLAY STATS</td>\n",
              "      <td>This Month</td>\n",
              "      <td>299.000</td>\n",
              "    </tr>\n",
              "    <tr>\n",
              "      <th>12</th>\n",
              "      <td>COLLECTION STATS</td>\n",
              "      <td>Own</td>\n",
              "      <td>73808.000</td>\n",
              "    </tr>\n",
              "    <tr>\n",
              "      <th>13</th>\n",
              "      <td>COLLECTION STATS</td>\n",
              "      <td>Prev. Owned</td>\n",
              "      <td>4901.000</td>\n",
              "    </tr>\n",
              "    <tr>\n",
              "      <th>14</th>\n",
              "      <td>COLLECTION STATS</td>\n",
              "      <td>For Trade</td>\n",
              "      <td>606.000</td>\n",
              "    </tr>\n",
              "    <tr>\n",
              "      <th>15</th>\n",
              "      <td>COLLECTION STATS</td>\n",
              "      <td>Want In Trade</td>\n",
              "      <td>832.000</td>\n",
              "    </tr>\n",
              "    <tr>\n",
              "      <th>16</th>\n",
              "      <td>COLLECTION STATS</td>\n",
              "      <td>Wishlist</td>\n",
              "      <td>9323.000</td>\n",
              "    </tr>\n",
              "    <tr>\n",
              "      <th>17</th>\n",
              "      <td>PARTS EXCHANGE</td>\n",
              "      <td>Has Parts</td>\n",
              "      <td>19.000</td>\n",
              "    </tr>\n",
              "    <tr>\n",
              "      <th>18</th>\n",
              "      <td>PARTS EXCHANGE</td>\n",
              "      <td>Want Parts</td>\n",
              "      <td>19.000</td>\n",
              "    </tr>\n",
              "  </tbody>\n",
              "</table>\n",
              "</div>\n",
              "    <div class=\"colab-df-buttons\">\n",
              "\n",
              "  <div class=\"colab-df-container\">\n",
              "    <button class=\"colab-df-convert\" onclick=\"convertToInteractive('df-51e4b70a-1c29-43b2-84d7-a3a5e1e934da')\"\n",
              "            title=\"Convert this dataframe to an interactive table.\"\n",
              "            style=\"display:none;\">\n",
              "\n",
              "  <svg xmlns=\"http://www.w3.org/2000/svg\" height=\"24px\" viewBox=\"0 -960 960 960\">\n",
              "    <path d=\"M120-120v-720h720v720H120Zm60-500h600v-160H180v160Zm220 220h160v-160H400v160Zm0 220h160v-160H400v160ZM180-400h160v-160H180v160Zm440 0h160v-160H620v160ZM180-180h160v-160H180v160Zm440 0h160v-160H620v160Z\"/>\n",
              "  </svg>\n",
              "    </button>\n",
              "\n",
              "  <style>\n",
              "    .colab-df-container {\n",
              "      display:flex;\n",
              "      gap: 12px;\n",
              "    }\n",
              "\n",
              "    .colab-df-convert {\n",
              "      background-color: #E8F0FE;\n",
              "      border: none;\n",
              "      border-radius: 50%;\n",
              "      cursor: pointer;\n",
              "      display: none;\n",
              "      fill: #1967D2;\n",
              "      height: 32px;\n",
              "      padding: 0 0 0 0;\n",
              "      width: 32px;\n",
              "    }\n",
              "\n",
              "    .colab-df-convert:hover {\n",
              "      background-color: #E2EBFA;\n",
              "      box-shadow: 0px 1px 2px rgba(60, 64, 67, 0.3), 0px 1px 3px 1px rgba(60, 64, 67, 0.15);\n",
              "      fill: #174EA6;\n",
              "    }\n",
              "\n",
              "    .colab-df-buttons div {\n",
              "      margin-bottom: 4px;\n",
              "    }\n",
              "\n",
              "    [theme=dark] .colab-df-convert {\n",
              "      background-color: #3B4455;\n",
              "      fill: #D2E3FC;\n",
              "    }\n",
              "\n",
              "    [theme=dark] .colab-df-convert:hover {\n",
              "      background-color: #434B5C;\n",
              "      box-shadow: 0px 1px 3px 1px rgba(0, 0, 0, 0.15);\n",
              "      filter: drop-shadow(0px 1px 2px rgba(0, 0, 0, 0.3));\n",
              "      fill: #FFFFFF;\n",
              "    }\n",
              "  </style>\n",
              "\n",
              "    <script>\n",
              "      const buttonEl =\n",
              "        document.querySelector('#df-51e4b70a-1c29-43b2-84d7-a3a5e1e934da button.colab-df-convert');\n",
              "      buttonEl.style.display =\n",
              "        google.colab.kernel.accessAllowed ? 'block' : 'none';\n",
              "\n",
              "      async function convertToInteractive(key) {\n",
              "        const element = document.querySelector('#df-51e4b70a-1c29-43b2-84d7-a3a5e1e934da');\n",
              "        const dataTable =\n",
              "          await google.colab.kernel.invokeFunction('convertToInteractive',\n",
              "                                                    [key], {});\n",
              "        if (!dataTable) return;\n",
              "\n",
              "        const docLinkHtml = 'Like what you see? Visit the ' +\n",
              "          '<a target=\"_blank\" href=https://colab.research.google.com/notebooks/data_table.ipynb>data table notebook</a>'\n",
              "          + ' to learn more about interactive tables.';\n",
              "        element.innerHTML = '';\n",
              "        dataTable['output_type'] = 'display_data';\n",
              "        await google.colab.output.renderOutput(dataTable, element);\n",
              "        const docLink = document.createElement('div');\n",
              "        docLink.innerHTML = docLinkHtml;\n",
              "        element.appendChild(docLink);\n",
              "      }\n",
              "    </script>\n",
              "  </div>\n",
              "\n",
              "\n",
              "    <div id=\"df-d0febf0e-5184-4862-8a36-b843e9910eb6\">\n",
              "      <button class=\"colab-df-quickchart\" onclick=\"quickchart('df-d0febf0e-5184-4862-8a36-b843e9910eb6')\"\n",
              "                title=\"Suggest charts\"\n",
              "                style=\"display:none;\">\n",
              "\n",
              "<svg xmlns=\"http://www.w3.org/2000/svg\" height=\"24px\"viewBox=\"0 0 24 24\"\n",
              "     width=\"24px\">\n",
              "    <g>\n",
              "        <path d=\"M19 3H5c-1.1 0-2 .9-2 2v14c0 1.1.9 2 2 2h14c1.1 0 2-.9 2-2V5c0-1.1-.9-2-2-2zM9 17H7v-7h2v7zm4 0h-2V7h2v10zm4 0h-2v-4h2v4z\"/>\n",
              "    </g>\n",
              "</svg>\n",
              "      </button>\n",
              "\n",
              "<style>\n",
              "  .colab-df-quickchart {\n",
              "      --bg-color: #E8F0FE;\n",
              "      --fill-color: #1967D2;\n",
              "      --hover-bg-color: #E2EBFA;\n",
              "      --hover-fill-color: #174EA6;\n",
              "      --disabled-fill-color: #AAA;\n",
              "      --disabled-bg-color: #DDD;\n",
              "  }\n",
              "\n",
              "  [theme=dark] .colab-df-quickchart {\n",
              "      --bg-color: #3B4455;\n",
              "      --fill-color: #D2E3FC;\n",
              "      --hover-bg-color: #434B5C;\n",
              "      --hover-fill-color: #FFFFFF;\n",
              "      --disabled-bg-color: #3B4455;\n",
              "      --disabled-fill-color: #666;\n",
              "  }\n",
              "\n",
              "  .colab-df-quickchart {\n",
              "    background-color: var(--bg-color);\n",
              "    border: none;\n",
              "    border-radius: 50%;\n",
              "    cursor: pointer;\n",
              "    display: none;\n",
              "    fill: var(--fill-color);\n",
              "    height: 32px;\n",
              "    padding: 0;\n",
              "    width: 32px;\n",
              "  }\n",
              "\n",
              "  .colab-df-quickchart:hover {\n",
              "    background-color: var(--hover-bg-color);\n",
              "    box-shadow: 0 1px 2px rgba(60, 64, 67, 0.3), 0 1px 3px 1px rgba(60, 64, 67, 0.15);\n",
              "    fill: var(--button-hover-fill-color);\n",
              "  }\n",
              "\n",
              "  .colab-df-quickchart-complete:disabled,\n",
              "  .colab-df-quickchart-complete:disabled:hover {\n",
              "    background-color: var(--disabled-bg-color);\n",
              "    fill: var(--disabled-fill-color);\n",
              "    box-shadow: none;\n",
              "  }\n",
              "\n",
              "  .colab-df-spinner {\n",
              "    border: 2px solid var(--fill-color);\n",
              "    border-color: transparent;\n",
              "    border-bottom-color: var(--fill-color);\n",
              "    animation:\n",
              "      spin 1s steps(1) infinite;\n",
              "  }\n",
              "\n",
              "  @keyframes spin {\n",
              "    0% {\n",
              "      border-color: transparent;\n",
              "      border-bottom-color: var(--fill-color);\n",
              "      border-left-color: var(--fill-color);\n",
              "    }\n",
              "    20% {\n",
              "      border-color: transparent;\n",
              "      border-left-color: var(--fill-color);\n",
              "      border-top-color: var(--fill-color);\n",
              "    }\n",
              "    30% {\n",
              "      border-color: transparent;\n",
              "      border-left-color: var(--fill-color);\n",
              "      border-top-color: var(--fill-color);\n",
              "      border-right-color: var(--fill-color);\n",
              "    }\n",
              "    40% {\n",
              "      border-color: transparent;\n",
              "      border-right-color: var(--fill-color);\n",
              "      border-top-color: var(--fill-color);\n",
              "    }\n",
              "    60% {\n",
              "      border-color: transparent;\n",
              "      border-right-color: var(--fill-color);\n",
              "    }\n",
              "    80% {\n",
              "      border-color: transparent;\n",
              "      border-right-color: var(--fill-color);\n",
              "      border-bottom-color: var(--fill-color);\n",
              "    }\n",
              "    90% {\n",
              "      border-color: transparent;\n",
              "      border-bottom-color: var(--fill-color);\n",
              "    }\n",
              "  }\n",
              "</style>\n",
              "\n",
              "      <script>\n",
              "        async function quickchart(key) {\n",
              "          const quickchartButtonEl =\n",
              "            document.querySelector('#' + key + ' button');\n",
              "          quickchartButtonEl.disabled = true;  // To prevent multiple clicks.\n",
              "          quickchartButtonEl.classList.add('colab-df-spinner');\n",
              "          try {\n",
              "            const charts = await google.colab.kernel.invokeFunction(\n",
              "                'suggestCharts', [key], {});\n",
              "          } catch (error) {\n",
              "            console.error('Error during call to suggestCharts:', error);\n",
              "          }\n",
              "          quickchartButtonEl.classList.remove('colab-df-spinner');\n",
              "          quickchartButtonEl.classList.add('colab-df-quickchart-complete');\n",
              "        }\n",
              "        (() => {\n",
              "          let quickchartButtonEl =\n",
              "            document.querySelector('#df-d0febf0e-5184-4862-8a36-b843e9910eb6 button');\n",
              "          quickchartButtonEl.style.display =\n",
              "            google.colab.kernel.accessAllowed ? 'block' : 'none';\n",
              "        })();\n",
              "      </script>\n",
              "    </div>\n",
              "\n",
              "  <div id=\"id_4e314b0d-8cec-4b7c-84cb-59c2e0a20836\">\n",
              "    <style>\n",
              "      .colab-df-generate {\n",
              "        background-color: #E8F0FE;\n",
              "        border: none;\n",
              "        border-radius: 50%;\n",
              "        cursor: pointer;\n",
              "        display: none;\n",
              "        fill: #1967D2;\n",
              "        height: 32px;\n",
              "        padding: 0 0 0 0;\n",
              "        width: 32px;\n",
              "      }\n",
              "\n",
              "      .colab-df-generate:hover {\n",
              "        background-color: #E2EBFA;\n",
              "        box-shadow: 0px 1px 2px rgba(60, 64, 67, 0.3), 0px 1px 3px 1px rgba(60, 64, 67, 0.15);\n",
              "        fill: #174EA6;\n",
              "      }\n",
              "\n",
              "      [theme=dark] .colab-df-generate {\n",
              "        background-color: #3B4455;\n",
              "        fill: #D2E3FC;\n",
              "      }\n",
              "\n",
              "      [theme=dark] .colab-df-generate:hover {\n",
              "        background-color: #434B5C;\n",
              "        box-shadow: 0px 1px 3px 1px rgba(0, 0, 0, 0.15);\n",
              "        filter: drop-shadow(0px 1px 2px rgba(0, 0, 0, 0.3));\n",
              "        fill: #FFFFFF;\n",
              "      }\n",
              "    </style>\n",
              "    <button class=\"colab-df-generate\" onclick=\"generateWithVariable('df_estadísticas')\"\n",
              "            title=\"Generate code using this dataframe.\"\n",
              "            style=\"display:none;\">\n",
              "\n",
              "  <svg xmlns=\"http://www.w3.org/2000/svg\" height=\"24px\"viewBox=\"0 0 24 24\"\n",
              "       width=\"24px\">\n",
              "    <path d=\"M7,19H8.4L18.45,9,17,7.55,7,17.6ZM5,21V16.75L18.45,3.32a2,2,0,0,1,2.83,0l1.4,1.43a1.91,1.91,0,0,1,.58,1.4,1.91,1.91,0,0,1-.58,1.4L9.25,21ZM18.45,9,17,7.55Zm-12,3A5.31,5.31,0,0,0,4.9,8.1,5.31,5.31,0,0,0,1,6.5,5.31,5.31,0,0,0,4.9,4.9,5.31,5.31,0,0,0,6.5,1,5.31,5.31,0,0,0,8.1,4.9,5.31,5.31,0,0,0,12,6.5,5.46,5.46,0,0,0,6.5,12Z\"/>\n",
              "  </svg>\n",
              "    </button>\n",
              "    <script>\n",
              "      (() => {\n",
              "      const buttonEl =\n",
              "        document.querySelector('#id_4e314b0d-8cec-4b7c-84cb-59c2e0a20836 button.colab-df-generate');\n",
              "      buttonEl.style.display =\n",
              "        google.colab.kernel.accessAllowed ? 'block' : 'none';\n",
              "\n",
              "      buttonEl.onclick = () => {\n",
              "        google.colab.notebook.generateWithVariable('df_estadísticas');\n",
              "      }\n",
              "      })();\n",
              "    </script>\n",
              "  </div>\n",
              "\n",
              "    </div>\n",
              "  </div>\n"
            ],
            "application/vnd.google.colaboratory.intrinsic+json": {
              "type": "dataframe",
              "variable_name": "df_estadísticas",
              "summary": "{\n  \"name\": \"df_estad\\u00edsticas\",\n  \"rows\": 19,\n  \"fields\": [\n    {\n      \"column\": \"Category\",\n      \"properties\": {\n        \"dtype\": \"category\",\n        \"num_unique_values\": 5,\n        \"samples\": [\n          \"GAME RANKS\",\n          \"PARTS EXCHANGE\",\n          \"PLAY STATS\"\n        ],\n        \"semantic_type\": \"\",\n        \"description\": \"\"\n      }\n    },\n    {\n      \"column\": \"Metric\",\n      \"properties\": {\n        \"dtype\": \"string\",\n        \"num_unique_values\": 19,\n        \"samples\": [\n          \"Avg. Rating\",\n          \"Fans\",\n          \"This Month\"\n        ],\n        \"semantic_type\": \"\",\n        \"description\": \"\"\n      }\n    },\n    {\n      \"column\": \"Value\",\n      \"properties\": {\n        \"dtype\": \"number\",\n        \"std\": 424497.44052669086,\n        \"min\": 1.16,\n        \"max\": 1851300.0,\n        \"num_unique_values\": 18,\n        \"samples\": [\n          7.472,\n          44391.0,\n          10.0\n        ],\n        \"semantic_type\": \"\",\n        \"description\": \"\"\n      }\n    }\n  ]\n}"
            }
          },
          "metadata": {},
          "execution_count": 32
        }
      ]
    },
    {
      "cell_type": "code",
      "source": [
        "# lo convertimos a string para pasarle las claves al llm\n",
        "df_grouped = df_estadísticas.groupby(\"Category\")[\"Metric\"].apply(list).to_dict()\n",
        "df_grouped"
      ],
      "metadata": {
        "colab": {
          "base_uri": "https://localhost:8080/"
        },
        "id": "SDVBs1b78YPQ",
        "outputId": "8be1d618-8bcc-4dcb-b9d8-0753671c811a"
      },
      "execution_count": null,
      "outputs": [
        {
          "output_type": "execute_result",
          "data": {
            "text/plain": [
              "{'COLLECTION STATS': ['Own',\n",
              "  'Prev. Owned',\n",
              "  'For Trade',\n",
              "  'Want In Trade',\n",
              "  'Wishlist'],\n",
              " 'GAME RANKS': ['Overall Rank', 'Abstract Rank', 'Family Rank'],\n",
              " 'GAME STATS': ['Avg. Rating',\n",
              "  'No. of Ratings',\n",
              "  'Std. Deviation',\n",
              "  'Weight',\n",
              "  'Comments',\n",
              "  'Fans',\n",
              "  'Page Views'],\n",
              " 'PARTS EXCHANGE': ['Has Parts', 'Want Parts'],\n",
              " 'PLAY STATS': ['All Time Plays', 'This Month']}"
            ]
          },
          "metadata": {},
          "execution_count": 33
        }
      ]
    },
    {
      "cell_type": "code",
      "source": [
        "from google import genai\n",
        "from google.genai import types\n",
        "client = genai.Client(api_key=userdata.get('GEMINI_TOKE'))"
      ],
      "metadata": {
        "id": "4Eyu7kbaR0N9"
      },
      "execution_count": null,
      "outputs": []
    },
    {
      "cell_type": "code",
      "source": [
        "query_stats = \"What is the number of Ratings.\""
      ],
      "metadata": {
        "id": "SUi_klPeon7P"
      },
      "execution_count": null,
      "outputs": []
    },
    {
      "cell_type": "code",
      "source": [
        "response_relaciones = client.models.generate_content(\n",
        "    model=\"gemini-2.5-flash\",\n",
        "    config=types.GenerateContentConfig(\n",
        "        system_instruction=str(df_grouped)),\n",
        "    contents=f\"{query_stats} Return me JUST the filters in a list format to look the answer to that question. The category and the metric\"\n",
        ")\n"
      ],
      "metadata": {
        "id": "K2SwZ_MVRujS"
      },
      "execution_count": null,
      "outputs": []
    },
    {
      "cell_type": "code",
      "source": [
        "response_relaciones.text"
      ],
      "metadata": {
        "colab": {
          "base_uri": "https://localhost:8080/",
          "height": 35
        },
        "id": "OZQmqX_Bg6sR",
        "outputId": "a56b38b4-f35f-45f9-8809-5350c9506d76"
      },
      "execution_count": null,
      "outputs": [
        {
          "output_type": "execute_result",
          "data": {
            "text/plain": [
              "\"['GAME STATS', 'No. of Ratings']\""
            ],
            "application/vnd.google.colaboratory.intrinsic+json": {
              "type": "string"
            }
          },
          "metadata": {},
          "execution_count": 37
        }
      ]
    },
    {
      "cell_type": "markdown",
      "source": [
        "## 5. Utilizar esta respuesta obtenida para filtrar nuestro set de datos y devolver la respuesta"
      ],
      "metadata": {
        "id": "skm0mY2Riofn"
      }
    },
    {
      "cell_type": "markdown",
      "source": [
        "En base a la respuesta de la celda anterior filtramos nuestro dataset para obetenerla."
      ],
      "metadata": {
        "id": "tzNKHSjZi3sU"
      }
    },
    {
      "cell_type": "code",
      "source": [
        "n_ratings = df_estadísticas[\n",
        "    (df_estadísticas['Category'] == 'GAME STATS') &\n",
        "    (df_estadísticas['Metric'] == 'No. of Ratings')\n",
        "]\n"
      ],
      "metadata": {
        "id": "eqKWFoMbioJm"
      },
      "execution_count": null,
      "outputs": []
    },
    {
      "cell_type": "code",
      "source": [
        "n_ratings.Value.values[0]"
      ],
      "metadata": {
        "colab": {
          "base_uri": "https://localhost:8080/"
        },
        "id": "Hbr7DbW5jRj4",
        "outputId": "0364790b-0815-495b-d106-0640b1563c0d"
      },
      "execution_count": null,
      "outputs": [
        {
          "output_type": "execute_result",
          "data": {
            "text/plain": [
              "np.float64(44391.0)"
            ]
          },
          "metadata": {},
          "execution_count": 39
        }
      ]
    },
    {
      "cell_type": "markdown",
      "source": [
        "## 6. Crear la interfaz para acceder mediante una función en donde solamente le pasaremos filtros los cuales serán definidos por un modelo de lenguaje experto en código."
      ],
      "metadata": {
        "id": "mbQT6MJYjdYS"
      }
    },
    {
      "cell_type": "markdown",
      "source": [
        "Para que solamente pueda encontrar filtros validos agregué la validación de la categoria y la subcategoria. En caso de que esten mal"
      ],
      "metadata": {
        "id": "c1fhTcCPoNwJ"
      }
    },
    {
      "cell_type": "code",
      "source": [
        "import ast\n",
        "def interfaz_estadísticas(resumen, filtros: str):\n",
        "    filtros = ast.literal_eval(filtros)\n",
        "\n",
        "    categoria = filtros[0]\n",
        "    subcategoria = filtros[1]\n",
        "\n",
        "    if categoria not in resumen:\n",
        "      raise ValueError(f\"La categoría '{categoria}' no existe en el resumen. Las posibles son: {resumen.keys()}\")\n",
        "\n",
        "    if subcategoria not in resumen[categoria]:\n",
        "      raise ValueError(f\"La subcategoría '{subcategoria}' no existe en la categoría '{categoria}'. Las posibles son: {resumen[categoria].keys()}\")\n",
        "    return resumen[categoria][subcategoria]\n"
      ],
      "metadata": {
        "id": "U5lVIAPxkUyw"
      },
      "execution_count": null,
      "outputs": []
    },
    {
      "cell_type": "code",
      "source": [
        "filtros = response_relaciones.text"
      ],
      "metadata": {
        "id": "iJrJiY-xqbhc"
      },
      "execution_count": null,
      "outputs": []
    },
    {
      "cell_type": "code",
      "source": [
        "game_ranks = interfaz_estadísticas(resumen, filtros)\n",
        "game_ranks"
      ],
      "metadata": {
        "colab": {
          "base_uri": "https://localhost:8080/"
        },
        "id": "Ibw8-Ih6kzhb",
        "outputId": "c55be46f-2440-4c2a-fa58-51150b310a0a"
      },
      "execution_count": null,
      "outputs": [
        {
          "output_type": "execute_result",
          "data": {
            "text/plain": [
              "44391.0"
            ]
          },
          "metadata": {},
          "execution_count": 42
        }
      ]
    },
    {
      "cell_type": "markdown",
      "source": [
        "# Crear una base de datos de grafos"
      ],
      "metadata": {
        "id": "wj1mFvKDJiE7"
      }
    },
    {
      "cell_type": "markdown",
      "source": [
        "1.  Importar los datos obtenidos de relaciones en un dataframe\n",
        "2.  Preparar para su inserción en la base de datos de grafos.\n",
        "3.  implementar un modelo de lenguaje que convierta la consulta del lenguaje natural a consulta Cypher o SPARQL.\n",
        "4. Filtrar nuestro set de datos y devolver la respuesta.\n",
        "5. Generar interfaz\n",
        "\n"
      ],
      "metadata": {
        "id": "eb2fsN-BJmep"
      }
    },
    {
      "cell_type": "markdown",
      "source": [
        "Para importar los datos de las relaciones voy a usar el  metodo de cypher que lee directamente el archivo CSV y transforma las relaciones en una estructura de grafo https://neo4j.com/docs/getting-started/appendix/tutorials/guide-import-relational-and-etl/"
      ],
      "metadata": {
        "id": "vTOKKRVsvxWG"
      }
    },
    {
      "cell_type": "code",
      "source": [
        "relaciones = pd.read_csv('/content/sagrada/datos/relaciones/relaciones_sagrada_generadas.csv')"
      ],
      "metadata": {
        "id": "W7XDwtV4p1FH"
      },
      "execution_count": null,
      "outputs": []
    },
    {
      "cell_type": "code",
      "source": [
        "# convertir a dataframe\n",
        "df_relaciones = pd.DataFrame(relaciones)"
      ],
      "metadata": {
        "id": "VWFVlxzyp668"
      },
      "execution_count": null,
      "outputs": []
    },
    {
      "cell_type": "code",
      "source": [
        "df_relaciones.head()"
      ],
      "metadata": {
        "colab": {
          "base_uri": "https://localhost:8080/",
          "height": 206
        },
        "id": "UadEJniHqAr4",
        "outputId": "a860a9cb-7631-4cf8-9908-1557c89fd74e"
      },
      "execution_count": null,
      "outputs": [
        {
          "output_type": "execute_result",
          "data": {
            "text/plain": [
              "   SUJETO1      RELACION          SUJETO2\n",
              "0  Sagrada  Primary Name          Sagrada\n",
              "1  Sagrada     Designers  Adrian Adamescu\n",
              "2  Sagrada     Designers    Daryl Andrews\n",
              "3  Sagrada        Artist     Peter Wocken\n",
              "4  Sagrada    Publishers  Floodgate Games"
            ],
            "text/html": [
              "\n",
              "  <div id=\"df-8fcb7d6f-4b30-4a4e-9a8b-0a0f9209ed42\" class=\"colab-df-container\">\n",
              "    <div>\n",
              "<style scoped>\n",
              "    .dataframe tbody tr th:only-of-type {\n",
              "        vertical-align: middle;\n",
              "    }\n",
              "\n",
              "    .dataframe tbody tr th {\n",
              "        vertical-align: top;\n",
              "    }\n",
              "\n",
              "    .dataframe thead th {\n",
              "        text-align: right;\n",
              "    }\n",
              "</style>\n",
              "<table border=\"1\" class=\"dataframe\">\n",
              "  <thead>\n",
              "    <tr style=\"text-align: right;\">\n",
              "      <th></th>\n",
              "      <th>SUJETO1</th>\n",
              "      <th>RELACION</th>\n",
              "      <th>SUJETO2</th>\n",
              "    </tr>\n",
              "  </thead>\n",
              "  <tbody>\n",
              "    <tr>\n",
              "      <th>0</th>\n",
              "      <td>Sagrada</td>\n",
              "      <td>Primary Name</td>\n",
              "      <td>Sagrada</td>\n",
              "    </tr>\n",
              "    <tr>\n",
              "      <th>1</th>\n",
              "      <td>Sagrada</td>\n",
              "      <td>Designers</td>\n",
              "      <td>Adrian Adamescu</td>\n",
              "    </tr>\n",
              "    <tr>\n",
              "      <th>2</th>\n",
              "      <td>Sagrada</td>\n",
              "      <td>Designers</td>\n",
              "      <td>Daryl Andrews</td>\n",
              "    </tr>\n",
              "    <tr>\n",
              "      <th>3</th>\n",
              "      <td>Sagrada</td>\n",
              "      <td>Artist</td>\n",
              "      <td>Peter Wocken</td>\n",
              "    </tr>\n",
              "    <tr>\n",
              "      <th>4</th>\n",
              "      <td>Sagrada</td>\n",
              "      <td>Publishers</td>\n",
              "      <td>Floodgate Games</td>\n",
              "    </tr>\n",
              "  </tbody>\n",
              "</table>\n",
              "</div>\n",
              "    <div class=\"colab-df-buttons\">\n",
              "\n",
              "  <div class=\"colab-df-container\">\n",
              "    <button class=\"colab-df-convert\" onclick=\"convertToInteractive('df-8fcb7d6f-4b30-4a4e-9a8b-0a0f9209ed42')\"\n",
              "            title=\"Convert this dataframe to an interactive table.\"\n",
              "            style=\"display:none;\">\n",
              "\n",
              "  <svg xmlns=\"http://www.w3.org/2000/svg\" height=\"24px\" viewBox=\"0 -960 960 960\">\n",
              "    <path d=\"M120-120v-720h720v720H120Zm60-500h600v-160H180v160Zm220 220h160v-160H400v160Zm0 220h160v-160H400v160ZM180-400h160v-160H180v160Zm440 0h160v-160H620v160ZM180-180h160v-160H180v160Zm440 0h160v-160H620v160Z\"/>\n",
              "  </svg>\n",
              "    </button>\n",
              "\n",
              "  <style>\n",
              "    .colab-df-container {\n",
              "      display:flex;\n",
              "      gap: 12px;\n",
              "    }\n",
              "\n",
              "    .colab-df-convert {\n",
              "      background-color: #E8F0FE;\n",
              "      border: none;\n",
              "      border-radius: 50%;\n",
              "      cursor: pointer;\n",
              "      display: none;\n",
              "      fill: #1967D2;\n",
              "      height: 32px;\n",
              "      padding: 0 0 0 0;\n",
              "      width: 32px;\n",
              "    }\n",
              "\n",
              "    .colab-df-convert:hover {\n",
              "      background-color: #E2EBFA;\n",
              "      box-shadow: 0px 1px 2px rgba(60, 64, 67, 0.3), 0px 1px 3px 1px rgba(60, 64, 67, 0.15);\n",
              "      fill: #174EA6;\n",
              "    }\n",
              "\n",
              "    .colab-df-buttons div {\n",
              "      margin-bottom: 4px;\n",
              "    }\n",
              "\n",
              "    [theme=dark] .colab-df-convert {\n",
              "      background-color: #3B4455;\n",
              "      fill: #D2E3FC;\n",
              "    }\n",
              "\n",
              "    [theme=dark] .colab-df-convert:hover {\n",
              "      background-color: #434B5C;\n",
              "      box-shadow: 0px 1px 3px 1px rgba(0, 0, 0, 0.15);\n",
              "      filter: drop-shadow(0px 1px 2px rgba(0, 0, 0, 0.3));\n",
              "      fill: #FFFFFF;\n",
              "    }\n",
              "  </style>\n",
              "\n",
              "    <script>\n",
              "      const buttonEl =\n",
              "        document.querySelector('#df-8fcb7d6f-4b30-4a4e-9a8b-0a0f9209ed42 button.colab-df-convert');\n",
              "      buttonEl.style.display =\n",
              "        google.colab.kernel.accessAllowed ? 'block' : 'none';\n",
              "\n",
              "      async function convertToInteractive(key) {\n",
              "        const element = document.querySelector('#df-8fcb7d6f-4b30-4a4e-9a8b-0a0f9209ed42');\n",
              "        const dataTable =\n",
              "          await google.colab.kernel.invokeFunction('convertToInteractive',\n",
              "                                                    [key], {});\n",
              "        if (!dataTable) return;\n",
              "\n",
              "        const docLinkHtml = 'Like what you see? Visit the ' +\n",
              "          '<a target=\"_blank\" href=https://colab.research.google.com/notebooks/data_table.ipynb>data table notebook</a>'\n",
              "          + ' to learn more about interactive tables.';\n",
              "        element.innerHTML = '';\n",
              "        dataTable['output_type'] = 'display_data';\n",
              "        await google.colab.output.renderOutput(dataTable, element);\n",
              "        const docLink = document.createElement('div');\n",
              "        docLink.innerHTML = docLinkHtml;\n",
              "        element.appendChild(docLink);\n",
              "      }\n",
              "    </script>\n",
              "  </div>\n",
              "\n",
              "\n",
              "    <div id=\"df-bd681e09-d86b-4548-9d63-ce5d02b13ffc\">\n",
              "      <button class=\"colab-df-quickchart\" onclick=\"quickchart('df-bd681e09-d86b-4548-9d63-ce5d02b13ffc')\"\n",
              "                title=\"Suggest charts\"\n",
              "                style=\"display:none;\">\n",
              "\n",
              "<svg xmlns=\"http://www.w3.org/2000/svg\" height=\"24px\"viewBox=\"0 0 24 24\"\n",
              "     width=\"24px\">\n",
              "    <g>\n",
              "        <path d=\"M19 3H5c-1.1 0-2 .9-2 2v14c0 1.1.9 2 2 2h14c1.1 0 2-.9 2-2V5c0-1.1-.9-2-2-2zM9 17H7v-7h2v7zm4 0h-2V7h2v10zm4 0h-2v-4h2v4z\"/>\n",
              "    </g>\n",
              "</svg>\n",
              "      </button>\n",
              "\n",
              "<style>\n",
              "  .colab-df-quickchart {\n",
              "      --bg-color: #E8F0FE;\n",
              "      --fill-color: #1967D2;\n",
              "      --hover-bg-color: #E2EBFA;\n",
              "      --hover-fill-color: #174EA6;\n",
              "      --disabled-fill-color: #AAA;\n",
              "      --disabled-bg-color: #DDD;\n",
              "  }\n",
              "\n",
              "  [theme=dark] .colab-df-quickchart {\n",
              "      --bg-color: #3B4455;\n",
              "      --fill-color: #D2E3FC;\n",
              "      --hover-bg-color: #434B5C;\n",
              "      --hover-fill-color: #FFFFFF;\n",
              "      --disabled-bg-color: #3B4455;\n",
              "      --disabled-fill-color: #666;\n",
              "  }\n",
              "\n",
              "  .colab-df-quickchart {\n",
              "    background-color: var(--bg-color);\n",
              "    border: none;\n",
              "    border-radius: 50%;\n",
              "    cursor: pointer;\n",
              "    display: none;\n",
              "    fill: var(--fill-color);\n",
              "    height: 32px;\n",
              "    padding: 0;\n",
              "    width: 32px;\n",
              "  }\n",
              "\n",
              "  .colab-df-quickchart:hover {\n",
              "    background-color: var(--hover-bg-color);\n",
              "    box-shadow: 0 1px 2px rgba(60, 64, 67, 0.3), 0 1px 3px 1px rgba(60, 64, 67, 0.15);\n",
              "    fill: var(--button-hover-fill-color);\n",
              "  }\n",
              "\n",
              "  .colab-df-quickchart-complete:disabled,\n",
              "  .colab-df-quickchart-complete:disabled:hover {\n",
              "    background-color: var(--disabled-bg-color);\n",
              "    fill: var(--disabled-fill-color);\n",
              "    box-shadow: none;\n",
              "  }\n",
              "\n",
              "  .colab-df-spinner {\n",
              "    border: 2px solid var(--fill-color);\n",
              "    border-color: transparent;\n",
              "    border-bottom-color: var(--fill-color);\n",
              "    animation:\n",
              "      spin 1s steps(1) infinite;\n",
              "  }\n",
              "\n",
              "  @keyframes spin {\n",
              "    0% {\n",
              "      border-color: transparent;\n",
              "      border-bottom-color: var(--fill-color);\n",
              "      border-left-color: var(--fill-color);\n",
              "    }\n",
              "    20% {\n",
              "      border-color: transparent;\n",
              "      border-left-color: var(--fill-color);\n",
              "      border-top-color: var(--fill-color);\n",
              "    }\n",
              "    30% {\n",
              "      border-color: transparent;\n",
              "      border-left-color: var(--fill-color);\n",
              "      border-top-color: var(--fill-color);\n",
              "      border-right-color: var(--fill-color);\n",
              "    }\n",
              "    40% {\n",
              "      border-color: transparent;\n",
              "      border-right-color: var(--fill-color);\n",
              "      border-top-color: var(--fill-color);\n",
              "    }\n",
              "    60% {\n",
              "      border-color: transparent;\n",
              "      border-right-color: var(--fill-color);\n",
              "    }\n",
              "    80% {\n",
              "      border-color: transparent;\n",
              "      border-right-color: var(--fill-color);\n",
              "      border-bottom-color: var(--fill-color);\n",
              "    }\n",
              "    90% {\n",
              "      border-color: transparent;\n",
              "      border-bottom-color: var(--fill-color);\n",
              "    }\n",
              "  }\n",
              "</style>\n",
              "\n",
              "      <script>\n",
              "        async function quickchart(key) {\n",
              "          const quickchartButtonEl =\n",
              "            document.querySelector('#' + key + ' button');\n",
              "          quickchartButtonEl.disabled = true;  // To prevent multiple clicks.\n",
              "          quickchartButtonEl.classList.add('colab-df-spinner');\n",
              "          try {\n",
              "            const charts = await google.colab.kernel.invokeFunction(\n",
              "                'suggestCharts', [key], {});\n",
              "          } catch (error) {\n",
              "            console.error('Error during call to suggestCharts:', error);\n",
              "          }\n",
              "          quickchartButtonEl.classList.remove('colab-df-spinner');\n",
              "          quickchartButtonEl.classList.add('colab-df-quickchart-complete');\n",
              "        }\n",
              "        (() => {\n",
              "          let quickchartButtonEl =\n",
              "            document.querySelector('#df-bd681e09-d86b-4548-9d63-ce5d02b13ffc button');\n",
              "          quickchartButtonEl.style.display =\n",
              "            google.colab.kernel.accessAllowed ? 'block' : 'none';\n",
              "        })();\n",
              "      </script>\n",
              "    </div>\n",
              "\n",
              "    </div>\n",
              "  </div>\n"
            ],
            "application/vnd.google.colaboratory.intrinsic+json": {
              "type": "dataframe",
              "variable_name": "df_relaciones",
              "summary": "{\n  \"name\": \"df_relaciones\",\n  \"rows\": 49,\n  \"fields\": [\n    {\n      \"column\": \"SUJETO1\",\n      \"properties\": {\n        \"dtype\": \"category\",\n        \"num_unique_values\": 1,\n        \"samples\": [\n          \"Sagrada\"\n        ],\n        \"semantic_type\": \"\",\n        \"description\": \"\"\n      }\n    },\n    {\n      \"column\": \"RELACION\",\n      \"properties\": {\n        \"dtype\": \"category\",\n        \"num_unique_values\": 7,\n        \"samples\": [\n          \"Primary Name\"\n        ],\n        \"semantic_type\": \"\",\n        \"description\": \"\"\n      }\n    },\n    {\n      \"column\": \"SUJETO2\",\n      \"properties\": {\n        \"dtype\": \"string\",\n        \"num_unique_values\": 49,\n        \"samples\": [\n          \"Lex Games\"\n        ],\n        \"semantic_type\": \"\",\n        \"description\": \"\"\n      }\n    }\n  ]\n}"
            }
          },
          "metadata": {},
          "execution_count": 45
        }
      ]
    },
    {
      "cell_type": "markdown",
      "source": [
        "Se debe crear un nodo por cada sujeto y luego las relaciones\n"
      ],
      "metadata": {
        "id": "SIjWX-u53ko4"
      }
    },
    {
      "cell_type": "code",
      "source": [
        "def crear_nodo(relaciones_data_df):\n",
        "    \"\"\"\n",
        "    generar las queries que crean los nodos en neo4j\n",
        "    :param relaciones_data_df: pandas dataframe - data\n",
        "    :return: query_list: list - list con todos los \"CREATE\" para insertarlo en node4j\n",
        "    \"\"\"\n",
        "    cat_query = \"\"\"CREATE (a:Sujeto {name: '%s', embedding: %s})\"\"\"\n",
        "    distinct_sujetos = pd.unique(\n",
        "        relaciones_data_df[['SUJETO1', 'SUJETO2']].values.ravel()\n",
        "    )\n",
        "\n",
        "    query_list = []\n",
        "    for nodo in distinct_sujetos:\n",
        "        nodo_sanitizado = nodo.replace(\"'\", \"\\\\'\")\n",
        "        query_list.append(f\"CREATE (:Sujeto {{name: '{nodo_sanitizado}'}})\")\n",
        "\n",
        "    return query_list"
      ],
      "metadata": {
        "id": "1QaST94I148R"
      },
      "execution_count": null,
      "outputs": []
    },
    {
      "cell_type": "code",
      "source": [
        "def crear_relaciones(df_relaciones):\n",
        "    \"\"\"\n",
        "    Genera queries Cypher para crear relaciones entre nodos\n",
        "    \"\"\"\n",
        "    queries = []\n",
        "\n",
        "    for _, row in df_relaciones.iterrows():\n",
        "        s1 = row[\"SUJETO1\"].replace(\"'\", \"\\\\'\")\n",
        "        rel = row[\"RELACION\"].replace(\" \", \"_\")\n",
        "        s2 = row[\"SUJETO2\"].replace(\"'\", \"\\\\'\")\n",
        "\n",
        "        queries.append(\n",
        "            f\"\"\"\n",
        "MATCH (a:Sujeto {{name: '{s1}'}}), (b:Sujeto {{name: '{s2}'}})\n",
        "CREATE (a)-[:{rel}]->(b)\n",
        "\"\"\".strip()\n",
        "        )\n",
        "\n",
        "    return queries\n"
      ],
      "metadata": {
        "id": "663MtD2r5JSH"
      },
      "execution_count": null,
      "outputs": []
    },
    {
      "cell_type": "code",
      "source": [
        "nodos_queries = crear_nodo(df_relaciones)\n",
        "relaciones_queries = crear_relaciones(df_relaciones)\n",
        "\n",
        "consultas_cephyr = []\n",
        "for q in nodos_queries + relaciones_queries:\n",
        "    consultas_cephyr.append(q)"
      ],
      "metadata": {
        "id": "Bx3dHnlF5PCN"
      },
      "execution_count": null,
      "outputs": []
    },
    {
      "cell_type": "markdown",
      "source": [
        "Para validar que funcionan creé una visualizacion del grafo en ne4js y poder visualizar las relaciones."
      ],
      "metadata": {
        "id": "r5D9X5-29_ZC"
      }
    },
    {
      "cell_type": "markdown",
      "source": [
        "![graph (1).png](data:image/png;base64,iVBORw0KGgoAAAANSUhEUgAABC8AAAP6CAYAAACw5XcvAAAAAXNSR0IArs4c6QAAIABJREFUeF7snQl8HHX5/z/fmdndpDmb9IYiopxyNJtylMtmUysU5FBrETmK/hDhL5eoP7WeP6kXcokiikgLKJSqINiilWzKWQpk0wJyyKHQA3qlubPZnZnvn2eS2U62m2Q32Wt2n6+vvCy733m+z/P+zuzuPPMcAjyYABNgAkyACTABJsAEmAATYAJMgAkwASaQxwREHuvGqjEBJsAEmAATYAJMgAkwASbABJgAE2ACTADsvOCTgAkwASbABJgAE2ACTIAJMAEmwASYABPIawLsvMjr7WHlmAATYAJMgAkwASbABJgAE2ACTIAJMAF2XvA5wASYABNgAkyACTCB8REQjUf5DoTH+IBpyOlCKDWALAPgASAhEQZEh4S5A4qy2RON/mfNC9g+viX5aCbABJgAE2ACxUWAnRfFtd9sLRNgAkyACTABJjBOAnP9vg+r0vwoFHOOlGI2gMMBqCmJFdgGiY0QeBbAE2aFHly7FnpKMngyE2ACTIAJMIEiIsDOiyLabDaVCTABJsAEmAATGBuBQL3HL6X8lAA+AeCIsUkZ8agIgNVCyAd7vcb969ahLwNrsEgmwASYABNgAq4lwM4L124dK84EmAATYAJMgAlkmkDA77kYkBcBmDPSWpqqQFUFVIX+AKEIKFbOCGBKCSkBw5AwTAldl9ZrI4x+QN4FRfld8PkoRWbwYAJMgAkwASZQ9ATYeVH0pwADYAJMgAkwASbABJwE6uvhqYJ2DSSuBDAtno4QQIlXhY/+PAo8HgGFXkxh6IZEf9RAJGIiHDEQ1RM7MwSwypS4sblVb0pBPE9lAkyACTABJlBwBFL7pi0489kgJsAEmAATYAJMgAnsIdDo9/w/QC6RwPR4LhNKNJSVqij1pVbeIhm+5MzoCxvoCeuIRM1EhzxgmuL/1m6IbkhGHs9hAkyACTABJlBoBNh5UWg7yvYwASbABJgAE2ACKRNo9GsnSeAnAI53HuxRBcrLPCgrUaEo2fnZ1B8x0d2no6dv7/qdQuLHTa36t1I2kA9gAkyACTABJuByAtn5FnY5JFafCTABJsAEmAATKFwCgXrth5D4drzToqLcg/JSLWeGUypJV08E3X1GvA4bpcSVza36YzlTjhdmAkyACTABJpBlAuy8yDJwXo4JMAEmwASYABPIDwInH1nyQU3Tb3+/VWmjU6Pqcg8qyz35oSRgpZG0d0cR7o9zYgh8Ldii/zxvFGVFmAATYAJMgAlkkAA7LzIIl0UzASbABJgAE2AC+UkgUK/NB3AXJKbaGlIti+pKLyhVJB9Hd6+O3Z0Rq4OJPQTk75tCxhfyUV/WiQkwASbABJhAOgnk57dzOi1kWUyACTABJsAEmAATcBBoqFMvEEIsd0KZWOFFRVnuUkSS3SBqs9rWGbE6lDjGGp9HX/jIenQmK4fnMQEmwASYABNwGwF2Xrhtx1hfJsAEmAATYAJMYMwEAvWeSyHlrbYAVRGoqfJmpIPImJVM4kByYFAkhmOs13T9jDUvYHsSh/MUJsAEmAATYAKuI8DOC9dtGSvMBJgAE2ACTIAJjIVAo99ziYS8zT7W61EwqcoHTXPnz6GuwTSSGAuJZyO6fsqTL2L3WPjwMUyACTABJsAE8pmAO7+t85ko68YEmAATYAJMgAnkHYHGOvUcKcS9tmI+r4LJ1b6stT/NFJCeXgO7Ovud4puDIT2QqfVYLhNgAkyACTCBXBFg50WuyPO6TIAJMAEmwASYQFYIzK3XTlQknog5LjwKJk90v+PCtodaqbZ1OBwYUvwx2Br9XFbg8iJMgAkwASbABLJEgJ0XWQLNyzABJsAEmAATYALZJ9B4DGqlrq4HxIdodY8mMLWmxPURF/Ek90ohAb4fDOk/yD5xXpEJMAEmwASYQGYIsPMiM1xZKhNgAkyACTABJpAHBBr92p8k8ClSRRECU2tLLAdGIY727ig6u6Mx0wTkJ5pCxt8K0Va2iQkwASbABIqPQGF+exffPrLFTIAJMAEmwASYQByBxnrPlVLKm+yXJ1d7UVqS/+1Qx7ORO9r70Re226iKt/tLo0c89RS6xiOTj2UCTIAJMAEmkA8E2HmRD7vAOjABJsAEmAATYAJpJdB4lO8gqRovA1BJcGWZB9UVnrSukY/CDFPivZ1h0P/TEJC/bQoZl+SjrqwTE2ACTIAJMIFUCLDzIhVaPJcJMAEmwASYABNwBYFAvbYSEp8mZakl6rTaElfonQ4le8M6drZHYqKEgvlNz+v/TIdslsEEmAATYAJMIFcE2HmRK/K8LhNgAkyACTABJpARAg116hlCiL/awqfUlKDEq2RkrXwVuqsjgp4+3Vbv6WBIPyFfdWW9mAATYAJMgAkkQ4CdF8lQ4jlMgAkwASbABJiAawg0+LV1AjiOFK4o1TCxyusa3dOlqG5IvLuzD3IgewSQ8oJgq3F3uuSzHCbABJgAE2AC2SbAzotsE+f1mAATYAJMgAkwgYwRCNSrCyHF/bQA/ciZMbkUqlqcP3c6uqOgv8GxMRjSZ2UMPAtmAkyACTABJpBhAsX5bZ5hqCyeCTABJsAEmAATyA2BgF97DMDJtHqxFOkcjrRpSmzZEYa0wy+E/EywxViZm53hVZkAE2ACTIAJjI8AOy/Gx4+PZgJMgAkwASbABPKEwLx67URT4glbnX2mlEJVivunTnt3FJ129IXAP4Mt+vw82S5WgwkwASbABJhASgSK+xs9JVQ8mQkwASbgPgILD4O33ev7gCGM6UKRNZAok1A8QpgSEmFAdBhS7IQW3bz2ObznPgtZYyawh0CgTr0dQvwPvVJeqqKmylf0eAzTxJbt4RgHU1GOWPt85KWiB8MAmAATYAJMwHUE2Hnhui1jhZkAE2ACiQnMnQtNdGgfBXA8gHoh5OGA+FAKvLoh8DKk3AihPGtCPLm2JfJqCsfzVCaQMwILF0Ld9abWAaCMlJhaWwKfp7g6jAwHn9qmUvvUwbE0GNK/nbON4oWZABNgAkyACYyRADsvxgiOD2MCTIAJ5AOBxmNQa+qeTwnITwD4OABPevWSbwghVkuJvwZDejC9slkaE0gfgcY69dNSCKueg0cTmD6pNH3CXS6pL2xgR3u/bcUrwZB+mMtNYvWZABNgAkygCAmw86IIN51NZgJMwP0E3m8F+XEBsRiQ54xmjaYKK+9/oOOCgCIoY0RYLRSpkJ9hSui6hBnrqTicRPmGFOIuzdTv+Gcrto62Lr/PBLJJIOBX74R1TQCV5R5Ul6fZj5dNYzKw1uZtfbFrXBHKkY+2RF7MwDIskgkwASbABJhAxgiw8yJjaFkwE2ACTCD9BBrq1XOFFFcAODaRdK8m4POq8HoUeD0qNE1Y7SKTGdSZIKKbiEQl+iMG+iPmsA4NCfkbKdSbOK0kGbI8JxsEAn5tM4B9aC1OGdmb+K72CHoGU0ckxFeaQ9Ebs7EvvAYTYAJMgAkwgXQRSPY3bbrWYzlMgAkwASYwBgINdeoZAmIJBI6JP5zy+ieUaCgtUUFRFukc4X4Dvf0GKOycIjT2HvKXmm78cM0L2J7OdVkWE0iFQGOd9zApzH/RMYoisO8UThmJ59fdp6OtI2K//GAwpJ+dCmOeywSYABNgAkwg1wTS+ys319bw+kyACTCBAiMwd1bJ/kIxfiIgFzlNE4K6KWgoK9WsKItsDHpq291LERlG/HJdkGJJsDV6Szb04DWYQDyBhjrP54WQd9Dr5MSbXM1dRuIZUWrY1p199svvBUP6dD6TmAATYAJMgAm4iQA7L9y0W6wrE2ACRUWg0e+5REJSaPeex8gCqCrzoKJMg0IejByMvn4DXb06KCrDOSTwd8VQr2za2P/vHKjFSxYxgUC9+gtIcTkhqKrwWNcIj70JbNreBzkYQaUI/QOPtuAd5sQEmAATYAJMwC0EcvPL1y10WE8mwASYQA4IHHYYvNN9ntulkBc4ly+foFlFCCksPh8GpZK0d0cR1U2nOr2Q8kvBVuPufNCRdSgOAgG/1gQgQNZOnuhDqU8tDsNTtHJ7WxjhyMD1KoBTm0L631MUwdOZABNgAkyACeSMQH78As6Z+bwwE2ACTCC/CDQc5f2IUM27APhtzSgthJwWJXl6Q0YOjM7u6BCQQuLHTa36t/KLLmtTqAQCfs/bgNyP7Js+uRSeNNd+KRRuVPOCal8MOC/El5tC0V8Vim1sBxNgAkyACRQ+AXZeFP4es4VMgAm4hEBjnTZPKlgBiRpbZUoPmVjhzXsL6Gnu7s5+RHVnUU9xTzAUPT/vlWcF3U5ABPxaLPxn5rQJSXfYcbvhqerf2RNFe9eAo1ECP2sO6f+bqgyezwSYABNgAkwgVwTYeZEr8rwuE2ACTMBBoLFePUtK8YATSk2VD+Wl7gl/l1JiV0cUvYPtGAdteTgY0s8cuFfiwQTST6DxWEyVUe09kjyeTiNfW/oQDpv10YQKvrzhMVy35Iz0Kx8nkXSYPvNA3H79JXhl4+NpX6+7z0BbR/+gXLksGDIuSvsiLJAJMAEmwASYQIYIsPMiQ2BZLBNgAkwgWQINs9QzhSIetOerikBttQ8l3ux0EUlWz2Tn7e6KoKtnIDTdGhKrg636ackez/OYQCoEGmb7Dham8SodQ+kilDYyljGc4+Ds85ZgwcKr8HTwPtx5s1UTNGMj084LKra7Y/eA80JK/LW5VT8rY8awYCbABJgAE2ACaSbAzos0A2VxTIAJMIFUCDTWaw2QeFQClqfCowlMqi6x/t/NwxmePnCnJFYGW6OfcbNNrHt+Epg321NnmjI0cP0omD6pZEyKjuQ4WPrr9ZbMJZceOybZyR6UaedFOGJge5sdeYE1wZD+8WR143lMgAkwASbABHJNwN2/jnNNj9dnAkyACYyDwMdm+Q40VOMJSEwlMZoqMGViCTSXOy5sJJ09Otq7InsICXlLsMW4YhzI+FAmsBeBuXWe2YqQz9EbVNx2Wm1mnReJHBn2a/fc9jVcfM1vMLF2xl56Pr6G6vACJ88f0kTIem33rq1Wqsjpn/nqXmkjJHvGfodY83Q9gtUrb8ID9ywd05kQ57xoCob0eWMSxAcxASbABJgAE8gBAXZe5AA6L8kEmAATIAIBv/Y0gDn0b0oVmVLjs54cF9LYqxOJFFcEW6O3FJKNbEtuCXxslmeWochW0iITkRcXXXmL5XAg5wOljYzkvEgUmUHzS8sqE9axiE9JcUZekD3kCOnr6YxFfJAuxwfOGbMDgyMvcnuu8upMgAkwASYwPgLsvBgfPz6aCTABJjAmAoF69deQ4kv2wVMm+vK2FeqYDHQcRAUCqVCgPUyBk9a26E+OVy4fzwSIQOMxvoOkbrxG/6aopRmTxl7zYriCnbbjgtZIxXlBzogDDq7H3bdeY9XMcA5yQpx/2fV467WWWDFQp/PikCNOQuC0L+De27815NjxpLD0hQ3saI+ljTwYDOln81nEBJgAE2ACTMAtBNh54ZadYj2ZABMoGAKNfvVzEuIe26CJVV5UlGoFY18iQ7a1hdEfiXWz3BgM6bMK2mA2LmsE5h+JKbqmbaMFKYJpnyljd14k0+kjWefFSFEShx518l5RFaS/03lx3NyFCVNMaN7Wd14dU/2Nnl4Duzpj3UbuDIaMz2dto3ghJsAEmAATYALjJMDOi3EC5MOZABNgAqkQ+Pgc1ET7tVcATKHjyiaoqK30pSLClXN1XeLdXX3U4cAaAriuKaR/3ZXGsNJ5RyDg1yi0x8q52m/qBOsES3UkWywzGefFaB1KhkslcepA9S+Gi9pI1TZ7fkd3FPRnDYmfBFv1b45VFh/HBJgAE2ACTCDbBMbw9Z5tFXk9JsAEmEDhEGjwq7cJiEvIIirQOX1SKUSRfBJ39+po69xTwFMKcVxzS3SgjQMPJjAOAgG/+h9A7E8iZkwuta6tVMdYnRfxURSJ0kGcuoyUShIfeTGe+haJ7KeoC4q+sIYQlwVbor9OlRPPZwJMgAkwASaQKwKpf7vnSlNelwkwASbgcgJz67UTFYknbDMmVXsxoaSw00Xit2zH7n709Q/cPEng780h/VSXbyurnwcEAvXaGkh8jFSZXO1DaYmaslbJOi9o3kGHz4kVzbQLelIqh91thBan7iGvbHx8iB7xxT/jlUxUsNMpazTHyGhGb9sVRn90IH1LKJjf9Lz+z9GO4feZABNgAkyACeQLAXZe5MtOsB5MgAkUPIFAvbYKEgvIUHJakPOi2EZUN/HuzrDDbPnJYMh4oNg4sL3pJRDwaze933H0SpJaVe6x/lIdyTovSK6zfSk5LezxxqvPDlun4u03NqJy4uSEbVTDfd1WUc8TGs8d0irVjupwtl59ecNjsQKfqdq4aRulbg3mbhn6vsGN2JKqDJ7PBJgAE2ACTCBXBNh5kSvyvC4TYAJFRaBxtvYxaWKNbfS0SaXwasX5Eby7K4KuHn0AhcBTwRb9xKI6GdjYtBNomK1eIEyxnASX+lRMnlj4dWRShRilujM7++zDtgRD+r6pyuD5TIAJMAEmwARySaA4fznnkjivzQSYQFESCPi1vwI4g4wvn6ChprL4oi7sjTdMiS07+qy8ERpSkac1P2+sLsoTg41OC4GG2b6DhWlYIRBCEZg5xo4jaVEmT4V09enY3TFQc0YCf24O6Z/OU1VZLSbABJgAE2ACCQmw84JPDCbABJhAhgk0+r1HSpgb7WVmTCqFVqRRFzaDIdEXwEPBkH5mhreBxRc4gYDf819AfoDMnFpbAp/Haj7CY5DAzvYIesODEU9SXBFsjd7CcJgAE2ACTIAJuIkAOy/ctFusKxNgAq4k0FCvXS8kvkLKF2uti/iNixoS71L0hT2E+uFgS/+brtxgVjovCAT86m8BcTEpU1XmQVVF6nUv8sKQDChBQU6b3+u1g52gQDns0VCEWjbzYAJMgAkwASbgGgLsvHDNVrGiTIAJuJVAo1/bKoHppP+UiT6U+FLvhOBW20fS29l5BBLfCbbq1xainWxTdgg0zFbPFKZ4kFbzaANtiHkMEOgJ69jVHmtT/EIwpB/FbJgAE2ACTIAJuI0AOy/ctmOsLxNgAq4i0OjXTpHAI6S0piqYMbnEVfpnUtmePh277Bx8gQ3NLXpdJtdj2YVPIODX2gBMJEun1vjg87KjkFgMcRQC3w+G9B8U/tnAFjIBJsAEmEChEWDnRaHtKNvDBJhAXhEI+NVbAPFlUqqyTEN1RfEW6txrYyTwzvZeR+FO9ZDm5/tfy6sNZGVcRaDRr/5KQlxGSpeVaqit4utNNyS2OlK0hKYe3PRs/79dtbGsLBNgAkyACTABq0kdDybABJgAE8gYgUC99hokDqIFptT4UDLMk+Czz1uCBQuvwr9fWofrllhNSYaMQ486GRdf8xvrtduvvwSvbHw8aZ2PD5yD8y+7Hs8+8RfcefPlox5Husw/6zKsefBWPHDP0r3mpypvpAWHPhEWlwdD0V+OqiBPYALDEAjM9hwDU66336ZIJ4p4KubR3hVB52BrYgGsagrppxczD7adCTABJsAE3EuAnRfu3TvWnAkwgTwnMP/Ikg/qmv4WqSmEwMypI+fgL/31epSWVSZ0TtjOjaeD9yXlgBgPmmw6L7p7dbR1DubiS/wp2KovHI/ufCwTaPBr/xTAPCJR7NFO1JaYoi6k3ZbYlGc1bzCobTOPNBP4+BzURPu0Q4QiPwiIfSQwWUBWmlLxKQqENM0IhOiGxC4B8a4J+V9D0//9+HPYlGZVWBwTYAJMoGAJsPOiYLeWDWMCTCDXBAJ16mchxB9Jj1KfiskTfSOqdNGVt+Dk+Rfg8TV37eWg+NrSh3DAwfW4+9ZrQA6MTI5sOi+iusS7Owe7jghsDrboMzNpG8sufAINdeoZQojYDfo+k0uhqsX5c8cZdQGJZ4Ot+rGFfwZkx8KGo70fEboMQOBEwDwGEPuPceWdEngeEk+rCpofbdGfHKMcPowJMAEmUPAEivPbvOC3lQ1kAkwgHwg0+rWfSeBrpEtVucf6G2nYqSF9PZ1Ycumeeww7TeOt11qslBLbyeGU9fKGx6z3aO5nL/4R3tvyBj586LEI93XjmbUrcdzchUPSRijKY8Z+h8RE6HoEq1feZKWJ2M6Lzf/9lyWDhvP9RGkjdmSIpg3UGNj6zqtDbBjJ7k3b6Mnw4KNhQ983uBFb8mH/WAf3Emio05qFwFyyoLxURU3VyI5D91o6vOZDHIOg0jJyUXPIuL8Qbc2WTYF6jx+QCyFxFoA9H6DpVWCHlPIhCLGyOaT/I72iWRoTYAJMwN0E2Hnh7v1j7ZkAE8hjAgG/thrAqaTi5GovSku0UbVNFGFBzgpyGJBzgUZ8PQo65qDD51jvb9v6plXfoq+3M5Z+Eu9soPnTZx4Yez++nsYhR5xk1d/o6tgZm+PUi3Rw1tBw6kfOj+GcMMMZv21XGP1Rc+BtgY8HW/Q1o4LiCUxgBAKBem0+JGI3fhT1RNFPxTR2tEfQF9Ztk4PBkN5YTPan09aA37NYQH5BgqIsEg8hqEWvYtVY0VRAURQoglIGB+ZLCJimhDQldPrTTUQNab02/JBvSCF+7w3rv/nHv0CddHgwASbABIqaADsvinr72XgmwAQySSDgV18HxIdpjemTSuHRRv/IjY+yoGMpSoKGMxrDqbczzcN2XthRGjQvmQKbTocGOS/iHSS2Q+LdTa/jqaY/DnFekH7tbduGFBodLfXEqX9bRz+6+4yBH/hC/L/mluitmdwXll0cBAJ+z92API+spWuPrsFiGT19BnZ19MfMFcDJTSH9iWKxP112NtR5roBiXiWk+GC8TEUIlPhU+LwKfB4FXs/YCsNSN5hI1EC430Q4YkI3Bh25QxeMCOBmr9Sve6QVO9JlH8thAkyACbiNwOi/pN1mEevLBJgAE8gTAgG/RncPVh4FFeukop3JDGfhzom1MxJ2CrEdEiWl5ZZIO63Ddl44O4sM57yITz/ZvWurFWlBzovAaV/Avbd/a0h9DduJsmrljTGdKCWFuqCQnvHDmWoykt2d3VG0d0cHpgj8NNiifyMZTjyHCYxEYP7RmKkb2ivUNZXmVUzQMLGy8Fun0s3wuzvDe1KxgJuDIf0qPluSJzDXr35OgfgOgIPjj6IWvBN8KkpLMhPJE4mY6O3X0RM2YBh7RWX0CeDappD+o+St4ZlMgAkwgcIhkNwv6cKxly1hAkyACWSFQOMxqJW6tpMWUxSBfack/9TXGbVANSecKR7O2hJ2nYtEkRcjOS8oyuKwWR8dUsciPvIiWefFay8+ZTkynJEeqQKmqAuKvqAhpVje3BpdnKoMns8EEhFo8Hu+KCAHegwDqK3ygm4+C3ls392PcP9AJBOAV81K/Yi1axHLHylk28drW8Ns38HCNH4GYEi/akoFKZ+gWueOSrkgWRo9fTqoI1MsrW7Pui9KU36jeYNBqYk8mAATYAJFQyB7n8BFg5QNZQJMgAkAc/2+DyswXicWmiowY3Lyzgs7RWPX9k2onTITlKpBxThpxNeroNecNSdGi7ywIyWcMkmGM9ojlbQRW158kdFUzoHesIGd7bEQ94eCIf3MVI7nuUxgJALO9BGaN7W2xArzL8SxuzOCrt49fgopMa+5VW8qRFvTbVNDvecyIeXN9JFtyybHc2WZx2q5m8vRG9bR1ZPQiXFjMKR/JZe68dpMgAkwgWwSYOdFNmnzWkyACRQNgUa/90gJcyMZTEXcpk8qScl2O6UjPvUivqCnHYlBwp0FO4eLvEjkbLAjMZxpI6kW7Ixv8ZpKa9dwxMD2tsHIC+DR5pD+sZRg8WQmMAKBOXNQWtqvUeGYI2iapglMqS6x/r+QRmdPFO1dg+lXVoFIfL05pF9XSDZmwpbvA8rjfvUOQAyJ+Koo01Bd7kk63S8TusXLJMcU7XGsO9PAhKcVKP/zaChCKVI8mAATYAIFTaCwvrkLeqvYOCbABNxEwGqpJ2UL6UyF3KbVpua8sOtUtO3YvFehTmebU3JuPB28D8ec9EkrdSO+mCatH1/zIr5eBjkt/v2vdag//hNDOpo4W6VSy9W7b73GWitRDY34+hnO+aPtGxWp294Wtqa9395ybVOL3jDaMfw+E0iFwOD1SAUrJ9BxHo+CKRN9WU0BSEXfVOfSTS1FXcSGlL8LthoXpyqn2OYPRsjdAyDWm5qicqorvFYhznwcVAdjd1cUFI3hGB2APD8YMh7OR51ZJybABJhAugiw8yJdJFkOE2ACTMBBoKHOc5QQcsNYnRfFBNMZeQGAWzoW0+Zn0daAX/0EIB6ylySn4uSJXqhKft6kJouGaiK0OR0XwN+CIf0TyR5frPMa67Q5UmAlgH1sBm4q6rqXw4qcv1L8T1Nr9I5i3VO2mwkwgcInwM6Lwt9jtpAJMIEcEGg8yneQVI3XaGkKT59RRG0aU8Xd129gx+5YzQu+8UoVIM9PmkCjXz1PQtxtH0DX5uRqn5Xa5cbR0R0F/TlGc21YP2Xly3CEYbjRsszq3FivNUgJcmQNtGsCUFPlRbnLirn2R0zs6ogMba8qxRXB1ugtmSXI0pkAE2ACuSHAzovccOdVmQATKHAC84/EFF3TtpGZVJ1+nxS6jRQ4mr3Mo4r69AOchoT4Q3Moel6xMWB7s0cgUKeeDyHuslekFsa1VR5MKMltUcZUCVCHHurU4xhNZUI/4+EW9KYqq5jmz63XTlQk/m630FVo/6u9KPVlpvVpptkahomd7ZGhHUmEuCzYEv11ptdm+UyACTCBbBNg50W2ifN6TIAJFA2BgF8zKZKXDJ45bcLAP3jsRaCzh4rQDTgvhMANTS36NYyJCWSSQINf/aSAWOHsLFFV7gH95fuIRE0rTYT+3zH+cnJIX/h9YMiL+W5LtvVrrPMeJhUzCImptDZ1E5k80ef67jOmlNi5OwJKwYsNKc8Nthr3Zpsxr8cEmAATyCQB/i2dSbosmwkwgaLEpNOUAAAgAElEQVQmEPB73gbkfgRh+qRSeMbR3cDuCGIDje9CkgxoasFad+wC/PG330hmetbm0I0Y5e0PDHF1MBS9KWuL80JFS2Cg5oG8GxAfsiFQkcaJFV6ryG4+Dqejz9ZPSvyiuVW/Mh/1zSed5h+JMsOjPSklZtmOCyramq97nSo7KYHtu8OgVJLYuaHgxObn9adSlcXzmQATYAL5SoCdF/m6M6wXE2ACricQ8GtNAAJkCD3dG2tYMnUXKS2rxO3XX4JXNj5ucbG7ezy+5i7cefPlo7Iix8XF1/wG7256HdctOWPU+dmcsH13P8L99hNDeQZXzM8m/eJea249JilSux3AWU4SlRSFUablTZtMuj46eqJDbkwtfaW4NNgava24dzE56wN+zwpAfsaePaXGhxKvO1NFhrPYMCV2tIUR0eXgFPlGJGoc8+SL2J0cJZ7FBJgAE8hvAuy8yO/9Ye2YABNwMYGAX70FEF8mE6oq6GYo9ZD0RG1JbSTk1KCx5NJYl79haeWz82LL9j7Qj24aJtQD14b633DxtrPqLiTQ4Ne+LoCfOlWnlAJKI6EOFLkalBpC0RZxbTEhgSeFEFcGW6KhXOnmpnUb/drXpWN/a6u8KHNZcc5keUd1iW27wqBUkoEh7g+GoouSPZ7nMQEmwATymQA7L/J5d1g3JsAEXE2gsc7zBSnk78gIKgY4qdqbsj228+Kt11pGjZiwHRQTa2dY64T7unH3rddg966tVtSF/Tr9tzOKw6lUIoeI8zVKX5k+80Do0QgmT9vfOnQkeaMZrBsSW3f0Df7GRluwRa8d7Rh+nwlkgsDcWZ5ZQpE/FsApTvnkxCAHRlmpCk3NTjoJdeDp7tPRFx5SkJPUklJgSXOL/uNMMChEmYHZnmNgygFPL4DKMg+qK1J3JLuJDTm7qIinPQTEl5tC0V+5yQbWlQkwASaQiAA7L/i8YAJMgAlkiMDc2d7DFdN8kcSrqsA+k0vHtJKz3oXtkHg6eN8QWYmcHHTcAQfXD3FgjJY2kozz4rBZH8XWd161Ij5sh0lfT2dSESDxAOgGrW2w0wiAR4IhfcGYIPFBTCBNBAa7kSwBcHC8SEr9mlCiWilg5NRI56AoC3JW9IR1kFMvfkgpliua+n9Nz4XfSue6hS4r4Nco1+4kstPnVTG1xlfoJlv2URFkitoZHGHT1A9duwH/LQrj2UgmwAQKlkB6v3kLFhMbxgSYABMYG4EGv7ZVANPp6Gm1JWMuDmc7J0pKy2OKOCMeqAbGEfXzhkRUOFNF/nb/z5OqeZGM88J2iNgOlLPPW4L5Z12GNQ/eigfuWZoSKGqRSq1SrSHwzWCL/pOUBPBkJpAhAg31nsuElFckcmJYN8IexboZpiKfXo+AqqQQlSGBiG5aHUOowGI4YsIwh2kUIsW9QuLGpg3R5zJkasGKbaz3XCGlvNk2cLyFk90G6t2dYUT1gfNKQPyhidtQu20LWV8mwATiCLDzgk8JJsAEmEAGCTTWe5ZLKS+gJdLZitGOxrAjIOK7kThNennDY0in84LSRpxpJyPV5RgNrbPehSrF0f9sjT4/2jH8PhPIJoG5fnWRgFgcn04Sr4MihBVhpanCisoQAqDgDCo9QHEU5JugOgS6biaMrIiTtx3AXaZQ7ljbEnk1m/YWylqnHovKfl37DyRqyCZKFaGUkWIaVOiVCiLbQyiY3/S8/s9iYsC2MgEmUFgE2HlRWPvJ1jABJpBnBOjGR4GwcjyoJR9FX6RrONNCTlt49V4dSZzrxBfspGiJBQuvgqYN1OGwozjO+9J11n87i4AmqnmRDueF84e1lPI/za3GAeliw3KYQLoJBOp9H5LS+BSATwjgxHTLB7BDSrFaUcwHm1qMBzMgv6hENvq1pe8HuHyLjKY21RR1UYyjraMf3X2x2inBYEhvLEYObDMTYAKFQYCdF4Wxj2wFE2ACeUpg4WHw7irROgBYXotUU0ecDor4OheUKnLMSZ+0alqc0HhurL5F/DxaN9luI/FpI/E1LRLpM9a0kSEpIxLXB1v1r+bpNrJaTCBGYPGCyvMNU97V0xf9++5u/WUhUQ+JIyAGnvAnPST+DSE2CCGfNSGebG6JxopKJi2DJyYk8PGPoCbq07ZSdg9NqK32oqwkd11jcrlNQ4oiU8VXRZ7W/LyxOpc68dpMgAkwgbESYOfFWMnxcUyACTCBJAkE/OrvAXERTS+foKGmMvmuI3ZKRl9v57D1LK5bcgbseW07NseiJuzoCnJm3Hnz5UimtSo5Jw46fA5Wr7zJql9BDpKT518QK9AZn64y1oKd1BqVUkbsIUxxDOf0J3lC8bScEbjwtIozhBR/HVRg/bLVncfZysw/ElMMxfMBU5jThVBqBFAmAY8QkJAIQ5odJsQOqShbtvdF3nr5ZexpB5Eziwpz4UCd9m0I/JCsS3fEmxuJ7e6MoKs3VltodbBFP82NdrDOTIAJMAF2XvA5wASYABPIMIF5s7W5polmaxkBq+uImmKnAnI8zNjvkCGaPr7mLsspYY9ERT2dc2xHxHAdS2w5zrWopoY9KJUkUatUu+5GKhg7u6No747aSJ5sCulWNwAeTCBfCXz+tOoGU5r/oCyEQR3NZas71XzVt5j1Cvg9bwNyP2JQW+VFWWlxRl3Y50DUkHjXbkk90G93VnNrdGMxnyNsOxNgAu4kwM4Ld+4ba80EmIDLCAT82lMAjie101m4M9sYbOeFs+bFWHRwFup8v97Fhe/Xu7hrLHL4GCaQDQKLT6k8Ggoo4sLqHGQPTZiH/W5V9yvZ0IHXSI5Ag1/9pID4M82mDjD7TElfnaHkNMjPWTvbI+gND0RfSIEbmlv0a/JTU9aKCTABJjA8AXZe8NnBBJgAE8gCgYZ69VwhxR9oKepCMGMM0RdZUHPUJdLhvOjsiaK9ayDqAsDrwZB+0KgL8wQmkCMCiz9RcYg0lJUC8vB4FSTEouWrO+7PkWq8bAICAb9nBSA/Q29VlntQXV5cHUaGOyniOo9sCYb0ffkEYgJMgAm4jQA7L9y2Y6wvE2ACriUQ8GvUBrSeDEi19kW+GD1e54VpSmzdEbZaRlqOHIgvNYWiv8kX+1gPJuAk8D+n1uyrC/2PABKmNUng2uWrO7/D1PKDwNz9UaLUaF0ArDyRaZNK4dX4p669O1t2hGEYpvWfUmJec6velB87x1owASbABJIjwJ/oyXHiWUyACTCBcROYV6d+yhTiT7agaTUl8HqVcct1k4C2zgi6BwvHCYENTS16nZv0Z12Lh8Dis6qrETX/AIkFw1stHly2uuPs4qGS35YG/OrZgPgLacmFOvfeq91dEXT1DKSOCIEbmjh1JL9PaNaOCTCBvQiw84JPCibABJhAFgkE/BrlzZ9BS/q8CqbWFE8+dl+/gR27+2O0hZBnN7UYD2YRPy/FBJIisHAh1PKeyhsk8HEAB49w0H+92zoP+m0LYnlQSS3AkzJCoMGv/kpAXEbCOWVkb8RxqSMvBEP6URnZCBbKBJgAE8gQAXZeZAgsi2UCTIAJJCIwd7b3cMU0X7Tfc3PxzlR2mNJE3tsZhm4MpItIiD80h6LnpSKD5zKBXBC46NTyyVJRFsKUCyHE3HgdhCHq7/xHRygXuvGaQwkE/NoLAI6gV6fU+FDi5WYwTkL06btpWy99AFtDRPRpTS9hG59HTIAJMAG3EGDnhVt2ivVkAkygYAg0+rWvS+CntkGTJ/pQ6ivsH9m72iPoGax0D2CnqepHrH0O7xXMprIhBU/gwgWVVwvghmWrO8XnT6s4w4RyppDyDFPimuWPdHK3nByfAfPqUWVKrd1WY7+pE6zW1DyGEtjWFkZ/ZKDuBSDPCIaMh5kRE2ACTMAtBPhj3S07xXoyASZQUAQCfo1+MJ5ORqmKsNJHtAItLNfRHQX92UNI+dmmVuO+gtpQNqbgCSw+taIZQhy9bHVnudPYz59W3fD7Ve3NBQ8gzw1sqNM+KgTWkppc72L4zWrviqBzsO6FlPhuc6v+wzzfWlaPCTABJrDnNySzYAJMgAkwgewTCByFfaBq6wHsQ6v7PAom1/igUB/VAhrdfQbaOvbUuXi/0crPgyH9awVkIptSJAQWL6iUEuJ3y1d3XFwkJrvKzECd50sQ8tekdFmpitoqn6v0z5ayQz6Thbg32BI9N1tr8zpMgAkwgfESKKxfyeOlwcczASbABLJIoLFOmycF/mkvWeJTMWVi4fzg7u3XsXN3xEn0oWBIPzOLiHkpJpAWAhecXnmMYmK9NMW85X/v4PaSaaGaXiEBv3YdgK+S1KoKD6rKPOldoECk9UdNbNsVtq15LhjSjykQ09gMJsAEioAAOy+KYJPZRCbABPKXQMDvuQiQv7c1pNoXkyb6XJ+q3RvWsbN9iOPiOTOsB9a+jO783Q3WjAkkJnDRqZXXSoElVO+CGeUngQa/5z4BuYi0q632oqxEy09Fc6yVbprYun3AeSGAd5tC+owcq8TLMwEmwASSJsBfwkmj4olMwF0E5tZjktC9UxXVrDGBCQqkR0oYQhFhIUS7HonuWPsCNrvLqsLUNuD3XAXIG23rKIVkUrUPqurOj+juPh1tHUMcF68oQj/l0Ra8U5g7mHur5h+JKVHhnawoZqVQ4aP8BgFEdUN0a2q0bTfwbgu38xzzRl24oOpFQJYtX915wJiF8IEZJRDwa0EADbTIt6/9HRpOvTDhert3bcXt11+CVzY+nrQ+Z5+3BAsWXgVN82LHe2+joqoWax68FQ/cszRpGWOZ+LWlD2H6zANT1nektayOI+/12lOMYEhnL89YNoePYQJMICcE3PnLOCeoeFEmkL8EArM9xwiJOQD8UsrDARwIoCIJjU0IvAGJlwFsgJTPmv3GE/x0PAlyaZ7SWKd9RQpcb4vVVIHaap9VC8NNI744J4CXIdQzgi39b7rJjnzV9dRjURnuV08UijgawFEADgVAN9Te0XQWEJsk5L8BvCggn4fqWdf0XPit0Y7j9wGqdwEhf7RsVdcS5pGfBAJ+rYW+A0m77yy9A8d99JO4+9Zr8HRwT23gQ486GRdf8xvLgFQcGEt/TeWJgCWXHgtyZMw/6zLXOi/Ijs3b+kDtq2n0l+qVTz2FrvzcVdaKCTABJjCUADsv+IxgAi4kMGcOSif0q580oXxCQM4HMDGdZkiJtULBKlOqD64N9b+RTtksa3gCzoJz9qyaSi/KJ+T/gzHDlFa0RV+/ETNQAs8IQ/90cCO28L6PnUBjnfcwUzHPFBKnAjhp7JISHvna+47PfwB4uKlVfzTNsgtC3OJTKhdAwSpVmEfcsar7pYIwqgCNCPg1csKTM29Y5wW9l6rzwXZ4vLvpdVy35IyUjx8P6kxEXljOi+19MM0B54Wm61PXvIDt49GTj2UCTIAJZIsAOy+yRZrXYQJpIDDQCk4uBgRVBx/xSSt1rVBUQBMCQhm41OmnCj1skZQ/YkjQDWcSo0lKeVdzq3FXEnN5yjgJNNarZ0kp7n6/K0esHSPlbldVaNDU/IzC6AnraO+KWudUbAj8ydehn/fIGxjSamSceIrm8Pp6eKql5/NSyvMhcMJohlO7XUWBda0P/G/gOqcdoet8yN4MK0y8LSH/IKHeyU7LPZAWL6i4DRCXcL2L0c7C3L4f8GuvAjiYtPju0jtwbILIC3rvoitvwfGBc7B65U2xtA967eT5F8QMeHnDY5ajguadf9n1KCkd+DgO93Xj5Y2P4bCjPjok8oIiM2bsd4g1R9cjMdn28X29nbFIDzsF5d8vrbPWiF976zuvWhEeNGznhR6NYPK0/a3XxpL2Er8zW7b3xb7/TVWfvvY5vJfb3ePVmQATYALJEWDnRXKceBYTyCmBQL26EFJcPtxTV0ox8HlVq7e9V1OgaQJ0MzPaIEdGVDetv0h04I8qkQ8ztkDgl2aFftPatYiVKh9tDX4/dQJzZ3sPF6Z5uwCOs48mZxRV0K/IoyiMqCHR0RUFFeccMgSuDbbo30ndcj6CatUoUrsKwGXDRVTRde7zDlzr9G+qjZJMi13aLz06cL2H6VqPmJaDI+EQ4l5F4hePhqLPFPuuLF5QuRXAO8tWd8aux2Jnko/2B+q1lyDxEdJttLSRvp7OIQ6CAw6uj6WY2A6Ht15rsZwLI0VevPriE1YailNevHPE6az42/0/HzI/PgrEXvvZJ/6CO2++3HJeHDbro7CdKbYuzvXGshdDnBdCn7y2BTvHIoePYQJMgAlkm8DodzfZ1ojXYwJMIEagoV49TUjxLQDHx2Ohm5YJJSqoO4VHS98TeXpK29dvoq9fR194TwqAY/0dUuInza36DbxVmSUQ8GvE+GrnKrTvlRM0TCjNXSoJnSOd3VF09cY5LSD/C+CKYMh4OLNkCk/6woVQd72pkcPnfwGUxFs4oURDqU+xrnclCcdksoTC/YaV6tPbbySOzhDiXqmLpc0bI/9KVmYhzfvivIlVEa/RDuCqZas7by4k2wrNlkCdth4CVttPcl7MPWVPJIXTVmdkg+0MeLHlUctZYA9yQBxz0kDNDIp0IAdForQRmh847Qu49/ZvDamt4ayRQXPICUEOEorAKJ1QGXOUJIoCcepqH+es3ZGOVBIq2Gm7Lft8+oR169BXaOcD28MEmEBhEmDnRWHuK1vlcgKBOnwAiufHkPKz8aZQ/YOyUi0rhRwp1Lw7rIO6Rxj6Xk9oN0ohlzS3GKtcjjuv1Q/UqadCiJ8AONKpKDmsKso0lGfRiUFP7Lt79QROC2q5J29VdePra15AT14DzUPlGv3q5ySUawE5EBc+ODyaQHmpB2Wl6XVYDIeAnJV0rTvrlthzhcSPm1p1cqQW1Vi8oPL89wui3mXo5tS713RzXYA83v0Gv/aIAE4hFanbyJy5n4o5CYYr1BmfFuI0j1JERnNeVNdOG5Ju4jw+kZNkYu0MPL7mrpijxNaLXqfhPIb+O5GjYrzOC4q22rQt5qvoC4b0CXm8rawaE2ACTGAIAXZe8AnBBPKMQKPfcwkgb5DAnh8UAqgsG0gZSCYdJBMmdfcZ6OqJIBrnxJCQt076kHHFypVIGKaRCV2KUWagTvtfCHzbWQuDOFC6QBlF4JSqKPGqaUdDDizryXzYQDiScIuDUuL/mlv1x9K+eIELpPamuua5GZDnOE3NdXQNpY919eigWiZxvxj+JQxc3bRB/2eBb03MvMULKv4EiE9xvYv83/GAX70TEItJ0yU//B2Ob9jjvKDXRqo/QR1JnJEXTmtHShv58KHHWhEV8V1N4mk5nSR2Ckj8HGftC9uJkQnnha5LbN054LyQUv7n/XpW3P43/09v1pAJMIFBAuy84FOBCeQJgblzUaJ0en4LSHrSFxv0ZL2SijVSNb48GJ09upUyYLdZG1TpRSFxSVOrvi4PVCxYFT7+EdToPu0aCVwJoCzeUEonKPWqA/UQqP7JGNqsUgV6qnti/UUMqy5CwiHxlIS8sbnV+HPBAs+gYQ116hkQ4jYBTLeXoYKsVWUelE1IvxNqLKbQOUA1TRI4rb4fDOk/GItMtx2zeEFlREg8cucjnWe6Tfdi07ehTvuBEPgu2f3N/7sdJwY+vZdTwXYQxBfktOtbJGI2kvOCIi/ii38mkkFpJDWT98WrLzyBw+sbhxQLjZ/vTFk5ofFcTJ954JC2ruONvCBn9I7dA3WUqbPY+47nhmI7V9heJsAE3EuAnRfu3TvWvIAINNR5jhJCLgdwlG0W3XhWV3gy8jR9vOjoaXx7dxQ9fUOfzAop/qepNXrHeOXz8SMTmHsYylWfdolUcJFdoC7REULA6lBCBV2too7UkYK6z1itKAAT0mqXR3+GQcVbqQPNsAVbB5cQ90PIO4It+hrep7ERaKjXvikkfuQ8mlKAqsu9A3uTZ4NShaibjNNhKYE/lwv9godb0Jtn6qZNnc+fVnWAKeWbEjh3+erOe9MmmAVlhECjXz1PwurUhG/84Hac1Li384Lesx0JdrQEOQMOOnzOEIcCzSktq7ScBjSGq3lhF+ykOTT3lY2PxyI8bIdIfF0Lp+zj5i7cy/nhrJeRicgLqlW0uzMyuAfy9mDI+GJGNoSFMgEmwAQyQCAPfyZlwEoWyQTymMBgTYP7AFTaalJdi5rKETuh5oVFlEqyu7Pfar/qGEXzVDYfNmHuLG2uoshPAcoZgNwvEzrR0zlFEQ9GEL3/iRa8m4k1ikVmoE69FUJcattLTqWaCi9KS/Ij2mK4fdANE22dUVCBT8dogVAXBVv63yzE/btwQeXV72fs3dBT1qlxWlz+7/DHZnlmGYpsJU2/9r3fYu7HFiZM57C7f3R17Iw5HOyuHraVznakI0VePHDP0lg3ErtuBcmwIzvi26LSe3YKSduOzVbHk5HWTsZ5ET8nXl9a09nV5I5ffRf03U1DCnFlc0v0F/m/u6whE2ACTGCAADsv+ExgAjkk0OBXPyMgVjhVqK3yWgU53TLoaX1bR398i9UbgyH9K26xoVD0DNR7/NKUc4WCOZByNiCGFIBM0s4IJDZAyGdN4EkIo4nb6CVJbpRpAb/nXmd9ixKfCrrec1XHZixWdXRHQX97hvyvlMpZza3RjWORl8/HLD61ohlCHL1sdWd5PuvJuu0hEPBr1MbbR6/sM6XUVddWtvbx3Z19sdpVisBJj7boT2ZrbV6HCTABJjBeAuy8GC9BPp4JjJFAvOOCalrUTvRmpYvIGFUe9jCKvNjVEUHv0AJ/NwdD+lXpXovlJU9g7ixUq/AcKFVzf5jKNAhZM1jw02MljkiEoaBDmGKH54BZ/eXn37Bcnbr/YyvmzAwkvwrPTIZAoE5bCYFP23Op+O5EF0RXJbKtp8/Aro6BnPnBsVVAObUpFHkhGRZumbN4QaWUEL9bvrrjYrfoXOx6NtRpzUJgLnGorfairMQ9DwKysXeU8rllR6zTiGFW6iVr1yK+53U2VOE1mAATYAJjIsDOizFh44OYwPgIDKaKrLalUEvEydUl0DR3X5K7OvvR07snrFwAP2oK6UvGR4uPzgaBRes3XwJT3kZrSchL75+zn/VvHuMn0FjvWS6lvMCWVFXuAf25eVDRv527+6l0yuCQb5mmp3HthvB/3WyXrfsFp1ceo5hYL00xb/nfO5oKwaZisCHg1773vp3fJ1vLS1XUVFlBGDwGCVCdKnrQMDiagiF9HsNhAkyACbiJgLvvlNxEmnVlAoMEBotzPgGggl4ix8WUiT6oan50ExnvRrV1RNDtLOQpxRXB1ugt45XLx2eWwKJnNj3wfrrIWfYqpqEcsvLEfV7L7KqFLz3g164D8FXb0kJwXNi2UBeS7W1DIjDWvxfWT375ZcTujty6wxedWnmtFFjCLVLdtYOBWdrxUPAUaU3pWJQ6wmMPgZ27I+jtHwi0EMD/NoX0nzEfJsAEmICbCLDzwk27xbq6nsBAO1RtPYAjyRhKFZlS43N9xEX8xuxqj6DHmUIi5YJgq/GI6zewQA34/JM7KnrU8HYAJTETBV5bcdzMQwrU5KyY1ej3XCIxEM1Co5I6ilTkfyHeVOD0hQ3saHc6MMR9wVD0s6nIyMe5Fy6oehGQZctXdx6Qj/qxTsMTCPg9b9vFi+nBANWW4QGrq9RmShkZDJcSUvlIU2vkZWbDBJgAE3ATAXZeuGm3WFfXEwj4PXcD8jzbkKk1JfB5CyPiIn5ztreFEY7E2m5uERG9vuklbHP9JhagAYvWbfocgHv2Mk3guhXHzfx6AZqccZMa6j3HCimfsReiIrxUnLMQB3UuoKK9sSHwzWCL/hM320r1LiDkj5at6uK0N5dtZMCv3QDgalK7kK+7VLeFWh632S1SJZ4NturHpiqD5zMBJsAEck2AnRe53gFev2gIBOo8X4KQv7YNdltXkVQ3ilorbtvVD8McfMwj8adgq74wVTk8P/MEzln3zgoJ8ZlEKwlFnH7fsfuuyrwWhbVCo197TgKzySqfR8HU2j1BLYVl6YA17d1RdDq6kAjg5KaQTulxrhuLT6lcAAWrVGEecceq7pdcZ0CRK/yxOs9sQ8jnbAz7TC4FtSQu9rFtVzjWFUwIcVVTS/TmYmfC9jMBJuA+Avxp7r49Y41dSGDurJL9FUWn8EwrAdfNnQZSwZ8gpPyLwVD09lRk8NzME1i0blMHZTUMs1JXn1Gyz0MnTu7KvCaFsUKgTvsxBL5hWSOA6bUl8GiFGWHl3LHtu/sR7h8o2CuB55tD+tFu3NHFCypuA8QlXO/Cjbs3oHPArz0G4GT6dyHVmRnrjlCB3R27Y9FRumnqk9duQPtY5fFxTIAJMIFcEWDnRa7I87pFRSDg99wLyHPIaK9HwbQCfwrr3NzdnRF09Q52YpNoEx79oKZnsauoToA8NnbR+s2nw5QPj6SiBB64f87MT+axGXmjWuMsz9FSkc/aCtVUelE+oTjaNUZ1ifd29jk6kODbwZC+NG82J0lFFi+o3ArgnWWrO49L8hCelmcEGurVc4UUfyC1FCrcObkEQhTvT16nYxGQvwyGjMvzbMtYHSbABJhAUgSK95M8KTw8iQmMn0CjXz1dQsRuDidP9KG0yAqIvbuzD3RjMzD4h9P4z6r0SThn3abfSuDiOIk9AChc/kUIvCRM8yWP9L149wnTqKgnjxEIBPwatUA+labQdU7XezGNrh4du7tizUZMSP2AYCvedguDL86bWBXxGvRE+qplqzs5rN4tG5dAz4BfexHA4fRWZbkH1S5vTzzWrYiLuoBU1EOan+/nTlJjBcrHMQEmkFMC7LzIKX5evBgIBPza0wDmkK30BJaexKY6lv56PWbst6fxw+5dW3H79ZfglY2PW6LOPm8J5p91GdY8eCseuGcpDj3qZNQduwB//O1A5DodT2PJpbmpz9Ub1rGzfU/3REUoRz7aEqEfljxyTGDRus2/B2SrMOQGI1rSKnzh3wpFnLjiuJn75Vg11y0f8PDjiREAACAASURBVKtnA+IvtuIUYUWRVsU2trWF0T9YrFdA/rYpZFziFgaLF1SeD+AuwJi+bHXPe27Rm/Xcm0BjvXqhlGIZvUNBFzNqS6Fqxfez971dYUSig8Wzhbwt2GJcyucLE2ACTMCtBIrvU9ytO8V6u5JAo19dJCHus348AZiRYuEwckosWHgVtm99a4jjgZwRNZP3xd23XoOng5b42CDHxcXX/Abvbnod1y05I2+4DcmHl2J5c2t0cd4ox4rECJzzzOYfSim/vWLOTP5+SPG8CPi1pwAcT4dVlGmYWGBtUZPFQXUv6Hq3h5taMi5eUPEnQHyK610ku9v5Pc95TZaVaKitTv3hQX5bOLJ2nT062vdEQumaqh+w5jlscrNNrDsTYALFTYB/nBb3/rP1GSYQqNeehMQJtExVmQdVFZ6kV7SdEH09nXtFTCTzXr45L+hJLD2Rjd3QGOrBTRv7/500EJ6YFQKLntlyEaT5e1OiduXxM9uysmgBLBLwq58AxEO2KftMKYWqFO9XLBUHpHB1a7joae/iBZURIfHInY90nlkAp2XRm9BYp82TAv+0QUyq9mJCSXHWoBHAkqaQ/qOiPykYABNgAq4mULy/rFy9bay8GwgE/FoAQNPAj3dg38mlVuGwZEd8KshIx9lzQ+tW4dCjTsLE2hnWdDu95LwvXWf9t502Ykd0aNrAU6it77w6xEHytaUP4bBZH40t+fKGx2JRHBddeQuOOemTCaM+RrNtSNEwgeuDLfpXRzuG388ugc8+vemjpsBaKUTg/uP2bc7u6u5drcGv/U0Ap5EFlWUaqos06sLewbjoCyk0fXK+F+r9/GlVB5hSvimBc5ev7rzXvWcja+4k0OhXfyUhLqPX6Dt4Wq0Pmlr46VxDi3TiuWBIP4bPDCbABJiA2wkkfyfldktZfyaQZQKN9Z7lUsoLaNmKUg0Tq1ILV03FSeB0dLz64hN7pY04a16Q3OMD52D1ypti9TEozcSO8IhfNxUnymiIhxQOk2gLtuq1ox3D72eXwDnPbpkpDeNNSPn1Fcd/4Kbsru7O1Rpm+w4WpvGqrf30yaXwqPz1um1XGP2DufZC4KtNLfr1+bzDFy6ovFoAN/SUdfpWrsSeIj35rDTrNiqBuXNRonZqL0jgQJpc4lUxpaawC+m2d0fR2R2NsVEETnq0RX9yVFg8gQkwASaQ5wT411WebxCr504Ccw9DuVKiUcV6lSwYS+E+ciIcUT9vSGHO4Wik4rwgR0Z727Yh9TCcx3/40GNxwMH1Y4qsSGa3nJ1HhJSfbWo1hhbtSEYIz8kogXPWbX5FwnxmxZz9LsroQgUivKFO+4EQ+C6ZU1qiYnJ1Yd8YJbttPb0GdnXGal+EgiG9PtljczFv8akVzRDi6GWrO8tzsT6vmTkCgXptPiT+Ya9QyDVp4q47ivz8ZrBF/0nm6LJkJsAEmED2CLDzInuseaUiItBQp14ghFhOJlO3AXJepDoyEXlxz21fs6Iy7LQSp066HrGiMbZtfRPnX3Y9SkoHfr87U0ZStSHR/I6eKDq6Bp8ICfwp2KIvTIdclpE+AovWbVoFiGkr5uyb1zeb6bN4fJIC9dpLkPgISZk00YsJvuLIqR+NGjVH3rytF3KwS7KUYlZza3TjaMfl6v3FCyqlhPjd8tUd8a2Dc6USr5tGAo1+7esS+KktsrrCg8qy5OtQpVGVjInaqy0qxIrmUPScjC3IgpkAE2ACWSbAzossA+flioNAoM5zP4S0bsqptzz1mE91jJau4YzMOOSIk2KtUkdKG1m18kbLMfHWay1JdSJx1r5IlxMjqktQ9MXg6Dcr9fK1a6GnyofnZ47AonWbbgFw6Yo5M/kufBTMjX7vkRKmdUOuCIF9p5ZmbmNcKHlXRwQ9fYOXt8R3gq36tfloxgWnVx6jmFgvTTFv+d87BmoV8Sg4AgG/+ltAxJxTEyu9qJhQGB9z4YiBHW39GPQV0t495+vUT3rkDexp/VNwO8oGMQEmUGwE2HlRbDvO9maFQMCvdVDdPlps+qRSeMbYW95Zq8KpeHy3kWTTRuzIi0QdTEYCQ06M6TMPTCqFJRnAztQRSLkg2Go8ksxxPCc7BM5Z987VEuIGbpc6Ou/Geu0aKfFzmkldDKibAY89BHrCOna1x8pHPBEM6SfnI5+LTq28Vgos4Rap+bg76dUp4Nf+CiDWR7wQHBhUIHdHe38sygkQ/xWq2tj0XPit9NJjaUyACTCB3BJg50Vu+fPqBUigsU6bIwWeJtM0VWDG5LE/ibW7gmzf+taQbiDk1KiZvG+sLkV8lEa80yO+YOfJ8y/A42vuwp03X27tADkn7DoXJzSeO6Tmhe0oSWfrVeo7T/3nrSHw02CL/o0CPBVca9Kip945E4p4EKY8YsUJ+73kWkOyoHjArz0M4HRaqrbSh7IJVpkbHoMEDFNiy/ZYpBXKhF72cAt68w3QhQuqXgRk2fLVnQfkm26sT3oJLFwIdeeb2t8FMM+WTOkjlEbixkGRTRTh5BjvKYpY8Ojz0VY32sM6MwEmwARGIsDOCz4/mECaCTTUaV8RAlZV/bJSFbVV4yveZzsPnHUq7Baor2x83NI+3nlBKSXkoAj3dVsOjtMWXm3Ns1ul2u/bptvzng4O1M4kZ8eM/Q6JkXG2Uk2lFsdwaOPych8PhvQ9fVnTvB8sLnUCi55773Do0RcBnLdizsw/pC6heI4I1Gm7IFBDFo8nyqqQib27M4yoblomSol5za163qVlUL0LCPmjZau6lhTyXrBtAwQWHgbvzhLtrwI4xWZSVqKhptpLnc1dM6ijCHUWsYeA2CQFzgq2REOuMYIVZQJMgAmkQMBNn9EpmMVTmUDuCDT4PfcIyM+RBjWVXpQXSD5tOonGPY3tCYZ0ru6fTsDjlPXF57dO6IhSu1Tz7hXHf+Dr4xRXsId/bJbvQEMx/k0GqorAPlPGHmVVsJAAtHVG0N07EGklga83h/Tr8snexadULoCCVYBx5LLVPeS041EkBAJ+z72AjBW09GoCEyt98HmVvCZgGBJtXRH0hQ2nnhuloi5qfr7/tbxWnpVjAkyACYyDADsvxgGPD2UCiQgE/NoGAEfRe9NqSuDN8x9BudrFLTv6QD/ArBs/Uz3onxv6X8+VLrzu3gQWrdv0FAS6Vhw3M/ZkkjkNJRDwq2cD4i/0aqlPxeSJ44uyKlS+5LggBwYNIcRdTS3RC/PJ1sULKm4DxCVc7yKfdiV7ujT4tZ8KYIiTtqrMg6o8TSOhNJHdXVGY5p7SnELgr15Nv+CR9ejMHjleiQkwASaQfQLsvMg+c16xwAkE/Brlc1uPYPedUgpF4css0ZZvb+sHVUenIU15WvMGY3WBnxquMu+cdZvulsC8FXNmTneV4llU1tl6kToWUOE/HnsTCEdMbG8LD1zrwDPNIX1OPnFavKByK4B3lq3uPC6f9GJdskdgsL35bfZ3N61MURjUKYwK8ebDiERNdHRHQWmXcWNpMKR/Ox90ZB2YABNgApkmwHdVmSbM8ouKQOOxmCqj2ntkNDktyHnBIzGBto5+dPcN/giT4tJga5R+OPLIEwKLnn77BxDKd7njyPAb0uhXfyUhLqMZnCI2PCfDMLFlx4DzQgDvNoX0GXlymuOL8yZWRbxGO4Crlq3uvDlf9GI9sk+gYbbvYJjGTc46GKRFiVdFZZmGEl9uivFGdInunsie78s9aF6XQl7d3GKsyj4tXpEJMAEmkBsC7LzIDXdetUAJNNR5jhJCUtqI1R6VCvjRSFR000bg7PqRCyzHB87B+Zddj2ef+Eus+0g29KAiY1RsbHD8IBjSv5+NdXmN5AgsWr/5AphyuSKi0+497oBtyR1VXLMCfu3PAD5JVlOL1OGe0FI3n8Nm7alJG18gN13UzjrvW6DORHbh3XTJdcoZ6xrvvBdrMCKDIT1vCgosXlB5PoC7TCW6711/69uSCWYs010EAn7Pl4Wq/EwaxpCnDz6PgvIJHpSVqJYXLtOD2p929xro7R/szOVcUOD6DujfbGnBnmqdmVaI5TMBJsAE8oBAFj5+88BKVoEJZInAvNnaXNNEMy3n86qYWjOQAz9cu1G760cuHRi5cl448+Ah5C3BFuOKLG0TL5MEgc8+s/VEUxpPwJQfX3HCfmuSOKTopjTUac1CYC4ZTtc6XfPOYV9bfb2duP36S2B3ByJnxkGHz8HqlTfhgXuWpoVbOroAjabIeNbYvL0vlqPv8em1/1iHttHWy8b7ixdU/AkQn+J6F9mgnf9r3Ljuxv1Nj+d7ke6uxc//elnz7tffbIjXWgiBCaUKJvgGojHS+UO6P2KiL2Kgr09HdLAmVNz6D0iIpc2haEv+02QNmQATYALpJ5DOz9z0a8cSmYDLCDTUq6cJKf5GajsL+A3nvBju9WyanTPnRZ8BSh2hISB/3xQyvpBNu3mtkQmc8+Q7M6Qq3oTEd1ccPzOvukPky94F/NqzAI4mfabVlsDrGRpQQC2HS8sqhzgubN1Hem8s9o3HsZDseuNZY8v2MAxzoF2qpur7rXkOm5JdN5PzFi+ojAiJR+58pPPMTK7DsvOfwPXP/mIxFOV7gNyftJVCnve3i7+2XkC/Sgykh+31m5leIKcldSfxago8HgWamtxPa+q6RS2Eo7oEOS2oBpSzCGccsQcVBTc/+ry+Nv9JsoZMgAkwgcwRSO4TNnPrs2QmUFAEGuvVs6QUD4zHeXH2eUuwYOFV0LQ9xf+2vvMqllx6rMWKbnqi0X5MnfEhlJSWw47aiA9Nf3nDY7huyRnWMfFpK86w9UTOi3gdnOvTe/PPugyvvvAEDq9vjOnpjB4ZzQbSiSqm7+rI3w4EBXVijtGYReve+ZeACN03ZyaF1vOII9BYr7VKiVn0crzzYixOQbq2Z+x3iLWKrkeGRGbQe/aw5+zetdVyjBw3dyFOnn9B7H26Ftt3vYfAaV/Arh2b8YEPHYXh5tJBI31W2HpU107ba407b74cI33uOHFt3dEHffBJslC1DzU9F34r1yfU50+rOsCU8k0JnLt8dee9udaH188NATvaApCLnRpI4Oyvzr78QXrtpDpM9kD7PBScD4mPjKQp/bBWVWG1T6baV0IAUlrFaqk4NUwpYZgYyVFhiZfADgHcowjlzkdbItzCNzenB6/KBJhAnhFg50WebQir424CDXXqGUKIv5IVpSUqJlePnjZyRP282JPZRDc88akldBMzZcYBQ25s4sPQbecB5b6/9uJTVk2Lt15riTkzaP4BB9fj7luvsYA7a17Er2fr1LZjs+VAsWV3deyM6T2SPJKfKD2mp8/ArsHIi/efdC0LhoyL3L37haf9onWbH6KnkCvmzDyy8Kwbv0UBv0ah236SNH1SCTzansgL28m35sFbR00NsZ2LJMdOL4m/pm3Hhu0ktK9L+7qOj4qwr1OqgWE7PhPp5Fzn1RefwMXX/MYC49TD/qw4+IgTcMxJn7Q+N+izJdGa5NhMZLPTeWGa+gfXbsB/x78D45Nw4YLKqwVwQ09Z54SVK9E3Pml8tBsJxEdbDHFeGDjlq8de/o94uwKztOOlgjMFcCqAI9Jqt8BmmPLvEni4udV4KK2yWRgTYAJMoAAIsPOiADaRTcgfAo2ztY9JE1Z9AMqFnTJxqPNiYu3eRfZHK94X79CIDzcfLfWEbjCcDhLSzXnMU01/HOK8sJ/w2jc8tvPBvmmhiA+KDKGbF3rySmO0G7VETpku6lU/GHkBKX8dbDWsrg088ofAomc23QSJK7njSOI9Cfi1pwAcT+9OrSmxQsftQdcERT7ce/u3Ri2gmej6ib+uE6WZOK/V4ZwXzus0kRXOten94ZwP8Z8DJNfptBytSOiW7X2gMHkapqpPX/scrK5MuRyLT61ohhBHL1vdWZ5LPXjt7BOwoi28nu9BDo22cGoihDz5K/VXPDGSdvPqsZ9pqifQeQTgKAkcKoBk20vvBvBvQL4goLQIIZ7mCIvsnwu8IhNgAu4iwM4Ld+0Xa5vnBAKzPcfAlFZ8N+W/Uyg5jeEcDMMV9EvUncR+4hrvXBgtPD0+rNuJkMLFnc6LZ9autJ68vrvp9ViUBs2nNT578Y8QXHWHdXj8Dc5IN19Oh40ztaSjJ4qOrsFC6QI/Cbbo38zz7S069c5Zt+kKCdx86HH7qt8XYqBgAY8YgYBfW42Bp6+YPNFn1bmxx2gOPSfG4WpJ0LVbXTPVipxI5FQczXkxnCPC/sygtDMaztQQZ2RF/FbH6xkvx5l+En/spm29Vug8jT6fPmHdutxHOixeUCklxO+Wr+64mE/r4iEwUrSFk4JQcPRX/Jc/nyqZT9RjQtjw7WMKY5IpUAkpfVAhhIGIEKLbNJS2CWZk66oXQc4LHkyACTABJpACAXZepACLpzKB0QjMnVWyv6Lo/6F5qqJgnykjOy9onvOGgP6bUjjopsKuM5Eo8oLm2ZERozkvRisM6Dx+OOfFaE9nne9v2/rmqDaQ/rs7I+jqHWgBJyG+0hyK3jgaX34/uwQWPf326RDKw0Ia/vuO3781u6vn/2oNdZ5lQsgLSdOaKh/KS/c4L0a7Lp2RGfHpGLblTudEOpwXzlo0tqPBee1SXYtUnBfOHXI6SeOdGJTnv2l7LCujMxjSq3K9uxecXnmMYmK9NMW85X/vaMq1Prx+dgn85vnfeLoRvRyQ3wFQnWh1oYnDvzLry//Krma8GhNgAkyACYxEgJ0XfH4wgTQSmDsXmtKpxfqu7zdtgiV9pNQOp/Mi0U2Ms34FpWnE38SMljYyWmj3aM6ReAcLpY2MFHmR6AYo3gaSuWN3P/r6jQH6Qn4m2GKsTONWsKg0EFj4+NuHKR7lXwLyovvm7LcsDSILSkTAr11LfkQyqrLcg+pyzxD76NqbPvPAUbuNHHLESXtdU4nSRki4M50r1ciLRPrQ5w99BlDbVhqppI0k2sxEa0SiJt7bFbanvxwM6SMWPMzGSXLRqZXXSoEl3CI1G7Tzd43r1//yIKjyywAGciAdQ5Hqh64++rKcF5bNX3qsGRNgAkwg+wTYeZF95rxigRNoqFffElJ8kMycPqkUHk0M67yIv0Fx3kg8cM9S66bCjsQYLm2E1ol3UCSqaWEX3KT5iQp6PvvEX6waFskU7BzNeWHfDA1nA+nw7s4+q0UcDQkxm/vW59+Fcfnr0rd95+Y3BcT9983Z9yv5p2FuNQr4PRcB8vekRVmphtqqPR2C6LXh0sLii3EmW7CTZA7nvIhPUxmuOKddfJNqVNifAySXnBd2wc6+ns6ERT5pnvPaH+lzx+50RMf0hnXsbB/oLATg4WBIH2iDlMNx4YKqFwFZtnx15wE5VIOXzgMC1z9/yx8gMQeQr0GIU2yVFOgzrp599bt5oCKrwASYABNgAoME2HnBpwITSDOBRr/2NwmcRmJrq70oK9H2alXqXDI+xDq+RsX6x/+Mgz4yB/YNRaLwcZI3UsvC+Nx0mh/ftcB2XtB7ybRKdXYUiL9RGs0Gyn2nHHh7lAm97OEW7HkhzXvC4sZOYNHTmx4XCqL3HTezcexSCvPIeX7PcSbkOrKOnJTkrEw0nC1Q6f3hivQm0yp1OOeFs04Ofaa88cr6hFEU8WuQE4NSReyuJfH1dpwtW+PXIAdFvG3Otso2i47uKOiPhgR+1hzS/zfXZwTVu4CQP1q2qsuKnOFRnASuf+6XCyDkKkBcc83sL9/w8+d+8WlFiKskcIKi6hOvrru6vTjJsNVMgAkwgfwkwM6L/NwX1srFBIaEkpdpqK4Y+jTWxaalTfVw1MR2O4xc4F/BFv3wtAlnQWklcM66d5YB4vT75syclFbBBSBszhyUlvZrMafbvlNLoQj+Wo3f2u27+xG2U8SkPDf4/9m7Evioquv93TdvJgkhE/ZN0BYV3DWTgICiMMGFgFstBq1L3KsCCoHWSv8ttmoXTVDArW5orYpYtQKhUjOhLgQlmSC2KqC2JYiyk4SQZOa9d/6cSSaZhIRss7yZuef3y09M7j33nO++N/Pueed8p0x/NZLbn3OxPQsKVgFK2tKCAxsjaYtcO7II5JUu+ScIijXVmDTrxFl1fmse2bDkAttu4/1ZWU2/i6ylcnWJgERAIiARYATkU5a8DiQCQUZgYprlUiHE31gtt07kFopSmiNQedCLAw1vYgXo+UK3frPEyJwIZK8r/xUE7pftUlvfH6dD5W4E6fxXbo3MLZKlNEdg+84aGP5WI8Jygqu07utIYpSTlfIUIG6XfBeR3IXIr523YdHtEOIpQeLqOaNmvBZ5i6QFEgGJgERAItAeAjJ40R5C8u8SgU4icNGp6ONNUPf6pw0dkARFkbdaIIy79tWh1tNA1glxo8vtlWSQnbzOwjU8u7j8JwBe9gox7M0xQ7eHa91oWcfpULlLzj1sr11mWh2xbYFZViToP0WlesQ5JnKy7DsAbFtaUDkmWq4zaWdwEfjDh39IURN7fEqgDXMzZmUHV7vUJhGQCEgEJAKhQkCeqEKFrNQb1wg409QPIXAOg9Cvlw09EtW4xiPQeSJC+c7GtolQLdqxazagXAJkTgSu/nj7WMOgdYahT11+zg9WmdPKyFmV6bBMJYgVbMHReC8iZ2FkVz5Q5UVltb8BEz3jcuu3RdKi2yb1TvXYdOYxuGdpQeVjkbRFrh05BPJKFz8Aws+4Ve7c0TPej5wlcmWJgERAIiAR6AwCMnjRGbTkWIlABxHIdKj3EfAgD+fABQcwzCBMpNmrz8BmHQvCbVd1jYa9FfWdBwSwvtCtjQ23DXK9jiNw9fqdAw3yfE1CPPj6mKG/6/jM+Bg5bRose79WqwD42DoH9U2EzarEh/Md8DKwqxBAP3K59bc6MC1kQ3Ky7NcBeElXLMf9eeX+bSFbSCo2LQKPrF90ilDFpyBakjtq1mzTGioNkwhIBCQCEoEjEJDBC3lRSARCgEBmmu0UEsa//arNUDrCHUGcU27Gq8/cB+4wECkJJO8TwM8L3dofI2WLXLdjCGQXl28CxOfLxg6d3rEZ8TXKmWb9CwRdw17be1rRq6c1vgBow9tmxLxAlcutpdY3HImc5GSlvAGIKyXfReT2INIr55UsfhHA+cKjTJoz7q6vIm2PXF8iIBGQCEgEOo6ADF50HCs5UiLQKQScDpVTUcfzpN4pNqQkR7Z0hFsaHti3E9zeMFLi1Qj8JtYvhqH9cO1G/DdS9sh1O4ZA9rptb0OIkcvGDju5YzPia1QgSa/FInBM/9ZbpsYXKsC+Cg8O1mgNbke+ZIQNycmyewRh9QurKy+Lt/2Q/gL5JY9fSDDeNYh+Nm/UrIclJhIBiYBEQCIQXQjI4EV07Ze0NooQcKZbbwHRM2yy1SIwOIIHGs66uPDyO7Hm7Sfw1su+apaIyIEqDyqr/YcZvO1ya1dExBC5aKcQyC7engfQHNlxpG3YJqZZvhFC/JBH9E21ITkpssHKTm1wCAYbBmH7rqZApQDOK3RrH4RgqQ6rvGlK6nCD6GsCrnmxoDKi7Vo7bLQcGFQE8koWuYhEouL1Zs4ZN6fpAg3qKlKZREAiIBGQCIQKARm8CBWyUq9EABBOh7oTQP9IH2iY62LwsBPxTN7t+OLTyHCT6QZhx66axpxxEjS1qFSXBJBRcKdMX7/tLiKxpHJ/beLqrBProsDksJs4MV39hSA8xAsz5wVzX8SzVBz0gn9YBPBhoVvzZaFFUm7Iss8WQH71oYSU5Wt3H4ykLXLt8COQ7158Mxl4VgA/mZMx85XwWyBXlAhIBCQCEoHuIiCDF91FUM6XCBwFAadD/fXhPy/gIVZVweB+kTnQcMkIy/w7zo7Yfu2v8qCqKeviY5dbk20KI7YbnVs4u7h8MoACg3D28nHDPunc7PgYPSkdqQap3IKzB3scz9kXvkDl7hqQn92C6BpXmR7xTIecySlFEGLU0oLKntF0VY4di6SECljqUqEXF0NmC3Rh8/LX5SeRzbpJQGyckzFjWhdUyCkSAYmAREAiYAIEZPDCBJsgTYhdBCafDXudV+U2oHb2so/dhp49wp9OHunghaYRdgRwXRAou8itvx67Ox9bnk378JuRisX6JYBbl40d9mxseRc8b5zp6m9B+CVrVFWBIf3ik/uiRaCy1OXWMoKHctc15WTZiSCefbGg4tauawnJTCUzTT3bUEQayDhFgTiBgGNBGAiB3vXJK41CIOyHwE4BbDNAX0EonysGlRWWaRylNkJiYZQrzStdvIDvTYMwad6omWuj3B1pvkRAIiARiFsEZPAibrdeOh4uBJzp6r0g+FpMKkJgSP9EKEp4b71IBy/2VHhwqIG4jwhri8q0ieHCX67TfQRuKymxVngHfQXQO8vGDpvZfY2xqWHCKeipJKpMQNuXPeSuI9x9JJ7E4zXw/d7aRpcF0bTCMv2NSGNw/VT7aMXAx4C4cGlBxT8ibc/EUbZTFd2YYgAXCOB8Ts4Lgk1eAv6pAP8wdGVV0aeexo5XQdAdtSryPl4yAhbijklP52bMuDtqHZGGSwQkAhIBiUCzaL6EQyIgEQgRAk6H+jkAX6eGnkkW9ElNCNFKrauNZPCiukbD3gpP02FGwFlYqhWFFQC5WLcRyC4uLwLBsmzcsPO6rSyGFTjTrDMhaJHfxcH9kmBVwxusjCS8O/fVoc6j+01Y6XJrl0TSHv/aN062P0AC8yPZInVCOvpZDPV6CFxNQIezUYTg1AsBTrloLMXpAKgElCiEV3VFe2ltKfZ0YEpMDskrXfIciC6ALiblnj1jS0w6KZ2SCEgEJAJxgkD8PFHFyYZKN82JgNNhuQIQb/qt69vLhuTE8JWP3Hj3YpyePinshJ1c+/7dnlpw5wGfED3pKtPvNOcuSauOhsD09eXPEdGPl409NlUidXQEAtskJ9osGNAnvMHKSO1P5UEvDjSQdNbf7uKsojLvp5GyJ3DdG7JSPwMo+cWCfi7g4wAAIABJREFUyuHhtifTYTsD0O8iiNvaWpsDXDarxceNxP9WLQoUBbDURy6ahACdCIYBaLoBbj/t1Qx4vLrv322JAP1JCMuS90o9n4Xb/0iul/fJkkwo9B5A9+ZmzPpDJG2Ra0sEJAISAYlA9xGQwYvuYyg1SAQ6hIAzzfIMhLiFBwshfOSdqiU8t+A453RcfetDcK16LqytUvccqMOh2vq3sELQfyxe/fQ1m1DdIcDkIFMhkF28bT4gHpDtUtvfFmeGdTQMqmfJBZCabEVqSjCqAtpfO1Ijaj06du1rakQjgPmFbs3XfcUMwnwXEPTQ0lVV88Nlz8SMhJHCMO4FKKflmvzJn5SoIilBQYJN8QUruisczKjzEGrqdNTUao2dnZrrpaVCVX9X+EldXGQg5JUsXkOAnaypmfPOvF5+93T3IpPzJQISAYlAhBEIz8kpwk7K5SUCZkAgPR09Ukl1AxjJ9vAD68A+4es+wqUjB/btxMPzLw0LHBVVXlRU17dKZBGgSwrd+sqwLC4XCToCV63bdrUQ4hXDow9ffv4P/hP0BWJMoTNN/TkEfu93K5a7j+i6gZ37PL5MgAZZ43JrF5llS3MutmdBwSoSIuPFVRWl4bBrokN9UAD3tVwr0aqgRw8rkhMVXxA7VEJEqK41UH3IizpvqxyeD7rcmo9cNlYlr3RRDki8AIHrctNnvhyrfkq/JAISAYlAPCEQum/OeEJR+ioR6CACE85SJygKGvkekpNUX0vFcMgV186Hc8rNePWZ+7DO9VpIl6yq0bA/gOficOzifpdb87WMlRKdCFyzrny0LvAxhHL5sjHH/C06vQiv1c406+sQ1NiWcWCfBCTYLOE1IsSrcaHC7r21qG06IO82DHX02o21TFxqCsnJSnkKELeHg+9i4lmWLKGIPAAnBTqflGiBvYcakf1nDpLKas2XkdFCvgBRrqtMX22KjQqiEU+XPG09CM8mIfD5nPSZVwZRtVQlEZAISAQkAhFEQAYvIgi+XDo+EXCmW+8A0RN+71OSVPQOUwBj3oPvoFefgZh/x9khA/9QrYY9B5oIOgliWZHbOz1kC0rFYUHg6pId/Qyv/jUIecvGDftNWBaN8kUauo98BOAMdoW7DA3onQCbtfslAmaBZveBOtQ0lIaxTSRoalGpvsos9rEdOVn2HQC2LS2oHBNKu5zp6u9AuDdwDeY8Se0ZmaBFS185iFFxUAOX+DQTwu9dZdovQolNuHXnlSz+PyHE/QI0aXb6TFe415frSQQkAhIBiUBoEJDBi9DgKrVKBI6KQMuU4pQeKnrbw5OBEcqtaRm4APDBeW5twgKg1bzlUNoidQcfgex15WUQ+GbZ2GHyTWYH4Z2QYTtNMQzOturHUyyKQL/eCUiIgQAGByn5nm8UIe50lXqf7CA0YRl226TeqR6bfgDAPUsLKh8LxaITRmGQRVeXEtBYKsOBql4pVvRMCh8xc0d9O3hI8xGrNhIpc9AJ+Lti1XIKP8bOjuox67iFG54Ybgh9EwReyE2fKVs7m3WjpF0SAYmARKALCMjgRRdAk1MkAsFAYKLD8riAaOy8kZxkQd8wt1ANhh9+HS1LRYTARotXu2jNJuwK5jpSV+QQyC4u/yuAM5eNHXZC5KyIvpWdaep5EHgXgI/khg+2/XrZwG/lo1GYT2H3AQ9qA8oQSOC+olLtd2bzJyfLfh2Al3SLGP7nFRVB52rJPMs6ihTjVUAc7/e9R6KK3ilWWMJEyNwVzHWdsL/K2zz4BPrKIOXqtWXekq7oNMucvJLFf4IQWUQ0aW7GzC/NYpe0QyIgEZAISAS6j4AMXnQfQ6lBItBlBJzplidB4qd+BXyY4Taq/HY2muRAlReVgeScAhu9inbp+xtQHk1+SFuPjkD2+vI/gjBPdhzp/JWSmaZOIoF3uMmEf3af1AT0TIquAAa35dxb4YEngASSBH5VVKr9tvOohH5GTlbKG4C4MhR8F5lnqReQBX89XEqV4vekV08r7D2jp7MMf27z53eAVAnCjwrLtPdCvzvBXyHfveh8MsRaQNyXmzHDdMG04HssNUoEJAISgfhCILpOSPG1N9LbOEHAmaY+AoFcv7sWi4K+disSE8x/qNENwr4KT0siuA9UTfuxzLgwxwU8diySEmqtp1pgnGAIMQwCgxSiXgaUZCHIIkjoBKMGEAcgsFMQletQvk6yej9f/TEqA72YXrz9pwR60qitTFk+8dSD5vAweqzIdKjjSWA5CAP9VkdTyVh1jYZ9lR4Qs3T6RWCeq1R7xKy7kJNl9wjC6hdWV14WTBsnOtSLBMDcHr4Pan6Y6tcrAUzMGW3CpT8ckArYV42AqUVujbOFokryNixaDQV9rV5MmjVmVrPPr6hyRBorEZAISAQkAq0iIIMX8sKQCJgAAWe6OheEhwNNsSdbfTXTZpVD3FGkygsOYPiFyTn7He/9yfLlOILW3qx+xJpdmadhIGyWSQScDwgmKDy9Gz5+SSQ+BvC+RfG+1/fxbSeBxLvCopzz2uhj1nVDb9xOnZBuO0kh4y8AHH4QbDYFvVNspuXB4DIRvteZK6GZEF3vKtP/bNbNvGlK6nCD6GsAP1laUPlKsOz0BaGAf3DHa9bJmXL9eyWA9zFaxeMxwOSrAZ/ntYrABe+Vah9Gi095pYuvBeHPBJEzN2PGi9Fit7RTIiARkAhIBDqOgAxedBwrOVIiEFIEJp5luUwo4hkA/RsPNVYFqT2tSDJRFoamEyoOesFvYQOFCL8pKtN+HVKQpPJWEZiQjn4KWacT0ZVCYEKoYFKsiRuTps4+y3bcmb/86/U/fjBU68S63sknIKEuxfo8BF0T6GtqshX2FKvvLb5ZhO/zAwc16Hozzt0vYOAW10bN1AGsG7LsswWQb/NYev3pvf0VwcA088yEEWTR/wlgEOtTLQr697bBqkZv4MKPC5cC+QIYen1AWgDfKYbl/H9srNsaDOxCqWPBggVKytS+nwL0dW7GrMtDuZbULRGQCEgEJAKRQ8BMz0iRQ0GuLBEwCQIXjsIwTVeXALg00CQmgEtJViP6ZpaZ6SurtWbcFvU20n8BzHK59RUmgTFuzJiUrp5rkLjt8AM7kxK2KVZVQFUVWC0CiqL4CCMVQb5DMh9JiQTIIOiGAU0HmNeAf44mAvirATwTjanlZrlAnA7rPQAtDLRHVRSkpKjgFsqRFCbjrDykNSPlbLjfX6hJ0O8qLkZNJO3ryNo5k1OKIMSopQWVPTsyvgNjFGeaWgyB0Tw2FlvfcgBj1/66wE4kH7vc2tj6hiTmlbySJb8A6CFFoQtmO2ZFJV+HedGVlkkEJAISAfMgIIMX5tkLaYlEoBGBTIf1LgL9HkCzh24OYvTsYQlrlwJNI1Qd8uJgjda81p2tFfSUUaPPW/s5JP9BGK9fJn80BHIFcHFryzJfCrfiTLDV/1d04ZOeTypej4Far4E6j96S16RxWQI+FKB8l1t/K4wQxMxSmQ7bGYDxx8A2m+wcB5p69rD67nfRlQ3sIkI1dTqqqjXUelpUfhG2k0I/LyrVg1Z+0UUTOzwtJ8tOBPHsiwUVt3Z40lEGOh2W5wFxo3/IgD4JYf0sDoYPHdHBe79rX13jUAF6vtCt39yRuZEY88hHS44TCfhUCPrLnPSZd0XCBrmmREAiIBGQCIQHgS480obHMLmKRCDeERifjsE2siwg8Jv15mKzKuiRYEFSkuo75ARbuMb9UK3u++HDTCvy/uHQxf0ut+YK9tpSX9sITBxlO1UYxgIQftxyVIJNQY8kFT1slpC0aKy/Jgxfa8XWrgkBvAvC/YVlWrHcw84jMDHNepMQ+BVAxwXO5rub2yhz4DJUJL5ejVBTq+FgrQYOVrYUATx8KEH7dTRkW/htv36qfbRigPlaJi8tqPx753ek+Qynw3orQH/y/7aP3YaePSKbHdNdn442n/lNmJy1ScRtLreXyxpNJ3kli54AxOWk0KS5jlmfm85AaZBEQCIgEZAIBA2B4J96gmaaVCQRkAgwAhMd1nTB3UiIrm4NEQ5k+N602xQkqPUlAZ0V31t2r4FaftPu0VtJFa/XKHqPqLFYe/96zd8/akYu2tn15PjOI+B0qMwnsqDlTG61yW/o+ToIl/Bh92CN1/eGvqUIgfzCUm2u2dPMw4VVZ9eZ6FB/pgD3EDC45VwmhuR7PZHvdasFqtr5e511MikjlwdwRg3f84FtT5uvSc8IXX2k8NO6LZ31I9Ljb5xsf4AE5gejRep5ZyT+UFW1f/vb3HLQgoMXsS77Kz2oaiJpPWQY2qlrN4LLBE0jj5Q8eq6A5QMQfpk7aqbk4THNzkhDJAISAYlAaBDo2pNPaGyRWiUCEoGjIDAhw3aaQvptIF/acps13Kqlgd+AeQ2Y44B/GvRy9jk3BzEM/jHg1QFN08GH0XZkhXXk1Zuso/5vPiAMCGSvnH3iG+1Nkn/vPgLOdKsDRIsBjAvUltzDgtQeti4fYLtvGXzEfpWHWgliCPxbADMLS7WiYKwTjzqc6dY7QMSp+ult+c+Byno+EwHmyvDf6wrf6IK5TAhkCB+XiU7ky6rwaEYjIWMbencT8IJiUZ8u3FD7TbRif0NW6mcAJb9YUDm8uz44HdZlAF3FepiYc3C/xO6qjJr53+2pbeS/ERDLCt3e6WYyPq9k8QpADFYs3kmz02YfMJNt0haJgERAIiARCD4CMngRfEylRolASBFIT4fVbliuFkJcCeCSelL4kMgGEnhLUdRlfIiZkrd1mhD0un8lQfjlitwR8k1XSKCvV+pMt94Comap2sxj0aun1ZdpYxbh4NeBKs+R5SQC81yl2iNmsTMa7ZiYoZ6j6LiKhLgcoGND4YMAPCTwjiB6o9CtLwvFGuHWyXwXEPTQ0lVV87uzdma65XIi0cjnEqs8F21hxMStTODZ+Lkv6IrCUv3t7mAarLn57iXTyaBXhYGb5oye+UKw9Eo9EgGJgERAImBeBEJ16DGvx9IyiUAMIZCejh523XKBUMT5BIxVAAcBXc1n/lKQ4BrxD3SyFK7dWNssPfiS/C3XEPCXZvAR/kIKfrVq9oiofUNr1ssh06EyieO8QPt6pdhgTzZvnX31IR37qzwwKCCTh+hZV5keFMJEs+5VuOxyZlhHg8gpCOcSfB0vGtsqd9IGL4ASENYJQWsPCP3d0lLw72JCci62Z0HBKkPB2S+trPykO045HWqJP/uFO8D0Tu3qx2t3rIjsXOa+YA6MBil1ubWMyFpUv3peyeKNRGLb3FEzmnXnMoNt0gaJgERAIiARCA0CMngRGlylVolAxBDITLOdYkA/QUA5jgQNEkS9haIkkwEVgjtjGjWAqCBglyDaDovydV2C94uPPkLV0Yyekr/5BgGxtJUxbgXK/HfmnNBtUryIgWayhZ0O60uB7U+Zz4Jr7MPJa9FVSDSdsK/C06xbhQBW6fu0H6/9L2q7qlfOOxIBZxqOI6Ge1OPca+8QKb0uq169+GkhFDuIuK6Ba0c8AsZBgth3mPh3B2D8jxTLlrUlnn/FMp45WSlPAeL27vJdOB3WnMMEqr43+tzx5Zj+iV3iFIp2rLk8bMeemsZuU0JQTmGp/mIk/covXTKPiP5IOi6ee/bMdyNpi1xbIiARkAhIBMKHgAxehA9ruZJEIKoRmPrI5lugiDbY5kUNQL9YOWfEY1HtpAmMdzrUNwFc4TeFu0z06xV9b3s5A6MFoec/65K0S9oLkplgC6LKhGvWl5+oEzgYwRfJrcvGDns2qhwIgbE5WfYdALYd7jIypjvqM9PVMiKcxTq4VMve09oddVE9t+KgF/zTIGUut+aIlEP5G588hrzeTQCW546a9dNI2SHXlQhIBCQCEoHwIyCDF+HHXK4oEYhKBKbmb+GHxCePajzhSauhLHhr3gm7otLJCBud6VDfIIC5THySkqyid0r0BS789lce9OJA04GH39yu3VmnXfT55wjswRhh1KN7+avWla8UAlMavPj2cPBiaHR71D3rb5vUO9Vj05m48Z6lBZVdDqZOTLNcKoT4G1vDBKhDBiT6/huvwqVg3+6q9ZHAshDRZUVl+juRwCOvZPEiANkqqZl3j7ojprOIIoGvXFMiIBGQCJgZgfj9JjbzrkjbJAImROCShVtmEoEfGluTShDdnyT2Prl8zrgaE5pvepMyHZbnCOImv6GpPa3gn2gXbrXILRcD5B2XW7ss2v0yg/3ZxeW3AGiWDaUInPnqmGH8VjouJSfLfh2Alyw6Tnzu3cqvugpCZrr6NhF81ynzzDDfTLwLk/JWNrVHftvl1hozxMKFTV7pojEgUQzgV7kZM38brnXlOhIBiYBEQCJgDgRk8MIc+yCtkAiYHoGpC7fOAVFeM0MJOwh4SiF6csXckXtM74RJDcxMU+8ngV/5zYu1FHUm+2PSv0YhetJVpt9p0u2IGrOy15Xvg0DvQINJ4JHXxwxrRvQaNQ4FwdCcrJQ3AHFld/guzhuFYaqubvObM6R/ErgFdbyLVyd8t7spNm1o2rC1m7A9nLjklSzmzi/HCY930pxxc/aFc225lkRAIiARkAhEHgH5bRz5PZAWSASiAoEpeVt/LgT9no0lgX8oUN4gMp4mGLesmnPSc1HhhAmNdKZZroYQr/hNi9W3vJXVXhyoampoQSTuLirztpXJY8KdMpdJ2evKX4IAZxkcIcvGDovb7/acLLtHEFa/sLqyy9k9Ex3W2QKUz8AmJVjQv3eCuTY/gtbs2lcXQMYrZrvc3kfDZU5eyeJpAF4XhFvmjJopv3PCBbxcRyIgEZAImAiBuH3AMdEeSFMkAlGBwNT8Lb8EaLIQlodXzD7h7QULSCmxb90Eov0rc0eOjwonTGakMz3heJBexvQWbFq0knN2FNYWLRehQIx9z+1d39H5clw9AtnF/3UAltK28BCGuP61c4b+Od7wumlK6nCD6GsA1y8tqOyy/xPT1CIhMIHx65OagJ5JlniDsk1/D9Zovm5CDVLkcmvOcIGTV7KkRIC+n5Mxc2q41pTrSAQkAhIBiYC5EJDBC3Pth7RGImBaBC5Z+KVzxeyTXIEGTlm49R5BtNAwcE3B3BGvmtZ4kxrmTFNXQSCLzbNaBAb1S/S1ZIxl2bm3FnVew+/iBpdbGx3L/obCt+zi8v9y6nybugXWLBsz7KJQrG1mnTdk2WcLIN+io+9z71Z2qaTgolPRx5ug7vX7OXRAUsjbo45zTsd1d+YhMalnI7w7tn2J+Xec3Sm4L7/2Puza8Q3WuV7r1LzODNYNJu5sKh3xeLU+H36G/Z3R0ZWxeSVL5gCUR4SsuaNmru6KDjlHIiARkAhIBKIfgdh+So7+/ZEeSARMjcC0x//ds6bOyuSAW1fOGRF3h6XubE6mw3oXgZb4dQzok4BEW+y/4fVohO/3NB1+iPCbojLt193BMp7mZq/bfg8ELWzP53gk7syZnFIEIUYtLahsigK0B1SLv090WH4kIP7Kv06wKRjYJ7GTGjo3/Ipr5yNr2j2+gMMLj830TT75zPNwa+7Tvn8/k3c7vvj0/XaV3nj3Yowe/yP8+YnckAYv2JDv99XC4/EHIOlHLrfOPBQhk0c/e3SgXmfh75m/5WbMvC1kC0nFEgGJgERAImB6BGTwwvRbJA2UCJgbgSn5m+8TEA8KiMtXzDnR11pQytERGJ+G/lahbgWQyiNjpbNIR/e9qlrD/qomAk9DUU5fW+KRLQ87AOC0T3YNsmiHBpOwDIKgQQRlkCB6iIA/CIHhIAw/3G1jOAk8F2/EnTlZdiKIZ18sqLi1A1C2OsSZrj4CQq7vvky2IjUltB1/5j34DgYPO/GIIAUHNS68/E6sefsJvPXyg+26E87gBXPXMIdNgzzicmshJYjN27BoIQSuhY5JuWfP+rRdMOQAiYBEQCIgEYhZBGTwIma3VjomEQgPAlc8/NUAr8XYBCGKV84+Meyt88LjZXBXcTosiwExg7XaVC4XSQruAlGgrRnxH4nlrjLvVVFgtulMnL5++4+JaDkUcdays4fG7cHu+qn20YqBj0lg6ourKld1daOcDnUtgPN5PhN1MmFnKIWDF8NHpncoY4IDFOddeH2jOZ9v/Ccenn8pWv7+/TUvNWZxhML2mloduw/U+VQf5gZZW1iqTQzFOqwz3704gwxsMMi4f96ouxeEah2pVyIgEZAISASiAwEZvIiOfZJWSgRMjcCUvC0PCIH5ioIL37lnxD9MbWyEjZvksJ1swPjcb0b/XglISgztASnCLre6fJ3HwM59tY1/UxRMfK9E44OjlE4g4C8jMSwJg5ePHvB9J6bG1NAbJ9sfIIH53WmRyoA4HSpzZfjazw7pnwjVooQUp5Z8F/6ARMtFWwY5/PO+2VzaGMAIV9mIZhjYsavh3iXsc5VpfUMFUt6GxW9AwQlEtklzM26X7bhDBbTUKxGQCEgEogQBGbyIko2SZkoEzIzAxQu/+IFKlk1EtHJV7shrzGxrpG3LdFieJghf3XZiggUD4rgN496KOlTX6P4tecfl1rrc3jLS+xqp9aevL3+YCDec/O5zgxYsWNDIhBopeyK17g1ZqZ8BlPxiQSWXzXRJxqdjsJXUHTxZUQSYrDNcwsGJU87yJXw0ij+Dws+B8Vnpe80yKgJLRUaefk7YOC/YwO27amAY5LPVsGiD125A0ANn+aVLriCiNyHottz0Wc+Eay/kOhIBiYBEQCJgXgRk8MK8eyMtkwhEFQJT8jfnC4jZMGj8yrkjP4wq48Nk7IQzMFRR1XL/cvFC0tkWvF6N8F0AeadBYtTaMm9JmLYjJpbJLt72KginLxt37Gkx4VAXnWC+Cwh6aOmqqvldVIHMNHUsCazj+TargkF9Q0vW2Zad/qwK1WpDwfJHsXPH10d0I/HPra056Cs5CXfw4vu9tfA0dA0yIMauDUHL4/ySJeshaN+c9Jm+jkxSJAISAYmAREAiIIMX8hqQCEgEgoLA5Ee2nmJR6FMCvbhqzshbgqI0xpQ4HSrXbPs6a3BnEQ5exLvsPeBBda3mg4FATxe59Z/GOyad8T97ffn7ZMD7+rhhmZ2ZF0tjcy62Z0HBKkOhcS+trCruqm+BnUaY64I5LyIlgWUhX33x8REdSVraFU7CTl57z4E6HKr1Z00Fv+NIXsmiWYB4zABNnZcxq8scJpHaP7muREAiIBGQCIQGARm8CA2uUad1winoqSbZfkhkHANQPxJKCggJBAgF8BiKUWUh7DWgfGe1ef/7bjG4LliKRKAZAlPztzwJ4FYIMXrl7BPdEp7mCExMs3wjhPgh/7Zfqg09ktS4h6jWY2BXE/dFjWHX+qxdiyYyjLhH6OgAZBdv42tq/WtjhsVtuVZOVspTgLi9+3wX1lsB+hMj3jNJRZ9UW0ivvpa8FYGL+UtFvivfio8KX/FlXvj5LVozKtzBi30VdTjoL/kS4lZXqffZYIH1SMkj/YRI+BSE1bkZM2UgPFjASj0SAYmARCAGEJDBixjYxK644HSoTiKcIwRGAeJMgI7tpJ7vQfhMACUQtM6i6UVrNqG6kzrk8BhDYMpjX6UL3SgRhMUrckfMijH3uuVOZoZ6ARlYw0osisAxYayn75bhYZj83Z5aeLV6ugYiuqGoTH8pDMvGxBLZ68vrYODJZeOG3RMTDnXBiZwsO/NUbFtaUDmmC9Mbp0xMU+cIgTz+RUqyit4poQ1e8Dp+rouWHUJaBiN43IjTxvrKSPytUx988mMkJdt9bVZPOn18p1qrdgcnnnugyoPKan/GlJhT5PYu7K5O//y8ksUPH97Pm0A0KXfUrLJg6ZV6JAISAYmARCD6EZDBi+jfww55MHYskhJrLdOEEEyINxlAKJjI1giId+DxvlH4L+zskGFyUMwhMHXh1hdBdIUwaPSKuSO/jDkHu+iQM83yBIS4w3cw6qGitz30B6Mumhr2aZUHvThw0Otf922XW5Mtdzu4C9nF5URC3Pf6mKG/6+CUmBp226TeqR6bfgCg3KUFVfndcc6Zrt57OOPQh2NqshWpKdbuqOvw3Cuune8rC1HVps+E/Xt3+IISX3z6fqOelqSegWP8mRq9+w5BWx1LOmxQBwby/cr3rU8I97rKtD90YFq7Q/I2LEqDEJy199vcjJm/andCDA6YlI5jiSxnkBAnCaIfgsQxBPSDgB0C9bVMBA8BBwWwB6DvSIj/wKAtiqF+Vvhp3ZYYhEW6JBGQCEgEfAjI4EWMXwiTHNYxBhk3Q4jrgIYvvVZ85gtBVQUsiuJjWefucKLh6mBCcSJANwi6bkDTfW9Hj44cieWA8YKrTF8d4xBL91ogMCV/83gB8b4Q4g8rZp94rwSoHgGnw/pfgI7jf3OHEe40IqUeAU0n7Nhd4/9S8uh2LXntWtS/1pXSJgJXfPTVAJuSsFMQbnlt3LDn4hGqnCw7f7e9pBh00vN/r9rcHQycaerPIfB71mFPtqJXmIIX3bE5UnMDgxcC+HmhW/tjMGzJ27D4NRJ0KlmtmfPOvGNXMHSaXceFozBM060X89cEiM6FwNBu2swtZdcBosgQ4u9rSz3yJUI3AZXTJQISAfMgIIMX5tmLoFqS6VD5i/AeAi5qTTEHKpKsFthsCmxWC6xq5y4FPmx4vDrqPIaPcbyugXX8iLUIn5BCjxWV6q8E1UGpzNQITM3fshwQ46Eoo1fec/w2UxsbBuMyHbYzCManvJQsGWkdcO46wt1HWAi4uMitvRuGrYnqJaav+zaNhOEGiUuWjRu6Mqqd6aLxOVkpbwDiyu7yXfDyTof1HoB85Q/2ZBW9wlA20kW3Iz5tf5UHVQ1lI0KIewpLvY9116j80scvITLegVB+mpt+19Pd1Wfm+ZPSkUpkvZZAVwE4L8S2uiGwXIH2ynuliPvv4xBjLdVLBCQCIUagcyfWEBsj1XcfgYnp1rMF0S8BTG2pjVu/9UiwIClR7XSwoj3LNMOCrfwhAAAgAElEQVRATa3hYx+v8/gZyJtmHT6McMuzB4pKdcka3h6YMfD3KY9svUgo9PfDKTsLVuaOvD8GXOqWCxPTrXcKosdZSY9EFf16yZKRloDur/Sg6lBjssWDLrfGn2NSjoLAVcX/u0RAeccgnL183LBP4hGsnCy7RxBWv7C6kksiuyWZadabSZCPeLJnkgV9UiPXbaRbjoRhciBhJ5G4uajM+3x3l83bsOgjKKIqN30mv3yJSZlwlvUsoRg/FRBMRNpq+p0iBKxWBTZVQFUVXyasxaJAEZwuXf/YzgxBZBAMzog1CJpuwKMRvF7D9/9tCUEssyj01Hsl2tqYBFg6JRGQCMQ8AjJ4ESNbnJ4OayqpXHM6u6VLyUkqknuoSLQqYfGWv0Cra7w4eEjzlZsECkH8Rejen7s+xbdhMUYuEjEEpuZvXkXAKYaqjF4968TdETPEBAtnpllfJEHXsynMdcGcF1KaI3CoVsOeA576Xwr8w1WqXSgxOjoC04u3/5RAT1oMyw9eOWfI/+INr5umpA43iL4G6MalBVVLu+v/xLMslwlFvM16It0qtbu+hHr+7v11qKmrf1FBRJcVlenvdGfN/JLFdxLwuBB06Zz0WSu6o8uMcyemWc8UwM8gqNWuQHy9JdgsSEpQYFW796zm1Ql1dTq4k1NNrcaZbEcIAX8XwMMut+YyI17SJomAREAi0BYCMngRA9eGM80yGUJwyuaJge6kJKno2dMKqyUy28xvBPhNKpN6tfjyrADEPS63t9sPmzGwfTHrwtT8zVcA4k0AP1s5ZwSzx8etOB0ql4ycwQAM7JuIhDAFEqMJcF0jfLunnvcCwG6XWxsQTfZHwtbs4m0PAJiZNEgfuPSHP4y79rI3ZNlnCyBfkDHghdUHux0gvSDNmqEL2sB7yZmKg/omdmhbWyPcbNk9pD1F3DmEZf4dZ4P1XXj5nVjz9hONnUXamx/uvzfrEASRUeT2lnbVhoVlC3sZurqJBN6bmz7zpq7qMeM8X3kI1N8Q4YjuW/w9wC+XkhItvnLCUAg/ex2q0VBdw8GMI7NiQeIVKMqvXKV1X4difalTIiARkAgEG4HQfFoG20qpr00EnA51weEXH78OHMAR/NSeVt/DlxlE1wkVBz1NPeEbjBKgPxW69dvNYKO0ITQITM3f6jr8ZnigV68ZvWbemXHbStfpUDmlwNe6YNjAJAg/G25oYI9ardt31fjSoFkMizZ47QZ8H7XOhMHw7OLtLwB0zrKxw0aEYTnTLZEzOaUIQoxaWlDZMxjGZY5GX9JUJjsEp+4PHdh+Uy4OOgwYMrxZC1N/MGPLv4rx8PxLO2RatAUvynfWNBJ3WxO0vu8WY1+HHG1lUH7J4t8R8FMSxqS56Xd3OQjS1fVDNc+ZZrkOQjCR6aDANbh0MKVHfaZFOIXbUVdVe494FgOgC8LPCsu0bnXrCacvci2JgEQgfhGQwYso3fvJJyChLsX6Zwia5neBu4QwO3rPJHOmpNfW6WCSLz8pn89uwkeqVb1uzSe1/4nSrZBmHwWBS/K3XEPAXyDEjJWzT/RxPsSbnHdG4g9VVfuG/bZYBI7p3/6BKN4w8vv7/d5aHwGwTwyc49qorYtXLDrid3bxtn9whcOyscee25HxsTYmJ8tOBPHsiwUVtwbLN2ea+j0EBrK+If2ToB4lc/HGuxdjnHN6s8CF346j/a01W6MpeMFlCd81dAcC8L3LrQ3uKv75JYtPJ2ATBB7MTZ8ZEzw3EyYgUam0PAmInEBcfC+Wkq0+ovRICj+DVVZ7UV3ToqGTQIGha3et3Yj/RtI+ubZEQCIgETgaAjJ4EYXXR31bLXU5gLP95nPaYZ8Um+9wZGbhd6pMzMd8GH4REOUgyi4s04rNbLu0rWsITF24Zb0gYVkx+4TREKKdHrtdW8PMsyalq+cahA/YRn5oHdSnY6noZvYpVLbtPuDx1WizECi7yK2/Hqq1YkFvdvH2zwH6YtnYYVfGgj+d8eH6qfbRioGPSdBlL66q6hbfQuC6TofKXW58fCtMrMtvyduSwIBDR2zn8UOOPck3VNM8zYIe7QUvjjaX9c178B2cctb5jWZ8vvGfHc766IjtgWMC+WkE8G6hW+sywWZeyZKXAUpToE2anTH7u87aYrbxzgzraOj0/OHuHqf6beMAGL9YOtq1FAk/uIykosrbslvcHiK6ubscJpHwJx7WnDYNln1f2041SD8RQjkWoEEC1BukJEOAP6wMwKgBRAUJ7FKIykHia520L9ZuxIF4wEj6GPsImPukG/v4d9rDzNEJI0jzEWON9E+297SiV09fRnrUCHNhcBAjQKqJcFlRmVYYNU5IQzuEwNSFW28B0TMAblo5Z8QLHZoUQ4MmOiw/EhB/ZZdakgAGo1Y+FFC1PJT5D0YtD1zBXntfs8CmmOlye5cEe41Y0ndVcXmlgHh52dihd8aSXx3x5cbJ9gdIYH51cqW6fDlaKebviJYjxzgdKvOIzOe/pCSr6N1Gu9STzzwPt+Y+je/Kt7YbJPCPZZ3P5N2OLz593xdsGHHa2MYARlvBiy8/+8C3Tk11pY8Pg6VlVkdLXf7PlXWu1/DCYzO7BsRRZjXrDCTwgKtU+7+uLJK3YUkWBK0iA3fNHT3zia7oMNOcCQ5LtgLxl8AuIsw91stug5krBSsOesE/zUXMdrm9j5oJ33i0ZfLZsNd6LBcIBecLEmMBOAjoUuqOALYSxMcEfCCEUih5TuLxiooNn2XwIor20ZmecDxI+zsgTvCbza3cuKVbNAqXkXB3AaOpJUmdouBi2cIrGnfz6DZPzd+6SQjav2L2iKZXg7HnZqseOR3WGwHytRFMTrKgb0P7xWDVyocCxsCDFKfFX3dnHj754M2QHIQC7T9w0Osj+G2QX7rc2oOh8C9WdGYXl9Ph7on3vzZ2GHMfxZXckJX6GUDJLxZUDg+m4w0E2AWsk9tVDm6DtNMfkPis9L1274vWCDhbBj/aCl6wHc4pN+PVZ+4DByP84h//8lPzOhxECRZOgeVdAphc6Obnks5LXunif5IBz9xRMy/o/Gxzzch0WO8iUFOwVQB97TYfIWc0CGdh7K3wQtcbyvZ82W94qMit+QJ5UsKHwCXp6HHQsE4XCl0JQlYIV2Z+mbcMWJatddd9FcJ1pGqJQFARkMGLoMIZOmUXjUUfb53KLa3O9K/SXkpr6KwJnuY6r4E9++sC+5IfUBThfK/EWxa8VaSmSCNwSd6WWSTwGIGuXjVnZNMTeKQNC8P6znTrHSDyvVXkFqncKjWYtfKhcKG9FPZQrMk6OXDBAQyfdOONbqjsM5Pen6zfa9foEHduunPZ2KFPmsm2cNjCfBcA/X5pQdUvgrmej0/Krh5izk7Wyxw1rZVjdibzgu/30eN/hD8/kdssAMEZE736DPRlVLR1z/XqOwjnXejrsnyE7Nj2JVYtXxi24CIboOmEHU18F3rfWq3H8s/RLI2yI/uRt2HR7RDiKUHi8jmjZvytI3PMOmaiwzpbgBrJLlVVoF9qgmlI0zuKG5Or763wNOtKQgL5RaVabkd1yHFdR2BShjXNIOM2kI8rpc36Uu4gqKoK+DpjrjuLEBAKf2XWR5wMCJBB0A0Dmg54dQOa12i1Za7fWgGsEgo9816JHtX3YtfRlzOjCQEZvIiS3Qqsw2WT+/dO8KWgx4IwQR/3jNcbugwA2GwI7dy1pfCxvkuJfgQuebqkBw7aNxHw1crcEV2uj45GJALfyPmDFx2tleesh6tvfQjff/sVTjj5bNTWHGw8ALVVA88HosHDTmxMT2/tkNXyMBWoa//eHdC8Hng9tfjqy0+aHZz4sFTy0TtHtHEMVmvHimqvrwabRQAPFcq3fm1e8tPe/98pilX5Nwn8+PUxw3xlSfEiORfbs6BglWLQ+Of/XvVhsP3OdKgrCZjCerlshMtHWpOj3ceBmRk8t7XgReD8toIXfN8PH5l+RODDb084M6N4zcpqDQeqGmMVK11u7ZLO4v/4vx/vWVtjbBLA+3MyZjYjteysrkiPb5lxkWhT0LdXQshan4bDXw5gNCPzFPi9q1QLapAwHH5EyxoT061nC4PmQuDHrdnMLXUTEizga8umKr6ARVeEn7VrPQbqPDpq6lqvtBNAiSFoYVGp/kpX1pBzJALhQKBrd0A4LJNrNCIw0WFZIiDu8v+iby8bko9CIhaN0HEGxq69tU2RYUKBq0zzPTxKiQ0EpuZvvhcQvyMSl63KPTFoBHtmRyfTYb2dQE+xnT17qDhn/KQOp3n7DyY1hyqPCEawvtbq5/n3F15+J9a8/QTeevlB+Ovfd+34prFmPvCgxMGOwMORn9+CAxX8RrhlYKK1QEWwgheBmRdE+E1RmdasDbTZ9zqc9l29/tsLDDLWKMIy/tUxQ4J+gA+nL51dKycr5SlA3L60oDIkzzBOh/VWgP7Edh2NZPdo131gdlXLe5L/v6NlI5x50VZHk9b0dBbLzo5v1hFIiFtdpd5nO6sjb8PiByAwkwxl0tzRd23o7HyzjM9Ms0wnIV7125Nos/heLJmZ36Kj2O2rqGvWUpWAnxW5tYc7Ol+Oax+BevJ9y/2AuLHlaJtV8ZUc8UvKo3U8an+V1kdwtfahOg2HatoMZHwgCL8pLNPe6+oacp5EIFQIhOSLP1TGxqPezDTrzSSo8eGgV4oN9jbeAkU7PvxBumd/s+zTB11uLSZap0X73gTD/kse2dzPULBJQKxfOWfEj4KhMxp0ZDos1xLEn9lWDjqee3598KIjtfL+4MU3m0sbSQHbq59f+fojzYIjHIxITukFe6/+eGPp/T7I/BwWmz/76IiUc/+hyk8QGM7gBb/R5Te7LAT8vMit/TEa9jgSNmZ/tO1GKOJ5aJ6Ry8YfvyUSNkRqzZws+47DBMDblhZUjgmFDRPOQi9FUff7dQ/qm9hmCUBHuGuCQdjJtviDlS0/F1oGIDtT0tIZ/PjNLQcvGoQUofV+rxQVndGxsPTxkw0yNh3+OHw4N2PmfZ2Za6axExzWMQroI395Eb8VH9A7sSF330yWdt2WlhkYsgNU17FsOdPpsN7DZW8AEgL/xh1pUnpYkGALX2Y1tz6uPuQFE+k3UdDVW0Wgpz1J+ryPPkJV8LyXmiQC3UNABi+6h19IZ19wVsKJuqLzl7yv9o2JOZmgM5alWc17/QHm4iK3xq3rpMQAAlPztvwGAv9HAhesmj0iLiL6EzMsWcIQq3j7EhMsOH/CBZ3OvAgky+xI/XzLWvry//4bI04d6wuYHNj7fSMB4MAhxx9RAsJ2Ho3zIpSZF83e9nXxrW4M3CYdcuGq4m2/FBDzDatn0PKM4zt1gOzQAiYddNuk3qkem34AoJ8tLagK2Ztgp8P6EkDX+b57e6joY7e1iQjfky15Kd5f89IRRJ5dbZXqD0b07juk0YaWrVCP1iq1I6VkHcme2lfhwcGa+uCiEOKlwlLvDZ29TPI2LH4RAqOFxztpzrg533Z2vhnGM6FiNamcMXIK22NVBQb0SYzqUpG2cN21vw5Mrt4g1QqUUe+5PV+YYR+i0YbMUYnDSdeY2HVyoP0ctOAXk5xxESkxDEJVtQYu32wu4n9ExizZPjdSOyPXbYmADF6Y+JpwOlQmzrmUTeQPtIF9EmMiHbE9yJn/orEeT+DfrlLttPbmyL9HBwKX5X01TBe0CUSrVuaOuDY6rO6elc50qwNEzOoNq6pgcL/EZsGBltoDa+Vby4xoK3gRGHDwj3n37cdx3oXX+TIuzsm8pnEpP0lgWweWSAUvAh+UBeiSQre+snvox+7s7HXbnoIQk5eNHXZc7Hp5pGc5WXYOKLwkyDj1hdUHPw+V7xPT1POFwFq//iEDEqEqkTtYhMrPjurlLhTf7m7MuuA3C+e7yrT3Ozqfx+WXLLqQIN4VRDPnjJoVtW2QM9OtLxKRj0WVH6IHHf5M58/2WBQ+0H6/rxaaRn733ne5tbjrGhaMvc1Ms/yYhOC28b38+vjZvldPq+/FhlmESXmZe6q6tj5Q6RdB+G1hmfYrs9gp7YhfBGTwwqR7n5luuYFILPWbx1F9TkuMB2GG5B2760AN+WtC4LeFpfIDM1b2/pKFWx4mwlyyKOesuvuEdbHiV1t+TEhHP4XU3fx3RQgMHZh0BI9E4NzAWvmdO74+oqyjvbKRh+df6quR59KQfbu3+1T7uSvGX3gtrNYEbPvmX74ylNbI/rpSNnK07imd2d/vdteAU1jrsVLOeK/U81ln5sfT2Ozi8hUABi4bO2x0PPmdk5XyBiCuDBXfRSCWToevw9dE/h2TdjJ5Z7zK/kqPL628QVwut5bZWSzySha5CILmZsycVJ9YGX3idFhzAHrBb3ksdH1rbxeYk2xnU7kQD7/f5dbirj1zezgd7e/OdPVeEH4XOMbe0+oLXJhVDtVq2F/pDSTT53Dd632P916zfDlaZ/w0qzPSrphCQAYvzLmdwumwfgPQD9g8TiVjrot4koOHNOyrbOK/0AzLiPc31m2NJwxi1ddLH/1mpGFonH3x0srckbfGqp8tDkEcvOjHvxvSPxGqRfFlXwwYMhwFyx/1EWuy+Mk1t/yruN3gAo9vjbDTr8ufou5PL/cHKlSrrdmanSXsDAyMcFDEH+xISe3XTG9n95VPMuXfc4fKeqlJ0HoUF6Oms3riZfxV68q5nfS3r48bNjVefGY/c7LsHkFY/cLqystC7ffEsyyXCUW87V9nSL8kX3vCeBOvRvhuT9OtSESXdTaFPH/D4ptJ4Fky6Mq5o2e9GY0YNrSs/5IbvrH97ZUTRaOPbdncossMCCKjyO31ZRRKOToCTof6KIC7/aOYgLNPqg1M8Gp24S6AXC4W2J2EgA+tmnblmk3YZXb7pX2xiUD8fQtHwT5OTFd/IQgPsamcpsqHnfoGzvElO/fV+Vo6sQjQ84Vu/eb4QiB2vZ2Sv/lxAdymkzJ6de6JfAiLaQl8g9uvVwJ6JNY/tLRXK3+0NohHq5/3627ZpYDnJCXbG4MeftAD6+UDW6W21m2E5/iDLKpqg6Z58K/SQpx0xvjGDietlba0bCvZ0rcWZICbXW7tpJi+KLrpXHZx+S4hsOK1McPi5nPxpimpww2ir0nQLS+uqnqumxB2aLozTV0DgQt4MNel85v2eJM9Bzzgt7ANssbl1i7qDAb56/KTkGD9lAx8nDtqpo9HJBol02F5nCDuZNs5iDW4X1JcPZrt2leH2oZnMgL+XuTWmvE2ROOehtpmZ5rlGQhxi3+dJJsFfXrZoo4f5UCVF5UBXBhCYKNX0S59fwPKQ42h1C8RaIlAHB6JzX0RTD4BCXUp6g4I9GFLmSSMo/vxKPwlyV+WfjEU5fS1JZ5/xSMWsebzpXlb0wxB7sOX+KKVc0Y0vpGINT/9/jjT1EcgkMv/n5psRWqKeVNFI7UHnJLOqek+IfGKq8z7k0jZEg3rZheXEwi/XzZu2C+iwd5g2HhDln22APIBffDSgurvg6GzPR2ZDnU8AY3cDv1SbeiRFD/fydU1GrjrhF8UgfHvlWqdas2bt2HxAq4WsUDJvCdjxsftYW7Gv09Is2YoghrbusZDuUjLffBqBr7b08R7IruPHP1KzXRYniaI2/yjop10v6pGw/6AzwIOYFi82kUyA8OMn1ixbZMMXphsfzPT1FwSeITNYgZrjuzHs+zZX4dDDUzX3LKpyK3/NJ7xiCXfp+RteUEI/EhRjNHv3HPS5ljyraUvE9MsVwoh3uDfJzD5bl9fAyEpAQg0f7srZrrc3qgl9Av1xk77N9mUyu11IDF72bihnJIcF5IzOaUIQoxaWlDZM5wOB75xtyjCR9DI/411YbJGPqxy6jgLgR4vcuszOuN33sdLRsCCTwE8lpsx497OzDXTWGea9XUImsY2JSVa0L9XbHd+awv7/VUeX0eKBil1ubUMM+2TWWzJdKh/JGCe355Y4cxhEs+9B5qCmQA+OM+tTVgAGGbBXtoR+wjE/rdvlO2hM03dDIERbHY8Z134t61F9gUJVetf+An2Rtm2SnNbQeDShV+eY5DyIfc6XzlnZEy/PQ4k7WQomLSTyTulNCGwfVcN+LDEIsk6j35lXLPhf8N1TflaUZRrXj37mFfj5TrKybITIJ5bWlDRmIYdDt8nnIKeSqL1X4eJGn2dXXokqOjXO/bLR3Yf8KCmsVxE/FfVvKet2YTqzmCeV7roOZA4F4YyKXf0XVGZYp55lnUUKfSJ3+9BfRMj2tKyM/gHeyx/RnPXmUZCdaKrC8v014K9TjTrc6ZZZ0LQolgLXPj94RIyftnQJOI1l9t7dTTvmbQ9uhCQT88m2q+J6ZYpgoSvNSC/1TlmQHxnXfi3hlmume2ahSDmFLm9C020bdKUbiAwJX/zMgHlPAuJ0X/LPSEqH2w76n6mQ/2AgHN5fN9UG5LjKPW8PYyaBynpa5dbP6G9OfH89+kf7xhPhv6+IDHptXFDC+MBi+un2kcrBj42FPrRSyur3gq3z5MyLJcZRhN5J5d+cQlYrErlQS8OHPQ2utcVks68Tx7LhKK8B9DduRmzGg9z0YaZ02F5HhA3st38uc2f3/EsFQe94J8Gka1TAy6GzDR1Egn8w/+rWL1empV51ju7wOXW7o/n+0L6Hj4EZPAifFi3u9JEh/VlAfLVecdjh5G2ADpYo2NfRSP3xQaXW4ur1oDtXjhRPCDrkS0XKArWkMCvVs0e8dsodqVd051p6s8h8HsemJRgQf/e8Zl23BpQ3FmIOww1yKMutza7XUDjeMBV67ZdLYR4BSqdvmzUsXHBA3TjZPsDJDC/OrkyYflyNMtbDtelkJmmPkQCjVlisRqEbMlzIYCHCt3a/M7inFeyeI0ArEO/GTjpqquuisrWiuPT0N8q1MauClzyx6V/8SxcRvTtrqbuM4IwrrBMK45nTNj3yWfDXue1lAFiOP9/gk3BwD6xWyJaUeVFRQCJJwmaWlSqr4r360D6H3oEZPAi9Bh3aIUJE6AqlWoln2t4wuB+ibCq8f0F6QeO0xO376xpbAovSDm1sMzzeYeAlYNMj8DU/K3vAHSq1dZj9FszhsZsSdAER8IJCvTGdr/H9E+ExSLvcS4U+XZnDQyqLxkRwHmFbu0D01+4ETRw+vpv5xIZf/QYdYPeOueEuGhXd0NW6mcAJb9YUOk7GERKnA71bwAu9a/PQUgORsaK1NTq2H2giSibCH8rKtMu76x/+SVLbiDQUiKaNnfULB/fTzTKRId1tgDlx8NhtDP7wy+U+MVS/Wc2PVHo1u/qzPxYHOt0WF4ARA77xmWhzI3DbVFjWfizgj8z6oW+qRD66aWlaOp5HsvOS98ihkBs31URg7XzC09Ms1wqhOCHIl/QgoMXUpoQCCTzI+DnRW7tjxKf2EBgyqNbLxUG/Y0I81bljvCR1caqOB3quwAuZP9Se1p9P/EunHHBmRcN8pnLrZ0R75i053/2uvJHIWj6srHHDmpvbKz8vYHv4uGlBRU/i6RP55yDlIQa9Z8A0vx2xEoAo6ZOx+79TYGLw0Eat1Grnb/2cxzsDOZPlzxtPQjPJp6fmzEzqrsGZTrU4sNtQcew/31Sbegpy/18lwK3sed29g2y1+XW+nXmGom1sc50yzSQeN3vV7x0o9F1wnd7axv5qrpC6htr14L0J/QIyOBF6DHu0ApOh2UxIHws3vZkK3rJVorNcKuu0bG3oXTkMG/Ae0Vu7YIOASsHRQUCU/O3vAdgkKisHL1iQUbMRu2daZarwen+ktem8brkBx+v5LTp1H161frtywXRiGVjh53ZqYlROjjnYnsWFKwSZEx4YfVBDhxEVJzpCceTof1DCPHDWDmsHEnCR98Ii/WCwg2133QW7Hz3kl+SQfcpisic7ZgRteUELbPlhg1MgpBEy02f3btr4NXrM+ZAlOUq01d39lqJlfFOh7oFwInsT88eqo9wP16kZQcSIkwoKtMi/jkdL/jHo58yeGGSXXc6VH5LcTqbM6BPAhJtsZOGGgyINd3Ajt31/cUF4Cl0a5ya0vCtGYwVpI5IIjAlf/N0AfGqAN21Ys7IJyJpS6jXdjosWwHhI6TsnWIDt1CLVzlUo2FPU9/4g6qmDepsN4N4xC67uLxYQFS9NnaoL4sn1iUnK+UpQNy+tKDSNM8sF2bYTtMMWgXQsX78o7VD2JHke+J/hiKmri3xdJpPZeGGJ4YbQt8khHhiTvqMiGbJdPe+cDqsMwBazHpC3R71imvnI2vaPVDVpkPvjm1fYv4dZx/VjXkPvoPBw07EM3m344tP3z9i7DjndFx3Zx4++eBNvPDYzO5C0mz+/koP+NqpfzCjxa5SfVZQF4gSZc409ZcQ8HF2WSzClzkdb93Emrc6R5HLrTmjZPukmVGIgGkeBKIQu6CZfO7p6G2zqvv8Co8d2MN3QpfSHIHv9tTAqzXUxUuCqJi7PKbmb1kHgroyd0RME7IGtlFTFIGh/ZPi9n7/bk8tvJq/kxAeKuoCKWDM3QgdcCh7/fZtIHp/2dhh13ZgeNQPycmy7wCwbWlBpS993ywyyWE72YDxVwAn+21KSVLRO4q6UbQgy2U3PjeEcuXaUs+XXcE5v3Tx0wQ4SYhJcx0z/tcVHWaZ43SobwK4gu3pbbchpUdoAs0PPvkxBgwZjoLlj+Ktlx/0uX/ymefh1tynkdTDjj8/kYt1rq51Iw1l8KK2Tscuf5mRwL9dpdppZtm7cNlx0ano401QuVNaD16zqwFM/3737juk0fT9e3e0GZRqzT8OgF14+Z1Y8/YTjddRV3BgPWMnXoUXFs1sNSDWmk5NJ+zYHUDiqtC0whI9arluuoKbnBM+BOQROXxYt7lSZro6kQguHmCzKuAe4lKORGBvhQfMgs5CQtxVVOqN6Tf08XYNTFm49SZB9JwQuHHF7BFLY9l/p8PyFSCOZx/tPa3oFYfcF1XVGvZXNXJdHJwEUzwAACAASURBVLTWace9+280BnFjef+761t2cbkBiIXLxg7N7a4us8+/bVLvVI9NPwCIXywtqPB16zGTTBiFQUJTXxUCE/x2cTeKXik2X7cBswq3H+c3556Gkq0GO4uEVbu68GPs7Ird+Z8sOp8UsRZCzM5Nn/FoV3SYaY7Toe4G4ONyGNIvCaoa/EfmG+9eDA4wBAYu/Bj4D7TflW/Fw/MbOWI7BVEogxdsSPn3hxpTYA2LNnjtBnzfKQOjfHBmuvobIvxfd57f/Xv0zebSZvvMQa0+/Yd2OHgVrOAFZ/OwdPaaO1DlQWV1Y9ewYpdbGxfl2yvNNykCwf8kNqmjZjYrMDUxuYcFfe2yhWJr+8UfivzhyCJJgcx8RXfdtqn5WzYCOLByzojGg0DXtZl3ptNhvfFwuvnzfgs5YMmBy3gRg1vt7a4FdxLyicAvXKWa6Q6mZt2P7OJyEsC9r40d9gez2hgsu3Ky7NcBeAnQz1haUP1ZsPQGW4/TYfkTIG4N1GtG/iq+5SoPNm9xWH8L0p8K3frt3cElv3RxAQHJPck26faM273d0RXpuZmjE0aQpm9mOyyKwDEDfI3ggi58QGVprzyEx/Chsv+g46BabeA39J9vrKcVCCwb8R+EE5N6+v72v68/xcAhx4ekbIT179xXizpPffacAF1S6NZXBh0kkypMT4c1lVQO9PVmE7vaOpkDWKPH/+iIIEVnA0/BCF5wwOzGWYtRXPR6p7M3fN/ru5o6A8Y7D4pJL9uYMEsGL0ywjU6Hym8o7mZT+G2NPY5r4I+2HS2Y0Ne43NpFJtg+aUIQEZiav3kGIBYLiOwVc05sZO4O4hKmUeV0qExSmskGMccNc93Ei+w94AGTfLEQ8K8it+bj+5HSPgLT3duGUJ34VkDc+NrYoTGdocRo5GSlvAGIK83Ed9HWLjnTrD+FQktAaCSt4hr41J7cpSLyPFbVh3RUHPJAayi/bPBDB4kZrjLvU+1ffW2PyPtk8bVQ8GchRPac9BlR/9kd2D0iMcGCAb2D//nc2cMpBy9OOet8vL/mpUb+ikDOC94dLjWpqa70BUMCSxEC53Rnn1vO5ew5zqJrkF+63Fp93UsciO9+F/Qku2pVmeuiawGuo2XftISxJTdKIC9Ka8EL1n3ehdc3quGA19EyKvia/HHOr/HG0vu7VKrUjAcFeNPl1q6Mg0tBuhhmBGTwIsyAt7ZcYF1lvLRX6grsHo3w/Z7GmrovXG7tlK7okXPMi8CEBf9J7Gn3boIQX62cfWKWeS3tvmWZZ1lHkUKf+DWlpliRmhz7rVNbtEYFCZpaVKqv6j6i8aFh2rry0YrAx6TrU14/9wcFse51Tpad0+3+vrSgsmt582EGKDPNdoohjDwBXBy4NGdWpSRZwdmV4RYOWlQe8jbyywSsv1qQMrewzPN5d2wiIpFfumQTCfxrbvrMq7ujyyxzA0kY+YUSv1gKtrQWvDga98HUq+Zi+Mj0Zm/oA4MXYyZMO+INvv+wy5wZwSbsZDwO1ujY19AJ7jAR9csut5czpeJCnA51HYCx7Gx3OFFa7nlbRK3+QIQ/EOW/fvbt3u4LVrUMXvC1MeK0sY0lSf5rYcu/itsMYPAaJ5w0ukOZQK1tMvPSMT+dX1SLduyaDWBOECkSgaAhIIMXQYOy64qcDvUjAL7asAF9E5HYIn28NRbq9qKnXbemczM7++agc9qbj+aUtO27Gj8U97vcWp/u6JNzzYnA1Pwt8w6TX/0R0C9dOefkFea0MjhWOR3qfAAP+LX1752ApITwH26C4037WrjOfufe+q5BLIKwqLBM82WdSekYAtPXlV9BAm8awshYPua40o7Nis5RN01JHW4QfU1C3P7iqoo/RZMXznTrLSBaAOCYQLu5BCE5SUVykgVWNXSlYkyEW12ro/qQBt04ojHXtxBigavU+2wwMM0rWfKLw70yf03QJ83NuOfDYOiMtA6nw/I8IG5kO7pKwtieDx15fgoMTnDwomVnkfb+3pE12rPzaH9vRtoJrHO5tXO6oy9a5k5Kt51ukMFdAn0ydEASmIC7O9IyS4J1BT7rt1ZiFFhywuVBfsLOLz/7wJeF05Ivpb3uNLzGV19+0q1A1+79deBM6fovecxzlWqPdAcXOVci0BKB7t1pEs+gIOB0qPzWw8dWzmlnnH7ml9bSBP1RWh7TVnusoBhmQiXbvj/kt4pcbi10T34m9D1eTJryxP96i7q6TUT4ZNWcETGfcuh0qPz2fDLvL7dXG9g3sdlnQKzsOwcfOXDh1esPUgSUFLm1UbHiX7j8yC4u536Hi1Qhhv1lzNDt4Vo3EuvckGWfLYB8Q/EOfWllzbeRsKE7a55yCmyDk9R7icDEqvaWujh4wS04k2wKbDZLt5qM8V3l8eio8RioqdVby7Lg5StIIK8S2u9LSxEUTopHSx49VodlE0DP5WbMihkCWadDfReArxUxl4xw6UgopD3Oi/aCE+39PdTBi+ZdJsT/XG7vD0KBk9l0ZqarvyLC/WxXjyQV/YLcYahlyc/6tctbDUbw/l5960NwrXrOB5E/eLFzx9ettsjll6HOKTfj1WfuO6IspDt8F4H70zwbJ34CWma7RmPZHhm8MMHuOh3W/wJ0HJsypH8iVEv9mfxo5Dv+DzZ/baMJ3AiLCeU7axpJ/iqEllxaisZoRlgMkIuEBYGpC7f+2vfWkmjSytyRhWFZNEKLOM/EMVDU9RAYyiZw8HJgn8Ruv8WJkDutLsskgdxSr87T8DYGqDUMMXbtRi8TtErpBAJXFZf/XgC3GfbKQctPPbWxXUsnVETN0JzJKUUQYtTSgsp69sEolQmnoKfaq08uEpN/YRz4rk3yBO5SwgEN/rFYmChS8X0OKApxiy1fqpJhCHAgUDcM6Abg9Rq+QAVnNbUt9LWA+JNF0x5fswnVwYQxr2TREyBxsWFD5rwzZ/4nmLojqcvpUN0A0tiGUBIqt8d30F5wItJlIwYRtu9szIitdrm1qL5XO3rNOR3qegBn8/hQlXsHPue//NS8VoMXgecEtqW94EVb5KA8tystUlvDq0WWNKBrQ12fIuqCzx29FuS48CMggxfhx/yIFZ3pajmo/uByTP8kMMEXS3sR+cAPIR7P0dfvv/0KJ5x8NmprDvrqIlmuuzMPbTFPt1Zf6Z/LNZL+D8YvN32A09Izoar1dZ8ta+4++eBNbP7so2Zr+R3VNE+rbcC6An1g8KIuSbN/9BGquqJHzjE3AlPzNx8DiE0CVLBizsiYr6ENbJfMO8MtFrmEhDMxYkF2H6jzvQ1uFEFXuUr15bHgW7h9yC4ufxmEjGXjhp0U7rXDvV5Olp0TCpYuLaj0pe9Hq0xbV366RaCIgL7VKx956tDqJ3oBxFlloSS58QLir2QYrxVt1P8WCuwWblh8jiHwISByczNm5IdijUjpDGxnPaR/EtSG57JQ2HO0DFvuKuJ/3mot5T/ShJ2MR7N2qXbNunYtGhk8Q4FXpHWOT0N/q1D/n70rgYurut7fefOGJQvZNUbALRCtrYYhG0RtGKLVhFitBtC6xL91N1Eg1rWtdbfKYExca2vcgdiqCSRuDKkaSAwMJlprwLgEjGZPyMIyM+/8vQ+GDBOWmWEGZnnn98uvlbn33HO+++bNe+ee853tDjvijo4Geflb3dtBpPN7gL/LRrxtkdrVfojDClFSJISZryyvsb880PumrR86CITGk3GQ74dz5sWxY6Kg00kdLNE99fd2Tgd0BA6aDjV2lJK43hS7Yp52vRl2RQA0a+6t2L9vZ4decYNzkEYJ6EVwRAQvXMmgerspe7NtzsGLwWQbvELLvPAGxqCYk5Ff+ygIfwRRaklOQmVQGN0HI9OSdZcS02sOFREigDE8Um3TF6wi3jx3Ote/qk8ytMBcY10crD4NtN1ZlfXlIEhF0+J+PdC2+HP9KzJipkgK1hHT3BdX7XvTn2v5U3f2uobZrHBH+0gC3V2YEvvQeeMR2Ryjm02Es8F0FgBfEFB/Ceb/MOHDqEZ76aqv0eJP3/KrFq8AaLh+mDJzQcICv67lTz+60m1Mkusd2XDOh0r+sqMrbjNX4sbeghf/2/BRpw4jwlZ/t0pVgxdOGbGyzTbE19k9/sLcW71pBt3vCPQvMV8cNIhMyb6Ig+vClcvONfva34Sd9z75ETZ8+p7HLVK78n3fQSv27W+vTGN+wVxj79RGui94aXM1BIL3qTiE9s6Z82Lc6GjIMnX8AH1e/WG3xDldBS++2VTdwSLcVXqYO8zTzgGNrsY731C7q6sT2yP0RA+O8SkvhxPnBcwWm3b9htD3wNWVjEWbE2CzbyTCyytyE68LYVc7XEsz6K8l8HOOP4gSktHDI/1K7OcvXG2Kgl17WjulszPhrvJq28P+WjMc9GZV1tcx47Pi1Li5oezvVefFPMCEuw/uaRy0rBKH6euDyOmsyi03APS0s8nM/HhxarwgJe4kM5IxWqfIEyHRqczKeCKKA+NoBkYwaBCBdQyyE/gQAXtA2MbM9UTS11D4v3bJ9tnqauzsL3hMliXZrPAbxHRJ7uSbC/tr3f5ax2iQBZ+MSrbaH8GL/vLLH+uIshFRPiIkHIIXxmT5ETBuF/7GDNZj+NC+J1A5nucdWdJCt3MWtGPf/NUqta8tUl2vq5ZWBdt2d5BzbzRbbKf749rTdIYnAtrLXwDsu3O7JUHWJ+peHVkLnmZeOGdAdBWl7468yZG26IDDEfHvinfDneCFc3aGKD/xhbjUVu41W2wjfKFX0xG4CGSY6hYDfC2Yp5TkTdgQuJb6zjKjQX8NwB2dFUTpyMhhegyKkn23iJ81NbfasWufFXZRlO8Qxh3mGtujfl465NVnVdYfYsY/i1Pjbg5lZ6+cNexzgAe/tLLxxGD0M6ui/mEQ7ujC9heKUuKC/hTSVLWkRoFSu3DSgqxg3J/ebE5L0n1DRCeIcceOjobOiUi9t7nh9vmWbYdUBmYhPzXbIr/8EiHNxZNukN9l4DfC3zHDIxAdRL/N/XVtMrOakeOQUc22yGUhfl30F7baOqKJjSYDjoDRIL8F4AJhiDPxj6ecF67lG+4EL8Qa4+JP7hThdc28cBAAvfXqgypWvQUveiOg8hZwl/7Rm8wWW8jXfHuLVajMy8jfdDqIBKnjopLcxFtDxa/e/Eg36LIY1CnqN2ywHsN8cMLT29p9/bzxoA1797s8uxLdaK62PtNX3dp8IKuynonoz4XTYu8PZTza+S5MS1c2Bl0Hi6zKelH+dWk3+/OvopS4i4N570zVT97GTA+yQjMXTrn5o2D2pTvbjQZZBMtPE58fM1p0gNKam3WFlYhZCM6LdmkxW2x9q6EIgospzaDfQuA4YaojWzoIzO53E3/c0XS4uxjTxPIaa1gcQPU70GG4oBa8CIBNNybrngSTaH+HETERGDqo7YTVk24jXWVU9FY24uDJcM7WcOWp8DTzwp2yFG8hF32jRf9oVQgfmKttahszTUIbgYz82n8wcBHDPmVl3im1oe3tYe9mJstnKMwvAdRx8ix4MIYPjUCUPvAepEVwcc/+1g6SLvVrGh2jcNO+C8wW+4pw2Td/+nnhuoZREQrvBNP1RamxHeVF/lxzIHTPOzdmFiSUElP6i6v2mQfCBm/WnFu1eZjOGlnC4DO6n09lRSmxM73RHwhzTBWmYxGh38DMr+RNXpATCDb5wwajQRbXXZrQfdTISERF+KdVqj9s70+dojxw6/aO8oCtZotNLbUJVZlxPKKkkXJbSgEB8UcPClVX++yXeF4Xz+1CGHxRucX+7z4r1RRoCLR99TQZaATSkvULiHmRsGNItIyRTv2ie2KhFuP/nn8dBElTV8GL3gg7HcELZ54MRyaGN2UjDn27dzTg7hvUDlI+lU4nuszPmGvsN/p0AU1ZQCKQ8dj/UqDTVYD54ZK8CXcFpJF+MkrUwUssixKSC52XGDpYVmttA4HMU5y87TtgReOBdnKudkN1Y8dvGXb9C/Fvnn+G9jvjo+vjkrX1pymMDSzxhcVT49/2kdqAUzNv1tBnAbpu6crGoLl2LqnaOpqt9gsVxu+IcG73oJKlKCU2OeBAd9Og/KrFTwI4n1qlmbmpN33t5rSgG2ZM0r8GYjV7RjyTiWczd6Qr7gJXIkZ39ATLmFargp92tQUvCKgqs9gmB4vt3tg5wxA5XoK9TswVHWhEJxpNukZgd2MrDhxqazzDRLeUV1vFvUMTDYE+IxA0DwZ99jSAFaQnyTOZ8IEwUfBdCN4LZ3Hnx7A7LgvXua7M012R/+zdva2jm8jR407q6BvdW9nI6KOOwy8mdk2A312rr664PbrLONm1rxUHmxwduGi+2WJdEsDbqpnmQwTmFNS+DsYMm0xTVi1IEERqYSVpSXIuEfKdnRZcGEPUIIY8IC1VBT/b/kM2NB60QvR1dxZm3HfUkm+2QaKnlAOtw5edfdK+sNowPzmb+Un9LNKJjAT79MLU4yv8tMyAq503K2YrgC1LVzZOG3BjvDAgc82WsyDRZQTOAiimswr+tiglPih5PPLXPjkNMlUqzH+8bfKCx7yAJmimpBnkBwlQg+UxQ/QYPqR3UsauDptcO7gFDQBuGnqo2Yade9vLBAlvmqttIU0knJ4kpzBBvfd29bzeHWzO3f4cY/bs2uoRob3rc75rafkFl92F7Vu/gTs8c929M7i57W4NE4ca4l+7PGi22O5xa6I2SEOgFwS04EUAXCLpUzCKbXIHS3j8WP+loYkb1iXXPARz6T980g6pP+H7cWcTRGq6EJZwRnmVbU1/rq+tNXAIzCn42sislAH4U0lu4gMDZ8nArTzTEHGKAuUhBz+OwxJxEx8ySMbgaBkR/VBOYrMx9jdZcbDJfkTQAoCZie4qr7auy1y39Tek2N8lSXdW4dRxHw8ccqGzcnZl/TUMPA+FxxdNj98cOp4d9uTamSOGtUbY9zLRPS+V7msjWgpSya7cUsREw6AgGgTRDlXInqKUuJHB6FJ+1eK3mHG0ZLWm56bmBmUHGHdxT5uku4IUekmMF2TJgo+sJ+mpZNaf5bTu+uOvcXv3W9UAtvpcBjxUbrHd7a+1AkFvukE+l4FVwpaoSB2OGhHZq1mOQIFzlrOYJIIPI8fE4pWn8/occOiqTLxXw/w8QBxu7Gl08F/xErPFrpbHa6Ih0FcEtOBFXxH00XyjQf6vo8/70SMjEemD+squiDP90b7URxD0qMauMH7Y3vGspCgxtsjVq+FIw+gPE7Q1BhiB2aa6tyXiX7Zy9JT3cuN2D7A5A7Z8WpLuIiK6E8ARqecieDEoUoeoKBkRPmTHF0FD0UGkqdmG5lanDiIOFBi1IH7YbLEvdfzp0rX1CXbxd8b8otQ4LUvKB1dMVkX9X0FY2GQ/OHb5GSfv94HKgFMxb1bM5QBeBqSkpSv3CrLeoJSsT3+cDLutghhXFqbGvZ61riGD7HwpEy4pSokLumevAstTFyuKsoyA3+dOmv96UG6KB0Ybk/UGMFeLKXod4ZheygO6IkjvabnuWl5212nO9eVU/PdZ51zRsYRzaYqwZczY4yDrIzBi1Dj4s2zFmdeAmC8pq7H7pr2cB3vVn0ONBt2FAKncDdFROowZ3nvworvAgqfZDz2ND8TgxcFDduxqbOepY37BXGMP+i5L/XmtaWt1j0DQ/YCG6mYak3RPg+gG4d+wIXr1ny/EtQWqp2lqvrDBFzpEuYgoG2mXcrPFZvSFXk1H8CAwJ782gwkrQJRXkpNgCh7L/WNpukF3GYNEu8wuCWZEa78ovU7NxoiQJehlgiT1fssXLYltVkarTUGLzY7WVqUj46kLT74g0JIyi/UI8si5xayT4hpEdsAHodAa0j+76JnWrMr6F0AwFk2LC8qyA3e8nTdr6JsAXRRMfBdd+ZVZWf8IAdlFKXHHO39+WdWOY16dNOZHd7AIpDH5VUuqCPg2d9LNIV0W4Iy50SALMgf17fTYMdHQ6bq/f/bWHc5ZryPw4CindS0t6arVvLN+189dT/a7Kl/x17XUsK0J4jdDiE3RJX70WYvKBxGq0n548KbwT7RIFa1SexNPOvB1F9QSa3RXNvL1V592CmQ5rivXAJfQ4QhkuerqLuDVkz29+X2gyY7d+9qCFwT+Z5nFfnVvc7TPNQTcQaD3J1l3tGhj+oxAmkH3OwL9SygSLxtjXXgv+rxAkCtw5rtgwl3l1baHg9wlzXwvEJhdUPs+MY0dPUKesvSqEzoozr1QFTJT2jhz6EpAJZfrsQ2J4MmQdICOCESHb/+K4AK3M+wKOh5EewHo36zwy+Wf2d/paVxWZb1g7B9SlBI3JWQAH0BHsiq2vAui4UUpcUHJBeEOdPNmxYgo9ftLVzZmuDM+EMcI8k7Faq9gpsLi1Ng/B6KNnthkql6cw4zHFMbM2ybPX+3J3GAeazTIolRRPSgZNTwCg6O6J+0UwQXBF/bY3ef36nJXgQ7nk3Oh4PIb8+HoBOf8orl29TJck/ccPq/+EC8uOpyF7zx/evqlHbxl7vAf9GpwNwOcyTrBaDDX2NT2oaEsaUm684lI/d1zN/PCle/CQYjvilNvQa2eOC9cMy+64o4TAYrEX6Zg5bInsG3r5k7XWFcBL9egi2sTgN72WZB1CtJOIQR+vsxiv663OdrnGgLuIKAFL9xBqR/GtLdfahQZimK5Y0ZHqyelmgAiqN+w7ZCop2y/CUqnl1laN2rYhB8Cc0xfZTKkImblxtK8k58JPwS693j6BAyNGKS7kCBlgPhsAMN9iI+o2fqAQaVRbH1rVQ12uKM7q7L+7wBfUZQS33turTsKw3xMVmX95wz6pjgl9re+giI5GfphNhzFiBjOEkeTBB0YNh3okE3Xumf1emxrK2f3v/zf7GEnKsybienGF1ftC9rvd1bF99eBpGcVRsKy1Lig7sjxxNonjrbLuo0AFeZNuvkW/18FgbOCMUm+B4T7hUWCU2iUUyc4VyvdzbzorizElY/MWV9XgY2o6CFHANXcdEDlTxDBi2PiEjwig/QGddFham8HISO9YrZYD9exeKMwCOakJcnpRPhQmCra54o2uu5KT5kQQoenQa3urpHuAlbOAY2ughcnTkjuxL/RVUCuO0L9rjDo1CEQKDBbbLnuYqWN0xDoCQHt7TiAro80g76wjZ0cGDZYj2FDfVM6EkAuemWKIAbc1Z56BqDGbLEZvFKkTQoJBGabNn1CIH1JbqLv+/GGBEJtTqQl66dKwDRFQZJEfCoDCeLW4oaLB4jwNcUktuhO+u1U7PryyvfeeudlN+YdMSRzbcOdxPxQMNb4e+Ovv+dkVmzZQ0RveluGM2OifqJOwlQmZSKYTgVwEoBxvdjNAG1hcB0B/2WJLYC8rryqZZOv/b1yVkwOASa7pDvulZI9W3ytv7/0ZVVseY9I2luYEqv+ngezmKoXm5hxMew0M2/qzbXB7IuntqdP1E9miT8V80TWWuzR3bfF7I3zwvEiWFL8uJo58WN9XacsDdeXQueAxey5OR1ZHe6Qf/Zmi6c4dDd+265mtFjbOJCY+Pfl1faw4kLpS5a0czaGKPNwZNS4XhfOQS3XgIM7wQvXjoM2W2u3mRfOAa+uuqM4rgOHDkcHwu6uD2cyVzD+ZK6xhSXZuq++b5qewwhowYsAuhrSk3UXMNNbwiRRWylqLDUBtu1uQUurXYWCgNvLLLa/abiELwJz8mvnMeFFBs8rzZ2gssFr4h4CMyZiOMmRR7OijJDAg0CQWYFdAg6Jly2WW7eXfYpdQtsc06ZXGHQZA9/prMppy2/3nCAyu3JLFoMKJb3ulDcmjfvKPSu1Ud0hkFVZLwIJDxalxLrVci45GYNioLuAFGk2E59NwBjfocvfEfC+wigtr7Ev94XeeecNLQfR5KUrG488VvbFAv2g45K1P5ytsPI+SZRRODW2tB+W9NsSJsviSaxgPcB35E1a8KjfFgpgxekGubY98IsxIyIRHanr0tqeyBRdAw69nbCLk3OHvobv/ovY40/F+28/rXaI665zhbNR/RG8ECTOogOcQ1qibTFr1iAkSYSdsT07CePsJP8g/iY4pGKP8v453bkM49Vnb+s1qOVJ8MKZq8LBc9Fb5oVz8MKd66y3r604dBSHj20P73SNudr6Qm9ztM81BNxBQAteuINSP45JS9J9Q0QniCVHDovEkOiufyj70aQBXUpE9UV03yGKznbM6vX4aUCN0hYfcAQyTHXVADeW5CamDbgxIWpAhqm2QfDUCfeYsLQ0J/EqT13NWrNlMiT6lCBlF6YcW+TpfG38YQQu3/DT4NZD1gOsKLcUTz/uyZ6waUttVnlQsh2liD2NFw/hOqntdFndb/GP2zlQFLcqRnYB/IbC0kura6xV3u7bvFkxYrFXlq5sDNr086yKLc+CKKUoJe50b3EIlHmmqiXLFHAc64el33b6FQcDxa7+tCM9SX6ICaK7U68tU7viDXAl4xR6euM2cPjn0OdKtO7MXeA4/XbuJJeRudDvZSOdT9VpmbnGmtmf+zKQazkTucYdHd2JP8rVrt54IpwDWb0FtYRuZy6UnjIvugpgOXNYdFU20lXmRdPBRtx9g3dJrtt3N3d0JyMJ55RV2T4YyH3T1g4dBLTgRYDtpTFJvgMElYyyLylpAeaW1+bs3NuKQ81tHVE1tmKvYQy5ibML6m4g5qeZKbM0L2FZyDk4wA5lmDZNAWidsxlMlFOak/CEJ6ZduK5hVATz1wR+pnBa/F2ezNXGdkZg7iffTJB0+q8InF2YEt9lIMiYpLscRDd124FGR4hs70AjOJX0sgS5hw4KjkCG3caw2hS1A40g6RNBZaWboAYB7ynEi8ur7R5lHVyRETNFUrCOmLJfXLUvKANdcyvqx0tAxc/cIY8WT4vPD+Zr2FS95EJm/jcIl+clz381mH3pi+1pp0ecSjrlC4eOcWOie/zOuHZnEPO6vx03VgAAIABJREFUalXqThcHx5jaLyqPIALtqZNcVy+uXXFtdEfq6A5fRsP2po57gCTxBR9W9Uze3Jc9CLS5aQb5cwJ+KewS5PriWb0ncQSrXK+DrkqFRPvb7rrQ9ETY6arLtSON41oSdnZH2Om6765BNjG3q0443fn+w44m2O1twW9FkU9Y/Vnzd4G2l5o9wYmAFrwIsH0TpHuRg9WUtKHCtHDOvmhpVbBtt1NDCaJkc7XVEmBbppkzAAhc+xzrtx6sE6St35TkJs4eABNCeskMU60g5jsiUMGEi0pzEtUe9+5KVmWDyJL5qSglTtsnd0HrYtwl6xqMisJlBKQVpsR16viQZtBlgulOIkx0nSoerAdF6lRmfBGs8JWIAEZTi10NLttsXWZniE4ND5ktNtFxple56ryYB5hwt90WPeSV97cF5Sl/ZmX97QT8VbE2xy07K8EtUttegRmgAaaqxWtB+CE3ef5FA2RCwCxrNMgrAZwnDBo6WMaIob23xwwY4/1gyP5DNuxp7yIBQq252jbBD8sErEpjsv51MF+iPqPHRGDIoO670DiccOWeEH93EKw6E2x60ypVZEY4c1Q4giQiM2Nc/MmqCYKnQqwz5czf4ZtN1VhT9voR3Ua6Clq5kox2ZXNXG2VTFGzd3vH8vs9ssfmSQDxgrw3NsP5BQAte9A/OHq1iNMh/+XnCvWKSOBUTkf5wlO27W9DcznUB0Ktmi/XycMRB87lrBGabNuUR6HEmZJTmJHp0yqth2jMCc0x1RQw+Ig1Y8F9AJ11cesv4ancxzKyoX0YEkUYf6+4cbdyRCGRVfH8FSHpJIeXUZdOO+1KMSDdEnKZAeYiAToEhUf0huiMMiZZ7PRX0BdbiPn3gUFsg40jhpVay3/VxNX7saa0rZw37HODBL61sPNEXNvW3jrnMOt3ahgoAGwpT4q7t7/V9uV5+1ZMLiKQnCDwzJ3m+W8EnX64faLqc22MK2wTPgSi1ClfZurOpI2DJoNxyi7UgnLAwJssLwXhM+CxKu8UhoyadERC/BSJzul3MZostXcNIQ8BXCITv3ddXCPpBz3njEdkcI39LwDFC/bAhevVfOIlLhxGwXfpl+YbW/4YTBpqvPSMw95HNw5oi7KKF36cluQlzNbx8g8Dsp78fQc1qJ4nuyB1X2mWat2qBeyfLWZX1gujvj1rHkb7tT2ZFw50Evj9SR0e/PDV2lzFZvgPcVmLoEMFZIU6Ghw6SB+TlymZn7D9kxf6DRwQx9gKUa7ZYX+wOhXa+i0VLVzbe2jekBmZ2ZuX3mQSpSCLlzDemHffJwFjR91WXrFsyqkXHG0H4d17y/Pl91xgaGowGeQ2AVOFNOGdfiO/2nv3tL6WMbaPG245dtgztrIyhsde9eZE2SZ5OCtTvuCwTxo0OzwPGnnAS14jT78CDZovNLZLp3rDXPtcQEAhowYsAvQ7SDPprCfycw7yjR0Uhspe6ugB1xWOzRC31jzubYW+vqWbgb+UW2+0eK9ImhDwCswtq/0SM+4iU9BU5J4f9CaEvNjwjf/MsUC98BUTPlOQk3OjOelkV318Hkp6NlGi0eOl2Z4425kgEstfWL2HGhdtujZsq2eTnwJjlPCpmsIyYIfoO0s2BxFCUkew7aMXBps5BDMFbZI+xX7d6NTp9MO/cmFmQUArQOUtX7gtKUresyi2FYIwrSo0/ayCx7+va+VWLHwPRJcw8c+Gk+VqHoHZAnbvBiT+F0zOZ45pSmLF1R3MH1wUx8spqbKa+XnPBON9okEVnFbUrkgheiCCGJocRcM7OIQXnlH2mkXVq14fvENC+bb7D0uea0g3yuwz8RigOJ/JOZ5JOgL9WYuynuD7s+hxsTSFSUhAd3SxPBtFpDOVkAon0bdFtYjSAGABR7TBZAbUlmngR3crE34Gplpg/j4S9alUN+q3W+zcFXx6jZ3kjwKtKcicEbYeCQLr8Zud/9QCRdHfXNtF/GcpaCVKlJKPynQUJavlCT5JZ+cNMgvKBJFH6G1NjtQBTb4B183lWRf3bLRvf++W+568f5MjKE0OjIiQMHxrRL+UhnpouODHECZwLJ0a1IknzVle1dpAgzps19FmArlu6sjEon0nauupgDUA3/lweFbTtAAtqnpqo2JUagO7Km3Rzp6weT/c+FMcbDfIKABlt3zsdjhoZXuUCuxtbceBQR9zxS7PFdmoo7rM7PqUb5DcZUPlgxP1XBI81aUNAkDuLA8h2OWi22IK29bW2p4GJQFA+KAQmlL63asakiF9KivK5Q7NIBR4RE9pEUZ2IoNra9f22vMa+3PfoahoFAmr6I+NcMEQ9YopPUGH8F8TlEuHdDz3sOODN+hmmTQ8DdAcxpazIS1jrjQ5tzmEEMkybygAyArwbkNaBlU9B9BcQJZfkJHhMmHvp+m0n2m2tmwmUW5gSG1a10b68ruY89NdvD755//HOOocP0avZFoEue/a1Yn/nLIy9DGSXW2zvCdvnzYrZCkbD0lWNUwLdl67sy6qof5iI/q8wJfboYLTfYXP++sWFkPhEvRUzF0xb0BjMvvjD9pmT9EmKwh33wHB6aXXhMACDLyq32D0ib/bHngyUTqNBPw9gtQxOZEWLTJz+ElcSTbFuVx1t+sse13X2HbBC/GsTKjRbrCq5qSYaAr5CQAte+ApJP+lJN+hvYvASh3p3mY39ZI5f1YpTuh17Wg6vwcg319gW+nXRMFSeNjniVFKUy1jhLCI6wc8Q7APzMklHr31YZevUIcFX6573t7qTdDJvZMIrpTmJ1/tKbzjqmZX/v0Q7KTvfyz11t8P/jIK6i9U9ZDIsz0uo8QaXrIr6zUT8cWFK/Dxv5of7nDSDPofAHenZOh2pLPfRkbqggebgITt2NTrd39XnWs4cPyLm/dYI+14m/OWl0sb7gsahdkOvWNcwqkXhCiYsL54Wd1uw2e+w11T95BxmWs6geQsn3fxSsPrhb7vTkuS/EuHPjnXCoXxElPD+tKu5o+0lEb1cVm290t9YB7L+6dMxNKpJFkFYtYWTOy1T++qPo6NI9KAYvPJ0nto9RIijk0nToUb8Pf86/G/DR31dqk/zf9zRBGt7i1RinltWY3+zTwq1yRoCLghowYsguCTSknUvENPVDlNHD4/AoKjQSlETbfd27G6BqKlsF42d2MfXZtok3SxJoRvZpTOB8zKilWKknqDX66CTSO12I/6XJICIVJIcZoagI7ErgGJXIEj6Wm2Kmioo2tt2JwxUgemZ8hrrP33sGjLyaxeBcJ0kKVOW33qyaKGqiY8QmF1QewqBPmdWbi/NnZDvjdqsyi0fgGl0UWpckjfzw3lOerKcx4zHHRiIEsJRwyOh1wXfz7e4P+zc19LxEiR8GjJI99TImMibmGjSS6X73O5iEyjXRFbF99eCpOcUxmnLUuM6MiUDxT537chf/+QaEHbkTVpwgbtzwnWcMUn+BITpwn+9TOqLq/h9DFURh0ricEkVQgPpbBPLPlXLRsNajAb9Kz+XNl/Wdh+T1YCyP+W2B5fjxAnJnQIXjvUcAYxPP/43Xlw0cDy7LoeQ280WW1Bno/lzPzXd3iMQundb7zEJyJlGg/wfAB1EYKLWUtRchoKIeuhte8QDrePFl7636axnfrQe9aHg30D7YEzSnUcS/ZEZM1xtEe3eBkVKiIrUqddTX9u/idBTS4tdbXErfsSsto5g1OGlCbUAPWautvqsNnz2oq9/SYqykZmeKM1NyB1ozENt/QxT7QYADSW5iZ1acrrrZ1ZF/XOQ6A9F02JD46blruN9HGdM0l8P4mccasR3dPSIiIAg5fTWNXEit3NPc6d7w5iRkSj68GBQPo9kVdS/K8q8i1Lj5niLyUDPM1UtFkHtpySJz84xLPhwoO0J9PVFi2KGUiViF8LW6CgdxgwPTf6LPY2tEOW8h4XPN1vsgvsj7CUtSU4nQsf35dijotXDHn+II+vix/o6PHb3+b0u4Rg/YtS4jrHNTQe6DHz0qsyDAS6BrkfN1bY7PJiuDdUQcAsB/3zL3FpaG+QJAsbTcSxk2QxGopgnNm7MiEj1pTOYRbzcbt9zOB0RQDMxjGU1tspg9isQbE+bFDmB7Mr9ID6ijajI3BkcpVMfuvwp4qT1UJMNB5ptOJxU07YiA2slBX/2FQt1hqnueRAulpimLM8d/7U//Qo33bPza18nogtKchMGeeN7ZmX9Hwl4VGuX6j56rt0NxL3+KPGCFAK/2ja7opYIOoKbRLAT0eQPq6xelSW5j6pvR85d+/3ZEkvvE9HcwmmxQZkaXVBTMJzt8gYQSnKT59/kW4RCV5sxSXc5iF52eNgfJ+/9jWbjASv2dnAXqKvfY7bYHuxvOwJ5PaNBrnDwhcUM1mP4UP9wEF142d0454Ib8f7bT+OtV3vfggefWafCdvcNU9X/dWRm7N7R0PE3X+MqDq227z5cGkg6+aSy9c3f+HodTZ+GQAg8BoXPJrYTeIpTHtEBQpVRwyMwOEhLSJpFCvHelo62W21vtDzLXGNfFT676h9PjcnyQjAec9UuHrBiBun7va2XKDURpzfin729FtJhG4OfaiR7TnU1HAxPXoGSYdo0BaB1DH6oNHdCN90yvFId9pNmm+ruIvCDJbmJXv1mZK9tuJiZlwV7an1/XQjt93oRwFVZ2gUh3FEjRWp6f1ng/3XaAtfOGXf4QrbZpr2/EQf9v7pvVsis3PIMgdKLUuLUQ4VgFFPV4ocZuJIlnrnQsKDX7kHB6KO/bDYa5L/8rPteh/6hg2WMGOrf0gF/+eKq9wjydOJ/lFfb/9Bf6wfLOulJumwmekPYK27P48ZEQ3AS+Vq6Cl44AhJR0YebeWzd8lW3wQnXgIavbeyUdcH8grnGfo2v19D0aQg4vmsaEkGEwIyJ+omShHcAjneYPWyoHsMG+yfa6y9oDjbZsWufU4SWJOgNt7+ln3DZXSsWTtB6y3sJ/MxkxCuK/AwIs5xVqEGLwTJkncotNWAiikj2H3maI+z5nyThxr6Sembk174KcBoIU0pyJ/wwYI6G2MJzTF/9liG9DaLUkpwEj7Oisiq/MwC6aiZcXjwt7tUQg8fn7qQZ5EoCpgnFgnfm6JFRfnkg9rnhHipsbVXw0+6OlnqCWOcNc7X1Ug/VDMjwuRX144lEe1ReXJwS/8CAGNHHRU1Vi38Fog2s8J/yJs/v/Ti3j+uF4vQ0g24JgToyVkIhA6PxoBV79x8+SyDCO2XVNo0LpZsLON0gV3L7/dpf++9O5kVXwQnBk/GLib/usLyn4EZfvp+u3WgUkk5ZXd2qPcv3BVRtbrcI+D48qIHtdwTUcgDFXgzgNMdig6JljByq7zNngd+NB7B3fysaDzrXUGJXxJmLvpOPOztZrE+Ej0ihv0uSXPJ2zgl7+8OmUFgjLVk3m5gEGeZRDn8iIyQMHxIB8b+BJILnZO9Bq1pS4ixEdEtZtfVJb23NKKibAeZyYtyzIi9Rexj3FkiXeeeb/jtegf5zYjzgDa4XlH87PDJK3syMfxanBm9HBh/B2aMao0EWXUVyHINCvZuB60MvQPPNFmtHh63+wNybNRylUAojdllqXFAGSvOrlohA4smSzjozJylH+6315kIQLcddSNVFNuzI4RFBWeG1Z38r9js9n/38Uv5uucUmDkO6ILDyErAQm2Y06OYAtNzhlj846dzhvHAOXoj/Py7+ZDjzXPgr80JcGD85dRgBUGC22DTusRC7zgPJHS14EUi74YEtZ/wKIyL18ivOnSN0koQRMXLAdiIR/Afih7HV2qkjRQ3bpcuHzPvyPGbFtcxBHMk9z4QVpTmJGolYD9dHerL+RmZ+ynnIsCF6iH+BLAebbNjTaHXuMiPMXWS22G711u4MU63oPf8rbmmeUnrnaXu81aPN64xARsGmKjD2leROSPcGm6zK+k8ZvLc4Jf4cb+aHw5x0g3wuAx1lc6HcGtt5P11IAe1k1/2ibENLbaDu+dziYp0Ul7KGiOoKp8VeHqh29mRX/vpFs0BSKSn4v9wp818MRh8CyWZjku5pEN3gsEntCjQsAqKDVzCIojB27Ws93FWkzejlZouacaEFLnrZxHSDvpDBWWKY2PNjRkf5fNt76jYiFnMEJ0qXFeDyG/Ph3HnEEfxoOtjoc86LTvdvwrZI2Za4ah0afQ6AplBDoB0BLXgR5JdCukH+GwOdesuLqH/MUH3AtNITP4r7DlhdGKsF8PRqZKP1D6u+RsusgtqJEqMHsjauAKQVrKOS0lvGfxHk2+ZT89OS5T8R4z6HUlFvOSomImjIXEUWxq7Glk5tVhn0WrnFqrYg81Qy8jfNAlEpgXJX5CYUeDpfG981AnNMtUuZcEVJTqJXT+NZlQ2iKf2MopTYsRrGXSNgNMifAThdfCru44LTKFzkp13NzoHtt8wW2+8C1fesiu/ngqRiiaRz3ph27AeBamdPduWvX/wfBu1bOPnm3lsXBKOD/WzzJVVbR+/9+4L3W9a/3dEOWjxgjxgWgSHRgd3a/lCzHXsbrbAphw+WCPzPMov96n6GMWiXO2dK1Ak2m01wxqhRC3/xn4gAxVHjTsTKZU90EHc6uC9kfYT6921bN6vBi282VXd0JnFkYvi6bKSLzLmrzBbr0qDdSM3woEBAC14ExTb1bOTMJN1FCtEiZyJPMUNwHAwdrPdb66ZeoWNA1E42HrJ1JuUEbAS6tcxi7ZQpkGGq2wRwT8RnNmJcuCIvsaTXtcNkgDFZvh+MexzuivKQ0cMioBtgbgtv4N+9rwUHmtp7yQsFhDfN1bYjOqW4ozsjv/ZdEI6xyzRl1YKEw+Qq7kzWxnSJQIapVgRJ/+Y9aeeWh5jpTq3jSDeBiyT5dhAeEZ9KRBg7OnLAOWr686sgMvO2OfFfSMwXf1hj/1d/2uDuWlmVDW+AeXxRatxkd+cE0riC6iXXKszPsR3nLpw6/71Asi3YbMmurJ/K4AcAmilsP/jO31Yfev+ZTm3JB0XKGB6jV/lrAkkUZuxrtGK/S/kmM/5cXmO7P5BsDQZbXFtbi8ybwX4IXF11y2Kcdc4VnSD58rP/dGqhKjgyZs29FbLcFgAXQYu9u7fhxAnJPmuXarMzRNBZHFCqEkScRcFwPWk2do9AYN1JtZ3yGoEZEzFcJ+keZdC1rkoEgZCI/Is0xv4QcUMT5QCCrbrjpnZ44bdJ1t1e9umRKcEZ+XVLQNxdq7adkoSLlt+a+FF/+BAMaxiT5HtA6HjAEO1PxY9lMHckECRhIuDVIUyvm2usv/d0PzIKvroYLC0jCdevuDXxOU/na+OPRMCR0cIsGUvzxpd7ilFWZb1gqv+7oos8ZtmUo37ydH4ojxdlgBF6+XtxYCf8HBETgaGDAvu01h/74VJvX2O22Az+WKcvOrM/2TKJdbQGwMKilLjFfdE1EHOf+u9TQ5oPKRsBfj9v8oLrB8KGUFgzu6L+UgbuB+FEZ3+Y+erdN5/0JRM/w4yJzp8NH6LH0CH6gODCEM9nohWq3fHi2VYb8qNO4hs+rLK/Ewp7NBA+pJ8x+i0+tLeD3FSQLQca55gvcGEGtu9uRktHGTh/p4+0J79Xid2+0K/p0BDoCQEteBFi14fRIBuZ8ScidIr8CzejIiSVDyMqUvL5iZ4IUjS12CHSD8X/diGfi9OJcotKNNqlzHl80wUs0VtdfPi1xJS5PC+hh7KSENvIXtxJN+ivY/CzjmGCsFVkXISCiBIj8a9DiBebq+0LPPVtTkHtf5gpoiQ3IcXTudr4IxHIeGJzPBS7KNlaVJKb+CdPMZq75jujJOnKmPnc4tR47bTXCUCjQRbdKtT2viLIPHaU7+ulPd2vgRgvfke27mh24sChgEtBzq7Y8hCTdLNSv2/0ssxTWwcCp76saapacj+Dr5VZTr9l8g1aCaaHYGZXbPkTE3WUaR4x3UYTis6MVflajAZZlC124m/SSaRmxA4dpAMNwEnDAXGwdNAK0arYWQj0WgRbc1bVYIeHkITt8PNW1kUOHzl4ssLKFED8oylsbT5h9wO/2a/s3KIGomVJtLmO7Pf29P7elJ17WyFKRhxCjLPLamwaN52/gdf0qwhowYsQvRBEKQkT3crAGV25KB6QRTQ4KkKHCD1BkH16IuIhU0RcBflmc6uCltYuAxZC5ZcMWlRusT7fm/5zHvtpcITUuBsE17fwz6DTZZbcclJdbzrC4XNjsnwOGB0vf9GROowZERlSru/bb8U+pwwMYuSV1dhEFwa3ZU5B3eXM/DKYryzJm/Cy2xO1gd0ikGGqrQSzUpI3YbqnMF1q2XqcvUXZzOC7ilPi/ubp/FAdf85pGGyTZZGJMkT46K9U42DBT3zvxfe/XQIq++LCdQ2jIpjXEPBh4bS4m4MFU4edBdVPnaKwyLrAfXmT5mtlAW5uYHblt8cz9H8BeF4vU2qLUuImOI8RB0oQGRpAqvPfRWnY4GidWlbg76xYwSt1oNmmZsTa7S7cm4xaJv5TTwdLbsIU8sN+9/H3J+plKUW0DAez+A1U+YlcpemT1/944I27RYBfDWDoZVKf0Qa6Vb2vNmjXvhYc7FTiSzeaq63P+Eq/pkdDoDcEtOBFbwgF+efpSfJMJroa4OyeXJEkUusxxc1VxDHEgYA4FRAXiEgPE7WRgsvJrigQP4TOqYbd6F0F4hfN1fZlnkA4x1Rb4uigwoSlYH6PQG8AgrATmSW5E4KyJZ0nGPQ0Nn0qjuZWuQqEWDFOBKCOGhkVklHI3ftaIU6JHEISzimrsnlEjjfHVLeeoewvyZ0gHiA16SMCGfl1fwfxH7zlvciqrBcnkuuLUuI8LgXqo+kBOz3NoM8hsBqY0+slHBOmWReODRKB8R92NIPFD496wsJzyiz2gOA5yqysv4aA56HwlKLp8esD9qLqxjBT1eKlDJxGrdaZuam5Wnq3hxuYWVn/CAG3dzeNGG8UpsZd2tXnxmT9H8DK7T8TlY93/VwEL8QhRFSkDpE+Ku8VmRUiC7apxdaJDNtp7V0E/K3MYtMCyW5cB5dV7TjGamteCkaP3bKIYC6cFpduTNKdB6KVDtVqAGN4VNBnYIiONCII5hBm3FdeY/uLGxBqQzQEfIaAFrzwGZSBrejMJIyRJf1cYv4t0PPNtw+eVICxHJLuTXN1y2Zv9MzO/+pWIkmkWj5Zkpt4i9Ax21R3NYFfIMIHOugz3845IWz70RsNsiCwU1n4RcBJpJcHGgmYN/ve3Zztu1vQ3JHVw5uVZvvE1V/igLtrzMmvvY4Jz4JobklOwpvuztPGdY3A7Py6W4m4wC5TlDdEqFkV9YJI9diilLhfaRi3IWA0yOIkXMUjXFqj9rb3zq33CPhXmcV2cW9z+uPzzMr6VQToi1LiVHLGYBJT1ZPnMOg9Yvwhd/L8fwST7YFka2bFlkt+5tN9FqCYI+xS+Kai6fFP92RvmkF/rUR8gysfhmOO+F0XAQwR0NDrCDpZgiwRRBexrkQE+wTPmM2uqKUg4l+L1X5khkXHZP6OQM/YY2xPrl4N0Y5eEzcRyKz8YTrB/gpAJ3Q7hZUri1KPUzM90wy6TAIVOcaKw8GRwyMQ5aMAlZtm+2SYCCbvFK10mztlWT9uttg6dTv0yWKaEg2BXhDQghdheIlMn46hEYd0aRLRGQpjMkk4DYyRHkJx8OeX6I0griIFFXbZvnr1evSZhG+Oqe5UAJeuyE1Q678dMie/dgETFjH4nUGNtsxl9wZfrbGH+B4xPN2gv4nBSxwfjBkeiegoXV/VBvR8keWjslm3n8KC+QVzjf0ad42eW8y6Qw11GyXg2xW5iRnuztPGdY3ArMdrz5YkvE/Es1bkTFjlKU5ZlVueBugGreNIG3LGJPksEP4j/r/IdIs9Ojoks6g8vU7EC9iPO5s6ppHeNrZsHbZ5qseX4zMrv59JkD6A08uJL/X7W5epanEZgKbcSfO1+2Afwc6s+P5OIukhVzUKyacum3aMaJfZq6QZ5N8Q6DKAMwXVTa8T2rsQiRuEyIxVM2KdyDZ7m0+Edxj8mqfZsL3pDbfPs9c2tJWjdin0VVFK7CnOH7kGMMRno4ZFqiVDwSJWmwKRcSHKxB3SnrXTbRZSsPim2RmcCGjBi+DcN59b/ZtkHGO1yydAx8cC0mhiHqoQIkUFCQOtxLQfrOxSQD8SbN+ZayCY8ftVMgrq7gSzeGB4vSQ3MazSzmdMRaxklTf93KpykAA9Zogegrk8HESkKIofzsPC55st9hXu+j7HVJfDIi2feXZJ3oSONE5352vjDiPwm4LvjtFzyxfM9M/SvESPT1wy1zbkEfPjyrRYeRlRt0Q54YJ5epK8iAkqGa3oCiUyLzRpQ2Db7pYOLiUiuqms2trjiba/cROBNwLNKUyJi/P3Wr7Wb1q/+GomvMCMWQsnz/c46Ohre4JZX1bF91eApJcYeJQIKWCcpfrD2FGUGneUp77NmIEoatSdT8B5gGQEON5THd2M3wFQOTPeY8m6fHU1dvpIb9iryVzz/b0kSUeWSrByXVHqcUfwu6Ub5HMZEBkYHdk6QwfLGDE08O/3Bw7ZsLuxMy8xAXeXWWxHBO/C/sLQAOg3BLTgRb9BrS3kCwRmF9Q+QIy7xQl8Sd4Et0/gfbH2QOowGnT/BOgqYUM4diNwIYjaYLbYOrWg62lvzn/0q6F2PW2USFq/IidBnHJp0gcE1C4uoMElOQmTPFWTXVF/IRP+DUjJRSnHWjydH2rjjQbdtwAdL/w6akSkWvOuSRsCzg/NDLxbbrGdN1DYZK3ZchIkaQ0D/yhOie2UFThQNrm77ovfvhi1Z/eBjcxYnTdp/hGt1N3Vo40Dsiu+T2eSigH6oCglNnvup9vHSvbmAoCyGXirOCVOLensi8wwRI6X2DYZEomM2JMBtRXrOACju9Erymi3gvEdCJsA8VtH1R9Wt37eFzu0uV0gwEyZ634oJuaLQVgGxlwmQN1rAAAgAElEQVSnUc1KTOOwZad2nRWcbog4DaS85FwupJcljIjRq8T5gSZ2u4I9+22dOoqoFHjM88pr7BoBeqBtWJjZowUvwmzDQ8HdDFPtEwAEH4Zo2dipDVko+Ofqw4xk+QyJ8bHj7+H4kiMIYn90aqFIRLeUVVufdHe/5+TX3s2EB0CUVpKTsNrdedq4IxHIKKh9GowbvCHtzFrXcDoU/gzE/1c0Lf7FcMZ3xkT9RElitf2zaJ947FHR4QzHEb6Lh2dB3OkQJcYWPVA1+lkV9beB8DeC7YTClBO+C6aNyl+/+F4Q3wQ7ZuZNXbAhmGwPJFsvqfj2ZIXk4p8JO5sKU+KmOmybW1ysk2JT8onwTWFKnNu/SV74RjOTESNZobYWa5XQiuE4sHo1DrMneqFUm+IeAnMr6n8lERUDfDIYjxSlxt2ZXVm/joEpqgZW7ixKPe6RnrSdNx6RrcP0zzPzFc7jBg/SYfhgPXQ6z7r+uWe556P2H7Rh74FWtTTJSSw6pus+qLFWea5Rm6Eh4FsEtOCFb/HUtPUTAhn5m/4Ooj+A+OGSnAl39dOyA7KM0SC/A+B8sbhoqyZaKYajNIof1P0d6Ys/mC02teOKO3L+E58frdgjNxJh1YrcxN7a3bmjMmzHZORvuglES6JbdcOX3XHSPk+AOP+Tr4ZGS4MFme/rRalxIR947Amb9GT9LcwsArFh/b3uCaMfdzZD1FsLEWn1ZRbbu55cb74Ye++9LP3vNw1rxOl2UUrcRb7Q2V86FtU8m2CzWzcqrDx62+Rb7u2vdUNtHXHfitINLiZGso51k1+fPu6IslkRmC2aGqsFh0Jt80Wbu3U/XEKK8jpAOwC+qygl7gXh5iVr609TmN8H6GiZmoe9Ni2h0R33BWlre4epwc7jYwbLGDpIBDEG5tVMZLvtP2iF1bWdLrDIbLGF9e+1O/uqjek/BAbmG9J//mkrhTACs/NrXyfCJUTSPStyxj8Yiq6mTZKnk4JPHL4dMzpa7RkerrJ1R5PKrK6+zBDdWlZtXeQuFo6SI8WOaStvS1zn7jxtXGcE5pjqfs3g1QD/riR3wlue4pO1tqFSEAcWTYsN6/a1RoO+qJ2sT+sy0s1F5Nx1ZKBa8mWvabiYJV72c8bQBUXT40UgOWgkf/2T/4BEycwRMxdOuk7jPPBy57Iq68XL6tUEpBWmxGmZe17iGIzTMisbHiSwOCBbS8CdrvufvabhckhILUyJvcET/2YmI55Z/xCDj+BvGxItQ/yLiPB/JobIcDvQZMfBQ3bYlMOEnOozFlDFhLvN1bb3PfFNG6sh4G8EwvctyN/Iavr7BYGMgtp3wDifQLkrchNEi9WQEqNB/wrAlwmnwjnrwrGp+w/ZIF5o2mWT2WITNcFuyQUF3x5vY6toS/laSW6iRw8abi0QJoPmPL5pNEv0BcDLSnInzPfU7azK+td+fhA8tyglbpSnc0NpvNGg+xqgk4RPx4yOgqh/1qQzAs5kvQSUllls/d4pI3tt/esMnFY0Le6XwbQ/BdWLjQqjDMTX5iUv+Hsw2R5Itmatrf8rGH8m0FWFKbFLA8k2zRb/IXBeXV3k0J3RxQQWWa+vkU66s3DKsfVdrTj302/HLptyglfd9oxJuvOY6C4CznDVLX4TBkXpEB2pU7nOfCV2O6Op1a62PW1qOZI3m4Efielhc411sa/W1PRoCPgSAS144Us0NV39jsB5T9ZF6mxcCiCdSLpuRc74I5ie+90oHy2odoBheatD3dhRUT79AfORmf2u5oftTRAcGEJY4QvKP7O7fRo621RnIuYbFLJPWZl7ikZo5uXuZZhqPwQwtiQ30eMXuuzKhvsZfE84t0sV7aojm+SOFOP4sWoTIU1cEBCtkrd2tEyl780Wq0pu2l8yd+33yRKrRJ1/Lk6J+1t/reuLdfLXL36fJNhyk+fP8oW+cNSRVVF/LQjPgXFfUWrckd0lwhGUMPB57tqtyRLsxWCcCMJ9RdP8v/czk3QXKUTiMODXXUGskyRERUhqNoYIauh15FZ5iWgzL+6jov10i9Wutjt1bnnaeS36DsRPjTrRVrBsGcK+G1gYXOpB66IWvAjardMMdyDwG1P9SD2aSwGexkyXl+YlvBoK6BiT5YVgPCZ8EWzUR41UebrCXvYesKLxgLUNB6Zl5hqr2x1Efvt43S/sEm8E0aKSnIS8sAfTSwAyTLWiXGeBV6Sda7dcBaZ/kk6K7+4ky0uzgmaaMVlvAHO1MDhCJowdrZF1drd5W3461PHRYLINXlGNw3/w845nVm55kJhujxisH/bK6WMP+nk5n6k3VS25ksFLFXDGbZMWiOC+Jh4ikL2mYTZLXAyiN4umxV7p4XRteJAikFnZcCWBRYbND2DlrqLU4/q1s0a6QT4T4HkMulQ8+vUEo0QESQeo/yu1v86x2hJE/WdX0HHQ05MeAt5TiF8ur7a/HqTbppkdZghowYsw2/BQdfe3+V/H2aGsBOEUVpBZujDx38HuqzFZXgduY7IeOSwSQ6IDr53WQGDcamP81HEaC0TqbcNWrYNbRFnC3tkFtc8SY65dpimrFiQI8khNPEQg44mvr4GiPC9J8tjlt564zZPpcyvqfy0RVoNpTlFqbIknc0NlrNGguxAg9R4lUoLHjNACk93t7Y87m9RTQyESpF98aGn9X39cB3Mr6kdKRGsApbIoJf7/+mNNX6zxXNVz+gNoFeVxa/Imzf+DL3SGm465axpEJyBx8v5TUWrcWeHmf7j6m1lR/xgRFoLwEUlqmUjFQGEhOpO0DNX9DpAyQHxOD61yvTOR8AGYVoKtb5lrcAQBrXdKtVkaAv2DgBa86B+ctVX6AYHZBbWnkIJSEEaxRJmltya81w/L+mWJsydGJtgle61QTgS1jaKIrmvShsC2Xc1osTq6EPDlZRa729k2s0xfTZIgrQfwQElu4p80TD1HYHb+16lEyhpFwaUrFya+4YmG7P98HceRkV+D+b6ilPiQJNrtDY+0ZP2NxPyUGDdkkKwSdgpJNWbj8hvzERU9pEPFl5/9B4/drTYbCkvZvrsZza3t33WCsazaVt4fQGRV1osX/78TS9MLUwfuJcZTX01VS+5hcA6YZ+ZNXqC24tXEfQQuKd86WomyL2NgPOtsk73lMnB/RW3kQCNw/ic7hkbpmkUb3HMBelEi/Z1vTDvao6C8v31IM+iTf86QSAEUA4hOBSMRwHA31m0BsBmEL8H4jBR8ah9u+3ig2k67Ya82REOgVwS0t6FeIdIGBBMC7S+mpWBWmJBZmjvh42Cy32GrMUk/H8Rqz3hB2DR6uHcns7c9uBy/mHhkCeWeXVvx9/zr8L8NH3V6afr043/jxUW9czBeeNndOOeCG/H+20/jrVcfxCmnn4WkqbPw+vN3uAW3sOuYuIRONrg1sX3QvoNW7NvfVjrCoNfKLVaV1NRdyTBtehlEaRGImPLvnON/dHeeNq4NgZmPbB4WFaEIzpB3S3ITrvUUl6zKhv8RsLEwJTbL07mhMN6YJN8Dwv3Cl5ghegwfoofju/rR+y93fAcdwYzdOxpw9w1TQ8F1j33YubcVh5ptbd915ovLa+z/8liJFxOyKutXAhhWlBI33YvpAzKlYH3BiSzJG5hRkDdp/p8HxIggXzSrsl4Ewn+vKPbUZdOPF52RNAlhBOauaUghiUXgIhYqF1PwBNRnTMRw6CLG6hRlhAIMkgh6SLBDQTORtNcmte5YvR5eEYmG8JZrroUAAlrwIgQ2UXOhMwLtrRxLifATgzJLchIswYaR0SCLlPILhd0jhkVgaLTslQvdBQkefGYdRo6JxStP56HCXOiVbsckEbi4Ju85/Fhf5/YJcV+DF4Jw6qddzW0vNMCP5RbbOE+cmPV47VmShP8w+O7S3AkPeTJXG9uGwBzTplUgSliRkzjeU0yyKutLQXRS0bRYt7vFeLpGII83JssPg6FG+kTg4srr78Wsubeq30XX4KEIFHb3WSD76Cvbdu1rheg6on7XJb6yvMru9xr07IqGdCb+EEzXF6XGPucrX/ytx7R+8XMKcSrr9em3nX7Ddn+vF2r6syrrHwXwR5b40uKp8R5llIUaFuHgT2Zl/TUEPA/Ct7DzXUXT4/v2MBQOoGk+aggEAAJa8CIANkEzwfcIZORvmgWiUgZ/LinIXLFwwle+X8V/Go0GWaQsHiVWGDc6GrLs3Ve1uyCBI+DQdLCxzye6AxG8ELg0bG+C0t51xJta+AxT7ZsATpPp4JS3c5L2+m83Q1NzhmnT4wDleUXaWVkvWrDdHK4dR4zJ8uNgqISxI4ZG4L4nVnqUieQIaMhyW7nJ1i1fdXyPHVlRDd/9F+NPacvWaG46oAYqZ8/Nwbj4tniR8xwRzNRHREHWR2DEqLY4oPPn4r97WtORIfLVxo9x8mlndpS9+KLkZfe+FhxoaiO+J6Y/lNVY/+Hvb1RWZcNTAGcHUztf06dP/polWg2Srs9LviloAi7+3kt39WdX1i9gYBGB7y5MidcC2u4CF6TjMivrFxGwAKAPVX6LqeOqgtQVzWwNgbBDwLs3orCDSXM4GBGYnV83l4iLAazVsZT5Tt74Lnt0B5pvMwyR4yXY64RdgkE69ijvOxH0lOFw1S2LMeXM36kvNUJErb1z2YhzyYl4+dm2dTNiho9RSz1O/tWZatmIpbIUp5x+ZscLj6McRegT2RiOFyHnFyhxutzXzAuhb8feFrVPuSrMV5hr7K94spezTF+dK0FaxUw5pXkJT3gyVxsLzCmonceMFxXFdvzKhb/wiPArs3JLDoFM0c226KVpJ7Sl0ISRGA2y6CK0ULg8fGgEFr+sNh5xK5AovrdnnXMFHOUlrqUljiDD/n071e+q83fRMcc1m0MEL0RQwxFscOj8ZlO1mk3V25qO8WItRzaXmCP+vnLZE2ppmbfiHLxgpqvLa6z/9FaXO/Mu/fj7E+2ytIZAbxSmxOa6MycQxpiqF69kQMpLnn9uINgTTDZkrq2/iBjFRNI/Cqcd63EZXDD5Gu62XriuYZTezsVEMIL4OZ2V73z9zOP2hDsumv8aAsGEgBa8CKbd0mz1GAHHCxbAZn2zkvnWXafs8lhJP0/wZSeCnoIEzrwVIjDhHLxwffFwvLw4ghOO4IXgvPjq84+PKBsRL0POL2OuL1i+CF7sO2CF+CeEgMfKLLY/erpVGaZa0Ubw2OhG65Rl957a6un8cB4/5/FNk1miTwH8X0lu4oueYJFd+cP5DOUdAqYVpsS1XSxhJMZk+X4w7hEuDxuix5JXLNi7e5tbZVeu3y2hwzkQefS4k44oM3H9vjm+j45gpdAZPTimEweNs06RseH8fXZdU/y3uH84gh3iv13X8HZ7d+1txUEH5wXx7/3dzi977ZaFzPSYjpD4+rQ4NYgc6FJQ/dTvFVZeJeLzc5MXrAh0ewPJvqy1DdPA4pCDNhWlxJ4dSLZptvgWAdHpigjFxBgF4M6i1Di1Fb0mGgIaAsGFgBa8CK790qz1AoEM06abARJp6isOjNBnrr4qsE96jcnyHWA8LFyNGSyrJ7PeijfBi7Wrl3XJYeH8gtNb8KIre51funwRvBAkfoLMr12Wmy2233qKU4bp6wsB5d9MfF1pzoTnPZ0fzuPn3Fs1iGNiPgdoTUluwhWeYJG1ZssvIdHnYFxXlBoXdrgbk+WFYKgPzkMHy3j61bamEL2RcnZXoiUCBZdc8xDMpW0VFc5kuuK/3QleuK7vCG46sqtcOW2c13QNfgpdvgpe7NjTgqaWtgwrJs4or7aLgKN/hJmy1zWsYcbeopS4Wf5ZxLdamZlM1Us2MmH9wuT5QdPS1bcoeKct+5Mt41hH/wJjjM6uTNZO4L3DMRhmZVZsuYmIloBoE5jvKkqJU1tVa6IhoCEQfAhowYvg2zPNYi8QmJ1fdzsRPwLmopK8CdleqOi3KekG3XMMUlNXRQtF0UrRW/EmeLHp8zVHlJC4vgC5G7xw7XbiqKP3RfDCmbQTwOdmi+00b3DKMNWK1ouRJbmJqd7MD+c5Gaba5QAMJbmJsZ7gMKdq66BBVttmIvpX4bS4mz2ZGwpj05N1VzLTUuHL4GgZjyx5t0fOCxH4E5kZJcWPdxlYdM6iEjr7I3jRU+aWsMFXwQtBzCu+66pINNVcZRXZPn6R9vKBN8FKZlHqccv8soiPlZqqFt/BwO1MysyFybe01R9p4hYCWZX1bwJ0AWCbUpRyfNARe7vlpDYImRVbniGi6wGslAh3vjEtbqMGi4aAhkDwIqAFL4J37zTLPUQgI7/2PhD+BMI/S3ISr/Zwer8NNxpkkfabIRYcMzwS0VE6r9fujfPiV8kz1VRxwU3hKBvxRfDCUUPvIAoUPBe+zrwQZJ2CtFMVxm5zjU2kgnosGQV1vwfzqxLT5cvzEkSbPE3cRCCjoO4hMN/pFWlnRf0aIlIKU2LPdHO5kBmWliSnE+FD4VBkhIQLL57XZcBQfN4VP4X4u3OWhmvZiDfBC1+UjThz5vgqeOFMzAu7Lda8AT/460LIqqx/jQjTCqfFneSvNXyp94mqJ+Lt0G0EYUle8ny1DEkT9xA4TNiIi7RTePcwC7ZRcz/dPlZSWorBEL8xiyMG6e985fSxB4PND81eDQENgc4IaMEL7YoIKwQyCurywZwL8JKS3AnzA9H5NINcKbgAhG1jR0YhIkLy2szeuo04UsGdXzT6WjbS1UuLa3cTX2ReCFC2/HSoA5uzLDbdvUD7Ea1nkGWYagXvwv6S3MSZns0M79EdgR9JOXn5rSdv8gSNrLUNL4NxQVFKbIwn80Jh7DmnRZ1gk23fCF90EuHYo6LV0o5fTPx1BxGn+MyVK0b8rTfyTOeMCAdRpjtlI74g7PR18KJTgBI4ZLbYBvtr/7MqvzMAujUMPFKcEvdXf63jS72mqsVPMTBDgm1mzqScH32pO5R1ZVbW/5GAR5l4YfG0+PxQ9jVcfcus/GEmQRGE7VFgld9iUbhiofmtIRBqCGjBi1DbUc2fXhGYXVD7LDGuI6JHV+Qk3NHrhH4eYEyWvwDjVLHsMaOjofeyTaqY312QQGRBjBwT29EZwDXg4Alhp3hBcs6qcO1UIOxwZGL4smxE6G3Y1gSFWd0hiWzDP6zGPm+2KyN/0zUgep4YF6/IS/yXNzrCcc6sgtqJEkMQNtxQkpv4rCcYZFfW38vAX8K2XapBPiCqRgRmInghghiu7UjFZ121G3WnVaog0/UkeOHaKtV1XXdapfYUvOgqqOmcMSKysxz3CvG/IrOkuVXB9t0dzWiqzRbbJE+uMU/GZlU2PADw3dFRQ0YsTRoR8K2TC9Yvnq4QPmEFNy2cMv9pT3wN57FZlfW/B/AqMz9VnBofdiVr4bD3WWsbbgVzgSgnBSt3FaUeVxIOfms+agiECwJa8CJcdlrzsxMCc0x1rzD4Mgb9pTQ34b5AgifdINcykKAGL8ZEQ6/z/mvqyjnh8NPRNeR/Gz5S/9TVi4U7rVIdL0iO02BHmYij44Est5GNiqCFqNk/cUKyGjCZnn5pjzX+7u6Hc0q5lW1HfVyDHe7O7TyOKSO/TqRff1eSmzjHOx3hN2vGvSwPian7gog2rshJyPQEgayKhitA/JLOppz0+pnHqVkI4STGJPkTEKYLn8eMiER0pPflYX3FrasOJn3V6Yv5+w/ZsKexjZSXif9RXm3/gy/0uuq49OPvR9hl3Zqfq3Q2FKXEXuKPNXyt01S9ZLmicPTCyfO1DhlugptdWT+DgWImfFo8LU4tzdQktBDIqqx/AcDVILwtKbo730gd91Voeah5oyGgIeD9W5GGnYZAkCOQkb/pLRBdwJAWluaOD5jUUV8GL3y5RSKYMXzk0b12RPDlmr3p8l3wAsgw1d4C4AkinrUiZ8Kq3tbWPm9DYLap9l8E/LokN3G0J5jMXfv9GRJLHxPjd4WpcW95MjcUxhoNsgmA2oN02GA9hg3VD5hbgRq8EN2ERFchIQy6rtxi9UtnmuyK+quZ8AIBaYUpcasHbCPcXNi0fkk2E79BTBfkTr75HTenhfWw7Mpvj2eS3wJzxCG9PHnFpHGHaw7DGpnQcH5u1dZ4yWoXZSJTAcofpj/2zucnUVsvdU00BDQEQgoBLXgRUtupOeMJAsnPVenHHogpJcLZzHRjaV7CM57M99dYY5L8Bcg3ZSPe2OjKTyF0uJIGeqPXH3PqtzWB28tGIvW2YavWodHbdc55bMPgSDl6g8JcXZo7IctbPeE2b45p018Z9GdPSTvVNoUy/ZPtytri6cfdG264pRl0vyOQWqIUoZcwdlTUgEEQqMEL5+AksXRqWU3rl/4AKauyvhSgY4pSYg3+0O9rnaaqxaJUa0PupPnzfK07VPVlrq0vIVCaZLNPeeOM4/4bqn6Go1+Za+tnEVAMZhHpvLMoJT4gnuXCcS80nzUE+gMBLXjRHyhrawQsAhcU1Ay38SDx4JoKSbqy5NbxLw+0sUaDXAEgRdhx9MgotRtBf4ujjCQqekjH0h+9/zJeXBRYHKfOhJ1mi00A1UaA4aVkmOruAPhhAs1YkZvwHy/VhNW0OaavMhlSEZgnluRN2BBWzvfB2ZnJGKaw3MGtcOyYaOj6UCLWB1MCcmpzqx3bd7e028bfmC12v3QAuWRdg1FRuAyEW4umBT6pn2n9k7cx0T2sSDMXTrlpfUBuXoAZlbW2/jkwriWJMgqnxpYGmHmaOX1AwEG+CqAaCt9VND3+/T6o06ZqCGgIBAECWvAiCDZJM9G/CGSYNh0LkHigOQ1EmSU5CW/6d8WetRsN8vKff4hV3oXRIyIxaABr4QcSh97WdulEsMtssXlUttCV/jmPbxoNiTYqhPdKcxKv6s0G7XPgt0/W/cJu5y8YlFuak/CEhon7CBiT5PdBUDkLRsZEYMgg2f3JIT5yz/5W7D/YVjIiukOZLXa/RE6z19YvYcb/FaXEDQp0SBdbFo+zKtjIwPN5k+bfFej2BoJ9WRX1fwbhr2DML0qNWxIINmk2+AaBrIr6l0G4nEDFkqy/8/XJR4cdd5JvkNS0aAgEFwJa8CK49kuz1k8IzMrfnCiRXZSQjAWkzBU54weM8yDNoHuWQNcJV0fERGComy80XTH3+xquQEovb7Uq+GlXRyeCjWaL7XRf+JuRX3sfCH8iSTdlxa0naSebboCakV/7OQjfluQmnu/GcG1IOwJpyfobifkp8Z8iw0pkWmnShsAPO5pgt7clUjFjZnmNrczX2Mxd990JOtatYYWXF6XGX+9r/b7Wl1+1+EkAZ1OrdWZuau4PnuoX2T521o8nKPEgaSwxj2BgEAgyKVAUoIlAe4mU7YpCDay3bV69Hj95uk6gjHdwmQBsKkqJzwsUuzQ7+obA3Ir68RJB8FskEfHDhdPitUBe3yDVZmsIBBUCWvAiqLZLM9afCJyfX5fExKUM6AiUOVBlA8Yk+XYQHhG+Dh0sY8TQto4dvUm4BS8ONtuwa29bJwIivFNWbbugN4zc+Tzjic3xUOwbCfTaityEm9yZE+5jMky1bwA8pyR3wuE6o3AHxQ3/ZyRjtMRyR4ccwXsh+C/CXQ412bBzX9t3G+DNZot9vD8wyVzbkEfMj0t25ZeBzoPwRNWSqXbwWmKenzt5gVsZBMZJ+ilgPgssyhDZANDxXuC4HcBnxFgH4KOytiBSn8rzvLDB4ymXVNSfqxAVA/xBUUrcRR4r0CYEJAKZFVsuILGvjL0E3FmYGvePgDRUM0pDQEPAbwhowQu/QaspDkYEMp7YfAYU+0oAOyXoMpfnnlTV336kJ+suYCa1+0JUhA5HjYx0y4RwC17s22/FvoNtZOI/nx7+rdxiu90toNwYlGGqexzgG9lum1J62y++cGNKWA/JMNXeA+B+T0k720ETv0MjAQhOg0k/E64JooOweSBNN+hfZfDvBRaibESUj4S7CK4LwXkhhAh/Kau2+aWddVZlwxqAW4tS4tICHfP8qsVvMRCzcNL8mT0FD9IM8v+zdyXwUVXX+ztv3mRhCfuiErRKAu4mESTgQhKXKsGtfxK02mpbtdY1CS5oF9RW22ISl2qtrbtVklgXSLAuCaiVgJJEcIMEN0BQZA1knTfv/Oe8zAyTIcvMZCaZSd75/fKDZN6999zvvpl599xzvu8cBXyxDppDwCEhmFcTGGWs8Cujj7QXlZSgbaHCyC5dtTnBzrQE4CZ9+oSpJURh52MYwRUxrmRVbvotge4hokow3xEJykARA67pqIlABCFgBi8iaLFMV3sHgfMK1v9YgSIcGJ9bdMp6bX5CSBjuO5tNxtSYI9mufSGvWxTCYWNjfZq4d/BCpE0PiU+AZmvFmPFtB25bN61HWUkhLv9NPlxknC4iThdJ55avP8URCUlQ1bZNlCdRp3fZiEuFxHWt9H/ntaf45G9PL/phdwuaWpwbHPBl5dX2f/e0T1f7OfdvmKIrtI7AD5XmTp4frH77az+ZBRsuAuhl3Y7py25JlBPazkxIHU4FIJvFmQbPDDAGgA5gk0OqdrhBvAZcAKChv+LlOa+MFDWNGRWuvx02JgYWy8DNvmhP1AnArk2oWAu/SyS6u3eyKzdfDOA/xPjp4hnxL3R3fV++XvjhI/+nk17COv9k/rQbX/b2JeM4jGOrehWIrwToyM58JQJUC0G1KAY5rIUIZNxqBJYQMAPCJWTXAc2uQ9MYulPNqZM+60H8DLHlX+XVrev6EiPPsbMrt7zNrKcwaGrJjPiN4eKX6UfgCGRXbloMUDYBz1uIFvx7+oQtgfdmtjQRMBGIZATM4EUkr57pe8gQmJNf+xMmvATmDzVFz/pvztFfh2ywDjpOT1K/A2GcvHTI6FhY1e7fqh0FL4456Qx89tE7WHTn+W65UwlmPPdoHlZWLIYEOI6cnGL8LiZBDdUahWUlD+CV5/8E6VOCGq7fPYMX3q91JLEaSsy+3d4Eu11blL8AACAASURBVO6siVcsU5avadkQzPEy82sfBSGLCdPKchJNIrAuwM188IsE2O2fAPSH0twEo+SpE5Pgxe+dQQpR1ZFAhdTUTwXwMGBI3Qrfy8eRkJoerPstPVmV4IVx+u9PqViwxg+nfrbvbkHzgaDk4+XVdoP/J9iWXbn5eYAzilInhiI7Iaju5q95aA2YPs+besPlnh2nJ+FwUtRcZtzY0YASoJDsvWj5sSo+fY9496PZGa02O1psurEuNq2TihGmEgIXltdolUGdvJ+dZa/a8gyYf6aTfnbJ9MPf8rO5eXmYITB31TfHKLpSLPLxBNy1ODV+wMlqh9mSmO6YCPQ5At3viPrcRdMBE4G+QSAzf8PPQPQMgBV2lbJevzHBXZseao8yktWXGDDqdH1VIegoeOEKTEigwhVc2La5zghmiHm2kd8lePHlhir36/I3z4CF9//37Pq+3bWSiXH2hb/Bm68+agQ/QmVeZJ3fVlRrE4I9VmbhZ8lgtQqMe0rzEmXDbVoXCGTm11azgh1lOYln+wiUfP9McwYtpImoSXwwkIIWLpzSky1zAElzbzNfA5Y+4hwxl0kmlWRUuUyBcszb1a2fB3sC81Z+m8SwrwTRQ0Wp8UErNwu2n9JfwYcP5zDxPRYoGTeffL2R1TT3GETtilYXMmGB95iSrTc41oKYGBUxIeBPkeBFU7OGxmYNrR0EMojoWYZyd0VVi5E92Js2b9WWe5l5AQFXL06N/2dvjm2OFXwEsiq/ySKR4Qa+JZ0WLJ454bngj2L2aCJgIhBpCJjBi0hbMdPfXkVgdmHdtcT8KMDLWu3NWW/ecmKvpLJnJFuvY7BByhYbbcGYEd3zXnRWNvLP/Gvw+dp3fQ5efPDey3jqwQOqhK7yE+nnsl8vMvB//rFbcFXePzBi1KEHrYemtbozNUK1WHv32yA/bUbPVVTbfhaKseYUbHiaQem6Zp227NYfRSzrvic2s07CEUTq4QrxeCZlJMCDGbCSDiaFmphRT9B/sOvKltho25evrzayIbq1zIK6ZwG+tDQ30Re9z2Mc2RciqypcF7kA3huIQQtPUNOS1dcJ+LHxno+xYMzw7t/z3S5KhF2wbUczbJpUEImFUB61css9DP5tq94y7pWZk4SQMiztgVUPjNNVy1oGPZ138vW3i5PpJ1suga78GeCJnk6LWo0oUw2K8eXtF5zpSibG/ia7EcjwMqlCuaOiRusqCys4Tjh7mbdq03XM9Ddivm/xDFN9Iqjg9kFnWSs33U1EvyPgHbD9jsUzjpBMPdNMBEwETARgBi/Mm8BEoBsE5hTWzmfGIiKULM1JzOoNwNJToo8C2921uvHjYkFSsNyF9WbwwsWb4Z2l0RvYyBgikSrZF8YWh/iny6vsIalZP79w40yd9f8BtKCbcojemrpf45yZgol23TKLFKSCKQXAcbI39qsT0CaAPzKyIhjvVdRo73bUfnZ+3W1E/GcfSDtnAXgDwGOS2ANAMprCXr3AP8z8vzojSU1lgvsBfdSwKAyO7b2NqP8eB7fFnv021LsDktinatqkN9ch6IGFC2u+Gh7dor4PHXVFM+KDolAUXCQO9FZQ9XABM2ZDV858Oee6PVGN1oeJ+Oee40nQIm6w1Qhy95XJZ/G+Rg0NTQcFMd4hKDeGmg8ja/WmC0mnYiK8tHh6/KV9hYM5bs8RmLV8uTo2epKs5UVEeNJqty54bub4oH8O9NxTswcTAROBvkLADF70FfLmuBGFQGZh3R/AvJDAzyzNnXxFbzjvYI2vJGC6jDVyWDSGxHb9cBqs4IUvZSOuzIumhvpeI+h0Ye5ZMkKAbm/Whq34DPtDtSazC+qKFOITNQtNe/3GBJ+yEELliy/9npkSdbzOupQczQGQ7EsbP6+pB2iZDv3VFdX2YlfgYXbhF7OJ7aWKgjOW3JzYYYDDOY7VEbxIdWRbZDhJOyWostPB+fAOYGzeJTVeAnfNfvoV8ZenJ6uFAG6WiSgK4ZDR0bAo/Z+8s7lVx/ZdHsvNdGNFjU04UIJu81Zt+gUzPaGQfvaLYcyJULD64ZPZgg8Bvmnpr3LXKQoeB5DgAkRVFAwbqoZVgEvIViUjrqXVlT1jeGtnpquX19ieDPpiArjkg23H6nZ7KcDfFaXGy+eKaRGKwNz3vzpJUVT5Tkkg0J2LUyfcG6FTMd02ETARCCECZvAihOCaXfcvBGbnr19EpMxn8KNluZOvC/Xs0pLUXCLkyzgxUQrGjozpcshgBS/8Iew8/eyftVMj8SQAFZ6NUNiefa2ob3Cd8NHiimrbJaEYx9Xn+Q/UnqXreBPQby7NnfJgKMfqSd/pydYrAZbA2uld9SM18aoqSgMKFAugOFjQSNQGCGBd1AVgEKHanWoD3aRE7CHCs2DliaGXr63XWPkErNxfmpfgL6ma3NwnAvgVgF86VEhEUWEegIOOcnuCUbi3TUmBdRjUT8BIFF99LRkL93l15R8zG5lULiJIBv67vFo7N1RzmrdqSynrPKloRvyUUI0RjH4L1vytxFE6M7rs1/MXs26XLCW3DY1VMTzO2m02XjD8CKQPyaCRTBpPI2BRebV2ayD9ddbm6jVrrHtt45cD+iSyWKYunnbY5mD2b/bVewhkV24WuWgh0f2KgAWLUycK14VpJgImAiYCByFgBi/Mm8JEwA8EnAoU1zLj/rK8xFv8aOr3pWefgLGaqn7vajh+ZAyiojo/hQ1W8MJTKtWbv8JbKlXGlACGy5qb9ruVTORv3j7J37z7cEm0enNtdASYbKRFZUTk/MQIPKe8Wk7dQmuZBbVLAUzYNrh+WtU1J7d/Kg/t0N31Tukpah4x3cjgeO+LpdIo2moxgl9R1rYfOdH3x2RT2WKzG2U6crIq8omdrM1/YjIeP9pyyKk7S3MTuwqgSArRDGf2hfwrpJ0uxYdtTtJOUd94dKAFLwRXR8bVOY6Mq/+6MO7v6iM797Si4QBnQiPZLUnla1tq/blHfb02a9WWNGKuIFJuWTz9sPt9bdfb1xWsfvAitigvryr4W9HO9V9ku8ZXiDAyzopBEVBOJOoku/a2enCYGEHSf5dX2y4LFp7zKrcUMTiLdT6jeObErrK9gjWk2U8IEMhe9e19YP12Ar0Fu37H4lMnrgnBMGaXJgImAv0EAf+eYvvJpM1pmAj0BIHMwjpDig1MdwVwwuzX0GlJ1qddNc5S/y518KEyf4IIofKhu373NWjYva+17TLCpxVVmnA4hNzmFNRdwOBXwXx1ad7ksGCxz0i2ioTknR0FLYS0b1CMgthoFd1QpfiNnQQxRBVCSPo6kk1Uj8iEbdPr3UnX/gGAsL2KuojIospmdY/fzvTTBpm/vcXWuKzQTXjhq+JQpMHRPovKCEZeXl5tfz5U88iu3CylKNcXTZ+ggChseVYK1jy8quaJ5+O+XV11tAsLkTodOTwaVkvkPLYJwBKc8iL0XFpRrbXJXfXA5lVuKWBwDhT6edEpE57tQVdm0z5CYO7KzbEKUTHAmQR6LCZm8IKnk0aY3wN9tB7msCYCkYJA5HwLRgqipp8DAoHMgtqXHJuun4BwW2lO4l9DNem0FOspxLzK1f8ho2NgVUNTAx8JwYtvf2g2yhnaYhd0fXm17ZFQYe/db2bBhnKp4CnNnTyzt8bsaJz0k9QZUHCfd3mIalEMXpQhg1S/sysCnY9kYuxv7FBtQIImfyiv0u7upu9RziwMkdb4CoAQg9oD9ae/tMuu3My7/3rRx9o3Hx3vmlN/I/Dc22DD3n0HkpiIcV95jXZHqNZwXuW2I3S2rSQFbxVNn9iO9DJUYwbSb2H1wzd8Vryk4Is3l7uDVxKMHDU8KmIZ1vfss6G+oV3CWo8CGFmrtuQR8/2O4MjC4tT4uwLB2WzTtwhkf7BpKuyKBC4mEPOCxTMmhm0mVN8iZY5uImAi4I2AGbww7wkTgQAQWLiQlaq4jWUM/jGIri/NSQjZJjo9WZX6/4vETXmIHT08NNkX4R68kIdfeQhuM9pUUW07PIClC7jJeffXXqIoeAFEl5XmJPw74I560DA9WRUuCclacJsELYYOUSF18H1lNpuOvQ3aQZKJDunPVazQTRVrbJJh4Wny3SO8Ma7A32cSGHISdsrfw6k0p1dhvWTN1tG6zf4DdPt1P9wwSUoG3CU4soEd3ItSmKGa+MGcCKGTO3bNIbtySy7A+bqFkkqmTZAgWdjZ31b/bdTHpcu+qit7c6jLuVBn3PUWCN7BKjC9UFFjE54Dv2xe5bfZDH0xg58pTp3YK+TZfjloXtwtAtmrvr0SrD9JoPVgvmPxjPhXum1kXmAiYCJgIuBEwAxemLeCiUCACJz/l/VDdatSBuA0AL8ozU18KsCuumw2K9k6XQFXui4aMyK6T2XxQjHH7vrUdB3btje79TR7O+vC5V9mQa2sw/7S3MSzuvM5mK+L5KnOqpSrnO3Z77AhVshPuJioRtTvb4X8297ohopq2988/vYjACJve6VTQUEyDBYBEEUC4bpw3+/hMrfe8sPJuF8jmV1bfxP/XpSivsmMk1zjR3oJiahRyI+HLamo1i4INb7ZKze/z2C1eMbEU0I9VqD9X33nucs2vv6Wm6y0vwQuXHi0D0Abf72/olrzmTtq3spvk1jRlxFjw+LUeJFcNi3CEMiu3JIPcC4RlRH4jhenx6+LsCmY7poImAj0MQJm8KKPF8AcPrIROO+Rr8YrzbZlICQRKHtpboLIfAXd0pMtjwN0lXQcpRLGj44N+hjh3OHOva1oaHILT1RVVGsn94W/swvW/5Kg/AtQLi7NndQrp0VpSWqGoejRxhFhWEy0BSOGRsGqhudHuKjBCJ+BpzH4keXV9uudfxN51KsB/AYwNuaiMCIZFwucHBhCkDogbd7qLbNZ51KGcmpx6mHvnz4V8apdFTxEjcWwcAta+bpQO+tb0NB4oCqIgbLl1Vqmr+0DvW7eys0XMeFlBXTFi6kTngm0n1C2u+LmMy7f9O77bu6GQTEWjB4u1VT9y6RUSLIw3EZ0VUWV7V/dzfLyN74b3DrM9g50jIli69TnZo7f3l0b8/XwQWDumi+GKa1RxSCcTcBDcVbLgsdPPrQxfDw0PTERMBGIFATC88k3UtAz/TQRAHB+waeTdKhlAMUTI2tpXmLQ1S9mTcV4xa5uABAnoA8dpGJEXGjKR8JtUSVoIcELtzGfV1Fjf72v/MwsqP0IRN+U5iSE/LQ4I9lyGYOe85zrsKFWDBscPtkWna2DEHsKuWqLRxYGEV7bA21uVRXGApBMJQlgtDjiMX8GIGSKIg0sAY1P+2p9+3rc7JXfXANSHrMQEl+YHl8n/hjvf019CQQ330qs8CDEWXuN36QnuAix6676lnb3AkDFFdU2t5JGT/rvru28VVueY+Y5Ranxw7u7ti9enwtYms4as6Nx527DP+E1GjcqGqIu0h/NKxgt93Dy22tskm3Uqc2r3PIag893KPFMX5wav7o/4tJf55RV+e1Mgl7MgNzfC4pT4x/qr3M152UiYCIQegT65zdj6HEzRzARaIdAZv6GE0EkJSTRzEpWWd6k5cGGSNQlGPyYq1/hvhAOjP5sIsv53c5m6OwUBiB+rKLKfm1fzjmzYOP1gP6wDv3cZblT3JKWwfbJe70tChlqM5J1EUm2q74V+xvdWTNgxorGKO2C1ashmUT3ABDpxBsBJAGYB6DPAlPhgGvWqi13k863qMqgcf+ePqre5VNKCqzDoL4Axv+5/qYqCobHibJM+H4O7GvSsGdvq7vkS3xnxkPLa7SbegPvuR9sOUmx80ow/6NoxsSc3hjT3zEumDOhbN+3351ntCPAkMW2hoaY2V/fQnI9A9/tajbkl51T/l95tSbllx1aduWWRwG+lqDMW5x6WFFIfDI7DQkC2Su3XAMynlvW6br9jpKZR8hzkmkmAiYCJgIBI2AGLwKGzmxoItAegdn5n88gssgXc72uIGvZzYlBPx1KT7YWAZwlIysKYdyomIiSzvP3nvl+V7Pnae366HrtpNc3Gif1fWaznvoqZshubR1Yry7Nmyyb7aBberL1KoAfd3UsG5lRw6LDtkykOwAOJmjEu3qcds6KFRjjVBdpkveNqTQCZFduehKg9KLU+CM6wjUtWf0TAe1UOQbHWiAZORLMCBezaTr21NvQ1OotHnMQ/0lIXZ63asvdzPw7nTGhZEb8tyEdLIDOM5ItmQxyl0mNHBZtqAb1d2ux6fh+Z7PnNH9bUa39yXve2ZVb7gT4jyAsKJoeLxlapkUIAi5pYgZeYVVZUDL1MMkeNc1EwETARKBHCJjBix7BZzY2EWiPwPn3157FCsoY2MgWJavspkmfBBOjjGkYpdstHxKTEB4ap3PjRkaD+mF68c69LWhoOrDxIUJ6eZUW9IyWQNYns7D2VjD+ous4Y9n8xHcD6aOzNrOSLdkKaLHr9WirgtEjoiGZF5Fskn0hWRhuIyyrqNIki0BIO6V8ZKSczjmCGLkAaiN5rj3xPXvl5jeIMHxxanynxJJpyZaLCSRlNm4eFPkIiBtsxdDBap+WG2h2HfsaNexrOJBt48SjGjpuqPhIW9kTfPxpO3fNrmGKbf9KEG0pmh5/jj9te+vac04f/q1t/35jHfsbQWd3GHpz47BimbJ8TYt7gztv1ZbLmflZMB4vmhF/TXf9ma+HBwJz3902RrFqwv81iwn3b2+asGBFGh30gRAe3ppemAiYCEQaApH9NBxpaJv+DggE5hRuvJBZfwXEVQzKKstJ/DKYE89IUdOYUeHqMzbKgjEj+xexm5A9yoOt25hurKixyWYtLOycgk9HWmGVjfabpbmJvwiWU2knqzNJx3ttyeNAdJQCUZfpL7Xvsqnd7RHA2FWvf/HRRl34Lf4C4CsAouIi5SQ/cXBfDEhCvuzKTZ8C9GVRavycru6rc1IxUmuxLGJQu/tPMrJENnfIIBUWS+99xQuvxf5GmxG4OMgIf66o0oSMtVfNJcnIhNnF0+OX9ergPgz249Pjftu6v1FKp4z3+CFjYiI+SOnDtNtd0i67jujFiirbpXLBvMrNpzBByvI+CNfAk79zHQjXZ63akkbMxcysSrZMcepEd6nrQJi/OUcTAROB0CPQe082oZ+LOYKJQNggkFlY91MwP+/IFniXSM1acvOR3wfTubQk6y+I+AlXn1LzLhwY/cH27LdBygxcRoSC8iotL9zmlpm/YSEU+r3ClmlLco9a01P/ZDNqa7GsBmiS9CVKImNH9r/NjJzIC5Gny3Q7frdirfZHD/weAPDGQOW+yK7cvAfAS0Wp8b/y5Z5KO8lyHhH9AYRp3tfL54KUlMSGiCeFmdHYbEdDsx3NLd7lIUJugWXEtLD8I9uHvswl2NdkrdxcSsDxRTPiDw923z3t7+wTMFhT1c0ARkhfoh4kWTMDzURWefsuj/IRxhnjH/riY7tVeQ+MKN06eGrJySP3DjRcInG+2ZWbb3Bk0D0Ewhod+h0l0w9/KxLnYfpsImAiEN4ImMGL8F4f07sIRmBOfu01THiMwP8lG2ctuW3KvmBOJyNZvZXbTqwNkw2KlBdE8ptaNrWe6ebM9MzyGtsVwcQtWH2d+1DdBIuN10GhF0pzElwSoAF3n56ilrjIGOUUduzI6H5L2udN4kmMs8prtLclZgPgaacSifw+4Cy7cjMT832LZ0xsx2vRHRDpydYrAZaSm+O8r5WyMvl8iIlWEGO1QO2BxK6QLApfgQQrmlvtQr55kDU083dfbtWH/LCHLwbQJxuYeZWbZzGwnMB3Lk6deG93+PX262lJ6u+IcLeMK4HKQwaY/LUn3p7qI8x4bcyjXw4CUxozTS2ZOeGj3l4bczz/EcheufkfICn/oyJdUReUnDJeMulMMxEwETARCDoCkbzPCToYZocmAsFGIDN/Qy6IRP7xPyfXJ2QtXEht9OpBsrQU9XfEbQ/AYsKPMHJ4dESSeHrL58EjhThIcAW9m8yC2r+KtKdFpWmv3ZjwWaADZKRYb2JmyTgwbPSIKAyK7t+nsNt3tRibXzFd56/2WeyTq6rwa0eauKguCBHqgDttPf9/64fGWgbXg3Bz0fT4BwO5nzKSLPOYSEpv0jtrL6UlsmG2WhSoFoJFUUAKtytPEoUfXQfsOkOzMzRNR6umdxis8Bjn5fWb7OrWHSyfSULGKnLCfaIOlL1y08Mgul6Pq48uOfZYD7KVQFANfpv0ZFWy8UQy2FAREr6LgWpScrRth3D2ttnwW5fAMvH4i0tmxL8yUDGJlHnPXbn5MAUoBmEGg+8tTp14Z6T4bvppImAiEJkImMGLyFw30+sIQmB2Ya0zwMDPleZO/lmwXU9PUm8Dwc3CLsSOI+OiEBsTGYz1rRpj194Wt2xeGz78VEW1PWhcEsHG3NXfefmfJyqkrgX44dLcxFsDGSfjxOhEttgl8GEsWNwQK4YPkQSE/m3eMrjEeKi8RpsvsQwAQwFMcAT9jgcMDpAt/RuNttldsnLrFJ3snzPzpcUzJr7YkzlnJEedANbnMeEiAFN60ldXbZtbeZuq0uMKtKdXfGRkzohKjrx3j3Jyl/R68OLS97ceblfsKwn0v8WpE7JDNfdA+01Psf4KzP+U9pIFc+gAzrpwYbhzTysamtv4UqKOTK7870sfzAgUX7Nd7yCQtXLTOUQoZlAzmBcUz5j4ZO+MbI5iImAiMJARMIMXA3n1zbn3GgJzCmv/zIzbAOWx0txJQX+Y93wYdk1q2GCrIZ8YzmYoUAj/gUfqOQGLyqu1gAIBfTHXzIK6hwGeR3Z92tJbpvidKutZLiLqMeNHxfTFNPpkzIYmDZJx47KaOvvO3ft4lDOAIUS37zhEGBY59vUDQmIvq/KbMwnKW4pCGS+eMsFNytvTxXEGMs6EgtNZGXwm7A2DA++TvwYpldDx7rbd+Ojzr21SqjLXKXMr5AWiHFPuoHGQzJFXHYETt3JO4GP61zK7clMuQPmwqNOKph3SJ3wbnXgcC+DU009U/6pacJJcMyIuCkMHDdysCxdOXtwXLXtJG1lVhUb/Vt68urcQyHp/Ux4pdD9AK3XmO0pmxMtntWkmAiYCJgIhR8AMXoQcYnMAE4E2BJyb3OtBVFCakxB0AsqMk9SzmPAkyDixNkw2w3KKHxMiwr5A19ZmZ+zdZ0Oj86TN3Q/TtRU1tohiJ8/M//JEkPYRg+8uy538B38wSUuynE9Er7naCEFnTJTiTxcRf+2OPa3u+8Bux6p31mpSPnO+lOMMtNKRrMotPyfw04pFPe7FaYeICktQbXb+xjQivULf9826ltfOvQ2go5g4HsxjARru4NCJJYIFDI2ARmbeDaLvHYommxTiOrRon5V/Ak/y4eEA5Li8BcAwALuFfsfJWyIBp4UADrDvBnU2nXeWXbnpfwDFFaXGn9BLQ/oyzBAAJcMG06CUyZbTXQ0mjI2FlPGYBny3s9kjA49+UVFte8rEJfwQyF615UkwXwnCc7qOBSUz4r8NPy9Nj0wETAT6KwLmN2Z/XVlzXmGJQGZBraRVXunIFv5jaW7i74Lt5KypGK/Y1UcBI1XcbUNiVQwdYu1zLgypo6/fr6G+of1+hqxDvuSW/ZdXfKStDDYmvdFfZmHtE2CcqSjqNH+UZTKS1UoGpouPIm85Ylj/UIzxB3PvencGZy+vtkvK+IBTHMmu3HQnSLlbb7WMLzn9kB/8wbG7a89etHZwlCV2v/s6iyWx9Kaj6rpr18nr4wE87yjpyXAGL2Y7Axj/c2ZgBNhtz5tlrd56Ien2Vxi4ujg13ijNCBMTHpej05JUzUXU2Z9UooKBschji0y205ZWVGsSxDQtTBCYV7ntCIZWDGCqI1lyYXFq/F1h4prphomAicAAQsAMXgygxTanGh4IzMmvLWaSNGtaUJqb4OaqCKZ3aUnWG4lYyCSjPfsdMkjF0EFWg6yvN03XGfsaNeNH/u9p6uRL9kdN/b3KxM8w2x9Zlnv0x73pWzDGyiysSwXzSma6vSwvwa0A01XfacmWLAIVyTWyGoeOjYXwlQxEkw2LbFzEmLFmeY32DYBnACwdSHhkV255FNAvKkqdeEiw551ZULscwCx3vzpfVTp/8r8CGEdu0gIHseoHAN50/l9+/7cEZfuiTMRzDlmVm58jQlbR9Ph2n30BzDPYTW5zkJd+f8aJ6nyLBcdK5y6izhnp83D5b/LR1FiPf+Zfg8/Xvttu7Fv+tATHnHQG3n3zWTz1oKhRBseuvOlhnH52xzRMWzetx53XnhKcgXzsRYhht/7gJu7kpmhtcGUlDjB5+tiPeVnwEchevSUTOhczsBOEBcXT4yV4aZqJgImAiUCvIzAwn5R7HWZzQBOB9ghkFmwoA+g8Yty0NC/xoVDgM+ukmCMUxX4PwJd59y+yiYNjLZCTv1CaqEk0NmnY39SmKuFl74Dx+8GXf3YTAyKpKNv470H0TGxUyz0l1x174JQ4lE4Gqe/MglohWDxJsenTfJHFTUtW3yPgVBk+EvhJggRTh92IosW3smlxxrU++9r+yXe7WDbaO0M5brj1nV25aQlAE4tS4w0+hGBZZmHt3WC0y/RixotleYmXBjCGlD88AuB2ibk5y3uucZb6iLrIzwPoMyhNsldvORE6ryTCU4unx/dYvjgoTrV1IuSlx0apeOrUE9SRrn7jx8VCZGzFLrrsTpw392bUflKJRXceSDhwBTa+3FDV7u/B8E2CF9NOuxjPPZqHlRUHqElCOWZ3frcvHeHzK6rtAyqA2R0+ffF69qrNt4NxnyP4uULX7XeUzDyisi/8MMc0ETARMBEwdgomDCYCJgK9j4AzhbsMwBkE+tXS3IQnQuVFerKa7qhfv5WBc7zHUIgMVZKYaAUxVgsslp59JEhZSEurbkhgNjXbDYnFDuxjMC+qqLE/J69lFtbeCoZXtgLVEvDg0twEKYGJCMvM35ABoreJcOPSZzdr/QAAIABJREFUnMSHu3I6PUk9HWSQURp22ADOunBhsLu+1cjMcVppRbU2JyIWPohOZq3afBkBE4qmxwctI2tOfm0m08EZLATaHhM97KiS68b6GyQURlnJivkbgGOc0/8HgCsAjHNwXviUeRRE2NxdZa3cdDcR/U5vtR9ZcsYRfpPnhsInAIJXiWz8zkyyfK0TvSTjREcpGDeyPTmvZFgkHpeKZSUP4JXn/2S486e/r0bs4LgOMzJ66m9nwQvpV3w5JD4hJON25bdnFlakkTf3dD3CsX125WbJsPgpgCf0aHVBSXJwy9nCcc6mTyYCJgLhjUDPdirhPTfTOxOBsEbgokUbx2oWLmPwybqOS5fNT+yRNGJ3k01LUjMUwrUM/KSza60WQlSUxeDGsKgEq6JAsRDkcND4aUvrhwQp7DqMEhCRvGy122GzsZfcaftRCPgfwI+VV9slvdxts/Pr5hKx1NF2ZB8QKQuX5kx6vbv5hcPrmfm1r4FoQuyESdNKsqjDdBPxMyPZ8oSDBNGQgpVSHpG2HegmJK7bDqSMg+yWyeVrW2oHOi49mf/ZizaOjbLongSb7bpjQmZZTqIEUf01yRgSolkpzbjXyXfxawAXOpRHgk406otzP121M07TG1cy8e7i1Imn+dKml6450YnRwoxkdS4Dt8i4HWVbHX3i6bgqT+JAMIIG02fNhWRBeAYzXBkaqtr2meFd3uEqMXHN7bOP3uk0Y8Of4IUEUQ6deEBxV9Na3X6JT2df+Bts+fpTTDq6rdTE83X53dvvjnyXv0nQ+4c9wv9q2HsV1Zqb3LSX1sscBkD26i2JUiYC4ERmuqN4xgTJvDDNRMBEwESgzxEwgxd9vgSmAwMZgTmL1v+ILYpsHo5khbLKbk5YEmo8ZiVHT1Jgl1KSLCGQC/F42xlcojD9u7xG6zDVdHbBhtMI1L7I29sp5iJiLFw6f/L6EPvbo+4zC+rmALwEXfAJpKTAOozVvU5VBowfGYOoAaYw0hnIsmmRzYvYtl28+vOv7bJJdqdj9GhxBmDjzMLa98BtpUkdGuOvpXmJwsXgj8nuVMhEhYtAAhZSKiLvy7sdnymf+dNRMK/Nfn/TlVDoSWa+qHjGRJFoDRf7sTNLZffpJ6mtqgIho8WY4dFG1pu3uTb5VSuXIvHYVGzbXOcOPkiwwTOY4Qp2NDXUG/wU3sEIV1DhzVcfdWdyeI7XWfDCu4TFOwvDO8gy5fjTjJIXzdbqLkGRNkdOTjF+FxNOjw/ee9nN2eHi2/Dm8TBKyLa7aS72V1RrQ8NlIQeKH9mVm6WMs9ihKPINEy8oTj28s8OFgQKJOU8TAROBMELADF6E0WKYrgxMBGY/uPE40rkMOg9lBVllOYlv9xYSacnWFGI+F4R0tPEvWIMwdpWjHGY5Md4or9G6ncv5BRsn6dA7Vz1gfMiK5a6ynKMCOSEOwnT86yKzYMNbIjlZlju5w02jJ1GnSNmOH9U+ddy/0frX1cKPsmNvm9pAcyvvWfmJ/UwAcj+Z5icCmYV1+WDO7abZqtLcxFQfu77HkVUx16kmcgeAZR4yqHITy88eH/sK+mXZKzcvBeGUotT4sUHvvOcdinzsDTOPV/8cbW0r1z10TCzUTsr0XNkTu3dubVe2IdkPe3Z93y6TwjNAIVkProCBJ4dFZ+53RdjZVcaG9OcZ0HAFL2RMF6GoK8DhGXzx9MPFq+EZ0HC9LsELCWKIkUU9qvzD5i97vgRmD74gkL1y8+9BuAuEN3Xod5RMP9z8/PUFOPMaEwETgV5DwAxe9BrU5kAmAp0jcMEDtadoOi8jokaAskpzEvqCEIvST7ZOBeMEgKeAcSQYh4F4NEBxzs2JcCraCLQP4J0EbNXBX4OUWgX8cZSqVb2+GvX+rPXcRz4d0tRi3ddJm0WKoub7Iz/qz9ihuDYzf0M2iBYT8NOluYkveI+Rnmx9FuDL5e/DhliNH0/rKL06EJWBCy+7A9u3ftmOiC8U8w1qnwxs2t7oJu78fJN+7bYd+mNBHWMAdWZw6ygx05lwCpFyCpgPlp4kSinNSaj2ARa5UYVEVdZjkCQPOANLwn8h6hkSuLjTh36Cfsm8ys2zGFgeZvKNox3qItc6uALihe/iqHF4+/DDVKOER0rw4scJhB1bRxt7VzBgxCjhSG1vrhKN77d+YWQ4xMQKpyrQXQCiq7KRjjzzDna4gisSvJCyEe8MDwm2iLlUSzqaQ0efbdt3NaO5VTfakoKzy9dobwX9pjE7PAiB7FWbi8GGEtrfdeugBSUnj5QMQdNMBEwETATCCgEzeBFWy2E6M5ARcBI+lgH8DRhZpXmT1w4UPDILa9e2BU08jPHv0rzEg5RSIgGTOQV1/9OJG8tyEs/29jc9Wd3m2ACOl7+PGxWDaKvivkQe9sceemSHNe7eKgRd4eDvpiScMP1hdwuaWtpKR3bV86MfbbRfF07+hcgX+S5OdnJIfAhA6vzlxvifszyjx8POLqj9DwFHl+YmHjPn/g1TdQVTCXQyM60ry0t4wMcBJIAhm3E5CZcdsmQXzXPIowoZwlUA+kTmOLtysyg23aA31w8tSQsLlaJRDoURISQuB4xg7u1HjLP89sjDyAhmqirh0NGSjNGxdRS88FcBxJP7orMghq+fE66+PHksvDMvugpelJUUuoMqLo6OrjIvdu5tRUOTSzqZfrm8xvakj/eneVkACGS/v+k4KJDSkElsyKBOzA+gG7OJiYCJgIlAryBgBi96BWZzEBMB3xCYnb/+fCJFiPBqFChZS3InbfStZWRflVlQtwzgc52zWMHgGgLlMOuXl+VNiTg9+TmFtVcw4ykivmhpzmR3/X1GctQJDN0ISlkUMlRGXOZdz+65ol291tHK+7opCce7RhRHRHlEjBkvL6/ROiWYDUf/A/RJSjckg0HKPIY7FTs2AZAMLCEN6FC2x5+xMgtqvxfS3KW5iT3Bc6ZTeeALhyyw3NdfO8tI/HElqNfOXbN1omKzrwTzh0UzJl4U1M4D70wyXKY6sBF5WgnAJiRMUHbFj1WMIFFHSiOeQ3WVeeHit/DVta5UQ3z5nOis/MNTBaW7spEd2785SJLVlWHmWWrimtOe/TbU77e1/UpYUFGlBU19x1fcBsp12as2zQOTkIWvZ+YFYcYXM1CWwZyniYCJgB8ImMELP8AyLzUR6A0Ezru/9hJFwQsMft9i46wlt03Z2hvj9uUYmQW1crJ2JZjvKs2bvPDch+omWDSWFNYp1mh7wivXH72zL/0LZOzMgtpqAm1ampsgCgyGpSdbrwL4cfn/oGgVo0ccUBnxTrHuasyumPu9U7tdadndqRS4NkyulPNvvliLcYce1SHJnss3zxNd2SSNGX84VGsUJLX9h+++wYjRhxhlK646eO9NWUdzbrXp+G5ns3MI2lRRbTs8EPwjrI2QZgrvy5sAXgZQ4FARXgNApIJ/A2BHT+eTWVDLTPhTWU7ibwPsS2RQJWAhP2nO7BBRGxE/FwEwJEB727IqN+UQqIChn1qcevj7vT1+J+NdA2Cis8RGymx+fdoJlplW1dgkYlC0BaNHCHQdW2dZCR2RXHoSY87MuLQd50V3vBP+BC88gybenBzdEXZOPn5mO6JRz8+ajspGJHAhAQzDCH+pqNJuD5N17VduZFdu+iNAdwJUqjPfUTIjvk8yp/oVqOZkTARMBEKOgBm8CDnE5gAmAv4jkFlY9ysw/1M2M7GDLVkl1xzVr2tPM/M33GujQfe/kRu/y4XW7Pz1c4kUSWV9oTQ3UXTmI8rmFNT9hsGPAHROaW6CbEqRnmR5FERSB4/hQ6MQN1g15tTdJsNz4h1tbLw3Nd6bku5UCrxVCzxr012bC9mwJB6X2k4eURQGXOUsrg2N63rvPmUOvmyW5Lot3zcZcrxi2+u1SZ9shJz092dzBS9ExUNStuc4yXOlHOKXAHb3ZPLn5X+RqJB9A4guK81JaCdV7Ee/khklShmSTSDBFSmBOMqxXL9yZGBc4Sgb+daPvoJ2aVblpvcINL4oNT4haJ32vCPhAJEgjwSeJWDx2IlHKb8bNUwRRRYMjlExanjn8shdlVR4Byebm/a7FT6kb29JU28pVc+p+fp+9A5sCtdF7aeVSJkxx/g8EPOWSvX2y1vCdfW7/zHUVDrKJNnXoGH3vrbsKxA/XFFlv7HnS2L24EJgbvGnUcqEocUgugCEB3UdC0pmxLslXkykTARMBEwEwhkBM3gRzqtj+jagEcgsqL3Jscd9AMyvbhuyL6vqmpOdR1EDBxaXYgIR/2xpzmSpIY8Ym7vw06imOOs6IlQvzUm8VBxPT1bfcZ5YY+yIaMREt0klujb6H1e97c5S8Gei3psd701JdyoFw0eN7zKte9WKElyV9492so3in2dKembW/IOUDjxPhSUDw9fsku92NaPVSdhns+PH763V3vAHjwi8NgnAUicJpih5lDgoUf7uzMbI6WnZyOzCul8Q8xPwnZyzIwh/4eRquc/h5yMO7osnANQ6STr/CGB/b+OetXLThUT0Cki5rmj6YZKlEk4mCk6LnUGd2kNHU/qUiRYh8cTgWBWjhnUevAinSfjiS3eSrL704XlNu9Ix8CPLq+3X+9uHeX3HCGRXfp0MthSDDN6lBUWp8Q+bWJkImAiYCEQSAmbwIpJWy/R1wCEwu6DuDgL/CYR/l+ZEJnllTxbt3L/UTbBYWbIvjiadE5bOn9zj9Pme+ONv2zmFtfOZsYjBp5flTn4vPVmV02lDLsBTKtGfzAuXD10x93sGL+SUVAIPXakUiMTiIfEJ7WQZPQMiGz5+3yDc85Y1lE1L+uxf4sV/3gFJWffuw7OuvbM+OsJ0594WNDS1kXbuqMcD6zZqsoHv7yYEmFJLINlHJzqkSKc5SR97fCI6O79W+FfSqH7fMUsXntwYIJASYBH+GSHmXOAgFJUsAskskMDFDX0RvMheuflZEC4vSo0Ph2cZ8eFiiek5OC4ku+VfAIR1UvhMhs081jIuOpokmw6DYlWMNoMXnd6GXrw3Dy2v0SSQb1oHCMw6KeYIBdqhTDxaIcSBFaMeiaG3koJ9YNrJZNk66siWr5Wcb34KUoRbZ10bMWe8yB2bZiJgImAiEFEIhMMXfkQBZjprItDbCEhJBYgWAPTP0tyEq3t7/L4eL7Ow7v/AXEyExa4Mhr72ydfxLyz8arjGtnVgvLXthcRfD2PVyIXuSCqxq6wEz8wMVxBAuCk6Y+73DF7IeBJ4+HJDFRbdebBSprzeEamfL8ELz3E6Cl5I3655bVz/wUHZHZ3huHe/DfIjtreBi6s22LN9xTxCrxMp4jOcvq9zKowIz0tbBKeHlllQW8fgjWW5k12kuIH2OMmZSSBlLvOdfgqZYq+rE2S/9+WJUK3vM/BCcWp8OHwuSpCiEIAEKOR+lQDUzYCh4mBPS7KcT0RCxozYaAvGdMF5Eeji9FW7YGde7G2wYe++tvc/Me4rr9EkG2nAW8ZJ1qmsYCZYyGD5RJCh8tOWvueDWcYeCYob+y3v/W4x7/j61berNFEzMs1EwETARCCiEDCDFxG1XKazAxWBzILaBx0nsjcS0QNLcxIGwil0u6XOzN+QD6JcMP+8NG/ys5F0H8wu2PB7Av2hta4kU1v9B+Oky2IhHDamvVRiVxsAT86K7ko8hByzo8yLrlQKOqp998ya8LVsxDvzQuYqfR+fciY0Wytsrc2489pTul2+hkYNO52KIzaNF7+3zn5Jt40i94JhAF53BipEilQyc0ZKdQEAiTZJOUmPzCDrBBeW5U4WNRN/zCXhmgJA3ncuJlXZMMlmXUwUUYISZPHHseyVm+8C4fdQaHLRKROkfKUvTIIUIhUrhJJCzCukq0K4KrgJqamU1+yTazKS1cMYeFecFHlkkUk2rWME9uxrRX2DUyoVuG15tfbXgYpVWrLlYoWUC3TmcwkYE2Qc9gH0OkFfElVvf+n1jWgJcv9mdyYCJgImAkFHwAxeBB3SgdPhrGMwRLFimG6JjrXYoViiyWZvbG7cE41dVVUYcPwMoV752QUb/kWgXxLo3qW5CXeGerxw6j+zYMNhgJB38rGtdiXxzVsmbQ8n/7ry5fy/rD9Utyprte8q32p9+5fGJjxKJYwf3T54IX+XLIWxhx7pJsWUv7mCCC5iTG/yzY6Y+70DId2pFLhKS1wBjkAJOzsKXnSnLNARdo3NGnbscRH24aWKKm1upKx3AH5KYOAuAHJvyEY3qHbeX78ar6i2bWC+ujRvslG24KMJm+yfnGScQhwq2RUSvBgl6hlOTg43wa6PfQblsp+uqovTOOZ9AhoXp8Z3Hw0LyqgddiJvYimZWegsm7kVwNMeV0qQZ5YjsPFRxonRo9hi3yCvqRYyysYCNW9STk1rbfeZEWi/4dJu555WNDQ7gxcK/3z5GntEBax7iqNTUls4ZkRmV95vnZoEwlWFoCgEIgIpTlVlJjAz7DpDswN2u96dW81gfp5AT5bXaBKQNM1EwETARCAsETCDF2G5LOHl1FknRSfoijaNQSeBcQzIYJif4DwZ7MxZ4Sb4BqA6gD8Bc3WrZl/1v497xpofXsj0vjeZBbXCXD+PQXeW5Sbc2/se9N2IrvIRKSEpzZssp50RY5kFdffpP3x0U/Mblxg7liirgvGdnLx6qwnI9d5ygt0x93sGH1xypt2pFARDKrWj4IX4L5utkWMmtFNFcP1d/vXOxmhqteOHXW2HgJqG995dpwnhqWQcCUnkZxGz8L45KpsTOaGXuv7vfWvi+1XO900JdD6tdP5kf9LEJbNCyDklcCQqKC6TTBHhc5DUgSxn6YjvDgXhynmVm65g0FNQKKvolAlCbtrXJmU/EugRZRgJZAgJYjuuklmzEKPUq21/I2DiuEF+++wKZG7f+mW794zrve0pXex352HU4PtdzWhxEvYSIb28SlseRu6FzJX0JPV0kPE5INwpB5mqKIiOVhAVpSBKVWBVCYrUIPpgIt5k03TYbIxmTUNriw6b3RnoOLj9m0z80PIqe5kPXZuXmAiYCJgI9CoCvn3q9apL5mBhgICSlmy5EITziJUzAT48aD4xPoCCNxlUurzKtjpo/Q6gjjILapeIlCIz5ZTlJbTp1A0Qyyyoux/gPAZfUZY7WYjHIsIufKjuqNZt1Z80v/FTI1c8OkrBuJHhnTYuwYxLrroXFWVP4JXnZV8WuPmqMuIaobnVju3O4MW+Rv7uw/X24wGcLCfYjlP/7wL3JCxbSnmIZDbIhkUkdYXrospJhrmip8GBzILaBwi4RI2yH/PK9UdL376alJjITdpRkFQCLiIFKsSd/gREfB27y+uyKzctAZS0otQJQ4PSYc86EYwkoCNZKCLXKgE2URW5xsFjIptu9w4xPdn6tev79JDRscbm01frSHrYs62vsqe+jteX123Z3gRdb4NNs2gT3/0Qm/vSn1CPfWZK1PG6zr8D8UEZZlYLGQSvwpMiQe9gWqvGaG7RDHJkCWx4GwNvMOGPK0xujGDCbvZlImAi0EMEfP/m7OFAZvPwRyAjWT2NmX8GIjnVFub7Lk1SFBUFcH2dyqOGPG+4Hjq6a+88QX0Bdu3pirUQFQbTfEBg1lNfxQzZrZUBnA5Fubr05kn+pIL7MEL4XnL+w5sO1W1NJQAdZyNtyhs5x2wLX2/be3buzY8ubnn3RoN4sqvMi76Yj3cpivggAYfYwXHtFEgC8S2QIIhn5gUYyypqtNmBjB0hbeTzVqQg/+ZUpzjSoeohxJiSNy+n+D0qkcosqJVAyL7S3EQpX/DHhJRzD4B/dNJIgocvBYOTwx+n5q7cfIZCWME631s8c2Jfl89JQE2COGsdsrGSHSRrJiWTpzq+Q+93ltd84JpfeopaBsZ58vuo4VEYHCOVOb6Zv6SYriwNVT0gyeoi+JURXSS9wkUzZvwRhhPyellJoUHwK4TAYt5ZX54lK97lKt7ZW81N+w/Ktuputppdx9YfnNQqjF0VNVqXZRPd9Rfur2ckq39i4CBC0kHRKgYPshhBi96wFpuO/Y02t8qT55gMfpSb7bet+Kz35ZB7Y+7mGCYCJgKRhYAZvIis9QqJtxlJlnkguo7bHrgOMqmlFIIx2XDJSZFVtUC1iGJC57eP1FnaNUarnWGz2dFq0yFfjp0bPw1SHq6oslWHZJL9rNOL/rZllK21YRlA00B0WWlOgkjzDQibk1/7EyYUM/ilstzJEaNCcdbPfn2R/ZN/CZkf5DTtkB7UvIdiob1LUYQH45/51+DztQbHYEDm6tPfdHZPzovGFqxe9al2mnNTGJAfYd5IMhy2OFUpgu6qkHUCeKw0N/FaPzsXslDhc/g/EX3xaisbSvnMkVKez/3st0eXZ1VufpCAGy2aPvKF0w7f3aPOetZYSsAedwadJEBxHQAhVpYMjDOdAY12I6QnqyIrawRchg5WMWLogcBCd650pAjUWRtPpSAh8BXz5r3xfm+6gh0SzHju0TysrFhsBDiOnJxi/O7Ni+PqU8ZaVvIA1n/8niHJvG1znVvVyN+MK+nT873veCZ5e3m1dlZ32ETi6xkpahozJHPyBE//h8Sqxr1hVYObZeErRpqdsa/BBpGrbW+0CdBvrqi2v+JrX+Z1JgImAiYCoUDADF6EAtUI6TMtyfITheh2bkvHbmdCKBgboyImymKkuAfDdJYURbvx09isQ34/2Og5nejeFVWt64MxZn/u47z7PztcUeQkjyeDkFWaO3nAPFRkFmy4H6A8Ily5NCfRkyAvbJd81gmYoKiqkf7ckdpI2DreB47tb9Swy6k2smOP/tW6L3VRG3isD1zpjSFl83KLozxEMh22BnPAOf9YM4gb4hpEsrM0N1E21v6YlEL8x1EaIuQj4p8EKeRDWzbtoq4hJRI/c2Yb+NNvwNfOfe+LiaRGvQ/G2uIZ8ZkBdxSchoc4syt+4ywRudKpDnO6s2zkL97DZCRbMhlkqMf4m33VUfDCF34clw/eAQ3PwIQEKlxlKZ7BB89SlHGHHoX02b/Ei/+8wwhsuMwVoHBlbHQlyewL7Lv3tWKfU2kEhD9WVGm/86VdJF2TnqLeDjb4ZNwmz1rDh1gNPotwMJvGhly1BJM8jYBF5dWaENOaZiJgImAi0CcImMGLPoG9bwc16itZlyL2Od6eSNR/8CDVyLQItcmX4v5GO6S+vQP7U0W19ttQ+xDp/Z97f90xisJlBIwAKKs0N0Fq5vu9nb1o7VirZdDLBP1EYNCU0tz4sC87SkmBdRirTgkNYOJ4/wn7OltYT4LOzq7xTBkP9xtEHprlR6yhmZ9a/ZnxGXF1b26UexGj+Y6AgGx0XR+6UgolxI5SRlLYEz8yC+rOBvgNgM4J8LNB+Djku0KO72URhG9kPIA1TrJOyRjpNcteueVmEBcSkLY4NV74QHrbXMomkmkhXBeyixdJVCntke9TCfBICZDcvAeV25x7CuJabKo7i+WwsbGwKL49hnWXedFRtkVHnwuuMhDv/roLXkw+fiZOP1tiVQeb67PFM3srkJIR6XnbjibIxlmMGGeV12hv9/Yih3K89GTrcwCLikjbHIkwYqgVQwb5XkIUSv+8+25s0rB7vw12T3JPwjJrlHb5G5VGlpFpJgImAiYCvYqAb9+aveqSOVgoEUhPUm8HtY/4S/VH3GArhg5SDbmt3jYpJ5GTFu8IPwifAsitqNIGxIY8UNzn3L9hKitUxmCNdGT5qSgQ6LB93s5VPkKE/yzNSRTVg7C39GRVgiyHiqMilSiSiaGwSCfv27m3xV17vbMeBWs3amMAiHSgdy5zKODryz6HOzMbJjsDGD0iNc4srL0bjBwLK8e8ljepJ6SHVsdmXDINRGVK5D5l09KpVEGoAMxeufldIvxocWp8fKjG6KZfKaEZCUBIk+XNK6pa8rsEJE50ksrKNVLO1iFXSXqyWuEMeGBUXLTBa+CLdcd54Rm82PDx+27eCldgoaPMC091oO6CFzMzLnWXkHhmXnTkuyf3hT9BDAlaSPDCaY0V1ZoEz/qFZRyHcRylFgOQzBzDJNtixLAoo4wwnE14zHbVe2VhED4lXckqr2ntb+pP4bwUpm8mAiYCzi9fE4gBgMCZKZiosypp1+d6TlcCFnFDrD6f/oQSquZWHfX7bQdlYhDjnvIa7fehHDvS+84srBMyPikh2aowZS3JS6iJ9Dn54v/swtpFxJjPrP+yLG/Kk7606ctr0pNVOS0+Q3wYOyIaMSEiY4v04MV3u5rR6pRK/OQr+8rtuznfURtu8IX0QxOZTeFIkE2tlGpMdaqqbOzpXDMLapeDMbg0L3FaT/vq6/bZ72+6AAq9CtZzimYc3hcqS5Jp4WSSNCRRpZRJPnPuASAZVXc7eEuOkYC7g7yztjO8MpLUXCbI/WyQMY4ZEe0TtN2pjXgGJ6TDaadd3I4s08VpIYEH4cEIJPPCxW/hq/pQR9kgXU3WM+OKQEXl1baIksTubG6nnxDzI1XVXnOUYYlqkmFxg1UM94PzxKebJMQX7W2wYe++tow4p20lnS4s/8j2YYiHNrs3ETARMBFwIxDe4V5zoYKCQEay+mNmPA3COFeHMVEKhg2N6pXyEH8nIfXuu/fZwB6cGER4zW7XrljxkcF+b1oHCMwurJ1NjFKA1ykKZy25eYqckPZrm33fuhGIjl5KwElQ1GNKbz5qUzhPOD3J8iiIDOJEIesTYrZQWGfBi45Sz7tLRw+Ff931ufn7Jvf7v0HT4levMwgt+6PJDfCssyRDlEWEBFOOnuWzWmQTJfssYMss2GADKS+U5iT8POBOwqRh9qpNz4DpZ0Wp8X3x3CLZFf91BP8lE0bWSSRnJQtFJG6lbER4L+RUvcMaSE8InRvZL11/O3RMDFSLb2WarmBAU2N9OzJdF/eFi2R3+qy58Aw0eGZCBFo24iLsFL9dRL6ufoXn4v3yF4xsD0/OC3/+4p7RAAAgAElEQVSDqNt+aILNWZ7A4Ozl1XbBNKLNeXD0ujOwZcxlZFxU2JaJdAe2lJHs2OuufpTLt4PoXJNsvTvkwuv1s5JwqGZRfwSdD1OgjNGJ44gRzWxUMrUS0X7W9V0M2spk+WZFdUuPg+nhhYDpTSQj0BcPAZGMV8T5np5svQpgYUR327ChVgwbLFnA4Wt2u45d+2xoam73LPgxsTLPTFPsfN3mFNRlMbgIQKVdpazXb0zor5s+NwjnF9ZerDPJQ+4rpbkJsuELW5uVbL1GARvEk4NiVIwe7rvagD+TiuTghSgTfbez7YCbGd8ur9GkPvxHjoyV5QC+9geHCLjWRfr4a+cmWP79iZMIU9zvTKbUp6m1KY3QgtLchD/71CBML7pk1eYTdMb7Donkl4pSJwgxZl+YZMgI/4dkXUgA42FnJoacpv/LGbiQ8rVuy3PSktXXCfixTGLYEKvx4495ypVKO2/JUvmbt3rQ6nf/g8RjU9HUUI87rz3F78wLT1LPEaOMyjfDPJWEvOVZO/Krs3k2tdjxw27hhjVsZ0W1NtofTMLxWuE4abWp5Z6k6KOGRWFwbGiC1r2FgfCUyVodOF+ib0BKRkVVyxe95YM5ju8IzDoGQ5QYSxqDTnVIj08jMkrcRvjeg3GlpNysY3AVE1Yqun1FRQ2+8bMP83ITgaAgYAYvggJjeHaSlqzeSm1EcIYJMZh8cYYqVT0UKEgZyR4ncZ+z/+8U0EVvV9tWhWK8/tDn7Pz1vyBSngBzuY20rDdyj+33pFqz82sXEWE+g35VlpvwRJiu4/8NHUSPT51iMR4a5P0ohH2hsEgOXohE326n0sgPe1j7+Ev7PgDvORUdhDCyP5kreHGjI9vi7wBEl1aIOu9wqFvKg2HAEshz8uumM3ElgS5cmpsgKet+289nD0uJ1mxbH3+jUUhE+8zmVW5eyMAfFIt63IvTDulRNkoQJiGBNCn7kKCFZFxIuY+YlIyISla7vPqOxhN5ciZ6MdSfA0GYa691IZthCWAYxsivqNGEyDaiLSNZLWVgtmsSEqyWoHV/sJZWO7a3C2Dgw+h67bTXNxrqRKb1MQIZ0zCKbda5THyBK1AaApeqACxlu/LS8rWtff25HILpmV2GKwJm8CJcV6aHfqWlqAuIca+rG5HfGh0XDVWNvCVvaNawc0+7NMU9xDivvEar7CFM/bb57MLaG4jxEAhL7BYjA6NfP1DMWvjpkCHDrK+DKZns9uOW3jLlqzBcXEkvj8tIVv/ObeSHGD8qxpBMDLZFcvDCcxNDoOvLq22POmVEpWSsv8mlyk5GJEwvd57Yy0ZHCP1EHvLCnpSNzCmslWDen3VdOWZZ3lGdcjB0de9dcV6cBFNOe3pZfZ99cZz/v/VDYy2DJetCK0qdkBzs94of/QkGUj4i6VJyL6Y6eHclq1GCw1dIEoIffSE92VIH0CRpMyIuyiDMHqgmpN3fO7OtBANWLFOWr2mJ6LLHtCT1QSJIUNKwUcOiMTjWN3LWSLkPmiQDY5fnowUtrqi2XRIp/vdHPzNS1DSd6ZcE/mlX81OIjP2AxaJAVQD5Xcj7WT7lGBCSVl0H7LoOTQM0+aULY8YKAj9ZUWN/rj/ias4pvBDosweS8IKhf3mTkWK9iZndhGaxURaMHhFtfDBFqkma4o7drdAP5CluV0g58+2q1o8jdU6h9juzYMPtAImW/OLS3MR+/0Axu7D2YmIUM/BaWW6ipN6HpWWkWJ9hZkNzMJCUcV8mFanBC3l7b9ne6E5H9tjEiAylqDhEPHdDB+snO5pRDqLHeudrVzkCBuX+boa9+51TUPcqgyeV5iYe58s909E1V5wXJ4oizz29rL5jjcxAO/ajXVblNz8nKE8DuKwoNT7gTBQ/huzoUoksSMmIKN5IZoWowvzBWTpykSNDJsFJ3OmzAktGivVGZpbAFVRFgXBfGPolA9B+2NPiLhElomfLq2wR/T5PT7ZcAdBTrqUcPtRqKLr1R9vfZMeuvR4BDMbtFTWaO+O3P845HOd05smWC3SdclyE4N4+yiGJcN1FR1lgtZLxmeOPSTDDpulotukGmbYErjrSm2LmrxRFebC8ymZ8tplmIhAKBAboV2UooAyPPj3TUcWj2BgLxgz3jc08PGbQuRdyOrN9l9RZup8PP9dJO31FlSFXZ1oHCGQW1AoT/m8J9MTS3IRf9XeQMgtqRQHgFhBdVZqTIHXoYWdpyZYsYdIXx+SBQrIvgm3+BC+kfj52cFw7AsBg++Nrfw1NGnY6yeB0xvoVNdofnZkIwiWwoB9lXtzmJOUUwkd54JRTZpHWlLIDIYOUUpn9vuLW0XWZBRt2AlRRmpsYEA/MFZlxCdBFNYPOfnrZ3rd64ktP2mZVbnmNwJlFqfG9fWw9xMlD8jaARAA3OUuXJHghZJ0SSCkDsChQ2diMFMuXzCRlKCELZPYE+95o29hsx449Bza/zHTS8hrb2t4YOxRjZEyNOZLt2jrHfWHIvEq2hWRd9GeT0l4p8XUZMWaYmbG9s+IZyeppTPgdGGd5jxhtVYwypUExipFhEUyTx/CmFg2NzToamztSMOcvAOWPFdU2CTybZiIQVATM4EVQ4ezbzs5Ksp5sJ5ZSCiP/VDTEx47sX1+aUmf5fbs0RbxeUa2d17fIh/foswvqCgicw4yHy/IS3Wms4e11YN6d+1BdtMWmvw1SUhTQCUtyJ4UdQ3ZKCqzDWJW080Eyy3EjYxAdFdwHi86CFy5VApfigItgb9/eHWERvPA8gf36O33Xl1v1UgBSV3uC818pG/H5dDuwu6hXWsnJvfExDUBO7pOcMqknO/gUhgJodJYlBMw1YZB1Mu4pzUsMSGb65+fG/d6RSXxXX5aMZL2/6XRS6B0QFhVNj7+1V1bmwCBjnDwkpzmCFy84gqINEgj28EGyLUQqVTKCvg/EN29C7UNGx8IagaWdgczd1WbbjibYNOdbmvnvFTV24RGJWEtPVl9xlnwZazl+dOyASKiRgyXJkBVjYNXyak3KqkwLEQJzUjBoP1v+SqDrvIcYMkjFkFg1JCWpHU3HrjMaGjXsa9Jgd6oFeVz3pqLQ7W+vsdWECAqz2wGIgBm86CeLPmsWVKVeXeNQXBAWYeNLc9yoGKOOrb+ZRHl3eHBgEPDX8mpNTjJN6wSBOQW1/2DgaoD+XJqbICfY/dYyCzZeBOiiPrK0NDfx4nCcaFqK5V/EJKoFxkPGyGHBVR3pSqLQU4VA5A93bt+MUWPj3cELb+nUo088HVfl/QPbNtdh0Z3nG3BK0OPsC3+DN199FK88L9n0PTdNY2zdISqhbWbRLYlvfdRS5/xVmE3lBEcyaySYYVoXCJx7f90xFoU/1XVcumx+okEM6a9deV7cZwyMfHpZ/Xh/2wbr+uyVmx8A4aYo3TruuZnjJTOlt02+QKc5y0MkWCGcJCudThwGQEoDhK8koOCF9JOerL7jzC6ClHiO6WcHDl0t2N59NuxtcJ/Y16ualvDmOiMDKSItPclyOYhE+tgwOTySQ6SBYBKAkkCUyxwH87ctr9bk89q0ICOQnmyRMsqHADrCs2uRXhfuHF+ll4PsltHd/kbNeE97BzEIuK3cvB9CAfmA7LP/7WwH5DICacmWxwh0jUxfFlUCF6EgAgwXeOsbbNizzyNNkfii8ir7q+HiXzj6kVlQK2nOlzLj92V5iVJO0m/NXT7CytWleZP+GW4TPeNENc1icasUGKojoj4ykG33vlbsa3Cnn5ZWVGvygOYyIUp8yVFpIyTEksbfX0wK4YXscapTdnO1k/tCAjSSdRFQlsnswg1XE9M/dELSspzEjwIBS/gumOn+Z17fe0sg7XvaZt4738ZzFD8C4uii6fHn9LS/HraXHaiULokSjJSKvOEo8ZnnVMEJuGxEfEo/SZ0BRWRg22z40CjEDe7/5J1e0qhgouuWVxnkvBFraUmWL4nayoBkIzliaHCD0uEOTH2Dhj373OTqTbpFO3LFh+hvClF9ugzpyaqUUt7p6YSUhgwfYg0fQn4G9u5vF5h0ufsKqdpV5R8YpZGmmQgEjMDAfloOGLbwapiRZPk/JipxeTVyWDSG9DNW644Ql+yLA7V2/HVTtP2YykocCP2H1zKFhTezCza8SqALQJRXmpNQEBZOhcCJhQtZWRNXt0JOTRVFP3HJzVPCjbn+zKlTLC8PHURSIoBhg60YNrR/Err5srySdrr1hyY3Uee2nfrvPv9Gj3OeSAvfgMjLCk+IBGj3+tJnhFwj2TeS9ivSmzJPUaGREpmvHeoj8pqUKvhtmQV1zwI8067SMYEoDf0ic2iqrtNKXbec+Ox/d0v9/kA1kayd5VAXudlJoCo8Bjc4+VeEsFNI6QIKMHkCmpGi3s1sKMwY1t9P7IX877udLdDsbgWDJRXV2gWRfJOlp6i3gyEE2bBYCIeOGRjlIt5r9t3OZrTa2tZVFM/KazThijGthwikpiI2tkV9HoA7m1QOPIbHWTE4TOV35T6QYFZzazulkjomunx5lU0C9aaZCASEgBm8CAi28Gm0EFDeTbYIqdpR4pUELSR4MRBMNjzf7WiG/CvGjIeWm1+UXS793IWfRjXFWeXk8ExHqvO1pbmJ/U160j3/zIINwiVQDFZKS/MS5P/hZKnx4+i+hMMsZxgPeQ7NRXnYlYfegWjygCOndm1vZHxYUaNJMFYIE+VEWvTjJZX8QKpV/wFJSGUXBzubZHbBhq8U0KdLcxMzA4HqinPjRGb5hr7kuwjE7xC0kXIlCVYsBPCE88RTVGEkyCTZGFuCNWZ6slrhJAg1lADGjorq0/TvYM2ro362725Bc0sbPwKAHQppKW9XYVMoxwxl3+dOQnRLnPqtUzUII+OiILwDA9G8CVh1Xf3Rio+aJRhrWoAIpCfhcJAq34mSoWeYZFuMGGqNiGcGIwvDg9DVEfxtYeas5TX2JQFCYjYb4AgMzCflfrTo6SnqPeA2EjGJwh4yOgbKAEo/b2jWsNOD/wIKnVKxxvZBP1rioE9l9n3rRlB0jAQwUonoZ0tzEvqtLndmfu1fQLiVGL9empf4j6CDGXiHkmZRcOoJ6jlRqiGziKGxKkYEmfsicPd6r6U31wWDs5dX2+VBTU5iZUMgG0T5PVnKngD0p/KwXzvJOd118sFAXsg6iXD/0pzEgEo+rjgvbjvAW59etu+kYPjTD/qQLKA/AxDJ2Luc5SNBzfKblRw9SYF9lWsDHBWlYNyImIiWOO9o3XfWt6Ch0R24APWDks+MJDWXycieMlL3Dx0tMa+Ba57knWDkV9Ro8wcuGj2bedrJ0ZOJ7UvARmaeYXFDrEaZSCSZZEmLktgBsUDjxPHSihp7QJxMkTR309fgI2AGL4KPaa/1eGYKJuqsfuMacKCUi3gD/MPuFkj9rNMiPv20N26gcx+qm2DRWAIYxxEja2le4n96Y9y+GCOzoPZdAKfYdUp6fX7CZ33hQydjxsaPpX8nTLC4s0LGjowxtNgHkrUv/0JFRbWW4VTakKygXwAQBY4fA5AU/kIAl8lpbT/BSJRArgUgAVcpbap2looIKWRAdcHn/qVugsXKm5nol2U5CaKG4bcJ3wUR3/JU2b77/W7cPxqI+ouUdL3nURYiR+mPOCVshXsloPXpCp60FMtsYhKFHcNioi0YO6L/ZFJ68dpIxlm/IPFLT1I3gNo2lwM568J133rxmezXd2ljVnyN5v7x0dB7s0hPiT4KrP0XoEn94Tm/xaZj5x4pFztQaec8rBCCddNMBHxGwAxe+AxV+F2Ynmx5GKDrxTORWhTJxYFoUlcndZYuY8aZy2u08oGIhT9zPv+B9ZOZlTJmjFWgZC3JnfRff9pHyrVzCuouALgEoGVLcxMuDCO/ZTNUcMrR6ozBsUgRv4Rkd/yogfM+bmiyY+feFveSEHB6ebUmG0Yh6zzeSdApQQuJTsrGUbKEJIV/bRitY6CuyPevlB/I2guXgmSWjHL+LoGbgEq6ZhdsmEegF5ntM8vyjnYpY/js4xXnDp0DoiWqah//ryUNAato+Dxg+wvlyFrUOzY7Ao6vB9hHMJrJ58QDzmCSyEtL9o+sl/xNsmRCpnjjLZ8qAYwxI6IjXm5zd30r9jW6CXlljR6sqNaESySiLSPZksmgpTIJyX4V8mXTYDyTubgvGHTN8mrb4yYuviNwzrEYaYs2SskMBUGxMcOjERsT2eo1do2xfU8LbNoBHgyHtO6PHdK6QoJsmomATwiYwQufYAq/i85KwqF2Mmos2z7URkQjNjqyP9R6gvKuva3Y3+R+MDKzL3wEM7OwLhks7PlMuo6sZfMTJUuh35mrfCQceT5mHR81RVH1T0EwUi4iMSU0kBtGTl+27WgGH8gj9dzMCCeLyFJKurFsFpc5N5AivSd6rb29qQ5kir60kUiVkJFKcEZO8uVf+V6We+FAbr0vPTmvySys+xt0/Sfc2nJM2YITdvvR1Lj05+fFvUDAJX3AdyHBPCHAHOPwQwJU8q8w6wtRq5R8hZLzRHackgXzU2dgIsd5j7n4LkSpSer2Jagh92VI5TwzUtQ8ZrizXuRwYvTwKFiUyMzKkgClBCpdxsRPLK+y/8rfezMcr09Psv4bxFLOZqjEiFqMaTACVRKwEiPCivIqLc3ExXcEMpLV/zLgVlkaPTwagyI8cOGavabr+GGXBDDcGRi7iZVTy2tawykz1vfFMq/sdQTM4EWvQx6cAdOS1LuIjIctI81c0s0HsnnXzes6Ja34yBaQROBAw/H/2bsS8KjKq33OnTtZWMImikhwIwFxgwkoQaVkcCmQWJeGYKsVa6utCpoEa9UuVv9aK2SigFrtImqrEKq2koBaGbBWgkoGtG4kapUgCsgWlixz554/783MMBmyzExmJjOTnOfhAZJvPXf7vvO9531n2j67gMm5ioh3ikmZVXHrqIidKnanb/NKq18noWwXubJWFZ323+4ci0/fiDg+euIw5YpThyvHeH6OjQoIuRLZ/Ej7PtbTtDPXrSNPBHKAQbbaAt2H9CCIJ8E7gOOa1xPEL6cQERBiQF1go+4xEBdOckulBj3VXFv1ZiLZU1402hp0Zei2zkiDj/+1dFVdtOVJ4Y/fNvOc/Lj52o8lon8SEQhNce3B3REpiVysg37e3P757rQkbESBhrnIHaQAOgbcJMPcqjDVofg12Dr+AQzVpNCQAWZKToqfQwqXS6fd+53U0OQbh5M/2h2uG4L1RyyWz8oi8wBRDwD8ivGBc8ysxmeAKdz+haLMtp1HaGF6iTsD97A1y7SIhBE4NSwR1wNOl9DOPQ3kOpJC8o7doZ0bDvWmwD3dWzJePdAbvIjTK2cdr9YS0wgMf8jApJiVSoqme/1y5xMCkhot/+Ut3DJdFK4goQ9EoVkVhZkfRavvaPWTW/LpDGHXP5h5dXlhRizJ8vUB+7Z1vLqMmL4LfzAzHTc42UgjSUTzz33XhS5at0nz35xiU39eM0niZ808F58koB8g+4p3OE7YFxEZxMvg89jjRhqENGWQdQrJoxVFoyHBGpTdkDe8T5Pr4CFmuubJijrI8kXTEDDAgh0BDLDQP9kc2FngliVFsNGA5kfATm8OkD1FRLPd9xmQMAicIaDRrYHcaRbzDULSimh4UP8k6t839gOb9Q0u2nOgyXdzAiWhhCJvtFrAV8Qv4J7saSl/gTyHOF2v9waueK7d4VwSSL2eXMZqMc8hErz7DAOSB4ieRDRIqCKA4TEmeWKNw4XvYq/1eqBDD/QGL+LwBskZZ/oOK2ww7ptMCp0wtGejLjyXEKc7YLl22zd2h+Z7mhmHVzq6Q84trfkuiawgprd0l1awav5YLxlsdEcSud7ySmseEJE7RPimiuKMxyLXU/AtI8e1KcnkYOYTURus9eCxQR51IlndQSft85FNM591895Xlj48OJHmGOBc7iAiwGTXEtEffWQ4f+3eOB8KsB1vsemLatJMmuwnkrnlRaOD3ijMmd7/h8T850N969QVK0JLWwl2zD7lIY2LoMF0N98HuCaAtoFEKXwFQtNwGyj7wS2C62CoRbiRPuBWAffG/8LdYbDtWS2mPCJGcAVBFcOQ9z6oX5Lxjog1AxAc0scHPNLH7gEKcdFahxOEuwlj1vGmR4kZhLuU1tdMA/uHTwHitLOn0I+LH6dBQ4Yf5a8PN79OC+5G9lyLTbbOpmtuKqG333iBnnzYe2Df7X72TR1BQNLu0GLp0KDb/eM/gIvPSTlZ0zQEahG4p36pJgIRfyLbwcMa7XGnF2GeTHLNGocr2oHzRHZxQs4t9r58Cenm8E7KajE/QyQ4oaMBfc00IIwfzPCONPqtbf+mnpBCAhNdLlu72QXoca8F6IGZti3XMvFSIlnLOs1aOX90oqg6eD0ws6T6dWaaTKJOKC8+JVaIHxFoWzKwL+daRpuQf2+8myGXCLUBhRPjVe2/UFGGnfPflAuXnllelJkYEwzwOXMXw0k/lFWQEmEjIgTTvmqGoP/OrUByMLjmiHJLtswgBoJKLiwvHh00afGcGWmvIl2iG/gu2prqvW4kBngv4J8jFPXBOqb98kgNAacKuCzecj936BfpSuC9iESfQY3e9s6ic/Z+tvVnH7+48srd1Z+2qgu5RHDkxIodqtdo30GNkC7iMSauFdFvtG9ydScBa0RcZLWoH7hTnAykXDhTejzBi69qa9oMVOzZtY3u/ilQ9rFrfum8++0ObWDsjrb7R2a1qEDxGOpjSTi8OCY17ol6A/GqH2fdTnOydtorlQYCsdd6PdCmB3rigjHubwWrRd3vPpEylAkSFVoeyoXaf8BJ+w+18LolEilYKL4ItU6ereYmIXmESSqo7sCslfdMOBxqW7FY79KHqi/SdYIc4avlRZlQtYgFw6kzNrKv5VhMM5kYJIWGtZD1Jcc9AgMnsUgX8RgTVaRc/cEKBMuE6dSKwkykh/QkA68HUkYgZwpGeZCRgvMDm+mQNs65pTX3k8hNilkf+9LcMduDdSYkUqHosnRV3Q+CrduF8liHgFPiVjcHCHwCxINno7OvC213VhWBQg8pJ545IBoRvLiyu1OVSjc9Mk7X9WISI5UI4cwPV/2o8J/CdKfvpEwmNg4x+vXpPmj54UYXHTzopAbnkaCF+yP8nK44562rShhpY6/rp2bRMYqouzw/SB/WJ6wbzfaCF+jv8qvvphn5t9F6+7KYQlq09bBt39VAmjuY1ctF1v7raKrF9H2F2Is4OHZwMqXEEb9NZy/ajn6Pj85Xu+qPSKiy/MFe5TIQTb3W64G2PNAbvIiz+yJnvDqNuYW4TDUxDR8amizXdbcupikXH70+bag/SM88Wmx8FD3228dwIEUBRfnbgi9+74YHaNNbq+ijdzsXssBH+eLLbqJX//EovfhXpD4HZ01NOn3tyaFj2mav0tKDa6G3NDyQa6vGafCDQlxWUZRRkGheySutfkCE7mDim1cWZTwaa/O74GzzXLNJwINgGEjgEMAwxyBMPBDf7T/oJPzxsdeT67RLlJ98cgYr+kYm/tHKogykB7Rr+R9Ikqnu8+EuUXesmJx+hAkukAHEfhmwMI5zw4UrQ1XWyLVV4yVrLi/KzA52ytd9Z3C6OLWtRHzx0lX7/xVs/S6UP80dwAHi5FvN61jkPCON475m4lLIN0dSZcQzbHCPAN2RT0SQdISEZ7fcY7bNS07XNf1XTDyrlU+Zni/Omvtd63h1CrGBzpns+3sQevbtY6J+qWrUAp2HDrvoQL3TK4npGY8bbXG3fZML6TcJadMmqBeJTkAqRYTvoqPgBfr0XZe1te66/bcv0dhxeJxazDfVxD8lpa11X7guWmsuMv6h3eH08jmEq49EaMdqUUEEnIG59ETVmsMNGuFe8b5DhCav2aThW9hrvR44ygO9wYs4uymsWep9JAaxG/Xvo9KgtNBkuRC8OOeCK44KVOCDl3lGNq1a8VBIwQN/d6K949Mz6I8lN0YleIH+wXANpmuYwspZr1U1xYqyRFzdbbmlNfc061j+WoSWVhRnXhdXgw9gsLm26nXEDIWBc8oLMxwBVIlGkSFuvoObTxlu2nTSMPZuUMB9MXhAUtxJIu/Z30gHfWQSwfGgN2iXrvuQDk69538p/dKQ4ytvlxdlQqayXZv9+pfpkqRvVUz6Gc+dcyLg2vFu4HPA7gJJzVAYqXVvmENGGoCsE0SX5UWZPwzWOddO7/8zZv59N6SMINAC/PtD7jEjD+LbbgJTBBS8KKRg5xRCeaicLCWi0W40CDg4QpKsDbbvks1LMkkTSMRe1U7d+4onzDUUxmA5WeabWOSuZr6UE/zLQ6koNUUx3hXhTjlraHTR4QYXHWpw+coce4YA4ePfpdRp967+hLwEVMH6Ih7KWy3m24jE4PAA6mVwiGux9ubaWfDCd20FXgxfzgv/dZwvUmPLf980yn62pcqbjoLyp4zOOmo9GI7r0CpwnWCEreHwD9rwVRbCd3740BSDtDtUQ2Br+Mgx7Vbfu3t7wGvyUMcQSj0/0v2Vdod2hNgllAZ76ySsB0J/OhLWJbE9MatFRR6zIYHXFfmk9oIXaBcvvtS+aWF5uXVH8ML3BSjEN651OHGS1msheCDXtmUhEReT8CPlxRm3hNBEzFaZWfJxDrPyMhP9a2VRJuQYY8GAcrnArbjw1cTTlFv7pyqeTZ0xvljLc2/PaU1O3SDiwt8+9g89Tcv3kUSlmbaaf7Do55YXj4YkZYdWUFkrQsqlZdknREp5orMhhOv3SBN6vhndBKUZpMtg845gBnyABVtI8zOCFzrdUT4/EykoQdl1M9IcQnT80lV1nV6HoBruuDDWIAgggpwT6Rtfh7HtUJsCCgZpI4D+FYV6LQLtfMG7i09WnISgRcepOkLfKZ44FyosXruHSPl3llokwvOYpE2UIaTUwcWA9FLk0YPkO1Bz6UJOTScgGhudOkEdQBCeOPm8BpYAACAASURBVNqamGmJy6mVrnuPtgXafjyXm2YxPSLENxnv5AgoQoQavNiwboVB9OnPleHxNdZ+Z2Zd2Gp911lfXblOfifqvaSdbThzmkXdjncvfhVuNaGuopm7cu2DrYt3zVffHFEfURTKeW2jti7YdnrLJ74HeoMXcXaNrRYVp3LIlabhx6aQqgS+EPGdakfBC/+XnX/aiCeKr6otqI9PPnqLRpx0upHqsWP7p94TgGOOPdELW9S0Ji+awz8q7Pu7cLxo6w5pBts5rFd6qes3eK6tGkSCyElfUF6U+bOutxg7LeTaan5HJD8XpnkVhZmLY2RkeC+f6eZDmHzCUKVsdLpyCR55z/iQCwvUVaymkfjzW7SMW5bYHa6jqPDzbFt+K8R3BULaWVBZu5uE71s+eUSrgE6MXLdghgGOC2xYoWgRNDFnWx3lLtxyPin8BhFfWl6UEXTwo4XvghcsXbU/ms84AjVIF0JqyDHNiIfnmlH490dIWSSY64OyCGIg8hZx0s6SjYvmCfE97KMo4j9YsyLHzrPM83Is+P9+apbpWkX4WoAyOpookBgmE9JOFVIUNnga8EeYCHEJBCxEFyP/HP/uxN4npqd0l/andZspZMRQZ53E4u+tFhXPmBH0HjooOeyIuM4CCu0hLzzIivaUR/zTSXx9669iEg6/I+i1Y3fLhpSZNq+p0saHo91EaWOaxXyzkBjKUGYT0/EhpoK3549wrKmj6evddY2EdDRjxUD0/FqHZsjH91qvB3w90Bu8iKP7YdrElFPEpRl044CWnXBsaHwXqN9R8MI/f7Kt3EoP5NBTVjUnGcEJ3+AFJLv8kRf+//d8oDEmpJaMOfOCLnFeoB0/ydRKu0NrlRscR5c8Zoaaa9vyNBFf07z6uKe8MOM3MTOwMAzESB8hmsKKnLvyttHvhKHJrjYx361AgU3cn5r/fejUkZQ1pK/phX6pPNK38QFQG+hrxqIwJqyxyWXIoDY2tSbuY+ab11Q52+QWySutvkqEnhWmsRWFmR91NJGCylrIiv53eXY6Turj2U52b9JvIKID4ZhIrq3m50Jyr4mUsS8VjfokmDavnz5wvIt1h66bzn765b3vBVO3i2URMERayH+ICClT1xMZhJSbiQhqLDu62H7cVF/49pIpion+ICLgAPG3r4snzA0IETM1K2mMIvqVQpTLRJMi4ICPSahCTPTi2o3amxFoPy6avPCik3fou2uPxWCPG5JCyebQDpLam2xnwQusy/bt2WGkfviu2ToLXoQTWRvIhXK5hL7c5aWP+dru0AK6jwNpOxHKWC0qFM/OwlxwIIF08HBae8GLtlDR/gGxq358P3395Sc06rRzCbwoQPVMmppPH7/3Bo056wJKSQWAsDWfSlfH7o++EMU0Zu3GxkjIZHd1qL31u9EDMbLk7UYPxFHX0yzqt4XIkBsDDBTSXKFaqMGLtl54aAsfz0CCF22N17fNcAQvWn0shfbYN2lYFPdaFz2QZ6t+XoiuIKKflRdlLuhiczFT3X1iDRLcNeVFmTNjYGCANOHIE6fRyL2/m4hw+vDIBWerutlErU7GAQMf0FftVrUBpIYAbXGoAWIZraySdb51zWZnu0GhSx/6+CxdV94l5lvKCzMe6cj/BetrHyKmjOXZ6bFwnUK5Ve4gIgQsNjanI2S5U0aeahYQwAJ2tzuQERISI89WXS5E6eVFmUB1BGVzZgx4kEhujzLfBdJkEKBD+gyCUh4D50WmG31x1A0V1MQ6KVyycfETxPxScdYtUB+KCSvZuBg8GyAO9RpIuouy5kLWNSjLX73xq6bqN/nQ8l+9oDccAp/H6W6ES6DtHMLehEk26aK8pYryxr82N9YEWjkRy/3grW1DmoTKdv9qitX1DahqyDgtx6l5OK0ztRFfYnPf4EVnaSOR5Ldoa/74kNV+7RUsa7Q7tJRw+ime2/Il4AciCgeS4T6I6ErwAtwo9YfrvClGnvsMPvcQ+/uu/0Mh2W/r+n2zr9Hg1YEJ0f1rHRrWQL3W64Ej38ReX8SPB6ZZzDcKyR8wYrCKD0mLfvCiLeUR35djZ8gLj7f91U48BELhCF6gj9od9d7cXIW1ga9VEeRle60LHsgvE1P9l59UkMglsarSEer0cm1bfkfEPxfhworijFhISTixeU38uJsP4AEigvIIjq/uHjZYOWnsScpJbrJH75QRxOgXZbUBkPeBjBN5zUeZ0C/tm7T/6+ya5OeXmeqzx/2XiT5aWZQJroF2rWDDl9eR6D9bnp3e1ul0Z13Fwu8h/4mNORA0pxDRKCLC6a0FvH/u4AVOy78KdrC5tpp9xPRyeWEGEAtB2ZwZaVuJZM/SVQegeBItA3cTZK3wIQO3BP6NzXJUbKFj8XTWaZUIvTB/4twO77uoDKiZhLukavGvm1frSCeaJST3MTGCl7BWZJ2BjKegstZORFN1Nk1cMWl4laeOIfFJ5pGk68eJQoNYlL4kpAqTi0WvJ6Z9wspO1pzb7O/Sl4H01VPKXLW+9lvCXCYkdbtvO22I7mwYhLlj0wk0bDitveCFZwO5Z9c2rwKcP1rWP0Dh29aba541Unt960daehXBC08C0pBTNXXFiuiQ4IbzekSiLet40x+J+UdouysE/B2NravBC19iV8991tbP2ktTCsVv9Q0u2rXPw/crn9kdrlNDaae3TmsPAJXH4hpLxKMMjiRRjiOSgcyUKkQmZA0qRId04n1M8jUL1eokNcLqh+scjUGhOSPt+/C+bSM92h7evtWiYlHza7ghrZ/ZIO4L1TrjvLDOvJ6e++NdhmSqb8Ciq8ELT76lL89FuJEX8Mn2b+pJ01o+lzorp62ravo4VF/11jvigemLatJMLqkgofNZ6LqVxZlg5k8Iyy2tWUsiU1k4e2VxxoZunhTQQkh3wgYEGzq8qyFfCwQG0C/bcizmG9hAZUirVBKMG2oDfZIVSk0xdYm1vC0fOJ06HWp0UX2DRk73M9a6HP+VXcp9a95thPRbQJZrq17RnDpwYXlRprEZaM/yN3yRpZCynhVl1LJzToA6RzwbrjH4i0DY6TmNPMJWFuTMDLLOENO6wHchIvOfWn2gJMhuu1ocvBIgK/0lSPeRPdjsCwTrIn5tbRsXA6kyU0zKOfPH39zt6WIL31n0XWYug4JF8YR5xQ++/cg4E+u/IaZLRWjG/IlzDdRlIFawYesfSPhG1jl/2Xkj/h5Ind4yHXtg9oYvbxbRl5DQK0zKnTtvOfEV0F2gViSDF1AS8Td/bopgpVI95T2wf7T/71efJqT6RsJ8gxfJdVpKoivRBOpD63h1NzENRvnjBqdQclJ4U4/QbleDF75Bibbus7Z+Fuj8OyqHVCOgqA0T+pZ9kwYZ8F4LwgNTLeZJisiFSItuPtjAoUj/IKq3Liq0h5kqdaJ/mxT+12sbnZtCbisMFXuDF2FwYrSasFpMi4nYUHzoKiNxZ2oj6OPun2JN2VpPvCtpI2irLRZs3xzMcCEvvt7TYDCkG6bTefbN2vpoXadE7+eK0s+Pb5KmVUQ0ToRnVRRnYOMZ9zZjQfW5ioleJ2Z7eWHGjBia0FGBC9+xTRuvFgnzPCIBWuMoS0k2GfnYWBglqS0kfcEYAhRIC2ls0gy1ARD5tWnCK5ikNBRt9tySLfcwK7UrizJA3tiu5X8gSUrdtkZFaOpzk9NfD2YeMVYWpHV4hn5OREgbubwZgQFOkDx3SklQw710wcdn6SblXSYuWFmUgbSDgO3a6QMuZpZXNJc2/K+vHA4a8RFwR60LDmsO3EBmEtfQQBO6OS+QEgUZ3KdDbDegarZ3Fl8vTH8SoofnT5h7W0CVIliotOqR03TRy0TowPyJc70cTaWbSgfquvnXSp3zN4U5hQERYhZUbi0i4hJm5fZlk05YGMFh95imZ1due0xIfkIkj6rceOffJmXUWS0qnhXcxxEJXiSSc32DF3qaZvZVm0qkeQYzl2nj1QuF6V+oEwmiTs9Y4jV4AaWyg4fdiE6m39urNHwre60TD+Rkmc9lkdlEfEVbB1thcyBTNev0PLGybI2jKZo8WcYUglvFhm3WvQ2F4gGrxfQkEc8xVnkDkqlvKg6tQrP2ghf++uBovSuEnb79IDUEwYv6Q3XewIgHiRHutJGdexoN4k73XX6JvUp7NTRP9dZqywO5D36YQapagXWbMM2qKMzEv+Pecktr7ieRO4VkfkXR6GifQnv8By4AwCQR2cY7GpB65MADddGuDOG0LNO1eD+I0NSOLoTJxAbEuUVtwGCAb0FniBjQXl0n48TDpevtICt8WmfaQ0LP6Iryp3Ubm96Pxg1gyKWKXF82eeRfotFfhPrAphI8Ky/7tA+ZXATNQFoZFNdDnm3LTUL8iIlMZ/2z6NT/BjPma2cM+AuTXBdFvgswTSM4gYAy/sa84Y8XiQjSkxFN8bN9YBusHzavQYq5S1fO+tk5N3e7PGvJO4uXEdMsTZORd0yaF7LU6Oy3ts0UXcqJ+NHl2SNuDuY+6C17tAeu3vj58ZpTRZrIRCa+c1n2CATcDMvJMn3GwiDepeFDU0kNM+dFolwPP84Lp92htcjU9XDLsai/Z2rhr4pUygjaDiZ44XuQCMQP0ou6C3lR3+iiXXs9qSPksDs0cET1WjsesFrMc4jkx27EbpulsOZTVTZU6qBUCdUpQ3HKh2hF14Va/hBprpY1IEhUO1GeWiMkT6x1uII6OOnKxewNXnTFe1Gum2Mx/5VJvo9uhwxMor4pobMS+3NOeKYCRmEPEY/nZ6FKpQKC6AtPBCzRw4TtgSsiaFH9QSVlTc4zCD9hvkRUoboYLz28/GAKS+5rVa6E2FyH6o9I1JtRWj1OIUIKCeQuZpUXZiSEHneurRrkgVMV1s9/qXBMd7DpZ7tP423u0+hfuU+okR4CXgSwtQNfikAmTu1bWc7ZSacrqn4lCeUJ0YRwX3tmpU4ZOb0/s+veV18oRypbVK2gcusHRMqLy7NH/CKqHYe3M6AN/upW2fC0DA4MKPlAljgo7oeZJdXPMtPEg3UZp627h4MKfMyZMeAwkbyxdFUd5HijYeArwaL9p0QE4lXIBP6QiLDZBmFrwOkRoQy2ZONipKjcSwoXF1tuwTPWreYZj4jkz584L+QUj+9tqM1wCSFVa/Xy7PRYQo51q39D7fyqDV9epJNeRkLbkSayLPuEl3zbslpUBxEZsp/DhqRQUpjVRkIdd6zV81Mb2WV3aIZCS0+3HIta6VEDGjow2UjxjIS1F7zw7AE86UIe3pMD+78xCDq7O3ihi9C2HV6VGtJZG7quir6JhI/iuU3rePNPiPVi8Fj4zwOHVKnJCiUnmyjFjGBF6GlJTpcYKnKNSBluchkBjjbsXRIpsW9yPRNpn/YGLyLt4TC2b7WYnyGSq9HkMQOTjLz2WDC89Hw5MmJhTL7BC1Fk5tqNLkC0ey3MHri09OPzdFEqiASQ5lnlRaPfDnMXUW8ut7TGQkJvksjrqekZM1fMYjeEJ2pDwXsZBI6XEhmbERw/gNYePABNRLTHrUbS6YCmnksjTE4TkBjZQoyTizPA99tpxVYF5HMi3ixMb5uI3kj9/vtDhJR/ENE+Fp4ebX6Q2Rtqn8Xwlk1K/15w84ip0iDVRAogNvAfujkvAIuFwsy9wY4011aN+2NzeVEm7pmALT+fkvoeSmtkpmuerKhDMCUaBjUUELmCkBYcF/ADFEfuc6MxIha8ePidx87QWFsDBFPxhLndfpK3sGrRFaxzGTM/VDThFkgkh2wFldt2NvvyG71h/zkrck4PSbEm5M4TrOLsym2FQmIjkpWKS+587vwTkcrUynIs6mom+jZ+OHRQMqUmR2bzGe+uRcrh17u9VD7v2x3amfE+p66OPyuLzANExbfcsHSojASZzhnoGNoLXqC+B/mMf+MgcffOWhpybHpMBC8wph17Gryy673r+NZXfFqW6TIRxuFRK3UxgCj6pJiob6pKKUmReydBDablz9FnJUz0n+bYxj1rNxnf2ohYb/AiIm6NTKO+zMSDByRTvy6kjYQ6wvZYrH1TQUJtO5z1fNNGROjCSD5E4Rx3PLaVa6u5mEgq2Nho86yVRRlHLfTibV4zS6v/j8WQKE0oWVhchwuzaKSIeqKwDGNRBpNIXyEyC5OwcD0rep3uol2KYtrmamj6bN2H1GojlFta8+vmFBMP4qKWRPLKi0dD6jMqNruyFnKjVyzLTm8h5YlPA9vyjc1ZOkDVGKR/zSokCMqElDZhkHUKPVhenAnfBGxzZqQhAPS3HVKXsnq1ESSLlI3A+tiNKMHccf8ggIN0EaBQcGr0sNsnESPrLHln0R+IGX6fVTxhbrdy9fz+nYdGm1gpY6GDxRPnndcVxxdUbvtP80Y7i1SZuHziyKikb3VlvLFcd/aG2j+L0A9J5KHURtedS3NObpNE12oxPUHEgGnT4LSkkKSqfTeP/j7ZvvVjb3ptIP7yRch2pAAXSFvhLIMNDqQv3bba7tB6PCrIerb5HDLJW/AJYPzDj0EmXa/5e2BvXRMd8PBeEP3C7tB+29O9NHUiDWOXeaEHhe/xB1AW/fqqRgoSZHejZUgtgeLcgUOaV+HR27fIY/UpruLKSkMpL6wWvRmGddg9s7GcLLWExch/p0FpScZN2h2Gj+TwkWO8XQf7kY3GmBHpR8QfZhKe+K9Nzo3R6Len9pFr++RyIv0FIdmouGTWytvH/C/efZFrq7ETSY6u07dWzc/sZbp2X9CZtpp/MMl3PNdXiD50OfUrXr5jzJYwXHNIiSLVBQtcsGQDfrjAt92CytrpxPR0vZZyykvnDz0Qhj67qwkojEBdBR/2gMgY2xrot0s/OkkV0/9CUf+ZMyMNUPjcpavqQseTdu49fKgedAcvwFOClbqv7Nqf3JwuCGZEDHVh2/jIxUL6K0Tyz+IJ8y7rfNiRLVGycfGzxFTAjc6RRZOLuiRJmv/mtnGsuNLLsk9cGdlRJ27r33tz+4m64ioT4tOY+c5lk05AClO7Zh2v3kFsKONQ/76qQaIerLVFgI422pJD7azt9oIXL/61e/d7dYc02nfAAzKQJXaHKzKSJp05KIZ+b7WY5hDxkxgS0r+RBt5rR3vg0GEX7a5zB76En7Vvchpp8z3VpllMBUK82OfAwwhUpCFo0RfZ293nGaT5IICx/yDAo74mnzLxLWscmi+/V5cH2o1T7fLYe1wD1iz15yT0O0wcN+vAED6WPcVp23c2kAbGGYOAUDt53Wb6vKfMvbvmeWlJzdU6Czabr5tdyqwXbx8FGHPc2gzbR2cqZEIazL9T65x5K+453QvzjNtJhWHgubbqL4jIX571LVJMs8pvOxXpC4EaMI3g97iIiMC3gFQZnMp/SkSAG4L3ASf2QAd4sYmz/7N1uJj4SxbFsmzyCd0q1xXoRNsoB7lbyAwjJQkboD7NxKx1za92cDC0I+fSdm8zSz6+mll5Rldo0qrbMo3TvEANEqlM9PSTq+quDbROF8uBnBOKMkiVQZoIFjT+q50udtF29YXvLHqJmfOIJbs4a163SiGXvLP4bmL6P1Lou8WWuUiZ6bVu9MDsN7fNFEXAb1GtEN353OT0ThfaVospj4gNHozkJBMdNzg56Bm0F7xAQx0pwrXVUawGL3bvb6JD9R7VCL7JXuV8LGhHJVgFa5Z6HwkZnE0D+pppQH989nrN3wMNTp12elKOhN62b9LiGW3ZpQs8zaI+KES3+zbSr49KA/qZDQL2WDGo0SGA4X3m3QNjorvXOLT7wzXO2JlxuGaUwO1Yx5uuIWZDQq5PqkrHDAgsWttRzlu43NXRRzhcfQTcjhBt3XHYW3w/a0lVVdFZIAc8xgQtmGurBtngY0S8OjW5adaKm+M79/pIigTfWV6UYZyyxZLNLN1yQ0Xh6CeiNaZLSj883izq9rb7E7tLVWavnpexK8DxgHsDKQM49Yca0ObmfQCCs79uJnJ8h4hA7Aj5UCittCLqguKIruv5K847MWSCwwDHGIliJxARTt1ucAdt0AeCNX9zp41UBdPpzNLqP7BQrkvlsavnZSAAEpDNmdF3GJHpKyK+eOmq/YZkX5QMK3VwBYA4c6yb+wLpIxGTaV3w9uLrFIX+QkJLiifO7daT34UbF1/GRFCwWDR/wrwu8VxE6XoldDdIQ5OWAOLzJqY7n52UXhPIhKdMpHTVpRrBWpx+jjgueOh/R+sm/xRd9OOLetW0JoPk3IOsCDRtxFMO7XkQtB61t4/ebQEYesgbVbVljfnJR2/RiJNOp1f/8ai3v0B8hDJffVPvVa1SiLNfczi7NXAY6LgjWW7aePNTwvID9NFdKeCRnF+42kZKwvZd3qytr+0ODWTlPcqysyk1tVFFSqkXLQhlI6DvY5ln51CDRnvrnH7EnrLU7nBdF44L2Bu8CIcXo9RGzgT1PNbpP+gOzNZguA7EelrwAtI++GC2GH9hdzhPCsRPvWXa98DUrKQxLK6xRHyqIjRCmI8lkgEilMpsbD5xtHKIhffwCeeNNI3IyWFz/zeaNt59lb2yvkuQ6O6+Lrm2LXYizhHRrRXFY6BEEhOWa6t5okUaiy8pL8qIihRwbmnNVBJp1wdMVMFO/aqX7hgTajoHUgjQPjbySKlYDl6x5vV0K06NgsraXUK0oCw7HekI8WYgioRSDDbR4KgACgFw/7uICDKnQUH/c23V4Dj4qrwoEwiWgO3aGWnzmOjhKEqkQgL4W81BGwS/EKgC6iSdiIqbUTc4wbYHPPggCj6w8fEBZmpcQ8Qns6qeVTTup932Pnpww8MZikkpY6ZDxRPmnh/ENDxFsWbLgMBFc+CrMlqolRDGGRdVZlfWPiNEIEF/8LRXRtx5zz3cAtcM0KwW0/+I2FhfhKI40lnayGdbqmjB3ZfSaWdPMWTmYVCCQJDBX9Y+mOAFghYelQlPioqnr/b+r5qTWgVLAnGRn9IIZFKxaA3Kx4H0E29lfMlejx2UTClhIHv150/xD24F46NYOozc+rX3IFLsDi2S6Y3BuCgqZa1n0wlkUoHM8yJOQMQ5OA0pIrG/fQf6fc9+JzW4lR/hNCF6uR9rV66soiMnzCF4M/ZnH8KkErXKtHNoiGiqcQKJC5c+DEjjzq2nBS/AfvvNvhaEPx6UtQ5teude6i3h6wF3oAycAxe4X5yQ6AzJhLiWsdBmWqeL8q91jkbffPeQ2oxmpbyFW8aIojiE5T99JPU7K4rSw04+FMp8cktrsklkPTOtWFmYOSuUNoKtcwRZ01FN/vvBulFXBSvZ6W4RZIqnNyuqzHO/5qCAgY/3C749FlTWvkbMnyyfNAJIn3izk5vTbsD9gBMIKIxgjgha4G8QWQaFvABZJwstXlmcCZ8FbNdNT1svTCcvXVUXjdOsIc1cJuWeT5c7PQjJ+AhWBSULG/AE3QU9KRoidMf8iXO7NdhVsnHRX4l4tqbQyDssc9tBMLU7Q3z2wXmFzTZkOiE3uztYf/SWJzJkZXVCEAnBszuXZadD9SZom5Zlfkqk5QQd0H+kAARjHRF2frj5dSNwAWtrDecJaHxVW2OUCyZ4kdo3zRsEQfu+ddvauCKFBUENX6RHIPMEdBxpI25bY3doWFP0eLNaVKBPjA3pcUNSKLkLMrue+yC1Txo982gxrbcv894zM/Jvo+r3K733UaCOj6XgBeRSwacAU1gb+FoV7Q90HvFcbuq4lJMURcNBBhTiDBvYz0xp/YJ7x8SCD8B5A+4bH3sj2azlrn7LSJUNyXqDFyG5rfsqhRLp9//wef6/7fMPaNRpLQG9hvqDxotvZn6hF0roS8SJj5s5KYUQfYf+M8z39/4vO88L1VPW077nxRpJD+474KS6Q+40aqbf26s0bBB6rRMPTLOoF+gkBUx8ORClkXIYE20UpudJ156zbyLwJ8S8zbTV3MUkv2WmX6wszOxeBjQfb+XZtjwjxFeTLheUzx9toLIiaXmlNaUictvRfbCDSFZBWrCLcrk4jcZJPIi5EJlHcALpJSW+fRZUbitpJog9a3n2yKDQBpH0TRBt47t7czOADvmfOEla16z8CgZkIA/w84A5IGY++sUgbmjcI8w3VRRmBJVLDr4LIl6wdNV+bIIjbdi0zHRvvtEXUoIgl5rrRqEY8rew/Hwy7dpKx3OTeQiZpJ+JyOxykQhzo0m4zuRq+ubV9yggPp2FGxaNZZVfa07H2Vk8Ye64SE+yo/ZLNi65k0juF5Yr52fNaxWMC3Bc4IcBUgf8JHg2EOj7kTvVqixYrpQA+0y4YrPX114uTGVM5GCF73zu3BEhI358U3lTzAodGyAa1uNU/3VTe0Sd7fFfoP7AwccZqiTBBC/QP+p4zLeu7789vw/1AAyHSF4pRaE77Zu0mEu97I4b3GpRgSQ8C30ff0wqmdXQt2IdBRo86T9Ydz/5cODZcjEVvNhZ7009cLI2/I2qyKUXdse90FafUBRRXCrQtF5Z4SFpydS3T+SkTyM999bEvQRy0XX7SLs41JT+0J+YSM+0t/02PWC1mJcTiXHKGqg8V1vBC0RkD+z/xoi+wwBJRKDBAyX0f+l5ci09pwH+0ELflx3aueamEvLAENF+W/mbkbrEO/c0UENTCzJRSK5c63CFslCM1PBirt1pFvONYqQfEODsbZqqKKSamcwmJpNJIZOJyATYGrOBAoJOo+hELiHSXTo5dZ1cTqEml/jlvLVuXoieVxR6fM1GLZo59yFdg5m2LXYmziGT6cLyW0+NmH51MIPLLdkyjZhfY5KnVhaNRipCRG2mbctqJgZfAS79v0ToGFz+hiaT9bWfnxq1E5FZlV9cy6z8avmk9FMjOuHINn4cEZ0Dvr/mDSnUeTypFAH3OrPk40uZlX8Gm9J03fR+Y4WVD3TddPbTL+99L+AOQyuIVwTSRRA8eMi3iTNPSTozrZ/rnBQzj21+F5xJwqOJxJ8Mtq1eQUH/nnWRGQAAIABJREFUGRF9xEzvii7vJCe53vQ/yVm4cfEjTHQTK3xVkeWWliPJbrCSdxZfSkwIMCwunjC3FelaEMPJc/sRvFdArMCQVgUkBghg417hKQhfhFR09vqtvxTme1noOUVMdz573vAuBc8vyabBzkbVi34ZPjSVkI8eqLW1SfSsvXZu/8wbYGgveNFe0KEjqdS2ghORCF7gsHzbzsPNqtot3lBYOeu1qiYgzHq8WbPU90kMhGGXgheedfjbb7zQbnDCH1UzdNiJ3kNIz3reFwGEg8Yd2z+ltIFDj0LneDhS2uJbcTob6bjhp1JKaj9jHwE754IrWqFBQrnwrcj3NS193Xu0LZR24qUOgvfffKquYyJvWiHUaKBKE+92oF6jvUeQWMRC/1yzSQtJ+Svwt2y8ey1Bxm8db55LLIswnT4pKh0TgMRSe8EL32hseycAnpciXoD+UEPfD+p5075Hx6dnGC+7SVPz6cysC1u9+PwhjpG6HCJCtTuOoPq5SRu25n3aEan+4rndHIu5kFmKSAxFh1ammhRKSWr5k5SsEIIXoRokaxubdGpwuqi+AWnuR5sIrSNFFq6tclWE2k+k601/sOZUkypYfL2Zmuy8PFbISHNt1SCtvFJR2fLSvIyIqW9c+vuP++tJpt/r4nppVdEYg40/t7TmZhJZIky5FYWZXbl2OFIAJwIkQ8F1gVMpKGe0maKT//a2cYpLNpEuo5afNxLqJLFuyPXG0Rdg6pgX4JIIGoCNbE8waAvfiebaqh8koR/pLufYVT87/etAnTBnZtq9JPTLKPFdgKAUPCb4+8YpZ6s7VRMhlQ9BsCOa24EOvuNybwjTakVX/vntJxYOV5gRFC0vnjAXG/9usQc3LjrVRFxGJIeLJ8xDGl6ohvf0P9zPxt3uQBDS+aBaU+gO5oTadsLXm125dbkQz2KS/1uWPRJksWExq0UFtBsIoqBh3e2dcHs2k76HSRdfdlMrwsyupI1grO0hL8KVNnKo3kW797tlLok22R0a1KR6rVm+rDXyIoXMamjrq0AQMf7r9LHjvuU9pMTF8E8Jwv+nXPwD8pC4ogwON+sP1bUKpvmmEWF/cOzwU4JOKwrkZvhyZz259JYImG7Sjl/3DgX8nQuk/VgrY7WYnyMSyIYbBmEGCDQkih08rNGeOl/hvtDkk3uDF3F2R+ScnXQ6m3QQtAXMcN1e2ogvc3QgwQv/D55vu0g/8QQvcmfNJ7wg2zLfPM5IuN6P72LjWoc2MRL9xHObOVmm7zHxr0ko03ceeBn07aNS3xSTIf0WCUNw6XCDiw41uFqR+Pj09ZKu86/XbXbiFDrmLNdWjVPTB+G/lUUZ98bCAPNKqnOFaSUTP7qyKANpB1GzfFttaj3VHybm35UXZoBwMhTDpgyBDwQskHu+wC0fiiRJnCoflUaRv742VWE6rLBy8XOTToh51E6zasqxRAbZ8gAiWu+eK+QJfPkmHmlWVbklGAfm2qrXE4mUF40+L5h6c2akVYNrYumquvHB1Au17HlnJY9ubNR+k5JElyWZuVNNSZOJje+boQDnISYTIZcAyQX5687VZPsPH7b7JOuUIceNO2PqXda7Xg917F2tt/CdRU8z81UKaSMLJxQGq6iCe+QapMa3qDh5VXfAIYLABdJGkFaFVKvOndLVycRh/fwNX41VSEOayGAWvvO57BFPhXMa0yym7wsx+GpIVZmGHxO46kh7wQt/gk60HU7CTrTXXvAiXISdO/Y0UmNTy2GFEN2x1qF1K99MOK95V9vKsaiVTDQJ7QwbnEJJSaEHL6wzr6fn/niXl+vCf2z+wYtTRmd50RDtHSr6HlaOOfMCaqsPf7SO/+FmV33kqY/DSKwbYclmbUBXeBLCNaZItTMtS/2VCP3G0z4URfr3SZzAhWdekFLFH48J881rq5xQlgvYeoMXAbsqdgpaLSrY6ZEzTEMHJXcqlxPt4MXVP1lwFEojWt7z1RQXoXvXbtIgu9hriPZnJZ9K4oIkYSuYlkll6p9qpv59TFFlMG7ShA4edhIisf7GTPetqdJ+FYsXLtdWs4ZIrNFU+ejMD7m2amz+L1QU9ayXbjtlS2flw/n7XNuWz4l4a2rl5pwVK2a1Da3puEOcigP2jo07ZF+fcUuHIpCxuD0CS8ilCslPy7JHQm41Hgwbzp+6N5z4UGPcQGAgUojf4TgCyJOADWSdQvLniqLR2MQGbOC7EJH5T60+0IpLJOAGAiyYfab6rWZtgXtSk2lqW1UQoMDCHYR1UNAymxRjA9iZgcANSgZAdRnILvff7dTbC8ldnbWH1lW1ltztrJ+u/r5k46I7iPgBZr6iKOuWF4NsD47A9UGACwgd+BApo0BXQVK4wK3KgyBqTJAIBzm/qBVHAEOlpsHPTToxIrxAVosKdCcClAYaFqjYQKwjbgHPCbg/91hH0H30iaBEV9JG0EZXpVIbnDrt3O2VuOwRJ+aBXG9PGatFXdWMwDOI5ANZw7fXdijIC88hIxRr2ks78b0vgaQGEqMt89ybbaUiBeOP9soiZFF7RG3EZXdogT1Y4eg8ym1Ms6jfFqLVnm7T+pppYP/4I+cM1G179jfSwfojy0UhnrDW4QyYrLzzVUKgI+ktFzUPTBuv3i9Md6JD5EEhH6ojC1fwItC0ESAvfKO70XKMkTKys/7I+RNzlr3KCVb2Hm/WLPOPSAQbQa++Lk438YLs7siuy6UbTMQH/IIYTLRBJ74lmBdaNC507kOfjiTd9TFO0BuaTFdGk+uhvfnNLKnJZxaw5y9cWZgZak59SO6bWVr9S8ZpgctlLb/9NJBPBmsgc0QKwXz335e4iR1xUvfv9qRDCypr3yOml5dPSo8G4WSwc+qoPE7KAQsFUuWfbqRJsCfylF8mpvptNZqQzK8oGh1wEOLaGf2mMCmvq6Km/2n1nojkD19oSTpNF/klsVzl7wiTwtQnxUSpKSZKCSPCC9BiSLLVN+pHSAJbdw4M+wNDTtXuW7HCkGmNqJVULcklkTIRWTJ/4rxQ7lEgK+5rBlkiOIGg1neb98ZLcAjvfiZ6kRYRvYKBN261qCCfRSqPEYiDgkQiGdaQnZ3w+863FVEnyZN2h+uHieSPrs7FajE9ScQGR9XgAcnULzU0pGsonBfBBi8CWc9HKniBteGXu7xBsO12h4bUw4SzsWMpaViKCkQ9ZLCNA2kEtRLdduxuMA4eDGN6016lBSwf3hu8iMO7Y+o48zhFEW9u+4hjU0kx8LVtW7iCF4j4B0PYuWfXNi80MVTW42Auj18uVZXdoU0Ipn6ilrVmmR4j4VaSkml9VRrQL7a0onGCCqWYBjfU1Hs9mH9sr3J6COpi4jLl2bYUCrFNSO6tKBodE+ieXFv1WiIeZxI+65/Fo2qj5ahc25YTiHhbF5RYsEnD9QWXzwfuHH5IyV3fLGp0g1uN46jpzK6sfUaI+izPTr8yWnMNcz9YsSJog/sHQQSouGwNtI/cBR9NJZNpLYnMLC8ejZO8gOzamWmPstBPI8V34buR8x1QapLJYEsP9FQ6oMm0UwhpJci5B7LLCRbhVsZfMOl3r3G4/taVPjqqu+CtxScrCpURU33xhLlTQugHeZel7mDzjGZFls/dbSANEsSfD/uTn4bQR6JVQb4GFr9YDSPoGbBqT1cdcUEWHW8W9Uu3FDAdMyiJ+iTH5yGxP7m6J7XAl/OgI39hM4JNic/3u/cQyc9hOePV3zCTgSyF9CUkMEO1YNRG2lMF9MjtesbgmzYC5EVnMrmRCl6AK23HnpZ7CYdZaxwaFJcSzqwWFUTWt2JiQCMOG5rcJZ65eHGQU9Ppq2+OvCuY6O41Dg0qbJ1ab/CiUxfFZgGrRUUOr7Eo6kz7N1zBC3+pVF/+ivY4M8A87DEP+RT+31bEuC1G7WBeil/vbjAgxMaLjvm2NVVOLPB6rLnlliBBmONxAqDZg/qbI8ZpEQ5nA4GxtxWhjwGmeXCtQ4NMYMxYrm3LGiK2MiszVhaO8sL9umuAuSVbfkDMT3VHQCXXVl3HJG+uLBptQGFDMMhoQhUIMLJDRARCUAQ0Xmkvl79gfe3tpND3lk9KjwpvQwhz6qjKwGYiSQRXkTLzHXdqAHwAWc+ALNdW/Quc9rJZH7ty7piAlSbmzEjbQ0JvL11dZ6jGhMtyxqvTmI0Nt1feDW2DbCytj2qkhXSHgQcJyC7Pt+HIGHgZNzlviwSh88KNi5cy0fdcujLyZ+fcHCzB3MlE9Bd38AIInVHudBFPAAMcMTiWiwei2mhd8hPdyivgckEqFjaGIMKNmlnHqwuJDe4R414fFsfoC4+6nMd5vqkrnTl0597GI3xWws/aNzkhe91rPh7wldgNlHi/PQd6gkupfdJaKXt4Dgyr36+kBXdfalQPhIy1PcJO1Achv2+6iUdRMJh1ejA3QusDSf6r3eEE/09C2bTxarawwYNl2OABSdQvgQg6O7tY/hKqxKZR9qrGTr9tvcGLzjwbo7/3ffkBhnvCsYGTRIUypUi9nEIZS1t1oGKxa18LszUTHXY1aMet+5AOhqv9eGvHTewKFQovm3+/PqohrxsPho0GAhheSBl2sMJPrd3kjLgcaKD+uaT0Q5y2fUIkb0lKypUVN52I3PputVxb9QZiSjebXWe9eMtpXgm/SA8qr7SmVET/EetkXTl/9Dsh9Ae2fpCfICfd89z6KpAcBZEv2LD1YhJeoXKf9L9NGoINSywbeAsudgcrEDRAgAaBCgS97M0qHEgbCSoNILek+mVmOnZlUWYwLP48Z0aaLgpd/VR5XdiQB9bx6i+IjRQHryElBOiu5BDJ6MJ9MQ8ddhkkYRoYP93GRF/pIj9Zu8n1Urj6W/DOotsV5geF6PL5E+ZCHSQYQ0oRFuiI+oOfCM8ANsTgSgHfRSjPVjD9x2NZrGMfd/PkQDoWPgSBLVKDoobAmJpFxyiiIohonNgM6p9E/fvGJ/oi1JvgUL1G4B3zWK88atuetGaZLSRi5PcHS/La3rXxBB08v/eXM8XP20Np+NZtSyrVEyAZNGS4t3vfw8u29gftyfsGc29BlcLLiSZ0p32T9kAw9eOhbI5FXd2MKjEOEpBKOXRg4qeL+F8X3/SRQNf5vcGLeLi72xmj1WKqIWKcytDA/kmEVIBIWawHL1rlThEttDu0qOb9R8rvobR74QTzeF0XyLd58wPjlbW4de4stne8wr7JiUV8TFiubcstRLxYhH5bUZyJk/ButbyHqm8Unf4gwj+vKM74fbQGM8P26ZkKud4T5sKKwgxAIIM1bNKwwQcsFBwY05qJO08lIgTgsJnzwSG3NP39DdtGaCK1YG1flp0O+dFYNqCGkBOP+SBoANJlkCwGRdDpO8FcW/VBEXqpojjze4FOfM7MfleQKM8nmfr1fWLl9sOB1muv3PRRlNyYZn6aSLzPJDMb6C4ES2PNQFq/72ATHTjUmiRYmO5aW6WBBLNLVvLOwzOIuYyEHymeODcUpBhynhFI+cxNyIlAHtZpQOiA4DUfUs1dGmTiVcaN9rT7WULgAjwreL6AbkJA7c/RmvK0LLVYxAg6GXb8MalkDoCANlrji2Q/SNUCBNwja4ngW09eh3Xia7ZaVER5jJdkZ6nfkbxusdy2L5paiL691qEBiZkwNs1iyhVirNV73PvC9yIiVXznHq+sMrHO56zZ7OwwUN8bvIjjxyAny3wTi0Bejxjoi6EpRr5UJCyWgxd+0X4hl5Zuf5eQf9rjrIUoT3+VmAAtNiwY9vNYdNi+A00G7PuI8TK7w3kUEWB3jT3XVo0T9GkslLeyOLO8u8aBfvPLPkiq32bGS79PKqWetaIoPWoqBFC+aE4ZeL68KBPEgsEactVXNDOwIwjxKhFtxBxwWERENzXL0X/RVoNQHGGh7y+bnI70qFg2wP+tbkUCICVwOjvIPWDk5mPe4O7YGegkDKURoV9VFGe2Qjx0VH/OjP5lQvzdp1bVdTmHY+q4lJMUk7achM7x9JmSbKIhaUkEMuBYtvpGF+2tc5LmOoLCIJY/2KtcQDiEZAvfXHIiJwn4KBqKJ85tWyu845ax2UaQDn9DehNILqjI7Pe8yt3/jhqXQ0iOiE4lBClAkok0tcLmZ+e/bpJf+GwpRAqaeUKA0jupeTj3RGdILb1YLSog4EZufk8h3sNcfQ8ahOV/Kftdp63+hI7sSKJ5EeKgrxyL+ga3cLTE/RotEu42CPh3HFm+KKwNfK3K+y6MRJdRb9NqUde41wUGcT4OGXuqtTqoFH7OvsnZ4aFMbK8weupVDGLe1iz1fRI6HVV66s2/fVc9aW5SNhb63ZpNGlj8e5xdMJ6GmlmF2sNYTB5xLDAWh5PRv7uc6q8L3dWNRjjnkbdwyzGiMDbXb7Mu+Svnj/4mnO0H21Zeac1tIlIqTPMqCjOhMBMVyy2teYpELhGmnIrCzI/C1CmeZWzobG21V1C59WshWlKWPRIbmXg0MLUNdqeMIM0nIBWMSxfVjNc1cRBzfnlhBtAcARkkUpno6SdX1V0bUIV2Cl2YlXSmLq4XiRjoGMPiTdoNJ8R79jVRvQ9BsBAvX+twItAUtC18Z/FfWKHvm5yukbdNug3SmYEa7gGgPkBQi7QHSAbjZ+APQaALqBYP30WgbSZ6OXBa9G8mvAWxL3x3Nd6/bvQWUrIQtIDUMoiqveTm4XDKVRu3HyNNTZk6c4bCplEkchIRn6STnMREI5yfVdG+kiPx2wF9zTQggSUP4dOjearkCrsD74dea88DvsTG/VNVGjSg525c2/IRuIqwoXXbW3aHNimR7qac8eq3mMmrzjZ8aAqppi6fKcSti5AqDqSNx0QxjVm7sXFLexPqDV7E7aVuGXiOxTSLibHgMezYwYmxWQ30soAXwSOxKURfNSRrp1ZW9kzNe+t4FYiLizy+64p+eKD+j2Y5/wBGMMzEkR5nXkn1jcKAdcsD5UWjDRnj7rLLSjcN1KTv20RSX140+uxojSPPVvMtIVlHotxQXjwKG4euGDZvCMI9RkRPuXPaj2qvYEPtK0T85fJJI3qUFF9eSfU8YXqYic9YWZQBhZZO7aq8/scku3iXwnzRXyr2B0wM6t/w1AlJZ5h0WSUk6Z7fdUXur9OBR7hAq7zqlijS82sdWlDooRLHkiLSpYRNfFnR+FsgfxuMYYM9jojmumHkl7s337j3f9DMcwEiV6ByDgTTaIKWHe1W6EFKJIIWQFrANwhmwG/wF9L3gD5DMAjpI2Gxgje3XkwKQ5IYgZEjTOT+rTN9tufei8pdX38yz/OrIQOSqG+CkvABxbRrbyuAxcN2hwblpF7rwAO+m1dsWrF57bUjHtizv5EO1rtj+Uz/Z6/SfplI/rFajHRLg4AUBJ0g6uzpBt5C8BfCmGjBGofWrsR4b/AiAe6WaRb179LyASezqtDxx/SMl2BDo4vAbO2xpHN/c1jNyK8m5s+Z6HNdp69J0feSruwlRfaSS9lLJn0vNSTvrbiz+8kVw3nrTctSHxYh72Ip3lNF2vON/0aDWS5fU+UKlhQvnK73tpVrq0Y+5sVM+mUri8YEu4EJ65hm2rbcxcS/FebrKwozoFwQFTNSR5ifLi/MCOVk/9xmhQDcw1PdJ6hAsICIE++2d9uawKz1Wxewwucsn5QeCkw/Kj6JRCd5pdVlInTWhLqMsffcwz65D+33du3MATewyONdkUi9MItG6mKCyo7BtQQDwRiIxuLZjkJ2ET9jdzixEe7UHqpafIkuVCYkjxVPmPfzTiu0ELfiwwXFMNgSd4AOiAGkPCBdCoEKEPrheUBe/BEWxAA6SNAiCMwjTRYBCRByguQOPsI6Full+D2CTp40m7C7oWBD7dMkBgdPuyYkvwQSzDpeXUFsjMewY4GCTI7v58R/0pA63LG7kXSQybTYv+0OrUe9i7tyk1ktKoiah6GN4wYnh6wC1xahpmdcbRF3dmXM0aq7bWc9gUcFphNnr3M4gbJKCDv/TBqUZFa9akhQJuouNa5YcmirQKjQDvsmzXg22rLe4EUsXbkQxzJtYsop4tLeR4olmognVYkQp2y81L7e00Ca1vJyU/oMXZdyxes4vUK+cIcmJPMrikbjBCUhbJrFdLUQP+OZTKTJW7vbaTjlwUvOMKYdTtLGv1FlqDV0q+U/8OmA+iTXl8xUxazOeum2U4KBjod17IYSCqlvE3FteWHG5LA23kFjubZqkE+NJZIp5UWjg+WdwThBWIicccDkkduPU06kvoCLYJt/17M21F6tCP1uWXa6FwUQrbl2Zz95turtwvxWeWEGTpsDsutm9LcL8Zilq+qOUMYHVLOlUH4+mXZ/qr7hyefHzxJpQ1Z30En7DvrQSQiV2Ddp8zty0aJ3F43QNC4ToqbirLkIugVi4D5Bus2T7jShG90BDAQoEPzABh3pIkXNXC/XtUVWG0gnCVQGwRsEMBEI+E3zrQikkX+wAkgtIFUAwwZfSERs+qqa5LRBKUeRB3s7Y/qANbl42fkjt08dS/2UFBXqSQb6DXxkQMYmyiYFqbq79jSQ052yC+SrWVXPe/XthoBlmyNykeKo0RyL6REmBqdTl07fPcGLr2prvLKoHjdAYeSU0VmtZFRj3UWH6zX65ohqzcd2h3ZarI85mPFNs5hvFBIQMBtqXMcN7hkHzoH4yJcGQHS5bO1mV5sHgb3Bi0C8GQdlrFnmH5GIF6odr+oSgbraF14Erihd08b3n1PzUyHpjO/ik/KiTGyQEsIuGk/DXawicGWQ//VNNdGQAYkttWSwmu9uJJeHbC+GFEhmltT8kFn+TKw8WF44KhS1gbDdl7m2ahA5/kJIrqooGr0sbA130FCubcvlRPwC6frV5fPHhEOKExsXpI3g3ebND/UM4aoNtWfpQu+SwqOXnzuiOhpzjIU+3AiX35UXZnT2vvMOF3wXRLxg6ar97UIxO5pbjsX8Vyb5vqdMoqWlYV57D/gpkQj/1L7JaSwy27KSjUv+KKT/QMzm9NvP/mnAZKtEBIwwUBZfu1Vo8NIGKzE2xtiIP+yW+YzYRjwW7uMgxoDgBYKYQK3gewcfGWTlRHSzO9AZRHOhF51d+WWBkN7O+1RuWp49EkEUw6aNTxorpNuJ6Tj8X1HYQCrFinxwqF4wAhd7G8jpPjzC4bgIWddu0jxoolCbToh6+W99fjK5TP1MTmVfg950wLzrpAMrZvFRfEYXZqnn60IICBv4ofRjUwlqTcFaR8GLydbZdM1NJfT2Gy/Qkw8jMy32DYhqIKsNtzD9ek2Vdm/sjzrwEfrKoyb6Xi1wr7SU3H/ASfsPeQ4R5Em7w9VmSnDwT0mwI+ktHzUPTLOYHhfiGzwdJgKcty3n+fJc4Pci8t21m1zPT19Uk2bSBB9PIDDaNGZ92srCMfaoXZQId2Qdb/4bsRisvGYT07ChqQaGNtHNP8+WWeasqXJhk9vtlmerLheimcJ0ZUVh5gvdNaCZpdWnMEjshDaXF2VCfjQq1rKxpsfKCzONE6UQDMcQSEuY4pY9BKHlJW0hLy79z8f9U01961jh3GXnjqgIoa+oVvneG18M0lS+n3TZUXbeiSGpIFy2qOZUTZNPmPkHKwszvIirjibygxn9MxXiLSZRLH9evS9oAsMci3o7Ez3o6WNwWlJMSqGG42Lu3t9EULDyWHuQ5ZKqJbeRSKku+mW3T7w1lDQx3NfPERHkUH/sThfBRgZoI+R3Q+q4JyuL4B2Abzn4K7a6CUzBg3OF22cD3NLDQHstCse176yN/P98OVpRpYhEvOusI3XYcewxJ0xenMGtCCByJqjnsU4ve3gygMBAWme8ppCAWG/X3iZy6Uey1RRFLnttY9snpJ35NFF/X7B+69+I2Vcxob4ZZbFTRHYR0y4mOSDEB3b/akquvrvWCG6FipoNNHix5b9v0lU/vp++/vITGnXaudRQf9CLyICi4PCRY4zL0Z2pJv7Ejbqunbxuc+IQFl98FvXVVBXvfMN6OlGn//Pf6EQqmhvc1kHqSE/Y5yTqu7HNeVkt6r+J6ALjlwxYbwqlJCUOg61/brIw/WptleaVCpxRUj1HYQOOe5SJ0OKK4kwvL0S83xg5E0zfYZ29fA+JBOEO5Nr4Sah+qe/RRq373Di57FbLe3x7Hzl0YKeQstlkds16ae6Y7d01oFxbzUIiKRbh71QUZ7wUjXHk2mreJNL7K04576U7xgRDMohcf6A1LiOiT4kIwQgs+vFOAx9Am1ZQWYvM2NvKstOjsoHpig+vWv+/MTqrUGL58fLs9D+F0pbnHaeQaeJLRadCUrZTmzN9wF3E8ttQ+C6s49TJpNCbnk7S+qrGIjuRDYsnLKLcVmV3aBN857tw05KLWJcyFvpD0YS5wRL0guwRiKJ97lTP3+KQ3p0a8Uki+7WDuUH69LBbdQfrUqTMFDQHKt4jIshPIziU5g5W/KsZZLjAXRaKI4g0RVwSuqCy9vtEXCQixzPLQiLGdfPivYW4oCx7BKRyjzI3OSPmgICLYfEYAAScH8E9L8OFz+FRD71v25327MraqUK0tjO/1K9b+vXBFb8xcvtDJe7sKHiBoMTgoSOMIAUMKIz6w3X0x5Ib6aN3/02euvid52dINck8I5tWrXiIXvwrbvPoWSvJXeK/rXU4oSSUMJYz3nQpMxvB7mSzQscN6U0Z8b+423c1eGXMWedz1mx2IoDdynqDFwnzSLRM5OKJlK65TOuI+BT8HxA0bGrjHaaIuRxFqibyJ/smF06sWlluac2LJIINkL+tYYUeWnlbJhZDcW9WiwqyMuRG9wieE/8LhgXUVz4yuUJ0/1qHdncsXNi80i3XiPDTRFxSXpTRYd58JMc7c8GHZ7AJ3Bf0WnlR5qWR7MvTdp6t5noh+RPrcvnK+aODJVPFZgSbGF+ILVjusHEBtL6w+bDiCXdww+iyYMO2TUTy+vJJ6THPcD/r7e1T2OV6XRGF4iQsAAAgAElEQVSa/tzkdARmgraZti1/YuKLD9Y5x66753TvCU5HDc2ZMeA9InEtXVU3PtgOrRYVRGkgUzVkl5G3n+gGOPzX39Qf2aQx/d5epRlknIsdi4c7dcIm1Vk0YW5OkL4AagApBx4pVLyvwHUBeVTwOFzVHMhogZH3HAPCAv4Eye9/iSireepAJWHTAsJepHme5UZgwCsIwgJG/nw0XPT9DdtGaLpeTMy3kdA/dUVfuGLSif+ZVfllHpNuBISZuXLZpBEdcgtZJ5jPIeO+kRM9444nfrLWcG5jBodIJN++ybU6GtchHvsoqKxFAH5GB2OvZ5eM2jH35P8w88koFwr6oiPCTl90hSeF5LMtVV5ujMuvvpsuvuwmevUfj3oDFR0FQyJ5HVqduiPNijj7tQQi6oTvplnUB6XlXU894SAglPvFF/0oxEVrHU7Ihrey3uBFKJ6N8TrWLLOFRKB8cIzxYcU/BiVTahwzXR/14WT6u71Ky2/rUuSW1lhE9A3NagtYIBomxD9ioluJ5HRifohYebj8tlMBRY1LmzbefL2wGCe3CFANPyaFTKae9zgD3o0Xndt0M2sjXokB8k6MxxNEE9FnVRSPWdFdN9pMW80jTHKTMF1UUZgZskRm4OMXzrXV6My0cGVhpvGRDsIQqDjeTQqJVBecSIPcEKetYPnHJgZBOy9Td8H6rU8R8eDlk9PzguinW4oWrN+WTyxlpJrPXD5xGHL3g7ZcW/XHzUSOX5QXZSKVJiBr4buQ4qWrDtgCquAuZM1Sf05iSFIi95iGDUkls9oz3jMH6jXae+TdQsI8aW2V8y1b1eLHRehasyLp8yzzdgXhT3yP8c7GM7HbzeOCk3hs0sF9McmdGnUUMW0QfcRrUSAvcASJmDTkUMEzgiAP5E6HuHkuUAaKIoDYI5gZcfWBWW9tvYx0Kmbi05lkoSvtwMIVp5/u/eDMqtz2Wya5S0S+XTZ5JNZcHdrUcSknKaz9ldhQSzEMz9Og/rGbRgIYP7hgGptaiRp9JMTXrHU48S7utXY8MHt97fXCxjPfprFJOW/ZOSesn2Yx3ywkUB1qWc8NTSGTEvh7NtBgQ1v8F9fdupjOueCKowg9gb4YOPg4uvunRtw6KubLdUHEZXaHE+irhLJpWepaEUNRjRKRNyocF+vgYY2gLGgY83P2Kqdv+lXLj8PRUW8bseeBaePVbGFCLig+/IYNSUuivn2AVo0v272/kQ559J5bhv6i3aHhBKtdm1la/X8s5DmF/0N5USbUCshDYkhEm4Tk4Yqi0THBkxDsFbFmqe+T0OmoN7CfmdL6eeM0wTYV9+V37GnwLqw604aO5mRveFzM2w/VYJP9vkmUWf8sHlUbzf49feUt3DJRFH6bRJaXF4+eHY0x5NqqkRqxr7woMzvI/s4nIgR63iKiV90pI4DSe9KB8M3Cze7dQBRUbisikuuXZ6cbz0MsW8H62luIabFJ0wc/e0Focs0GpwjRw+VFmQEhTeZMT5tETJUmUk7686p9XwTqn6nn0gjFqX7m9rexwerfN/6+H4HOt61yvspGTPTKjCceWkUkD5PQd4onzg0mDQtBCvAkHOsOXqA7qIMBkw3JTxBS4pnpyQZcO3yBQ4mZbjlUnOoDoYRgBb7VIOcM+B4O1Zn562sHK8x4r/ycRF4TloVl2SceFfjN/+CDJKUu7ZXl2elBIXCsFtMTRNwKNdq/j2p8x4PZtIY6v4DqiRvt6iXPc9di+rtC2o9eq4qcJG1A44vhQrMqv8hjUua4+VnaG+nVy7PTvaTWVosKOXAE54NG0kYieIF0E1i0ghd+B1Gk6zx+3Wbn5hi+zCENzWpR93pUEYcfm0Kqkjhp/SE5pI1KfrwnH9kdGriOWllv8CJc3o7BdqaON09QmP7uC1PEBxLstvFgTZrQnrpGavKJ+DPx39YEkAOX9fhG8/GH0t4VoSQTK99+qWiUN5e4ZTOnPEAkViZ6ShN+eHVxRtAkdt3lw6kWU4FCbLCdg/zrBIOhurtG0/39Hm7QCHmSbjukatpxr77XPkdCNEc807ZlNhM/x0wPrSzMRMpDt1iurfovkF0UcZ1XUXwapEgjarm2apwuPxgGglxIH4O0D5sDbGzAPQBOmx95JjD77W3TdE2vaGp0DftHzsngEYhZm1259T4h/sXy7PSQntjpi2qGmjTZyUI/WVmc+XggE71uRpqteR9SGCzfhTXL9BgJ/wR99NTcXKem01ffHKHRGffjHxw8YeL4xcUT5gas8uK+Rp5ABdBBgJHXuH+O+wCBdSCOoKbRkw1BSaSEgaQUQQrYCUQEFRcoNwG5cqub4yJifrpqw5cX6aQXk9AUEVloVhoX/m1SBtJX2jRwGyzLTj9KCamzAbrRk1CVAaLEMHzPASXv38/crSeLBw5pVHfYSS63DKp3Lky326u0hZ3NrSf+Pn99baoich0pjKDFRPd9XEaiv0Gs+CkW4RswohWZhNVialHqclswp/JdCV7EQtoIpGq+2tVALrBXtVip3aGB9yahbOpZNEJRVeMQC8pDI47FZ6HX/D0gQlS7A9nDLTbFoZnuIWoF/QppAdXr6vjxwMVnpZzsVLVnuQWSahgWogPTkoy/Y9UA2d3nRwzV/F23ranSWliHArDcki0FQoq5ojijTbm5vJLqecIGo/tOJn5oZVHGUXlVAXQT9SLWLPVVEgM+SwP6mmlA/56LuvA4/+vdDYRoLUyYb11b5YwZ8sa80poyEcknRZldftuo5VG/YbBbWlg9RVEISjxPlhdltik9Fc5xXX7/R0OcKaZvmi/Gb8qLM4JR1cDRPlRKABM0+FyIyNGcRgJINsjPcBLTKkDxvTe3n+hSXJ+zYpqy7NzhMc0XULBh2+Mk8v3l2ekgbQzacm2fXE6kv6Ar9K1Vt2WCyLRTmzMj7SsSenfp6joEfwKynAnJo1l3IT3FsKGDkyk1Cfvrnme+xMD9hh9f91J5rZd0MUBvIADnIZX0cFsAXVAZYP1ELYZNOzbvSA2BL2a5gzjgCQAJN/gvgMICF8Cvm4MXgNVHjJhz+qqa5P6DU4tY9J8TsYNEL1k++cSI8mNNHUcnKYr590SCuXsNGxvwYfRLNRkkjtEwbBxx+n3gsOuIDPmRjl/Vdb4jEU/Cu+rbgre2ZZJLriOWOUQ8jIg/J5IynU1lKyYNr5rzP0mp37FtM4mRDoXEqCeWT06/sa1+rRbzM0RiEFSaVKbjh6QYAa3OrCvBi1gg7Ny9r4kONXgUnuRzPc112rp13U++3pnfg/29dbw6hdhYh/XYA4FAfeZL2qmTKWOdo7EVmXXnT0WgPfWWi2UPKDnjzX9hFhBieQ0QRWx+A3g3Rm1u2ICCmBNSmK2M+SZ7ldOrnx6uAX279KOTVFIfIBHk1q0kkYfLi0evCVf74W7H0I1n/QNPu72wsxZP+OanM9HGNQ4NJx8xY7m2LQdI+CNNcc16ufC0z7tjYLklW5YRc4Gu0fhVP8uMOBwz11aNE9P3QpBpxcYO0EooaXgCFdjoYOP3NHha/f1XUFkrTHLdsuyRS7vDt4H2WbC+9h+k8Jjlk0a0aNIFaTNtW2xMfI1L5bGr52UExLcAvgsRuvqp1XVeiHJn3eZYTEuY2Dj9hqQjSJ97quH0efuuI+SdIvKdtZtcgaSMeFQzHnBzOQCNhA04gkhAQuH/kLr1FW/oSW5GkBL8FQ81P+dIgQLh5XfdnBc4cMAmDmTDEbdZlV+cx6QUEdNlJLRQT1YXrrAcH9DzFY7B5VhMVxDzL1mOlnnvk2Ii/MFzGMhGNtjxALlY36i3kgc+0oZ8RqTcZ3c4Y/q9Guycw1F+9vpt0xCwkJb7FLaehMqcmqvshSkntfpGza7cepdAnYZp1fJJ6UiJatOmnUHHSZIKhR2kl1GfFNWQ1e3MuhK88LTdkVRqoFwZoaSa1B3SCAFin3vuCrvD9WJnc47H31vHm64i5meDubbxOM9wjNlX8QscIWs3aUbQx2O9wYtweDlO2rCON88lllYn0qqJjTzLfqndm8uMqH/dIScBruhnDha6Zc0mLaKnVHml1VeJGCiMQSL0sMZO2ytFp3tJAWPlElstKk6xcQpFqSkqDQ3gwxYrY4/kOLA7q91Zf2QbwJxlr3LixD4mLK+k+kph+jsLLV7ZTXK9Mx+quYR1eZmIl5QXZcyNtGNybTW/I5JCnfTzVxWNCUjSs40x4RuFlBGkSCAnGBD7ozYVBZW1Xwrzn8smjfhVpOfVlfYLKmsrRehw2eR0EJEGbbkl1W8TU0N5UeaUQCpfOzNtJguVK2pS2l9e+iYg2drzz6RBSWYVgSfjowB1EaiM9GTbW9dEBw67v01Cq+ybtHY3ID5+AjoOm3KgiEDQCA4qIA3AxXRSc1wIQQ3cz90mpdxN1xS7MTzPCDAjkAOCUuCnoTiCf+Pd9B1QVDUHKnFC7buzCfuQC9bX3kpMPyOircK0sGxSelRUTNqaiDuVBPfMGW39Hs9hcrJCKWaFzGYl6GAGomRIw8UhUUOTy/gDiPbRxuAVecjucCKw1Gs+HphduRUICwQtvmX8mHkFE5UtmzTi7+05Kn/DV2MV0ZYtz043OC06MmuWKZ+EvZK7WJ+D1ywRDYeU4BXysYRMF/HMLyfLPI9F8A2gcKbwe4JX9Yfq2uUoATHrlIt/QP9+9Wl68uG55J8u5Pl9W/fZ9q0fe9ttj+A13Penr2Qui+Sv2eRq9Xz1Bi/C7fEYb+/CrKQzRfQFQtSKqR6M1/37mKlvqhpVJIb2/+x9CVxc5dX+c+7cAbKR3SUJiVvi0roAaQLR2IRY+2VTawvEuiW1auvSGtC22k37r9oqIXX5bLW2xuqnMLGtmsVqBVI1kGggLnVJ4howmj0hGzAz9/x5LjNkmAAzwAzrnN8PI8y973LunXvf95znPI9Hsf+QG4y+HmEB8nSd4dYLfv/BIMvpuAvQGwAttaD3rcw5pVnd9s4YT3N9ZKSYzJifyc8YkWdkPmYNHmgir6T4fyXrPd1qIzsnfyMz398V4NJlORPs6Htn25xFG5+DyPmWes5cmXvqxmj2P+ee98bDNNnHT5bnTLg3jL5Ia85Nuf/YY+r3zg/VSyKe7tvEsGyk2aV2VlnlC6K6q3DK2EvD6KfLDsku2/wxBK8Wpo1tgoILd0Ak6xTgkWU5E5qFHQe3M39WIpEqly5ZWR129CEjxXkToHYJXZzTwDExHXp4fOgLv38NGKe9XFEXimCTKAuWPZBjhnwW5EUgaSfr28gl8lEfRl1QLtRfHuIvpePfOk0GNfP1qrPEq7kCXCbA/XAYeQWTRncJqXLw93bGRMd3LEuukobgTotGhTGnacA06vERDsNeu0kjW4ZCLcBrWfBYgMdrgeutEPYqIH+NIS2aeolyuV7LWqCQ+RCcQIoGBiwEXlfBlOPC4pC6ePXH4/5x9glhkc1mJJt31wepbWlm2rDEOLuMqDcZA2hbd9WCiSdafXZ9VX12vU3Etz3NHxnJ5i8gdkkcBhP5HqGglD944YxLwOaP3mmUwfX7h8iZ78z/NQYNHoHS4oIWgxfNqc4Ey+t2VvBi195a7PcJNajKVSXr3UQrNloseNHT7v4IjTcj1fl9WPprCMYENslaywGEKfYzo8eJocDBWo+tIHJEeUjDau5fYsivi9e5OwUyGuzS2Ys3nicNKIwUiPzREO99z990yoYIub7dzXzjrPjxXsNrbzi5SBlzdP+wSb0oe3XaWQ2JgmB7783/HPGwa22QF112G7Zt+dh+CNL4cDtq1Al49sm72j23SJwYSNzp8eqHr7zlHR+JdiPZxpz8jSR+2+T1SNYLPxnPzUun2tzFH16kav0TinuW504gCV5UbU7+Rg8EK5YvnMBMaiijMgll5ZiZICcECbuIFOPGr9Va96yyyt8J8PXC9KS2qpuEGlPEPr9m3Zb+ez3ebapynyt9jF8JKez2Z96/Kd7h0RoRWbhs4fiwMqJXzkp0i+D/lqyoJolcWJaRYvK5a5dd9cZFc1hOaOagJpkgwf8rKg8ZHOU14nvjc185BLkdSNjJwBUJ/Kik0VeMaiG/8c2fhI+cPxXDGCSbWa8w4i+FJDkvs9NRLafJLqsk4e9PIDjAMpFA1YfudEH4zrcMb6YqLqwvOZgUpbG9A8FzaskzJevdRLfFzOeBS9ZWpVuK+VBrASBkUV0HgcvhcbieOntUWIGI9jpzeor5jDSoENk2fHCcnVzsDeb2KCiL6vX6eMoglQ5xn/NyOTb3hvm1NIeMFPO3PuRdRFUC/cGL6j3b4XTG48k/3YL33zpMicWAw7gTz8TRo07E66/+o03BC86F+4djk8bjz4uuRdq0zGaldSN93SiVSslUmopcX1LuZiKr0WLBi0h7vAe1l5kJx66PzJ9qwyahUVLVPwXTFJukLT7OgYQ4w2bHba+5vYpawhRrLTtg4Y+2BrVXqtBFJRXeRsbl9vYXifPm5m/6lULvAEDiOkoTBjFGR6KX8NvISHb+AKI270e/BAdGDgm/Dj3w4RP4UCN0bFbmTY3R2FCjCY66NlcLGaqNaH1ul45sPbzH3b7Pc+I7m/BJd8puzl606QIRfU6hD63IOdnPqB8tlzTb7uzFG18SRarXlDNf+NF4wrSjZnPzNz6s0O/AYaYt//GJfoWF1vo7ybepYf07f6gw8KWv9p0La76R+UNFgka7ZO3nl6ilfyhIH8Ma+m5p2as3nwhDPgTkusL0MW3m75mz6KMZEO/LFqyZK3NOoXxkq3bNeUMH18V594jgfx5bUU3C05B2/sS4r3osi0SJdmB0zNFUMmr/cz9khz3ogCBVo2bl24KmQ6w32RYZkOMP79tbff++1oOm3tGhHguAqDO+1xmkYMkI/cDfyfvB8hpyXeztaEehzv/umsrxXmguVK4lcaLDQN5TaUnhPJdCNR31z8/9GpIcHsd0Q3C2QhhcJAKz7WyegnfVknUiWG3BKAkmwov6RHpAB1llVVkCEnDagTUo9HmBuAY7t7oemTixybsnWtNJTYVzsGWWQOySM9t6QwCDiIsde2ptNJvPamEho/hNT1gIlmj5uzPanZ5i3imArVRFon1yDkbCAjlPhgw7Gh9+8LodoKDxswU/egDvv/2KHXToKcGLwFJNgdxQVOH+30BfxVYlkbhzengbmachbkeC83qBMhtxhJ6uf3oMZsSZZL8W+4eQRcYzuLjlY0iUeFiF5VUwoEqYIoMWbrcVKIHUnLeWC/ThogpvVJm923OZ5izacCYgv4fgmwql7NV9nSE12dxYp6c4nxSoDYun3C1r5sK1loIXPL8tJEvdOXjBuWzbVYMan7Tue596v/xyl3Jh/N9w/dQZx83N37hEgStF5IplC8czw9ip5uN3eaoevnP78oXjGZyLms26d+Nkw4E1rO1vZ/CP76hh9ZnYE30yqVQeYFkJORkaLbvs0xTAUW6ZxilLvza6y1FSzTnUzuJZWirQCwvSx4ZD+NikmTmLNtwOQ9Isr+falTefFjLrd+XMxCtE8HhbJFKnp5q3isKGUA1IMDE8xqnT5BowOHoY5ixnlax3k1yPG0gyTHMlyswaN+T/9iEstvqQQ7xv3/NxXVwRCkkUtS9k1zTsR3gRzUj0AMtEqINH3hCiUrgoJb9UI0w+GsPMWvv5JWLpLYD2E0VewZSkv0Sjn05s0zgvJe5kr+U9XhzGKEBHiIVENRCnXJZZqBPBPkB2Kqwthjg+HXqobsPS96LLIdKJ849oV996uWq4c6A1X9SWOv2qADsV4hKoqz1SuJEY3Pln4CiPaTJQnexvb+igOAwaEP7aLxLjiFQb5FihskiAJCrU0tklb3pXRqqP7txOIGddNMpGvqjchB3bPsNJp0xq5KhggjJ9ehZeXvYIvnXZbW0OXvgTnBv/W2YjtDutbCQQeQG5tqTCTRntRosFL7rznd4FY8tINc8X1WyFfIt75CgOgRvKZ8R0PF30em1Ua+8jMYfZizf9UFS5+KpRyB9W5Izv9BqJjBSbP8AuhWAdOuvRw7Vwgxf+CO7Q4aMam645tB9PPJSLk08/2yb88duG/76GcSeehYR+DaqPflKf4Db85/vLTBgscbtrbQgbzyWBEB+2fhs1tkGIYffOLTZMLRApEmq+e/e5sfdAQ2Jk3yEtfON977xQ53TF53b5iOAjGI6sMBEJER3mnMUbX4XiODf6nfliTlJUiWltngbB08sWTiBxYVTsopJPhsQnmFQo+XY9KVq3QG4FTzRr7eaLxJJ/AkZqYfroqJPJLpiVuFKBs5asrD78ZQ7h/enJZokIpvGwSGb5/Agt/7Mi8HkRlRsiSo024dUBflJS4WEQjWoDl9dzWtBvJGJlAIMbIP7wPfqxTymHMX6WQR2I0vC6a7MM5pCVjwEdqlb8yIeuYokXJUJ3+AbeDPFVx6eUWVo52hDJATQHqn+zIHlLpyTZ6KKYxTyQvbbqzAapU/v7Shnkd5ioEo/hKpw6psvXpt9IxiivmAx2p/qvFoMXDGL0JDtw0Iud1U3IOb0Cvag7Ji2j5deMVPNmaAOnVzQIOxm8WF30lM1v8cySO2xENdf+NP798usWtRq8CFzfB/ogsLS8s4IXgfK5KnppSbm3CU9cLHgRrbu0F7Q74yzzG+rADCim1tfnkkwvbNK3ZqZPhYAyhaxSQ/69al1dt8qGh3O55vzu3bESZ96pEC5WXxbFfctyJ3QKWuS8VAy21PTLRmLsMf3DGXLjMS0FL4IZiINRGP5Nx67tVXYkNxTyIpjchwNg3yecnGoHQPgwZR/kyFi59A/455N32mP0y3T5mZCbayecCQdCuwV4sajC0yrhWThtRuOYuYs3zFSVlSp4eMXCCSTv61Sbnf/BVQKDUPZwyTTbPb45+RtJWjjZMMyvPX/TCcxER8Wyy6rcItatBWljWVPf7Sy7tOpaiP7JkLhjnk47Omp+8E+cEqkCueexlXvD4jaZeRLiaxPNGv/5o4/qB0cHSgX97fifMcHcOvzODxs5pvG50O0uWDMDIoEYicRsa1AduchXw8xNOMtCmM1/w1d1w4AGF6pX+5RGQrIl9gQfNDNGpoF/XK8Qsr6ecLfYhy4hl8UEn3IIJe4odfy0T2HlVV8wZxYASqJGjbw4e/XmC9XAzaSIUkWea8rYJtDjHurv2LAj4IHs0qo5MHQ+tIFXQoB/qRiuuH4O1xNnHtOtAow+BSi+RxtVqqg8Q04iIqK7u+3eVxesJLhdBNlF5R6ScPcZm57s/J6I2ogv8pcwQRAJC5bK5buVpSNrVi21S0bKSlzYuuWjkMGL5gg7g8fXWcGLbbtqbTUk33dzZlGFp0mpbPe/6yNxZWNtdNgDtwPGK6nOs0StUyFyoqqOERFqUQ+ulxilzBlhAOSyPiCQXaLKOvXP6iNmm8ThfLfojRpmn3qFzVm86TuwURgyjmUkWlf72xW3nsGsb9RseqpzsqgSft8uBYDWCDv9AYOWBh8Y0AgVvODnp6ee1wQx0dyDtd+AxCbHsI/m/sYxMWgSrpFNfcuOBt4Ltwf7X33bQwK4TifGDGe8s/M3PCqQq0SxYFnuBGYkO9XmLN60DmoN6oedZy3NmdIqIWZHBuYP1ERbZSW7bHM5YKwtTB9zXUfGG61zs0srf1UvBXBHYfoYo6HILnr2/bmDj/d49WNYmLTkX9XcTIe08yaa0ywL9mKSCgbHjkgIeU6oA0Jx4jT3vQ/VZld+HqQ6sru4wsOSJq6jGKggrJWll9yQ+43cBCSgJUlnj+BWaKd/uQGkuhOheUQlUuWGpEwsS8sGQBWPf/r8xHufMrH8njYp/2pn30ecdtH6T4Yk1DhyFfILwv7VQl7h2WPD+h5EagyxdrqfBzJLK/sZovOlQeqUcM/9qpToVZdrytiweIG6clYZKY7HKNPqHwMfPEMGx2FQNyXy5OZzzz63Lc0bYOUGjMvDUGvqSldHpe+MZMdMiNglMgnxDhw1NHzeutYGFLzG5jqcaOZ1q5+3S0Yeu/9GEE0dCnnRnYIXX+w4BBK70lTtEs0mZMKx4EVUbtFYo73dA+f9bt3g+LhBvxbIQmacFHrfipyTH4/WvDOSHZdAxM5QUR6VMqltsdbKRpprJzjY4S8JCRW8CEfVpDmOjXD/Fs6cN3/JcuoGe3ej5+it+6OzQA5nLKGOmbN40y4oqsSyspbdfDKJYTvN5uRvuAGQB6B6w/Lck6OakWTpCFQeXZ47nlnoqFh2WdVfoTq6cEpSExnoqHTWjkbnral8UFWvKUwf27YvbwPijau/sAMe82cNygFkUVv4LmYkmzkqWMSpDexnYlgEskKhnjvBWvN8DlDuzXTG2YstWqDGPH/31+CaZoMbAz/3t/fB26/iq6kz4D8mVIC2LZfz8+2H4PWRze3YJ2lvb3IziE+elSQAfAdwY87vk/96EZkQlZKItow7ysdyLcnyEKroEHVxu68/f1CDyiJ8V5KkmMFkEnRS9jvillX22XkGjFwIzrS8ush19lj7no5Z3/VA9qsfTRCHc74FmS+CYyGyQSl16rVchWeP7VEo4Okp5i0C3BN4NYnCGDLQibi48EuJo3k3WJaCJbz7DjV97KnK4zrY/f1Vq3r987BZ985IjjtNxbKVlcgbOGok874dt+DghV8aleojB/btsbkqghMJwe/ecBEV4R7X0VlVbj1I+VzbLMszdNWbaESe82+x4EVHPRw7v097YG7+pq8rbC6MySJYYgH3rFg44f1IOyWwVi5xgIkhbax3DLWJ8I/XX74RyFPRFuRFOJnUcAMVbSESDfT3lu01Nlms/YBzmCd2Z9SPT5b331B9dHnuyVHb2Dd3P869fV1/JCa+oUDd8pwJjYRgkb532d6c/E1FgI7qh34pS3OSDk1LjTvFUO+ponKCCkYDMhLQwVAksNZBqCaisl/F2iWQLwD9DJZs7H/xiylIPO755UDn9WUAACAASURBVDedeISkWvaayh9DcUO97GG3k8ilD7JKK5eKILUwPemENvr4vPrjuRm8xkf6GPL0K2clviGAuWRlddjXNSPF8VdAFrDxSEmkhvoON4fKIueNv8SkOY15/s1fcuY//9CBahuh5Q9s7Nu7oxHZFVy2FtJ5IQ6gxF9NbQOc9d1PvV9u3aUsF1nlk/8ksezfART5NvJRQzR1dB5ROJ+EpQzaDKlHmZBYmuRDwX/jmpN/DzsQF+44r1mnzr2eqlwo7qb0pwFH3tNpo/qSqku4ruozx12ytirDa+kCaeCloZWQz0JVXEunRJfrKZpOzkg2zxUD96mCyNJGG9DPgcQBcXB2USkJyYyrD3hQfcDduPH0Da5GIDcVVbipNNRnbdo0mEa12ahWkxQhNa/g96j/90GDRzS+K3tS8CIQ4SjAF0UVniN4u2LBiz77NYpNPJIemLNow60Quat+8f+ZAPctyxnP7FPEbEaK+XulLj1XhgOdSBzYNomlcIIXzUG8gzcH4SAvAvktmnNAtIMXX+6qQZ1PccSCpK+qcFcDmOvLirKcqVvZnPyNlM38gUK+vyJnfKcy4M/J38hsKbM431ueM+GxaDnm/Ktu+X/iqf2F50PX23poBzd4rIFvn5kDNsO9/6V6YslVdep96dX1IJ8Osso+P09gveTwWMOfmjouqmVc7Rl4dunmVyjPVJiWdG4bzyfygpwKDwL4qw+e3+qmmHwXgOYuWbkvP9y+MpLN1/yyfEcNiwezeR01ftf37NpqZ36as3BKygKfObMzFx7RXmAGiX0ESz8HZ5g6Oqc9++rsBTqt+qA+vO4Dr5+zhg9lon4Ib/1DfcxuXX3pxN0d7a+bn09eC25IKIfKub7gI+bkM80vLU4SxId8iJSoEGX6lHxy63lHMgSS500cnbf0K1LXzX0XG16UPJBVVnWlT+p0GgR1onBZMFyu9NHLotRllzQbKL0ZOAAqRTGQwdKEzjCW6+476AY5gfxqTI39qiwV0/Gz7pxE6gwf+fvISDH5DPwqfz96eALi20C839I4g9+jPC54zR/J4EVLxJ6RQjgGyZK/VFzhOQJNGwtedOZdG+urV3vggj98fIZlechAOYcEbarG4hW5J0WEkGh6iuNP9Rnoa+nA9mRF2xK8+HhDeeNmw4/E8EOzgzcCzcHVWFfnJ/jkeP3ZUJJ1Uns62sGLQKKfdz72frR9j53k+w0AEl51y0zo3PxNdy7LGU/Idafatx58f3hdnbHOgPH5spzx50Sy84wUM0NgKxeR1JDQ+qiYAi8bkGeG/PjRMnNCxluGYtrTU5JIEtitLHtN1QcCrShIS2qv6koiuW3ricMp/0u+AD5bjshgXz5r8EQH9A1VOenxF/aGzfeSkWpWQjGGTiOclbDWjlp7kBfsM5Dnxv/MqShbgVPPnNpYThI4No+nzs4w0c6/6Dq89OxDjWTAkQ5e7DvoATXoaXUefeq1t722fDVgcz+5fBwXRGLQenO5yDgfQSmfrZQ8JZNplU8OlbwfzHa/3tF7KNT52WWVNwKSD9EiVSPPlT765VDnxD7vfR64eE3VGFMtm8+iQVpbPwXEZXks19Kp48p734wbZnReatzplqW/hGhm8ByJwGCZcb94R5vU6cLxFUvnDtV6cbDG20isGHReuYj+tqjc+2w47fX0Y+7fdH983V65xrCsTaYp5T9K+ZGdVAm2QN6Snix7G83rFZggEMXdRes9twX31/HVSTRnEGs75oEe6IE5izd8HwoSerIo+w/Lcyb8sqPTmJ7sXCKiJH2za9FZk94WCyd4wfaaqydn5tSPpqB86dW5D9sbCD+0289z4Zc29RMDBcoiBkZkox282L6nFodqGmDdu6qt69/80GIWMOIw5bb4vzsfOzd/06/qCSnuEEj2spzx3Hy12047DXHH9nP+UFVJXGhnF5oz0zBgOsWGtzoMAw4DMAxpqGPkfxSwVEFqAS6S+OP2WMHEX8FNe/qdc4lpHp9y53MLF/6i3ZOI0on1ZS271cKjrilJRLu0x8igSV4FLlLZBoMXlJ3khrHRFswadJdCbm0L3wVPzkgxudG2U3VJR/e3a3c6aqGeO81xXrDP5oIXfN6cdtbXERhcDR5fc4GKSAcvArNCew/op+UbvEQf+KHAjKCQ+I8IhN5uDKaP9ZXH+OfK4BdZ6Ahn53eQiLcm92eknJL96sdnwmnmQCVTRfKc6Jf3f2nDibKLWR/yQPaaqjRYjVKncYCsJkmr1+FxLZ10fLdDWkbr0tTLXH9dBDfVc8kwWXCEMRgdH28g3mkizpQ2BzMI5Xe7vah1W6ipa/VdXGGJ3r+q3Bs1Drho+bCj7S5a9wAVMb4J1X0Q2SSCjVB5Xwyr1LO9tuyWb95yYHqK8xqB2uUz/RIcGDkkMqSdHR17dzr/y501AWs9vaC4wnsEYioCy5PuNOXYWGIe6B4emJX38TjD8Py6XnFlgUBWW4r7VuSOZ+a/XTYj1fm4qpLJ3ZZXosxSzJr3wI7dtTjoq0lX1QtL1nsbhK57pvEZTV3cqEm3zbx/0xiHR9eJ4O1lCyec3x43+Wo5KclJUr7hwW2YDgMJ8QYS4rh4csDRzqw+I1AsCaqta8j2cBHVrCmegUPuLV7njnrmNxx/ZZZWjjYEVRDcVJiWRPWJcI3ZbQaUyF3BwAJVm8ixwB+W3tzoU3BgiYJt82clfgLggyUrq2eG20mgFLOIgLW4kbC2qo00x5njLxspWv5nTMnIhp/fornxdUbwgvfctl0NirL7Duq+Nz7wMtNP1NQZLP/yqWtERUUjEtckgm0QcULiTZY0+YM3/Nt0nzwsy8N4LzZEkiNo89Z8/j1Vb349qutNUckrnDKmUyTLIziFWFMd9ED22qpMKOZDlZK7DHgvFbVcBWePe6aDTffo079xlvMsr2FdBQgVkFiy1aI5HQLDweSBwPBxfdqbQiYP+MW1mDiw4PFS8SFk/ucfAn2sqMLbZ7+Li8of+HW97/xkxc35vbL606r3X71rkb3OYoKAiYKYHfYAE1UkxfZbbT9P4urV2Bfso1jwInbXxDwQRQ/Mzf/gQoUQhXEyBH804bzt2YXHN2HNDaf76amOR0XlKh47PDEeA/p3Ti1jOGPrbsds311rwxkbFjQ6q3i9t0kWNPP2d+OW3v6VnlAPTRlG1o1/nYlx8gNGy9dz8jfdDejPRDF3We6ENi0+fJkEyiSODhyfIWLX3fbvZ0akrrO5ufNFx0DVwUMeOyN0hKk+6oD31/9ejy3R8l047c5bu2WiWt43VPAdV1oSCR1bM76XB1LGr74EYSgABjC4CWzuucGA0fG+TbPdJvkuRHD5YyuqAyU7W+3wG8kY5RWT0H87sDQ6QizobI/BB9bI+pFa/oEwUDFs5Bg88VAuWFJG85eptUbYybYCkVyBhJxHjzox6mUjlP1jZohmWfjvqjc9//AFLF6tX+8TZddbs71EVRDpw+Ak51wBgIFhqqv472lC9lN8x4Xz1WjTMZmllScZIjmA/gCCvDqvM++fZx/TFwJFbfJTbz04s7RymCEsC1HeZ6dTbAiiLksM19LJY8p667zbOS+ZluLIMsS4EKoMZJNIN6LGkk1Red4B99+7+h0b0Ym1s7H71v9pvMfr3hjq9OKf3bHn0K499vUYMSQe/RNi63m/z/Yf9GCXryyTxNfFFR4Slh9hseBFqLss9nnMAx30wEWLPxnisdy3QmzCTcph3rc8Z4KfzCys1jNSTMKRf8yDhybGYVD/GPKiJcdt3VWDWn9GXvH14vUeZqltm/OHj8bCIpzRm78859TuSt7F5/Ls+rrdJ3ylAQxaMKs7L1qcHbMWvT/BEMcbCilZkTO+WdhpsL/Pm+hM9lp6jwBNXi4sBRnY34mB/c1OlbPiNScfAWH9QXZAID8tqnBHVQ62tS/yvLVVs9XS5fBKeuE5Y9aE+NKT2+I5ACT2JNKiGACz+1ycfxGUyZ7i+30t27xy5uDzRfTFOpFhT63YGzZpaUYyxkHMT9kGUTKjRrJCJXLm58bxy5+y5WAJVP6tOanU4KCHPxjiH12gMlJnIC+oPU8NeprX0o/+86Z3qu+6RM5hXd/SiHoU1d4ARAUDaI/4ZFAZuSEB5xLf8+mfAPjDGm8+t4jE+CzSU8hes3keVPJYhiKW5BWcPaZPZ9gj7d/u3J5dIuQw58OQ+VAMgeo68lm41e36x9knRPxe686+aO/YpqWa5xgWzoZgEqBnAkJkVPim2AoDb8NCOURLa/t5VzWXEQ+/wd555KJ1D/C5yXd4S/bAyqsX7lfBrTyAKGqiqWPW4IFANS8R+XFRufv+5nwTC17E7piYBzrJA7asqlq/hcg5ECkUr3n7spuPZzAjpM1INX+lijt44OCBTvsnZs17YMuOQyD7Nc0yjNNXratr1HGftXjjWYbCpUruAGNWpAhVI3gt/GiLbwP4YT2a4c/1mU3uJJmaJoKkTUGvtoxrTv5GO0AmYs1YtvAUbphbtOnJZo4IFgUewJraxIHkY+naLAIz41SDCA5iqOI5sTzXF79lkwt2qmWVbv6eiPzFYTmOe+rsUeEutom+OA3ARPJQ+oIZRGKQhJMKMdxMNrH5swc9ApWrlqysbtNFOPdrSDK9pi0/Sw6S0UdFNngRrrNDEXyG2040jwtEXhyq071l//USnt1dA6HtcQWRXuTtIJrqXh9fEBE+LF2j4g1RYHxW5PjKlwb5/saoISViI8o7cdm6T491u41cQKgm8oDlqctbOvVIqeT2TDR2Tvf2gC/oS/lmvg9ZzvCcAK4va8e4Vk2X3kyGG/ULM20aEszquONVrdEKHSliJEJsvhqhfDosa78a2CUwvnDGuT99sQy7oj6oHtpBXsWD48TSK4h4VEXLUu2CO3NTb/zF9BRnqoABuAaOrzEj+9mcX33d3F7FFwElI/B6xrS0Xot5q6/fLbH5d64HVGV2/qZcMeR3orrTgt63Iufku0INIiPFeTWg9maFm8Nhg0OT/PjrzQOJM3m+n5n/n09SuCC0Bdeth9pgBGY/t275CFQfef3Vf9hKI51hVVsP2WSP9nvB9Iwoeh07A/udvejDKSIWeQTiAZ29POfk7sCLEIy2IMkdd5DX+7KfX/GppbCmfH00/Dhn0YYzReQNS/HMitwJzSpipKejX79a518BJQqk0QYPcGLwoO4VUGPp0N797mCSzy9V9Psl5d4V0fBhS21mlX52q4hxl6Xov3RKUijFG5bfHFNPvPZmM3wBvCdO8v39/eD+rpyZuE+Avy95oZqw6rBtajJGOsW04fesfx59VGQ4L8IegO/AUM+WtrYXjeMDgxcHanTn2ve8/C70JoWLU33BC5aHkGeJJSHMfvmVa8hzwYANg2pEWnBzGRXLKvt8rsAi2uKQCvJcaUlhl0JFZUCxRqPugfklnyTUJDjna0NpyGQFdpKAUyCugvQkv4pP1McR6yDmgdY8kF/+v/+javH5eInvuM8FUqBqbYLIEUkmVfz05q/dyKSDbdNTzDIB0vj/MdWRBp/s3leHfT4Z8nrS52eLKzzfaukaxIIXse9nzANd4AEiABzAL1Vxsb3wFblz+cLxLb6YM1LN86F2NswmPTxqWOjMaEtkeawRn/DVdFtaMNwARqCLQm0wIs3u35bLQ4Kpz7c17g2riys8zRJWXZC38RuWQSJE2SvA7GU546PGJxHm+ImyYBCLhH8MrBB2SIJXslL768mv9tWtMhsaFZuTv+ERQK4WlfRlueOblDeclxJ3qgXr/3zkkXb/8XGG/eKNi4BWeVQmROz7Pjf2HvDzCTb0IiI3FZW720Kc2aHhZa+pWgzVmwrTk8J557JchEGqfF/5CLku+N2nuggDGs1y5lwzd1T/Ou/+A7Awe8m/qle2ZcCZpyFuZ4JJqUu71CfpmK4hEQv1bGnLnKJ1bE2t14a20qoP6PZ1G7wn+PhJotVlZ7fLmsRHfQiKGb4ABbOJZNIn8uJnvvI1PzknlYUiapn//miwMSguB4pfQeQRuGsXFU49MWQteUQHEWusUz3w3TWV4z2qfqnTUQDeZmmIQ9T1VFrSpk4dTKyzmAeCPPDg+w8OrzuoV1iKK6RBTYnvylUWUOhweAoWJi+038uL1y8eYnnNJiWbCvzw5ok3NgloBKqOkDj12AjyTPXEi0dC2KptNY3EsKHI9sNZSPVEP8TGHPNAj/DA7PwNVwqM3wE6EpA/LM8Zf3NzA592VsJxhuEhaV/YhHotBS9CKQCEclyoDUZXBi8ClQAUWFdS4flaS/OZm7/pQoW6FPjQK97Z/1p4ql3z30XGVDc3DYGsypN9Gc+o1JA3N885976fDoejVKF/WZFzcuOmZEaKOVUB1pgf5T8vcYCJIYN6Rq3moTovdu2tsyVX/abAXSUVHqpERN3mral8ShXnFqYnkfQwXOP7mWVEJKajgsM3fWSIRBJxU/leYEPzZyfOg+Lptkqk+tvISDEJC2ZZio28IAIjZkd64MAhL3bubQheqMrTJevdzaKUepDvRvqCL4GIIKJJTgFwEMA3fHw75GxisP22+kArv/gsJSEC461IzvWStVUZlmWXq/QXQ/IKJo/+SyTbj7XVvTyQufrTDEMc8yH2vUShi3+Jpa7B8WbhIxNH8f6LWcwDXeKB/LX3T1WHrdrCn4T60rV9gFUIwyjITbmBJXLN2qJ1DxClxqD2HgGuz5l441PNHZiRYpLDiihLDBvMktu+y2VXvd+NPfsbk0xvFVd47ABRSxZbnXTJVyLWacwDhz0w994PjrdM46eiuBaQCsvSvJU3T3g62EcZKXY012YoHj0yAQ6HT9uqBWeGG7wIRXIXXPoRHLzg+bMyb4JpNmxkP3x/LcYc9xW89OxDaOlcHjdqLNfGwO6dW/DnRdfi/bcaeDVbay8UUoSEjbsbmYr1seIK7/dau9fm5m/8rgL/B9U3RDFr2c0n7+hG9yafz+Q8IGljqFKDiA17bv6GJxRyGVTPWp578lszks3zVGxVgcZagp4o1+vxWti5123LrAbYH4orPJR3japllVYWUXylMD3Jhom2wYgc4gI+EDpCjgH+rclE5s8a/E+ITlqyorqJ6ku4fWWkmG/7AiU4ZnhCWGiaYPJMf1+BJJrh9t/ScYHPA5J3LnflIXnyLDz1yM/Q0UBse8YWuMgSxd1F6z3czPdUY5Dibz5ED2H6/oAYFWwIcb7O9y/vPyqNsEyEz1SWrpEAl4vviNi0khLzqISTcgT4PUT+xvfg0ilJ70Sk8Vgj3c4D2WurroClLDma1rApVBeVQwrTxr7U7QYbG1Cf8MDtJY8lDBxw4AoRvQKCs32TXq+CAvLU3ZxyQ1h8VYvKHyTS8kKo3JD7tRtaREFmpJo/g+Ju9kPOsFF9FH3BMu8t22oay71V5aqS9e6/tnbTxYIXfeIrGZtkT/DA3LwNF6lh/AbQ01WwxIkDC59dmNwIEc9IMVlXzYwrRgyJQ/+E1qO0rZWNDBl2NH7+Qyb2G4IF5190nR1s8AcHWuOtCAxe+Pv4eEM57v35BY2bCdMZZ5elNBe8YNDCL3XY0vkttRcqeLFzbx0OHGrg8RLIDeEoTMxZvOn7UP0zICX9kDB7aU5IToLOvp24gSX3BZEhZPWPaiBj7uIPMlQNZhXuP/Tkac9oQ8mCHbgQQzBySBwS4trEB9nZ/mq1v5176nCgqSJJXnGF55ZoDjK7rJKbsA2F6UnkCwjH+OUmKSKvO41Sr6/VIzD+A4B8HUcsoiiRqpB7Hl+5lxnxNltGisl7y1aaGTE4zpa4DWUMXkyaenETuVOe09HStMB+A583ftWSLyo32c+brrAde+oOk8GKXF1c7maJRU81qojwfiKpMREWLKUi6oGKIgxOMGNY6SsZeSyAwDOi881+rSoNht4DkSQRK68gbWyXKQNFdGKxxpp4ILO0cnSA1OlJUGwg+tFhOgufnnRsV5duxq5WH/TAojfuTya3j4hcrg0y0Fw7uizLKrx50o8oCd1my1v3wEViWdtyJ/24tLWTU1PhTFTzMwGO5XF9lYyfCUcmHm3fC94sKvfwmrRqseBFKA/FPo95oBM98M38d4c54WQm+BeA8qF237KckxdzCDNSzd+o4pf8f8pQDktsHbLfEmEnzw9EO3QkeMFNyrFJ45sgJ7ihYd8tBS/6DUhscnzg5iRUe6GCF59vP3S4NEAktbjcXRHO5ZuTv5EytNwsLl+eM2FuOOd0wjEkNmHggqUkLBvgxpJPeGZAm5I4RHgwc/I3PmPt+XB2zcqLD8Dy2C90lhGMGBqP+G7MbxGuG3btrcX+Q4eBCwL8vKjCE5I4N9z2g4/LLqvcBpGnCtPG3BRmG1zMcLPILPfWeu4T/p5eH8CgLC2VYAoD21lw/rAkNT2b63lx0pe8UB1KirXZIcxINu/yy7clDnBiSBgErC0FL9gBv9fB3/Uw5954WHCwojsEL77cWdNIAqsWzil507O6rfPqZsdPqieBJREmA2UkSGMQg6UwvOeoLMJ7lsdQfYT3o03sGinLLq28AYIHuGFQy8orPHvsG5FqO9ZO9/CAHZwyrflQIbonXgTFaonL4fW6npo6LmxJ5+4xm9goeroH8tc9QMQtyTZZikn7SFUKDdGCnIk3dhjtRd4LPwdGKF/NSHVep6qNwdpRI/rBNPvO1pwS91t3MVbeYKKaWbTeG1IGu+94KNQdFPs85oFu5IHZiz6YLuJgACMDIs+L1/rpgae+QhIru86ODzc+5FqzlpAXfhj2ti0f2+iLjgQvmuO/CBe14R97YBuh2msteFHrtrB1p+8hKNhaXO6xawnDtdn5G24TyJ2EBy5fOL6Jmka4bUTwOHIjEPHADQQlLC/0/UvWf26WKJ0aNZv9/4ovrv3Pj/5u7WpQ8qWM18heErjwO428BeQvaDTVK4rXe5+ItFO/+/ZnQ70HjF1Q/KRwSlK4ZKsjfASulIcM5EFpdnhXzkq8XoAH28t3wUanpTiyDYh9X/WLd9jXO5S1FrwIfq4wMDnymHEgKmvo8FFgCQjRE/zO+0vI2J9fDcmP2vKrJdXVHoLbXYsBA+3KOTsAW1pcgBlzrmlUM/IHP3duq8RJpzYgy4JLWDpSlkZSscqth4FPpscz8KW3bQnRnmxcBxJ5RAj/TF+t9kMAGPils7nIj3g5XWZp5ekC3COCs1Q0z5U2ton0ck92aGzsDR6Yt6bqO6p2acgsQOsU4hJDCgsnj1ke81HMA53lgUVrH5wgDvJW6BUKjPX1+yLEKJDa2sKcKTlRRbOGmmdGsvmav0wl3HdvqDZ7yueByQAii4srPORVCmmx4EVIF8UOiHmgazyQ6XI5DlWddUM9UdDvfJn2+w4+eRr1Rm0FjVB16a3VgwciHE45fWq7y0ZCBRtC8WVwHpEKXpDsh/XoNBH5W1G5+8q2XrnZizf+VhQ/h+Kvy3MnXNXW8yN4PNEfzHKSrJP4eJJnkt2fcyKRUZvn1paxTU9xFgg023/OUcPie3SpSEtz376nFodqGgMYXohMChetE64/uUkzBG+r6nddU8YewWXTQjuMTP4/H2EnWcrJRbC/pT6vnJn4qiEY8NjK6pRwxxV83LlnJBxvmh7yq9jBqjFhyKW2FrwIfv7wmXPaWV9vLBljP8FIKz+ygp+RB4d2de7D8JeJBCMvWurDHxjxH3/oQLUdqA1V5hYK2VVT58W2XX6yTrxZsj40vLW916OTz6POMbN/x/lIOclsy1psEtUxOxlROensNZsXQOWvCn3eMJBXMHnsq50831h3UfLAd1/9bKhlOuZb0AX1ss0kG/5EAZfA6ypMPy4sJGSUhhZrtg95IP+N+y60YFwhYpMMkwp2B4RSpkbhzROvZwlmt7FpqeY5hqLxGUjUI9GPvd2CpFG94nWcVvRWbViqUrHgRW+/O2Lz6/EemLP4vRTA+ROoZteWXL/d+3kJ2eExeIATg1uBdnckeBGq9IP9czMQqsyjrcGLUO21trn4YschuD0NahJiaGbRutDQs+ZujrmLNi5WsaHS9y/PmcBykq4wEuYxS88dHFUgGMBgPTrJGgm9XRatQWWkmjdD7b5t64nknOH6hkRRW3fWwu2x/Ke8UVzhIUQ+Ypa9ZvP5UHlRDMe5BZNHhbtJu72eh4D8GGvrOQmomPMVH9fJ4/VIDKIxDuMseUPMSlQBch5bWW2XmLXXMlIcHwJyIs8/eliCLYXbmrU1eHHCyalH8GMEtx/4DOBnbQ1eBPcR2N6crJtbLXMLFbxoGiDF/UXlnq56PrT3Erd2HoPihOv+O4DbgqVrTe61jnT83Te2nuDx1v0eFs4T0bzq3bV5L8wa3xANilmP9sAlayrP8B6WOh0K6GqAUPw419NpR7P0LWYxD0TNAw9UPDCq1rJlTIkUO5UdiaDMUhSa8QkFN51+dbe+B6cnm3eI2KV5th01NB4J8T2XWyzUhSY3HTnqDpvcWFzhphR3WBYLXoTlpthBMQ90vQfmLt443/3ZC/fWvZJLSDlMh4FRI7m2bN7CVRvxH7dre5UdkPBnKwcNHtEibwV7DCeT2dbgRXszo1SQ2OrLiAKoLq7wEO58WBezjZdvbv7GhxW4BiJ3L184vqvUBFhvzuwnyfSIgafCxGWszwTwbV85wQttnFqrh09PcaYKdJ3/oMSBTgwZ2LszAE3KjRomHlECz3mrqy5XQ/9meY1Tlp4zekMY16t/fQZ8SX31xu8BlPuO57uaQUt+95tIpH5vzpAzLct604Ke/LeV+8LKWrQ0hukpjj8JxIY8hMN70dbgRTA/jn8cwaolfk4eft7W4EVwH4HBi8t+0BCT85MV8//bIu3chO9C9cKS9V6q8PQ4m1f2yXEF6cc3Jw1NAk/O6dZ6nosWWfLbM+GssqosgT4J1RLL0LylaeMYJIlZD/dA5upPZ4s45ovYwVYI1GWJuFxpSX/v4VOLkIEwzgAAIABJREFUDb+be2BRxYMzYNnKINn1qh2sc6xT1UIxjYLc5JZVPrrrtDKSzZcgNueQzTF21LAEOHsh/8URay6Vp4rXu4ksDttiwYuwXRU7MOaBrvfAzHs2nVj3z7Q3tXbvQI6mNdWR1gg7/Wof/hkF1oGz5vy/5UU45Yyprcqd+jcAwf2EI5UauHloi/RqS5nRQJURqP6xeL2XEn8dsjmLNj4JwaWi+MWy3Al3dqix9p/MrPu/fJlQIi9Inkl4N8tK7qgH4DDTXt3+5puemZFiklOFQRM7687se1+wphK7LJvA9JfXeVZFYu5ZpZtvFpF7+yUMHLokeWijelCItknaS4WRJsSczZ2zYHbir+plRu7oCN+Fv93pyY4LROQ5/h4Or04ozouM2Vfh6T/fZnNTNIeq8peS+Hku+P3uKPIiWsELonO+2NEIQqjdK55B5eXRJc6NxP0X2Ma31lYNd1p6twCj46p3ZT3xzTOb4+ug1C7RXhGpA88s+eQYSXD8ThTZIsjz7nfnLf3GiXsjPbdYe53ngZmbNsUn7uo33yd1OhmqW0SMQhW4CtPGtIswuPNGH+upp3rgd+seHmyizlYGgSrXRjQG8wvglcLcyTd0KHjf1X45LxVjvWqu8auPxDkNm3uKgYzeYm6vYvuuWlC63mfvDBBP2rJyOzkXtvUej4Q95diBMQ/0bA/MSDZ/o9KgOhIf58DRw0IT6/XkGTOwErgJCp6Lx6vYsj1gnW3I5OJ17g7XaPs4R5YyOasqC1fkjqcaSWcbodwkmOILmvwXhNVRvjCvnrx1KjnRfD8t8iGEO+CMZOcPIPpH//HHjmDUv/WygXDb7gnHNZHAVKwuXu85JxLjzl5TeQ8UtxSmJ4X7vuX1Zk1uEgCiYJgBL6lXm3mzXvnhiODH/FmJ71NGd8nKapItdtgyUkz2YfPqhCodCaU2wjb8gcqW+C2CZU8DVUp4fiSRFx0pG9mzz43qA36RHykornBf0mFnd2IDmaWVkwS4WwQZqvhf15Qk8ilF1bJLP5sDw3hCFG9ZsBa50sdFrdwtqhOJNW57ILO08qQAqVMGud4QVZfXa7qWTh1FYumYxTwQUQ8sKr8/DcpSECEH1zA2LpDnLLUK96/YVXj77bc37oIj2nEXNTY92Zwhgpf93TOJNHJIvM1D1dONa/Xtu2say7uZeLMs+fqqN91c27TJer432jTd2MExD/R8D2ScidFwmFX+mfSm2jhucAJr1oMJ95q7ek00ooEXiyo8/xOpqzzz/k2JDo8ygHE+RK5evnD8o5Fquw3tDKjnZyVpY6ovUPG271zyX5AA8tcB5QVtaPbwoTNPQnxtokkYua3Q0hf1xpkR+CIwCAa5prjC/ed2OTTgpOw1mx8XNf6nIH3M0W1si6VPJGelTC5JE6k8w3ubwYpGs/kuROc/tmIf+TA6bOdfnPIfz6dvn8uGBvR3YHhiy8HRloIX/B5P+Gq6XXbmR0u1FLzwk2myPz8So6WyER4TiNRqjrCzNeQFVU4uv24RPt5Qbiud+M+nAkrgWJtz4pZtNfBYDetkEf1WUbn32Q47u5MayCrdfImIsARtHAz5QeHkMQ9Hs+sLXts+qL9Zc7cqroMgL66fM++JM4+JqMRqNMcfa7upB7LWVE0X2FKn5BPg7vFZFcOlk0a5looESDbFPBfzQMc84FKXo6pi6xUMWCgwreF2Q5VF/hRDC3JSbmwsa+1YT9337GkpjksNCOWrbaM8/Ygh8XA4eu6WnXx02/fUwOPjpfNd15lFFR4ii9tsPdcTbZ5q7ISYB3qPB6anOB4UyPWcUUKcYdfG9RYLlk7csvmDJjXqgfPkg3DLjsOoC7V0dsmb3ojWan9z8XvHOmG6oDhHBN9dtnBCuIoRkbokfE6fVi9ZSCUI/2QTfSo0lFAluSil59oN856RatqlBxyw0yE4dmTrMryRmlh3a4dqNSRlbDD9uLjCa5NXdsSySyv/BZGRheljGHwKx3htv+7jNGkWbeFv5Huzh0y31CqudejIp5fti4ic5beWFGzee/9lRH3YNvqofi3CVoO5KvznBMuT8u/NlY0El5wxaLHx3TKkTplrBxM+eOfVJsgLtuPvk32sWbUUadMyj5BKpVLJ+2+9Yg8nuN/2SKU2JReTz4or3FTl6BGWtXrzL8QQKtdsUVhZrvRxlFqOmtkbXVVKDleJSF5B2hiSgMasB3ogu/SzKyAGCaIZQN0BiMtSdS2dkvSfHjid2JC7qQfy1z1wOkQuVyWSVO13jwCrVIwCw6grXJi8MNxyy246w7YPKyPFeTWgj/jP5Lps+JB4sJSkpxlVuohstazDNHSG6ndeXu9tNy9OLHjR0+6C2HhjHgAw7ayE4wzD84nfGcMHx2NAv97LTNzSRQ+E+kuEUReBfV6Q/+FJFiwXgGRVuXBF7viuIurjM5sLSWZO3/ChLshRQQ4MlpC0uXwkPR39+tWa5Fdgph/DBsdjYB+8l/zX+/Pth+D1+l6yItcVl7sbS2na8/DJLquqAKyqwvSxVIwJZSaAvwE4w6cswxISRlO+pHqoTz61sY0rZyc+IIofLllZzfM6bNmrN38Nhry+61dTP/burDqBDYZD3NnhjruwgVBlaRxakBb9L4orPF3FgRO2p8g1YSQ47gZkPgQvmuif9X9pwyPGjxM8kNtVjffXVBHd8ZN6bp4HLKcjb+nEWClB2Besmxw477XNo+A05qulCwCcBJG3RODyeu2gxYfdZJixYfRwD9xbfl+WqFwhkNn2VFT3wZACiBTmptxA7q0+bzOSnVepaCPaVwQYnhiH/v0i8rrvFP/uP+jBrupAVREy6eu3Syq8/+jIAGLBi454L3ZuzANd6IEZKeadCthKGISTjRqRAOHTrY/YoRoPtu85/FAU4NyiCk+4UpRt9tIFf/j4DEs9RGAcB9XZy3NP7uwXLPH7dwH4bj0Kg/Bd1kVyl03yVkIMmV31q1OEPb8ZyWauis2hYTNbHzuib6Iu/A6rPuDBnn2++0rwbnG556thO7OZA7PLKj8H5LnC9DHhkMgyYMBrwY3DD+rVZbhZoMTbzwF8r14694vALq6clbhdgOVLVlbz+A5bdtnmAsCYtvueuXd5PnuHBLHMgNnoi95Qc9uesrQDNR7sPPycqa1ze4597R3s7rCzo9jAvNc/n6Ie7+8gMhWQRYXpY26OYnfkQphkGPgbFDV8lrjSkhohz9HsN9Z25Dwwr6xyMgNdCiXSglDOF6gccsBpupZNHNUmMr3IjSrWUm/xwL1vPXC84cEVailL2E72vVsqKGWKOim8+ewbPustc43kPGYkO76jIkT7NkYsBvU3MTQxLpLdRLwtVWB3dS32H2pSVbaD6JqS9Z4Or537zk4n4pcm1mDMA13rgdRUOAerYyMgNoSZ2XJmzfuCWar4csdhxmKFPlxS4eVmL6o2Z/GmdKi6AO0v6p29LPe0zmRW5/OaMlqs+aQaAI2Rhlt8ZJ7kQyAXCv/GDCiJPUMSl2akmORQOIWNDUuMw8D+PSeqH42LzWjQ59sOBUAc9YLiCm+7iAZnbtL4xB1VBwTyq4L0MQw8hTKWlnDzcGN9GdBPfdfz/wAwkPDXevLYt/wNZGYibsCBxFqoXrDkhX3tGl/gYL73wfZBB3bXVAPyRwZaMlJM3js2ozvvCd4bvcHaUpbG+ZIHhXwoNFHcXbTe01XSyWG5f96aqstVld//0QZk/tPpYyLChdJS5/PWVP1SVX9Tr2DyZzUkr3DymB7N+B+Wk3vRQfNWV33HEqXUKTPgROa4DDFcT6eNjknZ9qLr3BVTWfTGg7Pqyy8pZXoxcyMcg0J5fxXkpN7wz64YU0/sc3qqc7Ko8jluB31oJFMfOsiJhPjuh7g+WMMEkBsk6AywtWo4rixZVxuOXHzIy9RtgxdTkzHSaTiTYFlHq4GhAqM/LJgQeAXWQUuwx/Aa27xOd+WqN2xIbcxiHuhzHpie4sgSSKOc4vDBcRjQgyBl7b1ggdKoAnxR6/Z8pbOyoXPu+2gGvF6WkBxQhzFrxY9P+m9759HB88iDscSXjSf/yec+Uk+WgJxZH+hgbXurMPHpKeY3pUGK1c6sjzmqb6Mu/NeDyAsiMGxTWVq83k2llzZb9urNJ8KQDxXWfFf6uHA2kcfXl4wQTkkekzRf8IJBKMrj/iUQWbNg5uDvqOjS4yZVO26/HR1mXJ9XVvlTBX6nML7hSh/98vQUx8UCaaxJPXp4gk0c1pds7wE39u7zc6BgtyGe418uR7eV+ZxXVnm7ksBX8bFlWFlL08a1GYkV7vXNXr35qzDwOFQGkJSzMD2pK8iMwx1u7LgAD8xfv3vIwZp9C4QlRQ0lah9A4DI8luvpc8a9G3NWzAPt8cC9q/94lCPeulxhER2a4mvjIwgKRFGYM/HGd9rTbuwcYOZkJNa6nQ8DyvLgRiOp9uABcTC7AZlnnUdB3jAGLwItGsnFbhG8+EYyRllwnKsiXKylQPEVSIMkTpjGBfq7Al1vKdaqOl9Z9WYNmfNjFvNAr/dARrLjzxD5PifKqhHKG/ZEUp9wL9S+Ax7s9sP6bVi7ziuq8DYGcMJtpyPHzV606QIRIjDwsQrmrFg4gWSanWWERvzIl5lfCIBzpyLJAz6iRy4cSklXAICEk+tbGtiMFMdfFMJyBAwaYGLooN6RXe/ohSAz9hcBRLB1bs+w9gTHslZvPlcM+Y8hxvltyGSSrLPWB93mtaW6DKNKzIw2bpznz0wklPTcJS9UU7Kww5ZdVrkNiorCKUmNaj0ZKeZzAGyujt5GDBzKYcH3gIjcVFTutktpuptduqZqjBdKdY/LIHjOGjQma+lXpGmhcQQHnV22OYflKFA8YRjIezotya+AFMFeYk1F2gOZpZWn21Knai2AyFBAiiDq6hfvcS1JPr7PkSJG2r99sb381+//ugqugAjRFTZvFkT+BViFUuspzJmS024i8b7oz1Bznp7qvE5UF/nWB42HJw4wbYSk6ej8BAPfldUH3ThwsGnQAsA2geYWVXgjXkbYZcGL81LjTrfUuliBOfU1uxNDXbB2fP4OFCtE5R9Fb7pJbBezmAd6pQd8MpcsJbBr8wknO3p4PIxeyH9xqNaL7bu5r2swUdxftN7z4664sLPyNl5iGHhKIOvEcMx5/qYTyE3QWXZ+fanIez60BQk8WVJAlZWf+VQq/KSeq+pZ4m/wbYaPGFtGisnyk6H8oC9m1lu7WFt31qDW7Qc0yIJ6hQmiXNpk2as3z4MhT8OQswonj2ks+QhqhIGJa+rJYBkoCAy68/3M7BXlUnltm/BdUCIVor9fsmIfr3mHLHvN5vOh8iIE1xamJTUynPve040b074kobttdy1qan31uorVxes953TIyVE6+ZLSyq+rIXerajqgdxamj/1FlLpC5tpPjzfUsQSKcVDkFU5JejBafcXajZwHstZUzhKWoykyoXZg1AVYrsIp46hSFbOYB8L2wMPrHu5/AHWUMWWSZKq9DhNsV6BQ1Vt488SbXgu7sdiB7fKATdgv3jshymvQxIi8Jnl/Qlz0y0m4HienBfnngo1oC8P0/rzodexs1yRDnNTpwYuMVOf3YSnZr89ubWzceJmm2FBmhwh11RvSygpQbUVV7XoassKz/j2EVajI4zVx7j+XlbVfTjBUJ7HPYx7oKg9MS3GmGdAyf//94h0YObR38V/U1VnYursG/q+7Y+Rxnwy74z8LDVNWPz1xVERkItt6/ebmb7pKYbNB/8dwW3Of/+kp+9raRgeOJ9riHl9GnuiJkvrf+/v4LjKDSD2P6GZ6sjlDxCb97NPyqC35vwlxZztLR+aVVf5IgfssR/yxSycd1VJ5I0k6GRjhNWMA7BhffXBlS2ObP2vAMYDjC1U95/EX9nVY+jJ7TeWL5M5xuL1pT00d14SMMiPV/BnU5lCxjc8VPl96s1Eul/BXvxmQ9Jcr3J3JbxOWe+et2fw9qHG3QkfA0ksLzx5bENaJ7Tgou/SzayHGn+qRsUstIG/plKQW+XTOPwMDvIbzNBXrJBVJEsFRojpUxegHhYPlvwrroKjshmCrpVopMD7URPe7q1ahph3Di50S5IHMdzXO2Lt5gU/qNE0EHyvgEstwFUwZ3SIaL+bImAeCPZBX/lCqqHUFoN8mlw4/V0UZFIWm5S24Ke2mzkzcxC6QzwMzUsz/0YaEFdGaTYz7Z76n+8WbNmoyUkbZ04M1DFhY8FrNVKsqVqoDd5Ws83R4XdLamDsleOGT4suB4kYIjm5uQIwSxccZiIsz7IV0W6AvXkvh9ljg5qbGbYHOtTn4j7R9onjQa3jyV5VTszpmMQ/0Hg/MSHFcppAn/DPqn2BixJDeUQZQ57awfU9to4SlOByVQ+94JckxdBTrRuqgeKf+xfoORMqg3lcL048jCWWn2NxFG3+kQkJFXTmxesLc22+XDvMPhDlwqoxww0teApbO8QXGQAoXpiR85BurSbY+sN0ZyeZdKriVf4uVjBzpcdZvfukvHRHsKi73DA/zujQellVWdadAbzv1xTGOVu4LZvRJzsla1gP11zKnvgSIfVFhpFm7cvbga0T14SUrqzv8Dp/3+udJ6rU2K/B7V3pSsyiO6SnmCwLY5SRUNjp6WHyb3tFt9VtXHh+kLgIV3FZS7mkM3nTl2AL79t9bRGAZDivr6UnR4Sq4fPWXR9UZ7iX15SjJauki15SxtjJRoGWcidFiOs6D4lyFXf5LPp722tsCZaDoFYfH+++X3sa29jbUF88jz444jPmqttTpaIW+JhCXIW7X02mdig7si+7vNXPOe+O+ywXyXYj4ygi1DpACqBTmfu0GIgFj1k08MP0sx4XikOuhNqH7EUYwAPfW8aYBp1PgNB1wONAqOtuyFPbe2m2BayGuwWvd3sbkYXAnIngOFh4sWu+xE2LRtg4vfEINcHqKcyEXbwBGBB/LzVX/BMOODkVS4pFxi5oaLw7WenHwkKe5OMYhFdxdUu6htGDMYh7oNR6YkWrmqjbIXtL6xzswoocjMAjdZ6kIH6Y+ox74eSMf+OSXgM5p4eLthurr4jBeAaxXCyaPjZqEKvufk7/pZ2DNOcS1Imd8diffUERgcHN1KYAr6xUiVtQHLa4FMMP3t2Zr36enmK8KYEPhRw6JR7+E3p1Nb881+Xx7DbxeXyxKJLW43F3RlnayyyofVcW3XVOS7NKcFozX6is+HhO+k1kfyoBUizroV85KpBLA8MdXVvtJ0doyrCbHziur/J1Cci3Vs1vKpmckYxzEVh85iieTuPOo4Qm2jGpvspo6C9t2HU78C/D3ogrPd7rTHDPXfnm8YTGYotmUsixIHxu15012WSWfKU8K5HkYRl7B5FGNz9EGrjJzngIXh0LSdsR/qlglkH+44S54dT22d6St3nzuvLLKaT6p0ytJBAUVqmK5CtOTWnyO9GZ/xObWNg/krXvgFKEEu+LbEEzwnU3y1kJ4pTB38g0xFaG2ubTTj55xlvNrlmFdKRAmQkImW1jZwL23wcoGml3VQFic2tUNYRhJ4p+2DOPxVevqOpW4Pmprj4xU83wf1LTJ4opQlkH9nXZNTmfU5NP/+2s8NpEII0dBtklUbyta730mjIsUOyTmgR7hgemp5i9F8Rv/YIloGjE43s6Y9jQ7VOPFjr1Ug2wcOet1ZxVXeIozSysnGYK1Iea0SuBZUJB+fNQJfOfkb2QwlPXmjy3PmWCTYHaSMThMXgRKxZLDYpJvA3xZa1KpGSkmfWlDc6gywhdZzJp6YMfeOjsA3vBilx8Wr3f/qS0+yi6tXAbBcYXpSae3ch7RMiz5oSQqgxwk6aT8bUscGbD5LqA/WbJy371tGU9zx2aXVnpE5O8F6WNa3QRPP8sxSwxhYMy23laaRvTmtl21drbJZ/+Nd3rOfmFt64o9HfV/W87PKvv8PBHrbigmKvSXrvSxv23L+eEee/lbXw6oO+R5DNBvQCXvqBGj8x4YLzbZ0Ixk8zwVuRrQVhV44kyW/jZk+ByGEVD+a0POoRA7IE3oscejcHsb/m3d5EmBPlJU4YlqMDpcP3WH4+atrrocDp2vigxyIFGKUryGq/CcMd2uzKk7+Cs2hsMeyC9/8Ftq6aUQXAjAp5Guz6miMHfijQVi1+vHrCd6YEaKY45S/thGYwiJ2yNlRDW/JBZWFL3p6TI55aisVjNSzPx6VnSy4DcagxaJA+IwsF/XZfco38I65uAghor+ZSC8P1pWjoORurqxdmIe6EoPzEgxb1PgTv8YWIY1bLCzU0h8IjXvJpwDDY3uFcG3iso93OjZllVaWSRiL9qasy0CXFqQnkTSyk6xOYs3LYIqmfgfXJ4znqUbnW2D64lbGYylLGeLDM8zUuLOUFj25pgSW6NGxiRSm7tQTe5B0T8Vl3t/2JYLOq+sksG1XQXpSTNbOI+oGRJ1MshPVAeJd78JgNn+j5o7Z8HMgaepGO+aYp326Ir9HSqPaiQUtfSScPgSZqQ4r1VoYwCHaB2idnq6BZelQbFLxJheVFHXbVQ0skurrlVRBqscUL3UNWXss9Hwe1bp5otE4IJIiQEjz6+Sk5HimKsqOSKY1ly/CfEOJDgNxMc7bHhye2A5DGoQaVdb5wVRMPy3ORPgRRhYVLSu6xbP0fB9uG1etm77sXXuQ36p0/ECvG6JuAxDXAWTRrfIlRNu+7HjeqcHFr2+KEkc8ZerKt8vyZylAlWAFhqGFOSk3Mj3T8x6mQcyUuNPVHgmGypnaYOaJ4MZY30qZi3Ndj+AzQA+FMW7cGiFW7xrX3kD3eL5EtHgxfRk55mMikPszJ9t5NgcMigOg/r7gnrd4KbYf9ADEnIFwNA5qg2quLZkvec/3WCIsSHEPNBhD8xIdV6nqv8b2NCQgU4kDnR2uO1oNsDM5+7qYK1o/UhhZJdUuMsD+84srfyWIc3D61X0KlfaWKpwdKrNXrzxT6K4VgW/X7FwQoeVINoweD7Pibghr9D19ianYVPM4M5fAvkvpqc4sgRiy8v2lg1oG/wU9qFB6jb/Ka7wNLtxa6nB7LJKIn5eLkxPsqWMW7CE+kDTSZQ9rZe4pYrMFFby+PgvmD2lJCqvn21Xzhp8q0DvigTfRXZppa3EVTgl6WvhOiWYwJMIjOFD4joFSRnuGNtyHDfI2/fUBa4H6gwD33x5nafTgp6tjTfTpQ5jbBXRFrcAUgHLyio8e2yzga22zPuIY1Ule03lXwGZJ5A8r7N/3tKJw/YSigxDf60NUr1NjAGLAfEm+iUYUUFucY1GcjjykNTWHUklxLIeEeOOl8vr3unQ3HvIyQ1oQ0qd6gIIEqB4lkgLrVrjWpqV1Xykp4fMLTbM6Hggf9395yuE5V9EVzC5wZ1ZCdQqNExv4cLkhTGJ3Oi4vtu3el6qfT8M9iCuv3jggFM8Tqk9eKAae1ZvQGeSz7fZVxELXvgWw39jOax/FOS0GDrIhKMLdGdDeYIvxT376myZl0BTyLUlFe5GqbhQ7cQ+j3mgO3uA2TKIUNpumH+cXHAOHeS0JVW7mx045MGefe5A6DZTA/92G54rXy1vnnxy3pqq0gaZwMNGZnUDjqyn0kY1CXZ01nzn5G/6G6CXA/jl8pwJUYF2++bCwASfuS/UZ+4vqC87uA8AoXzcBB9bj/ImvHqpj0OhkaR4eqp5qyjuYhsMLA9N7B3ErpG+vlS02rK9QaZeIJVFFW5mK8K27LLKQwL8viA96fawT2o4kBHG43yBDCICeQ1tmz8rcb0AXzy2snpWG9tscnhmaeXphuBtFbnNlTamTYSUGcnmLyBo5IyKcxoYPjiuWz5TWvMRnzc79zahhKmF4ILics9LHfFtpM7NXls1AZby2lwM1b8VThlLTpuIm12OAssFwTuqRp4rffQydjI9xfy9AD8J7pDPDEry8bp3lhEds++QGwcONrtHv6O4wtPW71hnDb3D/WStqfy2qMxv4HiS7SLqsgx1uSaNfaXDjcca6FUeuPvth4Y667xXCIiuEJvTSoBqSpnCsgpzJ/24qFdNODaZPumBiAQvfKScLBVptKGD4zCoX/dBW7R0dRnR373X3URuVRW/KVnv+XWfvCNik+51HpiWEn+SAS+h3iRwbLTEASYGD3RGlCy3vc7jwnTvfjeY6Q6yvOIKD+v/W7R5az6/XtV60H+AklwOmibAUQJjXkH6aBth0Nk2N3/j30lmJ5CcZTnjF0epf6LcyEPAAAbJGYrr+S8IJ+e/VBpptmZ1eorjQYEQnWEHLroTMi5KfmpXs3Re5ZeHqwmLKzzcrYVVB5z5+rZjDG8tr8HVhelJ5LWIiJHvQkW///iKfY1ojPY0PK+s8hEFvm0pJi+dkvRhW9uYkWzmqhwmBybKclhinL2p7QnG5AXLggJsuyoyuwv6MruskqVGDFycKaK3FKQdqfIRCT9nlW5+UESuJ9Gzw3DnUZFiRoo5VYEH2HdgH3xO8L3RlQkp8mJUH3Bjv5+LxjfAejWcNV6VG1etd/cK6PtFJZ8MiY93zofofN91eIsErV4VV3u+r5G4V2JtdE8PLFr/v1Pg9V4GCNEVo3yjrCB3hSnegpsm3kT4f8xiHug1Huhw8GJGqvkrVdzh94jTFAwbHG+zkfcUc3sUO/fWBnNh/KG4wtOEt6OnzCc2zpgHmvNA8HeVx5CkkQtSSmV2BoFu8LjsbNpBD5gBDTRV/cThwMKX13nJB9CqZZZWjjYElGc6pT5D+Xb1iJpJA7cnpBlAHgQTAflFYfqYRv6PUO1F6vO5D2/pjwMH/q7Q/1HRa1csPLnbILoykp0uiFJm1Yb83/DTP2JKxjysXPoH/PPJI1116pnn4urch23X/HnRtXj/rY4l/L512c9x/kXX4aVnH2q2v0hcg0j18fm2Q41IINPjOTpc6cZ5r22eqA55Q2Fc4M9kd3Re82cPmgqVV0zTe8wZpm45AAAgAElEQVSjzx/Y2t72bELGg27WtD5amJ50dXvbCZZnZjsDieQZ1D2Cos3Ni8+c3dV1NreC30TwJizj0qL1de+11xeRPC+7tPIGCJgQ2mcpLl06JelfkWyfbWWurkoXQ10GsEVV8gqnjLHRPRkpzpsAbRJs7Y5ovbo6yy7/rQnixejp6NnsNzZ/FR4soHIIYCMmV1LFSlUZtGiAgcWsT3vg9ndvj0usHX65WrZUOjmSbGMJkSFGQU7qDf/s0w6KTb7Xe6BDwYvgzRBfcCMGx0Wl9rEzrsSOPXUgqWeA3Vdc4bmpM/qO9RHzQGd4YFqyc6Ihyt0pywoOL9656RhgYkBC50CB+T07cMjbHNKCY1ocX+259YUPYbPbh2Pz1my+S1VugjPu9MKJR9v14JlrPz3esByUjb0YkCWF6WOoe9+pNvP+TSMdHqXs5VSIXLZ84XgqSnS5zUgx/6W+Rc/IofG47icP2cGLfXt34Jkld6C0uKDJGG+583mMPfF0uOtqekzwIlJO/mL7Ibi9DWALC47xqypqw0IpZK/ZfCFUnhUgrZ6wM5QqTljDvXLm4HtFdOGSldUdgjdkl23+ISAPUbmnMD2JJUftsttvv92oO3HXf//79DMT9n+5rZGNm5n5IQMbSgu6jSmw54Ab1fvdQUOSgkPx7u+VlaHLN4bzSz5JONTPcTf4LIOUWqpZS6ckUY4uopZVVvk7AX5aL2H/oMNy5z119gmfsYOMZMdDEGkkpeUCkcgsBqS6q+074MHufUFq0IpFxes9N3fXMTc3LiJtBDJfbRUXrQbEZYnlWpo2rssY/XuS/3r7WBdV3H8mLLlMgAsVGM/5KvCRCApEUZgz8cY+wfvS269zbH7heaDdwYvgUhHyW4wY0vPrpnftrW3KgyH4bXG555fhuTN2VMwDPcMD01Md3xUVkkkeIeFI1BRJ+BiMjFRNM7d+tbVeHKz1gvKnAXKEjQ5Tm3xN7ioud1N1oU1GIjOHoH+wskimqsMoq1oEwY8F8prpjM96cuJIQvk7zebe+8Hx6jCoAJIikIuW5YwPiSaJxuC+mV85zCk1ZyxfOH5VRopJYmISROLoYQn4wS3/i0lTL8bWLR/hs4/ewmP3HRZKIerish/cC7e7FolDRva94MWOQyA6j2YZxunh6plnl1X9ENCHBObxBenHRkSq98pZgyoF8vKSldUdCsRll1V+qIrPXFOSmpSStfW+W7TuwVsBvavu4MFf/fum244HpMm4+AxJ7G/az5KuNJJ0s0TE421K+qiQnJIKd7RKuto05Ute++wrlkPuBmQuFI8UTkm6tk0NhHFwA8+JuACtE8vKKzh73BM8LTMTjp0fmXxGXeRvJiHOwNDEeBBN292NMrfkLmmiJKfyVPF6N4kKu61lut6NM8YmzheAUqfpgLxvl4Y0BC26BQqo2zqvDwws/40H5wGaqQ1Spg0PUZV/wbAKhw0bVLDg+AU1fcANsSnGPHCEB9r1VpqR4shWSGNqrrcELvze2bWXRJ6HERgqcn1JuZtZqpjFPNCrPJCR4pivkOsFLK840lhWkhDnQJwpcMYZoOQqpTVbe3Coqr3Z83gs1HnVZomvq/O2QhTADJM+sKrc81q0nJtdtpnypSwj2SriyCqYPIpElp1ms+9976viMAnLPoHa2ysWTmCZS6fZhfdvOs3rATctRy3PmXBURorJuo+pHMDRwxPwg5sbghevv/oPnHrGuXjs/hsbS0MW/PgBnHTKJOzZtRXHJo1vDF74S0mGDm8osa05tB9PPJTbBLVBxMZpZ329cZ7vvfkf3PvzC+Av6aj69F2cdOpk+3OPp65J2QqPmZV5E0zzcFB8y+YP8PMfNhz//9n7FrioyvT/5zlzhksqXkozY7StRLObgCaD1V+gm4plbYDdrd1qKy2FrtuvzdruCZZWu7Vb2W1jsK020do20K0UUkCt7aLYRSG7esMrzMx5/vM9zBmHYYAZGBD1PJ+PHxXOec97nnN73+/7fb5ftI3+bP65xteGfx8iVTbyw697CZMjBJNyaqj2mVPKamYJ0b27rZYeC0cNatOGOzN/7Qpi3lWcm5DWwo3BUyfEaZomF7383o5204IvKd90uibuj0RkWlHq4CZuROHckE9UPDHYRZYyhfnX6Bgee9OJN+08b+o5s1zfrLld27m5ifcuwFCs3uPvrgrYbqIcrW63k6CT0CSE/iPEty1Z5dTtgvd3TCnbeL4QPULEJ5BC0x1jbD4Nn0j2bUpZ7UwPtXyE5nbOXnD6sWvR9rhxFKPUqcX+mki4VtAvOdACAIZ/CSIz/auk0uUDZLrL+Vy68qdjNVf91RoxgIt4Eioh0orq67Wit9N+Y7o/dJcL1cX9mFsx9zin8BXMOrtipPfwv5CQQyEqnDl6+rIu7pJ5ODMD3TIDYYMX40ZaRyqKwL5NdxXBisqAvge+z3vg1QksIWGhs0tWubp0wtEt7xizUwdlBjJGqWeLxlcSyRQiapMjbFGYFLw9mHU7ZNGEhFi3G9Qwa2gz5Dsh/oeqWeb/Z3V9dZubR2CDKeW1F4smYGEMJlaucaQc/WIEmg25iQmPrxujWGgBMfcUzZW5KO+E5SHvHIENJ+ZXX8MsEHn86+5XRyR4LVRpQL9ouuG2Z3Tw4q1XH6KzJl1HZUuKfFoUD/7lE1r/1Qo6YsAQH3gBwOKKG/Ppm7WVOhiBAJhw7LBkH4CB/yecZPcBEgYYgZKUbZt/1IEJlKkYGhr++6M9tA8wxWCBAEQ585wr6cP3X9Z/ZgAjBiBigCl7dtXpAEekwItNv+7xTX4VUkZ8UNXwZSiXI7ts41+YlSscKfE929p+wuwvhiiK5XMhyl+UOyyoWPTVE3pdIMRvR/1UF/VcJQXWPrR1CN/vs8trF7BIsiY0akGqbUvIOwZsWFA5b54ITSORq3aMmv7qF+W196AUQZx7Y7fclviE5tzbrOQSwGfPWFhrqp22og8NBN1ec4+bAKQ2Dd4Il5TSSmfEBFTbmz9jv+yyjTOZuIBENjHzZYHssY6238b+nJakvs9EZxnbQcQZfw7U2L7DSdt3NXk83i6tcl3YHc7nkuU1/89NcjUzwzVmL7EUMStFhWPiIbpsxiGYgcdXzJ1ksVCWiC62GYcUiFAZMxdaXC7HjJQZ7dY2OgTTaZ7yIZKBsMGL9CR1hUfdXveEV1Wmgf1iDliNi7au8U+b9/pEvZjl2/oGd/LHn9HWtvYzf29m4EDNwKRkOmwnWSaTKBOY5SwSOjKC5/I/YXpfISouqXQtiWC7ITc1paxmDBgYQnK6ED9UZI+/O+SdI7DhpDlfpYsoRUS0h0TNLM47tktXficVrHtWiK7b81Zamez6SbeX7d8nmm68oxG8AHNibMal+pkClIAOxsVT79V1MPBzg3mRMi6LTk4+q0kJiQEe/FBTTcVFs3WBT/zbADf80+cPZBjgRFtgA/riD2gEgiVo32BjABAZfvIZEREF3fTzXnJpjcwL1eIa/P5KqgnlVsheXvMmM53osNuGtbX9pNlrx4vCi5mVjIUzj4dTTLOYOiHuRSI+e/7i7fFttdfS773itrXEnO9IiW+3JsCclfPGakwfM9GiT5yTn2bmP4qIbsuHcNhtnHFqdIJYoDvAQQVBUZKG0gSd2WVV2j2OgB4JmF0ALfbWa0FL0sC4Io3mlK5yPRaqW0x7cxzqfud//FWvGKXHw8x0EzOXRjFlvzwmfnOo+7eyHcZ1EHqEdVOrq/gZSeobcJwx2jpYnIfgRgLLbSNY+KWSVU4IYO6XyC6vudxrdZpBIt9Az4LJXVSYesyq/dIh86D7LQOPrXh6oMruK4R1sGIsOiIo4wKbXTRH3uhbFu+3zpkHNjNwgGQgLPAiPUlFbahvNWXg4TERq4nvjvlyuYV+3LxXX01ufMHwa0uqnJd3x76afTIz0BkZyEiKOkVYThPRRjLxCCI+jkhsjdbhLYQlWiPRviXN+TkT/Y9FqjTNXV66hiIuPNeec778w++Oclp1Ic9LPedUVGiPz2lPO+3dJ7OgehKJwO1jA1nUScW3HNclzBP0d0L+1wkKu4salt1xguvbhTovHO5Q0+/cB14cOeg4sqdl66UjAClQMgImgz8wkJl9a5NyEP9cgAmxrOQfzZgT/tsEAyqC/SywNAVt+DMv/MtY8LvOAC9qftqNlTA9VJer5/uf0q5Qrn1OWe3HzFJfmNK2rsTEgrV5TDw7ts4ZvWDWiQHqg41Hmzohbg8Rz5u/ePvtoRw/2DY5ZRvvJuIHiNnuSIkHg7JdkV8x7003WS/80nX6m7ul90X+jQjR7iK7rYfxs4zRMcdqbtf1THSNRyDyiJYOCFaGVVX0RRFVUYh1dhcSv4/dhU8xvsfQrsD3GeVpwfRz/I6xipn/XlLphFV0U8GLdp15ZHbKWvbtSFbUhz32nucJ0dwiu+2WyLRMALb+QUTHE9F2IppEREEFZjMS1SeF6WbjuH17RemuUwdLQJgVbiRGCNFDS6pcXQZWX/Thd0epqjqVG61OE4jpI9KoKEqsRa+MHfjzwZJn8zzazkB+xdNpTFq2kK5dcZR3j8+B86oWrfCWxFu6bAzQdm/NLcwMdP8MhAxepCWp53pU0312XaiH7M4K1JFKPVwRUEJiBJNcUVLlfjVS7ZvtmBk4EDNwzik0QJTo3poisW5NFLayU4k5UWLOnXMxHzbo90RkI+aHi2cO/WN3Pb99ivtcRZqW7Rg7WHcp6YrIfGJ9DmkadIOqiOT84txhXQbsTJpTfUVDVcHLzs//pp8qKOIz7v6rj3mxdfMmuvrmeXrpyKix5+slI0aZhgEWQMAztkdci+KdgSyJwJy2BV5AOBQsi5jYnmToXARjXnQ2eIGJcu3PPhOKutIqV+9Q74+csppqYl7uSIkHRbzVyMxf9zwxXVOcmxD0m3zJpF5HRLv5FxZt3Ivv7oTYarsip6xmixAtLbLbmgAO4TQGEblf5ajXa7RTtjRIDFb4m4bQ545U20nB2oRelkacxUSoNeqc2gShWmJ5G8BkSZWrS7VtQsljdnnNb1nocSL6DRFd67DbIlXCEkNE84kI2jpwOEIcBq1kLwvD1730ZOsNJOLT8TrQS0Vayvu2HQ26UKsRXTF+y1nxw2hyOw2r0xgiKQLTwmG3vRnK/WFuc+Bn4NGPH+1ljTnsCi9Y4efsJv9iRSnMTZzmIG5FBuzAT4F5BmYGOjUDIYMX6UkqHAAS9a/hQeIsEmpm4Qm/Y7f3A8hUuyfKldAdbNVC7b+5nZmBrszApPzqFGGBXcWlRPyjkJa9KHdYt5tEICc55RtvJGGwMJwikl2UOvjfXZUrQ4OCmT60kPWCt2d2nVDbOZf/Yanri7/rSpo9Yy2U96fnfOAFNCnAYOjRq4/uLmJYpwYyL/z1LQJz5l9C0lLZyDmTb6T3337Gp63hD2j0OXxgk/6g/cBSE//+fLkG+qORZ17AvQDsO298WlrlOjXU+yO7rKZOEXmqMHVwmwBeZsG6MiF2L8od6iu98D/O1PG9riHm5+cvrgv5mx3Yz5zlGzKJlYXCdEVRiq1dAPyU/6639Y3ZXLlFG9S/lTwUO+w2rPi3FP0sTIsGHs67j7MpX1iYR7PQaKihhprbgO1QarHCo9vwsZu4dGmVs92MknYeP+TdsstqbmeiR/XSAUW5rCPslyAHhbYKrivAi6OJ6DoiOs5jFf0pEU0kolrs47XLXmnsj+cf7KuDNQL0y3aLYklaUlGvi5VGMnLKamDJPZVIJjFRreilIVIUKZvkSPbVbCvyGShYOfc0jZVsJgG7AswnMPZqdStTNzlyx0yviPxRzRbNDByaGQhpIJSRqOYKUz5SxMx0VP9ondZ5qAQow1Cc99msMT1aWumCzaQZZgbMDLSQgUn5664XhSHoh1XYF4tzE0Ab73aRs7w2k1jwfktglmmFKe13YAj35DIL1k8j0uYR8buxdQ2TWyoZCLfdtrbPyDzzMtm0XJ/Awhr3zvv/1gQsMMQxg7l7QE/CEOzc8kutz/0jGLjgD3D4Axrrv/ykmR5FIHgBpsXiBU/o4IbBugAToyvLRuBcAAcDPZjeKK10ZbWVW/z+svLNcS7ZvZ2EpjtSW3eOyCxYezSR8jmJ9kxx3rCgQMdVE+IWMtOg+YvqkkM5frBtspfXlDDT4Q67zVCxD7up+1fMv28z/eZPP7qPbXnf0Gw+UVYCRw2ANRBZWXnMQMvVexq0R/r2UL4YeDivVhTpTaL0ZJIoYRJL/IlDoo45JdFd98t/Gz4rcbDIt27N9dXS1RQRG9qwkxHGDlnLa/opRA8T03XEvDgqVs1+5dSBIZUftXGY8R4Gx0teYAKilCM8ZCqU964monnev/Gcv0BEC9FWepIKx4JU49mH29DBHBBtBQBp2B0z0b9LqlznReKcsyq+7q24olAWMpWERgrRCtKkyGpRHK+lxOtgkRkHZwZEhPMrn77SC1bA0cY7n+Il0K5wcnThnaOuR+mWGWYGzAxEOANtghcQ8NulqTXEugAUHWx1kaHms8kgVrf1U4/98NO934a6v7mdmYFDMQMT56w7gTWa7hHMu4GJnJrCly2aMRQrg90qcj765lRS1dlEfBaxPOFIGTyzqzo4Mb/6DmZ5hIjeKM5NCGly3NG+oezHpaq6ijncYv700PNNwItgZR+BTAd/QMHojwEsGP9vyyq1JeYFAIvAfT/58J+UcKKdDDeRcJkXAGQMUVKwSxBwUkEY9quB5x1AO59VWuW6L5TcZ324YYRiBSDB2Y7U+Fbv9/OfWHe2ptH7ovB5i2YMDcr8mTohToj4rvmLt+M+CTuyyn8YoYjrc48y3L2OVNv9YTdARI9WzRukalROxHX/c6XdvUd6XyMkjVYzTeMxh912RwjHwPgDejNP4lJ4tGNh2wpGx7NefYrLiEi3mM1evnEyM79FxH9x2ONvDKHtbrNJzrKNo1FC59E8yPAQV0PNTSj9R9kJ8vZnD7sCZUDjiOhir9YFEAlQhoZ47JlfJiLk7PP0RPX/4LZiNH7UETG6zsjBHrDr/mmLj0GFRbgZJZVO3HftipxlG08ihaYy8VQhOlyI3mKWohPG2IpmMXcbbZV2nZy5U4sZmF01dwRplMMQ2xQyWHh10K5QmApnJk8PKrZsptTMgJmByGagTfAiLVG9h5n0wY5VZTrqiCb27ZHtTTdv7act9VTfAAFvhDxVWuUGNd4MMwNmBtrIwMSCtVOIlGlMMpaY342N6p294KYBO7tT4i79aENfzarMFtGFBYs1oewFqTaf4EFn9nVSQfV9QvInJnlpYe6wLlHFT0+yfE3E+hL6wS6+3N5rhwkPJj4IJplUUuUuDqWtrPINZyuivK8JjVuQamtVoyKzYB3EGp9wq9z73ZuHYiDcJK6c0CtBIV5L5D5l/uJdn4Vy/MBtcspqZxPJtaTwaMeY+HXtaSO/Yu6TRHwzifwub/TNWMmnnPKa/4nQQCY63Ncm012OFFs4IAtse4EmQVjyD0S0w2N2A2aG7pSRU/Z9EpEbpSDvOeyDg4El7TmdLtlnStn3OcTaHBHqx5p2beHYIa9E4MAo90Kp2wDcN16mBQZmyCFYFa97mBXvQ86GiEAbwvusNOO06ARxuX3lEofaQtT2nU7CH2/scrJr6EeV9EM41+OS5TXnCcvVQpxNQr8ISZFiUR2FYwZ1y7LIcM7N3DZ4BvKr5v2WhCbrf4gM2+sqWJk2iMtx56gZG83cmRkwM9C1GWgLvOD0JH11Tq9vPbx3FPWIPXjUqMNN9d56N/28FdpXjaFZXEctXUk/htuOub2ZgUMxA+fP+2qQ5uTpRDwNgwBm5eaFM48HtblbRXZZzb2eF+MsIvrKC2C0a8IY7kllFlRjgplHzE8XzxyKHHVqpCdZXyES3T3pUJvIhJJYDQXLP+3Drlh1HVGygkKyspxStnGqEL+oiOWE11MHfdXa8Qz72pbEOq+e2OtWEX68vXoXWctrYhWm3ULyUpF9cLuAsccrnhqjkCwj5v/kJU9DqQJlL9swixXlXpjYEHMWiVyNnzPxDYX2eLh7tBTpHi0GTOIH4RnzAhaoB4eNKcTtwCLQn7msJd8OVGLUD4l4h+ZSLlxwxqADZqIw5ZPaP4omDxLT55rCly84LR6lHB0Ji1fDAiVu93hBCbAvsnXr5cY6ewh1wpoWOhcAL7ZAzwcHzUiyviokYLNQdJRCR/Y7uMtFgiUa5SPQsdGD5S+lle42WTzXVVRY65xH4nmGnkUqMa0WjYtYtKKuFHnuyI1j7ht6BmZXPTWERHKYwK4Qvbyq8X4hBxM7cpOnvRV6a+aWZgbMDHRGBloFLzKSrNcJCSicZLVA6+LQZV0YyfdfiROmPy2pdPkomJ1xgcw2zQwcbBmYNGfteBEdwJjgGSCsYuLsd3KPD2rnt7/OPXv5xmuYdSHPXiyUXZhq65IBS+ac6mdI5AYSeqw4LyEU6n27U5SebP09ieiWI7HRFurf9+AV7WtPkgKcplaWVrlOC7WdnLLau4nkAU3o8AWpNkwgW4zMOes+IqGo4tyEMcE2mjohrkyItr60uG5CqMf3387jeoIJ66skPMmRGh8ScyTwOLMr5i5g4otZ08bnnnbLe74yFKJ5DrtNt9vMKd84xXMeDxHTHx0pgxvrchoDq5XPewELMCgwpoBm1DfeshFoNNxARHjGUjyT8S+8pQ9gdvxbhEaSRbKKThvcqMrazeOKZT8OcFqcD4PBJUJv/Vy/PntpWto+y4v29x/XH24iKGl7zQtOvOEFLAywCGAkBANxzX02aWmj1LGs0cfGoQf0jaaYaGAhkQlD70ZVdfdlPWCZHEysNzJHbF8re+rd9IvfApTCyikfVDYEBacv/WjDsS6LZSorAj0L2IMvJoUdsQOcRfN/85t9NSjt64q5VzfKQEHl0+cJyWTSZDIxHent2noScqikFt4y+ob/daPuml0xM3DIZ6BV8CI9SV1ORHZkqU+vKIo7iDzA23vld+110Wafdap8U1rlhpq3GWYGzAyEkYFzHv+xR5Rlu87C0IT+b3FeAgblgRFPpJes4U+Xi/Jll31/FrPMJpFTSeh2R6oN9oadHplzql/yuBFcycT3Lswd2i59glA6eVYyDdZE3WBsGz8glhSlLTJeKC0fHNts2V5PO/cYZYL0YGmV6/9CPbOcspq5YBQ47LZ9s7kgO59bUNPPSnuqMbkvzk24PVj70LsQ5utfWrT9uVCP779dTlltFbHscKTYdHeZcGP2yrkXMzN0O/6WN2o6HCwAKhSRUKImNH5Bqs0HPGYtrzlaJTr59VSbz1bdezwcG894GRH9QkS5fvadEE8EmIFJt0/gLmd5zbMQuGTFclnhmEH/CLff+2P7Sz6ptWsij5LQGR73lPsdKTYwUzoSQBhQkgPtD0yYwVQDZQLXAYwKAGrIK7RyPveKBkLEwnfj4uBpSeobTPRb/DvSbnGGNo2/3o0hzovjQeDXcAPqSCIitS/AC4AYCCZ5oaTK/bvAtv3Aue1MVKSRVlRkH/JBpPpgttNyBnSdPYo+it1aP7JITyGyMpOIm+qFeDtrzl9L11CHrMWf+vKpw+t3E8DWC4jkbF9vRN5jVgrrdvRwzEq72gSozBvVzEA3zUCLI9VxI60jFUVWGf02B7b7ruD3P+8htyb6D4TovCVVri6zV+ym95HZLTMD7crAxPz1qYvyjgdIGhioT8NAHZaLVg8DAlRp/L9LNCiMzuR8UptAmu5EkkmhuSi0Kw+BO2UWrMOK6m+F5NZFucN0p6fOiPRE9WNiGou2+/WOop6HcFlgYH5rftpDcCrQ3/PMKUsqnY3qniFEdtlGBzOPdqTYWrHlIJo0Z326iFbCQpMW5iU0Y0VMHR+XQkxliuo6+oV3dm8K4dBNNpmy/PtUYW0ZMc1wpNjaJVCYX/nUMhIZqbHbflvyjE9zltdmEUuRpyThZofdFk7Z10Av62K0R4PhTK/GBfp7lFen4RKiRg2C7OUb7mJWHhKiO4rsNpSTdPvILq+5nDSax4w5sXatI3VIuMLE0PkASNF40xHBFQYMiz7eXMFN5DCva8gDXsYFxnC3ebdFSZCPbWEkLC3Reiqz+EpWjjo8hqzWyIh0+jsEQWTXPwwAwxDY7S4XcG+DRj/7iXdqmvqbpav3NgPHG8sHLUUO+6Avu0vfD7Z+jEuOGq6I2IW0ZCY+mYSG+TEfWjxdj8a0JiTfEPGXxLRGNFkZFeP++N9leplU0Cj4ZO4ZYoFuBUO7wngvA0gtVIQcM0dPh16MGWYGzAwcABloEbzISFTvQ1kEzqFHjEqH92l1AekAONXIddFfgZ5Jniupcl8fudbNlswMmBnwCM9hNQRUc9TXYzUWK9nDPTXyU7z13F2WpEbNAJSQyI0iVOq0cPZbY+JD0j5obyfHz62OtrhAo5fxrNAfFs5I0Mv3Ih3pSdYZRALaPkVHWejIfmbpCHIRYJH6eWmlC3a/IUdOWc0SIVGL7IPPaG2nzIK104h4nqLUD3xnxsm6+4t/XD2h10NEfNuLi+sA4IUdOWUbXxDisy17dye+njbs13AbyK98agaJzPGYAM7KS56uO61ApJOENjrstnDKWHrBpMv7B2UPv/dqXUDMFA4Z+HMlwMmc8u+nkGgQnfSVpITb767e3qeTw1SpaJbL29I5CdI/6H+87REpneHR/QCYC7YFwA8wUlZ4tzfAjbO8gp0QLwVzCuwMoBE+NUr/9tOTLLBi1jV0Is26CHTraXb/+jn84HdX3JhPX336EQ0/5QyC7TEisLzEsGk22uqM8pOft9TTXq/4+safta3razWUK7VLyLar77UD/XhpIy0T2EKTmOhcEYZmSySjTITetSjK26fPfra6V9yOKaTRZII7iBHMy2FlqlmthbedesPPkTy42ZaZATMDXZOBFsGL9CS1koiS0I3+faIoNubQFbJqKIsAACAASURBVOoMvBR7nRr9vNnHKNtUWuU6umsul3kUMwOHRAYwcH/XO5h/yHvGeFdh0H6XZxUSdd1hr0J3NHNTymruEKJHMHFjpuxCuy3klfj2HPvcgs/7qWJ9i5nOVISveCdv6Kvtaae1fTJOoiMlSvWJDpuuI43Z8neW8lj83l1S5TLuw5AuQU7Zxi+IlDUOezzYBC1G5px1z5DQDS2JdV41Ma6ahT6ev7hOF8MMJy768LujrFbLJiGaW2S3wdEkrHh82V8GKNHuT0S0euLo028ddf2v/iKdDrsNz2gogcED3Ecg1AnwEZNElJFAtBPfTuiuQCD3x6yPNpyuqAqcG9502G16mUN3DpTJKAo9TEJXsMjrhamDL+1Af1EOgj9QlARQAQAHujsAwHD9IZyOnMNeFlpbyCuua5MSEf/jzyJSPkxStxJRHH4eSa0Lg1nxQ011i9oW/tbDaz9bpoMXiFeeySPYFQOowDaLFzxBhj3yscOSfb839v9mbWVE9TP89Ww0oR+WrnJB06LFPHbgmpq7omzp1KgT2aJNZaLLpJFp1XIwkWphUkBh8lgdopIRBDghIU0j0jTxMZ9ba6bvsUNoUMpoGjx2TL1iVR2KQoUzk6aH+s4yr5uZATMD3TgDQcGLc0aTzeVWG1W9mch25GH4q10RTMhp08av6O4bgmqTtesY+2On73/ZQ253I7uTNT6tZLVz5f7oh3lMMwMHWQbwqsFq463eEhFQokFR7xYDyynLay7VFJrNog/ALnfYbaB1d1pckL/eprG8KSSjhOm3i2YmvBnpg/m7jvSMtVC/3oc2+wLWqBBmNsIirqP/syo8sCynrGYzM71QmGLD/dtiZBasW4qJZXFugr5QEBjQu2DhrBff3Y4yorDC0wdYec9lcY8tTD0mWGlWq+3lV8zNJ+JcYrkuL/nmvwUT6QyjQ2AH3ORhB9ztnXA7iHRhvIe9rKpVWZ989xtFs/xXiH5wavWT3hp7fLdeFc1esfFMdlE+MY8S5j8WpcTjXDoSyBFKe/A3RFDBTgE4gXvkaWBqXjtU3FNwE8G7slmZiH8H0hMtlxCzrhcSpTINjKDVvQFefFb5Ab34ZHDX+GDghT8Q4f/78qUL6Nq8ZymwPQAcp51xkQ/Q6EiC/ffd9PNecmE2DDRto/vt2l8FjKAu11aK1Pl0x3bSEtX/x6zfy3AQahbQWIqJUvQypmhVIVVlUi1tlzQBzHC5hRqcbnK6NKp3aj5L6yCHqSOhZ9jpeqLkf/ozZIaZATMDB3gGgmISGUmWy4RYX+WLibLQgHZSiUEpHDDoWB+qjvaMD17sYXER/xh15bXYvL1BpxYjmOnWkkpXp9Wld+V5mccyM7CfMwBUE3RpCNBhoIGBN1YYwbboFrTerPINpyuiYEV0jAe+nFVkt+l0+s6KSbPXDheFAVoM1UibtDh3eKAYYocOPS5ZPV0Rwmq3HoOOiNUHkYdq/LKtnvbsbcTKhOX5JZVuTCJDjnFLRD0yptYpzLcWpcS3+F3ImvV51J44ay0zvbZwZgImTk3iqolxE1momHbXxc5fqos1hhU5ZTXfkdBnjlQbdGPCitnlTyazqgDw+G/eqOmwL9UjZ9nGczTmb/xFOttoGM+uv9MG9C7wfC/y6DtAoHQX9s/6/PMoZXuvD4j5WE3oogWpNqNUIqx+d9XGOeUbrybhZ4h4u5D72iL7kIUdODbYFmBaoF4fTBS05a9pgZIhgBQQ53zUy7wICdhJT7I6iARWqtS7p1X/E6loL/NixUdv+sCOYOCGUU7i38+9e3ZGfLy4ta6BduxuvDU3b9eq13ytgW18RcD9Gql0HVLtpCdbk0gEQGUz0ALflsOiLRQbreqWvZEKMDIgxLqnXqM99S6drREQTmZ6ZBu5/lxZGbzEKlJ9MdsxM2BmoHMzEHSE6l8j2buXlXr3CP+DF0gH9D+NUD56nXvaHW995x4XbdnuXfRgeqO00oXJlhlmBswMtD8DKILGJB3lGNDbwfADq5Cgj4P6/B+PDgbovQkeAc0Kf2eC9h+yfXtmVWwazA3ufGa6WIheLbLbMOjttJg4e30yK/JPEelDLJMW5Q7zgQ2ROGhGklosRBPRFkQ7Id55KAbq4FEPb4QIj1yyyrkmnFxcWrVpiLve/R0zX1mYEo/SiKAxqaD6/wnJUiK5qDh3WDMr3qvH93pWWJk4f/F2uO6EFdkf16CufBGTXF1oHxzMyafV9vJXziskphxy86S8MdPaZa8KHMxb+vWUt0TEmE6gDAKMpZc9E0XdwSWnvFZ32BHScorsQ8C06raRU1b7ABEmZryMyXJ5of2ojqzWQ9MH1welci942Sn4GcpCoGlhlNBhlg1xQZQhhSwgmZ6k7vQCIzrrAuyLSEZ7NC9aAi+2bf6RJmTN0MtJWmJyRLLvWK3/yVv+qwltXrrKhXcq8hs2UBjJfh3IbSUnk7U3qSijygs8D+it9IgFaBE5i96WcqWJ0K7dbsI4HcwM/xDiGhbt7tJV7hbfzQfyNTD7bmbgUMhAC+CFCtXdVCSgf9/odr1s2vqoBSY3UKQJvzeEmgx0vva7z+mYoYkEL3GXq0FndBx/whgaMbLRAW7r5k1NbLkCS1YCy1XC7aN/nxucGv3o070wLVMPhYfFPMdOzwBsh+8h0gc+wQQxj/HWgX/jVdeHiCXo1PunpESEc8q/h5AnbB/LuaE+u/D/HV/TWVk6/4l1Z2oa/dOj+1EvmvuCRbeegJXCiMRZo9RxmkZLjMYg3AkBz0MtUC6CspHGkBdLq9zXhJuD7LINY5mUj0XkvKLUwS06UU3Mr76BWZ7RNNcxi28d4bOsNY43dUIcALsX5i+uazYRaKtPOeU1AEOGOsbEn0zMzdcgW2mgYOVTFwjL28T8Ql7ytGY2kq3sCjeRl7xiuyhzAV18gLfUAYAkRCPBtEj2ajjoeg055TX3ecrZ/8TEuYX2eF08tjvGlLIfjhFyP0wkU3BvOOyDw743/M4r1qv7ca3XNnYbEf2LiP7uBXaQBziLoNQGdVz4N96JIb/r0pNUaIyU4JhWlemoCJaMGOcRjtuIP8vCACfaKivp7PvA3zmu5he5tLrGDZ0RM9qRgbOSLRNFeI4QDfXfHaWIvXpYyapGjmURTvegb7Jjl0svLWkaXKRZnLcsXUk+zadw2jW3NTNgZmD/ZaAl8AIf0t7o1tEDYskCxZwwIthHqrXdg30A4R2ecJJdByh+2vR1M6EnAA+DBg9vBnAY9ZSBzI/OsO2q+XG3z9OsPtYVt2wZ7QgjTeamZgbMDISeAcyk+3rZFlDVx/sJg/2/eidHobcU4S1zymtuIQ2177RV3O7sotOP8YEAET4UrDXHC8kbJFTLmnrBwlt/81WkjpGeaH2NWHTBwagohQb2A5v90AlQyEElN0Ijy9ClVfXrw81AdtmGbCbFoWmcuGBsvM+iMrCdzILqeUQyLZhY53Vn9e3dEOXexsIZL767vTScPlxSsWm45nR/ySQPFNoHAwwMK/Ir5n2IEgU3certo6ZVhbgznkcAFuVejRqUPWC2gpIFUDdhqYoFEfyNewwCqO/kLNt4NSn8ApEUOOyDwwZpQuxbhzebsrw2Q1ie8JzjSRECWYZ4crzY6yRiiLGiLAQsDLA4wbJAedi93jKSsM8hI1n9kwjpJW29YlXq20lsKozVsID04fsv+xgTxngLx/5b/vX05ZoPdWFOCHa2xLwAoOE/7jOsVzHWi+0R12RhKuxktLDD5m0NtGuvUf7LM0oqne2yE45Ufw7UdjKS1AeF6I/+/QfDAmVKURGy5e1obnbucdP2nU5yu5uAGD8qivzhgwo3xhJmmBkwM3CAZKAZKjFuNA1U3KrutQ613/gjsUAQXgT7SBkfs76Hg0naGIFMCf+j+AMaBnjhL/QUKOIUWIqCD962LT81UahubZUgvDNs3PqHX/eQ09W4qKUonPRBhXNVe9ox9zEzYGag1QygnARU8jO9K7eYAMFG9RnvAP85ryI/Jop1+yOXOWU1qO2FDsZvRNOuKxo7BA4KnRKZc6ovJhHoBqwixTK5eMZxjeLKHYxxSdHHK+SGroj+XYh0jXwHu9epuzvdQj/+sscHRnsONqu0ytUuLZMpZbUzhaSA3XJ04emDW3TFySxYW0Kk9C/OHXpK4MlNnRCHMqSX5y+uC2/lACUYy2v+REx3aqqSuGD00WvDSVxB5dxpIjxPiB+4ddQ0aF7gOXvcczu0xogAOAEGFAJMAYCLYFcYVscYTwB8nExEYBrg2Xgzq3zDWYoo7xOxw2GPhwtJt4yc8prrSAgsrw0aa9cuSBmC8rX2BMp/bvCKQgKkQFkI7jGUiYCxhWsNMc6xXlcW/B81TCGzLfw7lZ6oLiIm3c4WVvewvO+sMMZ8/noVgRanoYAX6J8Bhhh9bW2c2NHz2bnbRVsMwFL4H6WrnJd1tM1Daf9xI6mPoqgo//Lp6mCxs08vK/WI7bz7rb05hg7Gth37tE6MdtrjKNXePpj7mRkwM9DxDDQbGKWPsp5GmugWgEBMYZ0XboTCvMAH6ijb0CZoeuAH0CgNMcALf8S+NfCiuGi2rlrtD5QY52C0aaD64Z6b//a/bK3XBYIQosnkJatN9LYj+TT3NTPQQgYwEfqLZ7IOr3awwqDNgJVbLJODGg2veJRTYFKBP6DM7+nqbE75ZOMo0ni2EA3SNM5ubdW9o32bkL9uqsL0Iol8zEIXLrx12K8dbRP7pyWptzHRY0Zbh0r5iP+7HKBQaZUrqPtHKDnOKa+dTSJ5Wk28uiCbW5x4Zhas/YGE/lmcNwzlFE3iqom9FrDGx85/tw73fsgxvro6Ou7XGIg5LnTYbRC5DTkKlhf0kygrhDLl79OeueHL8i9hXwow4lsiutL7/EFkMxCkhybN9V7GwHbvAXFsMCzwu2bPYlb5hhGKKND7WNfDHTv+hdP7dzvW4qxZonx5bi0cRG4n4hLNEnX5gtMGtJdiDnATOhYoqwFQU0hEYHJADwT3COw6QAEAgwV6P3MBloR88YJsmJ6kfu/VHaGj+seS1RI2DtaRwx8Q+zYt/6UvSqtcJx4QHe8GncxIjBohrOE+PtnoDnQt+sZZw2Zrd/XpYNy+dbvT5zajj+FJnl1S5f5DV/fFPJ6ZATMD4WegOXiRZJlExO+gKdC+oHnRnmhLT8IfvBh+8hm6UBO0LAy0PhjzIlTwYlnJP3R6YqS9wQPzsGV7PYGK1vji4+uXVDmxAmyGmQEzA5HNAOrm4U4AZgMYGNDGAFgBSvx/veUjEFvDaiYmV+CFGpOByPakjdauWPbjAJel/tTXg6/OYmICgUKsUndE5E/vRWb+2puI+Skmfi+GYi5akGuLCGCTnqRCp0F3mIAyPABssPAO1ti+w0nbd4Es0BiaRmlLV7tgT9mumFJe+4qIpDnsthaFNic8vm6MYqFyUTh70YyhYNE0CVikCvP/vbRo+4PhdCL7k42XsMb/EFLOL7IfHZYDRn7lvEdJ9In6jXmjpsV5rDprvQK6YF2gpAHPIO4LrOYbmjRwyUDpFkQ4r/I+jyiJwPMJB5VmwrJZFV/3VpxR//HYFw5QFDr/9RQbbD+7VVxaXjPUrcljxDyZSP7isA++sQMdBLgKoAKsE5SDwAoa76lziXQLXlwnlIfo465IRMZpdLi4VB3QZGaytYNBG4l+dPc2sBJf89NuXzcPP86lLljQPqZLdz/XSPbPu8iJRQIflfpAY+q53aKzbowFSORHiB1LqpzdlgUWyWtotmVm4EDOQLMRaVqi5UpmxuqATvs6vJ11kq25jaBtf/AiM/vWZiwM//3by7zYs6uO7r4BzoudE1tBP9vldYETurN0lQs2ZmaYGTAzEPkMHOGhUN/lpZ7DcQRuBdd5RQFRToIBBybvp3vBAdTtQ6/gxf1VShKQAoNajwkMbKintpcO7t9uZsE60MzBlPhncW7CxZFI+9kjo4e6FTfcXDCB7RCIHYn+dGYbUKTfXLfPXSQS9OEpZbXve8pG4hx2W0pLfZ84Z+11LPysomjD35kxvElpx+8n9f6Nyy3fECmJ8xdva1EzI1jbOcs3/peJrYWpNl1wO9R4ovKZU9ziLieS8rxRN4PNBCYF7lEEnivcWxgvoHwCbAzYGBuBkhD8DMwCMAbwPALoQLlJM7HQnOU1RcR8IRP/ttB+dMQm7KGea1vbXbK85jyNaR4J/YaYpzvs8WB9dSTAngFoCYFPPP8AM6BVk+nNKxTHkW+8wyLCQMkYaR0tiuh2s+1l0HbkhA+kfTf9spdcXh0Ei2ZJ+M/q+uoDqf9d3VfvvQW9FnyT9ejssqTOPEcAGCgf8oXpHtiZ6TbbNjMQkQw0Z14kWv9ALPrHuudhKvWLa79lXmtCTijpMASesN2xw5J9Pt6GSwj64C/YGSrz4vG7zyfDvcRfRCrwOB3NYN1OJ23b2bhiJ0L3L1nlwuqJGWYGzAx0XgZQxwbNC6z2wtIOq9aoUwaVHQABQA1MAO73rBz/3rtiDOo6LAOP966AAvRoUYugE7pu1LJjggIHCfQtYpO2zPy1szyOEvcS88vFM4di9bvDkZ5sySJhn2UlFOP79W4fC6/DnemkBrDihnIRv1FrUWmVM6ejh8spq4G16nqH3Yb7LmhkFqzDSvwtwcQ6PS4jcOF4Ily9i5zy2hQSKRPmW4tS4vPDOY/8inl4bi5l4cm5o6dBvA5iV9DdwPMG7QosT2NyjXIasAaCOZiM9roB4aMIVkEzLZacshoA/Nj/Zofdhue4W0X28o03MfNTxLSWWa4tHDM4VEtigIhwQ8K1A+iHsjaAVzhXlLJBvHSGh8kCfROwOIZ7f/62VwfD/0bscE7SkywXEjFspyk2xkL9+xxcz26HE+TXgL/DEDOll1S6Ok1wOZL93h9tpY2KHsaaGw42R+P4YPX07xtFMQe4MxWEPPHH71vwSmmVE6VyZpgZMDPQDTMQpGzEOo1I9EFFr8NQv9Z+8AJtBNqV4meBlqX4meEegn9DlwJe36edcZFe+mGUgYQDXqCdQPvVvXt2+gAS45j4u73sjLpdTtq2w/fCe7C0yqV71pthZsDMQKdnAGpgKL/42m+FFxNPrGxi0ojae0ymsFIMQTysFIPinuj5PzR9MNn4wKv239mdRX9Q244yFwyI4Cbgv3Ld4eNPzP/qcWblVhL6S3FeQkco7r6+pCWrd7HokzA9IvE96PCJRqiBvQ1u+nlLk/niyug61xnvrtcFEjsUOWUbfyTiIofdBqvQoDExf937YPMX5yacELjB1PG9lpDCu+cvqoO2S8iRs7zmCWKZojmtJy848yiUJ4QUcyrmTtSIi0no5bzR01GGhXsUYwBMrFEXCdACFpKYtEDLojXdB0zcsS/YBEYZid6PnLKNNxDxM0L0aJHdhtKJbhPjF1dH9+ob/TATz2TmRTHRPS6fn9gX+jqhBkqEUP4BcAbPO0APXAMIciJnX3hzCOASrCY4q6B0DNtF9F2ADmckWa8XEgC81DNWpX4hMGjbYssGcxAJNTldvd3ky/9IP2/6Rh9HthW/bmsg2GkiNJIpS6vcjrb2ORR/P24E9bTEqh+J0EicPyoJ+/eNoZio/WOBGulr0BzAoNmlVS6ME8zoHhlQzkikw6PUmF7s1nQ0VmNuUJ31O3oPo81muVf3uEhd1Yvm4EWy9QYSgYp/p9prddUJduZx/F92LPTnklUuCG2Z0ckZOOcU6tEQS33ZHd1DSKwWN2kWq7KHLXu3/7uMtnTy4c3mu08G8P7CyAkTLKx6YrIFrQtMCABuYBKFyShq70HRPtvDwLjVO7FCqQUU0lHX35kBrQCsZEOU8Sgv1RZCiEZghRs6AtBYMMQO29WfiQVrn2biG0W02Yvyhkdk0JWepELvACvGehwMAEYg40JEvrVarRnvr9gLYcoOR055jUbC9zjs8S3qVWQWrKtlokULcxPAxmkS0Ltg5htfXLQ95HKFS8q/OVIT64/t0WcoqJi3RIhOd9z/2vQV75SjVOQVL2sJyDz+/yXmwF72UjDGReApoIwEwAXuHbCfFkwp23i+EOM5eC1cIdEOX5A2GoB4KIuSz0TnCcmcIvvg3HYeE+4hKFMDGwyuIsgVBAABZgCwxHN/oQdghZDmMo/gMKwl/Zd723nY5rulJam3cyOQQnE9VOrTq+1FKAO82LH9V3pj/n3NJv5grg4+7mRyNuztFNvSSJ18oJh7W+1u2d5AO/c0ghemdlnL2ZqYccSHe7Zug7aNHtDDgy7ewRRwIqkzSsH1Ojn+Q0mVEwsgZnRhBtJHqqli4VFE2ims8XBivdRun1Vl8L4AVP+WSNYKKZ8qJBX9jnMtN0GNLrxwXXioZuBFRrLlKhGG8F2HNC+68Bz226HAugD7Qg+mu0orXY/st84chAc+I5H6q2SxM3OSEJ3EREM9g0OIwUH4sKVwMUsNCX8tLF+KpqwWC69YWtHwv4MwReYp7csA9DCO9AIVmDQAqDAACmxliOJh0oBJFICNzl5hw736nndCA3tIrF7f7QFNKr36AWleu9dh3hXbDq9GTypYO1+Ir/Isi80qnjm0XVafgTdVRpLlWSFGqY0eh0ELKS5KX3k70AICyxBa9otNIjxhySonSj06HFlVP/RX6l0/C9F1RXZbULvcC+ZWj3C75HMmumxhbsI//A96xYTeoywkK92KZcgrxVtDtsDdx2pQTi+yH417PKSYXTHvD0z0FyZ6JHfUdDAFwAZAuQFmJdlexhD6iPs2XBtisBG2ZpVvGq5o7qXEVNHbGn/Oc6O4UybsIZ1wwEbZZRsmMSkAifqIyM1FqYNfCLMd5Akr0Yd7QEhYyz7g/UYhdzhPgJNY/sc1KfCWksANBroKoQBBYXancfOMZPVPIjrrg+J6WqlPT1TUtR7GpB8aYxu+XkMvPgkcuDHAurj8D4+T01lPcX36H1Tgxda6fdaZzHxLSaUTui2HfMyumH2EItEXaMQXrC9+b9K6hfiUNQa08LqjFWokLtrm7Q20ywtm6e0pPKa0wqnrx5jRORk4K5kGa2I9n0nOE6IMb7liJA7mZKJSIX6PWFlYWlkPpq4ZB0EGgoEXk0UYKsJmrWQbF7iJ0I/wDaWrnDpN04z2ZwCIKzFNItZXo9ttVxikB6Byf0CiLd4T4367rKzrrTTbnxVzzxAy4M/CwEQC77An/dwSDvOyH0DXRukIJuNYTe4s5gVKVN4gohqvmCGUg7GiC30O9A+aB+gzJjLQ4oAgYoeYF0aOJs1ZVySir/TeXpybANHEDkdGkuVpIfaVo0RbFV0Dw6oeOAhGE7AZGYmK+VHq68+LFHCBJqcs/y5R2FLFpFzQkhjlxDnV17DI8yQysjhvWBPQZOrEuPtF6K6XFte1Pdv0u6o5ZTWfMtH3hXYbSqRCike/er6XZeeuShZW/5733LQvP/wMLJByz8ARILwxsQYAAdYQJt64V5tEfsW8rLxR05u5pRgbZa34eaDirn9fn8S7GiY6zjhuXUid64KNcpZvmEGsgB2yhjS51jF28MowDwsQHVohCDDAkDsAVtCzQQ7huILA8413ATREPgvzGO3aPD1JBctD1+ACcAEAo60wwAuU555wypn04tzp9OUa6B43luAeP/w02rblp2bi6oElv9ApM6zo8TtrVAyp1iifdT0c5dZ/+YnPYS7Qvt4oTzGs7v3LfVPTp+hOcl99+hENP+UMionFK5x8LnWBpcL+mmctnX/T1XaeWVrlxLv5kIyClXNPI1IuEBbYkuu2sb9+uY4+mbOPBNa7h5V692r7fjqQE/jj5r0EG12EEFUsqXKhBNWMCGcgPdFyBTGjrE53N2srLArriybGwgncgvDHrYWMAy9h4ddKVjnBkGu8wGYckBloDl4kqnZhfQXBVKlu45L+uq2edu81rFLlt0uq3LpAlhnhZQCoq5A6VYQu9axOYxW61cCLy6IoHo3CfS8svLvwEtNCe4k5ibiQFXmlpMIFMTUzDq4MgLI9ykvZhmgeWBaTvcwMrKxiYDbQq0EB0CAiCv9BUggmCIRCIXaI1TyIikKhHfc5gAyAGNDJAd18Q6QuQVaRWPbUrnuHiCcw8U0Lc4fqZYAdjbQk9UFupLrrAbG2fnHWbr8C5/Ja4u2tb3xXI9QhJ1OvC+9+5J9XXgzGTsQiZ3ltJrEsJGa7IyUek9lmkVlQPZtI8mLrnNELZp3Y4L/B1RN6f6aRrH5pcR0muiFF1vKa8xSmd4nlGkfKYAzKQorZK+c+yMx//LRk9cMv3fE8ng/cn2M992OV18WnVWDv0fK58arKNUT8x7xR0x4OdtCcso24D88ilsmOlMEAMfZ7ZC35vKcSHfcwsQ7K/FMTumJBartshgH2HOu1PvUfPYNab7xzDEtkgJl4D4Q8yu5IotIT1f8j1t1fKFQLSwO8eOvVh+isSddR2ZKiJiDE+q9W0BEDhvjAC7R9bV4jo/5v+dfrQAdKSxJOsutC6wAwDGDDABEMcGHr5k2+fbBNbI84/f8ALAJt7v2F1nEs/B7xyjN5emlLoFZHuGUj/swLIp5eWuWEPtEhE0+u+utQp+a8n0X/LoIphKhh5kKN3I7F1+bhmwmh2YPaecr/ggO4gJArxpQIFnq4ZJXL9+07ZG6OTjjRsWOpV/Ru9RZhupEbS2mbhdXCFBVl0eegWCBRLUyqojQu97QQbk0jl0vI6RJqcLqp3qnp/24hNhPTXzRyPbm0knRLaTMOrAw0uxXGjaF4xalitZAsFqaj+xvvstZPLBDxxtahoN4HVrqa9tYfnWWNTytZ7Wx15Sbr6c97LrjpRExmzACvP9E6SlNouoi0qOqMFd6oKIWiVLzEFP0lpigtv8EMFNbp0qjBpZHTKVTf4G4RmWWiCiF+urTKqZdKmXFQZMBgYWBZDiUif/fqYWAlFIwMMKQw8cBqCmryOzugzI6JG1ZnOPuYQgAAIABJREFUMbnExOZkr2UqVh0iTkkdP7c6zuISnPs4Frp6YV5CRO5vfyFAI2mgD2N1F9+L7hY7drt0UWUxRqHooPCC/nO/OInVmMpCuy1kkCCUc8tZXns9sfxVU6zHLhgzMKiGRuac6sVMkrBwZgJW5JuErnchPOXFd7eHXNKUU77xJRJO0WrKRizIzt6H0LTS4dlVc0ewRitEuPKOlBn5brd7sLdEBB981Avc4S1lwr0Kq9RmMXvlvOXMdKpGkn3bqJthjdokcspqANhNJ6brHSm250LJX2dvk/PRN6eSasXK+jhmebgwZXBHJiQ4P4ATYKUYAZFWlIWd53nvgLUChleXl8mkJVlnMoner149VOobouYFRNIBCozNAL5KBOc2sB0unnqvroOBnx9lG6oDDcNPPoPOmXwjvf/2Mz6Qw2BN/FBTre/rD0wA3DCYE/7i6wAnjDZTxmXRyclnNSlL8W/TEG+HkDvaRwS2GS54sXl7Pe3aYzw2fE1plb4qezCFUdoE3QBYL8NCvEkUVM7THXE0YodLdjruHHWnzgJMS1TvYyZdyw1g9aAjYrrle74zLhbsU8GuNiKUMX5n9ONgajM9SUX5IRyYdBt2/4iJtuhs/8OiLBG7xwBo7KnXaM9eN0HrKkjUs9Bj/epdDyz4gposJBxMeT8YzyXoaDM9Sd2F0maccPyA2FYni9gmmAWp4TKy7n9lvo/MwZbAmp92+5BZa7Tr8GBikZmz155OTGcQK2cQyYLi3ISD7cMY9mXNSIwaobH8kUlAoW8SCjMdFqNQTLSqo/yRqqsHko6XF/4YdMCAQ/+PSR4pqXIbNOCwz8vcodtlAOyKa7zCgRAQhFieYZsKQANgI5YO+3n/BoUfdG8/0/eInBNWXXGvL/aWqUALA9RyOA/gZ1gBhrAf7FuhexGyZkFrvbtozndHNWgN/yKm0aJw9qIZQ1uk94dzlmclq6drAICkkVaMwMAWK7wQB+wOAcBy206XDlw2CaF7Sle5HsgprylioSGFdhvKeSIW2eW197PIPVGHWXu+cupAfEebRWZB9XdEUlqcm4B70xdXje99DrP8e9fu6F4Llv4SEsid80ltAmmyloQecaTaQmaR5FfMewmuIh8v+Oi2tx4tQj8A7GGSYixVjfDTYfk88CQKKp6aLSR5zHx7bvK0ZqVJOWUbc4k4n0gedNgHdwsXLk9pzUVC9BwzC2tyS2GqrYneSBs3AcZKEN/FcwxhOKzOp3qZU1ix3uzdH2AILJzxXrER0dquYlv497892mX+k/4jBx1H9rRsvXQEgAJKRuDKFgg0GGCHv6sHtunT70h9e4AXCMPRrS3wIjP7VhoxEkY1zQPlJsGc5zoKXsAu2ZjYKIpM/qDCDdD3QA7cq2BK9PWK7eK9D5ANzzEEePENhPtNq3H2yOihbsXtK/OC8yAEmw+l8L83iGlxaaUrLAeoQylXrZ1rRqJlijD0gPg4/+2wGNnjMJV6xFoamRWdGCgtAVN+x26nztBoEky1ENk2FzE78QJEuOmg4EVakrqSG2nXdGS/aIpuxcM5EGn375//h86onYxw//dbc6Aj/fCrd0GKqba00oWBCmXmrz0VYAWTcoaQQJCvv9FJhZSh7+Qe3wz13m8nsR8OnJGoPiRMzQbZ8AnvGWvRxQA7OwBe7NrrIiDr/guy+nGF/sPCd7fFounsPprtRzQDAA/ANQZwiNE0/g9HBYPqDlYCJnOof+/sVVLUyaP+HStdWAHGJAgaHJgU4YsK+1dMBiNSzpT52BdDSbW+RUzDheSCRTMTmq2QtyfTyclk7SOWJ/x1MNAO6J69elip534a5NY3aAS2hWF96Hv39h1G1hG/e//debnn4mfZZTUAqX5fZLehjCdiMaW85nnRaJIj1TYgWKOZT3w9mDQ3SoSuCQSyp06Ie4pIJs9fvAMr9iFFTnnNnSQoD3Cf4rAfA1eQNmN25bxzWeg9Yn4tL3kaQD1YDKOo/eVQhDnzV877LTG9wUQv5Y6ajslQk5hS9n2OkFZIxPMd9vir2+xQF2wwpfz7W0U0PFefaELXLki1taY9gZVq3BeGhSnGSXDvQTkIHDwu8tovo9Rmtnc7sFVQBgbQAmANSnD2W6Qlqedyo1gw4ds6oJ/uLNhq+IMXKOu4+uZ5eunIqLHnE0pGIOAZCnjhD1iEC15AFNQoIQk2ZgwGfnQUvGiib8CcsqTS2Yi4HJgBxg9oMwDa8C3Buwb/x/clJFaWcdrpSZYXiVh/vrEqPqBv2/fQgZmylnsNBu8PvwKLbAxmubCk0g1XMzNCyMA5p9AAl8U6h1gaqVzeQDkIGGE9Yjp/vB+sm7v3uKhutyvYQuZbCrtmfFBJIYtlh5AGc5NOyEALzAvLc0R8LY4Hi63WVtMM8GLPrjofut5SPw02hqrus+3atPGrJvvh42gg7xBqgvK1oW4NmmL6xN/R5l9qachxp5JRN4mVgTPPaVp5AJTeoBV2Qt50NWKoEusvtLjBaw47/93PhBhgBSjiQUK2FOcOw+DmkAzvYAqTwxP8E4CXF9B8lIZ0dYBKvmNX40ssiFbGfaVVLn9Ly67unnm8zssAJodgXpR6V6KgkfHfzjtck5bTPYwPrN6AYQFVbTiibPUKiwLIwCruhEiWs0yYs24kC73FRP1EtMmL8oYvidS5po2yTODDbK/Szlqs8vkCJSQ9Y7GiouqlXp0dGIzASWRvINOisV75z7FXfKGDFsW5CTrTIqe85joSetaREt9UPKeDHc0pqwE4dJTDbgsqNpw5p/oyEnmVxWVfmDeiiSbG1AlxPwhR0UuL624JpRvXVVRYtzuP/JZJlhXaBwOACClmV8wrYaI00rTT8067BWwjMETwTKAMAt8wCLMWBZvsPFo1b5CqUQ0xVWkqZd926vQmpTGXlG86XRP3EiJZ6rAPhuPPfo2pq7b22bN3J0ALlIe95kiJh0BcW7oTACgw/sHzCRAC2jUAOwHEwIob1wfABQYdqJfGJHGK589XXgZVV71LWsztWUlRJ2ik6avreP4GhVD+G1hugbFYj1599PGXYZ3qD16EWjaCPoTDvDh2WLJPzyLwBDsDvKj9aQ9p3lUMJ7sGfVRJP+zXm7bx4Hhpnu611f2mhf4AZMPziu8FdOrw7gFjCswRsAzBLDQcrzD2NGbheP+jvKlFgei0ROupzIISEz0AfgEEOxSjqTA/LStd5cJ1MaONDKSNtFxACsPJyqdrAcFNMDT31+JGYJdRLrZ9ZwNBF8svtrLIjSWr3HCJMqObZiDoqDIj0fo7YcHgPiTHEX+9i0DlaOO8g310jP38xZywnSH2FCjuhI/lhKwZ9POmb3wfQwAigXWXgaJRnZF7/xeadeQtZD0JJfStBb9bnDsUH5lDLtKT1T+T6KtRvgCSD9Xq6P0AWgReAAAXADDqdjZddBehpYrVcn3Jivpuo5B/yN08nXPCGHxgAIeSDTy4oIE3ieueFStK15+7flRnMjEwWfzeO2lEfTqWtmChiI89BpcRi/FzvhqriuVNInELyeTi3GER09mYOPvLZPeXL7zn/PzF3tKwrZkMvV7L6v0TKSADcw0AFaB7gwoaTKiXmV/WWHloSUX92syCdXCemVqcm6DbLGeVbzhbEeV9UnikY0x8RGxS0W5O2cYKImWTwx7fWJAfEJn56x4lptvdKvd+9+ahPuvR6yYNOqzBvXMXEZ8zf/H2kFg3PoaDJpMdYweHRHWfXfHk75mUv23/edu8+yfcA+tpCNqCUQAraYwHMBmCzgWYBng+mkR+xbyPdRco5uy85GnF/r+86KMNx1pV5d9E7GQLn1t42tG6dtb+ikvLNyW7xQ1gYQwx3etIsaFMK5SA3sc93gkhWBZg0YCZBfeOBz3tveu1OAa4DXeRiN0/oXQulG3GjSNVqVN97y7bkbF6aVdrEQheGOMv/wUmf/ACbYUi2IntQgUvDMHOLb/UNhnjYdyH0pS1ny3TBTv9NTMCx5bBxoQtnbfbLfT9Lz5Jl+2lVa4+oeS3i7Yxvg8A0wID71k8p1gJxHMK8AzAGsZZKBOBtgCeVUSMt4QE/0Y5OBiIYB3iPg4aacmWv7Pw7/QdYlQ6os++BccuOvduc5iAe4SEJXNJpTsiDMZuc5IR7ohX2wK20b4AYNGnl5VQGt6dArDFNj+7ZL++PVha5eoWJY/dKV/dpS9B7yL/Wjd88PDhaysC7a2wvb/FVbD9/T865UsX6B9CQ+jJ2N5f8MkAL/AR8/cgD2w7nI9XW+fV0u83/bLHh9ZZh0y8Sj3j8fuY6JgW2xO5jxXLanK51iy8bXhQIbf29qW77jduJPVRFBWDPt9AHi+uPnFWfVW2uwXKSbbvdAYK+2wnkqtLq9y6fbAZB2wGsPKE1VSsRj5EREDVMSgMCk5MzP9qBrMynZjvKJ45FGUenRH+bgWgHkH7AhMiMDPwgIDSj1p6DGI7bOmaWVB9DpHAEekHcbsuXHTbCExYIxIT51TfwJrrmYbldxU7v1l4IjNDHK5ZoKwEgGWU1UIqRHgt3KY4F1ZFUaPqggivGwK8GtU73S36NojwS8Q0b0mVE8KJekycs/Y6Fn7WovGJ/7p16Bc5yzYeRwqvJ9GucqQOQblERCK7rAYT9neL7DYINTaLzIJ1C1GP7ikZwYqoL6ZOjJtCQq/PX1wX8sguZ3nNQiIZ6EgdHJKNX8HygliJslaRyGGzzr37Pzu27AAoC1bCqR6Xp9e9zwLq4bHSCxu5JstR+RXzsO2tRHxn3qhpTSZU4xdXR/fuG7tQI0khTTKLxg5u9NjcT5FdVpvNLC+w0FYhusVht4XjBAZwE88iSkcgtAtGFARUk70r2igrANMI+kiwXg6pXKerU5GepKI05iQc98h+MW0uFASCF23pUxhlHW1ZpeL4oYIX/qKehg0q9jcWuEJhXviPRdti4AL8hK4Bgok+LqlyAcjrLoESEHwjwPqByDRKkPE3gG2UdQOAAMNim1fjAro10E7CeAuguPGMnoWKPg9QiTIiMIPxrEM0sSzYiZ6RTEdZRYX+kh6h3DvdJWGd1Y+tOxp0lq433imtcoEhaUaQDKQn7WPu49eqRaG+vaz6Qnh3DiyGYFHaXw9DiF9bUuWEqLoZ3SwDLQ6U0pNUfJCHo7+odcPqWTgRzBIL+wcDOfBhCoaoY/u2aIpGn4yPmvHBa4kBEs45tLQtJrmok/TGttIqV9/zH/2qlztKmcuiCyK1FlhtW8NMq0l4DZN7zfc9dq6p7NwV3kicdlhtpJ0adSJbUPfcOHhCHBZtoT69rZ0uzBNWR4NsXLcLDgVNhYeF+ZYllU5MIs04MDMABBYDNkz0MOhrVRRz4px1Z3kmPqCHZ3pEpl6JYusdb848JtJ0YrAAIBr4KazpvCrwWMWFA8ZN3lU0gBjoB2qWjUlSL6+oaFAXiNYuT2bB2guJlX8SyRpWoy5aOP2YiAGpmflrXyLmK5n4pB2vDj/JQnyFNAIxrQcTqayQosg+A3fMnDUhsDlDsT/muCGkED8tO9Y/FqxedeKT61PZrS0jkWnFecOeJhHO+eT7n0noJYc9/ta2uhjq73PKa+pZ+LFCezxW7ptFZsG6r4l4WXHu0CZ1jlPHx71OTEPnL67TtabaiqzlNacpTJ+Q0O2OVFszwcxg++dXzptFQvdu+2X7XX8e/38QW4X2EL7xmBwBNIPALbSbmjnwFFQ+daGIvCkir9w6+uZm7lDZZTXPMcBB4ascqfERA4PaykOw32eX197FIg8J0X9Vpmv/kWIDmylYGEyTBM95P+8HZAK0gL2woYNjDF7BbsG7A6uuAC0A7uDZjLTAb3tOu9k+GYnW+cICALTN8t+IHPAAbASLFfiDYKG5JatcIZVsdeBUDSesQV5QDCVaABqCBYAGMAQBJkIzAINwAOlgVeAbgPEIykXO8X5D8ByDTYFvHECPS7ylIiO9bAwA+Bh/glmEsrCg5VNpyepdLDrAr+vdQffuUA+nW+iHfQwdsmiWhP+srm/pvXLIpisjSX1DGgVh9QDjsl9cVJsLFN0lYSgl37zd2UQzS4jei6lzTX53PTWinGZ0iwy0DF4kqrOJ9Q+0vkrer3f4tDF//21oV4DuB3DBoCH6o+jtBS/8dTQMlL2zmRf+HzwifrW0yumz25s4p3oGi0DboUkU5ybw+fnr0zTW0pk4TUjGGhuI0Bc6mMG0RpjXSEPDmsW3n9iMyt4t7pgQOnFWkjVFIwFTAYNhPWClGNezGaM8hNb2zyZ7670orF8tHDPdW1LpCpV6vH86bh41YhnIKhLL7tp1M5h4htfa647i3ASsfEUyAKpg9Qz0fazkYoAK0O9iPwtVDERhZYlBKwAPrLBVeHUzwu7LxPzqy5nlFSFeZlEsv31nxrGGMGHYbfnvcP4T35yiaa4ijwvFjkW5w3Q2wNmJNMilWCezyHivhkDbNL7Qe7GGew1ZE5364JVK/yRi4nsX5g4N+nxmPft17z27XL8S8RvFuQkY1FP28poSZtEipc1wxZofezTsdsIl5GaH3QZKd5M4t6Cmn5X2bBbhGxflDYVApi+unhDnFKIHPMyL+0I5fQiOKkS/t2rWEa+MHfhzG/vwEYMHPJL1xyk3HT9q6Oqlxe+fs3DWQpSFQpMCMxMA7mAmYKUXq7RNwJxHy+fGqyoD5PrUTZJ9+6ibv/Y/Xk5Z7d1E8gCxcq8j5ej99n7Mqvqhv6XBVSBCABued9htbdkggx30ET5PRPRvLzML1HuMi1BughVquzdPeB4xmYRGDfRBMLnDcxiWCGIo1zZS26QnWv9ALPp9hlXP/n3MSWhgbn/aUu9zJGKRS7qgzh3C0XheATzArQa6N9CcAWsX7wx8B4xnEo5U+BZAu8JgUaBsCfGqhwkEFhfG6CgbAQKDEqdx3m2xH4CrlvQyWrzN0pLUz9i76HR47yhdt8gMol+21euWmwhzLNj8jkhPUgHu+ljWoVo0d8d7a9tOZ2AZecmPe10TvjDtVLvN5WoZvBipppLSuDoJqv/RqJkM0m1/gOKtV433auOG/iBCn8MHUqCtlgE8oAwk1LKRYPoWhke4QWNsrU+RyDwQWCCxCCH57ZIqdxNK6sQ56y4ioXxfGYnQ3uK8hGaD9kmz1w7XLEoai0DED7XGhqDnT8S8mjQBQ2MNEa9ZmDu0mV1dJM4l0m1kJKp2Yf1j6qsdPbxP1H5TFe7I+cFa6ddtDU3sFiH+V7LKpfuem3FoZGDik+uTye0GiHE5Mb9rEeWOf+Ue15pbQUcSg5coBqL+YrFYKcPqLnQxAIyCzYTVjRYF19rqwKT8ddcL6xTk9xWndvE7dwzf0dY+ofw+M3/ttcQMwee7inOHwtGjSaSNUseSxqeR0KlMcgIxHeul57fWPFY8YPW3zrOq8xmRVEaxu+zflfRD5uy1vyeFoTsA56Ati/ISWhRFzixYtxTgT3FuAtxdKKes5m/MlF6YYmti3xbKeQbbJuvjb4YpFutXQpxTZI/HymaTmFTw1QVCytvkdqcV33YC+qLH1ef0s4nq2ijMo15atN1X6tJSP7I+rO6vWGO+Y6bXClOCl6cE7MtXPfb7d4485sjMb1ZX3/nGQ0UAyVCOhIkS3K8gGAvGBSbmuO+a9CG/Yt6HRDyambNzk2/ChMkXU8pqpwrJi8zK3wpTjg5aKtPefIazX055bQqJ4H4+VYjuKLLbcC6hBIRO/+wRR/zAC9yA4YTJIv4GSAEQA993rIDjfm5L7DOUY3bJNmcmRZ2gekU7FYV123sz9mUA5WgQ6zTCyq5BeKdEIEdwszrTC4wFWh4DHAQDEEDDMO+7HCVJYCthwQegA4BqQ/8IzxSeU9gZ495DSRPseMHEADAF4MNwusFzjZ+BnYE2wOYLS7MpY6R1tCii6yFh3B8fQsl4BPJ1QDQBByuMB73xWWmVC3a0ZnjKutKTrA4iyTaScaAtVga7iIEMbCZaVFLlyjQvePfIQKv1telJKujMJ6Or/XpH61aWgWGUgcQeFtdMIdrfJisQUPAv8whHsDMYeOGvTm0AIuinIfwZyVT710gCQS+tckGJvFlgwsNuDatQEOlcXJyb0CZ9evzc6jjVRWBlpJPuXCJ67onExaSsJtLWaGBmuGmNRPFqf8G3SJ5je9s6KznqZE00DAJ1m0B8/I7oG3XAq1Tjg9XEelHortJVrmYTs/bmzdzvwMjAxIKvfsdkucX7XN5TnJvQRJAqQmcBoAIDUtTZBwYAC6zYwR0F9OCwBqaBjWXOqc4lEawEvjWqbujFs2YxdA46HJMKqv8uJL/TXJS4+PYEn2J9Sw3b7RTbo4H6uzgqjtwS0yPjrw9IdN8kXls0ee/GwrUlK/SJdtDILKieRyTQJ2h8U5K8tCh3WNDSvcz8tfnEfGNxbiOQnL289i5mechht4WsM9FacrKW1aYriuhOHoV2mw+cMPbJnFP9EIncpSj1A9+ZcbKP7XLVhLibmOipUPUucpZvuJ5Y+avCljNeTxlkiPK12LX8FU9mkKJ8oLldRbeNmQm9BjB4sJKLlV4sJaJkAtRzCPShJMI3Qc9fOU8XGGWiu3JHTW/yzruk/PuzNdGgCfGuw27bb2LUOWU1ABow+ftGmG4pSrE1Expt5bqBDvicl14PJgWeL4AgcCLCqjaeNThkYYKJ56+zQMsOP3fBGkhPUuGAgkky9e8brdO4zWjMAOzSN++bjH5SWuUCSBCJQNkR7DRRghIIRoK9g/sMzjUAWgFWA0ADSAYw2rh3AdjCtQbbo4Qpy+tsg7YhyIlyE7xD8Axjf4CQeK4BtLUbYEtLVO9jJn1xBk5wWHgyw/i2ENX+tBsgeeO3xq2ctGRNwwGxqNiZ1zAtyfIUE6PMVY/evay6GP/BELBd31q3r4QcelpLVjnbkgY4GE69259Dq4O2jGQ1T0T3MSf48g48HKLFwcPf4tTYIlAsKXCbTz78JyWcaCd/m9W2rFIDwQscK1AwCkwOsDy+WVup26UGClEZ++Dv1oSkgp0pxJ0AYCCY6PGSKhdQ9KAxfm51f4ub7hPRvl6UOwyThLAjs2DtaSJKGrOkY1AsjcJLiG+hmQFAA+UmbI1eHcn69XA7Oi6ZjlBEhUibboUKodf+sNeydr0Farh9D2X7ZgAG8TWlVU6odptxCGVg/GPVx6kWuUWYpgtJhcJyx8KZwzHRiVRAyBEraKD1Y/UNDxAmUyjDwMAUdfiodz7NO2jd0JEDT5yz7h4Wuh+6HoE6DO1t94LZ1SPcioB54DRYDuG0NWnO+nQRrURI7l6UO0yvvW4pMues+4hEX430jyeLcxNQ6tMkJuZXX8MszyuKduo7M4Z/arh1OJ3uQW+e2XE9kynltVeIyMtElhEO+6BmIo4TC9ZiQnPaotxhqHf3xdQJcf8G6jL/3TqUbbQZOWW1HxPJXofdhlXcNiO/Yh4AhrOZ5czc5JtRJmHYogIcR0kSWAXNJjwFK5+6QFjeJqZX85Kn+0ojccBLPt5wotuivMdEW7VoNWNB0lG/tNmRTtggu6zmXs8gBloe/2ZVubadDid45kDRh04JVp2xeo2xEQY8mCSCeo9/+4SuOuFUOqXJ9CTVK7KK8l+LvggVqfAv2TXa9HcmidRxOqudJt90oXtKV7kiBUbj3nnBQ6Gv8gBjeNYxRgQDA44gcBICuwIsC5QqGSAHdC/AoIAoJwLPJthmAM/wLgWTCAtDaBvAI8Q3I/nd0Q+akaSWeWr8dRAHDiNwGjFjXwZ+3dpAu+sbJW6EOHdJlbNZifihlK+MRDVXmHxzG5SGg3VxMAWEWiHYaoRZMtQ9rm6r4MVZydRbI/VHEv3DrddMdrViLMCMPv2O9IEM+zNtULn/acu+8Uuooj3n51cnvpM3FH7xHY7MgrVHMyvpmibpzDo7w1Ct14VAUWJCmrZGUdTVA3tsXdPJVo++80lPVheR6CwTPQ5GX3B/4ArnyERnllS5MBkw4xDLwPlz1l2kCWGCDHX6JxvccXe/f9tAMCYiEbBKRb2+oS6PdjG5ApMLq3YIrNgBxOiwpeqkOdWPiAgYH38tzk3AYLnDkVmwDiuLGMC3i6GCiT4Tn6jyrtFvz0yEmn7QyCxYh3KXnoG/ZKbZC2cmwO7TFxMeXzdGseg15jOKcxOezFnxw2hyu1aIIucVjRmMiUSHIqe85k4SerhB4SPeGhPfjC2SWbAO7h6VhuaGcbCpE+KEmG6ev6iumU5GYIcMtgOz8rvClKOR31ajoOKpq4CLbPj0uxfnXpP/KxGBCYOJEz5kKFVEG3iHwaXAd//OXvbUEI4W9PfzBqfrorvsMzGR0mPykm/7RMeq75DQiZrQ+AWptojZ7rZ1Psbvp3y8cZBYGCyJ/8/etcBFVabv9z0zIN7wfkkd7CJotVuJaIBpiq2lgNWWYO1W2m61/8qSwbLc2uy+pQxet9u20VXB2kpQazfRLoomoNZWApYFpHm/CzIz5/3zHOZMwzAwM9xE5N3tp86c833f+c6Z73zf8z3v89xQiZMvWRZpcrJvfC3D7TiwKrDjjJxtOC3g94AUGgBKWDSekTEmPCBSIdFcJTDZQ/pvY1gVYsOod7/zq7Fb62LhtrTOQ0roz3t/TRlRSLnok/wKX1xjMOaerEXrBKs2aFfgt4LnKc1hr4sNwMsd/wZL4qIqIWiC8C0Wv2DzvORwsMF4htUxAFk8gwA8wADCbxcMjCYLhzscUsi0QMpIYzwrTdbg01Dw8ZM2zZFC+z0xfbgmz3bdaWhGi6hy7FDjOOZfx0ZYoUKcszWGm9sMxMSvW7vV7pM9eWvsj5ZwTV7psq7IPSzuYJvUFKG/+FxZGK6aGHVZozZFezyVWX3xym9m51trqK43V1tc64lb8P04tqsxwjSWRCAwpoXAFlIAaKjbyGDYKhXGbasePK/RhUBjhhn/TqK9aLU4UzUuvN07KBFD4AtuM1XVhAClAAAgAElEQVRvLypUy2zD1n2r7aq0xVnWA7HPftWNA4OSiOl+ITqokDor0zykhtZBA7sFAp3IYcaOHXZRsUOOSTLYGWA6eUov8btKZ/qFiCUrebAm1NzQiE0tfJGF7lLIMHyF+QIIjPoc8SmFccKUKcJJK5ND59d2YpwFMhi1hfw9yzwYjhpajJ/7S8dAw9HdzPTfzKSwG25aW9BTDeqwz0+NhFprS8wpWURMf0yPNMFGs1pMnvNNYFlwwCkmNmeaQ527dbfHdb1UVdWtdgOf/2bmEa/OL1NySl8QUq/eU24KWzeW63S5eCn3pYDjVLHl0O6DPZ678al91lPWAgczDi9x5NKDcYHFGDQ/qoHrKXmL1uFdwiIJ5uH3V5ukJW4seYOEbhFSEzOiBjb28+71GZmyqXiUiPIKiQxkolnLokx+uUBN+fJnkweGBn5ToO4jQIFGSha0C7BQrTcN3+vFNMMBMeFGpC6EoyosLrDIaEjUpSmmz+PcLe8bUl9TnHv0hJUOH3Nm3a3NzrdBd8xT4LcCEUxQxaFTgecEG0UAFZC65wpmuKaEIO0jy+EcpaeOuIptgrUJgAP2u7DwBsMHejLQW8E4APAXcyp/LH4b1FXjwo3XSNU1eWVaN6iiM/hkq01o934n6FVr2vgZfIk+NX3CIGp3KtgIZzQtJS0o0KBtWLbmcBVsBcCtsu3SdXkaqNgWp6EHvIIXUIu3s7HYoYJfq/ZFY7Td3e4UZep6GI1RfkPKcNO6IFXloeu2Wr3mczekzvqeG5taeCETx4g42Bki+mQaOZIYcLaxtgPXcCHQsUMNk5jZObltTflunvofL689B8oJYl8IZn5jTZ5Vs6Nri7OzB+JTt8cItDBEJhHz2waVH/4weRDE0hojMKmGXs5DjgUVxmwwCuAUgTxoTB6wm7fGQSWut/tBnKUQu/DTiJUns5IGNViUdmLKd2EKG9KJ2ZiVFOrQ7/G9S+IshWBD9G1/1Dp8+ZyLq3sX4+L//n2XskB7rawMR01PZZnDnLal8Zai1ZUCkwOzzGHY/YRoJ3Y9t6VHmRrs5Z64oRiMhtD06BCnPbR+tXEpBeOI+ROVlAmrzINA+dZi6oTgR4np0bRVR71uWU3eUDJIYYI93/PpUSYnWFxbj1pyFz8iJE/+958fpX304kqkF4FJANEDCKsB9IJNL/LksRhzhiV30bNC9JCI/HXm8Puqpe0k5pQ+RSR/bSzAx/enoerIKTnFU4UYC7//KSrfv3TkAL+o84kbSv4mTD0yokyeLDGRTgOGEwQRnffI3zY21/GW3IXjRXiVMB3lqnuo/Skix5gV/LtMRC3/37L3B/+09nMswCnQyNS3Z8OEO121zHy5VoAdo8dX3+dxTyn2pZzGPObnveVkV6s2IUTktrVb7J7sfTFvQsoVVqtgReHv6Fe87wH+wbUI5+E3BO0ZoEJ6SggYcrAuXeD4DlXFO1ykAI4BlEAqCFKSoKeCMRwLoSsrLYwBfECbpt6CzPXpq3HhxtmVackawNK5g5G6tdJd9Pr0jes5YOyAuYNgg/GCNZvL/XZ0aWgbTvf548INS4QYgJvGzunbM4iMBq/LydPd7AbVD8v2Xw6cIptdlwZrORvYDbqwM/Rkn562ccOMT4ho+aCaX2+/nkGapsHZFLv3l5PV5njZkby0Nt8Omu0ZEfEv7eogJ05eTZoQKKjCcnFVw8UGZgazspVYttmZtlWUG7Z98tAFPr00q9BXw7dEDMcALT8SeZKtPU6U2ejAEZccOJJb1uTbYV3WFmdxD8RbipKEBKkk3Zl4VqY5tClovq70dixIMdkdVMnMgPUy0iewi+fT79fTrYq1FKQzcUJtbiH+3t741IJbRPgNIXlipXnwY/6cH5tSNJlZMoTlrpVJgyGqWC3i5n43hgwGsAc8B9MmUuUjVeXVqx4Iw2KA4lIKIUD5QJY5TBPjScwpeY+Yz0+PHKA5kDQkEnNKcojpSHqkqYZ2RVxq0WOVSm9zVNV27qqZFzl1SqZNDN6sEhW9vuoo3APqjIScEghnPqey8eLlked8W9fBqZtTz1cVY+6+H/f+ODfxmR/sNjsERF1ZOsGORReA5w16WZa8JfEiKhbw7yRHTIcQpjMSc0r/j0j+QSQvpEeFaBPX5ozEjT8/S6I+RCIfVkjFne+PHOTNItbZvMnrd16mKAGLiWQkE6camCxvRw4o9dB+vMCwJX9GsC3mbV74JTNrtsSewk4GOniqD+U+eLtdLTuhqXU2xP7S1d7eFzasJ9t6pAKH/SaqSQTVfXkeXan/RPxTdr4VqR61BVg9SOUAQKEHwEkAaEgxQroSAA3dyhQaMro7CLQu4OIDLQs8Tzg2zJHqByARLA443UAsF+AHbHpPW8QMC3iHRDQb6R7B7ahjhzZxV083Y+/BU1Reoe8RyKTsfHs1B6bTdgObqeJxEcbfiaoBeVo0ZDxppiY3WjXum9ie3CYbrbK2gursAZ8QiDFjyKgcDSgiEm2QP9tQWTfP35MBbBvUSJZap+3xjLP8MILEOo6YHM4m2o4cdON+1MAMlbYRq9uEedvKpDCPyHJMuBH0Z00YD1ZsALXw59kQUCCGErEjdhlttrD/fPVrzvjZ0Adt11izByYtLBqq2mkGiWCr8T+qjWb54rjhY19CpBMgGVgCQFJRBxTpIfqGf8MNAruErjarPhb962FxlkJMxuJY6P7M5DC/KPmeKotLKVhMzPcQc3RWUqiWf+9rxFkKkRoTkGUOc6bD6efGphbNYBFXwTQwBEMwimWZB3sciOJSCm4l5teJeVhWUmj+lI0lc1WhuzKiTFjMNygSc4p/IOEv0qNNNdIJYy2F70EjJ8scpgvyaXVB70KE/vj66qNIA6o1JmeIQTGVfC3C2zOiTaCv1xmWzYteEqY795XuvePv1z15qeNZgZ4Jdnk9snPmblt0nmLlb5lou9Wmxs+KvM+5uE9cX3wtKQwdkhXLogZc663+xvz+5vW7BtoM9iUsYCBxSnrUgJn+lK+DPholnxVLemR/7I63ikjJW3gHCayJq0e5dKRD6gDaL/2pTILpRGaK7eRHi7V8kQAj0zn1ZF94Ai/0VJFuPX7VoT10YBe9knIX6fb1rq3zBGg0583Yta/cuXvKQslrtthgQV1bAKB4hIiudlgKg7YCFhyYbxMcQsq69SnSR/FbQ/oRQGYwecDgwfMGHQyAF/jtIkULriGYczldh5qzDzzVNS7cuFmIIvBdnx5B1K6ViK03dr+6zv1YaOaaLbZ6ifE3druaqzxXUdez0ZEGmicAQLVg+iY7z1aDadlc9+JsrsfnlWbMUMNNxAyaqRZnixLxqQq7pnOghzDfvzbP2uAJfUt76CY+/01fNhqvZoAZAiFQbccAgV0HLcUEYAbbaVvQcdu2fR9edonCgvxMLc4m9BXXi22U3fvKyGbXfbMoJXuLza9JdUt7Btra03g9UCVYCRYGX8LEj2WaQyG22dBADj5WCGANIKXiFYdAHF6eYIJh1w9v1QaJeI6fu61joCEoE3bNTPznTHMorDTrHbGpheeTSDoTdc4yDx7iT0Fx83fcSqr6OrPcmpk0GDRsZ8SlFr1OIlOEeLUislolPgimBn6cTHRjZnKYLm7qPCd23nfDWDHkCslMOEAlri++mxRecmHkAMMcbphVbOLGkuNC9EJGpKmaUCgqj7MUfEfE32SZw27UG3N7bNexqqjZgRWGri9/cqhOtkzihtLJBBaKItdnXB4CsKrWmJ+/eLRdlU+J6b3kYdNRH97zGNOxyMXuLvL3azA3UnIXZxPJFZVaSQkzI6Y765jyRXGEGHg1kRSX2duPWXFFL7wTmiU0+1kW7HIHE6kPpUcPhLChT3HThl1DRLEvESHoQS0xGlTLO8MHtiqK97zcl3oqVLFBiELRKcekBx1QB9Ah6U9WCaRALjtxSm33tDXn3feOvD0L7KOuOK5r50AK7ui/9oUvzAswK84xhVYDL9xTgm22itPCvDhy3Er4ryq4uNIxTBc8r+2ZOo+IwE7C2AN9CoAZSNEDmwKABHQukC52O1KZKvWJMBbje7CWoHWB5xWaRQCVwXCq1fbZp4e6CQ+KCTeCyaSBqwN6tz9rNqL87VJX9wkWWrhmi81TCpq/xZ4Rx48bGvAnYYETmvZSOacX0kVah6OgrzcA6SO79pcT/kS0uc742nONe5zP4AWqjQkPeININMs07LDDOrU15zlhS+wXpIvoC1Si1dn5ttPmZ9+4t957abGphVexCHK1x5JoatlVr3yib8s//mOwfV8+dhY0Bxo40dQnMNE5f/AwevMfyQSLW/fQJz0H95VqjjOne9fGtX1uPvEkimHI2txTEMVri7YeoLj534eQaof4JcCEfGGatTIprDGcC7C7BwV7iMZhMgzdC0ySAWxgRxA7gLBUxQ4hJtR+x/Vzd/S2GlU4SlyuqnTzqplhS/0uxOWEifMKb1IUAi352azkwdAU8DniUgpykY6RZR48zvWk+NTC6SzK6hXmQTv0zyHgKSInFIVXZCaF1UjFGDNnbVCn4P5I2/gyyxwWf9OGkmtUptUs9vBl0efW3xFKhBM3lqok9GB6tAnCqtVCExZlnp2VFPqs/sXUicHzmeSG11Yd04HiWvskMad0KTEN8SW9Zd7mRauIZELazH8++79Pv8JOL8AnPWUEiy7omWBx5dQqmrd58dPMMpuEHkkePl0XFqQ/5v54jrXCsIKYTarI75ZHm6AR0iyRkFNyBwNwYcplVbl/WXR/Z3qLtwYkbiy5n4Qg9LqNhC3p0QM8aRp4K6ZFf5+Sv3gcqRB2lD8cVPvTAelPh9Qq9kMX3kfdldI9fx8xqa9+ETHDjDNJNNFfLe23X692ZFD8X3h407xwBS+G/HYUTZw8g4zGQNJ1Lk7XO9xNbBGLjrvW5ludrJXUzYtGJg2fvt7tpus6FpjrYIcddHlXoBFzaOhhoJ8BYujAIJ5VsJzOiBg2jAK6iNFho0EU0qdDo7fbk6adXom7tt3pekZ8ueiTZTbar6cNCy/P3mKFhtBZETHhxu26SGeXTgGE/87GcAWwhGj32nwbQMwzItWwtdwvv8ALWCkxG/KZGWg0NaX7SEvoYDd12WMqGcLX5Z9yTpRbQhubsw1xC74PZdV+je2n/ySc+mwGrLy0AIgVWE+KoQ5eHDuyn15bOL0GzXTOws+oT78LSAcvmvN6famrWv6jyD+zt9ihOdAWbT3g7IE4S8H1RIzdmSuZaVGFWOd8bL64IfnNumgnUikABOC3CD0JnZIM2jIWp7sdCvagPftt4xo/d/t5oigriOliUfi6lTNCoYVQ74hPLUoVkRmKQleumBGGdBCfIs5SCFbJCyye2RSuhcSnFmaoqvRn5ogsc5hHRDXeUvQBsfwmMylsUOKm0jBSpUCIp2ZEDQDgU6/4w8bSATaRElL4tvTLqy+UdYtWZuX6zKRBTkbD1InB2LnNSlt1tE6bTwfzAZTuWRlRJoj81Rrz8pb8gUV9a9MHGz7IeGopdtmRiw8QC4sv3WEEDjZ4HrQt6JTNiyYRa0DG0uSI6dUAn8SNpRkkMplJrl0WFdKg++9zxwIIyilNhYsPkaQb+dSdb0eGVhMVra2syZt+PE9RDXj+JwjRKwaxWZZGn4cJd6uJlC8X/VEUmmaToJh9MnDXPvtA+ynqYGIS6qmUUE/+iTorB4hZCTUPu6fafGXcMOMWEboMnVFfjaq63EZQrit4EZcwswYLw9v5TXWj9h46ReWnnBlTn13z4oJENthGK6SMEpHRTNwhOWK6xmBxCzDaAAoDLPbk8IOUM/yG8XsDUHjGbWCMv4R624xGLYUFG5NgXjR21Mba0V0FC/+XQ3P/CmJLyw48Q3iWEEL0ydp8G56NVh8x4QEASjV7bjwj/Xu1h13sWRu7XJjXzHz/mlbIyG/JN9fvR2/cUONVwpptnxatNefJ3deXRW5as8XeanJlG/JQxoQboZR9Pcro1N6gOdDUN/SJDixyc9evoPffcm76EV52sZOTKCAwiKwV5RrzoqUFhJsAYDiDDYOy805939La2dae09sDky0b2pdJr1kQ9GSmI0Iya6V5cEPGE4zdmGhDhBfABSbP+F0iZQECcNgNwg7hUyBHVf49ybEzgPNgjQk7Pq/OJLELdvyGbXYAGL0q9W+ubwhzJO7v34RQYEA6M/UCcODrHRkzZ62xY+f+25jpB7Al6jrv96k/nlNB1nNIJE9EiVmZPKiGoGe8pehpIZmdZQ7jMWvF2Duo9GcSeTsjOsTsa5vcj0v8ojSSDJKjCk1YHm2q5lQRa9mRzKTOUxR1yIoZQ7SFzeTJFNjxRDAGjglpq47W6WwxZUPxM8J0j2qwD14+og6rayG25C3eWnGqos+TsY/mnjh8As8F0kNeqMxcgVUtUpewmIX2hWbfaMlbMkhU9SthKVJVw9UPjrjHaaWdmFOaQiRmJrrfXzvS+vZjlaMKv0gk44j46fSoAQDefIqEnOK/QIwTDg6skGXZ5aYGpTv5VGkzHbR40+IepwwyjZimnbB3vWiPnP/jQbVfsErG7iRU3I1/KQwxfnVVO4azKxw0aOLM4dM120vXGBtuvJpdnFTqa52K9/ZFl11ZzQ3OVftC30l3Z1bqC1W0adXy+dXe903ZlW7WqBRxz58/7XPpby4mEmhPoMOQ6vFG8vD7PDF0kC6CtJE4hztIUzb1tJQ9fkTQeTabTUupgig/FqaNHXWlHJ0uQKs+11hRodIvB8v1U3Oy823R9SnnTDsnJty4sdIeWJuEt3ZXQV/uDTTvoH/iiO+y822ag1lbNE8P+A1eoFkx4QH3Egmoclq0NgHP6nmR2iXOyc63Pd48t6Rl1zImIvA3iqo6qcMQ/oIAWH1DBy8Kv8kh07kXVwMo8B2ia/c+2p+e0kbcbdh2FW+vVkZd33ujv/p6TfsOnSKoECOY6Pk1+TavNoa+lt12XOvqgbjUojEi6gwmvpZIlilkeNQ17aEeV3uOZm9aZbsHIUWkBGD7Sne0AAMDu+kQkMOMCznZSCGA6Kcnt4UaTZg4v/ByRcXOPIuI7YaVyRf6TN93LywutehGEslA2kuWOQxCdz6Fw8nFwqxMzEwaVGNRVqMeS6FNmP65MimshitUvKXw5kqNgLeJ5PIs8+AvE3JK1jGRLT3KdJVPjfFwUMLGkhtY6F0WJXxZdP9q6SfxlqJ0IRqfZQ7VLatp2oQuNwrL8rRVcLesPa7/5LsegR07IfVnZXqU6c91HTsvd9FDTPTsgZJ9Tz5z/RMQd0WKCOjssHZEP4D9A2FXUOU1Jk5K3uJPSJUxwnSjq85FwvriZFZ4HsCAZVED6g3q+NOfCRuKr650fnmDiVQh9aGMqIE+MWGmfFHcTxRaQszXEXGaKmJpzvQWf67R32Pnbl7wG4V5WqUrxrSD6jnBe9Xzi49KLwinMxN/QSJp9tIBaSMGLw5RrNCmomAhum9mxHTn/My9zphwIwQqAWZqUV9xRh2IQEqIHu7vX3yO92y/kCqpG2hdID10xKjf0w8FedpOO97R+Ldr6qj7u9kXrY3a+tbdISA0/moaHH8NLGXfZKI3zMPv+9LLfYGLE0SMAYw1D/vI3welgcePu7RdmBjsGrBqNEJ8vXnBCx342l1SpD0T7mkj7qKw7pop7s+ip+ewgV3kPP2UVaU9B6rACybKXZNvq9Xtp7HqPN3ljAs3jhIijS2JF1b/Nk0UjXZTuq/sV+0Llri1efaVp/tenS3113vVGTPU+CyxRkfVolMHIwHFP9PDHbhgkpfX5NtBG2wLAFfDjPNICHn81D7ISL0aaI2qgxcf/XsxXfP7e+ndtMe1yQ1eVtPuW0Q5azMoYmQVldAdvMBn46+7m/7zwT+0HRz3CY4OXOi7QPr3+qSpsW7oyXI77T/sZF/sz863VXMUaKx62sppPT0Qm1I0Q2G5X5h7k6izssyDXW0s63Oh0MFAjjWcLvTJOMToMNnGjjvEK7EzgBzur/ytID51R4yI/UNm3iOq3JCVPHibv2Xox8emFM5lppkkclVW8mDseHqNSc9t76wGKNuEePNKc2iitxPiLIWgt8a7u3vgvLiUgksrF7pbiWlWVlLY84k5pf8ikvHpUSZNw6c+MSWn5D4hWqAKDVgebfrZtYy41KKvSZUfspLDnC4dUycGv4F0nLSVR7GrW2skrC+5gxV6WVS5MmNkSK2pNilfLzHRKcknUXces9NVcyLvQx8BRMHzAJtUsHLAYsDfYctI83IXP8kk+OxvyRHTYdmoReLG4ikkDI2Tf6dHmQB6NXkkbii5l5gWYUEuxPenR/XP96XSxPXF08jAFhLaTySW9KgQsEzO+Ji3efHvmNVpdgm8ab9qOrRHPe9YOXUOwYWx0FIRSUsfGeK0K8TnKbkLXyHisuSI6V4Fe10dAwIMTL17BJGhFTqFQedi78FysjvE9Tr06rl91IKnR8wa8id/RWcBEu/XU63O+AfM7QLGhLcbpJC9CB/jeTinmZkXqNcVsHIFL7Z//TndkVyl06s72Lgyegb/dqQ299OZPDrQATZvU7B1K6wq/eIAL0joy+wttpZHCW7kBzRmmOEFEtY2AlrLWq8xuujwsQo6esKRSSa8NHuL1avleWPU21ZGFYhW7xgbbljCxE6/947tjZrrxJka7qkiRLwsO9+q+V63RVUPxIQbkUeviYD16t6O2gc2zAvcNT/2j3+ZSzu2f0nwj8fLK2psgqaDgc8R7uBF1x59q7203O9RYzErfLn31fLfSKasybefMWJdvlxf2zGN3wOxc3f8hoxqMosm8vYJkfwVTIB61oSxvIdjgo0ioGsAlXuk+OEHhIWPK5DhdzVxlqJ4IoFmw//IZrsx68GLtMmuv6GldkhFOhGHZJlDNfttXyI+pfCvwvQU2e1jsx64EIvwWiPOUjSeSD4mkcscQAsGKrAOBGkonYIH7GCi7zLNoRMSckofYZIn06NM9X4fJuaUQFvi3j3lA7qsG8vV8uLjLUV2EXk6KzkMrBgtpk4MPk5MlrSVR52febqYhJyS1SzUIT3adGVd1zsvd9ESUdW7N32QM+fdZ5YBEIIlLehgcMbCcwHwAo4ImFwdsWxacL0YlH8z0zLzsOnOd9yUTcWjRFUg+PlNl4A9o16OiNCtGXy5RX4fMznjm0AlpPNCEr5LSF6XkmN3Lk+42MnFra1AjZHSqfNiuM0Q0Tsqq5blkQO1VJgzOVLzF9+iqjStTDqP3Svn7jpo6x9g5XYAw5HO84YSYHhtaUQ/jxoe0C5JHj7dJ2aAg0EJGjgcjDT9st7dgxo2IWxhHQ83AGgTYLGphdAeVWyR67ZqLiFt4dIDMZdSfzIYNSbe6UgbQb21gRf4znWTyv3G4bzDB/dU08toSsHP8gpVA8Qc8Wl2vm1Ma3+YYsKNAO7wHqE+3YO08aItSBtbnEAWkVUNtgWvW6cxXNuiiXug3pM1vV3jwg1LxAXACAo0UI+uAfVSsW7ia621eLiKQD24rNw1BbwNuHDvsLHDDLEsnKW94IxM/RuBWugKXkSOmUyDhozQQAo9ZQQUQm+IvO4v70oVdKchNvWzdfS4lQ7rFmxM72bn2SY3dZ1t5beOHoi1FNzGxDOI6DISftweQM+uvi/URUjF7+uEBDhECxH3QJvPBcjAjjoWtDgG6QCF/pQea9kxhUlFGTlKgHrjiulDdvlzvn5sfGrBdSIM/Yt/ZCaFOSnsdZU1af7XfVQ1aCuTfJxpDgPgU2dM+Ps2+eHT11cUrLbg+qEPArtQaH1QnKXwXSIekWUODZmyqeRmUelttkv/ZVeE1Ot6EjcUv00KR6RHmuD84oxrFxZdZLfJN0LKTSvNgzSNk6kTO/YlMuw2KHT5q1lHawWrpnxZOk7sAneaOypZIZo9nadI2bIkWmz29Svmv//tZ2+vhXMJwBOkDSFlCEKXsBoF4wYMwsLnNs8fbGQlj4h/OKXIuNnh9+1DuTdv3nO+3VYB4c5uBqax70Sa6gVOebsv+veJOT9eSGTAdUULyaMZUSHQZ/EaCZuKb2LR2BZ2EnVuevTABV5PasEHLMxf2KvCztOYadoR6T1kr3pe8SG1T18iJVBzWiFJC2gfmPbmpX39Ft2t67LHhht+z8ROO+H27QzUq1v99ataUhdjTod0Tiw0ncF0dXaerRpbpSW1+XS2ZcxF1EkJMmpsFDjRmPo0b9oI6q1tnodNKve0Ir2v3NNJXPuwqex43dKQVmTn25yMutN5D5uq7phhxvEkmjV7k7FymqrtzVEuwAsnQMqSkJ1nX94c9Z7tdTQYvEAHjg03PsdEzvxl0A+RQgILzZYeUA6G6IqLHSog+ley8+1QZm8Llx4YG254kYm1FBp4xMMrvqHhCl4AhLhx6mOEFJKr4u/UUkaQDlLbS81V3NNV2wIgxlsvPqBRDfUcyoa209v5bjZsFUfY1ikvr0rNvy3aesBbD8Ca1GZUHxboEghtU0l9eJV5SJ1CjnWUCUFOAAJ/JSIo+LkCGaDVl1CVaB9ADOgi+MX2iLcU/UlI/slM/zVQQMIHSecd9nZ9nr6PsxQ8S8QPqaRO8PVaY1MLn2LBdVXpVXgoFzvJsLM2E3Fkhx4m68kDxQCGMMHEIl4DEOItBY8L8d8g2jl5/Y9RimLYoBhowtIR1cU2fb0u6Gbg2IwoU7VduPiUwruE6UUXBgjdFtvlThZ5yZveReLGUty3eLX4yKBa2AhYYTxyX5o5qnu/nmMtNz+36ej+I7hO7JJBsBWpSO84ngOnW0dK7iIs4GCBfW3ysHs1MHp6kbTbu78UTJ04UuVq95QEX/vB1+MSN/wUR6xAd+QgEz20LCrEK1Ptlm2/dLSerMBmyW3EjAmiJT1yANgDZ2RYchf9VkRutyuGaYdsA9r9IuftOyndNNtcIXpfIUlraoeXccMC7hYRfXygIAeA0ZjsCMIAACAASURBVCgTw9N0V8C4gFPcKRfgQmWZui7P7pOGymlqdpNVe2tc+/5vZJVVS2XzVFlMuBHgmOaRCvACIEZjRl26JToI8XXeJ07mrc62qAu8aKpU4Lqu+/hJGx3UhRrPAoe5scOMKSzaRgd17mikbo0w72/M5+p0l4VNS2xeanEWPA+nu7/1+httdIoJD5hBJBA0coa2wO0U2MDklKbrKg/CnKjs8ex825ymq/XMLTkm3LCzUhBNo3k3FnXMFbz4bttnGlBx8sQR6tKtj9M61RfwQu9VV/EvOJUgmiLv0dNd3L2/nKy2qp0eaRPvOXMf9NPY8njL9muFDLCIHEvMS6xkffrjpIuQqlWf0C1VYeWG1IBDlakEj1Yu4qGFAXAWzh1Y6NcpBOmp4jhLIcQf5xPzB/06DEp4+S72G6ibsLCol8GmppPQ4KzkwfBJ9xrXpX53rk0M0Kt4JyspzJmyWLlIDyOitEpQJtLBJvmsQ48BEVc+uGootW9vWn1fKNIu4BZwC5gJ8ZaiBCFJF7GPDB7Z7ntVAn6pWkSbkP7hdyRuLN1OqnyVHm0CaOCMuJTCt4jpuvZHrd2Xz6lKh5g6MTirUliz3WurjtZqsXfz5p/Ot9v4O2JekB5pqk3Y1DDiuujU/2Vvnd773L7f//jVD586XGfKHA2AhSPsm8DxhQ6CfV7uwseZ+G9M/Jg54l5ooWiRkFP8AhP/hYTuSo82QdCzyWLKhuKZwjyXiD9R2XD/8shz4IhSZyTmlMAG2CIiXRSFnh5yuckyh9llW91bCS3ne0vuwvEq87QK6TDlgD3kwB51oM1K7aFKfZCY31QVSls+YgDEN5slxoUbH5QqS10tAgMV6tklkIyGM48abrOBReuSKqIJDPK9a/KtToCmWTq1BVVya1zwCEWlVCH5Qog+79Gxy5rU5aX6GOFsaUy4EelIGnOsoULsni7fm9uIK7vCNe0DZdWWNtLU+haeruPIMSsdOeF83bV6Mf+YcCPS8cLRF727tdMAzrb4tQdcBVyJ5PvsfLvPTmpt/Vj/Hmg08AJNiBlqmEDMr0CMVm8SlIu7dgrQPMVbSoD2BeDCSfWpathxErkze4sdlOi2cOuBMcMChyiifoePG9MH3B280C3Yvt36qTOHsS46oatQE9rmeqwn+62m1MEAgwf2SY6Yl51vg21lW7T1gN89EG8p+puIzCCmE0w0K9Mchh10fwOpIWBKQSkfwou9sQB00cGANd7FRATqPnbc/KKlx1oKZjMxFsfvZJnDkKLgd8SnFMaJwumk0mtZyaGwe/UacalFKSRyjxiUiJX3D4ITBwKCeqOrtEPoQCXroCex4f0rZ354RXDfsEcyk8MwrqMPAeLsjLcUXSwk/xPiv640hz5TuTiGiOnX6VGmel1H4saSQyT0VnqUCUwWZ8RZCrcSya5KlghAIi2mTgwWEkpKW310fm0XO2Vj8UwRnkuq/DZ9ZIh+jTUOT8ldlF92vNw0N+GZ/xzZewiparBBBYhTwwY3JX/RDaTSu0KSMTNCE/TUIiGn+BEmfpJZnl0WGTLb6w2o5wF35u7qcNSq/kNIbiORl9KjQ2o4wbgXDSvbPu1KlxDTnST0oYhY6hIurWfTmuW0ebmLb2ORaceo+5X77OftOiD9uwgpYAp9LSyvW1lJe//yAXh2mz3GhhsfgFOWXjGAi+7BAWfUQgVpvweOVjjV/3EtwnzP2jzrP5q9Q1tYhVMnBBcTk8bqIZIyIv5cmD8Tu5r9xkfHoI8DMfaVlQKU2jjVs2tgo8/ZawMvdKeQwv/lOOd8ngQ7XQU4Xb8HM2P0+Fur2fa6W/Q25u3Yf7iCTpbrIo1ya/YWO2x0W2VMuJyCT1mNsFzXoikYOa2h40r2lBFS1RBGgy3kP5s1dmtbNGEPNCp4gXaOv4R624wBi4ik2g4UtDDAxDidqB38mY+ctLppW2gUzY/squG+z7aeatIc3ya8j01edEx4wDQigYI/dQgyUM+ujZMb6w5eeBJaqot5oYMdegccOrDLqUiNz5rDKlWv2y0XckN2vm1kk9+YtgpabQ/EpnwXzWyYSUTXY8GpkPJEpjn0m3peMGifENxCKskoR8oIbHzwkoVaeorDmQKAhs8Rbyl6Wkhmgy6ZlTz4Dp9PdDkwzlIIp4tHiHhSljkUQEudEZtaeCELbCF5UZY5FP1TWywcPGFGfOjv7j6cZQ6DnR3Ai7d0u8M4SyHA2NIsc9jvEjeWfEAqDUqPNsFK1u9IzCkRFvnbsugQp2sHCom3FFYI0XzdFnbahE4XCSvfGIwU+uqKozs8ViTCiRtLc0jol/Ro03W1NSYldxGufS4TP2qOuBcgEjQ9wJo4CIykEpdwMhpS85ZcqKr2TURcXNHOMOrhS+4GCwfOItNIGG4ry9KjQppMnHryhpLfKsxpRPJbZpm9LDJknrdOnrK+NFYMAqDqPCZ6PKjcbkkbe94ZJYY2d9sLvRW7fRqrNO2g9Bv8i+28n49RT31zZ7WQmpYRNRDWwac9xoYH3MkkVbYOjsDGU3AnYKAtO6pRtx1NZZI/rsm3v92yW948rZs6MRipYrUxvfZV6hiv23uwolt5hV2zi+7SKUD7rzFDBy+C2sN5tnrojnD6p/5apbrP88rLjlez3m3M69i9r8yZZq4KD1+3xZrbmOW3pLLGDTOOFaFstCkwQKG+PYJaUvNaTFv2HoS+TtV+AbNcvybPDmHztmjCHmh08EJv69ihAbdjJ8ex2+e8BIAYnToYGh3VrauPsKg8XmarAVoQURkzP7wmz3pGC3414fPhLHpsuGExE0P8j7p0DqAuHRv3xdYc19DUdSDXtnSvk415Kjvf1jbSN3WnnwXlx6cU3idMSNPox0KzMpPDoFXhbyBVBIsk0KchSgntC4AX0MSA/gV0EkDDx3fYEXfutnirKM5SCAYB2rcgyxwGfQm/IvbZr7pRYBDEOy/t1/HogJfv8u5wEWcpfIGEEu12Hr76wdDva6nwqk69z08dlfzBb4xlFR0z50RcBmMFIlqL4+NSi5aRyNgsc1ifxA3FqUT8f+nRJr9/s5M3lHRXmA4Q013pkb+mXMTN/z6EVDuEM2/PModBb4Num9jlYSZ5PG3V0VoFgxI2ltzAojnF3JAeZYJLSI1IzX3pHLt6autX2duOvfXIa2WqTcW9BXACHQywP5D6CIDgcbAwUnIXfsys/I6IJ5qH3aNpqSRu3DWeVPsqYtmYHhVyhV83zY+DEzbtuo5VWwYRf08sD6VHhkAUtM5IzCmp0mNhXsUKWZaNGOCTpa63cpvr+5T8hZeyytMqKOj2/eoAZZ967rFy6dSXhI6TwlhQp7VEvY6xEYaJrDK0IXrqfYU5W9fOAdripaUFKNuwK3TVtwBApyhy2ye5tjodiVratTRle26bGJzEVay7WuNEmY0OHKky+mlN4q2N2a+qCJXucc7xRA22Ba5bpwkkt8qIGRownVi0+UbHDgbqEdw4m5atrbOqW6bSo9lbbD6JT7e2fmjO62ky8AIX4aAcYRJVQ03eYFCoQxD+M1K7JngpIiXk5Ck7lZXZ3MQ49e6VV8hufzx7G3kVMmrOG9JS64oJNyKfGrTstry3Om7Srn3lZLNXpWKzKBev2VLhNZ+7pd7ztna1nB6YZPlmkEoBoPSDAZVdSVCcs9I8+HM/W4gFycOVi3foPwBYxoIQwoe6nSqSWSFo+X6lO4dfO5ZxKQWvEPOfieXZrKTBfqceTLRsv0YhJZ2JlmWawzRR4Loidt53w1gxYMfrqSxzGHQ8PIUh5q9rBnToYYI14v9lmcNedD0oNrXwURZ6AqKdiTklWPAvVCMHGJcz10i5qKstN20suUQV2iYi12dEhzh3XOJSi/5AIm+x2KIyky/ShCWnTgzOYaLi11YddaZtuJedmFPyNgldWhcLxJK3aP73+d/fv/TxN78+WHoAqS4AnZBy8NtKsKQY2moOoOb7lM2L5hDTY5U+mHOSh00HmEE3fbn7YtVu+4CIjWzg0ctG9G8SmqtuQ0vEWQZjwP3vDO9TJ7NHc1hRwbagS/GMd7IHWf51RS/NBeFMCMuXC65RFZ5WJt0S9qkh+/dLSIBdjF1IqIBY3lSF05ZHm1r0nGPc8KDzVbvtJSbSduH1wIYFWBiNrONYr9uKjYKjJ6x09ESNdWOmarDduW6zZi17VofG8lIMF5PIRURyMRHX6oDGRPuPHbfPOHj8FJhpjZoa3Jpugiu7lok2rsm3RbWm63O/lphwwyIi1tI5IdQJwc62qNkDx8vsdPCIbhDHb2bnW29t66em7YEmBS/0po+7tF2YarCZdacK90tCfmVQIFO7QKOG7gcY/W8WhJpO2exUcUqlMqud8G/PwW8pClk+ybVuadqubV2lx4QbIRrYF1fVr1fQGSnm1Rx3BL7ycLCpmgDIdZ/k2r3uMjZHu9rqaB09EJ9acIuIZqsaTkxP2g08b/V9oU4nCT+u0t1OFQpkYGcAyAA1H8yLhyqpxut9LTM2pfAdZrqJmR7JTApDGoNfoel8kDxOpPw+yzwIAEqdEW8pTBOmcVayjahD1NTwuydyigI6dC1ZNfNCgDbOiE0t/D0LvSdkHN15ZGCwqJJFZB+WHnVuvre6Xb9PzCmZQESrFIWjl14+QMsfR8SmFr7IQtPsRu6l3yPoXYjQba+vPvqGpzoSc34MJzLkkdDDlSyQv3s6xrJ54Qhh3vTmX1/7cevH+clEpLMzMLNcVAnU7Kk8TxOdtuQtThAROHksT46YrqVy3vz5T93sRkNGJVV8DCuGmGWX9/MXBPPaPZNzD3YxWI+/LMQJJLQgPdrklZGTuLHkeRJ6ADRlZpqXHmVa7bWiFnJASt6SqUTqtMP2vqP30nm7D9v7QIMFC/1sUdXX06MHerzfLaT5HpsRE258TH+O9APgJBfcMYA6dTCeFhADP56jJ2109LjNmWOut02IZq3Ntzl1O1py3zZ222oAFcwXkWh6RnrAEQqsLE9b5+vVdnLtG+8fO1CZHvxTZXpwCE7q2z1IE29ti1974NCxCjrmAMyYaO6afFttYsqtottiwo1I44TQtWajDEZOW9TsAaSMIHXEEZ9n59u0jd62aLoe8B8laEBbxg8nk0013snCtwmJQzyoZoFoVECAQnhRGgxMCjOxoqlGE5TO8H+7KqSqpO1yA6gAnauO2E9MrwsbXlmbe6qgAZdwVp4aP4w6nBDNRqty847I1Fdz02oLDz3gKtrJzDPaUpLaHpPG7oEJC4uCDXZ6jCDoSfQ/UfjRlTNCV/hZDyw1kR4yxQFUdKnctX+vkhwAlgJYCAMc1qJgQfissxGXWvghCU1iYnOmObSa+5S39k16bntnNUAB8yOSO3YyZd7VDykttUbcvIIrSOHPSWR2VvJgMEn0QNshXAkQ4rMOPUy5HXqYQvYXbujqmg4zaf72waqqbIfzRoeojsuJ7N8y8bRlUQMgeOlzJOaUwK3lFVJlUPrIEGcKS5ylECrtB6GpgcKmxnYeRcKfGezU49WPj0KXokYk5hQ/RcTmgICgC96K6OXRZcaSt+g9Efr93CnPrvhlxy6ATbBE1QPaHrhnf5m7ecEQhZUviOhnW6cOkbOG/EljMEzJKU7T7EZFva0pFtWJOT+HE6tvkrAJ9yY92uTavhrXfNPGXVeoYkeKy+VC8oxVUSynS7jS55teqf30/JdL+hoUmWYX458OSP/z98r5e06qwQD4TzHxMtKsTk1ndOpCTETACFblaXFjYUC0u1N7A3VsH1CvzSZ/+hnHgkmLtAak/3qY6mUprMz+JK/ia3/LPROP9w2o4HWVKXGfEivr0lYd1pxrpk4MhsYObLR/DeZ/pa088if9g3HhhleF+Hb8uyl0L87E/nZts6vehRBdszbf9vGZfk11tT8m3Ah24zAcA72LulLH6nKTaaw+8qSJV1fZTSnQ71qvzS60a5+eTiQ7svPtoY11zW3leO6BZgUvXJswLtwQJ0S/J2Kger2a4AYdJeaVzOq/1+TakT/cFvXsAdBIxW7TJuVgyYB5UVfo6tEbspdpnt166IPbwX2l1exLdbur3SVFTrXpusq/7o+zae+uHwjl1xX1GUw9DY4op3e/8+mDt57x2oOgsh4+5rDRYnouO8+G3eu2aOuBRu+B2PlFV7OqPkjEMZVzixdtbH/uo6QLAT74Ehj7sa0GmpDOwjjf4UoC1gXEPVdWCWlqDh4+xYSFRe0MNsF541joL5nJYdUEAL0VErfg+3Fit2Uw8YdZ5jBtEl1XxKcUZgjzpe0rlBHLH7oA7QYIgx17/L0ftD0mPv/Nxh8+/deWw8VfvfbL1/+tVmaVGwgdOi8+9Jp9B0p3iirp6dEhNdIc62pDQk7JY0z0iBrcrtvyi3sf14+NSyksY6JXMpPDYFNKt03oMpdYnfL6qmMegfupWw51LTt1fBOJrE+PCvF47SmbF91ArOlhvJIcMR26JdgZm1uZzQdHBXDoMd60myNznuic230lMV8jwuNnDr8XIAecRZ5m4tmVuwCPpUebnFap3vrZ1+8TNxZPIeGlJLRVSB7KiA6pc3I/Jaf0SSGBiOwmUuXv6SO962H42pamOi5l88KhRDztJHX600E1xL5PBtqs0q4bkexkUt4WVU1zBbGaqh3NWe7YoYZboQ9WmVY2xL3eoECF2gdVibEHGBpvSolNKS3195TNTdPC2YJtALvW5ttbhOBpU9yP+gIVntoydULntcQ8Bt8hTURInk9bdQxjhzPGDjXcwMzafBkMaFimtkVVDwBA++WAUy/4SHa+DWB4q46YcMNOIj4XF9m/V3ttM7m2qM9829/Oa6ngRTUtFKaD2Xk2zJ/aogl7oPHeNA1oZMxlxmgy0GgmilSFw7kOVkZt1TDRbmHawkSbmOmzNrGmBtwQt1PHXRYwXBT5Eh/7ojhcGxgBRWh4edusp2jpK7Od4IM/A5Jexpv/SG4W8MLfAfn4SRsdPFolesXte723Zv3uGxvvTrSV1NYDNXsgNqXwUVY0wcxTTPTXzKQwv5gD0G6sBDGgGxFbqakBgUnXlBKwO8DSgHc5LFU9sgFcW3W1paR7AJUBwIgU4VtWJodqedS+hm7BysSJmebQOhcmcZbvxhMZsECekWUOg/ByH4dexy1EBJQVC/zbrrj/3R3bP0o9sr9gPa7DOQONsxS+DRHLLHNot4Sc0s8VpoplkQPG+dpWHDdlY8nLIvK79KiQ8/TzHH1wQITvXpkcijZg5xOsv+y0VUfBCqkRUzb+fLuI+qoiNGZptAkaQzUiJW/hl6dOVAz6IOW9GV9+mANQCdoWsOqDGCmo4dgpu2nelwtnssKwQIUTiSYelrjx57tJ1CXE/Fp65ACvwJA/fYBjE9YXP80Kzxamd0WlGXVpOySuLx5OzPOIaTQxzVWVdpblI3qfEToFt2wsmNiZD75+UO0Hq9MAJv6CSN4IDhiQ9nIEO5Brf3vvzDj+9wmhT57cs+9PFceOa2kx7oEFL1IN2hkNFGisSgFmxfs0E0xa7F5igVhhtROc4az2Wtm0ecyyaE2eHcKirSYaE6jw1ClTJ3b5J5GAZbFeEXr6X6uP1kjLmjyZDAe+16wxYeFLfboHUbu21BGtO6uJMpKkZefbp7Wah6+WC4kJN+7VN5f7926vseFrC3/nyvXpO3/WCii/uZgXGKlKfqkiijJRxZp8W5uyaX1usB/neH+r+FFYYx0a+1vqVm4IGKSyGkKK0odFuglRB2YysEqqQCGf+bCQulcRLqkg247Pt9C+xqq/rZzqPXBVhHGMqlYp9LcLNFCf7t5/l54GDXy2d/dOGnLJKPry8387WRn+ABL+HFufwdR9cPS3jBPlNjpwuAq8MAycKO1GzYO2yjb8x8RbDWzc9kHSeVhktEVbDzRaD0xKKRqqsraDfQMRvUtsezYr6SJftRuQZoEfNdhVeCc8QEQTHaAFwDdM0mAzehsRwXHIqzXctSk7TDa2r2Ti3wrTDSuTwjy6ZnicZL+2M2j/YWs6CY0przCEfFLFqKg14iyFmURi6tcxbPjLdzHmEbB9xe4htBxgERtkuvzGSeWHdl++r3A9fPq0FDhEXGrRwyTyTJY5VEncWJJGKk9Ijzb19ufGJOaUrKoU++yeHmWK1M+Lt2y/Vkj5gOz2sVkPXIjUAZ46MVhlkvjXVh3L8lR+Yk7JSiLpUpvzhyV30f3ffvHN/LceSTtWfrx8QyUjBg4hECHFjniwo8yD8zYvnMLM75DQe8nDp2vgaeLGn68lUSEmui49ygRL1UaLm3J39bRb1VeZZJIQPZcRZaqTbZaQUwxQBaKuRcz85LLIAS2NGYnfAGi/lziEUHPGrBVDn6BSgHxIswJbVIg4QxFJWxpt0txbWmMs3Lgw2BqgjCaSUUQ8lkSQlkS78786/sPHa/cc3vlj9TQED52AFBODUiUCyS5qn9itFLuQTaUa+hWe+5KXMcnra/JtZ3x/NzVQ4an/bovt/CcmJdrOyuNvZh2CqK/HGDvM8E8W1lJJoG3SPbhWY6TW+MjXek0/7y3T0tURlZukE87k59CyYckgc/Q9nq26XXogJtyIuSrYjGTq077a79e9o3yZK+usbKPx12dqV/F2JxNbXzeg7H4hVSSvQwd20Sspd9F32z4j9/m5r+X99f/gBk+kb6x26wFSJpGrpa7e/u1ffa6tUXRL32+3fuoTI7zYAV6g3Ox8W4tcW7emH2xbB7emu9lE1zIuwvg7UQk+4QTbtN4+gBfuIAMGhpvueIayV75KESMn0eGDe5wDgivQUddg5O7lrXuDu3+uD4b6YFT64zd0buhQ0gdMd09x125zHRz37Pqebrk7xTmIuQ6ytXX1yXIb7XeAF9xtyFftY98/QCQuiwX+iUQ0MENRaKvVwNtW31er1WMT3dG2YltrD8Rbiu4mEbMwmYj54fb9tyxYnpDgj3sGwA9oFIBtAbYV9BPARICjBRbLd1eCHGA1ONkLtfVl/KKdQ8hmzRKhvqLwDStnhPqcHxxvKbpSSNKF5L8rzYNRX62hAwXCctfKpMEvO4SFIVyJrRCkwowMaB9cGHXP24M79x/8u5VJYc40mNj5RZNYlQ9FlJiO0e3A/puTHmXy672YmFMCYPLHZVED0GdaxFkK5kG7QlFOnbNixm/3TJvY+Voh/iBt1VGPZSdsLB3LItlMdOeyKNMr7he7MH9hr8MHTnz9xkP/6tCxZ4ertn28DUATGBcQ9YQQJ/4shUUnqbyWmX85KgERcyLuOqmxHBSGAGqZai2PXj46tNGA/ik5JdCpWEqkdCKS2elRJrBzPIbmyqLSXGIaDxFP1W6wLB/Vr9ZF1Gn6jYJ1hPxAuLas6jxw0HVXWt7Y2LGfCWDepdAPEaGlBlVNW3rFQJ+1YE7TtdSr2nm5i4YQ82gSdTQTQ4y2u1YQ00YWetNafvLNWVfM0vRTRg2lXkYOuJ5JwNqCtktj5hmgjv/CqUZVre+v26oxi864OB1AhadOQjteW33cq/vZ2KHGK5mpSqulMu9NSxfwgT1zxt0YPxrsyqitZLYVZOfbaqRP+VHcaT80dXPq+XYKmE9M71nLlBUPj7r7kKdGxYQb8bmWHjOgd3sNgKwtvIEXnr7X5+76nBxrAYAW+r/1c34oyNPWC57m5+4boaPH3+o833Vt4V4WruOBp1fQ+YOHEZjcCMz3ETqzG+3DeauWz6f336pbg1wHL5hIXZNva1M2beKn3K9JWhO3pa34FtoD44YarxLWXAi0vNbe3bwzL9wRUgwCvx12lYagxiXMpHNModrfEXckv0TQu1i/5h1t8KhrMHIHRdwHP9cBSi/Pn8GoocwLV/CChJdnb7FqCv/xL+3qoB4/EauwxErVrrau83JcqArMYDFsJbZvsxsVABpO6WIfHgtQPEEfx6LEn4WqD0W3HXKm9UCcpaB/5bbw40za7tk6Mhieyrr/Atiiegu4VSD9BAtjOJhc71jIYeGLVBQwLiBigx+uV/AClU20bI9QhDOJWRGSG/2xd41LLXyQhJ4j5j9mJYXWad0aZykEINEhyxwW7aA8wwIW1HYAMWAcHIizFGK3/M0sc6jTxmzCwqILDDbZQUJPdoxqt4NYeV0VGuCPnWViTgmotR+mR5nu0Ds4LrUQ1qjWrKSwUfhsamyXV0nUiLRVx7AArhGJOSUAW248eqj83NUTa/72LbmL55V8V5z89iNp2/b+tBcgEu4B2BZICVlKRK+/lPvSR8epAtc6kUiJSY64Z+2UL4r7iYEyiDicVLkyfWTIZm8Pga/fT8kpnSokrxHRRkXoodpSXVDelI0/zxRRZ5PIQSb+27JoE5g8LSXAxgH4A8ACLJZZEzI+XdDFdEGckIBt1J2JvhSitzrag9LOJOtWXzr4pdyXAo6r1tFkkFGk0lgtlUcLqWDipcz0RtKw6dm+lDUu3DhKmC4nlYcSw55TSzfTUhC8BICKoko7z2+EaIsisnHNFpvTucfbyS3l+5YCVDS0P2LCjXCZwlhKsMjt0hmY3tkbu/eXkdXhYMhMM9fk2apWuWdozFk7x9i5cw89xQ3i0e8pJB8mRdyHdE9nuLoMNkXaiDugAbChfcdgJ9MCDXHf3Bx/3d30nw/+4RFM8FQeygDzwnUNAhYHwjXFXV8v6EAJvvcGyOgdBRHhkj1OffGy7Hxbm6tBE/822sCLJu7g1lD8VcOMV6iiUbApKECh3j3qFux0HRS+zvtESw8BwolwR0/xmT+DkTt4UVdOmyek1dtg1FDwAoroB45UpY1goVSX33Oc5YcRTNZYYYolYU3R2RHbNXYGK1uZeRtX2LatmDVkVx3P0iTHAk2txEngcADXCOycfOXrIrM1PKeu13B1FHW3VwT2F1J7qqp0Jtb0DwiaBqTycTbwARtbd6/bTGdEnn197k9syvbJChseFJIIJnnGVq7MXz3b5133eAdFpjCDrAAAIABJREFU/o+VO9AjiOhfDjaGV6qpe1sdLIoVJHKAFOXGrKRQn9JZxswRY+fgonQhmsCqhGTOHLy/tn6ItRRMwULLRWMDopilVfT+qohLKVhGxNdmJYdV2x2OSy3IJZXL2o9s97Aiyuf4PWZEmpAK4lMk5pQAFHk6PWoAxE2r6rIUHCdS3skyh96Jf0+dELyfFHkpbeUxpPZUiyk5O88VMm5mprRlkSak7OiB9/MFT31h6do+KGDzwV8Orn067jG0Hbabv3ewYQBY4t68bclbPFZEZhPx7OSIezX3lSk5xemaXanCCemXDwCg0yiRmFOcAmYJE711SuEZtbmDJG4qDROV5iKlhEheUIUty6NNfj9DjdJoz4UAsIDyM1gUf564bN0Nx3f9ZDknKkbbbSz99CP6cdW78vNnH0919HsTNqX5in42J/XcAGPAKGZ1NFWxK/o7av+fEL1tV+iNWeHT63rn+NzYMcOop0EN7C2idmWmDiqTgYRsCtFJZuWwoV3Fno9zyKP7js+VnIYDWwtQ4anrxg4z3MzCGmCMVJ/+vYLq3HU/Dd3fbFUeL7PTwSPOvaTDZe1s/XJySLeWaLZ2NHZFKbmLaorKMH1LQh/ahVY+OHz6+phw4/ZKcHww6oZ4KzRsagtvc2v9PPfUDXzuyrzAv/U0D/zdG3jha3lYg1x0WTW3dOelIDXE0+apr9ekqkKle52PxC/Z+TaPmkCNfQ/P5vLawIuz+e77eO3jwgMvEVLBDqBAI1NfHxWoMVh07d6H3nrxAZp23yLKWZuhoaX6YANgA6EzMtzRUD0vzXVwcwUvkAunszYAiriHp4HH22DUUPACHuDwAq8KWZydb//VbsVLf098/pu+bDTEKqxMFNHEE3WKyz4i2cbMWzOTwlwXN3qJ4LOBeQHPceRp49xrHLn/rVaJXb/4cSPahalW9QpW1OEkfAkxDSFxUJ29P+OAywtE+CsmyhOmDWvzrQCAWkXc+ZIE7D5Z9IzAVpWV7aLSEyuTQ31ZxEIHAzv62NkH2IDF/N8cTh5+901cSsFEYl5BxN+yqiZkzhyMSZHXmJS6faQqSjr0K7LMYTfVdUKcpRA6ECezzGFXOY4DdRO/IW1LJN5SlIBUFEU4fEVyKLRotIhLLXidhCd3GhE0SAxcTEyPpEeasBPvNaau3RlUFmSEq8j9y6JMC3HC5DnfBJYFB8AuU7OLvSm+c892dt7HLCNfW3kMbawWiTmlZiJJUYUuWR5tcrV7BKD5Wc+Q3uW3z7uje58LzolPHnYvkoWx2Ma9QRtB1R//6IonPujar9srLPRv8/DpSP2hKTmlFiFJEqJZGVGm571ejA8H/PGzH8+xBhrSSGh85cx3TkaU6fHaTkvMKZnOTA9jYmdg5eGlUQNagsAitpCjHHncuBdHOvTpl3HhLXd3GHTDbcjtjiRV9h/5sTDn4Ldfvfbl02YwDuHQAK0X6Ic49VJ86K4WdUjKlwuiyWgYRaqWxni13jhm+jcp/IZ56L0ftqgGt6DGtGagorZujgk34j0Yju+DOxqpa+ezU/sCFpgQk0UI09/W5tmebEGPZr2bkpK7CBs3ELj2HEyfrnnoyYHlBw5qbiO9uwcRnIVqC29za/17aEm4p3brbOvatPJQJwCN2tK6fSnPE6vD9Vrqs17Qz3dzovk6O9+GeXhbNGEPtIEXTdi5raXoq4fROVYxarswyHlD7psvodO0cr/4kKLGJlRzGNEHKWhfAODAwOTL4NbSwYvDx6109HgVG4+ZHluTZ6vTjnBS6o6RK5IGgaLpMWJTC69SiGIBZjATwAstDcUlwCgA0wI07Dqp9b7cszPlmLFDjeNYkWtJaAIRg5rceMG0h1X+WCV1xdotdvTtGR8O9gOYAVcx0ct2MaSsSr6g0MuFYdKCdAakOWHBDL2LOsUz6yovNqVoMrMATNtEijUha8bFPukdxKUUmIk5hYWmZSbX7qQSm1J0O7O8qjDdsKJKIBRgAkA9OGsImBydgovw41yQZQ6Di4oWcfMKHySFntvd8WjgoEv7bCWRr9KjQuoESvRzJ28oGaQwFZEqN6WPDNG8m+NSCsYR8ycqKRNWmQd9NHVC59uJ+dXa9C4Sc0q/YKIDrpoZjvK7dOnddU2/sP7Dvs8rOlVRVgHwCPcDamO4l9Ai+fimp6dmDL962FKVZP/x9n0vmXNxQkXCxtJkFoHuxgvpUQNw3xockzf+dAWTklFpCwsC9eyMSJNHF5mb1+8aqCrq80KSAIFFIeNz6VH9vmtwAxpewMBKpjCAMM05q/uQS264fM78jzv2NU0ytAvqodptXysBxjeP7d/95qrYERDsBBsD22lgy8CGdk7Dm9B8JTy9cX6fDoaAUarGrsA4qaVw4KfwI4vyjkLKGzOG3w0HnLZw6YGzEajw9ADEDDNMJmHn5kffHkGa29zZFEeOWenIiar5nBDt7lluO3f5t6TvTp0xXVFpna10/6p7v1NWpb+BqR+pan9hho6VU2Ta08XkvZhW9kv+Nm3C36NLIHVsj8xSz+ENvPAktq9r3G3IXqYxtP0BL7r26Ku5F7o6D9ZVnqu+Bepzj4aAF2Xldtp32MnOWZ2db8OcqS2asAfawIsm7NzWVHRMuBEjuDZyeVMd1q9bF+n85ecd1KFjl2pUMAxk4ZEgCBDlb1ypDVy+DG71SRtx1dDwNsA2lHmBlBGkjiBY+M9rtlhfdX0Oxs/d0TvQKKNZldGi5RZzUZY5dHIDnhXskIPCApE/5Lv/6KZ7gZ1G5NlDdA07KQcaUNdpPfWqYRSiivF2IrmFiCHEWGsosCYyEBkMCkAkYu1/RCoJiUoEpXvspmBX2EscJpK3iJXXsvOsPqU7eCvwdH4fZyl6iFjMJGxnkTmZyWEvNaQ9WCSTUP+MqAFw9fAa8SmFU4XpNSLODgi0Jbx/74U+PY+xloJ0hfj6CrYN/DjpolrtWuMshVuIuCTLHAoqFrYKcYOd9pVxlkLspF+SZQ5z7jjFpXw/kdi+UlFofNCI9vcz03npUSbk63uNyRtKrlSY1glzTEbkAM2RKS616DESmaOqtnNXzbzop6kTgz8gkS5pq4/VcPmYsqHkemH6tzDdmBFpqgGUzXrvkbzM1Pd/26ln8P99+UEOBkykOUDvAnXJnLWvBXXufBxMmjhR+cqZI+79LGFD8U1wGxGRjzKiQ7BobXAk5hT/HxH/A+loTPTQsijTJk+FJm4ouZNYHiZiOIQ9kOFBfLTBjam9AFB1AdTMqwVkQ576zps2lOywq/Y/sMGAlCiynyr/79bFT/Xd8e7rYK7ByQJjJhhHUHGDFgMEPKGd0uKp4imbFw4lVkY5RKIhIKvP8f4jor41c/j9EHltC0cPtAEVdT8K48KNWVLF5PTZaa61PFxuu+mYQfxlTb61Qe/LpuqbxZsW9ygTW39DAPcTNvQjVfpXblL0U0X6Myv9RPuT+vpVP9OcVXckBQKoxnnetE+8za3dxS9dNyvrkzYC8MJVTNNbefr3B/eVOtcirmBHwdfra2juebsmvT+PnbTRoaNVmJaQLFmbb7/Xr75uO9jvHmgDL/zusrPzhJihxgJiCsPV+4rAu+aiuTt86IMGytOVfH0Z3DwJgbqrAevo7crlqX4PRu7luwr6eEpNcX8afjlYrnnUI5gpZk2ebW1cSsGlovBoFtB1Gbuluq0hiagPrUwe8lwDniqI98FhAWKK2GEDmAFXB6DqQFGwIEKDwJwB/Rm2hNi1dS7ovNSNMQKT+dO224C0JSL7/UKMHfQagZzcoHYKtTMqFBioUIBBIYPBt6EN4IXVLto9w2Sl3Gonu4Mi6qGqLBZasGaLzelW0YD7dtpOjU0tvJCFwAi6kYn+TcJzM5NDITDpdyRuLEbKxa3C/K7NXjHz3yPP/8lbIXGpBfeQMBaDWe2pfcJys8nronDi/MLLFbukE3NuljlMs//0FHGpRfeQyGJWZWLmzMGr3Y+JtRTczcRLdGAB30+c98NARbEVELOlY2QQxBvvTY8y+bTFOGVDyc3C9LZiV3+ju09o4qEiXbOSB0eg/KkTg0VEZr6++lgNkbcpOSVvitDw9GhTDfX6lLzF2rVs+0/+a2/Mfg3tAmgx0uEyAvDivpTchfcS8SxmedA87L65CeuLRysK/1tI9pbZT16+4oohmitEQyIxp3QJkQAU+Gfg0YAZb17dt0bqxOQvd/ZVbMbniekWYlpOVn46fdQALdWwGQNpH5kOsAEpIWBMYLydfcu2X9bnL3juP+dPSuzeoU//IbYTx9X93+Z/o1aceuLzmbcjXQKpNhCoBaDh69jYjJfmuSpYmdqNNEoVHk2ssSsAbmEKvZ8gtqnQG+bw6V6tjU/7hTRDA9qACv87ecxlAZcpijhT7Lp2CqDgTmeHeOeeA+V0ylo1lxOiT9bm25Ci1+wxJ/elDsFs60d2e3+VqR8L92cD9RMw8ET6Eyn9iPCnM81Yb6OVhHaSwj+QqDtZaKcY+AdF5Z3lZcrOwPbqNKQr1rggpl2KBEYkRdy1O2ao4RZihsYSdQgyUs+utacOuYIH7mXqaR3uuhObPnuPwi6OorITRzVAwR/mBVLQ/S3PUxvdnU382ezUr/PAkVN0okzXyufp2flWzG/aogl7wLcZfhM2oK3oM6MHxg01fiCs2SdqAxgGMl+iNqqWDgqgDN3DGX/3Nhi5AiK6/7I3q1R/BiN38MK1Ta5+07Vde+meMm1XH9F+0opXODg0kkgcE8qaZzGr4zKThvik5F5LndjxRm48Jt2oGGkkeJFhEYnRFGAGhA6xQARbAVRvTNRBPUfOPBZBOAY8OoiyulMRsEMNRgeAA8xaIGRXJdXcxDF6OJkC7IZHhFgTPXQNWLd1aG+g9u0Mmn1vYwZAjLJTdjpRbiObQ2HcrfxMUvip7FyrRj8/UyM2teh2FnlIey5EHuVjxxZkzolwSmb7el2JG0r+Vrkt9Xili86Xwmry8siBX3g718VJJD0rKXSKt+PxfXxK4X3CtIBE7sxKHlzDThTHTFhY1M5gU78Soq0rzYMTHb+HkConAxLoyijGgN1C8thK82BnSlecRXMHkY6RHdKJJbVLwJ7AlyMivC5iEzeUPEBMzysBhl5LI/ppgqJxliJYOq6Aq8mtEzuHKcQFZJAL0zKPVdP5mLx+52WKEpArTI9mRA7QBDb1ePbzf3QLbK9uI5ZjitiuSopIgvI/wEf83kHjfSp8wvBOf3jy1mmwu0seNv3GxPXFF5CiZFQyhQapQle46Wf40sXVjpn8+a4QxWB/i5iuYKKHl0WZPIKsCTk/3cak4Dm6gFiZkR7ZHwyN0xV/caRIgMP7X9PYiZ26Dbnk4cE33VGmBASGHP2xSD2xuyTTENR+1tq7E5A2BbFTpBiBSQLtIDwTJaer8b7Uq1mZqjyaFcHzgHdylbI98wYWebtde+WNey6+57gvZbXWY9qAisa7s5WsW4CAYCJp0bt7u0Z/5zZeaxunJOiWQb9MD1Xloeu2Wrc2TunVSmHL1hf6KaL2s9nV/orGlmCwJKqACfyp/Z261aib+WeAEiK0kxX+gYV3qirtDGyn/nDfpfdBrLrOSMlblEiizft+DaY5ycOmO3WMXPXujAaF+vXyLtbvrd7W+P3u/eVktTk2LYlGr8m3aQYHbdF0PdAGXjRd37aqkscONT7OrAn2ndXiTXXdVFhpwVILwUHdT7W/8QuvnrKKVQ1eMaveu6P4/QKMQDqIxUPbwJQB5Q90QegLIHUEf4eTBHLy5lZO1GGnidU/zkd+K3a14WAAgTq4lSAwOcZiILXS2fbnysVTQ5giPv0uxoYbH1CInpIq6r8zYNXbqb3BZ/DMp8rqOKi8wq4h6noqkNuhC9SDtofW/eibbWhD29IU51+/+Lse1grjs0RyRyVT6DNR5bms5ME+O23obZqyadfNotrfFqHdZJDkjMtDIChZZ8RbCh4XYowpr2WZwzyyatwLiEsteotIbjaoysAPkwd5XGTGp+6ALedcJh6TaQ7FQh+/gesqmQqao4GWWsLcMSspVGOSaZ+lFL5KzLd1iurweyH1Q5UNEcsj+3kVbk3cWDqfSRKWRZoABlaVBUtW5tlZSaHPTovtPFNUfiZt9dEaW1YJG4qfYOaHVKHzXKxZAVJYLhl3mXpFwuioniG9zE9MeBS/O/zWZzqqmGfJXzSMVFolRIeODTtw4Y/rbgssCwoAcBEvpEzKiOoPBkK9IyHn56uYVIwH+1nl2ctGDgBjq1rc/PlP3VSj8pwQ3SFMKxU2zFl2eb+m3OXHOKW7yPy6sqjeLICt686Ln5I74uHnTxDxVGJqd/THoh+sx4/+65M7roP1KSi9/3Gk02FX8WaHvkW9+6spT4SV6UmuGKWqpLMr4P7z/+x9CXgUVdb2Obe6s5CFTUASgoIsCo5CAkJAlgRF2dEZFnedcRk3hCDjqOMMn9+MnwqETVxmxlFxI2FG+SXg6EhAkUUhQXQgskbZFMIWAmTprjp/3uquphOy7wl1nqefQHfVrVvnVlfXfe973heRS8RJBsvbMypoZVqb/ayvtm2govYzHx/tAJtzOI7kUIratQ4wSzKbYpw5q9OxU/5O9TwtNd01ryrnmrg+sZXu1CLYUJHKUYwtYYETnoWk4pENUEIp2msIm6wJpcleHeDEEcmcMnKKfwer0jWatWnhUMXm4hV+XXxsi+KNxUc7YJsO7SiKaBNMjgqyWqvUqUa4UzGnETLC3cFr1jTeZ8LGMgQ2eNFYRqqe+xkXo41i4RR0I9CJHy8bgS0+JKfPuum4t+6t8MH4w2a3bfuWmP9U1tAx0VukOMMgymBWGSmPXYYV4orGRV4XCKzGFl/txqQNJSMQA8XqIgLaGv28LI35fkAEKOmY7OCBHoAGWBx4oAeNGpaMEG4EuIEJDGiGtVY24aWpom8ogfFFsyCNwpo5KbAMteuKJq0q2wGYyjnrIoxx0ZC9RDQ1NV2v1mSxKn2qyX3GzNk5ulAN5I/E3FeEZjPLvJSE7gCqKhyTN+zvJx4ArGNFHS5GJ+6aTSTTSWRRyvTu5daJjpqdEcNKW0JM21OmdTOZYMVj/NzMFm5xfStMq1ZM63ZP8c9Hzd35DMpmggNbhC19uK25Qm2Jgob3De2jO/TNIvKb5AEdre9NqTmYtGE/vhNdkmKjemGjkbN29lMabWRWNy2f1mXZ3SPDvyCSrDdX5pgOIFbctvFYuNs4s55YbUqK7WD1EXQ2MEru6jn4F5R3OvfonvTdAA5RpoHv3Cp0NSQ85J/Prnr+NmIaSYYxcPo1j62fvOHAK0Ly20Iw47Fkr+tJhQeu2IaTNxyYJiSJQvRvVvz7pH7nl39M3nBwkrDxexLqRcLTkgZ0qNLDfQX7iHIQMMJae11W7vAyaQBmPFjIMHum8L4VopT2zs2rd649cyDzT+Gdu0Nw8ywRJx9YnfLluqd+ey8RQez4SsI9lwj3vEyvRsbnFexHnW02O/2lS0jXBwOAE+Zx7Dl31FN/y0q9pwznYtC666xDDeRANlBRPwMx/KqgTm6HG0xDPHNQkFNRm9ZBPkGV+ulVzR8VjMusE+dwASF+d3W6y9TGKR5vZL4RlHUsJ9JhCmCqSMFfMoUwI5jYW9JhAhNFFe6FdFa0F+AEiWSKyZqgTNYpk0KD9yb0vLdObINf2DD3CofTsb1wEIuwLYqfZ3yMYwWJudhFrcMDKaRZzTJda34U67bFs3luOnrSW1UttC51ixul3HbUcgZs8KKWE9xUmr8uhpob4gAd2gw4jsB5xI5zGTiaXUBnvWKdIjR99RZ3ItxCWAgigSUFJrxuIoFwJx5O3UScIQAyhDJI4wxFKuPi4E4Zf32AS6Ow48EeVP/in1v137BIBOiE/wPMwKo6NDIwyYQQHUAPlJNAhR80e0zGYTUJsTqwMAAkAJ3f4HU0udsLbvzdKw5aY5dAfG/nb4nlFf8GoW6OOlswLhpCoKQk+7TLLCvxDxb6v1Vb3KawVWOOMYm7/iIkjzPRbkP4/1ZM71qio0Rp54jVeN2hcJ3Ficii5AEdywUkRifuxJj/loReTJne7Yny8jdq7q4HWeRlJnl4eUL3EksUxiTu+qOQ/A8r7ZrlUy/b5N/mmMRdPYXkv8T8SMq0rovw2ajZGTew0v6tBaibg2ICXiHhJUkDonyOJKX1adKG/RuI6VRS/yjTenJU4u7pTMZspYzLP5p6+Q7oXTDJr99YmfOGfxuTNxy4W0je8Bf69H6ujZl60+efvf7vgcFhzTYeP3QMgCMAFuhngDE1queQX5y4Z/Z9fZTihISYR+dOXr/vGWF+VkjmJsd2rJBwaunns+8fRAww5SVjf4epSydykQt9wvr9wYpN5tWjxLSaDfWHJQMiz7N/LW8MK/k5XD4waZriZaCgfC0PbrCw/Ix/7cM/t+p2xa+UM+hO1rQeuqvgxz0fvhukWG5JS/wT7l0AhSBUCSC3wdYiz01/KdZkV4iMKMztECtHTPxPEnonoe+FZWVqAxWV/JbU8ub+C1g4VHCQRm1alEsureVe1Vzz+QWGCVxYZb/s0LYOee7pB4ObN2+rTEBCeQUwwaCAICYDmACbtXj8BFDCozVBmWxQJjm0vcooyJzaZ2qFHLZq7qxKb+nlb19umV+gBZUHgg7r7UgQNhetKDjIQW3K0L2oi343tGMcz86n0169CxF6dvUWd5kLlg2t/421P/bss7GOXD30Oy7asZaJTFSxPNukeuhevR/ywJFcn3uFCPdavcVlCtaNWLArXHMLROFQo+wLeIavmNbN5xk+bsGuHrpbBovQYFY0iMTUokDsLgQWMkgogxVl6EwZojjj4yldQecrK/AAjBXRNl7dC/zYglEBgALWqgAnUBvpD1ZglRcTILAtcBPGRBQTSoAfADSwCgGq9atetgbuIVj5BMV+RVUHIT5GW0DCj/rv3yLMSeEhDVMcDGUkJ3Jcxd1KUgzDfceab8gH8lU1H/W53+jEHdcQMa7L4ST0D4O1eSsTLvuuMn2avHH/X0XoPiH+SGn8yJJrIsvUERiduGux6SLDMjNlWndfzW1pxxyTuPNNIbpLmC5bMa0bruciMfaF7yMMp9rKxMnLE7ri+gRL4yPLbWf03J37yZCfCktkTAr+6MQdED77b6Hw2d9CBwRfK0L5SbFR57mDFD/OpA379zHR50tio8AGoFGJu5YxSZeUhG5X3j0ivD8xbdDdRru3Pz19xH/fSRsOoC+tk2I7QIDTF3M2vTSSWFacPnH6/T9d/yScWFDWBQAIbAE9MW3hPSL0DyFJfrzPlEkT1+/7NTO/LkQfJsdGgSVVpfDoZTBKfa4kpieT+kcBtCwSE9fvG89KPUEiOK8nD+funr0mLq608o0q9aOUncCWAPiA8wPlD+yUWzqPueWhdn0GTOgQN+pi5XSGZO/d9dPR775en7tn1/3blr5uaVdYJW7xhULGsV6dn6LIY032tBJtzdr6SlsucA1moqFCPI7Zd7/fI8JJOrkXP9F36gVhZWoDFZW4cOpx0/gY54Mk4gOMmwqAAWHOrOPngIvA5uH6wBlTVHDb1kXnSCI5FijhKetQe1n0TN1Nma3bhe29p9M9AFWbVFwXHXCFQcZ2nBSS0aFdM9PBzQ5PBvyf+w3i2DXpriqJn9v5rFwG7Euwcvm6oLeOi3E8yWKu1perPFzZRPkLcRbf1+0u8DmSVNS6qLLHr+72efk6HTlHN9yVmu721dNbbXtXtX2r8wYZI1YmXA5rvlJj1NydnZVBXltVGgSKundjUPpNhoahOIOJMhRrGR9N7Xy4lMbwXUcpBqjGEDCEpsUt3hVMgBMQ+cTKJlYpIeIEcCOjUJ8LDypY/cUkCi4pEO8C6wKr2bANQ5/A7sDksMgErSI5ndCDAo4HO5JFPGKwCLAtWoYHmOVJDTngSgIAA7RBv/jOYDVxTVpBEXHGhnwepfVt1JzvpzKrJ02TWZG/LJ/ebUFlzmPyhv1PiCkKy1sMkWlLB0SVSc8fnbjjAyK+iZlmLJ/WDXaXpcbYeXuvMgx3EhFnpiR0LdFTfXTiLmh5PHZw80c3bnnvcWhqQBTTnAyOTtyJyfmUlIRuvt/AUYm7viQyAkNjm2GbEUmxUSZVv6yYtGG/m5jnJfXvYOpRjE7ccQw2sCkJ3SbcMzLsOSG++82Vp4rUNN+yfv8Qg2kNCf82aUCHItZ7c9Je+pxIotmQYQl9p4Cm3aMQSHwTbY96eGzisHuunydEOdP7PNp14vp9N7BS/yJDdh3O79B3TRxXCUiYuOHHMUwQ+qRdJMZTSQMuMcsDrZgpojK+OvA8iQleblIaPfH+NWWPZXl5K+VzsEvAv7W0dqzN/JkTr142/vbULhPuDmvRuXsvEsM4+OWq7J82pH6158N30G84suA3CoLFGGOwVUq7J1axm1Xfbe6WRb0MXR9MQiOI+UZfSyL/JsXvTo95tFJMp6r3pP72tIGK+st9TRzZ/zkQ7UE0u3WLAII9eWOM3AKdjp4oIPEKrWsBAe5e996e0q7XL74Ca0Jzqr1u3ZH5eJ8HTEHmCzHiox3QMoIwPLVuHkghwQ2DCVvfY1GkZISoxOf++u5jUz1+47zbNNXRaODnNax3QA9hY5vVzZosHSnLktTfsQTHvuOhOeTvINIQ0nYsu8An6shEs1alu39XUr9GJn4/TpGCewc58/SLPnzqCqyuVirGLvw+QnfBepUHk+JBJIKVScRxIfaUnJBhsjQ0MjKWTbvih2IHwPfeqqXHrxBWMvHgD9V90LOXemvBUTcOpsWdXmFQABrYBmAH9sPE68PCf2OVvkhpzNgXvg8TpxrjdnBKaQyRob2ohVIOMFJ8+haop0RdZWMKlJHg5RcHDeHxa7a4alO8sE5SNGbW950MjZ9n4okkvIyZ5i1P6FphjYDJ6w78SpQkE/MxEf3x5NhLwCAoMYayNvm1AAAgAElEQVTOXO0IDY8Ee2c4Ez+8PKFrma4Vo+fsuI+YUQI1NSWh23lMgRELdl2mueVbInklJaG7JXZpHntM4q4hQrLGMOjWlY93M8VFxyTufE2I7g+NDfqzEP8hKTaq3N/HSRv245H3ieTYKAB4HrFOof9Nmd7tj3ePCv+viGx4a2XOff4nPHnD/vnCdGtwuw5Rb3Zi30rdnE0LHiDmV4nkhel9psC9wwotrFXYXZGXd/jz3bPuax8Q4Oj3FY0/S27TWaSdxtT/vf5RldHK8TU8ceOBJ1nkORJZZji13y/tG1lkpX/Shv0jcH5MNIRJ/qwLP7d0QPnWtlW8OMEwARMFLJb23odlTBg2tI2Ova71ldGvXHlvwgnlDIjOPX4kzxkc8lcVFPL3pQOiALICuMF4AWBDeQgYY7CfxYphvTEtXvj+9TB1+sxgBe0KknFMjHsq4jDENlnJ203ZytQGKqr4TWjgu8X1djzDbDrzmOF0KJONi4WHxhTFdMrQ9WwSGpu6xV0njmqNJVcQUGfPIpXpNAPHGTvILDPylRAz/Tk1zQ2Wpx11kIFyH87qoA/2IRpRBoZFO9YWel6bpSMtwgJM55GaiLLAC3+2xY7v1jU48OI8tWHhvmVNXEcuyrxY5bs+SEnoBmeBGokbEre1CjAcg0VTg1hosJBgFRMB+xNPyQmBpWGyKTJWTOuGvyUFykWeLNTRAPiCF0pTXvcDNLAfVjPBxsC/oe4/rbjF6sg5e7op1gFMYAIBmuEXQrRC0znl/z3edfvA7hQW2MzxMbE5WTGjeajTfDXGgK3qMUu0yXMCR4h5RGqaK70xnk/xPo9J3HmrkOk21I1EnnWogHnLpnWqUHnMpHX7rmTFHwhRVyF5Jjm2o892r/hxrnt+T/PAAPcKJh4opO5ekdClVLAD+45K3PF3Jv6NpTFRvD0vw+I2YbqmeHnJ6MSdeUy8enlC1xHYz7Jibda72YMcJK9wQX7HJUNKdjTB9rdvzmrvcuUdUorvfr9fh7e8ZV/bhNQtKxK6LPHqXYx/Y2UOvgdmwH5Uc+jrUPaRFNsRTAYzFm1bFJqXa4Bx4HI6ZVhxq7vZmxYmMuN7Jo+lBdz5tn7mNICL6xQbw9/vf0lpmjqlXnozV4vj+8ADi4XpFgi0Jg+ImlF848kb9v2vECeQ0F6ljISqHKeS134nLzgKHRKApstbXX7VvV0n35d3yfBx7Zi5fd7xozudzUL+tvzm2OvyTxxDSRzuT2CNQLPnaq9TEuxSsyt57BrbfN7Wl7vrbvdgEsZ1BUaZOaNjprWG0JLgHLX44bgGaWUK9l20txywvHygfAf2jWDKQGCwiMX2HaNCr9BILSWhnn4NnSTiNSTyObFa8+bKk7VhPVlev+3PaygDw2Ic03HvsJrDZKJV8wAKCa6ZZ8Ia6mapzZw4VUA5fgLcQryfFf2qsVug10beBsVQe6c4DlltQ7C/oTNjayMP/m36uwvifVHa5as3518QZX61nduKtG+DFxXJkr2NLwNx0c77mcSkOjsdTO0vKiqkXNVUVQe8+MsrX1FER3OObIZVZvL9d2vpvumvUe6ZU/T0gzDZ8AS2R/i/V9V+Y79TZ1x0Mse78t6A1IbHzNzcTA8PHayRNkhYQFX2V0E2hUE9OhpsAhrBkpWxNGGAx+vVE7AlxIlBMwNUbDAwThRqW/Qlone9D62WbsZ5KRw6MzMoLMzdizS5WgyCG0Mv052AKSjvP3fkGofTfBcPykTCmjWOh57SrhUg8EdP5Ps9xfOPxGpYalr+nupcXw1l3+GztoYEaM2eJ5JHiOlLEklMSegO5k25gdKD7RsPrGCiGwt96/+a1D8K9P4Sw6tXAQZGLxGeuGJ6VzCBSoxxs3f10FmSiOnnlIRu1xffaGRixi8UaVtJ6M9gQ/h/PnruzndI6DardGT0nB3DiPkzx0XaU4FdA55jxaOX9OtQqo7LpHX7+pJilHaMTIqN+njMnJ0PCNOrhSyGXq1T+3ZgoZQfzp5yrlljsgLMmLT+wFRimauYrn6/f5SvPGLOpoV/Nlh7ukAP+P3T/e4tYkU8e/P8e5kU2FHvTe/z6G2T1u97i5jvZKL7l8RG4f1KxaQNP1xBosCGiSTFTyb1K1q6MnHjgTgmeYKEbiCSRMPpenZpn8tqGwzAZBgsFIhzPjjo+df/EDF0OHR/TC2RMz8d+PLQus82pc95Bjd6OLcAFMD9CP/GpBv3F+QTDJQiE+lKJacKG89cPdMREt56sMY8xDCM8Ux8lbeZMyS4NrV3pvd52GNJ2LAD+i8QQUVpo8UIAsMOIAXG36KXQXsEwBFKB0ElX+h1ofKd3YOjmrfMFfqHDVQ07AGvbu+GRWu3CzH0aHwR2sxB0KtqqGUkEOY8kVNAEN/2iw2sOW5ftSnvPP2k6uaoqew/LMb5lojgnlvjZeONMUcnsgsoxyvQX/j7syw13Q13PjvqKAM2eFFHiW4qhxk6lBwq23GY2KOyXFPCnWWBFwAbWrXpQG+/7Fmo9C8bQUlJ+6iu9Lc5D1DG1i/Iagfb4b3REx+nzt1jzH3Xpy6h2tDMOJSVR27d+iHkX6emu4o4CzSksZ85U1Ra+O5BBstgMDQIL6YA9FFIfgA7A4AGXromGYboGZ8k9Cxu3QXNDDyMg3EB4cEKx5jZOy4/mzL2b3Jqjw9IaRUeQHjgaQqRV+DVPvFOn4Rosxx3D1rzQ9Px/fY66IA90U9EFpLieSWJZpY0nhPX73uJmR8WkX8rg36z5NqOvtUc/+1Hz9/TlXR9BSbYQjJxxbRupYIIoxN3wh3jH0Lq8RUJXUxV9CJtJe76K5HcaLid16z8Xaefrc/GzNn5S2H5J5G6ISWh66cjX9x2sXI4vyMHLwvpG3RX/o/fzD31/E3/T1jas1ItSSiUWBxskJDi3MC+47oEXnPztII9WyaeWTdreeiYnX9nRf2Dsl09Qr/qv1AUD3xzxSmrpMs87KT1+78gpuyk2Ciwl8yYm7boCsPQv91vXLnvJ6NLjjA/ldw/Cq5ANOfr+QOE1b8KdUDOTO/zaJfJ6/c9J8wo9fi/JQM6VtrdZtL6AxOIBUyFTULGU8mxlxSxPZ60Yd/T5GFbnDREn7J04KVVFuGtxPcZk+YFEQOvm3j5nY/coTT1+9Y9e4eK0E9MlPz1X6a7Mlcko5wN7BD0HULCWOGCsCv+XWmtnUr0rcRNZ6976RIOkkFEfCOJMZ6IQ7wbbkE5iCLX4ml9pjVGK1N/9yowR6C3AtACQDPu9wArUT6IkgGAF9BBAl2u0uWP1R0De/+GkYFhvR2xwqYOFvR5zHBoipqHOhoUCwOaFidPuyjnzHl252+kpuvQ9KpT0LNhjF7FexEX4+zHIj4xyotbBzW6MqGKn23ZW7rdQoeOnlvnY4OGr/rGXWkGZE3150JsxwYvLsRRr+Y5D4txPCtiOkyYNy/cxKobZQl25uWerhT44A9oXP6LQTRywlQTuHhj/qN0z2ML6ZpBN/vaq26/T51x08kcj8ezsGSuTtNhO9roYty8nf102PR59CfwwkMpAmJ3Jphh6O4dup67Y+OiO4dkH9iGzx/z1ppX+Hzjox1YWfVZSbUMC6CwGio9qnAnannD4l7xTJy0Kt2FFc0mFaPm7nyGhZ8ikh+EjNkrEi5HeVG5MWnjgakkMpeEthm68dulgy6BXe95MXLuzl4KDjZCTmKemDKt65rSGh81Z+erzPSA6OoXK2Z0+a//dl73lK+I+MmUhK7PW59ZDifMknzmze4J4tCGOC4d/aJk72lBp/cFGwVnK1XAzaERbg6NytJ//mpu+1ZBTzgD+PW3Vub4rF8nrds3jhQvIzEmJg24xMcmSdz80ptnjPC7truHnDRY/SspNupe9HHulrktDN2Byfr1wkafza6b+ovwS8z0/pL+UXANqlRMXL/vWWZ+hkiWMOlPLont5NPCmbz+4AAh43fENE5IXtWcjmfe7xNRXYE6TGrBjMB3vrvX8Qh2zNBMgcMRmBI/jXhnZY+f0zd92GnUxObOZqHtcg78cPz0vr3/jhx4Y8L7/dvh/gOgB6UgaGui1/kIq/11GrO+eilW02SIQTSeiXxUPpQAKZH3Evo+5isPqtOOVe9gYYVOLpcR0f1eRxcAYmD+QBAa1x6uRbhmQSgaQs4Qvn3Qa6uNkjisVEPbB6vv/qy96vXK3rtBZWDBxgXhBQ6O0JgidIMjmSmi0JkpspBFF0FCkbrLFbntvX9G7l/3dZF7ZmCAZoIY0EmozwBgkX3mPHcwiC1PSU1zFbFnr89+NvRjx0U7/sme+/AFzb44nl1Ap8+xLj5NTXebVul21F0GbPCi7nLdZI407BpqLW4HrA9N2j/qHEOrWedYFvPCP3GlMScASgwebjLazDhx7JDJvED4l47UZMkI/MB/ysoj3bCW2XlK6hZXnT9U19aFNXrOjqtFQRgUYAYPgjggjqUX5LrZEbhFKVhLeuxbNcUZy6Z0LbM8Iq6PNo4NNsVKEQAtAF40xYDvN/y/rRCmp1anueF20aRi7LzvrzJEe55ERjDxO0xq/kcJl5UrVGo6ZbB5LRQw8yNL+ncoQj22kjR27vcDdVErmAT6GhNTErqjTOO8GDkno5tiDboH2SkJ3YpYEmPjMYm73hYyrskryLnms9/3MUsgRkxZ9Kxxavcz+qHVZBwtgnfUyBixKf7Gy0gZy1al6cu85R79k2KjMJE3I3HzguFC/Mn37oGZ2cZFLcVlRC8dcmmm57OFcBZ5jIke3qiPO8QG/4uZv1rSv0OltHImrN8fzEzvMtFNTPznJbEdioiKTdx4YDqLwB5ZsdBDSwZEVagUqIwk4XfhoUJg8w/e1XmAF1ilh2gqgAi8Xujyq7tyYhL+3IwU3U1CAUe2bMxqcWnX3384shdKP+Z6SxjgGgINDNxbipTT1MggldHIrHWz2qrgoEFkwBXEZFeA/YHl2V1EksQO9fb0Xo/srO1+1GD7cM9BeQ1yibyGerWMAF7A+hrgBNgsGCtsg+sE4Bt0MPBwDiYGwAsI3MJNC3oWYGqAkYHvb52OTw3m5YJuaubq1Y7Q5tsiNaIIXTdMYEKEI5koAv82SCKZFMAKAF3F40ci3ktsZMI6dNvbS9vt37B5guF2mc8KVgQFahQarJkT3roKaJFBkDPnrE66UaREBF34SJT2O1ujoHKjMayXs68o8f0GX9QioE7HtHK9rZ2tTXbt8XPPdkQ0LDXdnVo7R7NbLS0DNnhhXxtVysCwGMcfRcwHHVKKKaJNULVqHKsKXoBl0aPXEJ/OxYfv/IWKl5JYbItPli2iG8Y/XGNOJaib9KMgfp+a7r6iSslsRDuNnbe3u6G7TOtWJgVA4xJv90E/MbUzmDjDQOmJgzOatb8sY+lE1m/oSa1cgQ6stKI+3bRXa9OyaStWg6J6ys+FRDEN+izNXSLLoBFdAiV2dcy8nQ+IIZikOon4hYiQrvP++gAXsWApvuPkrw9GiVv/mJh7EtOfkvpH+dTr/bcdnbhrOJPADWcXEU9cntDV53jkv92YuTvuEOHFxRkW2MZyF4EzyZm3rzhBxPcw03kgh397mmLSNCb8VRpUF9n0tzehykL1UjwPA7jEgzHEu8oMzXE8ePCdYYFXDl30wT23YrJnRuLmhauOGhGD9ujXgKUwpdCe1QQ/56a9dL8h8pqIvL1JJiwkXU8mMoIcrPq+27/DgYpeL5PX/9BbWIMVcYjG/OT7sR18AqgTNv4Yo0SbQSSTiGUxu+nJ0sp4Kno873YALwCArCKiWX77diCilYMT33qv1RW9xga2aBUrhnGCFS/Jydzz0cpb47DqD20dMDOwP7Qj8IyC0gVcG7W+sv/i14t6OZQxRIjHEUmc1XcmWiFMSxqRlSnyBqAC4MrZQmkmgFMAlHD/GVJY8vWx1xobq874HDbZCCD+0DTC+8sxXkT0CRxfiCjHOx6458M1BY4uCLCZUFpogxeV/KLUxeYA4RzOZhGGUyLIMCKJ2GRLAJww8NdkUVDb8/vCRy1QQhHvNZgzyaDMADb2Ho85njmTZ56HCKCNEV0oML+5439ITOCrSDg0ppAgBzULdpiaabURsD49m6ubFuZe99Nzh2HaySLPrkrXodllRxUyEN9be5mYwb4ih1f3rnZGsgqdq4NdfjqaRy63r0z87dR017lV0zo4vn0ITwYupGvOHvOazQDHR2u7idgsk4DYIkQXqxpVAS82rllqsip+2r+LZj091ndosCuCQ8J9Ohhga9xy33P088Hd1OHSnjVSMpJfoNNhf/RV5NbULbppuXihxcjZey/RNNdgQdkJg6FhUsS9wTuho5H76R2djSObf4E3MSFs3zrIBL2aehw5kU95+T6nxk2p6W7U9zfJGPli5sVKK3gBYpKeSQ/Ph5ZEeSc7aeP+ZSQQYJQ3k2I7Qr/ivBiduOMmIv6AiTeTrk9cPuNyk51QPEbP2fESMT+shKM/mt51i//nN952/7fuH1Z0N3IPl3ijArU5KECZpXBOpzJBi4oGoAu326B8l0G4N+QVCOk+HZxirQi/ZxDNHfvXxKtRK75VH/5zgTTbvqR/1DBsmZi2YJAIg7J/amPB+HgF+j7TANZl8JJrO66taJ8mbzxwh4gsJqG1hjKeWtr/XHnO5I0HHxbRpxMxVuMfSoqNqumHeZRJYUKM1frssZ9+H3Es/Yu5LS67Ykxoh0uDxTD+u+ufbwYc3vj5wkMbUl/ynhOAFYwNRDrxPcEXx6OuXEvxwpcvhDkCQwYRy41MKJkh6PkAnfqJhJLY4HcT+j1aLpOolrqHZsG3Rw4x7uWJpl5MRNBbAmiBJW48YYPiDdYSbIfhEIUyHKyKA5hA2R8AIoAVZqkSeZzEwLgAiGHZYqOWG18GAGtgXIKhAfADOhcQc8Z7GDOfnkwt5sNu2i8DcCk6fdYV6WCnCUwIU4RSACUkkllFkAgWCwBOFLfxgiBrJhPtFaZMEs4Ukr2sJNNZQJlT+k+Bi0+1Ij4m8DIR9wwmLlGcGeAFGBm47+KeW5n7rX/HABznu3SCEOfZfJ0KQfQS+s0/MtPcVWmu8yy1q3WSF+DON8RSK1e+43vvd7/az/6NKYXFFizzSNyXp24xWWx21HEGKv50Vscdsw/X8DMQ31u7hZgh3mVGmxaBFBxUtdrG6oAX/m4iFhPDKhuBiCfCciQ5tO/7GnEZ+flYnr9ata00XOxyHTtvbztdLxislBrkylw5uuDLx2GDaMaFRDU8z06riZaP+A//6MTdN5HozxHz5UTyvFLOeR9N7YxJU6kxceP+WSxmWcEqxQG3ebUOimw/ds6u2w2Wt0XoC03Ln/jR1F+c1+aouTs7MyZXhrhSpnc3bXjjo533wVzIjyXkazcYq4CByrxv1bQ6PtTsz+Z5VgDd+vkP1BF9e58KHzvFONZqaAsSHpM0oEPKc1+91DpAk2Qmiiclvb4uuOnpQm2QCcx8Z2mlNSUlddLG/S+SQOBS3jTy9CeXxnmESmFbS0wzADAJ0z+VuGf4a1/U4K8OVnL/3eXmu5Z2Hjs5Niyq80hHs2ZawelTawNDm//j8v6Ri2cyj/eWkuAvyhAw/pgIY/JcIRveqvR33qZ53UU5hhgewGykrw2mz0k4yXCGL55x9Z1nqtJ2LeyDUhXoo4A1YdlbI1cQSATQsL2wBASAH0o9IFYLnRIwIaBJBIACzmCYiELtenRhjk97+/gX7/vrvKUhAJtwzmDH/LOQsQFNFYAgcLMBJRrACC5iaJZAiBSTYYh2gz9da2NVC/lsNE0mJydr+6/IiqACPVIAQAhHKpMtgTIOimClIsQDTlj6VH6XMu3zgBKS6SnroEzdoEwnB+yd1ueBOhWSje9NlzA54MSE6xTXUYmhKWWyMbCab7LeFBOrcyusuPh8bDddyKUb5HYJoXy3jNggwn9fvcX1j0Yz8I2go8NitLtEGIw4M2pKuL8hn3punk5ZJ8+VizDxI6vSXShptKMeMmCDF/WQ9KZ0yLho5ztMchvOCT827VoHmkrTlY2qgBcQ4LQ0MIKCUb7r0brYuW0DxQwYQyuXziOUkSAsTYwvPl1sCndWJ4pZJOUbpF25Jj1/d3XabMr7xkc7IOzWG+cY0kyj1uFNu1yk+Fj6i7pCud9wujuv+YoqTP1vjNcGXG02he16gdmckG4UkvkrErpjxbbUmLh+36+Z+XViBtX9rqT+HXzK5tZOnvIU1Ofzx8GBBROXPtzTmoz52h05e+ctStF7eubyv+WvewITPdDkfYGH5LAQzVTCr+pqX2XHBCKuqL/G3yLBGgUPnPTVigWL++P9OWkLF5LQI4r5gY2usVeQ8NRCG6A/JQ0ouaSmeD9u23gs3GWcTWKmG4nkD0mxHT03QMw6N+y/lwjaFqorkzxUFZvVip73xA0/jjmVuft/m3fqdrU7L1fPP5b1cWDbti/9a3BXlCBYgQnwAu8qP8oZwNjxiYhW9FjlbQcr07CwNoOIjRtZGIKkFjPsFDElkRjvT+/zWF1YmeJ8b8S17QUJMKEqT+gS902wYgBiQLQUeYIwKAAKOD1B/wT6IMgdSnQsFxCkBb/LEBYFiwfXAUAiWF0jQOnHxPdFr4bFLYXsC9yT4JryDhFBnwe17WDmgAWD7yTGptgFXF727c9Ly8Dsza9dxHp+pCiOUBpFkMEmc8LHlgAwwVxEO8Lb1nGic6AEtCYUqb1uzZ159uSJzJlxM4vbaTSYQRjWW/uVwepXTAKqrM8qvWY7KGAEL2ODk1d94wKoZ0ctZCA+WnuDiO9G05hItm0dRIHOyj/710LXarxJLEIdPp5H0FExg+mfqWluMNnsqKcM2OBFPSW+qRwW4p3kdm4RkiicEyiAbVs1vMlpTbmMYAJy/JTHXQQhxA+sTnf9tamMZ02fR3xv52+JxVTzZhTXtgkqMmEsy2XG7S7wAVC1YXFb0+daVnuHj+WZJQWei0ZeSd2iYyW1ycfo2TuuFUXPM/FAYXMVeP6Kad2sFeTzzn/SxgP9SeTfJBTIRL9ZMiDKx+yyNh6VuGM6E89GzX2fU10nzpzJ59VeD//lzRvcmR+ZgIAVGuz7Qhz1asuLawA6OWBjFIsvrr73zi87XNP7KRF6Y7M+brsIzyLiN5JiO0Aksdy45asDsWJIspC4mLQnl8RGQsCUJqzf30XBZpTpfmJeqZFMfa9/FEQxayzmfL0oaqO65ZRyn76NxHyg7Wu4C/bsWvpm87PHjjyy893XzL7UVczbPK+jWxxDWMk4T0mSWUaBL18aoxyE9Xfq2MoUwpYoK4QODLQhwHIAcAOmxO1ePQ8AFSjvwHULfQ+wH1D6BB0Q6AVhP7AtoA0CsAKr2HBtedprI4uHaTj+oNwDAWFUlIagpAP5xyoh/qIvAEAg0gkrXLwHvZoSxXDraszq8DgAbSBCCmZKdQI0U7BTwCoEswm6IEXAnVmbFg41HTpETNaEH1vC49ZBXKyETQrAlGCmTMMLShisZ7JBmS4O3Pv7Pg+UVzpUnfOps31nEqm10Y7hAt0hMQG4PtUAM2C3/TULfakLr1rzjeubOjuRC/hAQ4dSkDrlADhk2oE7NTYBjLpaEKir1IPZA4FOMCm9vyE/GKz3XZNm3rvtqKcM2OBFPSW+KR02ro82kg3GQ5AZcB6BA0lDCpSNnDx+uIg2RmX7V9wCk0T+nrpFByXdjlIy4NVFgZo9tQh1Unho0dLbshg3KAHq3D3G1ChB3PHQnBoTW63rASt+7WiG1u0/3+TX6ASyrs+pMscbnbhzhtfJ4ICQzFuR0B2TtBJjwuY9zZXLmUrE0UT8h6TYDj72gLXDqMQdfyyUz/wfYl6cMq0rVrLNGN6XonTd8TfxuCP4ojmuvRA4rlam17W3LRTLs3Nc5wAtL7jXY9JNh44Omfu4YRgAbVYnxUbFV6QXk9bvv5+YXhPi/yjdeGrJtR1NnYaJG/ffzsIJRNKbxJiWNOCSeRVpr6LbJH49/8Ycvui3h40ukceMCJQcYEK9ipiST2Qff/fTG662RBxBdytH1bSiRy15uzlpC/oTscWuwKQSgSfOJFK0ZHr0o2Aq1FcAHIDQJSxJLSFbsBoAVFhlGQARwK4AUw0lHtAMuRmXtVe7AiAHJnkQQj3i/fuZd9KMUgCI6MHmGowLoGO/J6KHvcfAuGCyjjHATRjXAVgXZYrq1leyqnBcfLOx7Iu/0I6BqG9p7DYAPr/z5vY85pb32AAmUI6BkhjkDCsyyD+uJ7joAHwGewClMxATRp6h74Nx9gVAPVLGPusNJjog/loThmQKa3uVQ2Um9HoQ9rQXbAyNCbicDb0bk7qESdobLK1ZFCi1zkJBZ2GmPBHjFDNnkcEHScneAnJ/vzbNLGOyox4ycH1vZx+DZZ14tIpM5gUWL7FQ1VQCwAV+r61QiuI+2+wu1ba9qZx3Qz+PpnOFNfRMN/H+xUU7ZrDnYcgMTFIxWa3vuOn2p2nkhKmUk33UJ+BZlT5BDOrIiTyferUQfbk63Q1xSjtKycCw3s7fCAtqs02Rzsg257NEywIv/NkWO75b16jBC+SgiHgny8LUNN1S+L8griGvnSno7jcx81Imff5H0y5HzX2JMXnj/vdECHT215NioyxBQd+2o+fsfIHYnIS8mpLQ7cG43o5hzLTYK1BnbgdXm+ZhARRQS8r21R04uNHAlcY/gofcdTZ04p+OKKej7/t9Ispd3Zm0YT9W8B8l4lfy81xPLYvrdBJOLqQbjwvRFCH6XNONh9+/9pISXVoqew6vbX7NeVrybzkmkY+clPZ9jxkg3YlbY+NDgx1vLenXwQdke1floKHwq8JXjfrRLkhf0KZApyGseByJ6Q5iWTl+b5aDuPm96f0ahJUpSjHAdIBYYGmr/Shvwgo+gAwwA8CuAAAH3RaAHCgJgd5EM+9kGd+HNO/YWeAefn9RmoUBwXWDSR3KTQBiYDH8k3AAACAASURBVFtMyNEWNDAg2NjYAkAB2Cm4ZxTvP8ReAR4AAIL2B8C/0sReY7xjAdATIBFACvxOIV94JgZIAWYXvpgockfeIVCIscN7ACqwHe410HEAkyzIm8wi/Zq5bWZA8NkWnVpw8N4H+jzQVICixnbd2P2txQygFEiYoctjRmAAnOQCalxDqhZPoeSmhUyNC/9ST2a5e1Wa7nPsqvM+2Qf0ZcAGL+yLocYyEB+jLSBhn6AEVjpbhNU/gFHdE/QAF/kkXmEoYcnUSB/6WRr5VlSqe4ymuH98jOMrErNeukTWBd6vKnhRUrlJXu5pk6UB3RO40PgLueJYYN8gnn4QZeDndFCs3G//5nMfMwesjzYXX0IOZwC1bB1B+CwlebbZLv6P8C9rKan94mMK1xFcR94oCHS623z8lTmRuKBiVOKOu5j5OTIomJWaExSQP78k7QokZfL6fc8IM+r4V6s8beL7cUUn85a7iGvrwo9d370CVwZf4N6De1BDD9BRUYp2jpZKpMLbfvbZmkPXl9X3CV/81EY53aYTiZA8ldy/IyZtNHnjAQAFCSISyyRPL4ntiLKDakfi+sRIlxZ0+zG+9LfHjYhLc6Q1KSnIMijgddJ4SVK/DltLOAjKNVC2AfvTcoGY8jo5J33B1WSoG5llnAjFWtuL8HJSRtLjMVNq2jWlvC5V5HOsHmN1HuNTVqkC2CKYEEOIFoAUwE3YkYOhtYyIUD6ESTRYTGD8AdAAm2OilwWASbQFUGCpEJNlAEcANcDQaOwBK3LohEC7o7hYL8AenDOYPgAScN2BVdHe66QCQAdsJGiMtPBejwAa4HQD2jsWIsDIuNQrcorvEDQ+8D70P3BMgE9QAEf5G56dYT8LkAMlQADmMB4YJ1sXpLFfaXb/K5WBuGjn/YVsGXwvzAgIUHRR84Aq6d9V6sC1tDFKRY6eKCjCuBDihNXpLugL2dEAMmCDFw1gEJpSF+KjnW8TCVYuzAgLcVDLsIZVQlKZfAN1PQrg4txOx4h5eGqaC9ReO0rJwLBoxyDxPOiZj3lRbYNLpBKWBV4AbGjVpkOJZSPFgQiLpXE864AJTviXnKxPXeITdv167QemYGtpn+/dkWYCGJZrjb/Aa/FjYpv2UV0rxegp4lIjPCV1iwv2gxdcjJ+b2cJFrudZTEvGVV5b1RIndhM37v8lCyZh8gNpNDHpmo5FRNhuuOPh9a5tr/kmsqi5RdkaWBeNJYCLnjhVQKdzz2lhMNEnrfLcY5dup3MiO94TmrDuh3hWWnKh8OYRYu3JpP6R/++mdbvbBqjA6SQ0nZjSWZeHrPKR6uRhzqYFvXO1Vvcfc1186zGjQ3g+hZBDCv7rpoDXDKL3lg6IOl6d9svaF1aQZ3P1IYp4HDFBvwIuJrilHCDiJIPV+4/HPGQxEGqrGxVq98FRzVvmGsYQUsr55ops30qkdzL9L6/Apu8B39soJssoHUEpCIAXgBYAOsAiWekVz4SOBZgEeA+f/9sroglGAH6HUA4DEBQXPAASgB3QvUBZAxgao7xlJhU6jzrYaFohkPVIIRjQ0vvCIdF/OJ7AgrW0ABCBPIL5AM0KgBDICxgTuI9AOwFsCoiRIhdgU4CJAW0PABfIPcALMINA+wbggdyhHxA1BUMFZTmwl0VZG1BqgO8ANdA3aLnA3SXRr4NAR3FNolwHIAfy3RSAojq4DOxDNKUMxEc7HyES3/OMQ2Nq3TyQAgMal4inuZiQnU8F7nNP/Uz0xKp0t49Z3pTGrbGeiw1eNNaRa8D9jo9xvkcioHub0SzIYaKw5lpFI4ri4pzwtWehMau2uCHMZUcZGYjvrb1MzKjBNgUSW4WXDGCVJdhpMSlKAh9KOrQ/uGCVC2FfgBX+gq0WM+O7tM+KOM/4bzNw2K0+vQ20YfWzOJujshdBzlm3OUn1xobUdDceuC/YGDN39wgh43kSuoqYE4nV/JSpl53HaJqw8cceylBriLkVk3HbktiOpgDkeSs+TmU+MMFyrzFG9mkX4eUXn6amu+FQ4XuSmrxhP0pB5hPJcjLoqaSBHf876asDo8kQiMMMJZK/JMV2RF1+tSJx86Lhx+Xix05KuxFH9SgWVuKU/E/cEvjXJQOiPqxW42XsPOebl7qR27iRCc4g5Kf5IatJKMkIyH9nxtUz6tXK9P4xYRfl62oIiwwhliFEfJV1SkyU8MbKU8VX6DBZR4nCTV4xTmtzTIox8cZflHxgMg3wAqwLlJHgZoHFAIhsgjKGFf6ynK0Ahvxv4ST/F96JPtgCDY3dBQAGwpPQ3bCAL4AOcCYa6gUlAApYwr4ACyBcimsOoAzcYtAGdCjAQEFeO3uBC+QRoA50QrAf7BzxOwQRR6ukA0wYtGMxUsDUANgEwAKlKQAhQA0Hkwj3oh+9/QTTAiUmEEjFDxpAkf94hVgBYABYQRmb/XxQWzcHu90GnYH4GOe9hW45sFf2BZ798AzYGOJMrkeQ3999l5kfW5Xmwv3GjgaUgcb5hNeAEmh3peQMxMVof2fh31ifOjGpCA+ggEZipYQJJiaa54J/NIR+tWaLyxTCs6PsDMRHO0DrNVdJ27YKoqBS0PeqWuRaR7cYEtb/D+373mReFAcb/IGN4va6/mdiASYAL4qzKiy7XWxfvGSkotcD6IgHDsNIwBMGqyvWpBWACn5Bx+i5O58loWcwSfHaqpZYVzpp4/7PSWgwMT159KFLM4XYZ78ahHtMy8BGr3YON5ITOUXIFh+mprsh3Ai7UzwY3svEc4PyXE+dcRuBHOKczswJJPSDiDyUPLCjh/FUhUiWZG1/+uFbjuidp58w2vXKlnakKf0kGfr7BgW8tSQ2qjQdgSoczbMLjvlj+uEhyqNbgRITlEIgThJzEomeVEdWpiWew90jQy5mcQwxSIawosEk1NNvw8NCsp2JtzPzNjJ0rMxvf+Pj01nFGsO9EBNdXK+YNKO0AJNwlBkAYMBEGLoX+A7gMzg0wf2jVkVOqzxo1dsRzIgeXrDBagk6FGCYoPQLTioIS+wV2yOQJwAEuL6tzyCQCcAB9wvkDkAPSj0gqIlyGrAlsA3yD/HNP3uBD7AyoENiObNYmhl7vSAGWCv7vRoh2A5tALjA9WkJBKPMB6AHGCB4WEB5G8axKY5Z9Ubc3vuCycCwGG28CMNuGVo/ZoQEayYDW6mGOeU0mY85BaaduRVMZIiS21M363CJsqOBZaBhXkkNLEl2d6qWgbhox1/YQ830RYuwAAoPabgobEGBQcdzitafYyXF7Xbc9sW3eZlVy8SFtVd8tAOrpaBBk8PBFHFR6XbuVQUvAEZEdLyc/NkZJWlaXDPoZvpk2SK6YfzDPqeS4qyMkkanrJIQf7ZIVUAMUwQqz1MW7bzyvt3OXgmvMxtb2SFbP3r0cti+XZAxav7uGHbrLxDzMGF6E+yCldO6nWd7N2n9vlfde9MeOJF4zmYd1NS2LZuOyvmpM2466QdgqNCWi1u/mN6NhHqIyFPJAzoumrDxx+tZVAIT3Sgkc5NjO2JluEoxd/Nr7c8YwfedoIgHjhntI3IlnJyUt8dFgS+zTkuWXNuxRq/L5zfP6+hkdQOLya5AWYMVX6McRDf4vd9d8zDsJ+s07hwdHKkM5xARGcLMQ7wAg9kHIfqJhbYzw8mCtwsb240A2r74w5xjFewkWBEoc0BpguViAYYMdBwuJJ0EWLjCVQXlGWBDgGUBHQ8wKABe4C+YExZIAPcU6/8AGaDjYZWYWXawUwvLPGBZjjZR7gGtELA/z3odQsBdB3MF+0PPAsAGGCnFARKU3YARAscSlJLg73deJgxAK+jQgBrfGAVPK3iZ2pvZGaheBoZFB1xFZLwunnudGSjnxPM/gIyGFGBbgO3o1v0wR6ZtQvyb1WmuGgfrG9K5N+a+2OBFYx69RtD3+GjnPUSm44Sv8C0oAA4ATtNWqaEEblunclyUfaa4ILi8mZquQyjNXk2p4GDFxzj+j8SsH6awZg5qWUrJCD6vCnhRkvNISWUdYFjcct9z9PPB3dTh0p6mdoZ/CYqlb1HSaVVEz6KifS/e/ulc3aypNH/QW/8iK3BEEv4Dm0lcZjuJVQoTfcOsbf1oaudvK5j2JrPZqNk7H2UF6rYcZVbzlk/tMp+Yfd+/oTF0kRbY8nvJy4Fzglki0rZlkOlo05QC9yLYqVoROjrhQNCoR+7NaZW/pvnR4OlEkiBEp5TQQ+8PiIIOQqUDApgn3RFTs6XtpCyjQ7BBTgrg3LUuCVm0JDbSLM2pqZj11UuxSjPGEfQriC73XO7iFqYkMShpxjVTyhKzrKlu+Nq5Y3TLjpqho+RjCJHA1cPTJyAJumS5dNmju42fC9xGltugLFe+/Oxid7bS6axBfIIM9XNBaMG+desop5KdQ9kCEHwAGE0iEtcnBhtBjk6aQZ2EtU6GYXRmpk7E9K/pMY9iFdY/oCGB0hgIuMI9BZoTa716ETu9AAaYE0AnARIA0LD+/5i3IQt0sIAQ6GAAbADggfEASISSEjCVAGrgWgYAgt8lABxgaABMshyfcAyAHmB/4EbS1csOAXiKshH7979JXKn2SdRlBoZFa4uEGN9dX8CNpHmogzAPqM+AED9+YyGkXjTkDSNcf2jNGhugrM/xKe/YTetpr7yztT+vlwwM7eXspZQs8gpq+fqAOji4AUDYpz4DVLHsM27SdVi4+0KY+NFV6S70245KZCAu2rGBPSJ0dFGLQGoWVPqPVEUBgJJsU/3BB4uJYZWNWN0t7X2AE92ujKWVS+fRh+94nAaxbXBIuCnAOXri40XKRkoCR8DgGD7+Ifp02cu+NiqSJlxnB7N8C3cFqenuoBELdkU6XDKKWK4V4V7EpgI+4qwQp7AYWAHYykJblz/evdquDRXpZ31uM27O7ig3GS8w0y3E9BGTMX/5tMthI0nx0Q5Qx80yCsVM7VpD46LhAKE1mTfU3/pTWZsNu/uRkF/+6ToSGk/MrzV3RD761z5caQvG2Zteuj6LOj15ymgTd9xoTxrrZ5QULNM59NX3+0d8WRPn8NwXC9oEBvENsDIVTzmIZf2CMosk0WlJXVmZ3jGmeSdNN7xAhSnCiLIFM9y6nMjNdR3IKzCMfF1CDV3aQaqnEjk4WDjR3kZC6UKyQUT/Ys03TQeYQB7mbnnlUkM3OrEYnQVaHEydRKiTCVAQXVxCrqBlcYiJ3k3o8yjskf0DJSJgQIBRAWCgOIiDz7EP2BEnvIKZYHDiGkI5x5+8DIgj3hIP3BsBkIDejdIN6FQACAN4gRo9CHVeVgherC9kYfyRiACQ2GFnwM5AHWQgrrf2S2aUyjF0aXwRFKiZi1t1LawNEX4IY1vsV78uHWKS361K1xuiY1UdjFTjOkT9zhobV67s3lYzA/HRDtSN4sGjSIQFOyg0xFmnIntYRjlz1k05Z13k8lMV9nbsY9HVjNVbC7ZV85QvuN0n9KCAY0EOnx9oh7bBZdY5VgW8gACnVfrhcHiEQAFanDx+uIjIJt63dCr8XUOsQSmulwEhTwAXGVu/MN1GimtelKSVUZYbSVmD/1NWLrm8NEUWGlCSCKwpZikyksToRcxXe90GsDC4ntj4nAwfmNFkNTNGz9kxSZifZ6LWxDTv7NJBBZR3DIKEZlzUIsAUBG7KceR4HuUVeIBVrX1XV6s//Oc4kTyUFBtl1etX6PRnykylbY6856Rx6YwTdHH3M0YLckruQUO0v+cZjsUfDLoE9f7Vihe/nttLY4fHGYSot19jy1hxUkL0Iz6NkmodqIydfzM2vItblyEsPESIezMJ6P7Ws85JYlp/9qx+IifX1crlkm6GCCa2NR2fM9NyzeX44NMGXm44a+srbVWuq7NoJhDhASQEAAXj/7AYLeI3LEJ5zHRAhA4x00EhBkhxiFgOMskht9AhR4H7UMKAhHPiPkWzC9cQOKlAj6Ike91Ir+sIvucQKIWApmVnCp0JoM340oMpA3tSPFfgJ/1ar9MKwCQ77AzYGWggGRg6lBxatuNZYXqyeJfAnGwW7KCQIEetLWRiwehsvkEoEfG3JPfry1wjz/3HNdtNe2U7GkEGbPCiEQxSU+oiauGEDNSjwje9SACJDQnSzJV65tq5NPNcBuXmugnUffGXFDZ7wj+K0LOrt7hQg2xHFTIwNNrZX5GYauv4UWpfht5FFZqv9C7+DiIoGWkocSy7wPwhRQRc8ww5ut0CZf3PDQNidO71Kx/vgRXJIjEmcVdPYRlFwtcSCR7iMbEgYt5HQp8Q01ZitVXlu7Z+9MTllaWyN5TUnNePoTNXB4WGRz5vnMp8LO8jlMN7GNzNQ5xm+VlTD4CrPx/N9fHWOTBo/qoNp1HjX6F48etFF5/httNOGG1/fdyIvMhFgRTAZ9JdFDrv59zI99fEsb8ycYXatDaauXpRaFiocQMrGSem4KYpaogx2idCSaQk6fGYx2rNyvTXN4Z1F02ZGhVEciURA6iwqF45QvS5It5ObGx35cuPh04U9Ccx4EgBMLDUgLAcGIFg9uDfioUEP0nCZAiRYQgZukFuQ4oo05fUoBD9W5G8uSpdr9EynIoM1AtfvhCmggM7aQZ3EqWZoIQwdWIRABMoVYPYZJGAprBiPigkh0jkkBAdUqwOGkKHFAALp+vgtN7TqlPygjIRCJXCtaM0lg9KPCBsivsYhDihYIvFBLiU2GFnwM5AI8zA0OjALhq5ZxQCnveX1H2UkgcGahQcoCjAiXlA1U4STwjQr8sr0M2ykHxXEVa1r1ERfosMnmUvVFYtz/W5VxUvjfrssn3sppCB+N7aCGKGNZqfFd65MwsO0ijIqZke0dVxKNENoQLcwAqAvOqoZT4vfUKUxUyJqWlu1NHata3VuMCG9Xb+RtjUODGR9NYtSrZIrcYhKrUrSkHAyJj1NNjGDSf8LVMdEYO+DRz22mERk8qOVUdPMO8SMb5QTJ8zy9cfTb18h/8ZjFiwK5wLZJRSjHrtXkQCe0QEruEUEkkHoCHMW1dM61btVfX6zt6wgRFrJfcIVlfNe8LFreFweGHEebbNivulbnbBjaLUmJU276pj+mV/PCltxpwwIgMU6fkBnPtJAYfNf79fB7MEpyrxwqZ53TXSxqEchER8Vr/C9BkJJ4kz9/3asDK9Z0RoD1LaEIE+BRw/8GIfK+AsCa0hlm89Ypq8nc9kb3tzDeVd35sidHZMK9RYgF3peRcNHpBRhw23moAAZZYgQVyuogEGlculmyt6+J0pZWUPze0i4YWpW1wQfKx2TEhO1mIvy+pkGNKJFHVSIiYw4WVNRBZaFp67l5w7WjYx/QCmhMmcUHxQdOMQgAk25JChHAfrQCgVLgTQlsDvxGfVToTdgJ0BOwONKgPxMYGXkegQ7YUjIcDMEgO/805NkeYAmKwIt2VNgUbnuT/DvQ1rkIZB5DYMU3TT5TbM13lrk+eOcIaFXmdWr36WXmDZMTeq/NmdPUeltHNhZ6BeMjCst+O6QhX3B4hNBfASAyyMACf73cQ8K2J437yFMXTfxFwN03XUMHtWxPAQWRJY4XeQ70T479Lc9fKaNabVmR3VzEB8jON5EjKt7VqEOik8tH5Wxq2ykpzso75SkGqeWo3ujrrLrBOe6hoh+mx1uvv6CckScHb/931YVA9R1IOFexCbgIaHYeGJTCb5Qog/BzgRnOPOWDqzp89Xc8Tc7wdqBo8iBjsDgAaFeffbQiKo+d4KQEN3qK0fT+nqK++p0ZOrhcbio7WbiNhXJtGuVZAJbF5IgesF1403Pk5Nd48s6fxnf/XXG35Sl/5PttG2X47Rmpycf0RT8t5Zbvbq0r6RRQCwiuQvOTlZ29/ppxuE1Dj2lINAEwK33WPElKSYk6ZGP1Jle9aS+nDnjS2vUpo+hIT6ekEKfA8s4KGAhFaTkjQxYFGqtp0JObl96VJzdd4XMTHkbE6OP5KYVOUiwjv47QgJUhQc5KBgCMdVHKsoN2X4HQJFOTfP7T9efvvJHhH1XHkMvxfSF0YE6NTJUB5AwirnEI+wJIAJnxWht3GAlntN1gv0JsCeACiBkg5NHVRUcCg7IPvQzJ4zi+Sp3BOyN7AzYGfAzkDtZEDF99ZuI2aI80J8t9YCDDgSXhqU43r3493UaJ59ai0hjbzhGvzJbuSZsLtfrxm4LoY6GobjVmb6pb+9Ui10KotJPhTipNR0d5VXH2uhX02iyfgY53skAos6at0ctlhNW4+gqoOGUoCfjnpLwpl2pqa5u5fW1sh5O/spAxaZ1IOZeghRD/Yo5XuD95PIF0TyuaHxt6I44+MpXWEDSBC+1NmAFSUmuudKTYiyiDkVuhlEhglopCR0b7C14vHRDrAM+uKcynOwqeqYNPT9AMb+fOycQ6MYMn71N/r/M/stxDPTlkw7rl/86Elpf2m+NKNAysnQOfClgtywxUvj2laqlhdWpg6wK0TGwbrWLzcbSSRJF21JTa3Q3zmiRW9FENMkCNUCpEDpB1woEODKrSaijYUCjtvF0LZ1zjuxfWY5YPOwaO02IfUckXT0H1fQkkOaeeqrq0pJrsx1AiD9TK5uiq6CBegfzuDgTZ1HX/evrtfHuYUVSjkuNYQiWXEEibQt4ThZbIITvB/gBJFxSEQOaUod1IUOBbjl0JT+U8zvvR12BuwM2BloTBkY0Y/C893aDSYbWxjuTxaTtKqnkUEi60ijVKdT/+STDQQRYTuaSAZs8KKJDGRTOg3UxTEbw1loiElLZstGskpnCYQVauRrmWnVqjQ3HoTtqKUMxEc7AAjFofm2rQKrbIdVXJAT7RV3EqmlU6iTZrE6e+CIT8/uVGq6u3llDmzqX4gRw4rPgRpiKup7QuRnaGiIUp8roe35Omd8OqML1Plp9JwdI4VpFIOdIXSV33FXEfNW86WrrSnTTZvWei+jiu+j3UIGw/rQnHBGXBTc5GxRKzr2xdxH1o59efaEg9z5f85Q28nHjcjmRIY7iM58ni9hsytrnzpn8/w4k11hOoOwBY7h/pmEcpDpfR+ByGK14tcjm/fRxRjCSvUgkZ7M1FPknLMHk6w2hNdqzNuY9e1RfU9vnzmTSi5YLqEnw66h1uJyLiCWW/0/BksnvJmTUI5YX5Fzxk2nzrrOYwN2HXsjdRt9A1CpTBOcEIhg0iFhPshCh3ThQ+w6e2jGwBnm99cOOwN2BuwMNPUMDBxIYQH5jqtI5+6sBOBuhBBfJELhIGPjcUCE8pmhiyPHTOFg5kwW2aEb7u+amuNTUx/vyp6fDV5UNmP29nWegfirKVI0x5VM3JVJOgpxeyZpKbCzE3IQk0ECT2Y+yWxkGcwHSGSPxlrGZ2kF39V5hy/gAw6LcWwRMVf4qX3rIHI6K0/th05F24jORWxMLVeS4Gbh9PbL06khiW9Wdbj3/XzWt6sR7nZWt3Rp5Oy9lyhNv5aFeghWsE0NDenm1z9YrH4uwl+SRhlMKiNl6mX7Rs3ffSW5oZ0hI71jZ4kuwsVkk5ilJrzV0BilJllVPd+q7hcf7UC5Syz2bx7qNF8XaqAM7mDWOROH9o/M191XjNWcnH/CKa5lpyV07tIBURW6583e/NpFRHnjmRRKQaCEasV3QpJsuCXpd/0f21XVXN8zMryfMMWKcE/FApACjArvtWW2urYQoF5NxN8R6dvf+Pj09qoeC/sNi3bcWPjb8Jo/20JTilqEOSkkuP5AC/9zAhJ46rSLsk8XdbdVrD4lKrjvszTT5tMOOwN2BuwM2BmwM2BnoJQM2OCFfWnYGbAzUGMZiI927CSirmgQTiNwHKlMwB0ElqQrl86jD9+BI965qKitamWOV5/bHjicawpOIRS7W3yWVraS/ogXd1328e+67qlMn2966UBrtytvEFga3nIT0PJhMWjFSehnMNFGJsrQxZ0hTsfPDl1GiUGjiGkQEXmp93KaSK1FmYkFaKyY1q1WBa+GxTjiRMhX3hXZNrhSYoqVyVVj2fZETgFhFR8RdOWQM20eXPR/p86EvvrhdR2OlXcO8za/1M9NMp7J1K64wtqehT7QFSfNiHkkubw2Svr8nlFhA0i4D9gUwqbjB17+ThbrAVSIUumk9O1vLs+pUXvfuGjnNCZJ9O8byotahAXUSXlIZXMGQbkTp1ymGr5vDIh+IoPuWvWN+z+Vbc/e3s6AnQE7A3YG7AxcKBmo3MziQsmKfZ52BuwMVCkDcTHaXhaGDR9FtAmutG83WBeIpx/sV6HjY/uIjufm4m53gQ/4AAhyx0Nz6MAP2+jSrr3J4Qgg6/MuV/SjHr1QZk904tihIqKexUtWiperzPjLR759sf/2bz6vkpsJykZQPoJgh/uiVV9TiZPP0Ym7xgjJ3WSo51Y83qXatpMjFuwKVLoMYkOutcpOiEytAev34DR7GBqbSeMMRe4MMbSWwnQDCfQz+FypCdMmMjylJkL6VsMjBFpjdfdxvZ1vMstdyFFYsINaNq9f95oKXZS1vFERvRQP8HVJaSv2s7YuDuH8k+NNZxBPOYiVQJQoJLGmkqb1fvibynT57lFhg9jgq4VNgMJ6tfJr4ysSWQOdCoNp++KVOQA0ay3iYxyzSWi6dQBNY2oVFlCvJSIVPdlTZ1x0MqcoC0NE7lq9RV9c0Tbs7ewM2BmwM2BnwM7AhZQBG7y4kEbbPlc7A7WcgfhobTcRm9oLlQUvLLDh67Uf0BvzHy23pwAR2kd19QEPFjMDO/5tzgPUsnWECV4grFITC+ywAAfrmHt3pJkARHHmh9Vm7plTJqCCz68ZdLOvPQAdw8c/RJ8ue/k8pkh5J+APXhiGu6V/jeYNc7e3d4rzLiK5j4g6oy1FqutHCV12l9duVT8fM2dXf2EB0yLaC2YA0LAUV/OITYbGN4YYKDk5LqJfxqwg5oh9TM0OJvrBINlqupoYvNUweGtl2SJW/2NjKbhZvuOkkFnfalqjVsc2uap5aYj7HTmRu074BQAAIABJREFUb/rXe3P+xKp094tWP+elvXyVW3d7AQtzLL0hn5JQUigHLnmgzwPnapZKOcGZROrHEaGDRCmPLSlxTyHpyUQXWbsw0WZDeA0pY63u5u3vfHKq1q7PkroZ31v7GzHfa30WFKBR6+ZO0uCn10gC43g0u8AHZHrGlB9Zle5a1EhOwe6mnQE7A3YG7AzYGaizDNjgRZ2l2j6QnYGmn4H4aAfq7a/EmVa2bKQk8MICDwBEWFGcKeGfVX9AwwIvLGAC2xUHH4qXogDcOHn8cBEmhT9AAcZG5+4xNaK7sf/wWZ8XuXHcHbzmB8obNXfndUz8MImML361OHXV7kOv6GYlriTYSwIJCiUijA1YEdAWgHAC1LfLFOQ09TAMGcREA1nEdDohokDv8VG78DkJbWONtrNQc0NQksLxRHKJtY2QgE5jOpoI89azJ51b18zsdM42o5STiYvRbmXhd/ExQAuAF3Z4MnAm103Hsn2Ol1+N/tu8F+A+Qh4rU0v8NQtWpiIq6fE+D39ZVu7ujyFnwcVh/UlUT2HpifIPRYzxNm1RvfENnD9YZLVSats/VmTvravxmLdxXjvdqTqJActQjiSRyK9f+vu4rO+2mywvBHQtWje3Ls266lnNHMftFjqanW/ae1thAxg1k1u7FTsDdgbsDNgZaFoZsMGLpjWe9tnYGajXDMRFO9Yy0bXoRLtWQQSV/4pGRZgXxdkWaBuAxODhd/oOY4EbFnjhz+QoC7xISZ5N901/zWRsFA+r3OTwoT0mmyMoGFhA1UtGRIT2H/YJL+Y1u237LGJ6pqxc6Q4O+nhK18r6k7cvZEasIiJr8goWB0Q804nodiKqlIUm+jd+bualOrkHidAgEiOamAFoBPv1fa2QZBDzCSZqQ4b8gphNm1Nv7BBir0WrTwj0QPFzj+/tfI/YY7vbItRJ4RewUGfx3EArBZopVsQ990dqdlFLMF/WGURJ4nQkzbj6wRLdKe4eSkESHBZDJqMCIIVpv4vyD1wr3uDv4PyhG7JGkbblzX+f/KGi3+PKbvfCly+EBQaHdTIMVydhLYJYImEqI0KRhJeiCBJq6d/utiUf0A+pa31vhYU4qGVY4y4pQgkZGBgWo8Y8OZE7U7fob1c2p/b2dgbsDNgZsDNgZ6CpZsAGL5rqyNrnZWegHjIQH+34FxHdjENf1CKAmgVZVQcV60x5mhf+4MXoiY+b2hP+OhclMS8qCl6sW/WeCUz4MzXK6rW/9kVldS/cutAhr2uECm5XEPTL1RWZef3OEMpSpB1hzZ3lEiPLcBdkfTrj6jNl9LNDIRPmn0QE68jaWCkHHSJozOwdDlE0SIgGMZke7QA0PAiPOQmjTcKyh4VYFLdnod6QsTA/YzpGAs0M2krEWw2Rbz/OeXdr/Ed/PozLCJvYJSPnj3DWiXzK9ZaOtLv6yvnvv/HN1OJb3TG8XQirs1dpyiz78IIUENSUSL9twcRZzcJr3Jr6+u2UEzXmeJGcnKwduCyrExv6pTorE5QgMSKJVQT6YIIUROhL8WeRU0y8V0gyzb9CmaToRyV06NMZz/wyPzvnKav/4SEeYc6mEACljqIkqOAcA0OErlu9xQ0A0g47A3YG7AzYGbAzcMFnwAYvLvhLwE6AnYGay0B8tGNeoQbmY2gREwpMLCoTZbmNoB0LnPh02SIaPv5h+mn/riIlHgA/gkPCi2heVBS8sJgXlr5FRftdEhukvH3hMnDkuIdEwURfNrsjY7OInDf5LK8dVBAIURYLZZFy/zZlWg8wKvwjhoheJ6IRBDeD86M1EQ0gInhJQrjxx/JKSYo1kUBElxaWoEwptMGE28M27/Ho7jcyg45nuwYZOg3yupYAsLBKGnAYlLFkkVAAM3ck4o6eGhYhPWvL7vxPbuuC/zmUooi2dslI8aGD4wicRzzB77QOb/FgaLN8ABM9iFVPEbHENKP89t1BJGtY1Gpdc3y5OOXYwQpcY6VusjB9YYSb+BJdNyJJOJI1MCYASqgIlHawMhkU50Cscy3tZSYTlGCivWJQJpGxX+nGoWbOZgcf6PNAURVL735x0drNTAyA1IzQYAe1amIirmBgHD6eT3Ak8cZBw+3uv+ZbOo+dVJ2xs/e1M2BnwM6AnQE7A40xAzZ40RhHze6znYEGmoH43s5HiWWBZ2KhUasq1KBbjIYvPl3sE+70177A+xvXLDVLPPyBBmu/qpaNWIKdKEHxPzbatXQuBg67tYjmRVXtW0+fddPxU56Jpwi/tXqL6+6x83ZebxgE4cVexYeXiT4I6uC6JeeginCQoz0bEiGs2hPrEUImkyFCd/DtH0/pmlVs3+uIKIWIjnpfcCuBTeXCQh1TCKsug54pEZ0s1MMAEIH3oXI6H0YsRARBTsTvvcwN2MBkFrJrvi0B5HjLy/JYXtblOXrurlgiGUQoO/EAJ+ecKjwr7Dmu7W9GuNJeNFkXzYL/P3vfAR5HdXZ93pldFRfZlis2phgMLhBjyYUaLJleEiBgSIFQbYptcINAmvn+kJCAC7bBmPLxJRBCS0JMJ0gyHWMVCMFUC8vg3ovqzs7768zurFdrlV1ZklXmfR4/Bu+dO/e+Mzs799zznuNDr3a2QG2Kry/1ETZsDUmH+AyU9e/Tidfe1RqhRejXFNNk+YcRsJb977/L1iVy3nlF87rbVeah6pf+sGWA4bAmdIDtlHUIa6vImOizb5+6BZAIOKH8bzv4jRrG2mCXTmtvG3LN7kTG4bYdd1zKYYZpFUBD90tqkone6W1T46Kh+QeCik1bKxAMuxEBeCW30DqnoeO8z70MeBnwMuBlwMtAe8+AB1609yvszc/LQAtmYNxI32mG4N88ZbLfQN9GiizG2pWyv1jLUlcjw9WfIGjx5afvI/PE8x27VFefIl7mBcELRqyGRkX5nhoCnbH2rLHjiifd23dVYXcZ9S4d5kUNt4jz5n51L6AR60e2UegDL00/+qZ4+o5pcz6AWwFcGdaloK8sdS5oZUkdAS5CXftVlvtQ8HESAO5usxyFgEZWNZGGjJr3AOfa8t8IZjxVDTwQqHoDQC6Af4SBDwIlBEjqK2epMcwfzl11rA37FCWoAZxS9cGvB1hfhzbYG8PgaUSe2uQh324oiyiuHtw75UkxjNeMoC/vsde3fVvfhBa8vCDZ6msORDA4wBb0pwimCPrbLmsCOkCdso6ItarbXaUIyzj0GwiKofKNQovF0G/8wLqpGVNjwbMmy2t2ho+g2HnskHaoLCUyjfb7CsOSIJYGuSHAL3MKrd83WUK9jrwMeBnwMuBlwMtAG8xA+/3lb4MXwxuyl4G2noFxmehlqM9ZwPDhMrBvp32r2dv6JJtg/NwxjzgLCM7MLbBej+72nHtXHmoYPrIiXBbGr1+cftTvGnFqAg0jqtkSP6/lWDIbbgiXfbC85BAAXCASJHmm2uSDCyUKffKzR8ILR5YZ3AaALg+TwwAGGRdsx2NuDx//QbUA5JLwOa8Pi0H+Nt7xZ2f4CJScwPZ90pNBC0wv9s1A9H1kCE55o8ByhFnn5S85SINVA9QPhzVBxoSCIAW1LiKsiRoimOHe14ZACYTACVu/UTGLxUbJwNW9102YMCHkz9rCEc3ocu6JHslISW7/98TO0gB27o6qoBHJzC0IxJaGtfDV8E7nZcDLgJcBLwNeBg5cBjzw4sDl3juzl4F2mYHsDB8FAIdycok6jrTLhMRMKtYpwratHss+cso29olz530xUVSWKOxrX5o+hNoViQaFDfuFNSmij6WIBG1Iea0IMtC6giADZSd4npfCDAyyMugU8hsAdP4ga4PgBeN+AH8D8D+AU4//dFgY9NRqa9QLq9kXl4VLQvjvtGv9b/QAzpv71S8g+FZtWWeaxlbbDmzdsytpK21UszN8dMrozfb9e6fAZ8bvWpNogtpy+607qlBaEWLwDPnReQVHnDE+SAZFbSKYAuxSp+RHigH7G4hRDJZziFGsWyu+nXXmrLiZMi2Zs9NHon9QfF/SDZXn7dbF7/zpKEFtHGrkhOP13ELrzI4yd2+eXga8DHgZ8DLgZSA2Ax544d0TXga8DDRpBrIyzAcFwtIDx96SNpde7M1ADB18RW6hNaah/Jw/7+uzX5h25CsNtavlc7IiCFD8MeYziiiyzIMim6+GQYZ/hfUxCGo8CeDSsMgnS08IRNBaleAG+yQzgswQMjWuA0ABD/47y066V2+OP1At3nlJNWBxMYAMADcCCK2yw3He3C9D+pyxYZWtK3tqVMivVoBDyN7xotYM7NgdwK7S0M78EWeftn3IBecUQghOyDcQLRZbv7EluXjmqEks5WmTMT7DXKKQiRx8kt9wykU6UkRrmzjz9uxTO9Ll9+bqZcDLgJcBLwMxGfDAC++W8DLgZaBJM5CdaV4CFZYQdMjFRkPJpFAnBTudtbniDzlFVsT2saFjm/hzOpCQZUFbg6/DjiMU96SGBQU7LwiLfBKIorAmS09oH0OtCwIV+WHmBRkZBBt+HQY4OExe/4fCoAVLSVxdjcgULlz8dZ/K8kBfw0zqI8FgX4j0UbX76o4vjyh/8UICHw7jgsyLhiJa0NVt6wq3fvbxWw0d3uKfN8ahprZBUjeF+inOmhZ6f15hkKU87SayM/0ZUI3cO717JCO1A5SLxF7AHXsC2LUnBFIJ8FlOoUUrYi+8DHgZ8DLgZcDLQIfLgAdedLhL7k3Yy0DzZuCM76Gz5fPRUcB5vvTvlQqf78A9amIXilzojhx7Dp586BdwRT+jRT2bNzvAd5vKQTtERrROQXOfN47+iRLwD1dJ3wOwIsyWoEhiWpiNQcaGWypC0MMFOVhaQnYFQQdaYNxVLe55EnVWq11KrohlXdQ3lugFq99n4KBe9YMX7jUs/qJgH9vc9N4H1xBbjSMHLdKkqcALloywdMQJlSdziwI/bZEJtNBJskf6/wrRn/B0qSkmendvn+4iDaVTVbFu8173EYFcn1MYcDVlGjrc+9zLgJcBLwNeBrwMtJsMHLgVRbtJoTcRLwNeBmIzMD7D95wCP+K/t6bSkVhr05YGL8orgti8w3UQ0OLcwiDtSttqUIPABTkoruk6m3A+tGhlWQrr899PZIJZo3wnie0IgMblWEN3mDGnXLQPSNHS1zaROTYVeBFTgvR8bqFFrZF2EVkjkoaLaUd0UuhcRAejjhq7Sy1s3x0GqoD/5hZax3bUXBzoeZ89FmmBoP8I27YPFsPoA9XuaiNVDBhQWAopE7G32yobTBhrtkvV1wUFDijshZcBLwNeBrwM7GcGPPBiPxPoHe5lwMvAvhmILh3xmYL+vVNbRZoONHixZUclyipC4nsK/D6v0Pplq0hM0w/CtV29JhHWBYeRNdJ3qohj5YqUJAN90utnXhC8IFBBe9x/PkHCR90Ra3NrWVU1jou16P36s+U4+LDheP35Bxzr3R9f93tsWPs1jhw6Fq6Fbt/+R+CcS26Bz5cUOXGsfS7BimHHUccUznHsK617bzw8ZxJY1hJrz8t2Kz96swaTpLZZxYAXL+QWWiG/33YQ2Rk+2vPezKmwVIQlIx05VIG1m/eytkT0wpyCIHVnvGjmDBBQheL7ohgDyEhAD23EKVcCUqiC92HIm3krqj5tRB/eIV4GvAx4GejwGfDAiw5/C3gJ8DLQPBnIzvR9C8XB7L1n9yR0TqFcwv5HbTvqsbvv0SAFz3jQwMF4/fn7ccYFN6FHz5AWJDUR3st9CuPPm4jvVn+KwwaPjCxA33r9L3jsPhpkNF0ELMX6LTT1CIUa5pC8/Movmu4MraKnw6odSWYC+H5YI6Mo0VGNy/SdbCje5nEpfgN9GhBojNW7iAUO3PPXVj503YwQ854gAu+Ly2+cA7f8xL3PfP4kB+Ag4MDPy8t2RUCHuu7F759xBdx7KBZccYEKV5NjyLGn4IwLbnQAEhd84ViPOuaEBgGZBJgXVM3tyts+LLqa6GVp0fazAeOtDN82movwxB3FGrWhJEdrX1Awtz0xbRqae0t/np1hXggYF0L1XAjSm/78+jUgLxqCv7sWx01/Dq9HLwNeBrwMtL8MeOBF+7um3oy8DLSKDIzP9P1GFXdyMKR7k/bdVMEddMYvbxjr/M3/79N/UGSxxx10d0HIXXKCF1ygMrhgXf/tV86utrv45L8//sAMB8xIZCc/kfls21mFPeURw41/5BZaTllNOwu+5J9SrX3BXUWKgCYciWpeuCdoDHshGtA4b8LMyH3iinxG3wsueBGrrRE7wWhA44Nlz9a439y2vF9TO6dFQJDYPqLv3/rYJAloXmQCoHIprVtoiUpr2+eqnWHIbmh1TiTjMsyfGpAnmBe/KTiolTC3Er6Zm/iAQFCxfvNeADQgVv+3C7C+iU/TYbsbPyL5KJjBa6sthSlO3KeuRIgAPkMcQWHTBEQEhhF6naaakdoKyhoFgworaMMK1m6sFNX/J6L4v2Cl9dCylY4dtRdeBrwMeBnwMlBHBjzwwrs1vAx4GWiWDIzLRC9DfRRsdLxSe3VLQqfUpmFfRDMt2PfFV/4Wu3ZsRunuHQ4oUdeilG1rAy+iF6TNoZUQy7oAMD630MptlsS38U7Hj04ZpEFrFacRr9tI7JSj2RixLJpYkMNlQPzs+nucblxAjP8dDSK44EVt4q61uZ3wvF988q7D1og9pjbNC/e+S0mlJioQW9JS22WNdhsR6AM5hcGb6rj8dJa5NaxLwiYHVYMYs6oBjGMA8LOdrem2yc7w/R0AS48cq2Xq5ngRysCmbZWoqAqVnglkck5h4H4vN/uXgdNG+UfaNqYBenltPZmmOCVsKUk+JCUZDqCWSBC6oOUt/1RW2c71c0WbY/opg2KBbVhzlhW0PlAxkTl7bb0MeBnwMtBcGUjsCdxco/D69TLgZaBdZiA70/cHKH7BySX5BP16NY32BRd61B/IfYlOn8AJWRNQ/GUBjhp+grObzYXojm0b9wEy2LY28CJ6cdkc4MWWnVUoc1kXipdzi6xz2+UFb4JJhd1qnN1H7nAO7EuyQOLhAgrlpbscQMLVnYgGBaJBhMaAF9GAg1uuEn3/xANesGzE1cxwdS7iZV5ElxEccWb2piE/+sGnNvAaxHqldJe/eHbWTe4uLl1I6NpBtg/dYBgs6XoZwFW1WdkmnvGGj3hGnzEnyITQyruOyMyEv7v69lRrwjgiIgf1SoX/ALoVNTyrlm1Bm2XaLTMUeDWv0CL45EUjMjDuezjY8Jm/AeS62MMJUKSm+tAp2XQsv5s6CGCUVgRRVh4E3WRigvSau3ILrfpFfJp6UF5/Xga8DHgZaAMZ8MCLNnCRvCF6GWirGRh3HLobhu8bbqByDt26+tGt8/7vosZqWrDvd3OedBgYb73+OMafe60DbJByH71AZbuWBi9qOow4/rHfzym0HE0HL4A5H94/UIzgUBsyVESGAjr037f86uSq0lJnxTCgdyq481lbxAIUsW3c8qInHpzVYPlGvGUj0UBXbU4nrugnS5DiKRtp6Lz1lY1s2VGFsopQKdL3fv5jDDyReoLq0Ni5sg0viTbt2LCtYsu3W60jRw+m9WixBu3ix+/4S6+P3yjk4ugcALTDpRvCg+Ec0sliVzWwUdKU9+jc/IUfKPTJGaOmLqir36zjzHPEkJf4eTxWuXX1E8tkYbt4RFCbcr61lTKxf1fslfdIosEyBNqmhsPuWWGlPrsSERuSRPvrqO2zMvzTBPr7sD10JA0Uh+3SyeeIxLZE8DtaWm6BoBSZGTHxmWHo7W/kB//VEmPxzuFlwMuAl4G2kAEPvGgLV8kbo5eBNpyB8Zn+m1WVtfVONNVOKkGJQwYdg0CgEm+//oQDVLiL1fTeB0c0LA4oeKHA+q3lYNkIQ0UfzSsIXtuGL2ejhn5f0YODq6zKYSLGUAGGQnUogCEQoYjk3hBZywXzm7/+/VF7NmzqxQ/6pCcjJanuhYS7QIxdmEazFz7/5G0HvHBZGOzXZWK4ZSPxCnbGghfRTifRC+Z4BTsJXgw6OjNyv7rgB8fYkIPKhq0VkQXPCbMmB9MHH7FPohSwbcvWYMAyzSQThmmw3CAq56jcsXFHRTAQ/KZn/55vi2DVc3c/84PK0srXJ8yb9MBtQ67Z3aiLHnPQM888Y347aGMxgEMAfJ6aZJ544/dupIBojcjO9N0NxW38x7TOPnTvutfFJd5xuNc2umTIvTbbNn9XozQo3j4b064uG994BVnrOuf6LRUIWKGFrihOzymy3mjM+DriMeMyk4YYtr0AgtOj55+aYiKtkx/JSU3Psog3zwQiaYlbGQtiqC7ueWRwyrPPol7WUrzn8dp5GfAy4GWgLWfAAy/a8tXzxu5loI1kICvD97YAJ3O4XIhyQbq/4S7yrEBVDaCClpTRjhOx+gLRYp+1lYg0ZdkI6d3cUQvHdqmyhub8Fxv3d+6t7fgl+Uv8uyQ41ECQoMRQURmqcACKQQA61xyvcAFbAuGuvpYI4PwxVUu27d5WMjtrtpWVaT4iKrRZRY+uSejauX6tlNp22WN3t2PbELT48tP3kXni+TWEXqNtT2OtUuvSr3BtUDne5W/93SlfigZKonfga7NKjbZwZVkLd+THnHJRxPmkruv97cYyuIzzw38wfvDQ83/YDbAzDegItfVoFTkE6ggPpkkNxCLUowgqVVFWtrO0kz/Zv9uXkmSKoIdL2dh7Xl0PGKsALYagWG0ptkEGh5bcOnbKWhFpUJHwj4UL+/uCWAPBXoBFMHtG5hRH1NeN7Azfm2G3GsceNdEd8GjmS6xjUH2fNcd3qi7wgudqSLS1vvHUeK4ofp1bZP2uOcbf3vocn2H+TCEP0X3XnRtLQsgITK0HIG3pPOwut7BzVwB2zXKSj2HIxNz8wIctPR7vfF4GvAx4GWhNGfDAi9Z0NbyxeBlopxnIyvSPFdUP3Omldfaje9f9Kx+prWSgtsVJLHjhLiS5iCSt//hxl9QQVGwq8IJU4K0797K5VeWavKLA/7bVS/zHzx/t6q8oHapVGAYJgRMiMlgVh4kg1krmc4isdkAKJTihJWKixDS0ZOqIqXS6qDfGZ/hvUugiNqLFLq12D0Twfso+9xr87eE7HEChNQUp5mRehEKLcwuDR9Qxvi7pA3q+Pvb84/+effWZATEwUlQGiyEDVO3eAukcizwoFBrUUsM0NwO6HVCWlPgBSVfoQQKpcUEEKFOgGIpijkUMc5XaWqw+9O5cbr5xw4k3rJ2XvyjDhhbUMsZNasiYmRmTnRKV7AwfmR6Oaml9JUN1XYvaxFDraksAgcytvv2PAIVSo9kytLt1w2X11AZGxDofRTN+uvfs54BQrpNR9Dji1TWpbew1XGaAf+YWWo64qRd1ZyA7w0eA55fRLVqzGGzQVuzYFQCvdVSoQK/IKQw6TjxeeBnwMuBloCNmwAMvOuJV9+bsZeAAZGB8hu9WBf7onrpntyR0biL3kQMwnXpPSdrvxsjCElCVP+cVBa5sbeOMHc897y7uY/oDQ2EQnAjpTyj0MIEcSs3VSHtFEIKVUFDPpERFHZACapdoIFAy66RZm/ZnruNG+kcZoivYR2MdRxI9Pxe90eUbDelpJNp/U7cnvXz77jA4pvJkblGAopy1BZ1FXgFAJss+4MGlv/zp8Svf/eShC2Zc9K/u/XsdblVWHVtZVjmkc3diGkZyRDlj78WvAmQLIOsBewtE9ogaqgimCYx+gA5QoGfsQFRhQRyHSX4fHLlJbixTnsOpYlGd+9KkWQ9Ag47FrmkIBvRJXOA3FkyoL++xFstsG1vS4QKiX/73fUdXJ5p94wKd5WW7Ira30eAJgdG6wIv9AUlrAlf4KrfQOqqp76/21F92hvkYIJHnLwVg09OSD2iJSLz53VMexPadlTXIUArcmldoheyRvPAy4GXAy0AHy4AHXnSwC+5N18vAgcxAdob/aUAnuGNoDC38QI4/nnMHbQIXlbCCkf3sT+w0a8yyZRGXh3i6abY28/PnH2KJOVQITqgOU+AIAQ6F4rAalH6gkhqHALiYLBHVkiABCtMuCWpFyS9G/aJZ7TWzM31bq20D05mIg3qlOOKNzR3R5Rs8V3T5UXOfO9H+N2+vRHllxDLz+pzCwJI6+iACcAIrWqgNWEubbmFwIwfA/wH4DYBMAOPuzV/YS6FHmJBjAR0JNY5S0f6s5oHAH1teoqq7RWQNoN+JIRug6KqKLlD0gqAvyRT1zXPzys/1w/lLnPeS5CQTfRtRXsZr6DoNNZTT2NKNaCFgWi67UZcrDZkYQ7/3fafZ+3nPwNVWWf/tV47TUX1lI/sDXhD0YcmQG7mFFktx9lF7bGj+HeHzaNtdzrcTmVzd/CFR2zYS1DehOK+rc8Jhq+J/8oqs37aRKXjD9DLgZcDLQJNloO08vZtsyl5HXga8DByoDJyfiU5l8L2riuM4BkMEvdOTkdwMVnQHYo6sUd60rTJaNb4cIifnFgQKW3I8f1wx/2gzDFAo9GgDODTEoDD4d9RzX0uhBCjkC6fEw9ASUZQE1C4p37OD+hMRW4OWHD/PNT7D/5RCL+V/s8SIpUZehDLA++y7TeV7SRFiHplbULlqP/JD29Rp1W4j/QC8B2BE+P8JdvwZwMfVuhlzw/2fn9Ql6Zu73pxv+GAdqWoco1B+nwcD6K+K7iIgFSPEqgittLiwLoUYXWkLyYUj/ya8xzYS+i+sfvPdik//+pxTgtQl1UR6t8S1cRJlXvBctNJl1AUoRJcPHX3sSTg28zSHaUGxVef+TO/rACZkZrgWzhQQbi7wgudcu7kcQRcgVeuw3KKmdYbZj3up1RwaC1xQO4caOm0x+H3ZvKMKFWHAMjyHO3MLrdltcT7emL0MeBnwMtDYDHjgRWMz5x3nZcDLQKMycFpG0lAbdm54oeTQw3t3T0bSAVR5b9REYg6ybcWm7TWACxiGXtAcNnezP30mqWtXQ2rXAAAgAElEQVTlhqECwxHIhNqHq8phZFBoyM0hEgrsJEAhLPNwNChCAIUEgyXTjp9G4cwGxRabIj+J9jHhJ8N+u+XzL50Xc94b/dJjZTUS7bH9tI/WUxEgP6fQGt1Ms+M7AtkvZOHsCZcOUWCTJT3/CNtM/h3A0mqCjMP8eOybx1K2b9pzDEwcpYphMDBCFUdSvFWiS4/CAw6ZuqJUFSWfPPFsYM3b7znAZmN1cRrSvIhmZsQCHXWBF9EgBPUxzrjgRrz9+uM4buzZDuOC2hZHDhmDrz//MAJsfPbxW/WCF/urpxLtNKMix+cVBMis8SKcgfGZ/j+rakS4pDXrWyRy0aLtkXmcKGbkFFkusJhIV15bLwNeBrwMtMkMeOBFm7xs3qC9DLTtDGQd5ztJDLzqCvNxJ7Z39ySkJNdtidmaZ0wr1C07KmvQegG5KrcwQBp+o+Lu/Lu7+aXTUAnKUIgcqaKHVa8NqT3Bv2vQ71Wx1QEnRFZSKFGMkJOHocGSaaOmrW/UAA7AQXM+WnSUBOwzbOAMu6rq9Nem3pES2rQH+vVMAZ0BvACiS0ZUcEdegfWHA5QXF9wgQ6Nels6c/IX8vp8ZGqfaCvlEgKAAaRD0U0iXz555HsX/Xua06JGWhK6d6neZqW3O9ZVjxAr6xoIX8ZSN8Jy03aXLEeOxBVNAm92Lrwwx+GNdZurSvEiEIVLbPKPvAQM4641C67UDdA+0utNmZ/r+AMUv3IHRTaRbO2Ju7QNgQC/LKQw+3eouhDcgLwNeBrwMNEMGPPCikUkdNxYHGwFzJFSGq6FHii2HhGp6pTugtAbkKiwokDKF7lBgowFdY4t8DdGVEgx+5NE8G5l877B2kYGskb5TRZwd2zR3QulpSejSiAXLgUwIabxbdlaBzAs3ROXanKLAow2Na/4n8/tqhTk0KBgiqoepIYcKtSdCIAWFFveG6sawSOZKFfnK1aGQgFUy/cTp2xo6V2v9fP4H8/sG/ebpAj1DVc4A0FeA71Tw1Buz7hxeuWPH2Rw7F7Jc0Hb0IFC2fkt5JA0n3TH9oW6HHfr4zFE3vdOac3PvioVFAqwTQx7ZldLnpdnDJ+y14qlGMe/Nv7fXsl/f+2jZxi2O2MT+PAvIvqB9resewv5cUGPb5u8iZSK1AQj1CXa6Ohhu/64migt6EMSIPmddZSOx52jMdYtewCr0R3mFQTJhOnxkZ/ivAjTi6pTW2YfubbRUpL6LyfLEiqqQ5g2ZUaoyNq8owPIuL7wMeBnwMtCuM+CBF3Fe3tMy0S0I81xRnB7yoJdBcR5aTzMpEcGbattv+FOCL732PtrsAmT/c+H10BEzQAtVQ/GsQge68yd4wYVLW4hdpRZ2uI4P4QGr6E/zCoJPuuP/w/vzDvP7fEMNweE2SztqMij6xMxzLUUyJSSU+bkdZlCoWVkya8Ss2sQW20Ka9hnjgq8WJFduxxmGIadDcSYEdEvYAchzttpPzxo99Q0eNP443+lq4HWnAwEO7p0Kg3YVHTjoMEKnEUbPowdvO37GjY6oqaq8AMFSrTSXzjrphv1ye2nq9P7pg/sGp/SUjVMHT91VX9/ZI82HIXKtM7e0ZHTu1Hgmlsuy8Pn2Pktcy1N3DHWxH1w7Zbdd7HF1WTJHu9Xw2Nh+3P5o01ybfWoieY8BLy7NKww+k8jx7bHtaZlJx9pqU1/IoezQzYquVu0xCJZv3FYBgplOKD7MLbJC4i1eeBnwMuBloB1noGO/BcZxYbMyzAkC+TGAC+Jovr9NXlDRp6IXPvvboXe8l4HWnoHxo1MGadCibz0dEZygs0R6mt9xHGiNEQgqduyqirg9cIym37998A/P/usRp4+rgiGHQlnmYRwKaK+YOVBzYqUtspJ/G4auNlVLtu3eRoHM0Kq0ncbcggWn2IozBA7DYowAVanlwbfTt5S/cs6/v33ZBgK2bVtBIJAMBIIigR8tf+TfCqX7Bbp18Tt/OmoEbcVaCnWGQw099/xHFn1sW8FpAqXgpqHAV4AshY2lM8dMfqst5Sorw1wikIkc8/4wL9rSnBs71hrgherFeUVBao906MjO8LHm6FQmgSVmjk5OO37L3ceSWzA3r8Ca0aFvAm/yXga8DLT7DLTjx3rjr92ZJyC9qsp3UzXFdSIUVGHfJ1ijzx9H+oVzoeUzQwb2hkH19L1ppUJ00IZDKad1YiBoIxBQ8EeHn9Uaio0CPISAdX/Of7Gx8TPxjvQy0HYyMD7DfFQhV0ePmKUCrFemK0lrCe56k20R/e3tNfQoHHv5pejUy9kE52eroBoSySRA4ZNVpqElU0dM/a61zKOlxnFPwfzvmWqcrhDqHZC5RoeJNwZ/sX3die+uv8IXqN/hcdnWr3DfN6E1OO+D/r1TOiz7Ipp10btHvzXzbnk8s//5WVvca3lvwYKLRI1pgJ4cvg9fgi1LbcjSW8fctKGlrnljz5Od4ZtXzcC5hcfTFYLuEF7UngGKA7vOE2rruXkfBV/uyLnKyvTdLorfuzno2zOl3bhY1Xddd5dZ2L5rbwUW2cE5RZbDXPPCy4CXAS8D7TEDrWdF0AqyO24YuhgpPoo8EbneR9qeivepSSZSk80mEY6rCtgorwqioiLogBm1BI3Q5gQC1t3vfILtrSBF3hC8DDRrBsZn+Ccp9D4AEY9EMcQRWyOQcSAxDDo87CoN7KXphjPRL2PEu6Ouv/IB2w5+pYFAyayTZrUqyn6zXrA6Op+fP/8QC3KGAfNMhV7sLKQV74viH5atT912fAjE2Tnx+q8ApRNFfbH8wvxHyf0eyUZt2e5wf65FrNbF9MvuwvHDxq0xDDyg0MU9zzk+UpLxpw/v72ea9jSoY3/qD4FpWKrA0lmjp4QUMVthZGf4qHrpOMzwO0/g0ovaM7Bxa8Xe9wYbJ+V+ZNHitkPG949LHuwzgl+6k28vziLxXswYAc8VuYXWmHiP9dp5GfAy4GWgrWXAAy/CVywr03+jqPKlqXf0RSSjgnWTnVJ98JvNly6yMrg4Kiu3QEp6TOyoZnPMzikIcFHnhZeBdp2BcRnJRxoI/gnAhdETpaVql84+dEn1OfaqLRH8Ju4pt7CnFtCCNca24rZlH1mtdjHYEjlyz0F3lGTtdLotchYEl0LRBUCRQF4KavDpWaNv/m/seHZOvH4yoAvrGec2wzZP/mHRkmOgEqnp7yi7qtF52byjEuUVYYE+wb+f/X/v/EYVkwC5EoKvRbG4rDS4eOCEE/fWlVSr4c4tWvRD29LpItRqckCkV8Qw/mWob+m0UZNalRNNdqb/Bqg+wHHye57eTvUKmuJ7uW5zucPmZJx4+y1P9Dj8sJUKrDPVXgvDXFupu9f9YtQvdjbFuVp7H1kZ/icE+lOOM9lvgM+HjhQWRXy3lvO7HQqVqblFgfqeqx0pPd5cvQx4GWhnGWiZFUArTlrWSP8IEZ1DbbjoYbIkhDu9BC5aOghg7C63UFm1DxvjbbFlRs5HgRUtPSbvfF4GWjoD4zLMSw2RX0MxPPbcnVJ86JxiICXF1ywlzVRxL6sIoqw8CHvf8q6tgPwutzAwv6Vz0hrPd++KRacbAjIsLgtbuH7OshBbg0/PHHVLvQ4YeePG+TKOOvp9AKNqnZvgJ1cMn/mxHdTZFXk3XRL8Ls9plpxkoC/r2TtI7CkPYtvOyshs1cDJefnWu/yHTS8uP8UAJkHAxdtnUCz+pHPZ4qysrBr6Kfe8e08fSU6ZJnDYGMmAFFPgEypLZ4y6KZTYAxzjM8zzFPICh5GSZKJPeoSAldDIot0/3AObQiQzoUE0c+M1G8oiZzjr/nu2mn5fz1pOSQHgYihKILpWIWtFsQ6GrkXQXLt79Oa1s2V2/XVbzTyP/e1+XKbvZEPxtttP3/TkVquVtL9zre/4XXsC2LEn4DbZsFOsQwoKEPmH5jy317eXAS8DXgZaMgMdGrzIHumfAtEF0QknuyKti/+AgBaxF76swgJ/kKpcNWm3gWBWboF1b0veKN65vAw0QQZOq3bSmAAutBxZiPhi9DDfnZ2S9UpT5JDYI1hGkpJsIsVvOgtav99oFJjB7xjLuCqrgo4IZ7TtadQ5d1SX4t9nV1j3LluJPfGNvn22uvfD+0eLYZ9V7YhCwGIYbVuhmgPD+OeMzMkvNjRrnTix0y4YVwN6NQTvQDFln2sL/dNPhs4qqxYHYinBKnvN689WvHXL7W47PqdJD2/vwd31DVsqokG0ebmF1vTYeW95eXk2mRjVTjUTBPhYgMXp545dUlt+7vlwwfmGQRBDspzPRV5lWYmBwPPTRk07YGyM0zKShtqw6bTj6Ej1752a8OV1HT5iHUJqs09NuPNWckDNEiIpyS0M0F4Z9yxfeLghdEKzB8Enh0MxaMt3WwYJjIO69e7a15fkr/GFEcEeqBSr6GqorFXY6wyRtVBjbVCtdVaFf+3tp9zYqktWszN8tIh1WHoEtXt1b5/uIvHceus3l0eYuwLcllNokcHoRSvLQNao5KPFto4KC3r3g2o6xCBT0Q+FitjlCtmlwGaofmcaUmzB+nxZASL6Rq1sSt5wvAy0aAY6LHiRnWE+5tBto6K1Ktmzzn7H7hgAXeXJDZWBq1auxF6lpha9dbyTeRlwMkA7EG6PcvfuZgDcNXUWH7UERQTvCAMYtS3+08J6M5cC+BoAF2isY34MwJlHDTRe75duDPWZqLeelwCkLyyiS1tN/nEedOJQ5p1FoDoCuoBFAV1L6xbPDU3iPyLyv8GugSXLlqGio173+4oeHGwFq86GGJdC9UTAERPOgY1XdpdufSoep5QdN9zQwwjq1UrQwgE9tATA/GoWwBWupgXz+2r3kR883m98V0CHq2KhKcaCpdOP/Dorw3erAH90r0HvHsmOBlF7js3bK6NdbVZ+v9A6dnbo+1ZrbH05/wyoTe2YiwDki+rinucd/7+1Nb7n3cV9jBRralgboxNEVhPEgIGlMzIm5xyIvGZn+Pib5iyyD+6TmDXuidmX4fIb56D4iwLc88sf7DN8AhgHDRyMh+dMwmcftykjlhpz4cYGdQ7C8UpuoXVOPdfqkern6E/Cz+lgcqfkz487e9SrF868eIvfbx4Wsn3XAQoZIECPWvpZA9VvILJWRdaKba/jf8O216rPXNvV9q+bNGrSAdnhz8rwZwo03x1zv54pTaJHdiDu+6Y4554yC9vC4p0C+TanMLAP4N8U5/H6iD8Dl1wCc+vX5hkqMk5CjmpkGSaOyjqn1NUCY7kC7xiQnDcKqz6LfyReSy8D7ScDHQ68GDcWB0vA9zcBHDV2BoU407smteofPe4K0+GgomYpyQqI+ePcgspV7eeW9GbSCjPAH1paW75Z7QRA9kF03BYGMLjDwwUpVc6L65jDUACPA6Cl36/DP+D3V+s2ksbO+qynCBRwAzHsSkHxXO6okQ7P3f2fs98eacafe3bFD/v0kGBKkoTsPZo8pARiL4Utz+UWWW13lbOfeXEWt6mBs0TlMlWcXQ0oURQyByI5qhVPzxw1M66doD033tjPsqyrJeQmcwRBKQMyv+tDDy7mEHdPvH6yDV24Nrkn/trn1G0fdz48HZBXROyFL0w7+pXoaWRn+JYCOJ//RmCK5SN0fWqPQRcBuglExfjcQis3nrlue3H5ubY4LKfzoXjfMOWB9LPH0JK41pizYtE5Yug0VZAhxXgdIkuDQfl7SzqVZGf6lkNDAGWi4BRZF2NOuQiPPzAD7+XycVJ/uCyN6FbRjI27Fi+HPykFPn8SevTs7zTj519/thznXHILfL4kWFYVXn52Pv75xF3O57ElK7HlKrHnXLfmc/zyhrENDbXG53wX2FUaui/6Hjs8b/TUa36LFOvT6cOnb4vpiLVVfN4+CoAMBe7ucvFEQONX4WdujUMothtQc1CgtGKwVRU8snN654NFQBbHAJaFaQiw3huKXRCsgmCt2ggzN3StDaxTI7g21fKtnTx28taEJhhn46wM80GB8B53dMl6eRopWLe5wgHlGar687yi4F/iTKfXrAkzkJVhThA1LoYof6uap8ZR8CkUzxtiPP1GQdUnTTh8rysvA606A+3zja+OlJ8xKukYy7b5Az7YbUJdix5pbYdmGP3SEpqDrLEVP1pWFIjsPrTqO84bXFvMQN8wo+K6ajDh45gJcHf3h2Fg4VC+Qzp190C/asMA2h7+CKQ+AtcCoFYLARBqHLBMgC/D/D5eHu5zURis4Fs5Vwr/xzINABQgdM/Bpnx55g7GiWmd5NS0zjJ+QG9jRecUR2z36MYkWCHfcgdPBO/aKsvyCgMFjemnPRwz+9NnktLKNp1tQy8zRC5VqOWUhKjkiGk8Pz3zJrJi4ort19x0qOGzrlbF1QIcrMB/DcH8tCVLuJiKxIbLL+/8ysDT9vyz1/FIsq11lab/7hemHVWr4NwpmTjIp/7lAh3IDmhVzTp3AhntKWJq2DHkRz/AkWeMe8WWqiviBY2Yjy0vL78gXE5yVnWZyJsiWNzznDFP15Wrez5e3McMBm9Sm6Cidq0GJddQG0NtWTpz9OR/N3eOszPNBVBxyogSZUMSbGDEAwZc+LNf4owLbsTrzz8QAR7IzDjqmBMiYAT763/IELz1+l/w2H1T4AIP27eui7A32Ca1c5rz/wQ4Ypkf7HPQ0ZkOoNK3/xE1zukyRT58+x9O//HGhm0VqApvZGTedI0eNOJYh20ePn69cFEDfLp7665vnpz91ysrd5bdvvrT1a9G9U8GHJ+VDiBcR9TKlLs/7/4uK7/46tiDv3dIv+Rk/2EKDGJ5SvXzmqUrfKZ3q6W/b6p/A75TwVqxdR3EWOtocKix1tSqdWZ3c+3UwVP3irrEkYgTTkBqaqWPYI2zMOyoWhexqdpZGsDOvUzd3NxCq4aeWxyp9Zo0MgPjR6cMsoMWS/euihX/j+7SZxjw+cgQFZimOBbg/PniF5jfYlVxSleDtg3iUJZlIxCwG6q1zVPRR/IKgk82cvjeYV4G2kwG2tfbXj1pH3ec/zjDUNZi88fVCYIWBC/aWpSWBbF1V43f+S0qcl5eQSD05uaFl4HaM8DvO5kK3PkmgMftPgIL3IWrr86du3UEGagPw9IOvtRyW5MiaSdFlYJMDL/AsnyEtfYUAWS7EWHwgbvs/GElIMHyEndX8EEA68KsDQITZG4QPOAf9kEhuuhyk2PD8yAQwuBnRCBn0+5YUvxHG4Z9ONQYoNBeYiPNFk02AFGgCip7YGCrQtdJUFbbpvWlV0sK3LNi4ThTcKmGdCy6C7AMkBwE9dXpY6ckBI7uuu66o2wYV4ujaSG9FShUtef3ePhhMm9qxLlzvrpEBL9licjgsrXLVnUaeB1LROr7Eo/P9GWpIsJASA6LO7aXH7Ro+reTB9VHzn1k/lFQ/b5AvlLbvnLGmJsTssbc9OLyS8LCnuMBfQOqi3uddwK/13XG3A/vO0sNoTYGmVd8sX6DZSU+K/jMLcffwrKhJo/sTPMS11kmUWHW2sALV+vCHWgsUyJ6ArGARjQwwTKT2sCG6FKU48ddgmMzT6tRluIyMdZ/+xW2bCpx+ohmaiSaQC5qvtu011Bm3F2/urtLn17DbUERVL40VA/XEFPi8KAVHGz6jIOjzrFW1V750etFh+7euuvzij3lee8++/aRe7bvmRxuw2cy/5BhFw1MRw+Tnz8LgK4wfEb/v2qAmQy8CCtv7keLByAYGGSr4ehvGGIcDtVBuhfgqDFtBbaLYA2ZGyK61ilRCco6Ney1Pttca/qCa6dmTOVvVSSyM/xXAsqSQoc1y5IRL+AseqPvDwmaR+d8XBmxkfVy1PQZcDQsgtZMiHCTZp8gM5Dljfyd4r3aWLe0gEVdLtthYFObS/cVE+e5P1fIvLzCwENNP1OvRy8DrSMD7eVdr95sjh+RfJSa9r8BjdT/9e6ejNSUtlsrXV4VxJZtlXuRWMFGUeOMnMIq0u698DJQWwZIX3yedfAACHTxD3dlCGKcGQYwCE7wJZSCmseFSzZY4kEwgm0JPPAe4644rYWLALCe/gLAoXpzJ+/H1cwJ/nD2CetVkK3xLeDoRfzZoaMDfw0PkMAJNTK4E/zPcOmJa6nJonXqafD/3XNwwTQyDH6QwcGgGwl1MjzaZIL3/ZwVC0Y6GhYhp5BDBVhuq+SooTmzMqfEVZ4QfcptEycea0KuVjhMC95L76vK/O4PPxixOXXb/3DBV8PoIqKKS1gickjlhscfuP2Uv8U7heyR5uUQiVCi6U7Rq0eSs4vVlmN3qYXtu2tIGb2YW2g5ZTJz8hfdDehtCi0VE9NmjJz6cKJz3fbKih/bqpOgeqoIXqbFavq5Y+sVWZ3/wfy+QdO8HuKUeHVT4DsAS8nImJk55bVEx1Bf+5OPRY8kv7Oj7sSA3qnO7mQ80RDzoja2hQtIpKQSo+Uu594ykNj+GgIvzpswE8OOO7XWobLc5MVn7sV1M5ZESlAaUzJCS/WtO0P3B2vf8wqtU+rKjd/vH9OtX/fXexyU3rXngF7a+9A+pT369UjpNbB38KAj+5captEr6tg1m1ZvLN+8ZtOO4ace8+ATv3p8zBfvfOov2122JupZTZCbuhj8PrOsj4wKAlu8f+oSMebntGyNbK7MfW9uKnxJg4IENgzjcIEOslUG8W8YOAyKzjXmJLChskYQBjZse92bs/90xp71G1hOiO5dk5DWue1tRMVzTzemTQ2dHMUvcousiE5QY/rzjqk9A85mSarvTlFHn6tGkFXROcWH1BQfkpqprJHaN+UVNkorapQWuuP4WKH/k1cYrBeg9q5tm8mAMS4jeZApwYHVduJ9AKO7AqmiasAQmmaXGra93TJkow/WmjcK4D6328wEExlofG8EifTYytqOOw7dDcPHHdrvcWiccO/0ZMeGra0H0dct2yujVei/sE1r3LIV2NDW5+aNv1kyMDrMnuBCyNUq4Bs7Xzy5CPq8+ityZxh82F0NEGRW78LdHRbYJKuCx3ORy19KOk2Q8XANAC4gqWXAkhH3eH7VuJuXHf7ucSF7XrhPfvl+H54hd+zIhiJbg2UmGWE3Epag8IXrprBoJ8GQmWEhTx5KNgZFI/kyTXDkgAjGNctVauZO7/l44eFGQC6D6KVQjKgWdvwPS0JUNGfWqKkvNeb0pTfckBkIBq8Ja1okK/RNBeb3eOghgmX7xHnzvvot1P5VtWjyahEsqKtEpKGxZGf4JwMaKS/hrlbvbskwm+llsaHx7O/nO/cEwD9uqGJZym7rrFe+RoRqNyf/vizAoA5Isioemzl6Cr97CceWl5dfAXU0Mfg9+hdBjJ7njW0QiHCscUPaGNRA4QKaINdS9fv+NmvEDZsSHkgtB2Rn+l6H4nR+lAhDsiHNi2jwgn27uhWuzkVtzAu2c8tQGgIvfnb9PZESkoYEQaO1LxIBMTbvqER5RTCUNcHtuQUWn9F1BZ/1fLay7I4HEXigIMK22flL/I9fd8/fjh1/3KcnX3bqejI1Sj755uLeA3ujc4+uaYBGyj8q9pRv/e7zb/39Dj/or6W7Sr/8+91PXxEMWhet/mg1b1YyO+pjfRKgZslgrc43sQOfm79ghorciqDeBr/5JWx7kKgMsqGDqL0hikFWIHDwa5Nvi+w805WG7jSJRHQ5T236KO613rb5O+f6x4JcsedyS4nc0iEXDHPb1cf4ccuT3Lb7a+vLxezWvYKub1fr5Hw/kdx4bRvOQNZI8wpD5G4FDopuTYZF504+dGpBIelgULGn3AIZe0E71shNnrLMwK1vrXA2kLxoIxkYn5H0PYXyezsWUG4kcpMukYccvbQ/VWhhtZX9+2bA/9br/6kg2NwuIpFEtMkJZ2f4SE/nosmJRAXAWvukK6qCIMrusscUeCOv0HJe+rzwMhCTAdYlk+FAloIrqumCFywJ+TBc1sHPCQrwpZQ74WRSkFURrTvBz1gCwoUTjyUYsTrqeD44WS/PHVoGgQ6yKAg0RPfDl2uyNQiK8HlEByCyOHgcWR51OZd4FzfBDMzJX3gJBJOh4A/il05JiKE5KcnGazcNv6lR1q+7rrvxRFssghas8eX1ex1qzO/28OIaIpvuUKNLRKJdRBKcSo3msZbX3KXv2S2pzQHU23ZWOS+gUZFnV1g/qM2Wl0wI22++ozaOFAPLA1XWVbedMK1RyvNbX1x+jYaEPUdD8ZwJ84Ee541iuVa98acP7+/nM/RahZKNwXK0dUo2hmLpzNFTar3+DfXpfp6d6b+heneJZQlI9hvoG2dJQENuI9HgxJFDx+7jPEJAIbqsozHMC1ffIh7BUM6vIcAlOmdcmKyNKhlRwxySl1/5RT15JTgcETuOacdnPxkUfHa/Uy2UTLbDcyT4XPa7q77I/9d7T514wUn/Pu6sjFJVHP7tZ2suILCR0jmlFyTkBsPYs233rs7dO7/13zc/Sf8k7+Mxm0s2bd74zYb/qSyrJCDOdm6JSVz3xJyCRf+AqmN9SobfjFFTpsbOLzvDPB8QCvc2umTEBS9279yCxxZM2cd9ZvaCtxyNkljwoiF9krp0TGL1VDh2t2152a4apUYusOVqrcT7vXHbxd4nVQEr/Z1P0KotbxOd44Fqf/ZYpFUG/PcD+rPoMXBDNK2L74D+7hC2oDsh2Xsxdu87VXWqJ956oO6a+M47fqTvNIheqDDOrS6J4wZeU8d/1NmslH+0dV23dg1eZGf67oY6tZhO0P+bPuDtLcorLGzei7ITyFiQV2Rxt8WLDpiBez6+p7PYnYbNHHkTd7uigxRhgnks9+BOLrUvuGjhc+DcMHvBpQOzljmaHkzHEd5TFNdk+YcLXhDo4M7fv8L6FO7xXMzQSeTe8ABuqd7t40vo2jBrg/oX7Icvt9wJDG8ldsAL1rRTZj553fiiug8bZU7+osdga45hWDnTRk2rT+ek3lHtnjgxy1a5BuI4wTBeUMF93ZcsqdVeM7ZEpNaE+x8AACAASURBVDYXkf1JQ9ZI/9UiWkMENJEd+/059/4eSyepbburIgKM7K/PiGOsEVdeOub2U29nWVadMbdg4d9VcZEobWvtSdNH38zvYaNi80vLr+fzQELlYk8ahi5OP/t4LmobjHkFC7NtdUpKnI0CpV6KYmmSqU/EahU02Blr2IYjPZDsizhUELwgiBFPEKAgo2LTuuIawp2u9oXLcojdeXeP4zlcTYpEwQt3191d8LIvt18XzIjVvGio1CV6ztEirmTl5BVZWQ3khGV6BIBrKxugEDOZVvwN4PM+WpiZ7E2W9vF57z4nnL6GnDhsoz8l6SeX/+HqJ4peXXFjn0P7GukH90yGYnCXHl1qWEDatr3q6xVfpm/6ZmPl6k++6bdp9cbNG1avvypYGayT4TUnfyFZHNF22CtNNS+6ZfSNEZAmO8NHRyoy8ZxyEZaNJBquVkl56S7kv7s0ItrKfniNzr1kmuM0E6iqqMG8aCx4URuoUd+1jwXSEp1ftKir2npB3kfBRj8bEj13e22fNdJ3qog+AsiR7hzJ8uvexe+UiLSWIHi1a3cAu2uC4XwyL8otDMavDNxaJtSOx+EIkNu+a0X0iuj7qrYpm6YBnwmYhgGDIm6OwmuoJeVcbRuoLsWFFaTYaywDZ58el0Pkzz0HBR569tm29/7dbsGL7AzzQqJL7uXiwyWtS2SzoN19FWinR1u9SBj6k9z8YNz14+0uIe18Qvd/en+XsvLAcNM2h6nBnTUZRsFD6hY4UxcsnZE5hQyH6ODOGl9gWJpRGP5DBXoKb3KhGy3Exl0yl5UxJ1yuwZ0u/vDRDnVWtX7F4QBuBHBrGHwgU4K7pRRlXBZ+AeXitiS8w+fRFpvvvuSz/Iaw/SHPQs0Alva4zJcmOfPOSZPOEgU1LS5hh6p4zhC9L+2hh+pc5IZKRPQOOiOJaKNLRBqawPQFl7/7n6dePsGu2Bn5XaOuUY8uSY6qe2sM2l3SQarGl7R/3xfGzf7FqQpdD1Sd3JCzyD35C6YaEH73bLHlzuljJv9PY+eqeerbWp5/vahOUugx1aUEf4bYi3ude0JcYtBkY5iGXiXilJX0hmID2RgqujTRkqTxmf4/q/KFDuiSaiK9G4lb8UWsXSmPqo2KH03XJ62fAAOtVou/KMA9v/wBEgUvokU9o8sGonfQYwVEo51LGprdus3lzotpKOSq3MIAHZnqi+5hkJhAcWywLIRgNkWVyY5gaSAdpejkRL0i9n1OGLwgKEHLVZZosQSXZYC/DR9LUKPYMIwXDx95xL8uunXC2527dR6Y0jl5oBWwjt6+Yfv4voP6VZg+k2OJhG0Fv/664Kvu365c02lD8fpAVWnVw/996z93zClY9A1UI8Lq7gECnTl91FT+FiErw/e2a3ffWDatC158+en7GHjY8H2ALp6nezrxnFDZULzOMHW1i/332vRXovMTLfTKezHRiHamE8Ufcoossh+9aGQGxo/0X0M3j+jDu9CtsGtSaBHZCqOiMujoJwWsvQtZsrONKutnOf8l4O3FgcrAuIzkI01Y0xTCd+h9gqKuFHglaM8/fr9AErjRCF44Aq+BkMhrZRUFXmud7RYRLAyWW3NrY3keqPw0dN5W+pVraNj1f37SSeiaVO7/1LXSI9uCrIv2HhTxophXODb7LOuY1/+DJqlBbu+5a43zm/3BgrSufgyDbQwTwTBVeziEIAUiwrMctwJbRWS1QEtsAgWKEsOU1dNHTq5tp6W+nTh2xxKQ0mowgiKdp4XLQH4X3oVjfxQBOp6bk+FSEC6Sh4ZfZuNa4LTGXLfBMfHZTTCKrBc6x3BnlTuRLPHZFV588LvfIPwez9y3T5r0Q1MpxKmht2jFX2HKgm4PPshSo1ojVCKiXOAMb6oSkbrONSd/wd1frRp627ovA5v2vPCTElh7qM8SCglbbnZuPeA1XyZ27qlyVOOjQyCTcwoD988rXHS5betfAM2bMWoqdWPqjfn5i8YGgdfCOgUvmlbw2v1xA9H33kvdtt28XkO78keLyMO2FXyw9w9OIOgZV9C9xgCmQeDcM6p4S0z5l9r+v8wcNcnV3Kmzr9MyfSfb6gCrTvTvldpqQai4ErKfjWJcxtblFlr7LPAbcYqjqp/dc8NMOgLZQ6qBatLh3Wc8hQipVUEQicwcMvRYZkJWH1l20Uw9Wq/+MlwCSJDhN2HR59njrjznmh9MPrv3J8s+OW39V2uvP+Un4/I2rlp/XvqAXmbXnmmdw5a8DQ7/u8++3T7v8j/dlJ3hY0mKI+o5oE9qo9wbXPDi1X8swlkXTcZz/3enA14RNLhq6kK8n/cMRp0Uetw1BXjB8xEMcfVT4ikXinayaUhDJTZ5FHPcEmbkKvBqXqHlaNR4kXgGxmf47lDgLvdILiLTu7UutkVds+KCdfuuSuwpr0Fu/UyDxiV5H1fRUtmLFszAaZnoFoTvN7WJvNLuvXOq6eilELhoyuCLYEVFEGWVQZSVW7W9GNLx6a6cAssBiFt7tEvwInuk+QBEuAvpqJTTQqux1kSt/QJGj4+2Seu3VETtzOj/5RYGWYvuRSvNwN35S7olG4FhCh1mBzGcIEW4RnlgzJA3QBxNCbIYSlRRIqYjdliS7JeSBDQLWEbFxW6tll5h5gZ34cjOIHOHL7ZExDwnj9Z1D3F3lMwyiq1ywUBAi8KpdGBx31IozuSCUY0a/Y7rrp8ghl4NddxooND/VdWFPR5++KO6OmzuEpHY885ZseDqdRsPfvTLr4bbqrj4hV1/e2HxihcCz62nvMreIPuiW6ckdO7UtC8FiSSWJSJkyUWBzM7hAnygQbk59+NABAyak7+QYNQ9gP51xqipNeqrazvngsIFvQNBvCoiGYB+BcE10zOnRhb/iYzTbbv15Q/SFHJ99U/LJIolQmWxBevBfueeGPfzYF7+vINsmFdAhUBGXwE2qmApNQtmZE6u1+VkfIbvVQ05IYG7nOlp7X8Toq7rtH5LeWQHVQV35BVYf2jMNY3zGAIj1Egie4ulIywrYVkQ7UodXYywwDN/IyjafHt12QlLAXn/8vfFZemRofGjMCDC92cuoF22HsGS9wYcPfDNjHNHV1TtqTg/rXe3fsdfeCIFZOuMss1bkfdL4umh9zu60TQmooEBCq1+/fmHeOy+KU6ZzwlZExwdDP47Ix7BTpddU5+wZzTLhuBFrK1u7Dz2B7wIBBXrN4csdRXybV5hoMamR2Ny1hGPycrw3SUhzS4nKArds1syaH/alqIWFytaEv8gtyAQNyDdlubbGseanem/FqoEf3tHjy8lyXBEXluq9IhrRYJZu8sCsKJYORyTCD6C4vacQovP51YbbevbF0cas0f6vg8B3UWcaK86F3WlgirkVCN3Q4Gz8gqtBhXk40it16SRGZhXNK+7jaRhsIPDYWNYmD3BEo/YnbNvRbBawwAFoCVqGA5A4e9sl0wdPHXvhW3kWKptTi8Kv2zyhbI2KnHje/aObK4McLXNRcRPwi4xBCS4c83vNWncrE3ns5x14izTod4FxRupMUKmTVwq/9GD3zlp0s/EBoUcx1UzbKoU+qhp+xZ2feSBekUhwyUiv4DqejFkXmNdROJN5LyihSft3JH2Tn4RsRzc+uL0o+7ZMXHicwK58Km1hbOfWl90joR2kSNBEKNLqt8pReBOR0sE6bt8WeBuaGyI4Lc5BVatpR5z8hc6tf2qes/M0VNZntVgzM1fuFidXXItFUNunp4xpYYWSIMd1NLgu38s75mSBFqlkonRF9DFSYa5OO3s0fWJRe7T07yihePsoHNfuoKMBFeWJneWxyYPnRzRuHAPzM70nQF17nMnuBHBxUNHi5iFx2Y7zTpk2bID8vxmYT+ttfkc4O8XAQ1eT94XvKa8R6l3REYYf2MovkwAgwArg0wOAvQEOvhsIujBEhU+u8aeM/kHK8dfeTrZY3XG2uVFX3706F/IGHF2J/umx19OFN1pNDBw/LhLcOSQMQ5IwX9nxJYN7W/ZSKwWS3MzLziHNRuomx2K8mSr0/vvI4RmeBFXBsaP9P2PisNCdYJliL26JbfaMpGGJhXNxgm3XWsbxlnL8qtce/qGuvA+b0QGskdgAEwf39v4/h2JlGQTXTv5QIeaAxUUCd9dGqhRWhQey/zcQovP91YZLfPm1oJTj7ZY6yjlIrHpjS4fEeCdnHp84Fvw0rTrU819b266nWQMg/iGGarDbI2wKPpHTZw74iUEJVjmEQIptMQwZLVloKT0e1tLZsvsmjzyps8aXzi5M0aNglrNwZv+lF6P9WSAiwHuoFLosjakm89o6ouMDNOwWUIwIwxmUHeCDB3qkHBXk7+AFGVlLSuP4wKCrjJxgxe7Jk26RtXZSSUaQLvcRxW6qPtDD62q7yqGSkTsXwNybHOXiLjjINOg0vJ//P7yk7sHgv6nXrhlyNU7r7ueFrB/U+ifuj/0kCPW7LiRQH/JXf8acxA4Ox2dUkzwJaKpfwxZZ8yXRVI0uQu6T6g8aRvy/5YVVNGiuM6Yk7+Qi7wroDptxuip8+P5Ns0pWEgbXGoZQGA/MH3UzbQc3u/Y88YHfcvL9QYxzYmqmmYAD5hqPNj9vNGue1Fc55iXv+QgG1UE2vhy1F+AzY5TicjzsWyM7AwfGUYO2EFF/z6NXKzGNbBW2Ig2iOu2VERsQRUyPa8wQFvp1hR89hDUoGsUQXECZgS2eO++HgZYOV6+wJNB+M8wc4ysDi6cWNM18vdv3XtWcqdk2m3XiIqyyvfef+7tnoWv5B/WqXxD3iF9hGCuQ7HmLnhjIhq8oNDqxVf+FiwhOe38iU7JyD+fuKuG5sn+ghccY/Q5hxx7Cs644Ea8/vwDNcRC3bnsr+YF+4nWSBGfeXTOh5VfNiZXHfGYrJG+6SIOw8gJ/lb0bAfl5+WV4Q3OvT9JXwTEynq7ICLM2xEvd7PN+bRR5g9tWx4Kg7TOebiBQh3G1mQgQf0t2rSTlREVK1TluryiQE0aa7NlK/6Om/p9Lf4zN0PLrOPMH4ohz7tdd9QaWStoY93mvZvqovrjnKKg8yLrReMz8Pvli3qm+OxhCnMYqD+h6rIoon2+K5TgBOAAFDbUKfOA2iVJfmP11BFTm1RAsfGz8Y5sRRngriUZDrSJpc4I68r5wk+NEe5KsoyHn/FeIouACwM+556oLhf53/DCji4uBDgowMfSER63LlynvrO+ueqUKcm7KqroHELQguVCW1TxaJIGF3V65JF679eWLhGJnsfc/IV5H30yKnPnrrSVlr/L2Q9/dFdlZ0ipCJZJUtKErgsXkuLuxCXDkLQlxTdTFFP3ATFCVElnYcw/fr+BJL/ASEAci+cgWFEVCIYEsiqDtQMWIVTp77aBeXn51rvx3IN/fOePXX0pnXgPnGnb9qWzxtxMnYEG494P7x9tGPa/FDhIVd9X6MRZo29ukh22rS9/cDDLSUQxSQmaKRaLXx7seeaYhEV55+TflyUwb1ToxeFJvcuykipLHr1j7OStWSP9I0Q0UqbUVlxkGrxAcTbYuqMKpWHGDim9OQUWv+dtNfiMYQkKX4bJwiB4QfbYSQQ/fpf3x09Su3a61KoMBGHKqz6//5W//eYvFfkvfcjvMikRhw8eYOQO7GscxgR06+xHt66N07KJLcmgOGtZ6U5069E3Yp0aLdja1OAFNSya022E+dm4tcJ5HjGGXHjObwaffcZL2B0onpY1bUdbvYFaYtzZmeYlUIk8Z9vbRmhFVRCbttUg8ublFloNaiu1RO7b0zmyR/pugzibSJForDtSS+TFsm3s2GXFMkS5pvl5XmEwrveOlhgnz9GuwIvsDF8uhag5MVJx+JLTUWPn7gB2loacEllPnVNoObxqL+rPwL35S3r5jMCwoB0SxxSlUKbyv6N2bWW3U9IRBigEdkmQIIVqiT8Zq2859hZPxdm70RLJAGvLnwy7v9ABgItaWstyt5yLTb60k6ZNUIMaAXR04Q4av+D8QaHWhQtO9qxuMyqsUUKLwzoFO7f+dEqar3PgGkC5oBiuwFpRPGqYcn/XBx9sUOjXKREhTVztzSIyp7lLRKITOnfFwiWrVh915bdrD9lpBczzX5511PLN1177fJJhniUqF6c9/GCdWgpZGf6JAiUYVO8z0WcYMH2sqzdgCgEOcX4wVSg+qVCbdmQAwWLWjdanjOpLScHBJ4xCl4EDbl9wy19rvMzEc6PMLbj/SFWb13qkInjKzFG3xGVhGgJc9SlVGQ/oJhW9cWbm1IgLVzznrq/NhqXLD/eZjpAj3UkqDcgDQciSPueOodVmQvHHwoX9/YpLbRvc8TxYgK22Ok4lf39l4nReK7f0AP16pSKpjdWcJ5SMcGOWGm3bGbXIUD0ntyhIJ6j2ErScpDUvJ/nmnPxFD3z8RtGWVx5YOnjzms10yyI78PSw5TbLSVYPP8z4sG+6wbJLxyKVi4HGRCx44brArPzoTadkhNGU4EVt4If7b+Vlu/DwnElwRTlZUvL9M65AtEtNY+a4eXsluNPOGHXTteg7wkmbE6HvlxbDkFWwtVhMY5Ud1GJDjVUzxtyUMAjZmPG1xmOyRiQNF9Om+LgjCEtWXp8ejWP3tMb5uWPap4RE9MHcgqCjFejF/mcgO9NcAJWILS3fIyjymtrEQpz7P9J9e6DF7vadNV3QROSWnIIAXc1aRbQb8CJW62JA7xTnpbOjBm1y1m0qj7xQC3B2axdgaalr5dDNgzLcpIOH6DC1xRXK5G61G3TRCLEmRByhTLIpLEWJLzVl9fTh1/JzL7wMNJQB0qkJNrwVRZ3mc5eWtseEdyAJMtBetkeYRcG65MnVLIrMMIDBxeYHfJcOAxYjquvNqbZ/flgAj+JPIWW5OGL9VVf1TvX7rxFHaM/xqy+mpkU34H556KF6WRrsPuwiwoXkiJYqEYme1r35C2Zs3nzQvZ9+NgKw7Z+9OHPIXwsmXHbdzW+/+dCpAwb8/a78fHcHv95s/PqZmSXFbyxbvz7/o07VNpDHxpG6RJvsMdIG/df/vRuPH5J92NcHH/xtT0CKZ4yaTHAp4Zi3YuFJthCsUknyy0lTRkyhIGtcMTd/wZ0KofsDSaF3zBw1JWEApb4TbX5pOTUIHBBDaNMrWFxRgSUHXzR2Hx2LeAZ8z/KF2WLqJIFMYHtVvJ972+xDKnbsdHSCaB3Xtyedndtv0OZuA8tF3CmKLswtCFJfoqMFn5cUbeUzp/+II40dPdMMMsScDSpuVDUmYsGL2qxLawMvoi1wo8/rWvHy3y6/cQ5qa1cXGBFrn1ubrW9j5hjN2uk9fMivxk6+bqX6zP5hK9oBzt8i7t9dY85BcJzlgiwJWwWRYgfkUFkFq6p4+onT26V+RrQNL+n9fdPbr+B/rIinGHJtTn5gvzWSGnOvtqdjskb6/09Ef+7OiQBYz25Jbco4goytbTsqazJIFb/OLbJCaskHONoNeDF+pP/PKq4nvA/p3Tou68K9p7bvqnKU7Z1QeTa3KOC8CHaEmP/B/L5Bn38YREMlHrQYVUcoLFrllwwJB6DYq0GBElEtCXTptPq2Idew5t8LLwONyQAF6PiQpy4FXwopokkLWnKcqVtA4IL3HncdKeLEBS01ANieNV+0nyWgwf/nwvresDAeGRhUqyaNmnoBcVuhll1//YCAbV9brTxP4GIgoJ/ZwKN7Ond+YOC8eQ2+iNYoERF5RWAvfGHa0S26CzynYNF5paWdXvgw/2SuaGe/OOPoO7dfeWV3Iyl5+/KNG997c93ay+5asaLBXcN7li86wTD1PVWcM3P0lFeyM5OPUNs+VWCfAJFMU4wRQbUTQ78V30HwUXWfH5om3n4j31o2brb6uqR9+WmXTqX26Mx3joCI39LgkNtG35KQ0KV7A9774YKLROQZMVAU9FWMmzViFu+puGJO/sJLBPirivhV7OfU9N80a8QNDTJs4uo83Gjryx8MU1tvEDEn2lCWMi02RJf0POd42vcmHHPfmzvATvJfLMC07atWH/reH/du/HRJbb+/82T2bNxWCbrTMMLlIlywx/19TzjZbeSA7ExzMVQIlDnuM3Sh8aL2DESDFyr607yCIBl++8QfP3+0q7mnbIAYMgBBewDEGAC1B8AwQkCHC3Dse+g6QIsFsorArC2ySi0tRoq5qqmfLS1xjWOdRQiQEihtz7FtVxX2uOsEoBxiHptbUFmvxlV7zsf+zm18pv/PqqG1KKMtu2RxE5zPEJYZRcWvcgutiG3w/uarsce3C/Di7LFIqwr4tivgPGU6qiJ57E1QZSk2bNm7JrFN66BlK5AwnbexN1dzH/enD+/v5zftYUEFuZDDaDOqtiOUSeq8EwJ857p3EKAgeyJU4oGSnj27rL7q8Ks8x43mvlAds3+Wf1CUjrvd/wmLZ7K2mzvHE8NABXe2+OZNhJH/zvZXh0tF+O980STr4ukwwEHVc96vZFlQ86LGL0pdad5xww2DYNnXSkjToo8CHwn00de2b1884dln4+qDJSICnakKeoHf05IlIu685ixfdJSKfPTBipOryitSXnhpxtGsl8fOidf/C9Bshf6o+0MPUSukwZibv3A+FGM6S9Kpk0ZNCtXXRcUXH/zjnc8+//TDBQvufNGGHmTA6AHVLs71Emjn8RMnSI9+PXY/e+dkMYzv7GCgeNlHqLWO/Pw5Xy5QwZSs779WSvACqn+eMWoK74FGxdz8hdcr3RoES2dkTiG1Pu64t+C+TFHjSQWOMoDPxMSN00ZOWRZ3B3E23P7C8hFBwy0nwVcsJ0nv1HuJZB3e6OftvIKF2Sufe/FPq17LISPJCYqepXVpnOZBnFM5IM2i6f7OAAwZm5u/10b3gAyqlZw0K8NcJBBHgNYDL+q/KFt2VEXq1xV66f7UrRNIhN83ALYOSIC9sQeCVVCH3VcsMFZVbzIWGzBW7Xphc/Hs2c0uUB73XZt9nO9EGE7JZujZsh8lSXGftBU0JBVvw9YKkOkVjn/mFlo1XDFawTDbxBDGZ5j3K4RW0E60Zn2LRBJKB0s6WbqhKjfnFQUovnzAol2AF+NH+q9R0UeYxY5AJ03kbqEoTwQ1U5maWxTgAqrNBFXpLa0cbggtRo2wUKYMgzh2bAzuRDmghO0wKEL/HQRKVLXksMx+qyfIhLgWaG0mKd5AW1MGWCNKoKG279XssG3gzeHP6Srx77AYJ8tJ3LcF7sITtKA7BtssCk+Qyv1cnP4sXqAiOjG7r71xqBr2NRrStOheXWKyXFUe7f7wgyw5iSvCJSK0Mxx5IEpE3EEuyV/i34OqFR9/OnLA9h29S4KV1nkv3zp8w6Rjjl2wp6pqyp1jx/zuyMcfj1jaNTS5OfkL1yvkkZmjJu9zzHvvPZOabpjFppoTB59wAQVQ94nLPvj2UVXNevqEQ6hXUm+cN/eLMYAsH3zkZ+8O6L/mCAH6zRg1Zb9+e+esWPjbamR2dnVfD04fNSWhOmVaN6vtX6yqvL9KoTpjxuipcTvSNDTf6M83v7ScjKLrQyVK+C9UFvcsG71EJkijn8lnnpL2WKC0jJolTvTomoSujdQ9SGQuLdU22i3M+YFT/XleUZC6Nl4AGJ/h+5OGHJg6zAKzsRd+0/ZK0KaZIdDzcwqDdWoBNfYc7nH7wd74BqrFYsgqVSk2whocLS0smjXSl1ct9kzhbMe6snc71Lmo6xpXVgUdppcb9bF09vc+aa/HZ2f4WNYWKaloL8CFe71iAXVVvTivKPj3A3U99+sF6kANOva82Rk+Ctqx/rvdvcjsb45JByMtLBw5uYUW3QzqjDmFi8b7gubGm0ff0CSq9PGM36EG+5OGGdSfQIhFAYIV6mgAQKFVgpDuRE2hTC2pUrvkF6NuWRPPebw2XgaaIQO07LsjDDJwIcsdi/fCtqcsCSEQcUHYCYTq+vyc6l8nhq1Ivw6XgdBNYWVYgZ9t9oRBEQ45IUvb7dddd5whco2IcY2qpirwlth4tNsjS+JeALFExLJAtsUEiLwmsO9r6RKR6Gs1J3/hM6vXHHFmyZojbFuNC1+cNnjZ7ilTeq/fvmPTlzu2v33u4MFnShylL+xzbv6CMxTymq3ImjV6X9bBZ+89c6xh+P7jT9LDBmX8iKU9+8SE99fMFTEuf/r4g6PL0Oq8vc6f+9U7yZ1KO58w6m3eE1yRXr+/gMHc/IX3K8Bdnt/MGDXl/yV6b88tWDRLVf8UOk7nzhg1lRa8zRIbX1h+ghliYlyhQJEhsrjnOWPiBtFiB5Wd4eNLU2R3sL3skkbT/DlnAX6ZU2ixTMyLcAayMn23izqlcw7rhuwbL2rPwMZtFaisCmHktuCUZQVWXEK/zZXPxrA3WkJYNDvDfyWgj7nzPqhXKvwdQBA4+jpv310FamCE44vcQmtIc90H7a3fWHeatlwqUt+1IcBFoCscpRo0xuZ9XPXpgbiebR68yMyEv5v6ytwX/YN6p8L//9m7DvAoyq19zuxsGhBCrxGQKqiYTYAAoiQErlKkCahXvVZCSzQJWK8ar/4WSIEElIDtXhtFsIBYkyAISSBZbFGiglJEegklZWfn/DmTnTBZNtmS3ZB2noeHJDvztZmd+b73e8/7sjR8FcEqzqzwvGnt4mq9tfl0rfqzuy+OtViUu8tXy2OP+L+OXUwdEVAK+DoPbIryJeam8oTgcSK6Y/6g6Pfd2aaU7JSukqjrL5M8AFmHglkUwHoUyo4wT57PgwaguCiUSfsEMu+LCYlhUcOmaBqBujYCbQHgU4u7BzvSfFCmb8FMC96xf9mS8rEMAHItx7GLCD/seRG7lcXMLYKeX1icRK5lhoQrTAuaOdOvUEH+kesXgOArEuD1gLQ0TjtxOBQXESJeyBYiwsuXI0XE0lhelYxeuH3xiNPnOjz2w0/BnPz/4MaY3grL7szMSN5FHCYIOKXF8uUOpz4k5i19HYm6x4ZEjbI1KLuzhjj1zAAAIABJREFU109EgI/6hk6p8kUyPevAMwjwRGHbYv/Peveu5Dlnq8wJi38df+P1mdkApm8RqDkBXJgfEsUilzWKxLzUD4BgKhI8EDsoymmhtcSdqVMBkSftLUCWv9HpxOiHg+dwmpNH4uTnOSPMEmtiIDtH5ADg8rbjBr/lQmUYHix+AaQ4USjRsrle+Vcfg+mDDFywA0BFILyckSc9Vh/748k2hwXp70Mk5V5v5isqQniuxFUDb4AH49KgVZvOFae7SyjTlfZ44py/jheBWSqXSdHJuj5ffVfymyfqcVeZLrI3aiwsGh4kFgCC8jyuz8+RmlwHWSb4+3gxsM5BeWBMhtHE+lxNUc0IjBrkcyWZJbZ/VtYyDZm1w+vJo6c4xahCeml7hlFim+taj3oPXoQHi2OAgCf+oBcF6NS2egVyFbw4e+Y4fPDWs7A9Q3UYLB97BhWu6HkNmEqLGwR4wX3Sen0j0uT0PDPny1fE4rxXrjWT/AYAKbnESPhC7KB5FbZ0jt6ViT8uC8QiaQAJunJgAmgAALJIpr+ljNPMoFA1KADM+wTEP8s1KEz75ofMP+5oXU3HNY2Ah0eAn428EqrsF3Wx0u4WRxBODeG0Ct4FZsopi8DyZwxiRFrsOPl7xWkhTCnkiRYvFpkt1snCqki2iHheor3gaB9PP/hghCDoniOiUEDYKBO93mrFikrfc3tlWVJEeLFkuJwpIpZ2clrN9UOnDF8zLua+9jtyh5kIxKQNMb25fS2vbt1244rwsOv7t2r9WMDKNAaJHIr4+HihxYQ2hQj0QmxwtM0d7YKsD2IBhWf6hk5h3RKbMSP7wENlwOti2Vtsv9bQicVTHYrEnSnJgHA3ALZGAQbFGqIY1HI5Fm1b1F7w9l4HgNeTAGPnG6KcFlBN3JkSVHYvprFQKQIcIYCH4kKi1rrcKAdOPL4pJxwBZhHBNCL4FgiXt5sw+F0HTq045OZe4F3SQtwAeBHAaOangzb+9cvW0GQmRdWd1d3VQIBF6UbpEWfGo7EcOypEHE0yKNo2Pl4CtG/tvOuMakWqtUXl8lTXj5palNaVa7H/MO/rlYd8UvLd/KeimVSvwxX2RpnOVJXCopvujZ6EQEranCAgdGnnywK5jTIqu4/g/gyjiV3RmqKaEQgPEj8FhLF8CG+cs8gr30cNNfg9xWtKzbtqYbpR4pTnWo16P8JhQeKziIoonpL3yvmv1QW/tAaPmAJHDu2BfXu+hzeXVNjwAiPxd85aBCZTCfgHtGsw4MXpcyYoPFexLkrIMEpKvihHUl5qDBEkVRqzaoTgEoxLu4GZlBQPmXAAp3egAlCQarN1jK1Fkco1KDjNQ0DhTwFwXzHp9j0WEmnXirFWvwG1XNlIg3cvHUnXyYBXAWBPROrKIooA2BKAfJUdc2WBS+cJ8BQC/E1A+wUUfpVlyjdJkvHbHxXniqZw/wgwWMEuIZwGwukgfC0+L9OhYG0ATuNgGiWnL7HDg8q4YCYFx4sWm1P12rCYER/Li0nVNaSj5jh2X2CknkUeXc7/54rPzpz1lAz0HwDKl0lIaLVyuVM72ZwiYpaItR9uA6CvESHpcqaIlLPlYf5V1189+v7FkaO3bbmu6K9ffjHvWDmTr80vxjvu6FZw4sSfg9t33HBl8YXJ6KDoKI9VojF1Ksj4jgwwckHIPGa4XBIF2es51Wdg39ApI6q6xW7LOngPMc1Ypl6rh1/hsDJ7wq6lo9FMXwJBIQmwaX5wFDMQahSJxpSBIOMaQOhsNksjHhkcwylITkVKdoq/SaQkAIG1KfgK/DsuOMrjiuInNub8g1BJJ5lEQJkEtLz9uKFrnGg8jjKIawlgqnqOl5cArVt4gVc9cAm4UMRpnSaQWTXPEojwTHqe9B8nxqBRHTrmWp8ekiixfadiPdilPb82HQ9m3rKV6d6CPFj05C2XnFhbrFjHW+zakZJEcMgi2O7bpjWEv/gUM+nyiSgfUMgnGfLNOsp/1BB1yLUa6uZZzrI3tvxnEZw9WD4EDSX9rCZX5tCxYpDMKpCKMzOMJpfT+2rSjvpwbliQPhqRKiyw2rf2Bh8v3ndp2HGJxS5CeHqelFmbva734EW4QdxURj+9mQeN6YNMI6wuVPBix9b1cNW1N8CbKVHwy/dblFP4s179BsPpk0egU2DvCvCC/b/HTnsYRPEiMHJo/254cvYQ5TzVC5x/7nxFeZrYqROHKoEfWh9vpiYyeGINkHA56vmSVHpJaou6W6D2z3rXoKp+s0osq8Va4psMozTyZWNqZ1HGT1S2RaVzCf4AwHkyyAMES3qH4uRBwGr7rJB5iJ07gGifKpTJAAX/fIbEffEhkRfh/tq8m+tgXSOHQFc06cciQQQg8WKIF7A1jR+QYLMs0JeZeWZOWWiKmo8AC2Pyoul7i5sHP1d4C/djS+oH05T5c04BYUBD+epbmBTMnGCmBYOoWZbPVCQ6UeMawnn6vJvvFobR+dmzgyWz/Dwi3EiECf7e+gRMTXXKkpJTRIgoRgC4AAgvXsYUEe0V7NCqQ6v/PfFJ/ID83Qb5xMkOp7JXPLDi2C9beEF37+mZs2YhUDCSPNl/5UrWF3E4WDsDAfxiQ6LGV3VSQfb6TQD4R9/QyYqjga24bfuByYSwXqfDoPcGd3UKLEjYmZqJiF0BqJe+JflE9462m3Zir4MWHQ++P48I4DUyJiTSpTS7pNyUOAJMsBhyviOXFsctGL7ArXaqtvpy7NMcvh4s7DkOUGFSLm87dojDzKHwYF0KEF7ciWD9K38vaFFHbTTZCvV0oQnOFlnL2TQtFuzd6/x5uEHk55yyYcI75bpqUoWty1PngG+/EncJ89ZW3Y7M//RePiDqvSpSUHhu9vsvORXzRuv5nHXKinW6ivVcTzvfdGR8+BgGxo6fKScONmvX9qeRLzy5CQh6AGJ3ILkHADIAr0QZ2+oUAuUDQT4h5iMIP8l6Ib8+2p06Mj4qeyN/9fpb/sj4VmEZIyJ07eCrIOeNOQrPS3D6bAXhdGeGUeJNg6awGoHRQdDZjCKnYfnxRy2b6aFli/qZtujKxbVyIMnJMEqhrpTj6jn1/nsabhAPWmwGoXM7XxDtvMTUF9eH77wAERNmQlbmmgrtCwYPft+9A9q271YBXnA+JKP0DHaoLA31xaJSC1XQQf3dGtm31tlQz1cBDr54nHvJoepsMNjR5+qhFQCG9e/qC/XXn7Js7h5obwhGURlNtcSpsSsXP4ZUTpOrJvYBwp9sKcr6E8ykIB0zKnBfMxL32bIXdPUmbGjnTQgGvwukv4utyQAgzMP9OwtAH6CM76d/J7GTRVO4NgJXW0AGFtdUdvUswSAEpz79y5ImoqaA8FbpUA2Tgq0v/1HmqHArbwgCANPuOZ2EwQyeJDLjyOW0EOsuFUZGTpAJ3kGCn0Udzmm2fPkuZ7rNKSKA8iMIGFIHUkQGlq01efeCd/2ZxdAh+s243eR/o+nPff2as6r1xri+rA+yQYc4NPXGG71u7903rtXKtMqMMTsDEJ+d4t9CxDOIEBsbHMWAk80oyF5fQATJ/YZOWV7VMdO2/RkuCLp0kunGNcOvKEe/HYyXsxY/eqjgwEvb130Lv2YXHDxz7DQ7cnC6UY0iMS/1TiB4GwE2dw3uEOGqy1JS3tLJJNOrIEA7IvqZCGIWDIr+ukaNc/Dk45tyJgHRbAAcQwAbdQTLW48f4hBAGxasn4NEDC5WBO+C8YSSXcjqSpwv4sWBBGb5YpoIAP0uy/jg5u8kh7Vb6kp/Lkc7wg0ij9ONXDe7QnCeuaOhbjapm0/VnafO5ZyZ/1nP73hzjOv0beavzO/UOaWW+cHzuyv7BgMDKh0694Qxk+bAlx+9osxNbbXBkb5WEmBEeD4jT6pwVlqWv6x5SZHcgxQwg7pXgBoADGp0B6CKlDkE4LS4fEIGN4R8EiC/1AT5TwyZd8KRdtTlY8IN+tXAotSMhPmJCuDZ2IOB1YNHi6CCDCbD8IzvJKc2CRrDGI4y6NIIULE81+sF6NTG+fS1+jxOkpng72NFln0OJmvivHSjqdL715P9q9fgxcjrIEAQRIWmzR0J7KgAYNWGFnUfPuoO5VimDvIL4tZ7nlF0MPjvWuaFdYHWLxPti0llcagvyHeWL1CAib8P/FYJZNCe0++aEZVeVlyfiszzeRvXJNgswxl648EjRRXU1IiF8eAdUGU6t9Ldmlr52bsODfHzUYO9+8gm81xEeJB1e2z1kWmu/KDzEhFEUVDANv6bkiKHqORa8kuD/7GAEgvk8EOCPbhL+Z8mL9pG+T8QYlpmnumVhji+Hu4Tv3mYGcFaFCqwxyk9vJvNLh28kL1KkwLyhwWUYMCI07AOW9gXrI7L1/4Zy7kX+eBu6sDJmTOv1yF+ijIYUSqd3uLNNx3WXFBcREz0b0S4HYAyECHhMqeIqI9vHlvuR+eE3NSZJ08EzPwhf4hYeu7k418+HfoSAxoB3t6vvh4+anLctm9P/VlYyCASXwOHY9GO1HsFAZJ0qLuxKlHK3d9+3BlF8z5ZEG68avCkKidsM7L+MgDIeUDyhNXDujliP8jf8N4AMEcQhPu8/LybXxN+7Zm/Cw41O1hwgAEvvu9qHBXMCYD34kKi/ulqgayDJJN5CRGMJITzZcycR2JDomrtuXJiY840SzpJOACuR5TT2owNVXQOqovwEP1gkIlTtsppkZZo5qsD/2Zel9VBoKjEDGfPm6DY4v6gtg0R/1fsY5q3bRuctde/ps/LRyA8WHwJSLGWdihdWDtutsALLTOWj7XFfFXLsDf/swU2aOdqoSOnwTXBEZWYudr53vGj+6oVlXf0Hjh8orhivuCMTWrS9qTWsqDrgV5Cd5BVcAN7AEI5yFF5bnMYlDQUyCdZyJeR8vXnpPyYsBhOh7wsEb8m3it+enxVWlUVbdKuH/iPjdFhpKoLdKKwBM5fsFjsEqSk75JYBLwpLCMQHqw3ABGLdCrRvpU3+DgBoDaUgTxz3gRnzlbsyR1q01O6Yu3amqVBOzo29Rq8iAjRB8kyGbmzbGvEDx97oQUvGOEeGjZdSR3hFwqnjDAabwsUsKVMrWVecL1aJF99QX66NvkS5gYfa/0yYx0OaxojHxPQugNUVQazL8LH3Q/vr3zCLv1R+yLrP33yS1eOvqEPEYyzUOMvGTYEuDY2JOpHe+PZ9DlPpLx7ArFgDTJocUnw7h/vDPHDrab2WwxqlJjMinc7T4Y1qr8V9SLgARkhITPPxJP4pnB8BHixd09ZBlpq2U74bMvOHoMQrLjNT2jOSXvPstB8x+IYwoq/DGDwRNpQZtnML7SL9j6O1+3QkSdnzbpaJ9MGJPjTf2WaU6wexUUEiIUmSxHh/+pIioi238PC7hr1WUTkbf45udefPfR9xsHcN+deUcZw4TSCa5aMuPHCrb16thu46v1fjxcVsdYIp/g4HIm5qZ8Dwbm4QVEMFtiM3dnrwhAwo9gMHQYOn1JlusSMbft7goC/k0B3rBlyRXXOTMy64bbyDg2n3bHORtFzGS+f9fP3G5S1fluPzP999cWJgyc49dEtQFfCzpSFiMiAWkJcSFSFvpHDA2U5UNmdLZZfJIJ5/CcEWBIbEqVqvDhbnEvHH/s05w6BhT0BRhDQaiBIazc+1G5ubbhB5O8ti+lWCj8fUdlh9faqPSYGMy3OFUkVlpVqgwjwAKD8WGaemZ8pTeHECIRdpxuLAiqMHNY26ejErqc95gXPq7TMB67DmfmfPfBi/PT50P86hTRySXC6ibpZpbqguJIywo4Rfx29+Bry1kstP8sBp1IKbbVv4Y5lHXU6c3eSoQeiwAwNBjNYoLpHOXtDYR0qgQAHSXHWonwQhHxZhnw/X8yfO2Au60d5LF7OTumqE3Hy/JAofo9XGVp7VH4edHBB+NVjnbjMBfP88uip8mxGnk+mG038Hm4KywiEGfTvIJCyOeDro4N2AfVLJNqdF/LQsSJlg5WjzEXtkUyjtMid5VdVVr0GL8KCdeOQUNn14oUho1/2QgtecNrGvdGpSupIyPBblJQRTg3RAgsqxc/HtzmoLxFbyDvX627wwh4A4kzu5nGtDRvS9Iw889oUY0o7ScZpBMD5/mO0Y0dId84PjnZK/d3e2DfEz8ODxeeA4N/WfeMJFeuv+HnrnMrHdXaMWPmXc1vPF5krib5ZyvmJgJ7JNJrXO1tuIz2eJ2KcnsAMANavYG0L61QPVnhjwIKBPc65ZsCK00xc0hhwZpxPPPBAV1HQfYwEhc4AFxYXkfnlYqS4VABc8klsr9+dqbs2jk3aseQmEoTPNqf3KTl1+Pzxb5On9AWA1iyeuWnchAHDu3R+6ZkdOa8t/u47Fjq92xmQKDk3rZMMpYdQgNmxhqgq00EKstY9AIgrq7NJ5bGYtuXvdoJeOgqEs1YP61pdCh6rtfPinzVR2FmEwYzVdz3/r03X3RTy8vH9x47+95HX9Id+P3RN2b30l7vGOSk39S0C+BcRxM4fVHWKjCP1Je1MjSGsEHX+CgHiahvYPr4x519QLuwZCkTvyDKktb8l9Nvq2j8qyKs/ITFgp9DCtcHPZwYyeOJZnbW6I+Nj65jSUhnOF0twocSssOcuCYKXvM9K8Z/9DjXWO3G1jfX5vP79waujj8iLYCXJvFM7X4evo715kxa8YG0yTht2Zv5nD7xgUXg1hURl6lZ1LbTaF86AGOeKzHDyTPmtVcae2py5S3IK6Hbl3kjcsSyQgHogyt0BsAcISvpJDyAGONB68cvpyBXioYKZ8sFsyo8dFltj4D85d6lBBmVXfK1A0mMxg2K0aaAVXQsP0q8BpGn8B08Kdbqa9uPKNXDnOQx+qbapSDAsfZek6nm5s5p6V1aEwesqGeSf1YYzcFofxKE9NdDnLrDotEp0qj2HmnoNXowM1v1LIFSU9R31+7Z+cTFQ0axFgCKeqVqn2mNFqHoTbLPKYIctJL+upY3wzcU3WfnbDOdk7DK9qr2ZVSCD5+WkWD7Sy3Eh0U0e81V848NCdGNRxgRLKkHFUb5eOoXGWtsUMmZk8PU9e8FUgYJebDq+402m2M92KYvyRh2Lv3+lr6lUGi0gdrOxK83MCnYGYQHG6uw3O1iEVwsAasd67uicOc29JflDInlowMoVinCuvVBcREz0BCDwDsFmRFpYB1JEbDV7eJc+XRIfemv+dbv3Gv44criDftuS6d+fPvBDIABML3xwrtdrv/xQ8FjWdqnUbGbmAru/sNaRw5GYmxJddq0eE3VeNz4UNItFtmxGQfY6tk+9rW/o1CurK/yezD98inzEIkRhwarQLvwccDT4nZvq7eu954WtCQ9IJnPJe0/9N+hA/r6ZJ/8+6TZV97TcNP05KvkEEG8CGW6LGxy12tEG2jpu0c4lEwUQkgkhEAGPoADzYw3zKvuM16QCB889sTHnfhloNiIGA7u96HTL2940aEd1p0eEiCNlGWIA4FJrCYvFOltuMkNO74UgCs6zMpgBxyl9JaUSFJVyup9Wz0LbOloqy/rEzd8VsxNRU9RgBMINIoPyk7kI1jVhwTxHwp7biBa8CGjTUXGn07Ji7c3/7IEXzLxQ9S14DulI2ANcrMs4dqpEYWZyIML89DyJhaMvS8RTvOCX17qHThAsjI1yjQ3W20BORSm3DL8YBHtBgJ+UVBQS8nUC5PuZxXxHddaS8pbdRCSrltGHAenxuODoSxy4wg3iSdb15Yo7tvVVUnk9EfUVvGDwi0EwJQieytglsdV7o49wg8haW/w+AT8fHbRtxKwL9Wao5FBDdHfGLjPPoz0anvm2erTJFwsPN+jnAZBCDWvuJ0JrB8R2rF8CKrKtRbWtwQt++Gxau7iSeBIj8Y6kjTAb43ILdvL4aMWbCODRTKO0sKrLpAIZtZnjXEu3jFuqGWUQF1K5zkFF8OTXv7m+TtgksY0R56KxZoYmDhPQ3MbIwmAaqaiHCCAhAoAiWD8BCNZJZnr40dBo60UwL3AYtGMaf52x9S2MjFxLBLeSjKMCXlueYe9GHp9c8AwARgGBjAjP1cEUEbULg/Xe+hfjv3i+69GTfbz2/DmgW9Gpv+5Ofy6MF9ucihNy8N77/P10uis3H/z7zimfb9zmSnpFYt7SbSDT3rhBUXdVN3YF2R+uAiCfvqFTWLi12piRdYCI8Lk1w7oqVt1OBN+DDz2XuXCPbwvfu3/L2d3q718PrfpkyYc1tk3VtmFx7uIrZNB9SAAGEvDG+YZ5TgmLWvdn0c4lVyMKCVguTMsT2vi4QVHPOtFvtx167NOcWZZ0koEIkCagkNZq7KBqRWtHXacfBIL8AAGy+G6VNE3WIBJZk0gQQKcDQEWTCCsE7NjWlJ+trLfJWkTMrNBanV7aSfqzTATxLRNKK7bmeZ6h5bZBruMFjTLo7iRAZZKsFwXo1NZxwTwVgDh6aG8lxqyqfaHOB63nbupCtLr5nz3wQmXznjx2sKJuLSDC/dHOOfl3e6ku2kvFwNlfFwXaAXViz/SdxTbZB5f7Esdnxvs0b9FGATMQsbsiIApyDxTKf0aANlZt/FVhbADlCyTklzEn8gs3nsiPj4+vQAuT8lLvJYI3tOcRwZs6UYqNCSrX4ggz6IMRiJlwIOoE6NzO8XvH2TGrr+DFhWIJmLFtiS8zjFL5c7+Rhxb0aqxaF9a3QOF5E5y+qH2RkWGURnn6NqnX4MWoIDGOEJRdL0eVgq3BC3svGqb1WYs55WxZB30GDIWi84XKy6c65oWaSqKl/9W2VSqPD4uq8IJWmXMSPJ25S3rO0zdXQys/IhiukEl8k/XC1L4JAkJAc70CntWl4Mn16XOmi2wbS+N4IZueJzm72KpLXXOoLcm7kgNA0kXIghABpAAWPZk+qxPwfZ1JXhUdGl1V/i+zKjbw4lJje+pQnZ466MwDkbeDwFob+FzLFcurvXaWFJFYptcj4CsImFwXU0QsY8VfmrQnNzzbDX16Dfzux0Ftd29KNP/+dRq/l5jqv/7o/ffP9daJqUQ4M2DlcpeYCUt2Le8tmU2/gkz3xg2+dAdOe90KstftRBA+6xM62e53ZHrWgfNIsHL1sEBndSB4i7jlorzUawWCdALKQ8Cr4kKimrn7HkrMSwkFQk5Z0RFA2PyQqN01qSM+N82vBZheBCBmsnC8VyLQw08Yomud1UWZmeKJ836zy9NJqC8QviqAkNZ6/KCfqutjcDD4tST9dADiXXvWfXLcqsLxwTtKSBtQhnUZu8zqLrDjZzcdaXcERo4EUTgrngQqt0x1diFhS8fC2rKUy3V2/ufInFILgqgdVTfDbNWpOtPZSzPhcwvPmZR3PwcCfJFulG6yO5h18ICXd7/eQjh/toeAOoWxwboaCNidGNxQHFHA36rZvxBRObCBAmveWMfvIEBcnCHqk/Bg/WwgUgSIm/mI0CbAcy4jjoIXqmsht0krGGsLaLN2PPTE5WMdA9Yz4BB0ugtjlyUOBql0rztSezzR3tooc1SQ7jZCVDSuGODu7IDOYm2063LXwesNdqhRA826vunflzDQ6LGo3+BFsBhH5Bx44bGRrOMFnzlnAv7H0QReOH+xRhnEEUTwHiCwA4USnDPd2l8PDGDU1bhQbIZTZ02VacyE72XsMrnsRFBX+xqfGS/6+7eLINk8mhAiEPDacm0KfF/W06oFA6Mccafgi8m2qfvrCvPizMzIbED4vWVa2p1Vjb2SIiIxY4TuIoItgkAv1dEUEW0XxOlP3Z4bdFPYwC1brjYd+WVHofF/Dw+zWF/PODtr1lJZph8J6I2AFSvYRtWlSNyZ+iQg3GeWheGPDJ7LrjBVRkH2+hMkw6x+w6aw1W21MSPrwF+I8Pmq0ECX25aUl/qVTNQGAYOQcFLsoHkf26vX2c+TcpZMJgHXAOIPWGoaHTsslunSNYqE3NSHkGAKIFwNBHsJ8In5g+ZprZpZ24OtFN0iQlpdYw+s2e7r0wxnIwisidGV2BlIENLa3TyI07qqjZt7gXdxSx0/K0aQDEMQ4TpOgbd3nvXn3v7+Jq8WzfdcOHn8fflC6VdN+eHOjqBrx4cbdKkAqAjK+vqI0M6Di1DXWlj7Z/11rOiizopAd2TkmqsTFK79BrqhxhdylrbxEtkNRepBDGogatgbrLsB1VApKGnTzJjmqs2lJ/UuuKv2wAsVRFM3Q/mcqtjaDHAV/LhN0WHRWu26YUhtFsELUpXBG/bck+DXgR/rShwCoL0IuAcA98qIe0iiveCj27Ng4Owqha491c7aKlerk+JMqlptte9y1qNNVQOCxzJ2SdWlXte4qXV31eVA18KD9FGAii2aw8wLB4ptkIcwEs+IvBK1cGM1pEEMu043EQVl97KCXsF+4Mz2qQ/BL5+ThSZgGqAaCPB1sa80pSHY8yXlpYyQCSIQFZbFMAI4JAC+DwKtijVEKdTQ+hpnHox8CBAWI8nD/VeutGndOS7516cQIIo3SBDg2TqcIlLpMiTsTLkdEd/bmtHn2NlzPqfS/3MjLxwZvudFaPvCmZEjiSgQESb4r1jhMmMgMTf1BwDIjguJUjzZq4rfdnwwQJaFn1DAoD6DJ7PuSbUxI+vgz7zTt2ZYoCL65kDwDj/3kUVIWWwy1a+F36RZaVFtuvbt+hsRHI4LibrBgXKcPiRxZ0okILJQ6ca4kKgJThdQxQkJxqXd0Cy/DoiDCODfFoX/wRaxW84zf9IZYdWatOvYt7tbYOEZ3lGdDYA8xsvNJKR1GD/IKcr8mEEQKJPYUzYT63u0BwFaEoEvIghl4sxSmaL6BSA8SSgfaW+4pqT/xLH9m3fsxEBOSJnQLyfrfYICLo0zzEuvSX+azrU/AhHBXtfIJPP3W4kObXzAW++8Zon9murHEWcvSHCqQjyP9mYYzT3rR8vd18rEvNS/gKBzdSV++3zSuTP7DyjaUc4ydpxtqT3woirXQGtGN//O2nwcJlNYS77HAAAgAElEQVRJJatdZ9vk6PFHT5ZAcWm57kWrPr3nDXtk7m4wy10AhS5AchcQhM5A1KVM5LqL8v/FOAcIe8qBbQY5hD2EtFcAYU/hhmN7tWk+jrbFk8clG1NvjjFE2WPIYbhBPK9aBTdZ61a+IuyqdeJMeZoRAXybaZRGePKa1W/wwqC7BwCZxu9x6pcnL0JtlH3qTCmcLSpfvBLi3Mw8k0KZa4rqRyAiSDdVRgW4UIJZFkwxZGHO+haVACxuPMI22SyN3/wdXDZPdlfHMHFnShAKQgRxSgiyngWYAPF9Alo1PziKrTXrfZydNau9LFM2IXwXkJY2xbpD5SkibMNJw4ggTYdCQh1OEdE2/8aewb1fnZMWfVVedqf9hSXXiGcPFUz6JvEWBgFYKNP3pzvu2BLYvMVLCHSP/4oV/3X1YvJ9AohGR0Qrd2d9MB1RWC2KUkDPkOl29U5mZB3IAoQzq0MDHaVlMyjzIgCw0wur4Uf1Htx7mm+LZm/cHn93lpevfqSgE3vEBM32iJhjUm7K0wT4LBGsmD8oKtLVMbV1XsLOpQsRacHxv068/uLE+EEWO2F2GOBFBOuMVMt4cWdbzny+vbVJ0inpJAjoQ0RpJRKmdZk0+IA767EuKyEv9R9INBEA2WYZEPEXAnr3LHklx4dEXvBk3Y257HCDfrXqKMNsyLaNmH3BWheqWCwBxmYaTcmN7d5IzE3lia7tCRrCISDK/GLe4+Ol0pKWPDasd8G6F54Ke+CFNqXcug1aLT61HFHvVaHB56k2q+Vqhf7t3U9J25O6gF7sAjJ1IVFXDmoAlIMaKriBqKR4WeIPINqLAu4hwr2CgHtYlwrOmvbGhJVrk9RWJO5M/RiQ/tJL8FhVKcWjQsTRJMOX3Ca9iMDgRXWhTQPi47SpQO7qly1bZ3eVbe++ta6HdZ8OHrmYOqL3ltp8kQU1ZnlW1Z96DV6MMujGEyDnpztslequC1vfytFapRLQjEyjeU1960Ntt1drxct1izpUlIXrsy1S5Z0ZZUS/OYPS6Ly8SyxBa3u47da3ZNeS3pJZx6KboxUdC8QWZa4DG4BoVWHwiVXxeFG0y25h9eCAszNnzZaBXkHCKf4rl3+oNplTRGSJHmErzDLg5lsEeqEepIiozR8c0LHVS098+EzPffs6F+87dF2fg3mfLPzu3fmswXM9k+g+nzjx8NAOHbcgUJr/ihW84Hc5EnOXvgRA42V98ZAFAxfwrkmVUZC9/rGyJPH4vkOmOKTeNmP7/s9RQP9VoYGc6uJIMAjDaSG8w8OCcgwgf9fj2it/mvr4dOjUu2t7QFgeFzxPUTL3RCTmpSwFwrkI+ExsyLz/uLOO/9uy6M4NyR++XXji7KHbHps2/umxT/OOOFP677M4fbA9Yq3FkY+zOwgip5MoTB4ZEZd7e8lpzSNCj3iyEcm7krubzeJEAeB2Ak5FQQKCTxApJSY4yq7Yrifb1hDLDg/RDwaZ2IVIiXatvMHXu/5tLtT02rCmGWublUftWRbWtN3uPH9x7tIhZqDsymWyYC58AgJukXXi1lX3zT7VkkRlixgRILCDnzubcElZ9haBrKniiPuMqn0hil4VZgEebTjrp5yX4PTZ8t10REhKz5PiXK2TNUx05y50QQG7OMLeKGOTnpCJ9oIF1ECdsEc2016BhD1xg+e6FYhOzE3ldxOD7QdAhgW23LnCg8Xnyph3/+b+s6Ngqxa2dVKqEgNWQaqfv/sGFj1p0/jK6aGtS+AFN/7IyWIoKS3XzkWkyel55o+c7pSDJ9Rr8EKrGOys2rR2fBwVbnJwTOvkYUdOFEOJyXJTAdyQbpS21smG1pFGWSZEm1WKGCOt7VoxQl+vvzLK6Fb2ZVb+9FGGUVIs5+pavPxtamfRmyLKaGgRiMjCm50AcTsRrfISaFX0ZRAKrK0xOj1z5gcIQqeWK5YPV+uckPzrk0QQDYh6lCl+Q1wfJW2uHkXK05ueGy579Wi164dB3Y/+lJGx843Ziy0iuDwxotMzI79BoHak040PePVVpyj/1uOQlLf0DyL4JC5kHguwVhsF2etXEFBQv9CpzBywGzOyDq4Ckq9ePewK1khxJNjitU8ZgYtBA6ZUzinD3V9qFtDsw5mpc3sE9r8ig4jC40KiPPqQSchduhaBbhUAH4wJmfeaIw134Bhu8wIUhKejXnvoUPeBPfVkpqfiBke9y320PEdVkU8HinPfISc2ZXclmWYDCrOA4Bynz+h1UlrLm4Z5bFdIbX3SjiU3kaC7BYBTWZjshgWA8D8oKU1uzMJ37ru65SWFG3RvAOC9/DNvLnRs4xD+6O5mXLbyTGaCvy3iipb7bFa60ZR22Rp0mSpOzE3hlLFXCKigTPNqvUDwZZc/OmydPn26xfMTYHQQdDaj+Bc3kZ2FurSvfge9pl2xB15Y61vYqk9do/BnJ44egK7dB1Sy761pG6s6X5sKAIDvZBhN1bp11bQdTrI3GKnbAwA8R9gDiHuZuYGEe5wVFk3cmSoBatg6BO8IkvRUzNCYChZkmEH8CgF4Dqqwu5jlZR229Eu0xzhreWxvPOsaeFGJ3Y3wckaexM59HgmPTpI80mJNof8YCq1NJSKLgjFFEwI7OP8QqgoNUxWmtQrQnu6PJ8v/62gRmC3WmbJeCtycA9YWkZ6svl6VPTIY2goksr5Ab244Uwo5L5LVhRtK2GBgLMkwSs66JnhkOFKyU/xL9RCBJEQgUgQR9OZJPyGtIoJVNXVM8EijPVDomZmRJwHoPy1XrFjMKSKA8kMIOByAVgqgW1hPUkQqjcx9iTO/6zn4uqu2bws6d/LAnpNZy+7sb9GBYHeP2wtnzpxNgAsB4Y6WaWk1EppLMC69AWX6Bggmxg2K+sTeJSrIXp+OAH/2CZ3ikADnjOwDaUB40+qhXbvZK9vyObuM8EKeUwh49/8RizjpwoVZi8eLou4wC80SyXfPH/SQx3zSeQdMPF+0EYhuQKRbYoOjFfZiDWNq2ZxuKTO5EDH0/uTIH6+6fsD4svXBc3EhUWxLypaHD9SwjhqdfuqzXd3Ncmm5JoaAR0jGNDCXprWbeP3ZGhXswMmLclJ76HRwCyFOZ10ey5xlAxEmx4XMzXSgiKZDqhkBixPYb4xd8GHsAMbW5Y0lrMTytmXskpjF1ugiMS/1GRnMHy4IfrhCB8V6ECIMXlfJIP+szO1qwTHCHnihBSZWJkYCO8qo56iinFp2BjvPPBiXVuF26MmLXFRiBr63LLEhwyi5hzLgYqOdZW84IiyanLvUIANxGqd1nAagJ+JCol/lD8KDxBOAil5VlalGroAJVbnMqI3RMm74b9pUIuv61GMlU6kCbqn3Ctszq2HtqGSdtqSWr96DB//Mh+69g4AZPxzVrYlr01633q/Gwg3i32XCXB3Lbyhfp3bGrR8Q1ncuPzA6BfauFWEcF7/LDp3GoAWDF5YozDBKSq5fU9gegXCDyNRu5SHNtMIOrX3qdapIVddZ60BTfgzOzDCaXLKjrOm9FE/xgn9euwhAipBlGl2u+o/HAWmVIMOqmEFR22paR306//TMmWMQ8It17YdNW9dq6DhEuAeAtiPC8/UoRaSTZcHKea7rXs5ZPEjU6VK/+DBAKjG1LipY/1LPw79vZYtNpvX3PDNz5gcAmA1AS1uuWMECpDWKpLzUZQQwOC44yiEmRUH2+j8QcHGf0MlLHKl4RvaBhSTDg2uGBbZy5HjLMazrwWyEb8qEO5k18znrr734TUKCzls3SxDFXxFAiAuJYmFPj8XinYv7Sih+jEBdZcBRC0LmVdDuXah0gCUVhtNd1peJkfLu1IorDb32d7+2xw1b3s00t+3W9rbDvx+u0A5yoQ63nXJ0Q3ZvFCrSSf7k9KRCv6K0HmFhxW6rpJqCkvKW3SSTPBEBWECWRXZ/k4neOneuRVJ82L210oba6Gdt1xEWJMYiQqJab/vWPuDj5Tktg9ruX1X1aan9ylu8iVlb7aUJD9YbgMoXq7XB0rFli6s2UF0o2mJ/q+kFtmxR1UXqrz9luS0FwdagFZeY4agFvCCArzON0ui6ct9X1Q4n2RuqsOjAqsojog0Hs3Ne/eHN1Zv4GNa961oFW8eZNaOjLjN8/2xauxg+fOf/wPocLXjBbRs77WHQ3hPWoq/qvXjy2EF4cvYQxdXmhjF3VwAS2jXxtvT3FFcbDgZCtmesusQFx3rMrBhgf2UYpQp3RnffNw0BvGBxvjE8MFVReaoaNGcpPNYIGJerRcH4RtF7+QAL6qhIFz+Afv8lR7mpGLmyFm2xfmhZo2LWDz5bPuT2bgotelpGe/o23cMqsPbaU5c/DzeIrI7/vNpGZ++putw3W207eaYEzhVVMCrNAgpBX+eV/lhb/Vi4M3W4jhc7SBEAeH1ZLj6x6CYQrHJkt7y22lnb9ZyOjFy0vu3w+9e3GVICgL6EGP9pTG9Or6gvMc6i67CFmQb9hva/9cHU2X4//dQn6+ixwKu3pU6n0/t/2mXpDG/tTD8zM3IjAvmLsjzO77XXasQMS8tN05+jksOAsDIuJNoudXFP7pqWkiSeBhDG9Q2dpExS7MWMrP1Plq09n5X9z/itHTCgPDHYfjBLg79w3D/mtv+DdSEEQRg2Oy3ar2dQrw8I6FYEuDY2JMqj38PE3CVhAMJ6RDhmluAfC4Y4ZCVsq4dPsKZEWWoIW6Op1qgKcNXhyk6GGf++4/p23dof2rT8k/ez1m5bZOm//ZHy8BEnNmX3JxkVYU8C+BmJ0tpc2J+GGoq5J5uw6PvUHkIpTQSEqfzs47p4oqwDTIoZFMUpi03h5AiEG8SK+SCnerL7iMA7EA00iktlOHryIt6FBC+m75L4+9gUVYzAyCB9iIC0kz+uDfCiPl8IdhphxxFLZGQYpVH1uT/cdpvsDaAXquvXiYLf5ezEZQoS6u0lKBuatsIWeGFLkJXZC6dPHIbwcffD+yufUIABNbSAA/98+uSRSgCVNWAxZtIc2P3DVrg6eFQl4KKq/liXz8cxkGEdtjb37bGIuIwDRy4AWWYBcrHUYvPPcM4T90y9f6qHGcT/QwDlYe3fTAT2bHY0rFGp6s6zddGsUSuV/qPSatTPmbqj0sH4GN9m/srvDHBY+zXboof9feC3ipvXmTar/bHaYV+cYZQ8Jgjn6NjXxeNGGvShAlCW2raWzfXA/xp6HD5RDKUWPRQA8PgLKjEnZSDqIILKrU15l5aTB79EhFVQYlrV2HPBxyf/dmuPosNv/OHToQUBva4D3Uv1LEWErTLfKXPVuLNsM2BH4ndL+5BE2T9kC9LJ0tHtzh3+PWbzwrHM8GEtD555Z52eOesRBHqeSL41YOXKdTX9ziXnvjJOBvNGIhwzf9C8r+yVV5C9nhePWyWQBgwIna5Qiu3FjO0H5gFCqmwS26+9oRMzSBwNtkN9FAB4F+t7AGDHrIFBYww33fafu//Sibo+iPRxXHC0Q+krjlZq67ik3NQ7iJkgCN80J6+xkR5wxXhp6+IrPnv14y+P7Dva65/P3f34U+GPMoBRZ+LIhpyBOh2wHsYsYvqwTGntJgytVQZaws7UmwWEWwiArzm/dPYA4Ov6lnJSdO/oitVDnRm0OtqQUQO9+5DObGQDOm6ir48O2gVw1lLDC7OZ4PCpYjCzeW95bM0wSh6xWm5IoxcWpB+ISIoVdhN4Uf2VtUob+TLDKDHY3qAiKW/pdCJaXV2n9n61+Ydf1n58LR/TzEdUHAdthT3mhXYdyecz68FW8Kb4O8sXKOlB2pQP9Vh1E5x/VzfG+eeqUjpUGQT1fG352vWlti221ryOgBeHjheBZHkmCSD0/9pY+osnbpj6D14E68Yh4UZXHkS2gADri1ydvY31hdQCE9q8tR1b18ObS8pZ0NqbO3TkNLgmOKJSWorKxOAbSqXtqHlvrt4AlRRgBZqWnmuuE/RdV/vjqfPCDSJTuZWXv4+3TtG5aAzBQq4s6HoxMCbDaLK7y5+Yl7oqLjiKRQjtxsLclJ461EUgUYQMNBoBWgJgHgCtkiRa9WhodI122u02wLMHcNraMxY9A5cdFdhFxGyiOEC4r2fxYWnAuT9TZ75wd6xnm+720plZwPoSLEq5Lj4z3qdFizaZp04H+H3/45DuB3Z+fPi79xaw2wYDqMqsu/CB2SNIkLcAUHLLFSvc0t/EnalvA0K3uJAohybzv+34cLYs0yt+suQXOGz6Rb+vaoZnevaBO5HgbZmg99phgWx/6mjwd4YBO9aaUC1Zxa79ArdPmj91UI+gnh8BwaTm4NXME2CCdSMTc5fGAhDzQ9+PC4m6w9FOOHEc62E8Hf3fBd90G3BFFAC+Ghcyj8U7y727y8eCQ/3diaLdd+jpjdnBZsTZDCAgQhYhpLW9eYjLNr2utCx55ytXyoLMAp+TgOBGpQxkpxJdUqxhDr+fmsLOCIQH6W4HxPfUw1r4idDK3/FNrfowwPzgZMaFquzPzxEZhdDNeaW760P7L2cbRxq8ewlgZn0U0OsQOrVzXivvcra/Nuu20jBYn2GU+FneoCIxN3V+GSZxCaCOAN8h4qsxwfNWhBnEBQiwkDte3fPEnuaFds3Ytn23al1m7MkacFu06UP8u7VrjbqhrmXsq+teFRxxN3ihXW8KAoR9nSt5hEVY78GLCcHgd57ECgs8Zzyb7bEYbN2ItnLTVLSrqvyiqsCL8dPnQ//ryucn1qHmu2nBFFdSRqz0LkBGqd3mPDjeoJ4+bujMqGD9HCJaphbFHs5MO20sYcXOOS/rpF6bd8LhqvqfmLv0TQC6h+n+cSFRa20dt/jHlR3MRcWjSYAIi0pzFwDkHPNVZKZVcUOiede5vsdVvEhn4hcAMMJ8q2ZB6nDfxicVPAaIUUDQopV8IWHpr68+K8sY1uq15R558DvcMOcPZBbcXACYAgA5ibmp/zVJ4ujsnBuOSLLXnxtjevMiOYk3DMrSJZTn0JmZkdsByEsQhLEtli8/6nyVlc94cesrrbx8zUcA4f/igqOedaS8gqz1iYBwW9/QKexN71BMz/prAoL8iYxyyNrQbrYEvxwqx3JQX0EUPr4/KbJ9v2H9WQfjdgSYGxsSxXaqHg+LpeyjBJg4P2QeT+bcFZVZOLmp004dPvne24+9WXjV8H53fZ72ObNi+LnLzxoWbb3scWJTdigRsjvI3QiwRQZIazduSMViuLYamGxMvVkmnAgE/wIgn7L//yCEFed8OyTFD5juaJpSbTW3TtUTbhAZTI5XG9WymR5atmg4LMpKAp1KHj5N+jrXzFpdTWFnBEYNhjYkicq7pzr9gqaBrOxMR0ivZ+aZL6vosieuSWLu0ldUN6iy+ezPRPQpleoTFgyfXTEX0TL8A1rowb+Z7WeJPbcRa+aFVs/Cum/2yuLjtWvUI4f2KEx+Vc/CFkvCuszq1sCuMi+0zyZP2qU2iNVZmEH8DAFu4ovJ3rvswetI2NO8sHVj+Pg2r9C5sMW84HrV/CFbF1/LvLhz1qKKFBJmalQXWu0LZ0CM8xfMcKKwgnW6JcMo2UZLHBmwBnrMzb3Au8RfZEskRfi1saSLWF/Ov48Xg0kqt9MloGWZRvM8W5c8MTflFQBlcs9Rabc2PnNZ8+YtZIVhgShEEFBfADzLDAsZYdWC4KiMBnQbhVvEF3nxlWz5x93jxTvbeNmNCYm/TiUEpmXx9/JNAYQX3vr5pU46QbelnoIXOtZwYObFg0tmf9VveP+pucZhX58979/R16t06Nq5AxjsYW0E3sE5dWbmrPiyTP9nEOEW/7Q0d7heQMLOlNsR8R1BwOtjDPMq0sCquxgF2es+JADffqFTlfeIIzF92/4bUMBvCDF8TWhXVxwj2IGDwS5mobCF6uHb4u/8cdC4Ib1AoANAGBgXEtXTkba445iLgCTGxYXMY4CppsGJwewYk25xIlEer74tfL8YduuILjfPGgevz1/x7S9b89u6CvrVtIHVnX90Y84IRJiNALcDATvRpLUZP8QmUOvJdiT/8MqVVGKeSMD6GGh5f9PHKENy7ODoJjZGFYMfZtClISCLoirRUAAMa+CCEOdm5plqBeT05H1em2WHG0SeFCt0HHYpZLdCV0LrFMHnV8fUdqX8y32O1abW/2UYpX9f7ja5u/6EnalfoYA/CbL8acyg6K9tlR9uEHl+p7jx2Vtjqmu1oguFlVj11jICXBanhXBU5TJjS6xVKy3QoXNPYM2LLz96RRH01B5f8OO2S2QJ1PtV1Wq0ZdOrAhqfrk1WztduvjuSNnLidCmcLy4nURLSPzPzzB4B/l37xrr77qlheeHBerY/Ux7e1YmpWFdjj5ajBS8C2nSEwSOmVPJWVik7LLbCaSGuMC+saT72hsKRm0dbBisFs2IwBxLEpe+S3DEptdfMevV5eJD47zKP5+e40cy2YNZFY4yiYjMcO30xvZoEXb/M3JIC7Vgk5S5NIKC4i3/Ds2ULHf9kY0qELAsRgMA6FsGW+209IayqiplRj8eYn5u86GTXCBaD5BcbM3nZxYdTspiJsby6/pWniMgxgMg7GTsQhfgNMb04nQJOR0bejwSv1VPwQun2XS/c++x1YwxPb/3S7w/JZ0QnJAzbENeb2QkM9BwqOyb+dGTkKCT4GgEX+q9YzhoQbonE3JSPENA3NiTK4fzcguz13xPAF/1Cp7B9qUNx2/Y/gwh1RkCatDr0Cmd3Pf9VNm9+3XKvsOvIDk6faN+tw8YZz/wzvMe1PV8nkO+XBRy2wEEAxqFG2zkoYWfqJkS4GWS4K25wFOuW1CRYd4C/D+zewmwS3q5S2G3/TPnnfC+T31vrXlw9eeQ/R639ZMmH/3QU8KtJg1w59/imnHAEmEUE0wjgc+R0krFDPqqiLAbvWNjNIfDS2fYk7lw6lkEMREVPxg8A9nEaTnPQJ0WGRHqkTmfbWJeODw/SvwtIFalQLXxFaNWyfqaQMIv2xJnSivmcMs4Ij2fkSWy/3BROjEC4Qfy17P3dm0/p2NYXvJxk2apz/6OH9lYSO1QXjypz2okm1clD+X47X6Rm810+N7rLPTjhwboUIFRy/zkFjVNH7IUjwFZ1LjNq+daCn9rNa1vZAVxv+85XKg4lHFpNDAYtWABUu+60Z5VaI/CC6F+Zu8z/szdWrnzeIMCLkcHQViCxQjCtYxvHrS2regip6RpVIVRaJoSraSOqYKdK8+ELqAVEbCFn9tgi2puARVNYPEUNAaVuX+fBfldulIZ6Tv/+4NXRW/xb9W9u3dIbmvvy/LNxhhbsAqTlGXlmlWEBCblLn0OgS5F3gi2A5VohLPxHBKt0Z6VVMWExpxvgKPLNweDNAgBgkacRFltdVeuCd0Yft4AbNlWWxyf/ygtkThFhz/D4jbF9KuVbFkZGPk4EL9R18OKPzEwfW/aSSd+lDAZJyP799/bf7j903YiCz5cYf/tyGTtCsRghi1TeSjNnXigE3AqIJJf43NzqrcVuuVcSdyQGguC1nxAenR8cpeSoOhK7s9edQ8KYvkOnOCzUOCN3f08w4e8oy3evGt7tbUfq0RxTlc7DExH3jZl78+xbskCgECDYERcSNd3Jsl0+fNH3r7YXTOZNABTsqNipncpC2GnNAs5caXEamQgAAWyv2i6wvXTFNd2v+avgwPHAK7uO3vnVTkVIr9zxUQE76kx6xIlN2WMs6SSTAHFO27GDX7XRd2buMNvkRQtQU5HS6vJFsXGioiEEwkRAuqVCGwPgI5Ixef7gedXTON3ZkHpQVphB/w4CMTimhK+3Dlq39AIdm9TWk2BtC3YGYytCNQjhicw8ie+zpnByBEYZxI0EwI5YTrsU2qPzOzNHd7LZtX64Vszdk/oFtd4xJyusxLxwELxwsooGc/jx06XAWikcMtCdm41m3uRze9Sfp7edrocb9O8DkCIe6KxAky30y1ZqhrWYZ86WddBnwFAoOl+ooK/OMi+0op6cjqKGVjHW2p7VGVraqbOlcPZ8hQbaJxlGiSeNTaEZgbBgfTQS8c5go2ZdqEOi9fXmv2Gp1DH9JziSlJv6GJVPyG3FT2xtakZa9UhI9J4GfIMxcMHMJZ70TAAAFkdjEIN/n1GWLsIAKgMXQy1pEVoVVBifVDAZQIgCoDAE+C+C8LwtF5HCyMh7ieCNug5eHPs0Jwll84q2E4ZViMQt3LGsoyDQ5sLTLY8ZfxjSQyo+t/HzJwztACCMXbRUoKcwMvIFIngcCG9quXI52xu6JRLyls5EkpNkotAFgx76yZFCf8n6sLuA9AcSje4zdKpN2qitcu7adrh9qWA6AijMXR3apSa0bb6v+iuAFsDUqY9N57SK2wUU3pJJvkfWix0WDLyYf+tIn2pyzMIdy64TUN6ACHoQ6B9xhhpr03D6CIN6zJFlIIbZXMzIYL2LRYtyUsNyPvx29f78fTDt6TtuX1BO3eW0oocs94tbgK2ajIn23GMbc8ZdgNLt3caPOGVVJlP2PgQAtgDmFMRbLClUazxpD7soN2WcDvEWIrodAFsgwH6ZYFkL9EpuYmOUX6HwIN0rgBWpjiCKqNC/Gcio63H2ggSnCq0xPIzKMJqW1vW219X2hQeLLwEpjk/g31wPAU64ytkTZbTus731hZpKLplKoV3H7srpvGmq0vbVtYG1k4R2Z996XWBdpzPrBm37tbaXJpLab92lzHEaXYwKEl8gVOZ2inYOp6A1he0RYPY2s7jLg6ZkGM38TnR7NBzwIlgcAwQVk+Cu7X0VMZ7GGjIRHDpWDLJcjtSTQJMymwSdLrkdwg0ii0YqFkit/b2guQN0sIZ+T2nVgpmWOjYt+TwCMLW9qjiMKIyIDZ7rjONCfR3GrhZ7T1X0VmVisDgcgxX81L4ZAHLVDnKKiCzRQwQwEwFzZaT4T2P6fFrVAJx58MGbAYVNMsLUVmlp66sbqJEjQYTTPl0F0dwegVrKZvIVBBBkAJMO8ceqiHEAACAASURBVLzZjKcEL9Ph9Bw44u4BP/5pTjYikJnw2fbjBnNaAOtNfGKWxV7bs8KOmGVd6cbYPpy6wW/6OWWsi208Lmr/CPCFgBXLn3Rnu5JyU9OJ4FzcoCiHgdrfdnw0QZblTwQRe/UOmeww+DZt+wFfAeECf0dWhwa6Qt1mrQeeEN0HABcsO/VvLtq5pI2Awo/FF4pfPXXo5Oy2Xds9+dj1sdX60LtzDLmscrFIYNeTfAGkcTEhMX/XsA7+nnB/T1r6yYAWAxlKqkOHHh2i2nRtF3d/8qwOOzfmrFgV/zZ/hzg1QgUCGPiq68EitSwUySwj/r4xIMWpN6ssavYXt8090JOkvGW9iJiJwdoYFiYcwIeIlBwbHL3VA1XWqyLDDSI/a57XNtrZhWttdlgyy3C6UIILJZVMeM5TORW7xnbStdmXulZXmEE3HQEVe0xnneXs2WFa97WqTU2Vca1uiqqpJuqGJYMZb78SB5yWrtU5OHXikKKVoG6acn3W2gXWdTrbZi6z1CQDMy/Kg/ZkGM296tp1rK32hBnER7Bcqwv8m4kQ0KJ+pp7VxnixC1Jxabl2HiKEp+dJruiB2W1qg1rdhxvE7ZZdT6fRVLsjVc8OKDxngtPnylNgEeG79DwpqJ51wePNDQsSb0QExc1BQAQGvBSyciMPznHkXEcOfTPfQ2OSX+hsb0gIIHp+SFSqveMa8OeBZYKbbBPKoAXnonOcnJD863wiiAaCdgRy/Kdx/ZQXYHVx6v5ZQYKOjAj4qP+K5RWpD/8YAK1LvXTXI+JgIAhCga4iwh72yrN8zvljvxLgT0BkFACy0ndJDolZVlX+8U9zLMgonAYBnsoIKLj9oPeZa7Pzrv/qwrlmA03gO+iL2EBerFbE4bvuaubr68ffuWJ/oH/gihW8aHdLvJyVfJWoF38GoIfiQqKrA9sq1bc7a/2TiPB8nyGTdYhY/tZ1MGZkHSAEfGHV0K6ugDCdytg7zBbknQlOO+LxZKAnbNqTd7zYunNrr4y3vmx9z6IHvJ8c+Qgv/Gs1knam3k8IrxHAp1fs7TBx+vTp6nZKTdrB7iPMRHirrBDVDYKFS1kzJOnRNU8O+t+Tbz02cHRQ5uevbGRBXE7D4NQ1pv3bTMOqSWPceC5TJ1lwlhdEWr0b1v9hxgmzs9wOIFbV/uTclHEyIAN40zhFBwEOAmJKYeHx5Piw+MtqSevGMXe6qLAg3VRE5OvB95wSrHPFIt1+Pvbz2J2u0MUTCs9LcOZcKZAG7iKAbBKEBzfnljrEKHOx6kZxWkQwXCGTqKR68pQvsKP6yrbffVtAgLVuAJdizZTQlqwFF7TABAMVKmtCa2GpTUVhkcbwcffD+yufUIANNawtMLXghv1eXXpEZcYPvpNhNN3lSjkN4ZxRwbp/ESG/s5TnRNuAJvCiquv697GiivQ2JGFA+q7Snz1xDzSopZoWTeXB6tzOF0Rdg+qiQ/eA2VyudXHxxYf3ZhhNyhevKS6OQJhBtxQB2RlCYVww86Ipykfg4JEiYPYOx5CHZ+1u278vL8yrVDJFhM9ig6PY/rKxB7tpfNz3H9Fbe42Z0wNRCAOgtwXQ/cdWioitwTo3Z05Hs2T+mwBfm7rzjWRAeRIRjAWE4W4e3EIg/IJA3kgl5vWbf3Z8cXhsY3YwIlawS37zPQrb/f+Es79el597uMMAQYAbP3m4zyW596dnzkxAwDiScVTAa8vd6jyTlJsSRwCP6UAOfjjkYYe1fQqy1/+37JoF9Q2dojCwnIkZWfvPAOD/Vg8NVMS8XAwGLHhRH21Jl/hx5D/DcsY9NClS0AkJQDDfTfoTTjcvKXfpvwmIxYxXxoVEVTg3OF1Q5RPaWxb0zFbhrT0GmjiVhNXcF3fq3blHzNuPDD156NSPfxr3PL7q+Xfqg10wsy5YD4jBFq3dLwNUmwCAbaVr3Rqa2RhA5omEAjMyFF0iRFgvk5A8P2TutzW8jvXydF64mmUxBREqsbN8vHTg31wE/v9yxbkiMxSeLwXWK6sUBIkZuyR3Whhfri7WmXrDDWK+hR0F7Vt7O3zd7bEYqhLVt047V/X0rMuzB170vWY43DDmbpvjqNXoU49xNWWkkqsN4oMZeabX6szFq+WGhBtEBtLZNQt89AK0b8OZkM6HvRQi50use2doU41KfCX/bdvgrCda2eBW9mEGcSsCXM+D1cxXhDb1VFm6Jheb8yMZNbVEXoZRYtG0prAagfBg8QAQcBoAdGjtDd6XcdJS1y4Oi4PxREoJhJcz8iR21YA1a9boDl55pD8h9Cei/gII/QmI6dH9EYXejSR1pKrLFeHfqe+aPjc/dKLj1RG9zh3Ze17n7Xt/+n9uPFyWxsoLP/7niIAffjAlTP7sSP6ZP4pOsoNJtaETBNDpyj3rFcc3y7yX/zObZTDLUJE+Vk1BZkR8F4DecoTmd2xj9kzLDiYc8iqEr1rthuaH+sKG37tDL29p4eK5/S9xDyl8cPYthPLHZcunZ1uuWK7uutvrnsOfJ+Yt3QEy7Y0bFKVoHzkaBdnrtxLR/n5Dp1aI+jl67oysg/uA5M2rh13B7iGuBGuBcAoRgy3sWsNaECdGThvZsUO/zj9/sfIz6drw63Bi7JS8uJAoh21cXWlIVeck5qWmAsE8QHg2LjjKXdeNrWFZP4apyJy7v8ICXiiCrhMfnRq67b0t626aNa40+KZBUTHBcz0i+uWmceLvKDsFsaq6tcsQz0W4nwzsqqlmbqrWuWIS85aOB6BbQKapZSwMFgtm15/kwL0dkt3EqnGuQZf56FEGfSQRvaCKdavN4XkAi3bz/LE2glN7+V17/oKpkiCnpe48FODx9FyJ9WGawo0joBVhbNFMVDRQHAl7mhfW4IWqTaHV0bNmXnQK7F1hl2kPvBg+6o5KbhHVtVm7WHYGxOB78uDRJrF/dWy1TB2eZyksbSejKicaFdSqjqnjZFWX7XCJN86Pld83CPB3ulGyy9p2tbENEbz4B5bbsinRLsAbfH0uH5Lu6oVx9bxLBBeRJqfnmauydXO1mnp/XliwfggSZXNHXH0Y1ftBqKYDRSVmYOTdEj9kGKWBDbm/NewbP0f/1WtUZEqfMXMvCHqfVlLJ+Rc+fzyI88x5UcqpER0s+ftVVnXzEPAvMYkxZcKfzAZiTYBLgq2gvfUC6PUCeIk6hfLsSPBkhHfzSiQZSk1mYPV6ftHYDIJtMlLqZqNZyQm2Fcc3Zr8OiPedEYvg81a/gN+ZDrC9oD/08zPBPR0ufEcCPtf25sEVeh2nZ89uhWY5gwBOtezcaQzGu5e6nmRMDSEZdgLSzLjgaIcdQ7hvBdnrDwFhWt+hk591ZCy1x8zIOvADAfy+Zmgg77y7EjwL4pQDFkJja1Fe5MaWpSAEd70q8PBNs8Y17zm499teeq9oM1CvyyWIm5ibyqke0xBgbmxIVE3ESasaIxbofFoj0PmB6OWVGfv+oz3yPs154NThU1uNm3byGF9WAKCKxjNYxtolDLxoWRfMqGHQhf/GDkOs4cEbCbzj+2bZdS505Yap6TkLdy3pLZrFWwhkZh6wWxIQ0XodYFLMoCjWpWk0cf010MpLL/J9x6yfSsFuJH4+OvD1YTYGu9+6MQgULYuiYln5X5seYqnlOGsCZRpNDGg2hQdGICxIHIUIikCzTofQpZ1jC1J7biNa8EJ1DNTaTVqf7wrzgutgK8wP3/k/h0bGFiBS3YkMpvEGliW2Zxgld7M+HWp3XToo3CCyQDO7ZEHn9j4gCo4/E9R7Ym9BHix6knWcK4c9Nk9dGofq2qJdNxDA15lGid+JHgnHZr4eqdpzhYYbdG8CINM0Qa9DxcdZ2ZFsBPH38SIwWSiHLEiUbjQ5tQvZCIZI6WJYsPg4EigieM18ddCmpXdj6bpD/eRl7cHDF9RNfJD1UuDmHDjo0MmN7KD+tzyaGHDFdbNaXxnsBwTvCijEfxLbi/NpWQeB31TjLbucVY5MeLD4GLD7BoC/9UGcY+nnIyi0VneKEPNzoqiYBeHMijiXjchCoBfSjeaN1p8d/zT7lzJ3mX7MuJBJB7/lG+C8hPDEFRWyBCxk+WzbsUMUzY4zD0amAMIclIUw/9dedbt4YGJeajwQ3FdapBv4+Ig51i4QVY57Zmam2Nn3lAkQ/tV3yBSn/chvyzq4lYBKVg8NjKjBbc8Cj+xaw9RUTqVhJsIXL29ePELXTPhS0AnPkExPIGJibPA8V7Q1atC08lPTctP057D0K7blJKJp8wdFM0PEXcEsAAbK/lOWdsGA8jJLwfO46n7DB7QJGmOY8PUbX57q2q9b2K4vdqjpF1XZzbqrXY6UwzsjT1kApwROe7GAEjzjYCFWpvqzMxGDFwxgcmoJs21YyPYO/mo4UomnjlHYGMQghqKPwYDpIQQhqTD4WHI8xjul/+KpNtZGuaMGevchUYoBwlm26uPnLj9/GTz2UoBjZrk5Pqk0ywQmkwylkqyI2ZWUmCverVb1HQWC1DOClJSXp4DeTeHBEQg36PcB0BVcRdtW3uDnoPuMuhgtulBYwZjgMtTddRbVXJkYCa3adIa75iSCdtGqMjFcTRtRBTu5Pq5D61rI9Wxck3CJoKc9toj1EB89WQLFpeXMWyKIy9wlMXusUUe4QeR3Mz+7nbbXddY+19plkutU7xf+me8hvZcPiHov5R7jYMHX33/JgbHTHgZR9AJ7DjTWjprWui3a+hy98GfOmuDMeYvWIsCidKPE7z2PhONPX49U75lCR10NHchLZFEjReSssSxOT50phbNFFeki54GkARm7FCG4prAaAa3PN6cW1RZFtD5diKOnSoCZPBwIdFt6NTvx9alf7mrrhISCfoQYDciCgvIPCLqnN8T2ZuFB3kHnBeiVFgtVzvnj3fVLBPvCDbrJAMjbJ6yVUREMujb30yvPLncCFlX1ncGL8xckOFdsaxcQV8my7vHN3xX/yecf2bjzSh3Ke7b7/wF/eZ2GCwWDwXjKD57tXggBosLmyJbhogPJ6cjIW5FgLQH+O2DFcse2ipy8SAk7U3YjCllxIfPudebU37Z/ECQLghFQuKHvkElOgyrTtx/YKCC0WzU0cIgz9Vody2wLvmdYG0FNK2LPvDfmLI/q1DOkdwEhFiHB5LiQKNeSbWvQOPXUBOPSbijT50DQjQhvmj943iWaJjWohkEAXixz6g6DeLy4Z7CU9TDkl7OXfJy7IfvdfT/96T3jydumxw1+iOtmkINTsnjn/HIHa1twO+63pJDwgqhLGduKQQFOK+HUIBaKZKCDRWxfB4C1lmMvd9thya7lvSWzaSIAMZChpN0CwToQhaS4oLkshN4oInwgdAGd+AAA3V2mZcPP7ypD1JWn63HaHm/Cqil7/AQkIJDN5el6JjPZTdtjMU4B8K10o4nTpzzqStMoLqSDnQwPEl8EBCUlllk2bQOc28TS2pVyGbZSM6wXorwoPH3ySEXqB6eBOJM2ohX1VBeuXLfqVsI/q+CKarPKf3M0LaGyywiACaXOW/Ogpm5TDl6RunuY1i7VWccRa/eX6nppSzNFBRbUa6jed+rv1qAZA1p8jG8z/ypBNK1QLIvAjpk0B7786BWFzVOVbou9q6N1KiSiWz3pitQgwQse4FEG3T8JkG3KlOB8Ns5ra6hx7oIEJ7Ve4I1cYMfedQ43iLyQZOE46NzWV/F9b4rKI3DmnAn4nxJNgmGVBmdCUkEMAUYBUCASxm+I66Muyjta7BH5Zc+7eC0s7gp5Ze5jTwCAkhA4IRj8zsu6JYD4gLZgvSgoVlyXC0zjyfbZ8xIUnjdZz6CLgDA2Y5dp+YmNOdN+bPb3mrwWB8BvbzB8erAtLOh6Dq5uLq0SBd1TLW8KrrDMPTtrVntZJrbKOthyRRovSN0eyTtTR8oImQjwz9iQqPecqaAgZ/3dQPBfnSBc0WvwJKftOGdsP/AuIBhWDw2sBD450wYbxw61LGwXvbQ9qaXeS/8sCfA4yvBimYXq1JjgudXa59aw7mpPT8x7JZTIvAkRTxDRhPkhUbvdWB8DOMzUYQFVFk9lRwiW0/+EWRm9Qvqaegb1fHJM5E2Gd5/632fGz3L5+c0uHifc2IaaFsVAhQpkcQoGg1EsdMfAH38vGLxgS/ery/rH7kw/llWo6ohw37XK7D3L0k56W46vtQVtUl7KBCKciAC3UDkb4y8CSo4LjkpCxFprR00vRE3PDw8Wx4BMkwCFcerufE3LtDr/e0DYICCu/zrXxJbATVHLIxAW4t0XZXPFM6xjGx+FWdOYo5LeGeF7GbtMTmtBNcTxG2UQb6JybSPgeVqnto7vI9gCL6wFXKvTJLGlo6ICE1rmjTY9SZuKEjpyGlwTHFGJJaRNJTp+dJ8CWDiTimR9jVngn4X+1fAmqf1nu5R0WI9Eg16xhRt0qQDI1FMl2rXyBl8HaWEeGW0PFWqtc0FEr2fuMldaFHmo6npZ7A2DIFA0i4obQZPeRdWXsJLuBcFXGbskprc36hiXvGcckpldIcYgwvtmWRe/Ka7nr5ZBYfo7p1h8ycw+ixgh2yfuLcMrGLzghdbdESFigGyGNEBg0UIl2Ko3oIVecb2pC8GORUz/Y1C0cuDbjy18O+DHgGMT2hzqBx/93g2ub1mcPv/+a22mTZx5MPJVQLgHZCGs5WuvKhoz7o6EnalJiDAucG+H/s4KDxZkr0sAwHv7hk6psE50pn0zsg8u4wXO6mGBvMvuSvCCnenhvCjk9zHb0bH2Bu/gZyzKSe0hCPCbDPLzAuBYEARTXPC8y5p/nJCXMgUJ1wHCFl+9btKcax1P03FigFjwldkYnNrHqVe86Ofvz9Hb/3Pnss9f+XRO+D2jv1730hpmrVgQVidKr91DGbzYaWFesA7GdAB4yJI2wk4uzCLZYWGSLAKAdZbmcb4wgzhM2a510CAxZ2kfFORypxIghY1BQB/oBCEpxjCvRjbLtTv8Na9t5HX66wSEEYQwBJGuAwIWqXZm/sw5mD+BQEaSIYvIvGXzdwqg1RSXeQTCg/RrAIkthRsNS7uqIWddLHYqVIMIRmbukv6fvS+Bj6I+33/f2dkc3DeKgDd4tEqyCRC8SIJaAW8BL6y2VqqSCAnWWu2vqf/aWiEBExCqbdXWVsGWSlQ8k6AWgubCW0BtK17cNzl2dt7/PpOZdbPm2OyRbJJ5Wz5IMvM93tmdme/zfd7neb2TL1FMdD95MqmOA+phITKUXY8emmjIEgQTbTEvmivrac6ZxJ95gX7vubURJ2+OKeEPXkyfuYBOG3des0MFY8cqNbKYPKGUjByu02j3vgajDzDJyqo1bMJELYLLfNS6j37D/nVKeNQMH5hg1C12lwDFa/ueeghuWVMqL63WJnWX+UVjHplJ6hRhMtS7w7E9isbYYqlN/weZEG8rq3YbtaE9MabmfzpGIS2bmG8XkvdI57wXFoxpbgccpWrYCc4kor+aFHjsJOMLeuOJxzh+cuxwbvL9hLL9gL5xHVIe0t5rB2B03yF3E02MfiNH0OQr59e/vf+ibw54lJLn54/BQvs7sf+WW64l4r8x8V39HllhaF9EOvLKHkvo2/fQp0S8Jjdl7m3tbX/zxn+9wCS9xky8wqhlbW9cvfHz34ooc1emjfyOVkkQbUEDAWVGYOhAxBELduijQKfIt7ApqFpaLCIoI0GZwX2kyLjc5OwOt930n09+1dLbSWQpMz2d48q6Joi5tvcQMFnAukDNLMpHMHf0s4+IXhpw1IDakaeOPn3n/3Y0nJmZNPOVR180dsRiNGCDC5YFhHgxfgB9YAihnAyCjCgpg9Uufg5QA6Um+GwM9AI31Z0BXATmMb+i6BJigEhGWckQJvpCiBfnpsxtrRb+VpNphmsXjMtSjF6+7w4rj0hZPy7+RI/iGcUiw4iV/kKUyCIKKQzVsSOi63vJwd84Wfv8lQpqN6uryySjiw80M1k9RxoBRCOGD04wRLF7Yuw+UE+Hj1ilwvRySbXWKQ5XsZr7jGQVwLIhzt2/r5P69wYW3Xa0pXnhD15s/+pTQycFJT8WiNAc8wK9BgteXP/Thb4SEjA1Wgt/7Yv2gBi79jXQkTrfZte9pdVaVEqErbF3f/DCqGF0vE7EoGAaCwQ4kHQHAAPABRwhIAZlxpfEjvNKq+o/bfvr1HOPyEh2/oRIUFvaY+10g736n3/zrWbYN3Va/IcfUiO02oNiesGWO5gpS4SOF6a8F+aPwW5pa4GdcSxOsKg31MzxrDtltLJpxBAFi1AjIPg2qL+TeifEBtuitQkF2C8TORLc8ZN++9mLD2Wf0tx5u2++eaTKShkxb+7/yB+wII9KNAoOynO6LpfcOT4bLJd2xeaNqz8mktfHTrxyTrtONA++unzbXUL0QH/n9rhHUlLaywDA8xfABcoGjBI2PwYG/huUy7pTJ52+/ubCn17NiuNW8eCFgP+em5qFxW6nRkHF0vuF5RcksiQ3NRsuOZEO2FiDiYDFP8QwnzJBDADPCxdWPHT6m38vW/nfd/9zwqz/u27OPef9rN2Cq5EecCvtYaceAB5AGSzmsehHSQbKy+BIAqVbfAbxGcLWJ4DPTUT0+w4cY5td/b5iyVinol4iAhCDDAaQgzzHzkuZZzAZ/QLgCxhodV4myffNOYNFs7nNTuwD7Ax0cAb8F6VgZ4Ol3dOizq3Tjt34ujYGC51fUqNZ7y89LR3Nzjcz2XG9EOPe3K7SkbbcRvzBiwGDj6Lx51xBf304l6BvgrB0U/Dvxx7KMvQsEMGCF2BenDDW1aTNti5oW4CL//lYg37pZ63LopxeUtPgXwLZVnft/n23By+QkQyXM5l0edXy88aiYeiAOErowiUksDrcta8JcHGEdDq/dJPWY8S12v1pN0/ISFZ/5f1Po864fx+n8ceO5jPw5Y468uiNovO6rh3fk6iu0/M3T2VWsoTkB8S8kj163nMLxgZT448PFMoBsMuKOOr045Tq4YMUiPoZAfB0cL/4LqW1crhWo937m2JXQjKrrNoDG80mse+WW/7ExDPEoaQPWL4cJTNRifzKwkeJOTXXlTUulA42b1zdoBD938kTr3gglPNnln/+UyZertQdGfpU+thI23ji+YxSJMqvKKwhRXmVUFjK9GOt7ki/u86+Czv3nRqLKor+zEw3EfEvclPm/i6KgwHCB/YCyntQg41FPiuqev/xZx538a0rsr/HzItyU7Lg2tIVAtbTj5vWuLBMhYAnxEcBAk30glmwo0W5DNhu+GyCuQDQNGasTPOriy4hkUtzXdnNMa/AHkJ53UXQMTTZRAAvwI6yymK6wnWyx9gDMpCe7HQxSaU11Z4o4r5jT53hhGOE8DOlNW6Ut9nhlwGUjigHDMtUsOVo2MD4oNeRFgCx46vPfKAD2rC0LyyWA0ADf/0Jf/HVUMtGLNebPTu/8PXtD4hgHIGaF22Vuvh/MA4c1mjfQd+74Rul1VrzNSoR/DT1CPAC+ZriUs/WxVD89tF7u+oNCtQc1Bb5FcHWs9B0GyUN7pvhr4XSmpCrvxqvhYD692DdVKwbQqCXtvXvxF79mkU8/W8OzalDW321phIdqHYdaH9k3Rz91aytdi16WHPnWMd8s7vOVzKgC6euq3H7HvDBZbvrHTX9wQ9PZoeaJWxQuT8g1vOen39KqNaQp552nLL+qEEKKOBGQIwT956uGPVunXbvbSDNBLSM95wAAOPALbf8UIgfJ+Kc/o+sAC0+KrGoctEQpoTPiPRHc1Oyc9vbydY3Vg3V49QdKEcYO/GKxi2OdsbVG7ZdK0x/I11OWnnW6Kgx3vIriwqJ5EesOO4QXf8jsdyU68rG4rfTI7+yCM/VqSx0c05qFhbh0Yhk08EHpSOWg9aVpsPHJb/bsPjCHZ9+/YfdX+3a0KdPwpUP3/4wgIBYjkSzLMZiV/wEOjqmO9GjJuviIxPEACMD8/mNt5TkIe9GHEqGYln9H3P7l6n/A9clK0C3BqABJpbPUzmWL5I9tp6TgYxkFc+qeZixQ2E6akiC8XdPiIDFJ3XEznlXzav/+qFXvEpDBgb/LtecjkVL7+z+GhVvvfFPGnN6GtUePmCAD+1lXviLerbkQBMoIGrZ/bZVZoLr+PXOWsNVCSHCPy6rcf852te3Z3wzzSxmJqlpwoQ6dTgCGNHVdt6bOEA0TmEvM11ZUqVB0d+OIDKQmeR8XFh+iENbA7As8OLg/l30WGGW4aftH3mFbxAshtoCL4B6+ttYWW00B174qwXjOAsd3fJ+OS28BxtxjdGWz7g/4OEv3GPNwQIumhuX/xyhp1Jv+n0zU0ZP+JxNX/jRZHI4UPKQ9/z8kyGeGGoMOGW08t6IIQro70b07aXSwH7BP+xC7Tia50ELZee+OnKjstsMJrqopFp7af9PfnohsTwrJC8MeOSRq6I5joLqpVeLLk+xIpNzkrPbLSr28VurM1iohEWZOCbtskYeZjtjZvn/LmZSillVkp9OPSZqjgH5VYUTSbicmOeTGNoDQ3NTskDH7/Qo3FjYz+3kEhJKIeaLc11zIVobjQD7wiqqPdZ0IYGQJ8Qun4xPjD9hbNopA3b8d0evcRelZL+07DmjNDCGA4t8CIqjdAj2qQAw4E6Ub7JLAAQt8Yp2Wto6WPyj5AR16P82d/+ipuYeRt4g1AZHFVjHAoix9C5u9DquXG9qenQrDYwwcmWfGiMZmDyZEvig40MWPh5D6pWo0pAuusnQnpQ2NOj0zZ5vy0W899io6xW0Z3yxdmxmctwZQrpPc6qnO9QcqvUQHGrM+Ka0WvMxjKN57XoUeIFEZibFnSasox4dtE0jUOOGHfhYtsvUPEKoO4cDhF98rCh8rW2z1b6vSEay8ykiAa2VhgyIo14taA5Yi36gnZXriw3/YysAHkybMZ+ccQnkbqgz0NCWmBc4BmhnoA1RMOAF+gukkeFnrVG6Ao8PBC+C/dS6LgAAIABJREFUBS7Qz4699QTRRoS1QG1ftmP+6F6manyTl+lLC7eetib75LBq9jJc6gISo2bfiO4AXFhz0TyNejt+AMaBmUeN++k1I135TPSpp6H+4oGPP26VzUTlQ5BfUfQ0KXRsrisrJFXrjzf8cx4rvNiRSMNPOvMKMDDaHdds2HaezrSOidKfThu1rt0NtOOE/Iqit1ihA7pQMRMVCnnOWZAyD4vYTo9FlUWncKPGQTyLXJyTmg1AIVoBO1IwoaB9gcU9LNEno8ziwQ+W/ffjl9/5Y9XaimlX3X31z3+ZeVdMaUa0kRCUm0H/Aij5mybT5HIvwGGVI6FcBs8t0LkBvl9mlpvA7ejdWBD2NOeHB2WSqdkCFwdcp/0maAERT4B80ACBWG2gnRHKpAZ45/efGJpPtD7HdrsxloFMl+MyEQZryAgIacO6vLsGhP7BrvV7jncI5b+r59PfoQbrB6wjemrAnQYbWggmuqekWkN5YNSjx4EXyOhZZ1Hf+FoVlFtDNdZMOvWP0RsV7Ar3HnT7O4pgyM/rrN20rsr3YhP1D0t36SA92fk0k8zCfIIBL7Z8UE6jjjv9O3VqxsNtEHTJGoVzWgIvvt621TjO35cZ5wQLXgS225ytkv+1CTw+0O/53AtuaJYJ0tz17QHgBZxAsBBqt9hja9+HKSmOS3Wdn7WO6Z3ooMH9u5cIGADVHXvqCUAGYmTigLqCUy9LcMbFndz/4Yc/ieb9YnH54uN0p/ofYro/15V1byh9bdm4+k860TmnTLzCZ1nb3nZmlf83mchRRaxctnLiMViMRTwuWfLZcKKG4eee9WomMxUI0eVKY/lAWU5KFnazYyLyK5elE+svitBHDod2+fyk+dGyggRjAR5x0H+AlShKE6AVAW0IsBSeHTRi0LqsP+ce32dA77/cOXEectThVqMhXhSwtFBTDa0L0NgBWMC9CIANWBcAQ7HrB0AAWjIlXtcSlEyh7Am/6+x54oGIeylcU2CnCu0f2NkCYFxpWsYWmoCMoTvltcPFmz80TDB2MFEgBArL4EBgI8SU2qfZGQg+AxnJKr5HC6wzIPCfmADX5u4XAQ4RDbqiuNZVNrzf/WYa2RlNTnZOVEh8dtHDBsVTQlz3/Iy0lrmDh7E29Wld7KqN10aXlxuC01GPHgleWFnNSFLvJTZEsHwR51SMUhKwMTo7wLI4eMhNUAH2D2b6fyVVGiiZdoSQgUyX8wkRuQGntlU2Aq2Il1YvpR9cMZf+8fivDfVfgAM3ZRdRedkqSjmrsZSjLfBifcnfDfujzzZX+co/ggUv0L7/scGoAAd6PGMeAGEmnHtl0MAF+sXitM4sGwFxqbRaKw0h5Z19Cr7jEMXzsSD8BpQDx1zvC3TE0OIpLhqti4qFBWxTjYcaHm7dMaCBsd1PoXxoXO8XV27cj8VKVGNR5dKbmeRRD7HrZylzYSfZ7thcvvptVmj7mAlXXNzuk80TZmzYdpLCtJUU/uHKCSMj7nYxrWDzOUyMnfiF52WWLFI07XOGmKOQIkR3KKSNmJ8yP2b0DxZVFV7HwmBCrD1IcTPyUuZ8a1cUapJbPw/2orBTxUYEFr8Q9YRNceWv1/5m1bqn1v2x7nDtgQmXT7p4yeyFIX1OojPsVlvFfQNzgbD0KBNcvdYsvwCYAYFMWPuiBAOL/lQi+oMpjrm9E8br3yWYIdDowHeqOV0LUPIBMAGcwCIJ29pQ7wcYAyFPAB+4F7/UyfOwu+/BGchIUl8hpvORAvbecIcN6n72qVh0YvHpC5EbSms8hpOGHW1nICPZ+RiRGJsHsNaFxW5PCuiefb2z3repLsQ5ZdXuqGmcBea2R4MXSEZGknouM+ULUYp/crDg6Ntb7RQQA6AF2BYBJSIY3rsslGsLc4Z3i0hPdixjYqieG/oDoPM3F/4AAHySP/n4bcOmCMyHtPSZhg4Gfo5oC7yAXkVgOUc44MX3XVPo0fw539HhsOYRCF5Y4j+HDu6hPn0HUWsioP658BfsZJ3Hl2xyV4SX/Q49G7akeIHGAgB0bFCYQVfGAwcLAIjgQQ0fIoCgYUdk1zIjWS02X95JdeChFt+thb8O13po97c1jyTEc8qq3VHVG8ivXPqCiPRakJqFRVxIsXnj6l0k8tTYtCtDth29ZuP24bo04HOUvTJtFBbOEY/pBVvXEsuZz88fc0xB1dKVIpKik2QrxM8rCmXPT86KSr+hTiS/sgi7lgtF6LEFqVk/CrWdIM+DxSwWvT83mRjY6UdZBUoTTmTmvyX26yWKQ4mb8qML855d9I+2bI6D7DaqhwFQRd0w5gQXHZRgAKDBPQtWo2D44N8oLUH4sxVQBmcpvcN5DKyNjoyxpqZYSxo0AF8g2GkxK75nghcAn3DucrMMCGKloO9bu3hgntxnWuZu68gJ2X31vAyc46KjneJ4g4hPwuwVhQ1nCWxudofYd8hNBw596+zNQv+vpMbeEG3PtZ08LuE4RdG2mgAsDejjpH49yLlw1/4GOlLrA79qSqs1iGp3WPR48MLKdLpLvZuFIM7XxDfT6VSoT6JKvRMcxg0sWgEHvCO1HjpUq/ncHQL6yiut1sIRD4zW0Ltcu+lJ6q+ZDTEx42aDm05zEVhucdIp4w2QAj9HAJDwByBaKxuxxDZxvFU+4g98WAKcgYKd1rjCZV4AvPC3WRo0dGRQns9f7azzlQWwQz2xpKLusy5ywfFlXeSlXePhgl1JLARQHnC7l4WBxQEWAljkANywBPJA1w4rMpKdc4nEt5iEX3wssLjCmlQQJwfs4hwh0U4rrfG5QgTRQvCHLKx46HsKK+8R0725rqxvhWiCb8I4cvPG1bAdzR074YqCdp7qO/ziyq969XJ7DhPxvSvTRoY8ltb6v3jxliwRKiTiSzLOWasIK88y049EDLbB93NTsgDSxVQsqigqYKb5TPRATkrW3VEeHOYPtgdenqBdAuYFLFXxsxv/UPmHitdf3PDYSa6Trus3fODCBa65WPjHcpxqloH8wutAAgAC9zEID+HeBVbDuX52sVaZBkpHPveW07xogjjvEdHN5p9o6o+0J4/YmkTpC0Q8Gx+ijZblYJrAhQTlJOPNn4FRczoRwVEG92iIlGL+uGfDleUEs6ymPf3bx9oZCDoDpn0qyrIAnBnv/yghgc15Vw5YWsJdxAomeaSk2oP7ih3tzEB6snonEz1onQb2BVgY3T2wub7ngK9cpFP08KK3Gu+CVy/jTDpGHI67mRgPye8EFiH4Ex/vIKcj/NTBWqa+3mMwLJphWRj948bi0Z2/W7epLlr1w13wSoU35Mxk5xwhWYFW+iQ6aFALWgT+4AUcQ6668VdGCcmUi28xSkYg4Nle8MICKVA+4q+X0Rp4YYEi71W95mN+XHDZbfTKsw83ERG1stKa5oW/ZVLtkQOtsjfQ3rZvjvjoCHo/LXHdOmoiSx3eleiQs2GNjN1YvPzD0hE7r6Amg9aMl2gI+mWYL89hATMXuuhot6gAS9Af9evtpAF9mwfGOmTmHdzJ17sg/OXzif97aY0bu6wRj/yqpfNI9N8zO07Pcd0ekrbGR2+tHqMIbSZWrhg74TKfQFsog51Vvg1vgvkr00bdFcr5bZ1zScEnJ+nieZNYqXg+5+RL8iuX/odYqpjoBRH6M7N+UY7rjpij2S+qKnqKha5mppwcV1ZH0Ekt7QToRWBxjJ16sDIQKXGJca84VHVgyrTULaefl3rOilsXhSTS2tb1itDvoX2BspELvSUiYDFAQwLgKrQjIIRriQmDdQEwA8wx2NNhpxgLfgAZYCWBYQiWA7ZZ8eWMCLssxDnCLho6QAAs4I4GRhyuE8YI9hLuxzfhsWO6rjxl5gAaH6CzQxAXQDRYsqjrDckhKMSx26f1wAxkutR0EVprlpYaJSRD+nddDYzdB+rp8BF/0X9+srTajfuDHSFmICNZfc0EzClOZRo2OIEUfFC6aTSgVHhPHYn5JMHGSlmNhudTh0b3zXAYacxMTThBPBpeCm6xFiKBzamKQnFxCjlVNoAMh6qQQ2lEZ43/mZkFo0J0IbzTezy64YXrdovBrrCE7poZaj2xPCKsLiurrAdN1I4IZiA9Wb2QzZrahDjFqGdsLgJdOgBUHDm8n/oPHO6zTm0veIF+0O6Y76WR5m7w2ay2Bl40p3ERjtsIxhCM4wgEGb/a6dPe+aq0Wjsmgpeho5qCDSEU+/FCjx07sC4uNenUYGKgnASif9OICA+hkCMj2fEIEcPu0KCXwkKrJwW0UaCRYoXoMq1skwcvfhGN/MrCN1n4YE5qVsjaGls2/utKIfmHouvJJ0+6KiyL01nl23YT8cqVaSONUrRoxPSCLViY3vR8zhjOryh8gJjv+u9/Tv8hOeoePG70pxtyU7J84tPR6D/UNgsqi8qEaLKwXL/AlY3vWrQDi1qIcePGhU0IixsN1qJ+77N561/580tPDhox2HH+zVNn5qbc3pUtxv0X/wA0IIj5mAkAQMwUYC3YF9DGQC5GmGAOSv86RFStmYuNzylKQ+CSA8c3gI+4P4MJh/sxGBgIAB2rTMYcbioAL3AubqotOZVE+7Nlt98DM2ACGADdsBFiRFdzIcHaY88Bd5NNUhF+oqzGHTOCz131ozUlOe5UnXToKRkvfN3ZfaQZd5rq0mrN1RnXzgYvWsl6Whol9qp33iAkqIm36kiDu07IbDv3ONh4oPPTdYnuv6xfTweD68g+qr0ZMGvVYMVmgE0jh0G8/rsRCF7g3yi/+HDT682KbgZTNoJerOPA5vjq84+NUpSWwAvoa0ydMY+2vF/u6xNtWMcHsicsUMJf0yJwHtZMAYCMGH1Ki/oXYAPBDtOMstJqDQyFWA9880A9xsIWAooQsMPuK15+8XKPBRTENC0LRbAk/mTuBGJXL6QwKaaV1sk9pVwkMFnw+4bvtxFC60trtLNDSmgLJ+VvLJxIKpcTyR25KdmgmYcUmzeu/rUQLYiP52OOT7o8LEvXWeWff0bEG1amjcIiMSoxLX/rDGZZRSK3JMTXX6A4PFcdqe1N/frvfdd15ttnqA7nmDuSfgrWT0zFko1LhntUR5kIHY+ylwWpcyHMGO3oazpVYIGOBQcYGdCNgK3qtOPPOP4Md7176W2PzhsV38uZm5tyR8hlQ9GeSBvtA6iBTgSsUgEEwG0FZRUQJ4auBMrhwMgBrRnALO6FEHiCUCYsSzvLzQN0NFDxsTkEthtKXV42NS6s+/I5ZrkMQGVsJKG0BNo0cNnZ480L2BuwVIUSMv79bQF/47Ue6n1MwrrXDjsDYWcgc5wzVWd9JTNDcNaI3okqDeznjPld9iN1oPi7SdebLEgeKq3W5oWdGLsBIwMZSY7ZxOwT7Ia9LgCu7hZYD/hVCXiEeEJZtRvv0x0eNngRZMqx4HUonmnEcr6IAWTgwRlu4CXjDWF+lUl5obSq/tNwG7TPDy4D6cnqHm7c3aERQxJJVb/7VQhc9DdnURoK8wJ9WqDEjq8+awJeJCT2+c4EWhPXtAAV66S62kPf0bJoCbywQJS+/YfQ2meWfKcEBYJOEHYyo6s87MC0wCISNOQTzfIQvHBAh+Iyc0fPEu/8wJwbSkigLG7t+gX3IfI7KiPZ+RSRQGm/WyPvbSUGOzxf7vy2sogVmVFS6YEVbURiUWXhvUy8oE7zjL1n4ryQnRU2v7V6Nely3Ni0K8MWmZpV/kU1kf7FyrTRjdZDEY6pC7dMYAfPYqJriaTRm9mMfn0O/N6VvGE+Cd+Xmxq6/keEh9ykucU1y8bpmqeEmPeRR67InZCNMoCOCny3UVKBDQgIiU4iInxPhxVUFV4lwg8yy19zXNmG+1QXDjw4YJcKkBaMhWNNcALfkXvMfwMsAGABwAMlGUd5wR0AN7Ca7SwmBlIOJgXsjvFOBT0SgDJgkGBsKPHD/QMaVQA6oJkBhhM0LwBkYMcTO38AYwCCWO4lYJ5gXnbYGYhIBlBWTg4VC1TfJo7DodDAvqrxzI+1AOt7/wE3HfxWVNEYIgstKKnRAGzaEcEMZLjU/0di3MeMgGsl/nSX2L2/gQ77fZaY5PqSak9HsCmbTaENXoT4ycpMjjuD2JNEwqcJ0clMNEqEjiKmAV4Bl15CBNUWQJ2wisPOHl4iUIf6CRF/qOtUs26Te1OI3dunhZmBjGQVOz0oI6DBA+Kodww+fMKcYtin79hbT3X1jbvoTDK7pNoDAbxYDFBnULd5ivkCfCcR7TcBi11m3bS1u4qyEYAboCtDDA87s6AxY9cau3ntjimuuO/ror9rndhTRJtaSlSAeOcbpdVa+1hrrVyB/MqiTSz0aU5qFsqAQo4tG/+1VUjeHTvxirDawQBmlW8zSg9Wpo0K2fkkcCIALBSVf0Ak00gMK8xm46QTP/3FqBGfnClMF4z+bPjQmTNn+hc0h5yfSJ+YX7F0KrG8QCT/Tkh0zLj99NsBLnZETCYiCF/CaQgrDJRS4AXTKBErqFh6qTAtEdF3EvMNC1KyPu6IQUWpD4ARYCOhLA6oM+6DeM6B8g4tCWuHDMcg/9AhgZAxWA2oWe4sJoaVDoAYy0yAGdpEsFSF5ocl1Il5QUcH1xLjHWSOH8KefzTnDcaFVWJisCvtsDMQyQxkJKtgcDWp8Qd4AfF3aB7EQkBQcf8hN3masC34cxL9p6U1HoB8dkQhA5nJjj8Jsc9hqzVDgCh0H7Umd+9roMN1/iKvdFdJteYTKo1ax600HBvftM6YeZT7zPOCF3mNAll2xGAGMl3q/0mjuwz16aXSoH7dj+IVbtq3ba/1eTjHsNMIdhx/Z754Y8cOTgPYGQFYCBcC7Nrh5Rf/xks8dujK/XIDVwJQrbGjcjiUnGUkO4qIGNTmHs26sHIHeuoXO/w2coXOK63R3gglt/7nLKwonKIwv0osN+W6sqFrEHLAaUQhzj954uXYjQ8rZm3Y9iyxjFqZNjqitZ/T8zfnETNEG1uMc88q/YtDcRcT0z8UUWbMT709YiyXsJLSzMkFFUU/FqY/EtM/DybvnpnHeR3xfMTWF4RUUX6AXXxo0kA7wadzsrhq2am66HCKyRCRWxekZoOV0F0CgCzEP8FIs94+wRBCiQmAOzz4IF4NVlrITKYoJctiUTxvAhko/8N9GgyTk02mBQQ/MUdYruKa4lqDWQOtMDiuYKEJANsOOwMRy0B6smMmEwP8g46ML/omqtS3t7NZJm/EOm+lIeyMHzzSnGMhP+msd9/x8gdGiZUdUcxARpJzFbEAYDWiby+UF3XN9QU0Lnbtawg0lLi/tFrzMUyimMpWm7bBi87KvN1vp2YgM1k9R4iMBZXqYBoxtHndi04dZCd2HiC++HFptQb7vlgLuAqUehcmEKAD8wL3s0BNC7y0X2S+0IJlgRfZiO1OzziN4nYnqLuBgSE5wwbFU0IcMJSeHXv2Nxi2z40hj5VWe3y7EaFmJr+y8AEi/iE3uE/ImZQTMs29svK5Xn0192Fizho74fKwqeWzNnz+BDOnPZ02CoKDEY22AIyMc1/e7nA4z9E0999FoX0LXFkof4rZyK8s+mWjCwgvz02ZGzWB02YSABeOcd5FOtiO33GoWbRxyfmsOlA2Np2YHsx1ZUXFOaaDLwz0IGChCjedj8x71CwTxEUZDVgXAC18Wj0dPL62usP9HCV/YK6i1AVlIigDwr0Eu8dgj0CnCCsDo2TP/DnYNU+YtrIAs3H/BxPPDjsDEcvAFBf113XH74gZGyJNAkze3r0cHfIugM2Cw7UeOlTrJrcWKLQnn7LQvSU1HgB+dnRQBjKSnSuJBJtiRoCZM6h/7Ouj+KcHznEALnwOco2lBL8tq9ZQhtjpYYMXnX4J7AF0VgYyklVY5YFmSsMHJXR5/+5I5hEezqAemrGktFqbH8n2w2gLixC8eAOwACUa/uSoV7deUCHW5q9pAVABLxfYqd8ZRr/Nnpqe4riBdcaLMjlVhY4e0rMcRlrKZ0ODTt/s8Wlf1Ov9tAHh2OwufGdhb8Wd8C4Rl+emzA1LGHNL+bMThPWNzDJ9zIQrsdAJK2aVbyv0lgLOXJk2ErT9iEdLAAazHJh8ziv9iHk+CSUSyW8VYtf8lLnQAYjZyK9c+jCR3EpCv85NzQqpVCvSk8uvLIJOxAxiepmEIDL7b8WhXT0/aX5YYq6RHmeY7aE8BOwTgDQALKAFAh2M7yzudz234ZghF0/6Msz+Ink6GHJwVwH4hLKXr032COaE5wBKgxD4GwAHwAqwM1BCAjcTHA9NDexSwHK2q1l+RzKXdlsRzEB6inoW64auDL5HTQJuhIkJKiXGOyjeiUryyAQAi9oGD9XW6QRBzsBgoiM60wNlVRrKr+zohAykuxx/ZGG4KBmBz8LAvnGUEB/7m1vYeNq7v6Gp5wTT3aVVGhh7MRE2eBETl8EeRGdkICPJ8Sgxw0qO+vZWjRuLHY0Z+HJHra9ekpkySqq0jrYUBNUZpRjQqgDIZNG/QXnGrpslzPm210lgjVnzDE0O3NOwo4hdcLyY+6vQR/zyZiSr6NsQahzQx2nUvdrRmIFvdtcZltAIYbmurMrz91BzU1Cz9FLxyLMkdFVuahbo4yHH5vLVPyGmRxRSTj954mUfhtyQeeLV5V/8PyHJXZk2qle4bbV0fgsAxivp5748mpm+UFW5ye3md4j40dyUufj8x3TkVxY+S8SXCtHtC1KyHo6FwRZUFv6fEP9aIa7yiN7AzEcpQj+an5q1LhbGF6ExwGEAuhG4f55r6kd8F7x4/q37SaFBHg+tGH7xhI4UWA1mmgAJYR0MpBiaYigPhLsKygf9hTrBxsBcsQMKlg9YKG8SUYqpgxSrGk7B5MA+JsYykJ6sXshC2cSG09l3wuFginc6jE0yLGSdDoXws7ZChMjtEXK7PcbztF7TCZsDzQYbZSEPO+O0xS+X2yUibeU22r9PT1J/zWyIDfsiloU8IfK6DxuXlmOcOWpmubGkymNs0sVKtP3NiZWR2uOwMxDhDBgPm0YrOXIoTMe0YJka4W5jvjkg+aCLNYZ8VlrtgWtHRwV2xmCJB9o2bPPgEoISgR+YdGG8jCLwczhF4MUbf0M8CDtuX0CD1dS+AF06auDFxS7qdVjUQyZgQkcPTSRnEC8jHZXIzu6nqVsNP11a7QZjJqTIryhcSsxTc1Oy4DIQVmwu/1chscw8qDpPSEm5GIufsGJm+bafMdHv9Ykj1WeYI1aSFDioQACDmX8/+ZyXoNNyHyk8hXTD0vuHNX964nvfvL1pqK7LKFaUYUTSX3RKZCZFJ9KwK0fMe0T07UTK/xzs/uS1qo6l1ed9kBfXt3YwFpLjSaGrcpPDA6TCuoB+JxdULb1cRFYR80ES/XUivkyEchakZqG+vbsEhDEBXiBQNgWrVV/sXPPvEeRQ5xDxHGYZQszL3RqvOPqS8ZY7UyzkAe+uR5vMSehbgJHnL9SJ54ilkYGyPgBkWFRCmBlgB9xMUH7yX9PtBE4mIZeixUJC7DHERgYabdP1G4kY7yqGo11LwcykKkSKwsT4Y6r8kwhBa9PjkQDRzRZaElrPzH/19HP/ad26ThfejY0LESOjyEhyXEPMj1ilxRgWWLoD+joNRk6sRPMir/Q+C91SUqP568TFxJBt8CImLoM9iM7KQIZL3Uxi7NLToP7x1Ccxdm4mnZUTfy9nEbqvrEZrVTQwQuPEvQhuDahhhtAaqM0AIqyA0N6ZJqhhARoAVV41a6HxM+hZAOUOLPyM0BCbNjMlxXGprjNEQCnOqdBRg8MvGZmUcTXNvi2f2muZG6kJtmSrG0r72CUC+8IIoT2lNRpApXbHko1Lhuuq4z0hWZObko3PQVixZeNqsIgSxky8Ii2shsyTry7/4qdCslwXGvzMpFFRFUTzBzCElGvOc62u2vPf/235YkPFW7s+3uIkoeSGQ8DT2hvyXyauEqaN7OHXSza5UZYV1VhUvfRY1uUNL/CTSCxX5riyAWZ0ejxU89DJHo+ySojGKQo9o+uGu8VfclOyUGbRY2LPq5WjdbdnDhPN0YX6kPDyeJbl/aZNaAJ2xEhCINgJEBsABu7/+G5bGhkQY4WYbm+zbOZP3lv2b717FqDU4/sKJh9s61FqAlcW/+dOjEzPHkZXzEBGsgMlSxd7yx3hmtNE3DPs+TCtJ6EXxaM8W/ZOQywBi2FPrbs1cO64+JMdiqeQGzfhfNEr3kF9+jgpIYIlRe3NXW2dRvsPf1fklUkeGVTnyXrmQ7J2MtvbdFSPt8GLqKbXbjzWM5CRpN5FbCivGzWJsLnsyVHfoNP2b7UKSNe149dtMnanoh2oZ4b4JvzHAWBYAASo+LhPYYcZ+hUQngJggR1D7B7+xnQSwM4ZSk1gB9gh4EVGsoqSFkMLJFKWWBZ48fabq+mxh0BAaYzLr7+Hps6YR1veL6eF9xhVKlGJSIIXGOBXO+tI8zRSXFnn8aEsihdXLbtOF/1JEb5gQepcXPuYilnl27DD9qSuOE94ZsJRUbdnnLbw3fv0z1/5ZUPF716Vhv2g/kOYMdLxpZA8ryj8z5JKLWo5X1y9NE3XqZSJtiiizJyXeht20WMi8iuK/koMW2VeK0QnMslhIbqui9uptju3+9ZWnugRzxyBvhCTIrqscJJj+YDpqbjnxmrgOXLQC1gsNMsKAWSAZYnFA0RjUXoCC2e40AAoB2sJekkokTnGBDWw2xg15l6sJs4eV3QykJkcdwaRpAnpLiIG2IZNs2AAfSGST4n4I2J6h0TebnB7/v3v9wztFju6UAYyXc5sEUF5W5MS08Q4B/XupVKvhA7aPBUyRF4P1rp9pb2+NDJtEZG7y6o9sKqO2bDBi5i9NPbAOiIDhmK0qBDzMuxGhgyIM5SBe2rshC2SKQAlwk+U1bhv7MBcAIxAf3ihhFAeapXx8ok6bVhAYvcMYAVqmYEGLzJfNv/tPTZs7YL2zjMzWS02RhalAAAgAElEQVQXook4b+igeMIDKNxoCbxAuzfdUUT4/dpnltC/nsRmYuQj0uDF7v0NBPs2hDDfUVblhtheu6KgsuhxYUrNdWWd3q4TO+jgGeWfX6IQr9EdnPTM+JEQFIxKTElxJomu3yzEYABgF7nZAAUZDkqqUVPt9ewmUJJxaCMpWXQij4hBSQawpGnSBtonnzDxYw2iPfpmTeRFb/Mriq6E1aswveZ2OmbefcZtMfNSnl9ZeBcRP0AiNawoX4rIZBb+SU7q3B6n3r/ruQ2nCKOcROYwUz0cYxSPsmLQJSmfR+UDH16juBnjUw/wAaKw+LdVew7GHmxhUeK10iwhwYs6FpJrvQwO2K8ON0qaiODO8r/whmKfbWeg+Qzg/dPD8UcpHs8g3NOFxMnMwgoEZXm/5nDvXPcWQTi3QzZk7OsU/Qxc6KKjG8TxKyaG2HyTwHMb6w+AGGDzRjrq6j10BH9qPQR9i4BoYKb7S6q0+yLdbzTas8GLaGTVbrNLZSAjSf0dsSHyGDH6f5dKgDnYAHtU1GEmv1bprunAuYBZ8bzX9vRTIsJC9auA8hEwK7B7BiYIXi6xEAZNuFMiI1kFgGIodI4clmjUrYYbrYEXp555Lv0k9w/09batPvYFAI1zL4DZyrfx4abXjd+jrWt+8lv65stP6KRTJ1Bd7SGqPYLNSKFH8+fQR+8YTsHkD1hMn7mAjh51cpPfhzOng4c12nuwkXUYChj2YGXhiQ5S3ifRV+SmZseK402TlFxdvm2yEJUpQpOfmjTq9XDy1dy5U1zq2boYDJ8rmvt9nMoUFwdbPoXiVAepavs/h7BDq4cYXINueLpDzb6ZAIWmUHdq+eveiiy1vqCicK4wo/Tr77kpWZauTaRTGVJ7+RVLpxIL3EhQlL6ahK4XoQcXpHYLO9V25+SbFzZ8X2XHLWY5yX6Uk5CnYcXQS8/G/ToWo7+XabHCLDvEZxjPGegj4e8lJliOkkM8U+A+dIcp/AmEGOUk0F6yw86AnQE7AxHLQHqS80yFaL6wNFuOCCDDeKbHqca6BM/59gSwiQZT3BXPdrzft/Bcr2O8SzdoBSXvG6Bul4j2ZaNLTMkepJ2B9mXgwjQa5G5Q/0tCfXHmgL5x1K93z2NfbN9dZyxgGkMeL632oP63o+Mcc+cLTiFgWwSuoiDSBgYG6L3bOnpwVn+ZSXGnCetGnSkWiyOGGMSdsKM18AKN37/8LaOPe26dYJSSXHDZbfTKsw/7mBgAIsZ8L81gZ2z/6lNDP6P2yAEfGBHI3ggERCLNvAgoQ6oqrdag9B905FctmwPggjRJy52YvTHoEzvwwBkb/+dSRKlkkkufThuNXduIRHpK/Fj26P9HLNcGNoiXmcQEB/WKVw3l+kgHrhuEew/XNfvCI8R0v95X+3UkxeHyK4ugQ3A3iSyJNaBqSeWS0To5oIMxQUj+xsQQCq50U9zMn6fMgVZCj4u9ayuSdNHNchL+mnV9RZwSt7zv1OSIW1JHKLmwSkWJFXQuQAezdJIsu158ka4ygQ6AhXj+YPszFBGZCA3ZbsbOgJ2B7pyBycnxJynsuZnEsK5u0W4dNye8axqMSoUMgVeFG5/9eEkWiLyCVakLaZpOmqcNsg4T3l8fV0h7tKMFuyNxPSP/1hOJUdlt2Bno4AykJ6uGYwC6NWTMhyYa1OueEv475Mac2XFSaVU9GBAdHUg6lP2xWxZ1q9NQJ+cv1gnf7mEDIyM70B7wormx+wMaFnjx2eYqH1PDat/6WSAAEmnwAg9S2O6acaC0WsN1DTryK4tA5z42NyULgFW4cal3cVxvsnfCbct3/qw3Px1DatxmZr7h6YkjI8IEykhS7yU2BAWbRO8ElXr3Assi/BKlYBOAsh/4vgPQ8A/vjtF/ROjuddUeUO8jEvmVSx8jkhuZ6O6clKyY8ZS3JpdfWfRHL2j6YzDEGCKWTCeQ4rghJ/m2iDNuIpLQDmhk13MV44l16GH8iJi2kU4rVGpYPmD6OTFT/tNMGnDDBigI+hmec9C7gPYF7LlRVoL7znJTg6nJ6QsrHspDmVhuanZHshI74EraXdgZsDPQmRnIdDkuI1LgeIXS6WD0UNo5XPmMiJ8jodWlNVoj9baLRs9ZnXXRC2QPu+MykJGsQuwRiuXGrubQAZFZkHbcDELrya0Jfb279luOg9AvS2s0aEt0VsDKDvTdu00WRmeNo8V+013ObBaBCBz1TVRpYP+4iIwxFPAi0KFE0xqaMC8CxT/B3kjs3c9gYwSWiUQavEBStm2vNXYFEKxqQ0reJlgXthn51YVnks6bhPi+BSlzw3G8wYIEdZy4SCVea0SUAIC5A60bWCzeawr2hbTDOuPtHUcpnvqvSShr5aRREJINOTJczmQSwY7wJP9Geieq1LdXI320s6K2zkMHDrv92FmNI2GSP/diT9ZzVRS27Szay68sfJmILyDhH+emzv1zZ823pX4LKovuEKIlQvIuC31EzLOIeX6uay5KEHpsbF9bfpZDUMfNs4XoPw5Slnu0epSToFYt1uN4E7BAHfrbpvYSXGauJIL+QGOYFr/VTHS8zlRMuhT35fg1c1LmROSzH+tJssdnZ8DOQMdkIGOcOomYziGmCUSc5GVD4724vfGREFcrROXM/MZrVQ1w8usWYYMX3eIy2pOIRAYyk9QpwoaThRED+8ZR3x5QPrJjbz1ByMcIobdLa7QJkchna21Mz9881bvsyROFfvjC/DEfNXOsv3hnUIvdaI/Zv/3MJPW3wga4Qv37OI0/kYhgNC/eq3rNcCKxHEhUNY4snYvmmBfNOZeg3OTNV/5KKWdf2kRDIxrgxde7agkAGYJFOb2kpiEocdWCysJcIV4kipy+IDk7qHNauAagKQwxBV4BUEAcDWJ8o01a+ILmdliDvZ6zX/6md0M/9yEiuXdl2uiQlVQzk51zhAS1+b6Ij1Oof584o/Y1VuJQrYf2HWwIrJ/9mIluKanWwrY7faDygf5O6o12xhDzVbmuudDBianIr16aSbqsYqL+wvIECf/Iu6B9IiclqyMFjmMqJ9Zg9q59+zxdBOUk14jQVoVp+ZHDnhWjZk7yUbBicuCN7As4XcH5CoK4uJbNKu4vqlg6m1lme7UxzieiGq9FcbHCXDw/ZW51jM7NHpadATsDXTgDZ51FfXsddp7oUfRRLMowUmSA6LAZN8SINSI+zKzvJeHtJMrn+5SGrVVV3dctyQYvuvCH2R565DOQ4VIfIKG7rJaHDYrvUIp25GfUeot7DzTQwSONbhBG6HRW6SZtQ7TGMXXRZ8cya3nMdCMxrxOSohfmj2nuBREiEniJ3BqLStsZLsdyEgbAYrAuwL6IRLTlNjL+nCvorw/n0obSp5sIbVrim/6aFlbZSCB4Yelc7N6xjUYed/p3NDMiKdiJnMB61yo50JnOWVelwR2mzVhUUfQqMyXmpmSd3ebBwR0ATRvskJpIXXAnBXPUrPJtdcRUuHLiqJ8Fc3zgMRnJKkql4Krji4H94gy2RSwGmDR7D7iNchL/EOEfl9W4w2ZLLKosOoWE/s1Mh1hkZk5qNnbDYyqWbFwy3ONwrCKmc1noMWJxCbFo4pl1V+q8mLF87ayk7Xq+YgqRUU4CHYkPSWjF4N5HlnN6etMPTWcNsOV+YWOI8rI27xNgh4muzGYygIy+ADGEZI3E1RffeeadsPe2w86AnQE7A3YGIpwBG7yIcELt5rp+BtKT1DJmmoyZOLzbRsMHJYSk4B/rmTh0RKM9BxqdIBAstKCkRsuP1rgvXrxlgXfRk0fE+0S4qBcnFD6TMyrWd+OaTUdGsvMvXu91vLDS4P5xBFp/JKIl8MJiWWx5v9ynXwGWxAljXT4wwzoG4/AX7AwEL/B7nHvauPNo7+6vWnQesQCRcOe1Y0+9oXTd+CGjC0urtFfaanNxRdFZOhNAjjtzU7JgiRtu4FkHt47vmSUk0L/4vtcoBhoGKB8JK64u/2K7iDy7ctKo79iftdVwRrJzJZHAFtgIlIYM6hfXqSUibY3Z+j1EPXfvd/vKgsyf31tarYXMQLHaXlhVlKEIlXjrfyvcmmfm3Wnz4TIUc7GosmgZE90mzM+xruvEfAEx3ZTryoqYFkjMTbodA9qxtvwipbGc5FImeldEXzFkehr0JLpNiAgXVBbNFoVns9AUIdpEJMUOUtbYbIxuc5ntidgZsDMQIxmwwYsYuRD2MGInA5mpCSeIRysnomHWYgKCjJGwwoyVWWLRsWvft8BFNN1FLl68+SIRhqL7eGL+o8KeouJ5p7wbK7kIZRwZLuffSeQanDukfxz1ijB4kZAIF7+m8cYrfzHKRfwD+hUjRp9i/AhaF2BkgJ0BQc71JX833EaaAy+aA0PQRjTKRnburTfsNxHCMr2sygM9k1Yjv6roVyT0K6dTRmefmf1FW8cH8XtY74IS/kuIdhPR00QE6xbssgLICMsxYlb5ti3EXLVy4kjjMxFMuFzk7CdqMRP9wDq+d6KDBvfvWlo7KAnas7++qRaG0AOlNZpRVhVOLKpadh2L/qQhkNngnpkzKScmwc6CyqKfSqPA4wdCUsHENxLJ73NTsg0LbjuI9qx9+2JpLCeZRiLVzLx88LQJAA+7VSyuWTZO93hmQ/vDsGNlKmah4gMHleK89NtD0tXpVgmyJ2NnwM6AnYEwM2CDF2Em0D69e2YgM0U9X3Ty7RBjN7S7ABjfBS6orLRay4j0lZy+5NPRpHsAWsBy9XUWKnoud8w/I91PZ7SXnux8kkmuQ99DBsRRr4TIMC86ai7N2axGq29/TRUmuqikWnuptb5mrJrhSDvh3PW60MEFqVmoKY9EgHUBlOdBr5sAHEHWm5aIADQeJiKI9YYcszZ8XkHMO1amjYJKeFCRnqy+6A9cRFI7JagBRPAgKJrs2ldPEPW0gol+W1Kt3RNuNwUVhXcK84PE/Odc11w4fcRkLKpcdjaTDjHYo5mUFUI6QLF3nZrMzJ6YfSAmB90Jg9r1/NtXEAsYSheQyNvEyvIh08Y/3glDiWqXeZKn9KsaMltEn03MmRAJZuI1OnuKF7juCOt+E9WB243bGbAzYGcgxjNggxcxfoHs4XVeBjKTHdcJMXb9jIh3KsZC1QGT5S4asD3cvd+fcUHvuEU7/80a2hnJKU0r2JzrvbnkEfMBuCdw776Fz80Z0W0U2TOSHI8S883I2aD+8dQnseOsKyNxncCwGDBoON1za9S1WWnHnjqqM202dZ3S123S1rU2h0VVRRey0EvCPGeBa+4jkZivF5y4mIjOMwX4IIqJheU+r67Kn0yLxLDYHbPKv3hVSE9YlTb6nGDGm5GkPmNqARiHx7K+RTDzsY4BmwvgqC+Efl5aoxkW1OFEQVVRgQjNZ6IHclKywmZ0hDOW1s5dXLN4gO5RAWAAdPsTiRwnzKcqulybMz67x9qpNpezHWvLZymiAMRIZ+L1jeUkE33P22hdo85oN7+iMIkVni2CUkPuIyTFsFuNT1SKbz/dZmN0xjWx+7QzYGeg62bABi+67rWzR94BGchwOW8mkUetrhwOpqH94ykuhtT/g03DwcMa7T3YBLj4UNe1aes2UcRqyacWfPIDhXSwLSYw8Z9E9KLnc8fClrJbRUaSuoiYcjGpAX3jqF8XcaWxNDUwbkv4M9oX5pvdddTg1o1uHDonvbrJvam1PvMrixZCQ6CB4kb8PGVOWOUcfv30N0tFsAOK2hu4CgHEgCDsHY1q3aHHrPJt/yCmk1ZOHDWurVYyk9SHhCnbOq67ABfWfHbva6DDfgAGxAxLqj1hL0rzK4qeJqZZIpSzIDULAqcxG/mVS/OJJEdYnlPIsV9Ev16I5i1IyTLsle34NgO7nt+I3MxhZgjzvm6Uk0wd3y31QlbJKse26p2zWXTYyWYQ0zsQ+WQPFedMyKq0Pxd2BuwM2BmwM9B2Bmzwou0c2Uf08AxkJDtuJOLH/NPQ1XbbUZMOi0O/qFZYu/y1Kvo8Epf30vxPRnkAWjD9iJneEOKi5+ef/I9ItB2LbWQmqz8TImNHGXa6sNW1o/kMfLmjljx6o1UqebSRpe/Qly3lqnBrYT/3AS4nka25KdmXhZnTBCLq5wUrYLUb6BwAkOE0IvoXEYWtozCr/HPcH85bmTb6hNbGnO5y3sYiy6xj+vVx0oAI2eyGmauInr5zTz3VWiKtRB4hnlBW7Q6bKp9fVfQ6CZ0ruly/YHz23yI66Ag3VlBVdJMIwXnlUyF6lYluFqK/LbDtVJvN9K4X3oZOCJgYE0mohFlZPnhaarcoM2xuwosrlybrTLNZBEBGH2Zeo5Ne7KmtLb7r7LsORvjjaDdnZ8DOgJ2BbpMBG7zoNpfSnkg0M5Ce5LiEmZ8yBf6Mrvr0UmkQFq0x/C2qc+u0d38DubXGnW+EEL0kunbNuk0GbT7smJ6/OYeY85jokIgUNej9C1+586hubROX7nJcy8LG4gl6FygnCjZgZ3ruBTd8x+kj2PObOw7CnYiOKANpzzh1Efpiuw8b8JRWa62Kg+RXFF1JTP8QkWsXpGbj+xZOTCGiHJNZAXABKqhIFGw338Oi0lsysicSVryzyrcVEvM1KyeOHNrSgNNdzgksstH6fe9eDhrcr2uJcwZ7MWClCsYNxDzNqC6t1lzBnt/ScUveWzJcq1OzF6TODVtLI9yxBHP+oreXpLKirCLi45joYSFK87rdKOThmbkT5m4Jpo2edszOtW//hMUAMVwk9DKxLB8ybeKa7pqHP1T+wXmYG64XgcCnpAvJu6RTsaLympxkm43RXa+7PS87A3YGQs9ADC+7Qp+UfaadgWhkYPI45ziHQx4TIR813Olg6t/XGZOCjfsOuunAYXeTVAjJsrJqz9xI5Gfakq0Xsg7rU5pITH/WiYrWzh/TaklAJPqNhTb8F6JOVaGjh2CTP7gA0DBo6EhSnXGGO0igg0hwrTQ9KlbBC5SLYBFrxubSaq3RGqWFWFRZtFwhmjHfNXcoM/tWvqHkxO8cCJIMNpkWYFtA6AN/BhGcD4gqwmyfZpV/8RsiuXNl2qgW0YiMJPUtYhqPvlB2dtSg4D8z4Y6vM86vd+u0/dtrjyE8VFqtzYviWPA+g+u8K4p9tLvpgg0FiRLnhA7GdLg6iaL0YV0Ahs/Occ3Fz+0IyICsWuXY3Wv0HGGaw8RnwG1GhFYMnT6hTaeirpzM379VlOJ0EMpoZhNTb5SUAMjQ+vVac9cpP7bZGF354tpjtzNgZyBiGbDBi4il0m6oJ2QA9oYDxLFCiH/kP9/EBJUG9FEJC9nODtSbHzjoJrenydrPTcS3l1a7ffodoY7zosKtIxVNz2NiKP+/CV2LF3JPeSbU9rrieRdNoH71btXQY2AmGjUcjptth6U58U7FyzTm9DSqPXwgImyJWAUvAgRiny2t1i5vKUtF1UUjGnTeyEzrclxzb2g7m20eYfnNTjR2cc0yH/MsABoDTNHOwJKSNhsOPODq8m13CdEDp04c6chj/pbmZB6YmaTeJ2zYtBoBsCsW7hXtnmg7Tzh0RKM9B77V2RGiH5RVay+3s5lgDnd6y3/uMlk2AKTArompyK8s+i0R3S1ELyhCXwrTLbEsQDo5Of4kRbSTiZRjheRoZgHY10dIcTIIfKLXETHugTuZ5UvR+bMGj/bRv9+jvZFKvKzdGr9b9s4xy0kAPD7L7Fg+eGqKzwksUn3FUjt5H+TF9a0fcj3rRknJZGZ+F0CGrmvFC8bPCxtsjaW52mOxM2BnwM5AezNggxftzZh9vJ0ByKMnOW5g5kVE1IQm3jtRpb69VIK1akcHVP4PHNZ84oh+/b+okJL7WnXDR+GO6eKCrfOFJI9EjpCiFCbGNRQ9c/vpPdK7PiNZ/ZiIxiKnwwcnGG40bQVcPk4Y6zLEMs/KvNb332BgICwL04/ffZO+58okVW0sR3njlb80YWgArBgxupHEsHf3V6S5G8jdUGcAIehj6FHHGsyOgYNH0IebXqeF91xitD11xjxfm199/nFEgJPW5rz3QAMdPNKohclMvyqp0u5r6fhFlQ/9kEl5XCeZfmdKdiR2WAFalJilXiiRwoIHugv4HuDfWExeRUTb27pubf1+1vrPbyOFlzk0fdDfzzm2yeJtiivu+7ro71ptdDeBzrZyE+BAEpHykYA+E4kIAp4oE4Ll5gwiusRr0fy/tsbW0b8vqCy6FroXRPSlEK1mjJP5I6134szO3lmHPbiu02QSmsSKUbLRN7T8yGdEytvM9KaHuHRdVQPuk2HFjrIP+jhqD8+RxnKSk0noH6TQ8iFTJ5SG1XAXOLmx9Ei9nlhmk0hvgcCnwmucbim2LXi7wAW0h2hnwM5AxDNggxcRT6ndYE/JwIVpNMjd4LifhH8aOOfEeAf1SnRQ74RWS/zDTpXHI3SoViPscGtNmRZo+xsh/lVZtTtsu8npBVsv8G62oUQENduPKcJFxbkn14Q9gS7cQKbL+YSIGAyBYBakp555Lv0k9w8+toXFwnj7zdU+YMICGA7u30WP5s+hj955wwAjLMADIEdz/z5t3HlkgRH4Pf7tD3hAZwP9rX1mCf3ryfspcCzRugz+TiNMdFFJtfZSS33lVxT91cu6mJyTkjUqwuOBPgIABewSo1wEpRsjvGKeBShliITmxcyN265nob8yqcc/nXZ0E/eezGT1H0J0JeaUEO+gYQO7p85FS9fM49Hpq5110NoxgpnnlVS5I+W6ATYAtFEAYMw0gag7TatSAFORcquJ2EdyYdWSM1iUVUw8lkl/WEjBYvwMEZ65YPzcNyLWURANpSc7rmBWriIRgD29gzgllEPeZ6Z/eVhZta6y4f1QGrDO2ff8mwM1ds4hYoAY0BF5ykO8Yti08R2at3DmEOq5hWsL4xuGyWxm5XoSw/b5PbAxHKqyZl7S7TYbI9TE2ufZGbAz0OUyYIMXXe6S2QOOtQyY+gc/J6LvuCMozJSY4KCEeIUSnA6C1Wq4AR2Bugb88VBdfbOM9zpiWlQbp/22vDw8J4XpBZuP8a468oj5ZmL6ty560dqcU+w6bS8bwt9GF2DV0DYWpRar4pVnHzYABAQYFIm9+/mACgu88NfC8D9v+1ef0uzb8skf8AgEIgLBDauffXu2GwwMK5obT7ifTf/z4TACpxErVE3r88q71KyQa/6mpWNIk7dNN4bbIzgOoIdwhSknoqi538xa//mlpPCz3j/jVk4Y6bMGzkxSpwgbtqxGQOeiOZtlfyZNc3MHuwaficzptzS59hHMU1SbAiNsn2XTzLR9cK02+pkPqYlvcwgDOAllBKaWyTVEZNlrooQEgC2YFwBcYy5EhBdXLVslJFd5LXafFGI3i9xExHfkpswtjOaAp7hotEfUOQrRTUJ0dEt94VnldCikOogcDoUUhQnPM4IUjfF/Jl0X0nWdNA+R5tGpAcLQrSvVlJLIH0trPGGJ8X6zev0wNd55i1lOMhLOzx7xrBg+fdKGaOYuVtouqCgcL8zXe0WHZwN0YuI1ulCxxoeKf57y85gD7GIlb/Y47AzYGegeGQh/JdU98mDPws5A2BmY7FLPVohvIxG8SDcbTpUpzukw6t0h9okXRPzBSyHeC62ASwNeDD0eIo+uG6r9AC0ggoefNxdM9LX3ZfQPznit6OVyw0UhrJiWv3Ue2BbMVCfEhQ63p6j4rlNs0TAzq+eekXC8qmqfWUkeNTwRu8ot5hygwtGjTvYBFTgwkBHRHKDg/zOcc8Flt5E/AIKf+WteBPZjgRsoIQkMTWvwsTHC+rA0czKseWHRa0ZZabWW0VIfBZVFtwnRMmY5N8eV/WYExwJVzCe9Qo5F3mqv1yPYbpOmZm78Ip1FSkWX81adNdq3C5yRrK71OpxchIODdRdpCVRqjqkTrflEo92vdtWSZrmPCP28tEYzrIZDjFQigs4OACnY3cJNBos5S+viOiK6lIiuJaLGuqUYjPyqol8Z4DDRm0RcQyQ/JpJnclOyb4r0cDNc8ScSaQuaYwqiL1VlSohzUEKcQvFhAO3GcwrgursRXJfmH1cfE3FBuBpMO1+pHqFomlVOMpxIHiNFWT7kovE9gomQV5aX0Lf3oNnkABtDzvWCYe/DcpV1Kc5JzY453ZdIf6bt9uwM2BnomRmwwYueed3tWUcxAxlJdKyQegMrNIuETm9PV/hCttdigYle8JA8ta7aY1h3hhuXLNpyvq6gRIQnCdPjTFrR8/NPqw633e54fnqyWsFEKZjb4P5xBM2T5sJaeCYkWhqSTY/y16UIBCfCBS+svj/bXNWEeRHt67Fzbz3VmswgZlpQUqXlt9RnfmURFqDfy03JOjnC44Io5zJTsPN3RLTOLC3wWaBEor+r3/o8RXSuENIvWZV27HNoM2OcOokUWm+1f/TQRAOwbCu6K3iB8rY9+02yBdMXpVVaqOVBKG8AIAU9E1xb3DKhd/GwaY0LsGKFt0rnAfPvtlLeqb837YFhp7oHLAwsQplIcTj0mXck3bHVGtzCiofy7ky9o91MksnHUYIyWM0jMQRNm4TqYOOeBeZYVHSahOhIvUZH6nSCJlNgMNMmEbmvtNqD73/IsfeF9cd6COUkhibGIBF5VBTH8mFTU3tMaePCyqUTFNFnE8pKSHqhpERx8Jp63Vn885Q5Nhsj5E+XfaKdATsDsZaBtt+kYm3E9njsDHShDKQnO10kMtUrXpZJROei5Dvs4QttF+Z1XmG1V5we9/OvvEs7wm4TCne//3iE7mSAFj8RkvUKKYXP5Zxsl4i0ktx0l3o3iyH8aCwAWiodCWRY+DdpWadCxHP4iBO/w6wIpWzEn+HRUfoW/nOCFsuXO78tGSF2nFRaVf9pc6lcXLk0WScBCPRgTkrW3ZH4LPu1AS0ELGzPIaJkIoLtIkR2d3p3u/GdfC8S/c3492djFYfzY2GavWriKCysKSPZ8RgR34j/7p3ooNP20a8AACAASURBVMH9g9O6aAu8+OK/H9BxJye1KObamjCr1TbaOOlUyH8Q1dUeMgRkp82Y7xOBDRRzxef33Au+NYCxwDac357yo6921vq0eXSWG9dVeZ4IMf9wi4Griz/WCx0AgBZHeYkEv/EuYlF+0dQrOsTOon3a7yuWjHWwoYNxBhOt0EUGMvMMXdevuXP8HasKqpZeLiKrc1Oy2vX8yEhyXEOsPEAko/3ngHsVPpO9oqzJFHhPAIAFBxqUlDUNflp3uu9c9xZ9EU6ud6zZcBI7lDleFuIcYu5DxMs10lYcNW1SRL7n4Yyto86FNa+uxs1mRZ9NxGd7RYnfZ+FiD2vFd6bMe6ujxmH3Y2fAzoCdgWhloF0PwmgNwm7XzkBPyMBpp1Hc8F5qqqLzOJ30U4n4RGYaJULDmKi/1/2g0VqiMQ4z8R4h+YaY/sc6bdUVeV/IUR0J9fbAfE8v2HKH92fYnWtghQo1Bxe9mH3ygZ5wXcKZo0HFFs8nVhsjhiQa9OvAaM3K1FoYQmBz3+5vWgUvoJURjGBnc+UpWHz6i3g2p40RTi78zz1w2E37DjauG4XotbJq7fyW2l5UVfQzFvq9R1eSfjb+9k2RGkMr7eACDSQilEBFZHF7feXOo93uuq9EZO6qSaOXTR5HAxRFRemW8WFoSeuiuTG2BV7gHIAN0MAIBMXaEmYNFIRFWxCRRUmR9dkI1F0J/JyEw+TZf9hN+83PhRfMLS2t1gAgRSNwP4UOEcCMmHMdaWnC+ZVLnySS64jpn6LLN8x8u4i+gllB6dGxQnTrgpQszKnVcLmoV39xLCXiJuUnKAvp10c1ykM6KwBb4P5w8LAWWAK5X0Syy2o8fwl3bLterjyFPbpVTqISyXISWTFkelrYjlvhjq0jz8+vKpwowrMVouuFqBcxrSFdihXVUzw/aT4cl+ywM2BnwM5Al8uADV50uUtmD7i7ZmDGDHJ89hkpVVWRWVAFk6dpi7dM8RYl5zHxWUz0hK57il5YcCrsJO0IMgMZyWqx14LzYhzer7dKA/r6Y1CNO9OwKPUX4fRv2p8ZUbm+uE3wAudajiL47+asUgPBCxwXuHtu7bhbNq0taWV8vW2rr9wk2F12/x12ErmhtMbz15bSuaii6FViGbYgJfvMIFMe6mHQv8BOJK7VaUQEXYSIsJZmlO3ooyTUHxSSe1aljf5tZrJzjpAYi0wIdAK8CDbaAi/8y38CdTAAkrUmzIoxBH4WA6+7f5sb1z1jgBvvVb3WxKoXn6Xx51zhA1GCnRv0er7wE3Flj2NsyTv1W4I9P8jjwLwAYwygBZygmhWJDbKtDj9sUWXRz5nod0LyLpHyKpNAwNb6AH2Tm5LVosgmBmuWK/3RK2B6qjV4VVGof1+1xbK2Dp8kQctJ6MBBNx2sDSwnkaWl1Z6sSIxpzwuV39dJt8pJGoRoRZxDXd7/By4f4ByJfmK9jbzKP/TqK/VgYswmprO8dsIfeJloxQ7iNfNS5tpsjFi/gPb47AzYGWiSARu8sD8QdgZ6YAYuXPzh0XGi5gkRFNs3kOIofH7eSZZafw/MSOhTTk9yXAKRNLQAvc5jhiU2qvL30GiibSD0RWlNy9oGi6qXnsu6vC4i9yxIzTbKbyIYEBiZaIIVEG881gQrXjMXty9EUsxxZvm2w0y0dGXaqLsyktWXoa2KuQRjo+s/57bAC3+nmeaAhtaEWdFPoKZKa+DF5vfWG+42zWm1BIJfwV63XXvr6YjlkhS+cGdgt1iwQ3MEpTuw9IkIsybYuUXquPyqpdNJxCrZQ+mTL5joupyUrL8319dkl+OHivDj/r/r00ulgX2drYoJR2rcobQDXRw40UCU2gqwtZQG7fqS92l7KG0GnrOzuDyZFJ7DzLeA+AEQQ1X05QMvSmtiaxyJvmK9jYXVS9MU3SgpgVNJAgsV68zFDod7jc3GiPWrZ4/PzoCdAWSg575h29ffzkAPzcDF+Vuyva+JeczsFpKiugZH0Ws/P9EW9Arj85CRrELZHQ4I1K+3kwb0hVtjz4yvd9aS22MuRNpYnOZXFt3n3YT9pSKOE+en3uZzbgkzc9iZftFkV0BodrXXxhjlKNjNxeLl6zDbb/b0WeXbvmTi4m9uHXm3oqh7rYNGDEsg7HwHG6GCFxbQ0Jowa3NttwZeoIypNdZQsHPyP+5wrUa7LeFOojdLqzVoAUUiYJkJ4OIhIoKWhrUaHmcCWBDwBJhhqerGrAsJkpFfufQuIsGYmwbTl7muLMy1SaQnqz/jRltgI+B8NLi/s0N1LUK+iEK050A9waHILz4SjzKj7J0GsAQiErteqhjPOspJ6EdEBIHU5UyyYvDUiWFpbURkcB3cyMJ3FvZmd8JsFplNzJMsNgaxFOe6sjd28HDs7uwM2BmwMxB0BmzwIuhU2QfaGejaGZievxn15XnEfDax/EUUR+ELd5xkl4hE4LJmJjmuFuanrKZGDE0kKPn3tEAd+96DjY4SQrQz4YA26sVPyOeX6p+PvA/y4vrVDV4nwp7clLkQ1IxUnGjaZ4IaDgHQzUR0guk+8WNT6yJSffnamVX+xYfMsmnnrcetFmbYeLa7ZATnhApeWCUetYcP0D23NopxBkZ7wYtgAJH2JhLlAl/6lY7oujZw3SaKRP09dCF+ZgIVh8xxTSOiPxPRXNNWdbifUwncZ2Iy8iuLZhDJk0TctAbNHC0TrctJyUq3Bp+RrMKF5FfWv2HFPWRAPMGauyuF//3DHPeXxHxJaZU7om5Xe9ZWnKULyklotpDsgLBnYnyv5X2mfD8iTI+ulHOMNf/thyaJosxmEjAyUKJUzMRr6uOU4rvPuM0HxHa1ednjtTNgZ6B7ZqBrPdm65zWwZ2VnIKoZmPrgB0exw5nHTHhZKxeSwhdyxj4d1U57YOMZyerrpqMM9U5QafCAZtcd3TYzcBj5alcdiTRueAtxTlm1e3FLE86vWDqVWF5gkayc1OylEU4MFAlnEhHaBf0eZRwXestGbgvBjTiooc0q34bdyt27bjv+E2HKxkn9+jhpQJ/2sXBCBS8eeyjLp2vSkjBrc242rTEv0CZ+P+Z7abT2mSUEwVgEtDUSe/ejR/Pn0EfvvBFUfvwP2r67jurdMAsxPimXlFZ7DHvZMANsBACIsARFHT8Aizu9O8ozcN/zghYnEdE/iehVE9SKyZKSRVUPuVgUMEdattlm+jDXlWX8Pj1J/SUzgcFkBJxEcO/pqqVrsFTdtc+01G2c0le6oly4rrLh/TA/H985fedz5ZOJjXKSq73atV8S8Yq4eFneb8qE3ZHuqyu0t+yDZX3qaj2zIfLJTGnee+iHTFQs7FiT67rNZmN0hYtoj9HOQA/IgA1e9ICLbE+x52Zg2uItWaYgp0eYipx0uOjZ+UmR2OXsuUltYebpSWomM0FPwYgh/eOoV6LFUO/+6dq9r4EO1zUy8ZlpU0mVltTarAuqigpEaH69IsN+kZwN69JoRD+UpXh1TeGmgwUy3Bei4qIzq/zzV4mUxJ23HeckpvGYzLCB8ZQQ3z5nh3DAC/TZmjBre5kXAC8Q/gKx+DdEYi3gIlgRV/+Lu/dAAx084qvauL+0Wrs3QhcfAAZAi2tNoc4riAgOE1iIQVgXO/j4/dYI9RfRZn737sMD4xo0WOxCo6XVEJYr196cewyxwBLWCFifDukGoGldg4d27q33PrrMiQltcSra5JerolPytf2Fjec7YK9KfCWEXhWm5eR0rBh0fkqPLadcXFF0lm4IfIKNYQjGrqnfs+flmidX1uz6cIuTPdKPmBKkUerJzcyHdJ33OD3uryNl397Wd8D+vZ0BOwM9MwM2eNEzr7s9626egYsXf5whwnlEfA6R/FUhtbA458TKbj7tTp9ehsuxnIThcEAOhemoIQnG3909UKu+Z/+31SGiy7SyTZ61Lc27YEPBIIlzrhOhLxakZk3tgPxgUYtFHqj284nob5EWc5xVvg27+mN23n78WC85waBbjIR4aw+4/u29fgC5AHYZwbS2tEpDeUekAq41/0dEcOlAGQDcZXDtF5olRL/xVvRAHBZgRkxGnuQpvaqGjFNZztSFxjMZYFiy/2C3rS+veveJVS7rZ90FuLDmAwBjxx6/e4rQurIazVcqE40Lt2dtxUVmOcmlQvSpwrzc7di74qgLL+xSjjWRyM0FqTRK0xxnOxLiz4rr0+d8T3398Q2HDgdLI0PZ1hYRfo+JqoRpQ1m12y5RjcSFsduwM2BnwBbstD8Ddga6UwYuWfLZcF3XUP/8U2IuZ5Ki5+aP8WkxdKe5xuJcJp9GfZQE5/tEAmcLg8I9dGB8LA41YmNyazp9vbvOJ48oJMvKqj3Y3W4xFlY9NFMRZSUp8sPc5Oy/RGwwrTcEFAmLwBuJ6BcgEESy36vLP3/c/dWWC/be/wPDylJ1KDRiaPAWqZEcS6y3pWkoMao1h8n/K612HxeFMYPygs8hyuWwow4GBgJ2uRBuhWjj/2fvSuCbKNP3+04mvaDcl+CtUPACEm4vmiKuAh646K7K/tf1WhUQqK63soeurhS0Bc/d1V2PdUVRCng3xYsitKl4UljwRq5ytJQemcz3zzOdCWmatmnapEk67+/HD2hmvuOd6WS+53ve5wH9A/cFFmUNahUiMJ42Nfnyly8n/XhoxwhVSCP2b9129vq8Jy9Vamo1aldykoX690q850xgCYkg8WShy6OBw5GM3auKLiCSrmem8wVRmUTi8V7Hpj/OJ58c0/dIW3MyyWYdp7K4kAQBUD6tre35nw8NJCZ+i1hd6SzxAOg16sbasxuzLTMDZgY6QQYSf0uwE1xEc4pmBpCBqYvKZhGxJtrGxHkWlnNfn3ecWSIS5dvDYbNMI2Lfrm4iu4+A1r1zbw3V+fQL6LPeJyi2ZcuogW1A4CXIKc57CiCCtbtInzN4TlBBzyhftjZ3d9naH/JqP3/3qoonr+uCxlKSLNQvAReUbU4UGhBE3+885GsquUJJaUrYtQ39QQT2LSJND8LnwqGDV2fr4AUW/3cR0USdoVHZhv6idqrDJjt1FhFZZKYBvRKX4XXwkEJ7K/wxA77O6XI/HY1kl69ed4moLyc5h4m/EKQ+0fv8sY8zc8IsvM8dT73qauWrmQjlIac2m1cmkiUmi4U1NxvUizCxpnOkCiKhqqSoRCr+03xUkBAvkEV61lnshlOXGWYGzAyYGQg5AyZ4EXKqzAPNDMRmBqbkbMokkiDIeZYg8bwkybkr556wITZH2zlGlTlS/iOzRl3Xomf3JEpPQP2L3ftrqbrmME7BgiYUlCoQR2wyHix+5GgrWdYQ0/ps+2wI5SVEXFr04/21Hz53e+VL92i+qF1TZerVvXOJtrbmQm7fXUOKR18DsuVEZ0nt1tacH+KxcCCBFSuYNlhRwRISYsVX6PoXEHSFE81lXpbGHr3NmLZQDXQWAeMCzItEDoAXADG0YKpRheXUNa5auAlFJcrfWH+ZEAIMnkyG7bLEj/c+bwwA2LiNs05LOc5iUeYyayLGjcSZsDhITrZQslWiJPyRJQ20CCUAXrgVoYHa+ANxXt/vekADgugtFiLXWeqBvbUZZgbMDJgZaDEDoT2JWmzGPMDMgJmBaGfg4of/188tqQuI6QYiWsdEeSvnD3kx2uMw+wuegSyb9SVBAosiLSCkh7r0RAloXEDrwggh+OrCUjdsKZuNnA25vyPmfzDz9Pn2Wa+1dHy8fH7Zuh9uP7T60b9WrX5EG3L3Llbqnh5qiXj9LAPFNvEzf+cQ/H/Y8LNo5Njz6cWnbg8pNYFuIiGd1MqDwumjgeOISqc7P1XWtrLbUA7vrrvNwFmkq1d0ECKy2GEGuPucXjp0jdehBDUscPj4zLtmi1kL1awR1tFCEr6d6h7pSdStS+I8U5q7oDvKDzO8hKAVhaXKRaHcAO15zJ5V669kEtcL1kqPipnF473PH9fiM689x9DWtibZqbuqyvcQU3ZgW3CoSUuRKDVZppQUS7vWlQPEqK71EEqBAGwEBkAMC9P975UoH7V1jub5ZgbMDCR2BkzwIrGvrzm7BM3A1Jyym0ji+0iQRCzyRHJK7uobj2nXGv4ETV3UpjVjBln2bJXXcH2NvRaJAmAEAhfMdF9BieKza2wuyTnFeQDYpmSPmo2FZcRi09rlv2AW3VVSdw4bP2NNxDrSG7507fc3Vb36lyXVhfVrmdYuLAEAHJ9hp+cey6a1znonYzh5nD9jLm3+oogevusCDbi4NvtJ+vmHLdr/YyXCAS927aulmlod/BLi/AjuvAJBgtsIBEg+JiJokvhbpg4iogE6cIESpmZLnjoy5w67/A4JOgdj6Ax6Ov65xr2Ce8YIJnFlgcsD4d2oR/nqdVfp5SRjmWE/Tk/0OX9stLR7wp5vls16vSABwdo+/o2AWdE1zUpdUtsXsGhqoLV1Hg34rqoOQnJi8bhEnjveK6FO6/QS9gU2TzQz0EkyYIIXneRCm9NMjAxMffjriWSxQJDzbCZ+XpCat2p+hlkzGqOXN+sU6i+S5LeJCA4IWsR7CUn5gbrAl87FTpcyP5RLsLhk6TBVqO8LEituGTXn2lDOCfeYLUWv3aCyeExl6jNs7PTycNsJ9bxfrftxZsWLd/675qN68lPvbknUJS20XfHmQAl/YADtJgp4sWd/nbYLixBC/LKwVBPxi3QAxFimO4+gZAQOHlgAw41kqV5aEukxhNV+ls1ypSAGW0SLAb1TNDp/Z4p9lXVUWeVb8G5xupQhHTn/3avWXcfMEH+1M9GHKtETfaeMjTn24+QxKccpivKoruviSxnKjcDcARDWEeH2CKqsch8uCTo8iJ+IxTxniQe/q2aYGTAzYGagQQZM8MK8IcwMxEEGzsvd0ldS1AVMjPrUT4g5b9W8wR2y6xQH6YqpIZ41mo6yqnK+EDTCGFg4JQUdPSnULO89UEc1dQ206h51upS5oY4tpzh3DhE/ShJPyrbNKgj1vHCO27xu+d8E0a0Z46ZH5Xvu0rXfX3TwxTteq1n7X224vbslU5e00BYFBnhRXVVBd90wNuh0jWN69h6ofb6vfDs9nXM9DT31TI2dIcuH9TW2f7/J144/+IFjJ190I2367EM6xZ7lOyewNOX+xz+hgUcP1fpRlDp6Y9kj9Nrz9/vGhTZPGgHNS6Ka6oO0c/tW6tajrzaerzd+ENLlagBekLis0OV5OaQTwz+oFxG94iXFoK5nJZHmqACaDBxJAJz0JCJYYtaE30XkznTY5S9I0MnooVtXK/Xo2rqSpMiNLHotQxgSWikeXRBSCMouLFUWRW8EjXsSLwtLedqG65nF9aLeoaOQJXq893ljY2LhnTXS8ivB/AQq2YzRWy2slbTFShkjykgOHHT7wEy/LD/idCmwtjbDzICZATMDvgxE5aXOzLeZATMD4WdgyqKyGyWS7vPSPWUSIs/Nablvzz9qb/gtmmdGOwOTT6N+iixj4QQHBC3SUizUs1sSWaTYfwwfqvHQvoo636IB4xdEDxS6FDg1hBwLNyzJZ4ls2fZZR4Z8UpgHbl63fJkgmpAxbjrKAiIev1r7XVbFS/e8ZzAvenVLoq4hMi8wOH+9i2CAAY4JZGhMcPyKZt6YQ+s/XE7PPDpbm6PRjgFIBIIXADoqD+zxAQ3+5SoARMDs8AdR0B76MQCMYP8/a/JvfGBKmODFJYUuz/KIX6R6YUKUhdzkBSkgGjIDekFePYyFILUQEZ6rsFCFm0fMhMNmvYpIaPVIksSaBS/0CTpjgHkBBoYePzldSsSfJaHk+ZvCwpRuh1KvF8QQ9hxGJN6FsGef88Z2mK6Pwy7/mQTd7T/+WHa/AhNrX6VCHkPIt37gBRah/ObdUtoeynUwjzEzYGYg8TPQOb/9Ev+6mjNMgAxMW7TlbK/72H1EIpOYX1BZ5L0xd8gnCTC1TjmFeg0M6wvsJ+KJhUjPdNQah1Ze0BGJA2hRaSj9GwMQPMdZ6s5rzXgWli4dzR71fSLxePaoOY3E4lrTVijHbipaXiJJvHvI2It/EcrxbT3mso+/H131+v3rDxX8Q2uqZ3oSpbdSTDGQXYF2wGwwdDBC0bwIBDSCgRfQ1DDADuhqgI3xzuuPaeN2TLma/vP0nT7dDfwMTAzE80/cGrRsBZ+ndunWKubF7n21moAfgonOK3ApsDWNRgBABFgBxxE4VkDIEyIjoJb8TERIBBagP0RjMKH04bDJxShNwLE90q2EBWhnjp92V5PHUy/6yMS/L3C5n4yVfOxe8VE6WWTcP9cz84nM9IZK/ETf88eA7RO1yBxpfZZZ/J/RoSwzAVCFhXMshyoE7atwB5Qmiq2CpMsKXe6SWB67OTYzA2YGopMBE7yITp7NXswMhJyBaQvL+gimBcSM3cH1Qqh5q7OHPh9yA+aBsZQBvCli8Qw6MV6w9wZaHWKwaaky9ehiJbxgxkpU1yi0/6A7UBn+Jya6JpyF5sINuXcy8/0sxNj5o+dEVKflm8LXetSmiG3M4p8Z4y65JRo5/fXab4ZWvvn414dW17PY22OH02BRGCUiaDeY5kUw0KMp5oUBVBhlIP7gRY/eAwgsimCBUpTVyxY3Ynrg2HAEOxu4RzCPKyxxRwuYxS8ZxCJ66I4jNxPR7+EMSUSgqP9Hdx7BYhMoAUr1IPQJACHq4bDLk0kQdHOImWlQv87LujCSX1Gl0P7D7IsSp0sZFfUL00KH+1d91lPhmus1dxKiY4k5X1U8T/S7YHzELUGz7PLrQtCFxhBTU2Tq092q3T/xEgDMAZz7xT4h6OLCUuX9eJmDOU4zA2YGIpOB+HmSRWb+ZqtmBmIqA1NyNt3AbLmPhEgiiXOtViXvtVnDIi42GFNJSJzB4PmKhfME1EHrC6ID0xZtOVn5qfCLunX3VovqPan+08VOPRa9HVlKUlunUkWV27cr7huf4GXsds8u+IJ2hnOJcopznUR8RPao2cPCOb8152xZ+8pIVZJcJOi3GeOnwwIz4vEr1+6B1c5nf6p88Q6tr66pFurVHevhtoV/mcamzz9sAF4YLIuU1K5k6Fy0xLxoDrw4cdjYRo4n/qMPVqaCz8MBL6BdAB0VhKoqx635lL5tW6ZafTZEdGGL+msiQunBs/q/sRCGXSPcm6AVcAwRXeoFOHa0uod2OCHTZn2eSYAlQulpslZq1tkD2hc/7qxG6ZoWTHRWgUv5MBbzsuPtj/tZPdbrhRBgYwwiEstJWB7vM3X0e5EYr8MmA3SbarQdz/dMdY2Hdh+o1WoU9ajSWVoxea0jcT3NNs0MmBlonAETvDDvCjMDMZCB8xduPkuC9SkJBxG9yILzVmYPRi22GfGbgVO879V/JCJQd7HTC1r6Tecs+HB/Srf+NZ6t+eNr1t52GzHf4D9FPJQBYnRJtZI1ikwMUPgPHlIagxZE5UR8h9PlfrotlyJnQ+5IlcSFt46+GW45EY3NRcunC6ZXJSHsg8df4opoZ3rjF3y0O91S9nbFgaW/1X4CJf/+vUIDLwJ1JPzH68+MCAQvcN6YM6cHtVc1SkOCCXaiRKQp5oW/vkVg3poqW2lt2YgQRD/sPORr/iyXAgulBkqwUbhmAA5hb4mSkXwigmAodCWw+IN1KthuADCu8TIyOsS2cfJp1EWRZfStcf07o8NIU/fB3oo6n0uFILG00OWB8GrMxp6VawcJlq4npuuZuJ/A/aaqj/edNr5JG+fy1esuUYn79J0yNqSyGIfN+l8iAaBNC4i6Qtw1ngNg+u79taTqIq2SxVLhUdSzCkvdG+N5XubYzQyYGQg/AyZ4EX7uzDPNDLQ5Axc/8HVvd4q0gIhnkaANLIm8lfMyfHZ4be7AbKAjMzBJp6HjxTOHiEon/2ld96SuvSZ/t/b5333+yp+eweCy7HKmqtK9zDQxcLApyRbqkmLRxD0jQfmFyvuhWoUOVSuB5SH6UMQSa7LnvreLNCHDuImyda9lE4mFlfLRSaNGjXJHa+C/XPFh5d4/ZkJDgSwWpkF9GxBrmhyGAQqkpnVrAETgBENvwnAh8f9/IOjhz8QIp2zEAEfQr+EcYrS5rayEHr7rAk0QNFDAs7WCnXVulVA2okdHWl6CcQEh3eN1IU+UeMFxBO4jAFPgy/kpEcFRBz+PamTZLFcIYq1kELaoAC/MqM9AbZ2Hdu6tNdKx3elSoiLM29b871vtOsZDilFO0kvTs1LUJ/pdMA5snwZR/sYnG4WgvrIsT+txrr1ZvQeH3ZJLgutVexMEuDDmUutWCRo5BoCR1rPHwVE3X3tPl95Hv3jr6Tfsaus1Mc83M2BmIL4yYIIX8XW9zNEmUAamLtr8eyKNbZHCxLmkqnkrb8nYk0BT7KxTgSUdKOhPEdEZRHQJGBjnP/xlhmSx3vf1qoc3bHU+DTbG1/4JyrRZLmXi+UQU1CsTQmspSRIlJVsoWZYonPJlvPzhRRAv/mBaALwIFkLwv6wWXvhOcd0X8XgRy9YtXwKWS7RsUo0cXVb0w4+7b87oR0qdtt15ZL9UzR0i1PC3IDXO+erT9zXQwAhDB8MQ8jw963KfbSmO+eSDV2nIyeN9jiGtYV6AjRFMP6OpMaC/cKxSq6oVKj/gq2d/3elSLg41RxE4DqyG3kRUQUQjiQgWlw8TEe4hABh/0oGNiDOGAufmGGl9gVhcri1GmxDq9HepCTzf3zI3Annr8Cb9S4+ERGcUFivQJomL2PVWyYkW1WOUk6QT07+0cpIpozTtlz1vfPIHEvQQ/s1Eq3tPGesrBQmcYKbdOoeFeNT4eTxacbd00WDRvWvvYRfjfqeeRGNmX7tFJZEvMa2Yb59jlpK0lETzczMDCZKB0N+qEmTC5jTMDHR0BqYsKjuTNdCCspjpP4I4b9W8wUUdPS6z/3bJAJ6p44noOt16Udv1Hz/7hVm9jxudt710dZnruXmwo4DbQVDkINNumcKCQVW/qLkRoaRE596W5QAAIABJREFUtkgkW5gk/JGYJLzmkiCBv4UgRRWkelRSPERuj+pT6A/artDYFc+wanmqYGPt5nbJRgc1Ula0/A3vYuC4jHHTI66v4T/Fy9b+8PXeB87t5dm+uR9+3rdnMqUmx7a6f0dcIn8HG8F0b2GJ8ueOGEdAn9O8eNPf9d9blI4Yv58oRxitl39FdZgOmwx9Ge1eaqpkJFjpEI4PZMxEdeBR6mzvgVo6WK071jDdV1CiAGiKq9izqmgYMWsWq0yUIoj+QUI8LjHD6vk4YzIs+M+9p465N3ByWTb5TEH0gfHz9tLaicUkwkp1z/7DIp6Dxo36fMTVV5xMQivLXEUs8lXZuuLW4SYbIxavnzkmMwPtlQETvGivTJrtmBloIQPnLvqyl5WsAC3mCBLFLChvVXYGaq7NSJwMQOeiQBf8+xURuc/P+XqIRNLXFds37f4g58J7dFZGi6UME0fQsRZJRv3yxYJoXIRSVEtMK1kVrxaUelD7nxBRVrT8a8Hii6HjLpkRzQn9quiHTyqev7V3TdErJ6DfeBbLi2Te/J1GiOlcZ4nyTiT7C7Ft6FyANVWmH4/3o196f7aYiKbD+SnEdtrlsMyR1uHMAiUrzZYgNQVe4LxwhFTbZfBRagTlbnsOM3gKnC4FpXpxGTtXrDuNLXS9hfk6QRTUO1tVxZR+08a94T9Bh02G9gPcrCg5SaL+vRK7tAhi0vsrD399pg8acMWZ9/3hCImkKwWJEbA/ZuIVqkT5t9hm+UCduLwpzEGbGTAzEDQDJnhh3hhmBqKQgWk5myHUdZ8qKI0lyvVYOO/NOYN3R6Frs4voZwC7/aiZf8sLXtw1ddHmImI6UvUo9jduOem7cIYzeTQdpXisWUzqmYJ5LAk6OZx29Lr9Eu+CsYhU8b7a3fPumjVaXX8kAqUTc4gIL5SwoqzfIiU6zP2NQK+bPloxkC2ebcT0QMa46VHdib304+8WHHL+ffCh1/6qUf1NnYLGF9jjUemn3b5bQKh7lbQ130b2ngjjNgNdJpuIIKaLkpYvdUZVL1TmENHPYbTZqlMcNuu1RAKlZ5QGq8sewV1GWgNeQPz1/BlzSZbr2wosK/HXTMHn323dSP0HnkDrP1xOzzw6O2hJkVG+BIHYwJIjRamjN5Y9oonDBnOqCfxZc+cHS55HVemnXfq9xFTpLFG6tSrJMXjw/reKbYrHA6HnRmUigmjjwbpDE4+7OHM/hu4YKS8k1u5TjXM3oE9qVEWeOyp9YF+AhaFHmdOlnIQSr4UblpxDpM6UWAMyWBCtZhYrLG41f+64uWG5ZHXUHM1+zQyYGWg6AyZ4Yd4dZgYimIGpC8vOIM1FhLAj9JIQnrzV2cPWRrBLs+mOyQCE/7DQSSeiF7D7A82LMdc8PaHfSWcPICEmrcrOACOjXWKandIOCuswZvV4IaQjmUU/UkV3YkplliQSqiKYqkjwXhK8Qwj1e5nkLe9+WrulXQYQWiPYrf6NLloKTYE39Z1tMFKWh9ZE64/aVPTq6cz8EbGYnjH2ktda30LbzphxEiWVp8gQd9R2T4/om0pWi/lVa2S1slqhffpuORO9XeBSIJIZSwHQDRaqZ+kWqVBdxf0K8A3ABVhQYFBF7B5GMrJslqWC+Eb8u2d6kuZAFCyaAi8MoGLzF0VBhVYNoKC6qoIgBtvU/3v2HkiG+GugeKwBPuzd/aPWRuDn/swPtDPzxhwfEIK5BIIXzZ3/9cbgm+jbd9WQouqWuywNW1NStymWbqbWjmXPqvXTiQXA76DBzE/3Pn/MdY4R8gSSyKfx0at7EnVNDX6PtHYMsX68xyPo5/Ian4Cn93vvIWeJcrsx7kfWPdLfI1tmEtOVJAiWyP8jEvmsUv78MXPej/X5xfP48G5SyUnHW1T1SCLRh0jqTixQDsVM7CaVDgpW97LgHRIp371bStvjeb7m2DsmA+YbVcfk3ew1wTMw5a+f9eTkFIAWN5MQJWSx5K6ae6JZIpKY1/0Y3XIRNosILHxmTXn4q2Fskf+yadXCbf9zPoWa+bhy7GiHS/WEbjcJ/Yx3dfr9NzqYcUWk3Bu2rHvtSpXEcxarZfCJ9gsBIkU9HDYZC1tNhLJ7upUgoBfNCLbLHc3+m+tr175aqqk1SDg82+lyQxgzlgLvRed4d76LdQAK9y6oClj0wM0Bv+8PEtHVkbRQddhkp7fPTCSmX89kgvNQsGhOsNNfaBXAwP69OxuIv/rb8PboPaBF291g/RuAw/NP3ErXZj/pE4oNPLYl5sW6NcuaPb+pG6Th/SSmO12eqAOW7Xnzlr/xyReiRWYdX3XpvRMuJ6Hdp5quDvR1OlNUHfJQeYXPbYZUSTp1TRCB6UXFuZOF4HogQxc/VZnzVQ/n/2HMTTs6U84iMddJdvkMFcLkgsYQieFEDOem1sQBQfQ5E5UIEmulOs/7BV+QyZJpTQY74bEmeNEJL7o55chmYMrisus0QU7BXYhEXp1Hynvn1hNNO6/Ipr0jW7/fu0P7FRG9iDJz2C7arly0daBt6t+IeMmq+YNBAe6MLjJ5RLQO7GavYwME1SBimqHn6PpIlY9sXvfaPYLEn6LtNOJ/A2bZLFcKYs3yGMKqR/QJzTK1vW7iWAUvFEXQ9j3VvmlahDIoxnfeztMBi19714hwfthGEFQkgv0xgIyIlY9k2qzfM4mjkKyBfVM1Yd6mwIsxZ05vZLHrf2wwBxnjc6O048RhY+mIowb7LHLxeVP3UaArjlF+4g+k+JeMNNVWYPvNnd/U78beijo6eEgvIWC61VmiQAw5LqN81SdXC9ZEY5uNjz57pzJ32R/B8tMCzxc8Zzpb7NpbSzV1OhAq+EVnqRugeND42/qlA2T2zBTMM71lnacS0VYiXsGSmj/fZrIxWnPvOOyWGaRKFxGL82GE1JpzQzx2LbS4FI/l1Q+iyxYNcXjmYR2dgc73tOvojJv9J2wGzlu86XSZpPsEdkME/9cjefLenDc0bqzbEvbCRH5ieNks1Bfjvxt/3TO398oYv6Fyx5ZD37710Anff/7RvsgPIeZ6ANUAWhePefUusLsFzQt834CV8rbOyIjIoMuKXn2GiH6VMf6S6CIGfrOZOJFkqUIG00ZbYPTrlUywuo1WxCp4caDSTQeqfGJ7+U6XcmG0chJmPyj3A8MCC54uOkCJ+6oS95heSoIJBfccDrNTnOawyaiF0N7RjhqQVv+PINGc5oVxeCjOI8HEPYOVdQw8eqhmj/vcY9kEnYvAUg/06Q+WGCDGzu1bWywbMcYb7HzoZgSLyiqF9lX6HCgedbqUuW1Ie4eeuntlUSM7XkmShKqq2uXHv/H3DQsvuWbPgR0oVezUosCw/d5ZflhCiVUeU/Cpe0NLF3FhSd65LMRMIjbAjjdIiHyPsKww2RjBszfJnnSqR1WvYdaehT2bzDETWSUmiyyRBYUiUv1DDNbuQuCPIFWQ5nwGq3YVP2w+3mEhnkkkQfGWJmx+3nIGTPCi5RyZR5gZaDYDFy0u7eGhrvcJIfDS5BIkclfPz/iXmbZOkwFQd6Fz8SNKBaYu3rxMeDynFD02c9XebcWXRWJhEweZzdHZFrfoCzy8aL+iO7HgBb1Ft5Vw57ipaPkaJkrLGD99TLhthHkevk8h6KipIZ5xmuWhJFnb5WtWcDHMvjQniZNGnK2djsUkFofdevTVds4D9QWC7byHKrQY7vgCz8Mr6k87q30vq4LEJYUuT0R1I9ph7F2hVUREsE7N95aLwMrhLq8BCKxdB+oMDIizftEOffmamHwa9VNkzSaVLBLToH5N43ChgBeBehbBxhqsHUM3AyBF2ecfNwIfWmrX+PznH7bQxwUvNjrfv30IggaG//kP33VB0BRX1ShUbthnMv/HWeLWxHITNTJHWC5kiV/X5sdEg/qmavdIZ42G4p38nNPlhs5SSLG4ePERHiHPJBYzmRhOYVuZKd+jUv6to2evCamRBD8oc5R8OguaS0JzXmoUYITB5SY5SaZkK5NVBsky9ACIUaeoVFenUq3bQzV19fo1QWILEz9a4HIvDb1188hEzUDnfeIl6hU15xXVDExdvOUaL5yMxVi6YMqzcG1e/txTzXq9qF6FDukM6ubXeNkFeIn8SNdxuHPC7Je+7XWczVb6wi2bfirJhxBhWO4iHTKj9u0U4AVYR1FdnIqXX7aUHWXZJjG/N2TcdOyYRzogBvehwbDQO8Pb18/paZw2eqjFt0M1oHeK5j7SHoGFJnbFDScHg26/r3x7UPCiLUKLTQkltnYeFVUK7T+8Q/6V06WE65jT2q7bejwsVGGXOkUHLVCWgBd5ANS4x21e/AhigU+3tSPj/HNGJA/2SB5oxZAsMw1spuwoFPAC7Rj3iCG+iZ8BADs+w66xKHDv+GtW+ANeOMcAL7aVlfh0M3BfgYmBspFgmhf+mhqbPv9Qax8BgA33lXE+2g+meeF/flPMi+paD+3ep2sfML3hLFFwnRI2HHZ5NQkCXZ+6dZGpR3pwF5qETUDAxLDo3bH3MPtCYuWY90ro+9bOf1HJo78QQgLYrIFfQtCbLIkVkvDkzxs1L2LlYa0dZ7SOn2hPGiqp4h5i0QgMxDOpS4pMackWsrbTd5oxL1UVhN/pQ7Ueqq4xtJH8Zs20Waji/sJSj6khF62bIQb7McGLGLwosTSkGTPIUr7NOpyFOkxlPl4S4khB3E93DcAuFDB/7KJWCea9TOJnIv5OqOoWWfZ88c4G+iGW5tNeY5mS8/UEZgsEOScLEi9b2JKbP+9Es0SkvRIce+0ArIANHzQcsKOPUpFSmAJ4HeogTPnQxNvf+nPXfsff9sP6V9/a+NIdv4tkPXzspafBiFBPjNIQcLnBRlodSaaFf8//W7viRI/k2SIRzxs87uJHopAn1ILASaXCT8MD//8D2N0jBlsO9krnIzCO1BSZ+jZhd9macTa1G42FYGqXbkHBi2Dthyq02JqxNXUsmME/7a4+7A4g+EZnqfvx9mg7ym34W6he6gU0QFE/XddyAZgR5G279SPMsiWdJkjdiDOxk3lEH3zVBo9QwQucHSju6c++wectWaUGs1qFCKgBgKANOIqkpIKwUh/+YElg+59+8iYNPe1MnwNJ4OeB5wfLQG2dh3bu9Qk3FjpdCjR2EjIm2ZKGqaRCX0mL5rRQEjIBTUzKX/uCme4rKFHCtsh+yJU3UFZ5JqGshDVL8m0oKZGIV8zrJGwMh03Gu22jEiZYNndJtWgCsdEI2GofrPZomjYe1Jr4BZyqPCrfvuZT96fRGIvZR2xlwAQvYut6xMRoHHZ5MgvKEkRneu0Nx+r073DHtp2Y1rLgNeSR3i3YWKvtJsVrTHqwuHtyUvf7mMQ8ElTKEuWunDfk2XidjznukDOAF2Ig/Q+jBF1fkEPnAruyzw+yX5Ay8oqFpzPRUyvnD4EYZWeP7kQ0zasNkK2Lo6GsBvoXcHBolwVesARvXrf8HEH0Dkk8KWPMxe1mTRvCxcTbHJ6VsNAEGwPAyT/OGWk9zsPCV4MNR4C2vvg1J6JoCC4Gs6XEHMIRWgxh7i0e0kDrQtBmZ6kC4dZ4C/hQQngBDiCwAUaZGAJaGH9BpRARoUyqzVaME0dYR0iSADjaIngRySTiXvv1tQ+Qc/U/qCnmQyT7D6Xt2jqVdh7eeX/f6VImhnJePB6TNVL+k2DtGRORUrR4zAnGXFWtULluv+zVotnkdCnD2mMuCzfknadrPECwF7oNb6qC8i2UtGLeqOsTjo0x0WYdJwnxKLG2QeMLgBbdu8qtLglpj2tgtAHmXuUht6aV4R9MdFuBS/lbe/ZlthX7GTDBi9i/RlEZoWOk5TxiupSIYe+HhUekooSYXiFV+Y+zNL4o9dMWbblasFhAgrozcZ5Hqct74w8nm1ZbkbpTYq/dE70L8Ve9dPHjdMaFtiidMPulE3ocefJXB/d8q/yw9t+2bz5eVhZ7Q4/qiLDtCrFOvNx9S0R9iDSbuv5eNsadRKRbA7T/mMrWvXYdkXiyjmoGnDru8miUb2FBe60OWmCnHFoIn/gDNJl2y99ZsFbCgrIRlI+0JcIBLwx6fjhCi21dtNa5VdrhL6rH4rcFJZ541QQ6TQct/G2P4Uhyh146BkFaAJywVw07MocnncwWVdPRSJKZBkTBrSawFAl9+7N52qt8KOykNHEi3Caw865HgdOlQGQ1IcNhk78kIrAAqU+PJA3AMKM+Az/uOszsYkETCkqVovbKzaJPHx+kKspMrhfuPYkEfUMSryDhyc8edTM2MeI+Mu3WOQzgwi+SkyzUo6tV07SIhQCDD4LPFQcbSWa9rrJy7ZqSTunqFguXJupjMMGLqKc8djqcZqe0KpJvJKHV7je5E4b6tiTZotXeWixMcGyTJCaJmIR+BwlVaLQuVSVye1RSIMADJeEAqleD2TO9wio9WVCqvBc7WWk8kqkPfz2eZPk+EuJcFrRMWCy5q+aeAJ0DMzpfBiDIiNr2vl57VNDGd0zNKfuYmO0/lKz49cYXboUGRovy2QmcNtSb/1MvE4HTBnaosdADtTPiedlU9OqDzHxbFG1SsesOS1ToHoBd8ry3ZhrsMh+7ZOJYOlJyy/iZprrYratVeyEMN1pbNtJWocWmhBJDHf+ufbVUU1ufDkH0XqFLgcBtIgSADGiaYHLQeAHTaAgR3ay7kxwuxG/lbCeOSDlWkpRvcBoE8VAeEI0IZOYYGiqxClwgJ4dqPLRnvw+8iAcHm7AupX8pkcRMR/aPzj0R1mA74KTyilqqOuR7zjxQ6FIgrNvukbNhyflCEjNZaG5DEMd4iy28wk2Uf5tt9vZ27zAKDTrslsdJMBzBfNGzW5LmZBOLAZeZA5V1AeKeYisLntmeoFUszt0cU30GTPCiE94JEydSilQh36bvFDViWVgtTCnJFs3aD4grgIpwA1ZIqEnF7gjEd5pYvThJiIXOUs+b4fYTifPOy93SzeIhgBbzmahUEOWtmj8ENoxmdL4MYJE6SncVgL4Bfn+uzrpnTWlqz4EXCxK/Xj0/A64EnTnwLPmHLl4I0UoIG+IFEmVV0L5ot52wppJcVrT8v8Q0MWPcdLA8ohmgU4Cu/ludlePSdVGcRFSeZbfeLITwaXC01Tq1NYKdbRVabAvzAjtk+/12yUK1MozmhWtDX7k6UIV7HowslJXBQnWGLuYbNsNokp26q0Lej7GZC9XmrxBq4vceMMAL8azT5bmqDdc0Zk/NssvZQmjP1HYpGTHYWF99+r5PgLW5yQez0vU/PhRx1UgmF++Xu3UQi4mKC1zK6Ej2l7sx90i3GwKfsFwllKl8w0T5Hg/l3zp2Np77MR/6WmCZt5xzqjHYFKtEPbsnk1UO/70/WhM/cNBN+OMXiiBxWRy4WEUrRQnbT+zfnQmb+o6ZmMNuvYGEuFev1fcNAlZbEOIBDbG9FPEDZwjK16EahapqPL6duIBjXpNYuu+9krrPOyY7h3udsnjL77jeRaQnschTk5Jy37jpOLNEpKMvTMf0f4xXx+A17wIciwnssEKAkkf97rF/DDhl0lV7t254Ye3SK1AW0dkDwpQPEtFNRHSFV/ehB4RM9VIRbInh3xGNsqLl60miioyx0zuSOo7tKrteKoOFFLQ3LnfYZLwkosSAABD375OiLUzDjdZYpbZVaDGcMYJtAdaFEULQvYWlCspqEiVm6aVQ+D4F6wLlQ2BjQai2zbouDptchXUqknVU/1TiNtwraCNQrBM/8xfTDOWiBLrWNHdOU+VNofTTmmMaLGAEPegsVVDCk3DhsMmw6sV9Rr26J1PX1PBFE41royh1JMtJmtsM7HCbi5bAi45OuCoE/biz2jcMlpU+BeupPBrjWlycO0UVDIFPWKNDHOMtEpTPdXX58yfM/ykaY2htH2ecSj2TrPIK7/cTtO206JomU69u8eVegzVF+QE3CSwwjBDiN85SDxiRZiRoBsJ/c0rQhCTqtBx2q42EQC1uAyVuKJmnd5Gpa2p06WFgZBysclNldePNqbaqRbflGl74yOaxqsoLBAnYXL4iSOSunp8BK0QzOmcG8IsBZxGUBKCOHfXGSwfaptbZrlw0ue7g3tffuXfcDSgf6ZzpaTBrMC/+qwtzglILoAcMhEU64BPR8rBNH61IZ9mzjYmfHzLu4nlRvB6Y33W6cKN/t5plqm6le7XDnjyAhKfE0BSCcCcEPNsrsLjo0as/3XUDdEM7NtweQbvKa3wK8VCGL3ApeKYmUuB+f9FbGvWZfu2HEhE0owA6tDkcNhmuEprwYFttdv0tUY1FqgFobf6iKKSd99ZOKFrgBVgXYF9oEb8uNi2m12GTd+v6QZp1Lsp4ww3DoWb9h8s1hxncE888OrvZ5mIdvMDgIdwKAVeExGLqeyUebDRELXLWLz2KLZ6ZAkAG0VAi8S0zrwAjY549dtgYE0+irlKqDIAFTkla9Ei3Urcu4ZczRi3JQTpyK6rGulGUwwAGk7iywOXBe5sZCZiB8J9+CZiMRJ2SP93QmCN2/tK7JrUJvW+PfOFhU3HIrVkh+QcTfUQk3VTgqsOLYcTjgoc2patWWJ8KuCN8KpjzVs8bjNp9MzpXBrAguRsAhS42ifIDLMjhIIKFyR1d+5+w5Iy5r2R76qr3pKb0GpN/29C4rHON0GXFLs5yXd8Cu+yg7kIfBFT6gxHqU2t207oVpzF5NgpVXDN0wiWg8kcrwDBBATremqHv0UhNzBiIw26ZQYJfNv4fzk6XoXlRXVXhAyqMhWgoi5BIJwU7YBBQRF2yHjtIKOPiTaA5xDyhnAxirHhOwPrVcCAJ8fSmD3PYtF3RC3BEn+5JlBbmBkNTGiloN5IL0miBF/4LVlXQOWtiXEMrnBvDYU8+gYTnfzgXZbxH9gtf78L/+fH8E7fStdlPkv+zxBhfc8yuoaeeSY4pV1P57h/pmBOGE7RRoItiGz+V3nn9Mc2ZxugHzkdG+AsGG/de+a4f6MRh9YBroHVva3O1r6KOKvV3ScF0b2FJxzG9ckqWTBVCncnEYGMh3hZE+ZIsr5g/4oYOZWM4bDKszCcb+QXbAt9F8RywVd21r44AZBjBJKYVuDyr4nle5tiDZ8AELxL4zhg/nlJTa63/JBL1wkJ6dO9qJfyJpagX4HFr2hh+oTCLayKtTD910WZQu1Ei0ptI5CVxcu7yeccmnA1WLF3vGB4LuLgXEdF6r64FOKignc7X9RvgLnLl1EWbnyTmsz9/ZcFj3338AqjjZjTMQDcdrMAbKRwTACS0y250c4nesm75hSrR66Ty2IwJF+P6RTPwQAVwA3bBHh3A0RYbgeGwydABgbWmFt26yNQjvXVUXWNhmJIKY5f6aG0JQESSI0grFWnwHGc611mivBOR/mK80aVfLu1608k3hQXaZdrk+7nenadNIq/BwK5gaTPuqR+//ZKOHTxSKycIvK8Cy0aClSMZzJ9g4EVg6UqoegvNXeYfdlb7KOOqRTlizYbEY8FljrRcgB185AFaZNDMCTcCgU6DheFfOtKSpg7Ai/NnzKVd27c1AFAnX3SjD7wIvFeM+2Hv7h+1cwxwxLgHQr1Pm5t3VbWHyn36J/yy0+WuL+PowHik+MmjPVynsTGYRAYzfysE5ZPqyc8ec3M07by1LGTZrf8SQvzGSEkiABfGXGAasHtfLcHhSo8qi8pnvPupG4LhZiRQBkzwIoEupv9UJtqThkpCBaV1pPFziG/2TE+KmKZFe6QSqDnQ8wbB9BdniaJ5m4caFy3+psfr847TBM+aiqmLto3xliYvIBLnEfErkiTy8ucO+SDUPszjEi4DqCcepLuJgK79lm57uESvYbee+5f1T1nTevz261UPf7nV+TScNb5LuCyENyGUziBPCOTtAR0AapKFEF43TZ9VVrR8HjEtSlOVtKMmXHq4+Lm9O2rcHtg6KBgfrLNLIOh6rM7ggYhjo8i0WZYwMbRBtEDpHp7N8RyoOd+zDwrw/gA0/87pcndKkeNFJUtPFEJ9mZhLs+2zNKvc1kTmSMslzPwKzoFlYf82LFj9QQPoHLyx7BFtd9w/jMWlbE3yfR64iPVfkAZ+Frj4DAQvAktXjM+3lZWEXbaCXdaf9ximLvyd0+XG713ChT97tq3PikC2TeB1CMXNyAAv/JleoQh2+t8/wUqZ2soECrBlLnW6FLhAxUwsKlk6DWwMHdwHQfEdJl7hVkT+bePmtBtrq6kJO0bKdxNrdt5a4DsH91MihYKSxb21pHh8AMZnajdl7Jo1FLb7UyLlJ1HmYoIXiXIl/eaROUo+nVXCS88A48fh7O51VGrAwgCA4YeewpT1qQKXB9T9kGLa4i2LSfbkrpw9VLOb84+JC77smt7dep8QdIu3FGCjIDVv9fyh0aSZhzQH86CoZwCABVwDsPjG7jhehH3/P3Puq3d0P/rUe7796PmdXyz/E3bYTTS//hL10S1C4SiCuuxf6k5Gx+kgBlZJYTsvhHoXlBW9mkvMs6Nok2oMDdT+C726J7CaA0sHWgVf62AOhFzBxGgUmSOtzzKL/zM+6JJmod7dwt9RDTVPkTgOL4ywq/R/ZgvmmwtL3HDk6LSxqDjvEUF0MxP/Zf6oWa0C4B3DaRBZZG1Bgxe1IwektckeriUaf1Nggv+CM/Df+/fubAA8+C9gd27fSjNvzCHoKqxbs0wrT/i85L0G2grBdv1bc7M03Ozgl5wu969bc368HOuwW3JJsCZKAZYW3ufCiVCACZR5GNfNXwfDH1gAeOHPssBYmgIvAu13t3+/yce8OOKowfR0zvVayQmireCFxyPop906bi1or7NU6R1OniJ9zkLXkmMklWaKeqcS2CtjEySfJF6RbZsVMhsjp3TphOyRN60NZbyOkZbziPkN41jYoMIONRGjrk6lnftqyNDwZOZ/F5S4fd+1iTjnzjYnE7xIsCueZZczhaCV/uJxvbsna04i8RQEs2cJAAAgAElEQVSQ3SnfX6e5kxwOft7pcuNh32xMW1h2kZAY7hBPrJo/BDvCvpi2ePNvhWCwLfoKQXmWJDU3f7apWdBSTjvR57105gV207HwBA3o6X7DJh4z5tqn7My0bOW8IUYNaydKS6Op4rsD1qAojcAvqeEy4k+Rhw4ANAG2RSNRZUXLVzLz0CHjLgYDIpoB21wE3FTwbyw4QfGGbsrtumhn0PE4bJZ/ErHP2hGU8N7dk8hiiZ+vZjAtyg/UERYORjDz3IIS96PRvAix2tfCDXn/YaZfCZVuumXM7MdaM06HTYbm06k4p1/PZM3CvL3CYGNArwALyFAWrVf+HprfRIZWgr+egTEug9nhD14Ydr3+ZU7G8W3ROQBFvLrWJ9Z5g7PU/UR75SeW2nGMtL5MLKAbRH16JGmucOFEMMeZ5q5bW8ALw4rV//oGMi/aG7zAXH7YcYiMJ1FyhZLy5v/osOVROEmL8Dk5rrwLWGUAGQD9Ee+Q4HwStfnZY7J/aK77nOLcB4mlHdn2WT4b7mDHT7NTWpWwfE7Ex+Pz9haLjnCKwmr+YLVCew/4sbiZr3WWuCG+bkYCZCB+3pASINmRnoJjhDyBJIIQj1YIDRs+fNG15wtPpOcQ2P6+yjqqrPIHMJr3cUe5iCLchUQ0Am0JoV64Onto/rRHto4WKkpE6HzspjNx3sr5g9+P9nzM/uIiA9AvwCIUVO9LJ2a/+E1y76HfuKv2yvu2lTpK/3NrUVzMIrKDBEUA7BSwl8AswAsidjZC2gWKxNDK1i3/gpg2Z4ydPj0S7TfTJmxZIfQLbaGpRARrXTC+UG+NneBmS1gcNhkvnjcb7QO46JWeRKkp7bdQjVQ+Kg66af/BhpVBQvDVhaVuU+xYT/qST5b0rrOIlwWRQxBdfMuo2a+Hej0cI+WFxNq9RZHYKfUv/fAHG5patBrgxepli7Xd+eZKPvzLRvaX79A0EtpTULaRNaZFPqFgQ01UgNJQr197HZdpk9/1iphr9s9tAbEAHqR26daA7YA2/fUoDGDq5x+2NGDV+J/bEvMi2L0UWFYUjGXRVuYF5vLTrmqfy1E8aaA8/EnecZKFrmSmmUKgBFF8T8QrJCHy542e08ipK3ddbje3zNDhGkIqzcweM/v5pu43h93yGAnWNvIsElP/3skkW6T2uj1jtp2A9UMleZRhzo3UoWKpMZusOBuYCV7E2QVrarhZw5OHqBbPGiY6QgMuJNa+5JKs8f+AwssxXpL9YrHTpYCe3ShQLiKEAH3dCFDwYNd4q2ZpxyJv1bwME31NkPu+HaeBZyF27M/xii6uQzkREV0OzYtJ9338U0r3viMrdm677IOHfuFzimjHvuO5KaywR+klE8gXSiZgkQrmU8RFOo3EbVu3or9Cnm0qiZyh4y65N8oJBdiF8giUGf2LiP5DRJq4q/ce2hzKWBx2+RYSVL+trQdqkUERj8UvaVhd48Wwxtj1rh/zbib6TYFLQdmVGf5fWCVLh6nQvyDKYCHOmD96TkiCspNGyRNVlQDGa4uOQWG4TARqU/hfmGBlHoGARLCykeZcKoz2/cELg3nRFn2LwBuqqlrRGD9aCFrvLFU63iM4Qne9wyYDFB6P5gf0SqGkpNa/17Xk/oLr3KvvkQThzoxTT9cADUMbJZClEyp44X+9DSZGJMtGkJ/tu6sJZWxasOVEZ0nt1ghdlog1u6h0yYVCFTNJ0CV6J+8SBFs9nJ895iaNjbFww5KZzOKwppKqTgomADpxpDxJYs3mXYvePZKoS5jMnYhNOIIN79hTTXW6hapZPhLBREe56Vh8L4pyCuK/O7udrN2EvJbrFxHEzJoadXICABfG1dlfWUcVfgwMQTy/0OVe7H/1/MpFAi9qNTPnCqHmrZqfYaKu8X/Lt9cM4HEOjQYsMPGSAIp/KTaivIvxHVh8Zt75bk6XPsdc/vPGt/5d8q85Zs1k85nHIj5TZxFglxA05/z2uljNtbNl3avjVOIiwXTp0LHTl0WjzyB9pOg/w9/NigUHG1+WzTJVED9JRD5vQVlm6t7FSl3CtMls7zyghriiyk0HAtgWXqeVArbI1yXqznd75PHhDXkTJSYAGIesVnHGnOGhCfRl2i3bWDD0Y8IqGTB2vFPTumkLU7AfjPAHJsIR7Dxr8m8auNz4izCiD3/tBHw25JTxDcRCm2IChJJviPIZ4rBMdFuBS/lbKOfF4zEOmwywC7bT1L93SljvdsEEMv1zEcyFBNcXgdIPsCm69eirsTZaAi8gBhvMiQYaKcdn2LX78PSsyykSZSM/764mtw5eCMkytLC4tiwerznGvHjD4uMFW6/UtTFOZKLvBVO+UDmfWb2DiPF9Wx9MtYrqGX7b6LkN5ptlkz8URGfgEIAWAC86UwBghwOWEULQpMJSJWRdkc6Uq3iaqwlexNPVamKsDpv1OSKBXT4tAFygdjrRYu+BWjpY7adk72fBF1guEjD3KoU9p7w1b9i3iZYTcz5hZwDPPuinYLd7nnenHM4hENQD7RiL8L+emHVd1tApt4zw1FU//ubtw0HdjqaDRdgTi/KJEBvDghuinHghQMkadC+QQ2x/RcVt5Ou1r14uSfwCqeqwjAm/3BTlHKA7PHAh4gr2ydFa3TLR402JdTY1vqxTqL9IsuYSiQa6KnCK6tbFqtUqd1RAHLHioEIe1afiXv/OLOhPBaXKfR01rnjqd1HJkkuFEP9lpqIKW/kZC3hBw2QGmYzDJsNWFyVabapVDxRORHv+VqXBrFIDnUkC7S8DNRT89Q2C7fQHjsHQ2zAEG0O9lg1dRohki3L0OxuoWX2AUNuOxeMcNhlsQI1ZEi54EYvzisSYft5TTWCGIVSyDF7jqg1qWR2JviPZ5qJPHr2YZOlKIai5ssifVGtNxq3Db9VYj1k2y5WC+DljXAP7ppIcR3pK7ZVPaF9AA0MPp9OlZLVX22Y7HZMBE7zomLy3W6+ZduscFsInjAa1eqjWJ2r477YIFt9YyDPyvRI6EKRcpEEKBNOzq+cN8QnjJWp+zHm1OgOg4kJc8RDV705o6v5nzn8tq/uRJ7/nrtr/YVK/I3+x8vqB+NyMhhkAUPFf/Q9cWRbq5SMoG4D+w4FoJWxT0fK7mOkvHeA0gilCPS/P61IzTncYwbzP1v8PUGxXa/OQZbf8nxAMu1kfCwNtgE3XJc1KXaGHEYVvb4hw4qUPf/wFOfX5fEAq3eH8VOkwnZPW5jUWjl9YnDebUWbE9Gq2fbYh0tfk0M4akTxYljy+8qMBvVMiUg7aUllBLOTOGMO+A3VUaSxGBC9zlroTWkQ5c6RcyKwJJGuWubDONSN4BuA2YjyrVEU5as1n9d/piRJ/K849gYWYKbEUFDBm4k/nj5o1EvPNssulQtTrv3XvatX+dMYAEweMHCOYxLQCl2dVZ8xFosw5Cq8/iZKq2JvHxFFJp0iq+rkxsniyQw03m/Bu3lle6xNkIhLPdrn8qxW6u0jzzTLbV80bDP0LM8wMIAP4JsfO51FEhFIDlIzcNG1BsVV06/p1TcWeXttdq373Vf6DHVWGEOtXye5dmN/oddOAhfE1RPQ7OOYR0SKv/sOz3p3CN6M1gbKiV/9OzL/JGDe9IzixUHCHzgdyUK7PGd+t0MGANV1YeRg/nlJT6+R7SWjlTA0CYsxpqRZKS7a0uyCzqgrNwQF/DtX4Md30EaT27kUpvXo9+Op/N93RxPXFygplDrD/iwrzJlr3WXv1s7B4yZ+ZxN0kxJLs0XM0C8zmItNmfYlJQABWKyGCI017R7yAF4oiaPuewwuRzkADd9hkaAhdhGvet0dyXIj5tvf9GWp7P+ysJqF7ZNZWKd0+LqPKUM+Nh+MWFC7tmp6uoowI1u7BQ4i3Vv9+3j9JsKbRhe+LQf1StJLyzhp7K+ro4KF69gUTvV3gUsCUNCNOM9B57+Q4vWD+w3bYZLwYn4efYUcOdMLOELBP3bP/sAVS8rj7v7WceDHE8loIdq6aP9iki7WUps7z+Z/0FwAsOvGttgT/z7rLmZza+8gRX+f/9e2ta56ZZi7Amrwhhut09mf03KFkAi9VAC9We5ksjRTSI3Vrla1bXkBC9MwYf4ktUn000y5eIv9ARFBzr/E7DqU0oHvDujrsmGSno1Uho7Rpls7yaNAWXkxRVoJSQauVySpLmrhjqAFxO9Dw6+pUTUOg1h28kgFMt17HH7d6wm03zyLi3OxRs3wOKXpfsMUF4+avukXuWURUEuo4Ottxi0rynhSCriPiO7NHzULOmozMUfLprNJHxgGRYF/EC3jhvwghok5BAc+yWZ4UxNfh+vfsnkTpMaKBE2u/swAtAF7occjpUvBMSqhYuOHRmczSYaHOJmb3wZ8f/qnyh+2D8DFKDnukd07WhZEefM9BzNUIQTyq0OU2v5/i9Lcj9DecOJ1gog7bYbNeRSR8dnSdrQ6yAYqa1v9gyiWFL0iCdwpSdwuiSmKuFB6qtDBXSlaqIDdXsmSptA46tnLZpdx4OzFRbxRzXs1lIBWaWF5RSSx4QTv+Yey1T7/Xd9jZE3dt+uDF9U9dA7Uy815pmEGAhBA5RU0t3oZgP4wFK/6GBSTKJcDGgJ6IwUKI+F1Ytu61bUTiw4xx0ztCVBX3EV4mobWBEj5YxxrWqWCitAtt+dzx1KuuVr6GmX5Dgk5uLqkAL2C5ir/hPKV90TNESAQJwaR6BKmqSm4P7KR1Zf4mGvSKvb0nkXi2wOV5AYfkFOetJuIx2aNm9a1vVdsBhLXwFbqz05910VuopOG+MCNIBhZ8uSApvbrXy0R8IRP/dv6oWXCqaTIcI+VlxKSVmUD7pG9PuBV3rgCwtrPcDx8U4nxnqScsZlM8ZS7TLt8DbRmMuVtXK/VoBf3fEM5U3HWNBFuD5SBeQKxgYw/QQilzupSh8XSdQxlrTsmSj0kIiIoHxveavargvfv/t1V8/PCSC40DwLqwSK13qAllPPF0DDY9sfmpBYs8Z4lnTjyN3xzr4QyY4EWc3g0Om+UbItbYBp0RVQW1+ec9Nb7yEcF0Z2GJ0uzuVZxeanPYkc0AKO7Y0b7VftVj/z7i1El31BzYufy9P56JEoioaTZEdort1jq0HaDoD8ceWK8N8IIVsHE0SgOMBfu1Xorzp+3WawsNbfok/zgWyjYmunXIuOnQ3eiI6KYDFmCbfOgFclBnvNNbUvNzJAYzyS6f4SG6mIUmNJvR7n0I+thrgbvKIiyvvvtp7Rb/9hcW593IREs/fuXDx5Y/+PK5ui4HSkRQQwxLasQpXu3ox3THGeTBjCAZyN2Ye6Si8MtC0HghePIto2f5LA0DD580yjpSVYWv7BGlI7HiQhOti+uveQU7ZqdLaU68MFrDing/mXbL5SxYAw/TUmTNdSbUMFxGZGsSbf6iiB6+64JmT41n8MKflctEqwtcytRQ8xQPxz1ckueQBGeopH5vtVh21ZGyX6nk/XWevfsWZC7wKVJm2uT7mejOcO6XeMhDuGMMcB7Z43QpAODNiMMMmOBFHF60TJt8K9cvIkiWJDoCtWwB8zDs0Xr2bqD31uAo+G2vXra4gZ1ZPKUD6vf7KnzlIwdqU5WjPv44seob4+l6xMlYsWMNxhIAiw36mHnA8F88Our/cmdX79telpQ66Mw37xwMdoEZTWcAJQFgGZxKRHipxkK1uCOYKmVrl2WRZHlPYukXg8de9HYHXTQ4AWDBDh0QgDyI0/wENwH4oGa93RfyWcOTh5CknkmsjhHEEGo7SS/bCDUVEBT9AqwJIcQ6IXneX1OisUeCxkLXkmNI8Xz8/Vffi9zf5sAFA5owJwSAFcjBi0T0fLTsckOdbKwdt7DkUTsLCbXpvVjmM+aPmPVlU2PMtMs5LGg+PgejZmCfFO3vzhCwSodluhFM0vACV91nnWHu/sAV7JMH9gHZq+Uw3gN//mEL9ejVn1K7dNOsTptzd4ln8GL/QTdVHLZxXuh0KQaY2nKyEugIh03+mog01ompkdLwwvpb6ZrCnfF703eOb734vT5BR55lk7cLoiPwYc9uSZSeZrwrNz1RWJqNOXN6I9pgPH9RYbZgX4AqiBCC7i0sVUBZNsPMgJEBMCuwaITWCXQYsLg9n4ie1neJn5u4QFhSkzd+K1RPetXeby79MOeXHbUAjvWrBo0LbNtBjNOwJexNRL/V9R6AlAIU8pWzRWNCZUWvXkPMT4sky6Chtgu3R6PPIH0gL9jlA6f9EyKCABFyAbtUaF6g/AhlNFEpQ3IMp0FCth7JQu3HRN0FSakkCCZ5bkHqIWbe51F5R3Kq+/u3i2hva3O2sDjvcSb6PanS0dljbsK9gC8hlM5AhwmABQKaHxXeKoeHWtt+Zzt+4Ya885jpZWL6nmvdZ86fMD/oNZlxEiWVp1i+ImKARa3ehY/XvNa5VdrhVy7S4/hjX1j+yv989vDxOq9WjJsdNhnIjfayN6hfaki6NnjvwzveG8seoR69B/j+/drz+NWsD+MdMCUV5lFE323dSP0HnkDrP1xOzzxaryULi9yBRx+uwPC30EVZyuSLbqQfv/2SThymubmSYZk7ZcY833nYLLvrhvrPIxW799ZSdV39I1YlceUavdQtUv3FYruZI63DmYXGfIRA51H9QwO6YnEukRgTAFAAoVqweMJZ4oFWlRlxlgETvIizC+awW28gIbDLSVYL0xF9Q3swJSp4UVWtUPkB327MDqdL0UAdM8wM6JoMS/X6ewgzYYGJ0qKHvZRjLMSh0fD6uX9Zf4o1rUfWjs/f/lvxM7NRu29G8AxgwYSdLGiBACTAwhxAhqFtAdcWlJDsiGYCy4qW309Md3aQTWpzUwUTA/mCG4u/kGc00xORvnJKlkwlIVYKojtuGTX7Qb0TrEzAtoBgqwFkQaOhyVKIiAwuThtdVLzk/wSJZ0mIguzRcyY1NY3MkZYLmBn2zlpA/wA6CIkaUGTZ4bdJ0fOEY2nCbTcfJOK7skfNgqNPpwjHSPkjYjodk4XeCXRPWgqADgbbAsdem/0kgYVhlI4YzIzqqgoNWPBn7H7wzr818AJlJ0ccNdjH2DCOQXtgcQw99Uw6f8ZcqjywR/u/0Q9Yv0Ybhu7GWudLPkCkpbGH8/mPu6oJJcUIlSyD17hq/xdOO/F8TpZdzhZCsy2ntFSZ+kTAmSie81NTp9KuvcbXsdjqdHlOjOf5dNaxm+BFnF15h00GNRvUZOqZnkTpXVpmXeDYlsALoObHDh5JslxfS2l86RjpwflnTcaapT6++vR93xdguMh7KG2+8/pj5L9LEOxywTYN9mn1wVc5XW4sqMzo3BnAsw0Lx3O8lPhfnpe7pWb/V2sfKnri/xz6z0DfHzD8svsLjho746RdX7//xvqnr8XOefPqhZ07p8bs8daMhSrcJi7x/oFdM6xCwTCIuk5I2brlLwoS5w4ddwlYILEUg707pX/xslSuJqKDsTSwto5FCMGLSpZA26Nb9qjZKI/RHr5edxXYzwEghD0hSkpwjPk7FWLCF27I+wMzPSSEeO6W0XMOf+EGnJ9lk/8mDuuLaBoI0EJIxNhzoI4OVfssDtVB40dfOPyqKxYQCTsxL5Uk993zRs7bn4hz959T1kj5AcGk2RODbQvWbXMRjFVr6F8891g2AUgI9l4YCtDgD2gY4IU/MBEIeESD4dtQzFV863R5YNfc6cJhkwFsasImvbonU9fUlkGuzpYkfztdYsuJzpLarZ0tB/E+XxO8iKMrONEunyEJ7WWQYNd8ZL/UkH2bWwIv0Kb/F5pBNQRwEPiFZ3wRbSsr0QAM48uuNch7S2225rJUVim073AtbKewTmtNfjrpsVhU36t/iX93/sLNZ0kSvf/DJ6/sLN/0nv3Hjc6fpi3acqkg8V/sFq+aPwROCWaElgF8b/TUF6g4I9MLWsDKE/Vb2Gk/7EcWWnttOqps3fIiIah26PjpE9vUUNtOhiXdeF0DBOwvWEHAxhpMBOQm4RbwOcVL7iASDwiJz77FNuuDtqXPPNvIwKLiJQsFiWwi8VD2qDm3N5WZLJv8liCCYKr2PtCvV4pmmZ5I0YDirZWG8tWFpW6tLC2neMnTRAI21++yEHfPHz0HNs0JG5kj5Szmevtp2cI0sAXWbSjARCDIgLabAhoCN5v2lW/3MS9QNuK/0dQR4MX+SjdVVOna0UL83VnqgXB0p4tMm7zLK6isCVGCmQ2GthkNM7BrXy1BvBMhWFxRWOLB97QZcZQB866Oo4vlsFtySbBWhNg1VaZeraCDtQReGEBE4JfXujXLNKrh5yXvNaD7+beH+kjQBkNF3kNpE22FGh5V0E+7Dq+XOitdMNR8Rfu4iRNJpgPWERKpw4j5BMHiSBbcz2tT2h2uf9CeIyJsrVUR014SYgcxfyex2KKo8pdhUD/h/JCvL65hnbn3F/eXLJBT0++rnzuvtMh0u0cREMZbr6rKpW/cchLcEsxoOQNw0XhFF2jE0RBrhIBgu9iBttx9wyO2F69MO6i4twkhlmWMv6S+QLtjAnmBRSzuY5QogYHyje66EhWdi2hP++GSx06ThOdDYv5Ptn3W7/X+/a1Te+g2ulEFs6Kdh0j0l7Mh7zliupKIb26qNCJrLPUXbhmbGWD4aBoIfXomJwyAceCgm/DHCBb014JSRXNQMCJnw6M3EUtLINVATHdn22cbeiuRuCwd3qbDJkNIV2OY9QdYlRQcrGpJsN3QnwgFvMAxJ404m/x1LgKZF7EAXvy8p5rcOgOXWVxcUOJBWWinirNOSzlOlpVtxvMA2ihmNM5AwLOl0wq7xvO9YYIXcXT1smzW7wUJ1JVTv17JlJIUOh2sJfDCX5zJH3kv+/xjzY3EEHPyT5chygTwojVfXqG02RrwAmPavb+Wqmvq1wjMdEtBiQIauxkdlAGHXZ7MgiapRGdyfYlBW5410FRYy0zvM0nvvFdShzKFlqKXLsoJ54VfnTH31fweR5969OGT+EsicQQJcemq7IyClhozP9cygDchlGShzhxWmgCfsGC/1Ltgn9YRAMaW9fknq6ryBRFfnzHu4qfM6xTdDOQU52HHatp7/3qjz5t5b15IRA+glMSLr6Pm+h9+eijRHVic9/Zg8ZPdrVQHB5LJkiTNmGe7CYBho3DYrTZoZED6Ah9qAEaP5CYXtfGSlgOVbjpg7KJrXx7inwUuD8qvGkXO+kcnkKS5tYD99OfsUbPBuEvIcIy0PE3MYJtoJcMoHQ4WzZV+AHgYcsp4n4hnoJC7/7nGRpO/Tgb689fSQNlIa97/DBHQ9rxAtXUq7fTpGFCF06Xgu6nTRabdMoUFw7JaWx9gnWBG4wz4W+p6S2DfdLoUiLibEUcZaMuCIo6mGf9DzbRbx7IQ64wXlNYiquGCF/vLdzRiVQRm09C8CJU2GEqbrb1iB6s9tPdArXFagdOlNCl41tq2zeNDy0CmTT6XSfyKiC/WF7ahndjao5i+FCq9KiTpP2tK6jY1czpU7CDA+edfPFCiyCnpjYvCma9dNW/w31s7hE52/DiwV4gIdeXQcMj2KxnBd0geETm91qDLo52Xr4temSaxlK+qntOHTZixNtr9+/V3jO5mAyveW4gIdcewkMW/tVK/RIyFJUuvYKE+/8FL77+0YuEro3SdGbj6HN4yT8SJR2FOj5Y+MdjjUeBAMlxRxZl/GD0bgGGjmDhCnihJmsuLts2KX8jePZMpLQRBxyhMo9Vd7K2oo4OHdDcA7Wx+yely/7q5hhatXZQqkqwAMKaSoP+yJN09335Twok1Zo2UJwmuF8CVmGlQ/9SguwLBGBVG/gxwYvMXRbTq5YUas7YpwU4DvDA+RxsGEyOWykbKK2qp6pC+eUXiqQKXp145tJNFlt16sxDiEUw7PVWmnq1gZ3emVIGhA6ZOfYj/OV0ejb1mRvxkwAQv4uRaZdrkO7neeo66pFqod/fWIarhghcGS8K/rCQwZa0FL0Jps7WXBQrTUJo2ojpZSSsqim7tfWvHnAjHT5xIKXxAvpGZUF962EstYHKou7RaLVr9pcXCJOFvZq1WW/v60OqZhaYUrniIPKpKbregOkX1qYcHyxcTrVaFeKqw1IMykaCHDDh10k2jrnoMC+zgBxA/kFJR98dlC0722dYkwrVppzmA3jWHSBOKw7/xSwbwAgsFQ8cB9sQADt5spz5DbmZT0fI5zPSoUCzdhp5xIUQiOypQOoM640e9pcZP6joX0L6AaCwsHRNKsNNI8uLSxT1Uj/zhT2U/9lp0xUMoHYFoq3+AhYFVRVVHXZh47ndh8SNnMEkvC2IhPHTGrWNnoxSpUUwaJU9UVc09ybfj3CM9ibqFKOgdCzlC+Secw4xa9PrvBX6h0OUO2RI1pzjvT9777R4iKiXBd2ePngVQJ6HCYZPBPISTEfXqlkRd0xpi8oGaZMEmH8yFBO4giECr1EArVYAWm78sIvuEaRp7A9Fa5kUwXY1g76gYJ6I5i9XAsmEh0RmFxUpQoC+hboQgk3HY5YUktO/nVgn6J3peAueHd02IdupR63QpsDY3I44yYIIXcXKxHDYZX8IQgKPe3ZOoS2rrlMXDBS8MqyyDZmg4f7SVNuhPXQzW5tcbW6//9nN5Dbnd0AyEfTOdU1CqaOJWZrR/Bux2snZX5duINb0DiDc2CAiKwcoN1MXkZEnbJQo34CRT41apttZD1bUeUkVj7UNBtM4ixML3Sj2vBvYz9ZH/XUaq2qyICkAQJsuC/PknwM3HjMYZMLQMAGRgMbFFL8sBVTtDd9SIutPI5nWvLRYk5saATSp+D77V2Sd4o39bZ1zAqheiiz8n6k2VU7zkQSJx29JrH3liW+nWWfo8USqGReSZVC8q2SkXE+1xzReW5E5nwS+ToFJrD3HGnMFzfBRD//YnjrSOklj9LxEfb/wc7wk9u1nb9Pxtjzm01AZKPvdW1pHHc/jZLkgsLXR5jL8g4h4AACAASURBVPuppSZ8ny8qWXKxEALgai0JcXf26Dn1K+wEiUy7dQ4LAZBU2wyAKGNnjoASow+cLuXszpoPh836nJdJoIF9Z088h2bf+XcyQKnAnPg7BrZHvgxGj+FYiDYNbZX2aL+92/C31a1zK70++pz2tXcfZnuRy0D4K4rIjclsOUgG/IWaoDKNxWFroi3gBfoxqIJGnwZlECBDa5kXRs1ja9tsab77KuqoUqebCqK7Cl0K6q/NaOcMOGzWa708CYhfYuHqC0lizZYrNUWOqGgc6hWrajw+jZOA6b2jEt+3xuXWSqwQU3PKcogZi8smgh90U93Db88/GaURZgTPQBfdQQM5AgMDJQLQu5ihW6Y+3RGJK1u3HLvNwzPGTe9oWzyUi9yks1Kg/QBtIpSNwBnhqkQGLxaV5J4pBH/w+fufvfNs9tPDsCFMRDv0EiMIuh4iIvwcJVwf6aBXR9wucdtnTnHuDUT8GDHlZ9tn4/4KGo7hNIgs8r+9buewhNbCYpGoZ7ock1aqgCrgKALHsAYh6HZnqfJQuBdscenjx6qq52USYjSReJzrlLvnT5ifEM93CGBzhbzdcJQIxr4IN2/xdp7Guthd7eMAChKXFbo8AK46ZWTZ5FWCaAomn+mYTDfd/jQF6pVEIjHYzOw38HiNiWNsRhqisalp3XxOhpHoO9w2cd8YYClb5BMKNtRoQqdmxEcGWrcCjo85JdwoJ45IOVaSFI0uCkGu1updJFxCmphQQ90Lftnpcl/WWeYejXlm2ZJOE6Q+DJaof3/Y/UnvYm1EX430mNweQQcPuelgldLIh5KJ/lbgUrBYAngBR4QzGo6HdwhS/yx1SX925fUDsbgyo/kMQEMGWgZfwaVQLw8A0wK6Ivge6ZCSm7J1yzcy83dDxl6s+dp3YKBkBE4Hp+uLdQgowgrgCe/6bK7uQtKBw4ts1znFS1Yfqjg06h7HH97yai9g0fk1EaXp4Nbdpohn2/OfU5J3n/dBt4CJnpg/avYNzbXosMmL9fvOd1haikzdu1rJKsfGax++rysq3aSo9WxJPbYTid87XZ7A8qOwEphTnAcR32s1UVMP3Z09bo4P1A6rwRg5yTFSvp2Y/orhyJJER/RLaZMidoxMq9XD8N+wIkHrnaUKGF+dNhw2GdpTsC4nh2My3RgF8AIboygD8gcujAtgABjRAFBae9F37KmmOt2dRlikUwo31MF9zow4yUBsfIvFSbI6aphZNvkXQq8nT06yUH9TQTjopahzq7SjvMb47DOnSxneUdcs0frNslvnCJ2qaszNIjN175KksS06MoCeVx6Cx3vA7h1RqSW5z7zkGR+gfMios1onhPr06MqMZxcs4AZvzR05hzjpG0AFXozm6QAWXpQAZr3TEeMvK17ZhxT3Nokpb/DY6Xd1xBj8+hwCpq5m2VgP8EDnAUW1EDlN+FhUnHejIFoqLDz5lpGzIKILwAY6OND6gHgnhF4hjNu45ivhs9N+E1xUkrdUCI3xdG/2qNnQmmkyHHbLDBIMEKMBQy49Tab0NCvJHQRigDkHpkWtXuJ5eAL8kqy4b37nM9rVfhkj8rFWBP0gWfiuebZZz7Vn+x3VlsNm/ZZIQCiYunW1Uo+ueDx3nghwGKHOao/qf8UdNvl9r3j2WfiZw3Eu3Xj7UyExLwBAnDX5N76mjJISQ5uk+lAFPZ1zPRlM6/NnzCUIvj581wWa8wyiOV0S/zEG9oXPAvv78dsv6djBIwklKIZF74nDxmqWvQh/5ne4dzzWClgzIITgEYWl7o3htmWeF/0MmOBF9HPe6h6z7NYbhRConaauqTL1MhWEg+YwQLSzyulSurY62eYJDTIwYwZZyrdanyESM/0/wA4e/sRSQEEaFGToYvhH0uh7SM749TtM9K+V84fA2tGMtmcAwCCAi78RUYdoy5StfW0MSeITldXLh4395X/aPqV2aQHPnHS9Jfwb5SQbvAv5n9ql9Rht5K9Fi4+1yvKH32zcunfpNY+cqjNOoPVRobNzIGKK0qKiGJ1CXAxrwYIFUvqU3nAguUSQeu0to25u1ilpkp26q6rlr8TciKkBJkbXtHpdokgHdIqqqj1UVa34FgyH++TvmdS7ClweMJciEjklueMIuiFERzHxX+aPmgU9lrgOh816FZFAWZoW/XunRLRcM9aStbO8xh8Ae93pUuBy1qkjHOZFoP6cvxsNwInm3GmCCa82dwGaKjE3NPV2bt9KM28EsZN8pSYARwYePbQRwNGciUAoN4E/80KVpFPXFNd9Ecp55jGxkQETvIiN69DsKLJGyg8I1tT+tQVjrC0aYymFP+6s9gk6WmuV3m9/qVk8mhFGBrJGpxwvPAoW+z4qZlKSRL3SkyjJCkZ8bAZs9vZV1lGArucjTpcCxoAZrc8Atjvwe2QwCtACFuYdKkZZVvTqZcT8ksdDp550+vSOfvHo42WlYNfrJJ1pAM0HaD+AiQEBtdLWpz2+zsjZkPsEMf/uHsftLx6qqILifbnfDO4kItQUNyucG18z7pjR/m390gEWScVC/EwSPCUUR43MUfLprBLYSZrot3+AgdElRdYEltvzuQ5F/0O1HqqpVTXQIjAYpWaCHvR0V/68Zg01PqCd05u7JTfZXaEJn17AxC9bLJ67bx55M4SH4zYcI+XVxHQ+JpBslTQAozPE/oNuqjh42I2ZhXRyQWkdvp86dfhrXkx0TKZZtz8dVLDTENJsqqwj0GoX/z8+w05gYPhrWAQDL4w2/YVC/5+96wBvq7za77m68sgehB1aoBQopcSSsyBALAdaRpklAQqlA0ohtklsB/qD26ZlFWIlYJuUUQoFWkhoWaWD4QEpSYglOSmU0dJCSQjZO/HQ1T2/z7WuIitesiVr3fM8eZJY3zjf+11f3Xu+c963p0yJ8ICGGbwID0xE8vXFqhRl/eZmaEGCYIvzIvV+bazgRQrsmSvP9giIrhVXuyNnMqOjmr+tz+Q4chPIm3wufv+wHJBFb3LjEpKeF57qnRezJ93x6Gfuvsf6Lc0QdQoxUm3H165q/Vcsx8+UsQon2Ceygj+0n+wcZa55+FDVkN9KBZMsjG27WiGppSEjerrO678yFfxPMh+vASC/5MJhICd9wuMghJQ3A7hCsjgT4e+HK5+TG9fdSaA00t3yJTVJJHpFAee1RGA0mHMuWFX1TUWhl/720J/XvPbI3y4Kqq+ICxL8lOtG8pK9g+lTus7lfrvqFCgkGRhHKLoybe6k2av7slajBJVQ3M4PYLzwRppwaklpqgQxsu0EVVUMnq3eTL5xA5pIWweM0/C2Nr2LspDQKLuI8YAtoN0X6xKR3vyUz93e6vlg/IyA1QSumJtfIlw+KWkzHFkn6tBFOtVInxHZVHlGTGeTzMrN2/cL7jBwc71PkyzAjLcCh/0pAn9bgDDVRnrim+guc0LeJ1zn/QBPP3Irltc9g/CAxJuvPgGTdL8vmRddPftHyu+apSFm8GLVsudCc8QreBGuNmLP1sa+ssI66EylX6Dev5VSaTVp6qvLYV8C8ExZ3kGjsrpkDTcjo6o9K1SL1hMcA41e9uWmFT7/YAUvwuvYSKdJtav9krJtWRQIuCaop7KClylMAlVKlaRkKdVs285WCDGcacx4sb5Jkxcry3pGYESQw0FIOSXVX05GjwsqjEgwQ1JvLm9/Mf1rooD8cOUfHwLouuOnXJK8aUDAJUHc+q2ckCh8o523o6RhzLLtG3eMu+P8n8rLVAMAB4AvApCyM/MlUZRHhEx5YTt/yqDL60a7rmRtX9lYcxYRLyVgc8CuTpt3yg195ooocNidgP49AsmLjpDLdmsic21TAMVGnSRXJbNNykGEb1ML9Ik+6G0CPRkY4X+0oQEhcqpE4Fvpqb6IAMHOD0ZF6cRi4QZJSXM57TeAebHpfDqrj8ihxMZtLZAS4aC9XOfTvpmSGxcHpwudqpvZkK/H6WeehZtu+3WPnBfdPcdHBgzCgw2REqu9cV6EP/ufcPLpEL4M4bIwx+kq8yLewQu5b0mWdtDa6nxadhy2wxoyjghYwYs4ghuroV0O9UUABpv+uFHZyM3pXKMaHogYNeYQ5A4dESLX6c6HdA1eyBebedquEE5/3auJNJ9lfURAHmqJ+VWQkfIOIuCg0dnIHYS66D66GHWzHbuFzDMsxRT4Y61P+1bUA2VOhyMBvCK3m2C2hTD0X5psL5ofrnxOiEIPOX7KJclEzCt526ODl8rB7f79CsBvAQjnQ9pbZWPVrUR05/I/rjjvj3f/XjJ1tgCQ60e+tERW11QekWCOvHCFniDTHpw4LHCR94Fv66w/BcIbZc7i6f2ZosBhu4SAbzLo6wQc1p8xeujzNhH+ouv0YrIR4lX6ar5AOkv5zSQGHmwLUMWtk4vCS51iDEX8hitw2n5NTD8wZxgn39nZ8ecyid+KDhxZXjg3bWsN50z5DAFtct2a9OYTigZjl8M+B2AjEHfatBmY+9NHewxe9LVsRAIUY8YdiQ/+sQxfdRZ2UhbpSW1E/AgPXpw/sxyHjT+u0/tJeP/ByryQINjnW8yvHv5PnS/wpWhwttomHgEreJH4PejVA5dDfak93daILnf1pRT+yz9q7KEHyBZJ1PSK6+7Chs8+gjD2trU2w+9vxdBhHQcu3dWjRaZ2tTTvMUpSxIRUJye3gw9T6ufEIoMmPd20IuvizLElRW0gFh68IOCMWp+2bCDjZVLfGU4cxbA1MNPRsm45cZPrLTsrmQ+2+7ZDUh8rdbKmMfGj9d6AUYpl2QEIzA++bP60nZRzKIDngi/gv0smrP618vl/66yvOmHqpUaabBKYBCmkNGJvkCNELrhn27EUVQj5WdpbRzkDljHRA+X5xcLTdHy7jK7wXUh5UW0QC6Gnl6N6+QIRNRJLgWQAV4bbU1MKsLDcPV2WXzygsriCPPspBEwFdCeIhHhVVHTMYFyPXhLxxwx6n3SsgcKrAgj8vcFrBK+S2tzemgfBfD0DdRyginmTi1KSVLbAoS4jwJAElwf7cWOyB4WMdbA2VwIXLW37syhJx9m1q7W0L8eLBt9Ch+18Bhkyw5NPLcS8+b/pVW2kN8LOyOCEBDK6etYXJZDwkpKuSk3MDHF5j5BnfbPcXfwVqdXBCl40twSweUdH6REDf6v3aQdwAUWDu9V28BGwgheDj3nUM7ocqtRMS/pxl2Uj4TcTaXNd2UOdblhdyR31lnnR1efh6WGR6WaRN7jI/uGBDCHykeBHOClP5E0tapCCHcLLRhTQ1Nd9/rTQde8vHtH06/TwQ8DBo3PSInBhYhAZwCDCz2q92i+iwSgD2o4EhOsEErgwH+LlpVyyHBIWvPjg7y8OP2HahbtN/N97649fUG30HwYqjp9yyS8zYF9SZomVjdVPQ9dPL59808cA8oLErqJKI6fauQBE3lFeiOVnohCQ9C+4yQ6+21P1S4BuAXhhWX5JxwlDjGz6BIxSlazDAoo+hhhDFbA9QGDSqUVn2qXAv1kfic8Gg3QzRks6YBi3t+p6MD0o2eQgqijPL5J7XkrZ2RMxXgvY6gE6VhyXrEnJ1M1J8QwMiWwKx0VLmIoYM/2gvskfUlpJqY2Ko7NBkvX/yBSOyS7cevtjvQYvpG13UqmRyiPS1nz237Z5XSd5VLOtlISYZhKDhi/ZVA+RnwnXhQQxJp1+ifE+8Fbt7413g2jKRrp6V+lO1cTM+lj5Vi12Bg+zmLCw3qvF9J4Zxy22hg4iYAUvUuBSKHTaf8vMhgjz2JFZGBrGPdBVzVpkIMBsEx4s6C140VWfcKgi541sH3nzCA9eTJl+GU52zuiUOtabP33dpnD5I1VRTn7Vkj/qE3Quh+1h4Q8wG6dj2qmsbfuuNuzet5/Ynpgvq20KyMu6ZR0IyMmdnJQLx46cistLpqRWCzlmwsgWP1z5XA0AKQ/ZxIz3GYHXFbLVE/H5X558abIQ7gkxpaSfyt8m7f8x7YHnfwQDP0J6KtwPfeYmSMWL0u2tvgqMJ9//+zs3/XrOw1I2IxkoQvA6B8D1QfJSUWDJiGyUwdpDt6fqMYC+S+Dy0vySDr1By/qMwMLVVZM4YKiRfIGZ7yqfWCIlTimVFdSROcOvgHBI6Lt8VBZyc1KPr0r8D+iMrTsk42I/pwozyuqbNOHLsawLBFwOdbOcc8pHhx+UC1ETsqwzAhIME+JXMQJfHU+ZZgv7+CBgXdXxwTWmo7ocqtyoDZnH0SOyMHzI/i+iSGIdaWNGQCWiKazAPckZ9cRELAEHSQUTiyzr6GrM8AyQyNq2yBISc9xIoCLJgKIF8rNNzcYXnpiNtSNea8L6aMfItPYuh/06gB82153OhF+yxvAvLjkN1mxa3puNWJtp+97Neu8EUAgYpF+S3l/QHvO5KRjMSBg/wUeNL54WCAS64q+RU/vP2gNvnzFzExTUnTD5kroE7aXwEp0vt8sgdiYlvihBiGSqZLWIMsv+3OcEORrPae/+x+LRWW2BZazr/yyfdNNT7ev9SVBCVng/7gOs37V44L9gzYKhij9HAo3nMvOV5RNLno7HPOk85vyl87OGHz1mKYguZOY/kF25rWxCUUoplnUohbGUGh9q7tWo4VkYMTS1AhiiWrN1Z2tIPU7WYimL9P7b53KoUjYi30MYMzIbw3LTi/ukdwR6bxGuNGLTbV9+bXVrSksm977i9GthBS9SYE8LHOo86kixNb6A5ItIrCs95fDlmClb/Q1emGOFc19E8l6Ep3eZ2RbLXn0S+dMu7JSuFh68uOpHC/pEKmrOH55m1tV2meuUkMXaDftCTep8mty1+0SDngKXQVxcdDmzjwUH3jVPiiUwJgGydDYh/tqwpSWk8S2cDnU+TQgpLes4IZfT8R8GOQk+bz81f7Q93V8IFhP60v3hyuc/aw+yHd7jJik04/hJFwu3QqJMvlOFJEawkvuPsJjvvyklyqtBntftrb4HjJvvOO+nS7Zv3C7lRn8LZmAIB4bwMsgDtmeQ3Ur76RasqT5a0SDZA/mk8PRSR8kbab/oOCzQ3Vj9s3biiPkgrAGoosxZ9HIcponbkDOcWSfrrAvfjvy+GSYvsaNHZBvlJMlue/Zp2LarrZObBCqq9fkfSHbfE+1f+PvC0BwVY0el9/NctHgLob9w44kx8cf13oBkR1qWYgikwG0sxRCNg7sFDttMAi2RoYdk2wz1B7HIDIvwqcNJeLoiwelPmUZ4EOTDd946oDbNHHPrprU48osn4dUXFuP5p+Qg90DG4WOOdxrknwMl6Axfsz/A+HyzeThMn9T5/AbxpGXdIxDOp5JlV3DoWDPbPb1Rk/rZTeFa8VYNbeSGy3eDKY0qgQzJIpAa44SdnH/49nNuBGXgur466e7jp1wsJS+JMsmsEMZhkQiVv+WFXQgPpZ5WcMsYq/TVnEE6vwHwTWX5JRL8kqCTZJ0Id4qU+UxpD+rcDKApY0AZpIW6vVVTwLQUhGxodHrZ5NTKHBgkmHqdxt1YfQHIKJnTjQBGflFKlSqc7sRhdlYl88llLlZKCEYPz0paJRKRQN2+24+9zftLOyWTjZivtso7e71kjQYz8u15us4++beiEI48WGiGLDMRCFefI/DDtb6AHNZYlmIIWMGLFNiw6RPsExSFjYc8+fKROjax8GyG99e82Wkl4UQ7XZHgSOOe9Jm74rwIL1ERhZJIYlDTJykJiVQw6YqwM5zwp6dATF+3SGrYpCQgaK/W+bSv97VvJrYrdNhmMSgk73LIGFEWyZwUwx2727Brb8dDEgGfDyHtS3/yZt4peR+ufbko8tu5Gm5sfzaS0o1H+tAn5k3eX/7cmYpiBAa6slXHT7lEuCYSaaJ6MiOYtVIMQNQaJJhSBeCGTCOmXOit/gsYY0rzi4U0WSLuwvkhQXjhu5CgjmBVnsgNS9e53b7qC8BGBsYHu3cr0+YXzBb+GsuiRMC96oHxUHQJYEwB0UPM9ory/OtTimC2wGGrIdDs8KUPG6Ji1DC78XKbLCbZFvJiKZmRYebVdbq2YbVfSu8s6yMCLqf6Idi4xxqkrbk5mfNc1xtEcsApB51i7aWmF9Y3BaTEyrIUQyB57lwpBtxgujt9OlRllxrSeTzykFxMK7ziAMWOSJ9MDgrJbig8/4edGHylrckw3J1MaSR7sDADi5xReDZFZKCiK3ZimSsy0BIpwyptwmWW+oOvSGGKokTHXQnuuibNejDuAUiXQ/1nsBbd4FFJ93KRA6BgYP2W5v3lI4xf1jVpIu9oWZIi8OHK50TB4ouR7tmz+IvHOC4VXolE2i0ApHb2+XbiTjnx/Es76bs8GD0YfEmXEpyMMbe3ZjaYax6e/UD9h29/MK9dRva/YeSvI4JBnmvaAzyd88MzBqH4LtS9quo6KPQwM/5aPrH43PjOlt6juz01iwG+AaB66IGKskk3LU+lFRc6bdcwkwRR5ffOMJFCHzFMxfAh9oSWkohs5a69fgjHRWfjmjpfQILAlkWJgMup3g02SLYNgn8h+rcMaG0LYOO2kETq9nqfNsbCJTURsIIXKbJvhQ61kTtOP5HMShBdSRQNFsSdiBiZr6xrCliEZd2AX+iwz2awKDgYDzGHH5xj/J1pJumpW3fuf3fSNW18wz+wLtNwSJX1frDyuQV04Gl90fFTLkmGWmjJJJjVzh8j0q3C81AiynLtZSTTAVwBIGGEp4nY30VNv/oiB7RlH6x4f+3DxYsXA3ihPYNHuANECUMCUJ8J30zQt6HBIEYoSJ8In9NtTndj9W0g3CG8NWX5xdem2/oGcz2Vq2p+SAoL6exnIK4oc5Y8PpjzD3SuMyZivBqw3wvw5eFjSfbF8FwVQ4faoCpC1zM4Jt+9u5s1tIUpiQRn/oB1/nH96sCLg+NJ+s1iqM4Qh7JVjhiXC5st857vIndWnvXMkiQGL673BTplJKXflZC+K7Ku5hTZ28I89X4m42EYI4faMXK4PSk9lwyLUWMO6aT/PFiOrt24D2bGoa5rRzesxieDNXeqzeNy2P4NkMg6GgSwqcZEHku8N25tCT/1qazzaXJKbFkSIvDh8ucLofDr+12jvxw/5eLzksRVuSkvCpbXyEuO3K+F9b0RyMyAmNtb8yAHApeWT7pJAhVytCoSjlKD/2GQ0FRKfUSNRH4m2QGJJFtNkssotm64PTX3AyzX4u1l+cU/je3omTVa5ar7JpKiLAVIgm937355a8X8+fNTihTc5bBdDJD8zuVF7t6QHBVDchTkZqtxycaQQMXeVg37mgMhVbgwH/xEuKPWq/0is66q+KzW5VDlXmrwnYwYZjfKhDLZtICO9Zs7iDoNU2hynce/KpMxSeW1W8GLFNm94BeOcUqVjMSKZhmI+BdrIs6+bFFLWwCbgulgBLxf69O+0pd+mdimIM/2HSL6rXH/tgidDL3vMK6UZr1FO7jhPWRsjbjbWz0LTMcEdHrs5kmzNyTb78iHK5/7wGDRJ7QeP/mSzGCYTbZN6KM/C70PfJNZf6l5976rKgpukWvpvXYZ3l0ALgNQEZSPFeJO4RXY28dhrWZRIuBurH4GhFkE3FCaXyxlTJb1E4H59fPV4cPHyvV6MRh/ZEJFeX6x3JNSylxO+7VgnmuWjnZynoDcLJvBgZWdpSDb3r+MDC3AaPMH0NKqQ57R5P9dWIAI97dBq1zmRUaV1sXzginMs13OREb2sTznHTEuB5SB2bUmxuEcZwy8Xu/Tzoon/tbY8UXACl7EF9+YjX721zBUU9XQC9Vh43Jht9LAQvhu39WG3ftCDNX31fk0+VK2rAsEXA5V5PPOkI8kGi9R+Uy3DVtb0BasuSWiObVe//2ZionbU/08EfRSZ/GgyMfKva3NZj8RpB9rIzpSZxwM8EiFlFxmkR3VNQb2EtF2Ytowa+Z3zzrhxFMuPGzc4dOPO/WSZJKClNNYue9INoEp6TosSFYpv2/eTLum5vN8ZbjvoGVg3lSWX3xbe+mM8IJICY2cCgoviCOIj+BmlYzE6QKp9Dx0EMG/FOACnfWL5k28yUrJHyDWbk+1ZC9IlsA7YFSUTSxOSeI/Ie7WQddSB4Fut2ZXCaqqQFXIKEEwykzNl2Fm6AyDbDMQYMgpt19jiHpI98b/Beg3OmkPNXiRUiSoA7x0Bq27y6G+A+CrMuHIYXbjTyaaBM3Wh5QIAdb5IqssKbWvBCt4kUL753Ko8sBxgfHSOdyOEUMz80bU1ZZ9tqk5PA2xsM6n1aXQ1g6aq2dNsE8IBJVrZFKR0UomxvFBAyJioghdeW+dTzP4ZTLNqlZWjfCrtJOA2aX5xcJTEHOb4cRROtsLAf10gORFv79ZUi1geEFYQeA3snYFXvvrR4aka6JMZKCE30L4G+QkdgeAAgDfCJaS7EyUY4mc1+RdWHjlL92f/euzTcK/AGBr0Cf5EhMJXrnWViTSz3Sfu9JX9RVFV5bq0I+Drk8rnzRHypksGwACbm/N+WCWLAwFOirKJhVXDmC4hHYtzMv6CpM+E8BF7aTDp8TJmS0EfokZf6hrCvw1TnNYwwYRcDns3wX4MfmvvOwdPi4HNlv/smhSGdRtu1qxZ1/AXMIbdT5NvqctS2EErOBFCm2eK892NYieEJezVMKhQcnUFFpCXFzd16Jhyw6TdJE/qfMFjo7LRGkwaGGeehcTDEWNoTkqxo6yWKgFCzkxkgBYSKWNyFnn9Rta6Zlkbm/VdWD6hY0D0+dMnCO8BDGx6RNyvqiQNguEi4OZCTEZN2IQSb36E4H/OObYwDPPPovQ00o8JotizNsBiDpBRj6s37tq0QSboi4j4l+UOksWROA2sr32XoLy92QqPlFcRwNu6vbcXwCQvGzvIdU+rXTCDcJFYtkAELhnZdWRql1ZAmYh533ErvBtJY6SzQMYMuFdz5iQfZxd0V3t6fXTwDwJ1CG72Q/bzJJxxliuEBpqfdqyfoxhdRkAAoUOdQWLe+cICQAAIABJREFU1G+GKo+El5QLBgx8o96nvTIASK2uSYCAFbxIgk3oqwuXXQbb1v+o20y5q4NHZyMn29Jv7qQyAtxZ59OkltqyLhBwOVSpOT9RPjpoVDaGWPrfIZTCmaiJcXttk5Zx5HZub9XrYGVDWX7RVbH4BZrhtJ0X0Ok6IlzY03hdpSSbWcnMZASXJAU5oDM0jQ2d9kCgR548yXJ4nFh5uLapTa75RNgoAIcFpVJFgSQjgxcCvHAuENHxpflFJkngWAA3AIacnyiQXN9ecpORmSmDfWF2cNrgGRAtL3XMnkZEPeX2D7Z7KTtfpaf6AQJuJKCBGBVzJxa/lbKLiXD8tNMwPGev/YSAoh9jYzqCgXFELLKrOQzIBeQH0R6FsZVBnwP8P13T/mUpdyX+Cih0qN/gsO+eg0ZlQYhZM8XCS4LB9Pu6Jv+3M2Xt6bxOK3iRYrvrcqjCZj9H3M7NthmyqZlswlMgNyfTdNiOa/C1fpTJmHS39oJTsk4im/6ufN5Xos47f/U2Dj/qhG7h3L51PZbXPYPC83+IVcuew2P3p64se3OLhs3BDB4CPLU+bWImXUcLV//qCNa0dUT4fqmz2Eg17a8VOGwzCVTaXZaF3LtysmwG+bBBBtePbyIJZrT6dUO7vaVND3GWRPrMoN+xjsqG1f6QdFx/19VLP+G3kBfxMyPaSWbB1QB2x2nepB+2svH+q4mUJz74+z+/9cicB78PQMjShExOMi7e7zgQs2ywEHB7qkoAup9AfyjNLxLyVMtigEClp+ZaAj8CYD0RKgZ6H42BS9YQFgJw5dkeAZEhlWxTCIeOlfKRfnzpphiW4SSdhlQ5ayfWNeF/KbYMy90uEEj/qzfNtn26M+sEhXV52DPskDE5Bht0ptrWHW3Y2xIk6mR6uq7Jf2WmYtHbul159mIQV0k7ibxLBD4au/iq23D2RTfi1RcW4/mn7gx1NZVmUj14wcxYu7E5tC6ya4fWvo2N0WCUym0rPVVlBJrtR2D6j/PnfNqftczIV6cHAvgZkcH90MkkS2xors0IuhpkbzE2ycaQANS+Zg1tQvEZacQPqv7Az179B4R3IR4mixoSoZohnA4L24kphczvtXhMmgpjLly+cAxn2Ze17mt5+9Yz5j3fThgsnESSNigknpLlI19iwhcg9yeLuHMQNtXtrb4DLPhTVVl+0U2DMGVGTFHpvd9JLHKqOIaAXx7pPKRiJs1MlhK2jNgDa5GdEZjhxEid7f8A+Cj5JBMOPuW9QN4P9j/Q0Y11Xv+vrGsjPRCI/RNkeuCS1KsoyLM/TsTXGDehLBvGjcnM7As5dd3YKeuCpjb4/CuTevMS6JzLYV8CsBByYfSILAwfEl3qYLoHLwSXTdtajFN8MWb+Vn1T4I8J3LJBndrdWLWqnZNiTVl+yXXRTvxNJ4bsY9sCBt0Y3le+YIYPVTE01w4pDRksa2kNYE+zhn0tB7wz7ALRjwf5IeaSIJFnyWCtPxnnqWysupeIfljqLBpNRPIQ/bf2shFJm2tqD2QIL4goN0iqvSXlOUgb6PZWPwzGdQz8X3l+sZQ2WRYDBDpUdsYuBeNSIjxHUCrmOmeHDp1iMIU1hIVAVAgU5NkuIKKQypAQ/gvxfzqavBvIs1yIw8w62Ey7bR68p8m0gy5xC5qen/VVRddFAsmwTKthM9e9aVuroR1uGNHTdV4r66Knq9LlsH0MkMg5GmmDkrIfjfUWvFj3yT/xxePyoKodGR1vvvpEpzIS6X/uZXNCn6//9APcdoOITQDm2DLGl07s+FlL8x48ubgM5102N1S6Et5H2nzvpmqccfZ3Qst4b/UbWHCbIcgTGjMyU6SnNe/c7cfOvcGDX8I9dV5NavLT3hZ5HzhRZ/09nemKeROLnolmwQVO23nEcmJOx4T3k6CFPCBJmmqirLVNx+59/q6CGC8goBXVrUGsCQuF52KC3JaDaxaiux8GX85FZSNjbeGqqjNZoQbouLpsUvER7ZkWUmYjWSkPA7g5SIj/cwA/isheyVjM4r3wqr9UZfvH0VIQLgDzNWUTSwxCcMtig4DbW30bGHcAeJeYKkonFlkStbGB1hqlHwi4HOr89nOZn5ldRw/PMg4X0sk0XQIXrQY3VtDeb92rTX7rw8wt20yn/TXXkrinynREcxDXVJin3s8E4yRPVQmHZ5jyiJyqbtu5PyVMV5STGzxtBp+DZQciUDgJY1lTDS11+aUff6hkt0dnvQUvZDQJNggHhgQVpJzkL8/eZ5SYRP7/xFPOwHVlD6F57y4jgGEGNnbv3IJH3MLdB+Pz0WMPDwVBzDYyvnBrzLvzJRxzvDM0p1m+8t8PvaEARnQrhFF2YPJetDN0/63ep50T7Rip2N7trZ4PxmWMrDPL8683rpO+mMuhyoOQPBCFTEqSRg2zG/elZLF9rQHs2t3WuZyEsRHE19X5An+KoZ/yMi7kpJ4gAaXUtP05mGWQ8anj7saqv5JCXOoslmwLyZIT7IuC+DcA+AkA4cTYG8M9sYbqAQH3qgfGQ9GlzGGKwnzW3Iklr1uAxQ6BBZ6q85QOhReViCu6UNyJ3WTWSBYCvSDgctp/D+YrzGZjR2Yb5ZzpYMKDtWl7azj/VRsCdHrdGv+qdFiftYb9CCTP06W1K1EhMH0CRpGi/ouAcdJx2BAVY0ZEx2EQ1YRJ1FhUBtZvaZW0fsMrYtxd26TdmkQuJp0rBfnqaaTj7+KYZFxI5kW01lvwIjxoEMmDIcSfO7Zt7BRUCB9PfJGsDDMwIf+X4MRh448zghnvr3nTCIZcfaPbIAZd2fCsEdx4x/t6p+wOCZJMOv2SUEAj2jUKb8Lnm03eC/pfnc9vZKqku1U2Vn1ARK+W5Rf3tbSBXE7778IfgoQEdvQIuyHBm6y2Y48fu/Z0plRgRll9kyZBh1iZfK9KWpMEK+SpUOr69sVq8FQeZ2FjVRETVT/9kyev8fx11TQAwrVwKAB5uRNlFvl/xpRqJcteLny7Op8VSAbGKFZ4WrmjJFEKPckCSUz9uMdXfbiqG9f4aQD/2qbpFXOmzMkYPqWYgmkNNmAECvLU+nBeqjEjszEsxQMYokS2ZXurQeJtGoMvrfcFnhswYNYASYeAFbxIui3pu0Muh/177QQ8vzF7HDQ6C0Oyk/fFoe8r67llhDTqe3U+7aRYjZ2u47jybFeDyEgJHpKr4qCR0Qe6egtehBN2dhVokCyKSNO0NiM7QyySDLSn4MWH77xlBDJyciXzvLOZ5SYSCInaGPh04/73zJ2kZXm96U0guMBz32QFtpVQcGGZo1iIJXu00/Mwzk7qH9pJF88wG+bm2DBmeFZKMJg3twWwfacfWpjUKgELan2alC4M1EYCkAtPsgjkb+F1kNKRMgAdF3oG24K3q49WbFimB/RH5k2+SdK/5gYJO4UDw9eu1FJvKY8k5gJxN9acC2J5wf5EsWnT5ubN3ZEYT9J3Vre3uhqMIjDeJMXIwliWvqu1VpasCHz9JIzxZ6vy3RRSVEvlEhK/xtiyowXy936j79f5/ANSTUvW/bP86pdAnQVbMiHgyrP/DsSGwoacfMqJuprGEkgHnJwSvl7n1V5Npj1JRl9cTvXHYNwtvo0YqmLU8MELXpiBhp7KOboKjPQUvNixdcMBmRqxwv2zTS0I6B3Re11Xj25Y3fJJrMZOxnEqvdULifkM3d565rxT5vWYru86BUfApkqqf565llQk/goEGNt2taG5dX8lB4MX1/sCswe4R6IhPyPIcyG6wScDkKwwUdG4ob1Eos8lOQP0I2m7L2ysfogJZ5TlF5/YHtARjhAprdkj/NMARLZTgkhSSiIBIMsGEQG394HvgnV54H+tLL/47EGcOmOmcvtqvg+dhf9mAzEqSicWZzQXTsZsfJIt9Oyv4WBNVeWwooNkLEUzuOU7fOvONkjJiGk607UNTX7r9yrJrrlYumNlXsQSzQSMNe1kjM6y2zwmWV62XTHkUw1igzSzvc2acZMKs5/X+bRO9fZptuSYLafAqbqJUSoD9kdpRPoNNPPC5LfoalHRBi/6EhDpL3gbtraEaiZJp0m1q/2N/R0rFfq5PdWfAfRkWX5Rj+SkwYyLV8IDF1KqJiVrqWpyP5H7SsiIq+u8gb6WznS17FsA/BuAyIE+BeAvQZlUUdAoB/B5qmIVK7/dvuoLoONF6PqMskk31QoFD4A57dgI2Y2kPUndlmQU3mXJpsYK9b6P4/bU3ALwL8F4omxisaFqZllsEXCvrspDgESN5EsA3bPbeVLFfCoIuxHFdj5rNAuBrhA4ZzJGtPrVZyXx1fw8J8uGMSOzUuIQdOceP+RPuBH48lpfYIm14+mNQBq+4qb3hnW1ukKnWsCMOvOzIdk2HDQ6veRTRfpQiHjC7Lk6n3Zp5u12/1bsyrM9AqJrpXd/6xv7G7wQck1TFSRcgSSccPOQw4+NqmzEJOz88lenhkhBZW3CrZE7dESIJ6M/aIWr2DBjRn2TJi9YaWmLfFUzdJ1eY6azyycWvdbDIsnlUCWl/0yzzdiRWRiam7qBC3Md23e2YXenAAbuqPNqQhzZH5Osi1kARHbyd4BBqnxqUCpVSNJMQpX+jJ0WfZbyUts638ZlDHq/zFm0Plg68lCwrGYtgEOCvBeSBbMmLRadYotwe6rcAJUS8MvS/OL/SzH3U8VdqmysWkpE3wLR80x6hcU1kipbl15+FjpsjzJIiJINkxfDUSOzMDxJv9+lPGT7rrb9aoNGrSGtBfPV9U3aG+m1O9ZqukLACl6kyXXhctivA1gk5wwT0ryxo6IvDUhGOEQO1Qhc7M8Ka9JbtDMa3jNSjS3rAwIuh/1JgK+Spv2V1h1I8ELmjZQ1DeemiDbzQoIXYhIA+cqE0Ps0tm9dHwpcdOdvb3CFc6qwwufVewJyep6W5m6s/jUp+PIux9bp82n+fqariNUeyFCeHoELc5lSQrJn3/6DTwL9qNbnlxfqaM0OYBGAG9sJKKW/BC/OByDZO+uiHSxd2wclJH+y8tk3D3n2nmcl2yL8+EzIToUoVwIbLemKQbKvq9JT9RSBvs1ASXl+cXWy+5uq/lU2Vt1KRHe2l0z9k4GK8vziF1J1LZbfqYuAy6mWg7EgfAW52TaMGGaHZHQngwlHv0jZR5Jut5e+/NXG2rWvNRnfGZZlAAJW8CKNNtnlUG9rl+MSTXHDRLJQXlRT2aSebcsOURYxV0Gf2nRlxmurWyU127I+IlDgsD9FYKnHN4JayawI0cclxa1ZePBCIT7/dW9ApC7T0tye6t0gVJY5i3/e3QIj5VBTvVSku3Vu2dGGfS1hmduMM+uatDfTcuMTvKhFTQ9MYF1fBh1zImr+hfdCym3OArACwMyg5GyCPc686Rc1LRqlB1Qh8DwLCr5V5ii2VGDidBlUNlafQ2SokWQzoaLcWXxvnKayhrUQ6BYBV556BsjgZzolvJEokYwYmpVQ+XM5XNi5V4OoDYYbM35a36Tdbm1rZiFgBS/SbL8LHOqd1EEQZ1iOlJCMzDLIPFPN9jQHsG1np1KRDYpC577u8Tel2loS7a/LYXsMoO+KH+mk6x0PXMPLRpDGhLCV3qpLFFaW6qDp5fmzDRndSCvIt51LOoWCN3IKM2qYJBekoTGwcVtLSGqNgPcDIzRHQ4N1+h+P3XZ7q58B88Fl+SUuAFICeEmQ3PRJAEJCfVFw3pp4zG+N2TsC7tU1X0bAUCA5WSGaNtdRJAEly+KAwL2rHjjUpuiC9entPDCPBnSl4uZJszfEYSprSAuBHhEozFPvYsIB5WJyICocVzlZg5OJISSce5o17N4X6Cpo0QCFflzv9b9tbWfmIZB6b7SZt0dRr7ggT/05EX5qdrTbyOA5yB6kG07UDnfRYcduP3btDc8kpv8pCi62Ahf9Q9flsFUDJAz+SGVJrP6tPrpeG7a1oK0tGN3XcVrdam15dCOkRuuFnpolDB5Vll/89a48djoxZCTb3jHJgCWFdFyacelErlvTGELYqgdTvQj8cK0vIESSlsUYgUW+mqt1nZ/Y8NHnzgWX3yWZPwvbMy3ea5fvk2CZibmU38i/LTLDGOPf1+EWeqtOZ6alBGjk106fO3VuWqsv9RWXeLVze2ruB1jKzZaxQhXljiIr+yteYFvjdotAQZ79FIX4J9wRWO5kWXYFIo8+NFuNeTaGfPU2t2rY16J3zoQMeUD/E3qzOp//EWv7MhcBK3iRpntf4LDPJbA8DIasvyoTgwmRFpQwFILOMPOCbLPqvK3/GUxf0mkul0MVVZafyZrS+vQ8Bpu2fksz5CVWTCflxAZv2wcxGDaphnjs48dytm3d08yMW8ondp2iXOCw1RDIkA61BWWYbWksw2xuUKSqESt8Ub0n8GJSbWAaOHPX2zVjs228DITnypzFYwD8vj3bYjWA59qrHiVtXshPJc2nLA2Wm9JLcPuqLwVjKXT27h6ybdr8k+Z3kv1K6cUlofMLVlV/T1EMxZ2NDKoozy/6dRK6abmUAQi4HKpkxs0NcjcdsGK7SsjOshmHo9mqLepghhwUtPl1409rm47mtkA4v13YfPQpMVfVNmnuDIDdWmIvCFjBizS+RArybJeSQo+BMdxcppSRjB5uh10dnLSvaOCVmrbtu9vC+C2EQpiebc7xX7NihcXSHw2WkW0LHfbrGSxyjRg6xIaxIwZfjcYk7Awn1extTae6LsfBhx+DF54S1cTBsbUbm8HBk3eFtFGve7FzcGYevFncq6q+Szaq1qFPL3fe5I2cuSBPPZMIDebPM40nZevOVuxtDgZQCf+s82pf7c/uXL5i7XSz3zNTx4fw7M9Y6djH7akWgrhLy/INSU5ReFkclEj9YVBpRDIuMl6hJRn2vnJV9Y2k4AGAXyzLLzFLepLBtbT04d5VD0xQFF0yXo5j5gV7hmyrsIJGabnVKbGowgn2ibqi/4BA3wEg3ERdGhEZMqvyR7EBChHkZ/KyKUdCUgrCOowyEL/OCAT2M/F3M+QbAD9e5ws8nhJAWU4OCgJW8GJQYE7cJNOdWScorAvr/RnhXowYaseIYapxY0m0iZqIaDVL1LWTMX5S16SFCEgT7Wcqz1/oUL/BwF9lDRIlP2TM4AcvRMZ0zLgjodqzsLzuGZiKId3hKoGLq290Y9Wy53ptG6u9kS/SzzaH3pW21vm0g2I1djKN426s+isIrd29hLgcqkgvF4jP6aRc1Nc9kAes9VtajActMQJuqfVpUZPoXfbWugmKwk0EvvCZqUe91Nf5M6Xdgsbq6QqhXg/w+fMml+QA+L9ps85cdcHcS9punnLTnEzBIVXW6W6sng+SDD76VVl+kZT0WBZnBCo9VUsINFOCRjpzxbyJN70b5ymt4S0EukXgnC8hu3W4bSaIJIB5rlDrxQEuH4CXdEX5Y4Onzbre4wBwqg+Z+DfXVEcwRfwvzFN/wWScbIVMSDxHDO0g4ElEEEOCFbv2+dHc0qlEBERYTYS5r3s066QyRtdX4cScYzigGWU3UgJwxMHdBs5jNGPnYcxAxJrGV/Dlk6aiee8u3HbD5B7nSkTwQtRtRG0kaCvqfNqpcQEkgYMuWPOrgxW/trE7CUSX03YZmIQ4zrDDD8qNOhU0gcuL2dS793ZkggVth96ijY9WnvnyFZ9/kaF9zISrl04ZLyoalkUg4PZU/w3AVp31f9sU5WxmTBVFvPL84lEWWMmHgNtTsxjgGwj0k9L8IutwYRC2qNJT/WMC7gbwPutcUT6pREqrLLMQSDQCSmGe6mLCNACTgiolh0fpVGs7r8Y7AHvBWG5TAg2ve/FplGNYzTMMASt4kUEbXuC0TwbzHdRRSxwySb6QAIacsAoRT1yNgb0tGkRJpFVq2w60+XU+rVvZxrj6luaDuxzqDgAjZZlHHJwDmxLnvQ7Dc96dL+GY4514cnEZTiu8MvRvycAQu/iq2+A67wfYunkdvnDsKdi7Zzvs9hxkZXcEWdZ/+kGvwY5YbN+uvRp2BF9Y05WssdJTXUzAT1jj6eVTSoQgsZMVONQVBEyRH0pwc9Tw1JZbHsh1sWFLM9qC/Cf9kWS7ctn/RgdUZRuIZy+ZcpSURFgWRGDp0qW2dcduupR1/Xsg+kY4MAz+R3l+SSe5Pgu45EDA2LejNy5lwiVQ6AdljiLhZrAszghUequ/TsI7whgKG91W5ii6J85TWsNbCESNwNenYkxri/0Y1aYfobMyjsAjmZEDNipH/ES0h1nfRgptsNnUT15d1fJx1JNYHTIeASt4kYGXQKHDdhUT/RiMkyKXb7AIZ9uMP7EKZAh/gJxoN7fqxt9mKnbnufkxHepdDb7WjzJwSwZlyS6HWgtAyJdw0KgsiOzVYNiJp5yB68oeCmVbdJVRIcGLcy+bg03r/xsKUiQi82LLjrYQwzWDrq/3+R8eDIwGcw53Y9VbDPq0fGLxFZHzhkujypfD4QfnGpk6mWqdyDsJG+u82qFRYcFMs1au08H4vyWnjv9lVH3TtLHbV3UKdLoAwGUiwdnVMpn5T+UTS6SNYfe988ghc06+bmOaQpJyy1rkeegwHf6lAE9jxrnlE4uNkkTL4ovAnSvvOyTbZltKhDNA9BuF7RVz86//PL6zWqNbCFgIWAgkFwKZ+1SaXPuQEG9cDvv3ABY1AWdXDshLS5YwCNsV2G0KVFWBLUjA053Dwhkgf9oCDL8/0MEg7I/gsgjrzMSPKmyrqvW1/SMhIGTQpC6nejsYFbJkybQZM2JwTtQlMHH2RTfi1RcW4/mn7jQQF/6L3KEj8Ij7ery/5k0j80KCF+FcGIkIXqzb1BwKrrXXW56cbvWWC5c/8CXO0v/N0K8rz7/pAAZ7l0N9vl3xwSDjy/SsC/PWEK4+Q0zX1jb5H43mtjFrxVom5rufOfWoW6Ppl65tKxurzyGCqLeIkkjXxqgpm1hc7F71wHgogWoi5a1SZ5GQe1qWJAjcu2rRBEWxLSXQYVB4WpmjZE2SuJb2blR6qu8j4CaA/k6KXlHqKHkj7RdtLdBCwELAQiCIgBW8sC4FFOarZ7EuDMI8q8cHyiBWwo8hfBlEbLAHEwPCa2ewCPcNz3eZ8HsN2uPLvLBODfqG2YBbBSWvJPvC4DAQLoPBMCkZOWz8caFAhcwpyiMSnPjLs/cZAY2uAhyDHbwQDpaN21o6IGGsq2vSxg8GPoM5h7ux+jYQfqjY1DPn5t3wSfjcrjx8AaSGfnbYQbkQGbRMt/BSovbMpTfrfNqZ0WAya8XaHcx4aump44ui6ZfObSu9i52EwEtgdFMfTbeW5RdJjT/cnpr7AXaV5Rd3maWRzjgl+9oWeqrOZhj8OBvtCk8rcZRsTnaf08W/Sk/NNQR+HIRNAFeUOUseSZe1WeuwELAQsBDoCQHrydS6PkIITJ2K3NwW20Ug5RwCz2DgsBjC8zYxXgHTy7Wr/Y0xHNcaKgoEwnkvDh2bE7PSoO5cMAMQObnDumzy3uo3sOC2C5IieLFjtx+79vo7YhfMj9Y3Ba6NAtqUaOr2VP+DGZ7yicXfj3S4wKHeTIBRRy2SygePHnxFmmQEUYKykpFjmk7KiQ3etg/66uvlK9Z9wsxvLjl1vEjMWRZE4N5VDxyqKvwKg792ICh8Y1l+ya/k54saq6frhHoi5YJS5+w/WQAmFwJub/VVYDxJQENpfrGhUGTZ4CBwn3fx13TWlzL4+PaEykr7SK4oOa4kxDg9OF5Ys1gIWAhYCAwuAlbwYnDxTqnZCk7JOolsPAngU8D4CoiPAUhOo7uvN2BsA+ETBv2bmN8VBmGdAysaVkPIIi1LMAIuh/0JgK8WN0Qud9Tw7jO3Y+FqZIZF+JimdKqQeB5y+LEHlJYMduZFeHkAM19Y3xRIK2lLd2NVHoh8BHy7NL/495H7G07UOXZkFobmDg4nSiyus3iP0YkLhXBrvVczsgL6YrNWrF0DxsdLTh1vlONY1hmBSk91LQW5eMxPiOmK0olFHWy+7feqhZ7qlwFqLs0vEp6MkJ12PIZn52CEbsvOtQWg2Jj8QMverXZs93rREYm0LO4IVHqqyghUCeD3ZfnF3477hNYEnRBY6K1+mhmXg/ASMSpK84vfsSCyELAQsBBIVwSs4EW67mwc1zV9AkYphJFsy86x6axoIH+AWvcO24ltf/0IVtQ/jtgPdOiCCbYLSaEXZBybTcER4+Ih0b3fSwlQiHUliyqBjTPO/g7efPUJ7Ni64YDghUn0+fnafxvZGfG0CInULXU+bVw850vE2O7G6nuY+EI1Wz9zzslzOpEfnjER49WAGpInG39ILkhkiAZg5v52NUS06jESyDr48GPwwlN3DcCj/ncNJ+5k4O/1Pu30vo42a/naN0AILJk63iDLtexABNyN1c+AIGWLhjHhG+XO4lfM/8/79XUVgZbW299/7s+Pte7YeSgIx4JxJIAhPeC5mYD/MdO/mPifALw20la+7sVOaw9ij4DbW30PGDcz2F2eX1Ie+xmsEXtCwO2pugUgIQX+QLityiYW/9FCzELAQsBCIB0RGNjTaToiYq3JQiDNESh02D9lsMHnEE/Vka5IOMOhDVch8bz10gHBC2krfBlfmXAmtm9d34kzI9ZbFH6yDuD+Op82J9ZzJHo8t6f6ExC9XOYsOoB7weWwfxfgx8THnCwbDh4z8JIRCV5MOv0SQx7XlMSV8c2Mmv9+6O1TUGqwM3C62qfI0pE2vzbm7+9ge1/2dOaKdS8S9COWTD0qvy/tM7VNpaemksBlsv7mnTtPq7/lZ4ezjnMZygwK3q9ihM2K9svwVZ3p5YYmvydGY1rDSN2Cp/pxAq4BqKwsv2ihBcrgIhDGQTIcoAqTN2ZwvbBmsxCwELAQiC8CVvAivvhao1sIJB0CBXnqz4nw044XVQUHj4lv9kXSARDhkF9jfL5lP6cBM02ob/KnFXP+wlVVZ7JCDUR0SamzSBRFOlmhw/ZNqm5NAAAgAElEQVRou3yqwYMxapgdI4YNvJyou+CFzNEViWt310kyBC/Etw1bWwz1pA7jC+p8gT7xL8xaue63YJ66ZOr4Lyf770Ki/Su+91s1u9aun71ueWMLM/d6Y5LsIEUBFINjN/gnSB7dx7W8A8bvdVV7vKERG/rYx2rWDQIP/POBYa0t+lJmnBNZ+mOBNjgIVPmqxmk6LWVgOsCPU5tWUXpq6WeDM7s1i4WAhYCFQPwRsIIX8cfYmsFCIKkQOCsPhwdIDT3MjBudjdxsW1L5OJjObNvZij3NAXPKl+p82oWDOf9gzOX21CwGeIpd4+klU0p2Rc7pcqrvgnGS/PzgsTnIscvr4MAsmuCFmaWjqh10OmZZSSTha3i5iZQkHX7UCUZ7TWsLKdfI/+Uzv7/V4FIRslgpTXrs/uIBLWj7rjbs3qeZY9xZ59MM2eHebNaKtVUAz1wy9ahDe2ubqZ8XOmxXATSbgSldYSDqViLZLX9EKUlVbVB7k+3WGVqAofkZbVrAkOzeH3zqYhbmXxPZqi3Z7oFdhYsaFx+jk74UYCcrdGa5o+jNgY1o9e4PAgu91QuZMRfMy0FcUZZ/U31/xrH6WAhYCFgIJBsCVvAi2XbE8sdCYBAQcDltVWAy3ubkheCQsb0ecg6CV4M/hV/T8fmWoDyqoTKCGfVNmiEnm07m9lRvBfCbsvzieZHrMlSGWtV95s/HHzIEA6S7MIbqLnhhBir+9e4Ko2wkktQ1vJxIuFIiMy8iPzfnCpfeleCFcGSYUryx2Mt9zRq27GwzhiLgz7U+7fy+jDtz+bpfEHH5SPvGkQ/n51skkmGgFTpss0D0Y2ZMiMQyy64YqjcSWJV7VCxMyn9a2gJobtXR3BKAzl2Je/NjOtS7GnytH8VizkwcY8HbNVNJ4aVEsBMp00qdsy0sE3AhLPLVXK3rLCTdWxRSbpvrLHo4AW5YU1oIWAhYCMQUASt4EVM4rcEsBFIDgRlOHKWz+j/T27EjsjF0SOZlX2ze3goh6wxaWmZdLFhV9U1FoZeIlHNKnbP/FnmFupx2B5i98nO7SjjsoNyYXMQ9EXaaErkykQQadmzb2In/QgIcZ190I159YTE2rv8Prr7RjVXLnjOyJ+Qz13k/wNOP3NqJSyOcHFb+nTt0REx5UsLLi5j54/qmwDF9AWrWinWlALvbFDro+clHShAp4y14zd0B4JxwMOSBZFiuiiFD1JgFLLoDW8IW+1o07G0OoGX/PSC8+fw6n/bzjN+sfgKwsLHmQiZeCuCf+taW0+d9fd7efg5ldRsAAvev+dVXA1pgKTOfSCD36LFDK7539Pf2R+wHMLbV1ULAQsBCIBEIWMGLRKBuzWkhkAQIuJzq7cJKLq7YbITDxuZA0rMzxcIVJIw1KzS5zuNflW7rd3uqngIpRw9j+/Tr868/4OTf5bRdBiZ5yTBOuaWMKBbWU9mIOb6ZRTF67OEHTGmWgkQGL/qiYtKTyk1/1yYvu2s3hBJUoI/Q7A0NCNWRdDfu5Ss/+z6z/qiuBI55dvIXP+7v/OnSryBP/Uk7VcUvwtejEGH4UNX4I/8ebGtp07F7rz88kGm4QITVAEprvZqVct+PTalcVfNDUvghMP5SNrH4vH4MYXWJEQJuT9XvAbqCiP6kQKmY47zxHzEa2hrGQsBCwEJgUBEY/KeEQV2eNZmFgIVADwgoLoftXwAdK22G5dowZmRsXlyTHXVJH5dykYAeShtPS4WRpUuX2tYes1FO2e4uyy82SFojrcBhn0tgQxlg+BAVo0d08E4M1PoSvOiL8khk2YiQfR5zvPMAFZNwf+MRvJDx129qgaZ3kHbqunZ0w2p80htOM99aeykp+AMUmrBk8pFpRQTb29rDP3c5s49lDjxIwIzwn8s1N3KYPSkCp1JSsnOPH61tJjFr0FPGT+qaNMkUsSxKBBZ6qioYdDvAvy7LL7kuyu5W8xgisLCxah4T3UugD4n1irkTS/4Qw+GtoSwELAQsBAYFASt4MSgwW5NYCCQnAgV5tkuJKPQAI8ELCWKku4VLozLxxy1ZgZNWrMB+yZE0AWChp/pKBn5HOk8vnVTyRlfLcuWpd4PwY/ls5HA7Rg4duNKIjNWX4EVX/BWRPkYGLyI5MrpaU7yCFxu3thjEj4YFaHLdmt4zdS5fvq6QiV8nhc94ZvJRy9Lk0opqGQV5tgsI9BgIY8yOkuUjQQvhtkg227NPw/bdbcKBs98IfxgK7Zo/ebE//SbZHE9Sf9ye6ioAxQz+RXl+yc+S1M2McGtRY9UMnWgpAaN04opyZ8ldGbFwa5EWAhYCaYOAFbxIm620FmIh0D8EChy2Bwl0vdlbyDtjRZDXP4/i22vnXj927t5fPcE6X1S/OvBifGdNzOiVjVUvETCkbGJJp9PucG9cebbFILpBfjZ6ZBaG56oxcbYvwQuZyCwDCVcECc+u2L51Pa4rewifr/23wYthBjyk7yPu6/H+mjdDpJ7//dBrtIlX8GLT9tYQPwLpOLt2tfZab2BdtnK9U+GAh3Q6/5nTjvxzb+3T7fNCh302g2vC1zVquB0jYhQkixdeolSybVdbJB+GT4dtlkXmGT3qlZ6qJQSaCeIflTlLHop+BKtHrBCoebtmbJuNRU7VxcBvAxpX3DKlZF2sxrfGsRCwELAQiCcCVvAinuhaY1sIpAACl10G29b/qELYeIq4K6SNB4/JgS0N+S/2tmjYuqNDMUKMgXvrfdotKbBNUbt497LFo7NyA9sAurUsv+ju7gZwOWyPAfRd+XzsyCwMHeTgRXgAw/SxpXlPp7IQCWZ8ZcKZkECGBCzEJKARzpURSQIqbUStJJa2eUeroVIRvHouqPMF/tTb+LM8G4+Fv+0jZr5y6alHPd1b+3T63JWnVoBwu7km1aZgzEg7crJSJ7trxx4/du0Jp4qhT0G4uM7r96XTXsV7LVW+qnGaTvLCPJ1IuaDUObvX3514+5Tp4y/01FQyuIwZK1hBxTxncV2mY2Kt30LAQiD5EbCCF8m/R5aHFgJxR2B6nj1fIV4usQuZTF4uhLgxAdx5cVur1LNv2tYaPv5f63zauXGbMMEDV3qqf0TAQmKeXjqxpFsi0kKn/bfM/J1YBy8SvPy4TB+uTkPEF9d6Ay/0NtEV9esP0nMCm8H0oyWnHpkxJ84uhyrlAfNNfHKyFIwdmW2QA6eaHUDuS9jITOfV+/yGSo9lfUNgQeP9X1VIWQrQ0RTg00snF3vCe1Z67r82S6OlJVNKdvVtxP61OmcyRrQBuUobbBSA1qZhX8N72NO/0VK7l3tV9VVQ8CQDooRUUZ5f/GBqr8jy3kLAQiDdEUi9p4h03xFrfRYCCUKg0GGbxaBnzOljqTyRoCWFphWegs3bWqHvL2J/XyftjAYvtiTat3jNv9BTXc/AnrL84m/2NEehw/Yog74vbTKF86S/mIcHL5j4/HpvoNcykOn1rB6Ss84Pxs1LTh2/oL9zp1K/Aod6MwH3hN9LDhqV2sFQkVOVzJvQLYSxjm22GfWe1g9TaW8S7esCb7WLGEuJsUuzYdotjuL14tNCX00F63w7mM4rm1j0l4H6eXoexmUrtkm6TnkAfQXgY4kwnoFDRFuqi/HbANrA4E8J/G8i+icA3xBob6c7z8nCVTUnsWLI2n6FGYv2UFbF/PzrLW6XgV6EVn8LAQuBuCBgBS/iAqs1qIVAaiJw6aVfcm//+JNS0/sckc5Mg5cOIegMBS4IGxUoZ73ubXsnNXepd6/v89x3VAC2/4F5btnEkvt66uFy2qrAVCxtRg/PMuQqLesagU3bWiCymmKKgoLXPVpDX7CatWItE+iOZ6Ye+ZO+tE/lNoVO2zXM9Li5hiHZKg4aHRsFm0TjItlbEgQN4/Fc05qrnf7WW9idaN9Saf6FvprLWWcpoXqrLL94mttbXQ1GUcca+J6y/BKDQDham5GvTmcd54JwFjMmRNu/h/bLmPGazUYvv+7xN8Vw3KQayu2peQrgbzPwZ1L4tjJHScaqIyXVxljOWAhYCHRCwApeWBeEhYCFgIHAoqZFo/SAuvpff/rb8H//6ZWQKoCQd44dlQ01BdO997VokMBFmG0nxnm1TdqKdN72ysZqOfm+Rc1Sz7zplBve7WmtBXnqz4lgyKiK+oP8saxrBD7f0gy/1vHqykwT6pv8fXq4n7Vi7W4GfrN06vib0hnbgnz1NNLxd3ON6ZS9Za5JMjCEuDXMXqjzaRen877GY22Vnuqb2hUvJLD6LIDLzDmIsKLUWXxqX+cszMv6Civ6d8B0OcBf6Es/haijJJLk99j8Ey4t0+Moa8B4Wle13zY0YkNf5kulNgs9VWUMqgTwLykjKcsvlv2xzELAQsBCIGkQsIIXSbMVliMWAolFwO2pfrX9JOwsIj7jT9eVTmlXqbjX9EjIO4XMUTIxUsV27vFD/oQeioHPA6BLGnz+lamyhv766fZUSy3+f8ryi2f2NobLab8BzIul3bBcFWNG9nxKfvFVt+Hcy+Zged0zeOx+I2HDMFPSdNvmdZ2IMk11EFMtpDd/uvs8UjK1v+MMpN+6Tc3Q9Y6XHLJrh9a+jY19Ge/yFWvXMuj1JVOP/F5f2qdim7O/hqGaqgqHwQniv11VcMjYbMiLYrpZJAcGEW6v9WpGANCyviFQ6b3fSSz8Fzgmsodd45G98V4UTlDPAmE2Ey7sbkYJvIsUb5Zqg2on2GyATVEkZnGAyW91IMDQAjo0jdHm19Gm6cbf3RkTPwpdqe5rELNvyCS+1SJvtYsZQq46FoSKMmfxnYn3yvLAQsBCwEKgA4H0e6qwdtZCwEIgagQqPdUPEHAjs/6d8ok3PSkDuJz2a8H8SPhgqXAyLw+f23f50dxqqkIYK3iHWLm8tqntvajBSbEOQVK8dxSi6+c6ix7uzf2CfNu5pJPB3SDBqYNHZ/fYpbtghCmNqvlb8fQjtxrBDTEJdpx90Y149YXFeP6p/j8DJzp4IUELCV4ErbnOpw3pDVvz81nLP30XRB8umTr+0r72SbV2BXn2x4n4GuPBgggiuZylpu8jRhfB0XNqfdrfUm3fEuHvIu8Dl+is/7G7uZnwjXJn8StdfV6Qp54Jwo8J+Ebk54pCGJpjM+5j8icWV19AZ0Mut6VVx75WbT/nSdjkzPRb2JS704n/ZOHyhWPYri4FUWF7gOkJ6EpF2aTZaxNxvVhzWghYCFgIhCMQi3u7haiFgIVACiOw0FN9EwP3Mfgn5fkld4QvpcChfp0AqV8/1Px5dpaC0cOykJXVFedZYoHYs0/Djt3+cGJOedh80aZo17zuxc7Eejc4sy/01NzO4O8FwGfenF/yn95mPWtC9nEBJSApwhApy8PH5fTWBXf+6m2jTbgUqfxs0+cf44SvnY5Vy54LZWWYQY0nF5eFAhq9TtBFg0QHL9radGzY1mJ6tqbOp/W5pn7Wik//DijNS6YeeVZ/1p7sfQodtm8z6CnTz7GjsjA0J/25U8IJXAF8UOfTTgLQ/VF9sm/kIPjn9tbMAfOinqbSWf/5vIk3hZRqpO30iTjUFrDdaZILh/cfkqMaQYvcnPhmBkqJyb6WAPY2+0PcNxHruLPOp1UMAoyDNoXbUy0kw+UAVkKhijJHUe2gTW5NZCFgIWAh0AUCVvDCuiwsBDIYAXdjzbkgllP3R8vyi6/tCoozJmK8qqsPgtFJVlSIHUcOtUNOuxJtrW0B7NijQf4ON2b8or5JE8nGjLGF3up/gbG8NL/4u31dtMuh7gVgZBIccXAupEyoJ4sMSEhg4Yrr7kLdnx9F/mkXYMe2jVhw2wXGEJGBDul7xtmGMqth761+I9RW/h/5+fpPPzCCJJHBC/P/qj0Lf3n2PiOrwyxpUdWO0hezr/zbbP/BP5YZAZac3GFdzt/duiUwtm1XB38KgX5X6/Nf1Vd8Z65c+7LCGPfM1PGT+9onVdp904khe1mV4NcR4vPwXBWjeyk9SpW19eanZHlt2NoaKiVi4N56n3ZLb/0y+XO3t+Z81vkSIlwiNDvdYPFKWX5xKLOiMM/+AyYWHoZR4e2HDVExfIgd9gRk+LS26di9T4PwKkXYewyU1vu0LjNHUnHvF3qqr2TgdwC2AVRRll/0q1Rch+WzhYCFQHogkPi3jvTA0VqFhUDKIbDQ+8CXmPXV7Q+R/2jdZzvv/06/cXtPi3DlqbeA8MvwNlLOLg+PEsjo7YU3HgD18AD5LikorfVor8Vj3mQd073q/lOhKG8pCn1nrqPIKP/pi7kc6psATpe2Imk5pJcTzMhSEAk4nOycgUfc1+P8meU4bPxxxr/Frit7CCbfxbw7X8KXvzr1gGDDv95dYQQwzMDFm68+YWRumAGH/37oxVu1v8fVN7qNrI4P33nL+Hc4v4b0lfZmIMMsb2neu6tT8EN8MrNAIvv0hNXWna3Y29wRHCNGWW2TtrAv2EqbWSvWSlaCc8nU8Sf2tU+qtHM5VPNk1sjcOeygnA4yxAyxPc0BbNu5n8AzGiLXDIGoy2VW+qq+ggC+S0RCdvqliEbNdo0Pfe7HJW22nfaHmHh/tBMwsnqkhFFNQNAicjESMN+5R4Mo0URYWmVhLPI+cKLOunCUfBXM9+lZrRXzTpknQW/LLAQsBCwEBhWBDHrEGFRcrcksBJIeAben2tf+HndsQFfOvHnS7NV9cXh6ftZXFV0X4oKOY/UwG5Zrw9BcO6SsJK7GwN4WDfLSEJlpYcxLuKPOq6W9JGVXGLs9NfcT8Tl+wvRbHMXr+7oPhQ71nvaM6Jul/fAhKkaP6Jm00wwMvON93QgySFBCTAIQ4YEN+ZnJd/HBO8s6BTJM36SvGey46kfyHty5HMVsF5k5EUkMKhke4Rkf0i/cl43r/2MEPCQQYmaFRFOKsn5zM7RAUJFAx2l1q7XlfcV31opPHwDooiVTxxvZCelihZOyv8xa4ENzPZlSLhK5f6I+IrwIhjE9W9fk75UoN12ugVisY2Fj9Q+YIJl/U8zxPnqlrujDP/5JIqAnmz+TYIXIOYuKTbLZXsnM2u0HS21J0ERyVFG1a2pXYWuy+dtffxZ6a55g5qsB/AXMFWUTS9JWOra/GFn9LAQsBOKLgBW8iC++1ugWAkmJQKWnagmBZhLTRaUTi16M1skCh+0SAv0YwMTIvpLCm5utIkeI0+yxCWTozMbJVnOLjuaWQCdOC3N+YnpCtyl3pRNpWrT74vZUbyDg+dL84hui6RtO2ins/IeO7Z33QoIOo8YcgqcenIfvlVRjRf1So3QjPLAhPpgZGaPHHh7KnAhXKZEAg+u8H+CNV57Aqa5ZoSyNSP/NQENX5R7mnDJHpGlam5GNYQYvwvk4+hq8EHlUkUkN2q46n9ZdunuXsM9c8emdBCo5ccqRI+cTpQ0ngivP9giIjHKznCwbDh7TM9lrNNdkKrVt9evYuDXEhwJWMK3eo72VSmtIBl8lG4N0Kt2w+p0f+B76rcaBQIg4RYKqo4ZnJXVWT0DXsW3nAWTR7zPTFemkSOL23F8KKG4AH0FHRdmk4iXJcP1YPlgIWAhkBgJW8CIz9tlapYVACAF3Y/UdINzGOuaUTyq+fyDQFDpssxg02yw5iBxLZBIlEyNLVWC3k5FWrtqoR54MQ65O56BcXQDyYtCTXB2Bf0OKUvO6x5/RJ0CV3uqvE+NvzHxZ+cSSP0Szr04n7KNY3cOAkXJx2EG5vdaRm6Uinr+/iKkFMzspjJg8F5IJIQGOrjgrTP9M/ozalx/pU/BCMi4++mBVpxKR8PISM6uiu+BHf4IXu/b4scOU3SX8oc6rXRYNvrPeXjsPOu5tzdFGv5B39I5o+iZr28KJOcdwQAsRwkrgQgIYmWpbd7ZBJFQ7jJbW+fyzMhWLgay70Gm7hpmEJDpkItM9NDd1CGAjlWgAbAXjkromTcrz0sLcnvsL5DoH6KB2ktqfluUX354WC7MWYSFgIZD0CFjBi6TfIstBC4HYIeBurPoOiH7LhEXlzuLSWI083alOszFfzaDLAYzobVypiRc5RYMXUv4wDAk6ybAIy7rtaZh3GXhaZe3x15rQ5/KI3vxK5c/dnqrHCIqjtVmZ3ht/SVfrdDlUkS4UEj2MGmbHiGH2HuEwSTo3fPYRhgwd2Ul5RAISjinnGf19K/9slJZ0J7EabdmIBB9WNjxrlKCIhXNrmPwWXTneVZZFXzMvNmxtCQXQdOLvNngDv43mWpm1/H8/BCkP6XbbF57NP/zTaPoma9vwUqO+SOwm6zpi5Zdf0/H5lvDsC9sJmZwF1h9cC/Ls3yfiR82+EugeOyob2THK4OuPT/3tI6WNEtCS77ag7dN1nNewWmvo75jJ1m9R06JRekAVHoyzwHjKRlm3zcm/Pi3ub8mGteWPhYCFwH4ErOCFdTVYCGQIAgverpmq2Hg5wC+Odx566UyaeQDDWCygKHTaLmLGuUSYwUxHx2JMGYOAlTrjVYXp5drV/sZYjZsu47g91fuI8GBpP4NSBU7blcQkjPJG1oVkX/Rk4aUaJsGm2d5U/ZD/mwSa8u++EHaGk25KHzOL48/PLupUdmLO0R3ZpznfMcc7DYJOMZPw0yxb6UvwQrJ+JHgRtIDeoo1qeA97orluZq7430yCsgQ6n7zktKPejaZvsrZ1OdTNwu8q/o0blR13mcpkxSHcry07Wg0pTcMI99R5NSmts6wPCBTm2S5noqfNphKwOGhUFmy22JQe9sGFmDdpadOxZXtreJnjThvTjNea/J6YT5bAAd3e6nvAuJlAb5OiV8x1lLyeQHesqS0ELATSHAEreJHmG2wtz0JAEKh5u2Zsi8KrQWjWwefcnF8SSveOJ0LTHdlfItImKUwTGBClBWGVPxJAh05l17aZgP8x0b+JWV70fAFdW9mwGmmRbh8PvN2eailjWKqDz5+XXyLSt/0xcjnUbaYc4bjR2b0S40kwwgwOLK97JjSnGdiQH0hmxPtr9mdLx0oqVcaW+b8y4UyYwZPIsVua94SURfqbebF9V5shidhh9GSdz99J+aAvQM9a+enZYHqFWDntmVOP6DPRZ1/GTkSbYLmYseF2G+GwcT0HuhLhYyLmFD6ezTuCyiOMdXVN2vhE+JFqcxY61QJm1Jl+G4GL0dkJUbCKNXYS/Ny8vRUBvSMFg5k/5qzAGQ1vY12s50rkeAt9NZezzk+DsJ0YFaX5xYsT6Y81t4WAhUD6ImAFL9J3b62VWQiEEFjoqa5lwKUTCuc5i0MPiYmC6OyvYSjbMDKgZOfaAlD8IH+W3rKvbQy2NTTAfFNMlHspN6/bW/0HYhy5a/fW6fML5u/PXY9yJS6HKvKfc6WbMPpLACOTTdcZ6zY3h6d+F9b5tKh/f65cvnZSgPC2wjjn6VPH/y3VMXU51WfB+Jasoy8lRqm+3mj8/2xTC4S40TDC1+u82qvR9M+0tmdPxHgtoK5oj3MaSjxZKmHcmJy0CFyYeym8TZu2toQqSJjRUN+kFaTbXt+3ZvHxuqYvZeavEXB/dq5SMfuk2VFlqaUbJtZ6LAQsBGKPgBW8iD2m1ogWAkmFgLux6kEQXU+E75c6ix9LKucsZwaMwII1TwxV/Dv3MNNd5ROLbhvIgNOdWScorL9vjnHI2JyUrDcfCAbhfXfs9mPXXr/5o+V1Pu20/ox92d//e7xis3/AoFlLpx4pNeIpa/0hd03ZxfbD8e2727B7rxl/5Zo6X6C4H8NkTBeXQ31FFJVlwYpCOGRMTq9kwakIjpQTSVlRyIir67yBklRcS28+uz3Vwgn0HSL8lZgq5uYXiSy7ZRYCFgIWAjFBwApexARGaxALgeREwO2pKQXYzeBflOeX/Cw5vbS8GggCCxqrf6AQfq0HUDhv8sCzalwO+xMAXy0+ZXL2hajerN/cHDotJeYrapsC+2tjoti0K1b+9xCd7RsAXLdk6vhfR9E16ZrOcNrO05leFsf6Kqvb3SJM3hJVNURuDIvkT4kHADLv2RfdiFdfWGzI+8bSRNJ50zbzJZU/qvMFjovl+Ok0VkGe+nMi/NRc07gx2chNY8UaCWpJcCtkCl9Z5wmEeD7SaW/d3qo5YFrUTjX0HwlglE4s6te9M50w+X/2vgQ+jrL8//vMzOZomt4HLQlyySnQ7KalLUebTeWHICooTVHhLyIi0BRoyiGg1AMVaSokBUUUPFAoFVDAC8mmAiWlTTYF5BIEbXrQ+0yT7M7O8+eZZDabbdJcu5s93odPP6W77zzH953dnXnmeb6PikUhoBCIDQIqeREbHJUWhUDSIbB0TdUFrNHTDPx6UXH5V5LOQeVQTBCorK9+jgHXouLymJQhl7qzTmVYr4ZvKDKUjHHn3gD2d3BdCFlsjd+cMdAN+9S772aP2J7TClDF8hkF0pqTsuItMpaAYDOgjsgzMCq/M/HQn6CEiHXC5KO7ELpGk7D2R18yrd2wpSVM0mhB//hKf9t7yeRfMvgyx2OcaTFedHwZme/CyLxDTzhKBr8H60PXkbrYapF58soGbB+s3mQ8fumaqlmsyThVTCDQHQuL5383Gf2M9MlbhI8xGSeQkI1rfDgzjyfWRoBYeiiJQAGLrP1g2kGgzUTWf2Hp/65pDLyZ7LEp/xQC6YKASl6ky06qOBQCEQhI72koEFoH4nqXhosWuBfIZAAlaYbAT+p/MsmCsYnB31pUvOD7sQqvxK3fR6BrRF9fJo/Eym6y6On69Fy84s/4/KFnBuNfWV0TfzQh+DuPzShcPBg9Q32s120I4aidyOkLqWt3/gqxavRUGWfdod4b6tj7al8IGlvaOqaOMF/mawz9tq/HZso6r9tYBWCmxCvVFlJ1kQnCzPZIXTPUQeBJ/MvahtDX0jX2qtVVI4KGncD4P4B/pwVDt98w44b/Jku8JR7X6QB7ycKZIExzJigNwL82MOqJsIqZV45tDD23AojLRLcB+KYOUQikFQIqeZFW26mCUePawD0AACAASURBVAgAi3mxNsI/rpGZC9gKnbto2vVqrGianhiVDcuuB1t3gYxZFZ5rVscqzNkejNPYeNeZPDKYJ+yx8imReuTmImh2kC6CHvf5g2WDtV9W13SAQD97bEbBwsHqGsrjS91GGwN2ucXhE3IHRKzojL+97erTDxmKJDguufIH+HDjezj2xNPhTI+ZOPkYnHfx9YhsN9m0/m04+hz9onzyESfYNnbt2BSefNNd24gc46w1zUCXipD+4r1nfxDyR4QZVbWN5nX91ZHO671u13yAq50YZSyzJEkzRbpMpWkPekBEwKmE19L66h8ycAuY1xLJNJIFQ0ZkW+o2zmKwjK/+LIPjNRGohUBPg60/1DSG/pBKe6V8VQgkOwKZ82uR7Duh/FMIxAgBmTwBxueZ+eJFUxeoH80Y4ZqMaiobquvYwq5FU8vPi7V/pW7XVQz+maN3oE/ZY+1XvPXt3hfA3jDhItpIN06qWdv6/mDtltWt3wzQn5fPKEzZp6wlp2WdTLol44uhG4TDx/V/RKozRndz07u4+7bP9Jq8uPSaSrQc2BtOPHQ38tYZkevwZTiJCOffzjHvv9Ng24xMXrz9+ou4suIB2w9nrK+M4D3uEzMGnMCQqgupvugQn89vlg72/EmX4z91LLLbRhr/A2OixDQq34URGdAuEr1/23cHcKA1PFir1uc3vemyxz3FUbmmugwahPtij8V8+41TFyxLYMxaqdt1NYOvAFDUk10hjZVEmoyA1nUNmk7QPiqZk5slAoHBsJjsiULCiyQVNKYpfzvJ7m41f8jAQzqZDzzfgPUJjFmZUgikJQIqeZGW26qCylQEltRX/5CAWwjaooXF11ZmKg6ZEPdda+853iD9bWhUUeGeHxceBa/beALARfbNqk6YODYbhqalLbzNLSakJz0sRNf4GoI/jUXAZXVNb4Ho9eXTC+bGQt9Q6PC69QsBelJsD5TM1UlevN7wPB6+99CDOKKTDj3FHJ3QkORFbt6IcDJCjous9ohMXsh70eSd/UmwdOeT3NAI2WuHbPT5zYKh2K9ktOl1GzIRyW5xMwzC5AEkwJIxrv76JDe8m7aHzxEQ8YU1DaE/9ldPqq2vfGXZcdBZ2khOA6jKHJ57+80nXLEvXnEsBrQXPMZNAK53EmaRtnSNkJOtISdbR5ZLt5MWAxEZq90asBAIhtDaFkLAbG8LOkiYf2q4XHc/t6b1g4HYUccoBBQC7clEJQoBhUAaILC0ofpyZjwExrKKqeVqPF8a7OmhQlhav+zbFnghaTyrwr0gTLAZy7DP8mCSwUYDAZNEb06Wjglp2pseCFj4cFcrnPEiDPpdrT/45VjhWVbXVAfCnuXTC8+Nlc5E6/G6XdcDLBMEkD/MwOgR/Sfr7E9ioLsqCydmR8/osZPDMERWXsiLkW0pPSUvRo09DNPOugi/vb8CL/s6ByJI9cWoMRO76OgP3uu3HAifS2NbzewVbyIiK9YfTemz9uKLoe/4j7FZ6FIkqjEjszE8V0+fAPsZSWSVFzNW1jaaMSFd7qcbQ7K8sn7ZwwB/BUR/Y2i3L/Jc09CdI5Vrqr5SMW3BrwbipNfj+hoxvh3dGkJEyMvVMSxHt3/T4iFBk3GgxURzqxnmN4m0Q4wf7tbMOxoaEJ7FHQ8/lE6FQDoioJIX6birKqaMQ2BJ/T1nEvQXmeiZ/WPy5i4+6vLWjAMhwwKubKh+A8BbFZ7yL8Qz9BKPfj51jMYUO3m5BsaO7P9Nazx9HKzuYIjt8ZahztLf1/PInP5MAw4MVrdz/Ly6pr+CMPKx6YU2SWEqSonbuIsAeYo5qHL/Q3FeRFZmvPP6KkjbyJoXnwxXaTgJjZzc4XB4LrqrvBAfB5O86CsvR0/7uGlrK0yro5SczSN9jfhfKu55LH0u8biuIeb7RGcmEgFHYynnh5wnYWHM8jWaL8QS82TWVVm/bAHA9wL0PrN1+6KpC7qMja1cW1UE0p6sKJ5/VH/imFPsKgpZ/GMC5kQeJ5U+I4a57N8wSuDdT0uriX0HQhAi6Egh4g8YuNnXEFrRn/jUWoVApiOQwI9vpkOt4lcIxAeBu1/96QQtGFwH0B7dpX/u+tOueSc+lpTWZEFgqb+6mC2sBeiaiuL5MWlrOFRskU/cZd3wYQbGDOCpe7LgF+mH3EBs39kWWea7X9Po7Ofrg42x9Lesbv1jIPrE8umFn4il3kTqKvHovyAm6Rkf1FPz7ggznTgip41s2fSfg5IX8n50pYQzYlUqJ6QVpbvEQyLbRiSWSNJXTSN3rM+nRO57rGx53UY9AI/ok6odqd7JdNm5pw37W5ybWv6Vzx+6PJMwWdpQdRazPY3ksI9qwRdXeMq/I/E//vjj+vqjtjxDhE+RZX1q4bTr/tYXXEqLjAomLOmStNA1e6yz/G4NpUg7yd7moN1eEikE/nloROjalSsRJkEZSj+VbYVAsiOgkhfJvkPKP4VALwhUNlSvBGMWE85d5Cn/uwIs/RFYUl+1hEBfRIhmV5w+/9+JiNjrMX4Exs2OreG5BsakeAWGVFzs2NXapT+ZiT9d2xD6c6wxLVu9/mcAnbd8euERsdadKH0lbtdjBLYnr4wblYVhOQO/GZBkwoTJR3chxXSSEP/+V51NrNkTOWfkmNXISoyBtI3Eg7BT8NmysxVtHTcpBJxd4zdfTNQ+JaOd2W7XdA1cJ77JU++CCbmQ8v1Ml0DQwoc7wtUXQcM0Rz/3GpozCZe7Xror38jOfRxE0lL3eyuE20nHTQR8owOH1RXF5fZ45p7knFORFzRcv3S+n5x1I4e3E8Im06kmySppGRKejAh5TWe64h+NQUnwKVEIKAQOgYD65VCnh0IghRGorK96EKCvMdFVizzzf57CoSjX+4HAkrXVTaRhZYWn/NJ+HDbopV63Xg3QfEeR3LyOHZWVkuRJwnGxbU8gslUExHxJTWOok/hg0Ih1Kphb1/QjInxj+fTCUTFUm1BVkQSu40dlIzdncP3izpSQyCCcBIS81hPnhfBRnDRlVviwV154AsedPAMtzXvtVpH+VF489cidtp5YjkoVfdKGFFEmnvajMHs7Eb1FxhIQKmSd8FwI34WSdgS27GhFW7D9aTwz/7/axtBvMhGbyvrqHwD4Jhj1IBRHYmARSm/0lPu6w2V2cdYnNMv6HYBTnfezszSMys9Ctis5CaYtZuzaF0DzgS6tJCYxXxqv36BMPKdUzOmJgEpepOe+qqgyAIGlDctuZOYfA/hhRXH5rRkQsgrxI86JuxuqvRqjBsSXV3gGRmQ2GCC9buMeANc5OrJcGsaOzLZ72FNF7KkiewNhQkXxm8Dzavyh5fGKoWx10y1g/CAvlDPyoTPHx41dP17+i94St/EHAj4v/z/Yyot4+pkMuiOTF0Tw1jSYtcng11D54HUbUiH2cbE/YXS2Pd1BSTsCe/cHsXt/O28jAU/U+M248hglM+6V9dUXS9dINz7+saK4/MLo10s9RgkzhDNirPNefp6B0fmpwcskVRi79rQ5PNF2CEx0XW1DsCqZ90n5phAYSgRS52pzKFFSthUCSYbAkvrqzxHwlJRYVhSXfynJ3FPuxBGBpQ3VDzBjDixtdsW0a5viaKpH1SVFxneI8G1ngZR/jx7hgrSSJLvI0659zV1ai/ezxmW19aG/xNP3srr1VwN0v8UoWDGzcGM8bcVLd4nb9QiB7e8blbw4NMqRbSOwcIZvnflyvPYl2fV2PBl/XfzUNLJbRpR0IiCTKTZ3jk1t9vnN4ZmIz5KGez3EmlS+Hdtd/GzRrEXT5ocJTUvdxrkMPC38r856IZMWQs5UEmkd2rGnDXIehIVxi6/RvCuV4lC+KgQShYBKXiQKaWVHIRAjBJb4q04ii9YRsCaoYe7N7vJNMVKt1KQAApX1y3YD/HhFcfnXh9Jdr9t1JcBdWpXkonFUvgu6lnw/LVLCv2tvEEGzC1na67pFl/1jnRDexlfmvrz+EiL6PaCftHzG5Lfiay0+2r1F+v0gulq0C2HrUBPgxSfK2GiVm1HnZoR17RO1awMyHSgjxVvkKgex/SRZWs0k8aWkKwKbtrV0jtTMsKkjgsQPX7t/dHYw9DtmfKqnc4OAXy8sLv+KvF9SZJQSQUg87UyF/OZI4iJVK3qE/2L77kCXiSREWFTTYFaqz4pCQCHQFYHku8JUO6QQUAj0iMAD9Q+49iMgUxAmwLI+VzHtuox9mpeJp0m44sbCvIpp5XFrcegrtrM9xpka8DMwTnaO0YgwMt+VNJMEQiHGnuYg9h/oSuTOoN+1ZgevrKtDS1/jHcy6sromuSj/CwHTH5tR+MpgdA3VsZEVNyOGuzBqePiB51C5lLR2N25tQaiDkI8C5mE1/8KWpHU2zo553a5HAZ4nZlTSq3uwd+4JYH9Lx3cU45u+RvNHcd6WpFJfWV8tya3yXp2yrDOe+fqiA5rG0oZl8wcZmoZxo7MgLYypLMzA9t1taGnr5MFgpitqG4MPpXJcyneFQKwRUMmLWCOq9CkE4ohAZX21tIp8jpm/GD0TPY5mleokQWDJ2upHiXAKo232ouJF25PBrZNOQtZhufq9YHKY4W23hAMjPy/LJucbCpEnWdIeIqPpunC6A60gWuhrCMZ9xGxk3Je8smGGZfHLGmnnPDr98H8MBSaDtVnidn2dwA+Inrxc3eY66atEEmLKMbt2bMKDlVfhrVfDVeB9VdXvdV/8+o/Q+MpfbFtC9jmp8ONxtc3MaNoSzokFfH6z70D1O7rkP6DUbfybO/guDhubk/I3mfFAXLgPZGyqLYQ/+BpM4X7IGJGJI3pWXhFpPO2jJK/z52PRABzYvfuR2pu+I+N2T5T3pOJi/OjstDqntu5qg4xVdYQsnFOzzkzJ34yMOYFVoAlFQCUvEgq3MqYQGDgClQ3Vd4FxEwPfXFRcnlFPZQaOWvocufiNxVkjWsa2Mri6onhBmDAzWSL0uvULAJLRDadE+uTSCcOHuTAsR4eux/8nR/qHmw+Y2N9qQp5kRQqDlrtM/ZvPvdb6QaJxu3j1/07SWHuDCV94fHrhE4m2Hwt7pUXGHCbYF9HC4j9xbE6vap3xp1s3vW9PAnFEkhljxhfgt/dX4GVfXAa82KYSkayIBiEYtLC5c/zl2z6/ad9oZaLMPgnDtRyjnaCWgMIJw5JqbGWy7Im0s23e3jEylfFvX6N5fLL4NlR+3P/a/aNbAsEpIP00Zp6igU5be/8vp2xZZ9On2CLfQck6UWSguEnyc8vONshvWYds1Nmc9o9GqBbhgYKqjksrBOJ/JZlWcKlgFAJDg8CS+mVfI/CDYH6gYuqCLk+4h8YjZTXRCPzEv+xSy+LfgPHZiqnlQlKWlOL1GItg4ZsgjIl2UEZrDsvW7b7kWPJiBExGa6uJA22hyAu+SPN1BP5BjT/07FCBNu+l9ZNZp40g7avLpx/+8FD5MRi7s09FgWYYNklsX4gXTzztbFxZ8UB4hGmk7UO9Nxgfo48diuSFPc1mT8Bx5Smf37woljGlki6vx+UGc4P4LNVYk8Ypss7u9k8SrU1bDoTfGnuMaaxYgS5zNFNp3+Phq7fIuB2E7zm6x43MwrAUI+fsKy7BENsjdKWCsEOe8fnNz/T1eLVOIZDOCKjkRTrvrootLRBYuqZqFmu0Esx/M9ta5t585s0pOWYxLTZjCINYWl/9LDMmDqesWVcVX9V5lTuEPvVk+gIPhjWzcQMB1zIwqbt18rQsO0uDy6XBZejIkqqMPvwiycWcECEGTMtOVLQFQp1Ed9GGGKuIuDqeI1D7Cv8F9ZuGDQuGmkG4fvn0wnv7elyyrfMWGR+CMFH8mjQ+F1JZ05NI1cU5n7sGz/3xfjz1iBTl9Cyy1nv+FdixbQM+dsxp4baSE045C+ddfD0Mo53kcdP6t7tUcDiVHc77kWskcXHSlFn2caYZwF9W3INjTzw97m0jURNtFvv85neSbR8T5U+JW7+IQHalkSQvx4/K6A6aQ8K+cVsrQqH2p+2kG8fUrG19P1H7lOx2bH4lxouOn5nAuSPcF9t2dbQSyTmhCDyT/TRV/iUIgT5cKibIE2VGIaAQOAiBn9T/ZJIFYx2BdoRYn3vj1Kv/pWDKPASW1C8ZR8jeBua7KqYuuCWVEPC6XZcz82VEmN2b39JWIhUZQvpJ8uskfxiwmO0nUHJdH/Ekqid1ZvtUD/5VTYMppG5JI2V1TUxE335sekH46WHSONdHR7xuQ6p+LpDlY0ZmH5LT5PLrqjHtrIv61BrSXXuJHD/TO89OOkjyI7paQ9679JpKrHnxSTx8bzvXnxxz9jmX4YXnfmO/Fl15kYhKjA93tIYrgNji82vXxXcMbx+3bkiWlbpd1zJ4mRjPzzUwemTvk0Zkj44+3tPjeePs+85tG7oksnoLMJL7pLe1sXq/PzY/3NmKQKA9eWERzlrZYL4UKz9SXU+J26gTsmOJIzdbt3kuMkH27AvahNOOWKSduLIh8HYmxK5iVAj0hIBKXqhzQyGQxAhU1le9CKKZAH22wjN/yErekxiijHCtcu2ya0G8TNP4kze4FzyfikGXTss+joOhC0E4D8DZMY5hD5ieA6xnjFDoyedeQ3OM9cdEXdnqpjYCqh6bXnhjTBQOgZISt3EjAT8W0zIaV8YT9iSSSDjFM6dP5JhO8kL4L5xEhPBi7N65BXff1lkt3Vs1R3RCI9HJC5kwIpNGHMl2mSP/+gr2DsFWJYXJUo/xbWbYlScj81z2JKLexEle7NuzHQ9XlR9E6rq46gVMnHwM+pO8SETSKjqu/tqUp+zOpAlm/mxtYyhp2wN728NYvl9aZFQwYYnolKT2YWNz7RakTJEtO1vR1pHUIuCJGr/5hUyJXcWpEOgOgcz59Kv9VwikGAJL1lY/RITLQTS/wjP/vhRzX7kbQwQq66vtkQwLPfNnEVEUDWUMDSVI1RwPRoagn6lZdDoTpgB8EkDH9NF8MxHeZaZ/MeDXgbrn/cHVfTx2SJeVvdy0FRo9tXx6wVVD6sggjJe4XR4C14sKqZI5fELPHAb9rbyIbDFxqixGj518kLdOC4jTitLd2qGqvIjiu3jR5zdjnagbxO4l/tBSt/FjBuxk3aj8LIzIM3p1wrnpb2nei/pVT3dpOZLk1PkX3wBXVg6CgdY+V170N5HQq5N9WNBfmzt2B9Dc2j4ulYm/VNsQ+n0fzKT1kv+bgTFmm/EBAyP6cw6lEyiSuJAERqfwZ3z+0DPpFKOKRSHQHwRU8qI/aKm1CoEEIbCkvvoWAn7IRHcv8sy/KUFmlZkkRODuV6uP0oJ4n0B3LCye/90kdDFWLmlzPCgwLdcEAo/UNc4JWRBGhSCDDuiattNlBT78ayO2xcpgovWU1TX9G0QNy6cXXJJo27G0V+rR32emo0SnlG9LGXd30luVRGRlhnBbRCYvnAqK999p6FJ5EWnHWZOTOzzMhTHUlRfbdgfQEr4Bxa21DeYPY4l9qunyuo17PpqMa09HGjMiC8OH9T158e836lB45MldEhSSELBvYsfYtCvh95x2oUh83lz3T/vc6Y775O3XX7TJZCOTY60t+7u0qkTzqbz31isoOPLkLhwukSOAI5Nq3dnsjfdlx542NLc4HJ10uc8f/FWq7Xes/S11G3cxYF8DZbk0yKjdTJRdewLY19Ke2ALwss9vnpGJOKiYFQKCgEpeqPNAIZBkCFSurf68zHkHsKKiuHxukrmn3EkwApVr7v0mSPueBsy6YWr5qgSbV+ZiiEBZXdMaEG1bPr3g/BiqTbgqr9tYCuAGMTw8V7e5L3oSubmLvMl01kXzV0QnOvoyjaS7yo7o9pNEto0IN8uGLZ0tIxq0k573B95K+AYlkUGv2/gJgOvFpdEjspDfj+TF355chnMvmo8//Oo79jhdOScuX1CNutrHUXxGeyuRjN/tLkkm+37cJ2aE+VKiz4Po8zKaRyM6eeb823Bl2Tqd5If48GDlVXZrS282e9sWmVAjlTv2xTnxV2oaQr/u7Zh0fv+sIox3kSHjQe2M17hRWRiW03vyKx0xCYUYG7e32BxQ7cIX+fyhp9IxVhWTQqA3BFTyojeE1PsKgQQisLS++hQG1gGoZ43mLnLP/18CzStTSYhAZX21nA8fVhSXn5uE7imX+oFAWd36fxBpOY9NLzirH4cl3dI5btd0C1xn32QBKJiYC7IZVg+W7og4ZZXcPI4ZXxB+0t3dDWg0+aYcF0nmePwpZ3Qh9IysxHDaRqITHP0t5e8P+PuaTcikkQ5cXqrxmym9z/2Jvae1Xo/xIzBulvdHDXdBpkT0JpF79OVv3I333l5j86DIOTKjZK7NgyGvi0jyoqfzLrKSpy/7HpnQ6G59JIGs2IyepOMk3DY3vRuu+JhU+PE+cb6Ivu17AjjgJC+YL6lpDD3WG1bp/L7XbdzxUXyLJcasLA2HjcnMqgtnj3fvC2Bvc7j6osbnN+ek8/6r2BQCPSGgkhfq3FAIJAkCi2sfzsnP398oD6g6Ehc2z4GSzEWg0l91GixaR0Q3LfTMb79aV5KyCMx9uWkFEY5bPqPwtJQNosNxb5HxCgjT5J+9PVHvjpNi145NXW7qemoxiW4HiC7tjyzPF19eeeEJHHfyDAhfgtzYRic0xk34WJdRqdE3qdE3oKKzt/YXZy83b2+xx/iKMOiqWn/w56m+z4P1v9Rt3MqAPSe3P4Sdzk3/9NkX49gTptl76bSMSCtIdxU9kXst9qLbOLpLJESfP84o3u70R54Ho8Ye1u0kHdEnLS2Ov/1JXmzd1YbWtva2Edb4/Nr6zJ1SIxh43caGjwpbDpf/HzsqC3kZWnXhfAZNy8KmrRHcFyE63fdqcM1gP6PqeIVAqiGgkheptmPK37RFYMnaZU8T8QVg/n8VUxf8Jm0DVYH1GYHK+uofADRfA2bfUDzf3+cD1cKkRKCsrulBgOYsn1Fg80WksnjdrisBtm/ODYMweVzPxJ2pHGdffe9C1EnYaeWbE1euRPgxaV/1pNu6yPMkb5iOsSN6H3EZmVASToovfOUOSAvJnAu+breMCHdEZHIhkpvC4bmITjh11zYy+YgTEJkMi9Q50ORFb9Ubh9rfyBG70Oh0X33m3piWFutfYItW2N8vOmHy+Mz+fnHOm8jWIoCX+fyh9hnRShQCGYSASl5k0GarUJMXgaX1y5YwuOKj8e7frigu/17yeqo8SyQClfXL/vNRb+trFcXlFybSrrIVHwTmrW66mxlfXT6jcGx8LCRWq7fIaAKhQKz2Vn2RWM8Sb23Ljla0Ba12w4Tv+xrMbyXei+SzWOLRzycme8x3TpaOCWP6l7wQLglJCBxo3oORoyeGR6f2liSIbPGQZEd0QuTSayqx5sUnw2N5ozlWhqJtZMPWFlhWB6lByCzwvYqNybejifHI6zFWgGGPBJVWI2k5UgK0BkLYurPNgWKbz29OULgoBDINAZW8yLQdV/EmHQKVa6uuAtHPAPyyorj8a0nnoHJoSBD48StVZ+k6vUDM5QunLlg2JE4oozFFYO6q9beTpt2RtXfHqN/+32nNMVU+BMpKi4yFTKgU05qMTR0v3BdD4MgQm9zfEsLOPeEbihYyzMKaNdgxxG4lhfk57qwTLVhvijO63n6O9CbdkayeNGUWnKoKOT46eXH08Z4u/CnnXWxzhIYJOyO5T+R1SV5ETrJxpoY4bSOxIOzsz6hgSVpI8qJDWnx+c1hvOKXr+zNmIDe3zdgnp4zEOGlcLlxGBn6x9LDBm7a1wAx1JLmYz/M1hv6arueCiksh0B0C6ttAnRcKgQQhULm2+q4x44bfcflRl4ebFu9+pdqr6agBcw0FzbkLZy7cmSB3lJkkR6BybdUyaHSxBnP2DZ4bMnpiQZJvVZ/dK3u5aT4I1cFgaPKTZx+5uc8HJvFCr1t/D6BjxMUReQZG5Wclsbexd42ZsWl7K2QagAgR7qhpMNN5pHF/QdS8biMo+S05sPAQ5K6O4ujkRXecI9FtHdEjS2U6ybSzLgonKKK5T3bv+BCS4DCM9vNVkha7d25Bd0kQZ01/RqWKzu4IZHsCry1gYcvO8KVBo89vuvsLdLqsLynSP09EMnEto8ej9rSfu/YGsO+A05GmWkfS5bxXcfQdAZW86DtWamUaIOAtwsc0ck1iWOOYkU8a2q9cLLRZGvYB2naXFtz03Fo0xTLcxbWLjfz8sUFiPGnp/K1F7gVvVq2uKgjoQsaIXWCeWzF1gZB1KlEI2AhU1i/bBvA/KorLv6ggSQ8E5q5u+jIxfmuFgiesOPPod9IhqpIi/TIiCo90nDgmB9lZ9n1qRkjkjQQTf1DbEDrW/kVREkbA6zaEr6dIXpg4JhvZWfYD9ZQTSaJ4z78Cjz54qz26NZYSOakG4F/5/KHLY6k/lXR5i/T7QXS1+DxyuMv+o6QTgajWkbd8fvMkhY9CIJMQUMmLTNrtDIu1xOM6HYyZxCgG8akATnDmhfcBCpl39zZArxFhrcVYVesPNvThuG6X3FO/7PQQeLW8SUSvMXAbWXwrE4oZmLuouPyPA9Wtjks/BCrXLjsPxH8mxtcWTi3/ZfpFmJkRlb2y4dOw+BlYPG35GUesTRcUSt3GswycL/FkuTQcNjYzRhq2tIWwbVe4XQTQ+Iu++tCj6bKvsYqjxK3/jEBXib6+jkuNle2B6okcySuJimhOjIHq7em47bsDONDa8TSd6BpfQ/CnsbaRKvq8buN1AJ8Qf1M52RVPvJu2HAB3dI4gw/lR4omz0p2cCKjkRXLui/JqYAiQ16N/Aax9BuBPyXStganp4SjCFjBLb+HTPn/oqf7oXlJfXU5AVcQx0tyaC+YbKqYuuKc/utTa9Eegsr5anmTPCgTN2d+cccN/0z/izIhw3kvrz2Kbx8Sa89jMj9WkS9SlRVkngazXuaM1IH+YYRN4prNIm8jmHa2dBItMv/c1Br+UOs2hiwAAIABJREFUzjEPNDZvkX4piOwJWjnZOiaM7p20c6C2YnlcZCuK6HX4MGJpw9G1cWsLQh1knQTttBp/4LV42El2nbOnYJSmGbscPwsnDstIHp3e9klIO6UCo134ov5ek/amX72vEEhmBFTyIpl3R/nWJwS8Hpeb2foqgb4sVYaHOkhI5WTslk4E0gnOB0AS2EKYxRbbREjORcQhdG0H8IhG2kPPNwTkKcEhpXJt9WMglB20iPmeiqkLbujtePV+RiFAlfVVrWA8UjF1wRUZFXmaB3vxy02naITXLMZFK2YW9isBmuzQlLpd1zI4TCw7ZmQWhucaye72gP2TigupvOiQjRaZU1Y2QH4XlEQh4D0Nh0M3NjgvF0zMhZaJzK49nBmRfBcMaqr1B4/I1JOopMiYRYSVEn8mVXH1d7937wtgb3N7pQ4zvlvbaN7RXx1qvUIgVRFQyYtU3TnlN0qKjNKP+CKuA3BBd3DouoacLA1Z8sfQbLbqvl4wCQlbIMgImBYCAQutwVCYkK0bW0+Cca+v0Xyhp22prK9eL1xlPbz/FEJ0S8Xp8/+ttlUhsHTtsnlM/CgBX1pYXP57hUj6IDBvzcZCDlnrGdZXHp/xsTBPRLpEWFrk+jUTX+bEM350NnKzU5Pf4FB7snNvAPvDhHkyGZUvqPGH7HGgSrpHoMRt1BEwXd4dOzILeWmc2OrvOdCFNwX881p/yG6xyUTxFrm+AWK7ZSYvV8fYkalRpZPovWpuMbFjj3Q3S/aCVvgag3MT7YOypxAYKgRU8mKokFd2B4zA7CJXsa7x7cz4bLQSSVAMyzHsC2bJ2sdSAkELB9pCdl+qaTrNhhEWmFYQ0fejyz0r1y07DiYfmpyP8QaDFy+ausBm2FaSuQhU1lfLE/kTLJcx68bTrt6auUikX+RffWlbfrPeuhfAguUzCqvTLcKLL4a+4z3jZRCmSWySLJ4wJjvm38VDiduefUHsaZbhGe1CwM01fvPHQ+lTKtj2Fhk3g/Aj8VV+nyWxpaQdgY1bWxGyOjheM3z0pddt3A1gkeAyKt+FEXmKrLO7z0lb0MKWHeHpNH6f3/Soz5NCIFMQUMmLTNnpNIhz9mwYtM+4ixgLo8ORpziSpc9JEIt5a1sI+1vaExnRQowf1jSatzqvL1lbdQkR9fgEnQiPaYa++PrTrkmL6QNpcKoNWQhVq6tGBA3aA+b7KqYumD9kjijDcUOgrK6JAb59+Ywj7oybkSFUPNudfayGkJR9Hy5u6Bph3OhsZMc4mTwUIUYnLhh8X60/pD6nfdiMc6blHGWa5vvO0knjc+HS1SVoS2sI23Z3kL4SNvgazJ4qNPuAcuov8bpdjwI8TyIZNyrLfhil5GAEpLVZeFI6ZKvPb05UOCkEMgUB9cuRKTud4nF6i/RPQaN7wDguMhTpqZbMvGEMzakcNC2771BK+KJEeDCu9/lN39L6ZUsYXHFQkgP4UcH7E2+fO3duuHE6xbdJuT9IBJasWfZ10vgBBi5UE2gGCWaSHl5W1ySf9yXLZxTenKQuDtqtOW7XdAv83EcTf/NFmVRgyI2IkDWmquzaF4CMswyLIujs91Z63cYzAD4tB+bnGRidn96krn0BKJI7JfrBR1+OT7c1XrchRMZeiUuIXaO/My6/rhpnnxPuTDso/DfX/RN33/aZdIOl23jWf3gg/LrPb0qpcTclwRkBhQoywxAYmju+DANZhTs4BEqLjO8y4VuRWqTsVGZ/x7o1ZKCeCi/G7v3BCPbndk0E3Hb+z3/ySQZmd+j+kEHfWlQ8/xcDtaWOS18EltRX1xDzaLMtb9bNZ16xL30jzdzIyuqadjD48cdnHHF1OqMwe4oxW9MgN6vDnTilf10q5FJNduwOoDmiyo5Ay2v8QfvpsJK+I1Dq0T/HTDZRrSS0Jk/I6TMPVd+tpM5KuW74cGe49B8W9I+v9Le9lzoRxN5Tr9uoB2C3QMjI5ehrPEleTDvrIvz2/grICNtMlg1bWmB1zEu1LHP0ynXYncl4qNgzBwGVvMicvU65SC/wYFgzG78FcJHjvFzwyAi+ZL0AFhK3XfuCEMJPRyYXFwWnXHnpWgbdduPUcptFW4lCIBqBu1ZXFRgGNTHR3Ys8829SCKUnAmWrm/4DC6uXzyxM+7Ga3inGTNLwBwYmObs5Is/AqBR54i6VdTv3BCD95Z3Cv/L5Q5en59kZ/6i8bsMPoEgsyQMI+ZOpsm13AC3hpBg94vMHL81ULJy4vR7jX2CcLP+eNC7XJlqPFJW86EQjcryupZuTVq7Fh5l+/qj4MwMBlbzIjH1OuShLp+YcjZC5nIFix/lhObpdZqoneZ+sjFoV9vCIMXpSy/eSSebcFxuwOeU2QzmcEASW1ldVMGgJE85d5Cn/e0KMKiMJR6CsbkMDmDctn1nY7ZSkhDsUZ4MlxdnHkxUSzh+3Yyo7S7O/y5Olcq47CPZJInpvB5u/s4Bwl6/BvCXOkKW1+pIi/TIiap+0Q8Dh43KT/jc9HhvSGghh684Orgu73p+Ka/3BhnjYSiWdXrfxJoATB5u8uPHOpzGp8OPYsbUJx554ug1Ba8v+LhUbF375Npx38fUwjPb2pffeegUFR56M5/54P5565E6ceNrZuLLiAYweOzkMYaQOx4YZDGD8YUfaazatfxt/XvETXHpNJXJy24vOXnjuN3j43vKwjjt/+gomH3GC/W/TDOAvK+6x7YnM9M7rcmy0z5F7uXFbS3gKns7m4f9oxKZU2mvlq0JgoAio5MVAkVPHxQ2B2cVZn9Cs0J8AOtoxMmK4C6NS7AlN5Bzujgu1NwD9s76Gtv/EDTylOGURqGxYtoaYA3v37Zi9uGTxwUywKRuZcjwSgbK6Jh+Y9eUzj5iVKcjMno0cbZ/rITBfEhlzMj55l6lSe/YHuySf27+/6UpfQ1C1+8XgpPUWGa84E2nyhukYOyLzJo9s2dmKtoBT0cMP+/yhr8YA2pRX4XUbrwI4VQIZTOWFJBZOmjILDgeGk4hoad6L264+PZwkeP+dBpsjw0kaGK6scDJBkgwisj4ysbBz2wb7tWgbTjJEkhlOW4usOfp4j/3vXTs22ckQxwfRKZUkYlsSGG+//qL9/uamd8O8HdE+RG7whq0tsKz2Kt8gmxNebMS2lD8BVAAKgT4goJIXfQBJLUkcAqVFWScx8V8BPsKxOmZkNoanYJ+0+L+vxcQuZxZ3e0DvWJZx7sp1rf9NHKrKUrIjsGR11UlkkIzL/e6i4gV3JLu/yr+BIzC3rulJYhy1fGahXTqfSVJaZCxkQmVkzFIWPiJv6FsBzZBlE3JKxUUXIVpjWbh2ZWNQevGVxACBEo9+PjE966iSsanCY5UpIiTf8nCjQ5h049iata3hSSyZgkN3cXrdxssAZsh7h43JQVZW15H3hyLsjK6KcJIGDjeGUynxYOVV+PTcRXZlhvz/W6++YLsSmUhwKiGifYxMJkQmJsSGkyCJTD5EtrlMnHwMvOdfgUcfvLULX4ej06nYcBIqvZ0HkZwXeWTmPdOATgbP3g5W7ysEUhgBlbxI4c1LN9c/WYTJITJ8AI4PX9SMykZuTmpf1Mg41e27u5QfNwaCZulLr2NXuu2himdgCCypr/qOBu1blobZi9zz26+klKQlAmV1Gx4CW7OWzzzimLQMsJegvB6XG8x3OxMFnOUuQ7MnUMgEqURK0GTsPxA8OGkB4NjzPonjLzr/igr3/IcS6VMm2PK6Xb8B2OZ4kGlhk8bmgjLgilR4VDZv7yTpZMKttQ3mDzNhz/sSY6nbeJaB82Vtd0mtvnJeRCYqnORE5Gtf/oZ8BXVWVcj/S+XEOZ+7Jtw24vjrVFg4/5bWEKfyIjIB0lvy4vhTzuhxUkqkTqkYETlUy4jwqjVtCY9KbfX5zdy+4KvWKATSAYEM+KlIh23KjBi8buOfAM52ou1uTFaqIhGdwCDg7zV+89xUjUf5HVsEltQvexvETYs85Z+MrWalLdkQmFe3YSmDL10+o3B8svmWSH+8HtfVH1Hl3wHCxEi7ukYQfqO8XCNunBhSaH2gxcSB1tDB7SHtzjwLojvOf6ByCYi0Ck+5My0qkRClta3ZU3GYFjL+BWCsBCr7PXZk+o9O/XBHK6Q1qUNe9vnNM9J6o/sZXIlH/wUxXSGHjRmRheHDuiYzE5m8cLgpIpMI0ZUX/UlenFH6xXALSW+TUiK5L7pLYpgmY9P29uQFEX9Q0xAKt1n3E3K1XCGQcgio5EXKbVl6Oux16w8BFGZwHz8qC7k5iX0CF29km1tM7IhoIWHwfbX+0Px421X6kxuBe+qXnR4Cr2bgm4uKy3+U3N4q7waLwNy6pjsIfGtua2jkr0qO6nwEO1jFKXi8zYWx17gZwEIAI6JDkJYSaSfIztKR7dKgaQO/ZJGLfSFJbAlYaG01hUS5O3mRmZfUNoaeljeX1FeXE1AFXTujouhaKWdXEkMESt36lxj0iKNSJonlR92sxtDckKvauTcAmUjmiMU0VbUjdd2WEo/xLWJ8V16VSiwh9o2UWCUvemsb2bLpPzZx5poXnwyTbUbzZkRXd/Sl8sLht+ipLSX6JHWSGJF+yBohhN+2q53wlRkraxvNkiE/wZUDCoEEITDwK4EEOajMpD8CJR7XAmK+14m0u2x7uqAQ1esKYvpaTWPwl+kSn4rj0AhUrlt2HJl8kWlpf7tp2rXrZPXShuqlYFxlWaHZi6Zdv1ZhmN4IlK1uug6MewJW28Snzjh2a3pH27fozjkVeUHDuIYIXwPjuJ6OkmSGS9ftNgNDJ3tKBRFBchqSjCAGLDCsECNkAcGQBUlaSKl+qIPYrjvdzPgTgR/wNYb+Gvl+1atVBWaQVjHRXys887/Rt2jUqv4gUFpk3MuEBc4x40ZlYViaPbiQ2PY0B7FnXzAMDYHm1/iD9/UHq0xYW1qkz2OiRyVWaRkeP6ormWuskhcyQUSSEz0RdjrJi0j+CacSY6BtIw5hp8TmcG04yQmxs6rm9118knU9xdt1GhI/6POHvp4J54eKUSEgCKjkhToPhhSBOcWuIstimftuS3eZ9iF1MA7Gd+5pw/6WkKO5jUL6qTWvtv07DqaUyiREoLK+uv2hL+FpWFwLwk3MWv2iqfM/k4TuKpdijMDcug3/j8C/shgfXzGz8L0Yq095dSVT9PM00sqY+EL5SYhjQK8y4wkm/dGV/rYe92FpQ/U9zPg65eYWLDz5azvj6E/GqvZ6jOfACLfMpVPLqGyqVFtI1YUjBL6/xh+6NmM3/BCBt0+bs16XJYauYfL4nC6rD0XYKQt7SizIe9GVEr2NSo1+X3Tv3rkl3PohbSD9aRuJJPWMHL/qTEQRH6NtRo9SdcDYsacNzR3XkUx0XW1DsEqdTwqBTEFAJS8yZaeTNE6v2ybotMvdsrM0TBzT9YcqSd0etFtRfa/P+vzmBYNWqhSkBALh5EWEt0R4HsDvkRP808KTF6obpJTYyYE5WbZ642fB1h+BkGf5jCPDiduBaUvvo0rdxrkMlAI4C0D7vMKBi1S5vAzQP4npuZrGwJt9UXX32urZGqEWRDdUeObf05dj1Jr+IXDOqZhgGjbn1QlypBB3ClljTlZqk3VLLPtbTOzsOnFM/d73cnp43cZ+oUGRZYePz4Gud5040r+zq++rJXHQ3TSQvmtI3MrN21sgZMMiFuGslQ3mS4mzriwpBIYWAZW8GFr8M9q6t8hVDuJwtviwsTlxI2hLNqBlvrvMeXeEma6obQwqRvtk26g4+FNZX70FwITuVVMrYD3BhL9qOeZfVSIjDhswxCrn1TXNZqCWgJLHZhSuHGJ3Usa8xwPXGMt1WgjWiSA6hokLiElIT0eBkSPdIwwEGWgm0E5i/vCjquv/MfG7huH613NrWj8YaLBL6qufJWByRXG5e6A61HGHRkCeuJNlPUfAJDuBIUyeo7MxLIVHqMro3V2dI1GlteklHmF+cuVKZDTXTW+fBW+R8RyovRJHSFyFzDXW0tOY05bmvfYkkWSWUIixcVt40og59hgzZ8UKhMt5k9l35ZtCIBYIqORFLFBUOvqNwBwPRlow3gdjjBw8Mt+FkXmufutJ5QN27w9i7/72HlgCNYVGBI9euRKdbF6pHJzyvUcEKhuqV4LRPgute/GzRhctcs//n4Ix/RC4eNWGKZrGjQT+7GMzjrCJIZUkNwJL11ZfwYRfEGmfWui59m/J7W3qeje7yFWsgZ+NnECTqiSekrSQ5EWE1LnazE///Q2oyrpeTtFSt3ErA3fKsnhOoXE4LBx3nJaTZP8ESduxtB+LMPB8rd9UU8qSfdOUfzFFQCUvYgqnUtZXBLwe40dgCMs8hIRt0rjMHFG9aVsrTGGWa2eM/nZto/m9vmKo1qUmApVrq34Goqu69Z7wT8sw5t542tWKyDE1t7dXr+fVbT6SYX7AhEsfn14YnrTQ64FqwZAhsPSNpWO4xbUKQGNFcfkXh8yRDDBcUuQ6jch6AqBjnHBTiQvLstieKibTICKkJttlXvTXV7A3A7Zw0CGWTnFNZY3XiCKZMFQwITOvD3sCcvvuAA60tifGGLip1m/ePWjQlQKFQAohoJIXKbRZ6eJq6emYyEFjIwC7oXXcyCwMi0NZYCrg1XwghB172zPoH40L3GuY5uTnXkNzKviufBwYAuHxiwcf/qzL5C8tmL5AXeAODNqUOOqLL/5vdMjQdoL42uXTj7g/JZxWTqKyvvoHAL6p6cZRNxRd/V8FSfwQmOPBEZZl/B6EMxwrWS4NMolM/k5WaWk1sXNfEFLW7wiBflfjD345WX1OVr+8bv1dgI4V/4T/REYmKwEsZmzYEm4ZgUXaiSsbAm8rbBQCmYSASl5k0m4nSaxej/E9MG4XdzKJpLMn+LuQdzJu8TWadyXJVik34oBAZf29JYAmRLWR8uhwZP2/q4qv6pylFwfbSmUSIMBMZas3yETPby6fWfijJPBIudAHBO5pvG9qKGStItD3FxbP/24fDlFLBomA160/BNDlkWpGDHdh1PDkajGVZMWe/YHIKWKOy9/x+c3Fg4QhIw+PrM6V0bkyQlcJsK/FxK5OAtg6n9+cqXBRCGQaAip5kWk7ngTxet2GlMQL0Zr9g5SOM937A3OX/kXiD2obQkf353i1Nv4IzJ4Nw9jvOoVD1vGWRkcR82SQNhbMMsrRuaoKgGkvgbczsImJPwBr79Q2Bl9rr+5slyX1D4wjBLZ1ek2/qCief2X8o1AWkgWBsromJuYfPjbziFuTxSflR+8IVNZXPw7AXVFcbj8RVhJ/BErdrmsZvCzSkm4QRg3LQt6woX0aL1/q+5qD2LM/KG2fEV/p2MAhnl+7LvSn+COUnhZK3VmnMqxXnegOn5ADXUveqptE7ULXSXVU7vMHu3w2EuWHsqMQGEoEVPJiKNHPQNslRfplRPRrCd2lEyaNV72MgoUwR3eWmvJFPn/oqQw8PZIm5ItPQtb2bP1cIpIxvlK6XNxBgD8QH6WIeC0J07zFtbPWhf6WX1/d3hDNWFYxtbx8IErVMamLQFld025mPPL4zML5qRtF5nm+ZG3VJUT0eyIqW+iZL4kMJQlAQCaR6Ja1hIH/izQnfFn5w1wYPiz20ygOFZaU7u8/YNqEnCErMmthf6k/HAiGKl56HbsSAE1am/B6jOfA7VNHhNBdiN0zWYRHZduucJtxW1uuOX7VKuzLZExU7JmJgEpeZOa+D1nUJW7jrwScKw6MyndhRIZNGOkJ+MjJI2Ba4WsMzh2yTcpgwyVufS4RXQzGZyW/FicoWiZPc+eOOKLgj/ff+uSFcbKh1CYxAvPqNvyXmV9YPrPwsiR2U7kWhcDi2odz8vP3ryJg88Li8k8rgBKLgNftuvIjaus7ABweaVnXCHm5ul3FGU9ODLl5FF6L/a2hiFq6sCcNBF5c4w89m1hU0tfanCL98xbRHyRCIsLh43NsAs9Mla0729AaCBPB3uvzm9dnKhYq7sxGIHO/BTJ734ck+g6izg8d4/JDpOuqDFDwCJqMzdvDJExsmGa+Iu5MzGkq5HBsGd9gDV8FY2JPVg2d4DI0yN+GoUEqWDUiUMe3qJQNMzPMEGBZFoIhhhls/7tHYWwA4ZeWbv5s5VqEPxuJiVxZGSoEyuqaXgXjg+UzCz83VD4ouwNDYGn9stsZ/D2d9NOu91wjLWFKEoiAxwPXCMu4hQgL5RlItGmpxhByx5wsHVlZmv0dPVCRasg2M4TWNgutrRZMq30yWJS8y6Altf7gzwdqRx3XMwJet1EPwCMrkpHvJFF719Iawrbd4aoLgPRjfQ1t/0mUfWVHIZBMCAz8Wz2ZolC+pAQCpUWuK5j4F+KsXFhMGJOdEn4nysnIXkYGl9X6Q6osOY7gz56CI3VNv5FB13RnRp7gCaFsrlwEuyRZMbCvSxmd1xa07CcmbW0hBMwekxn3uMj88d8bsDmOYSvVSYBA2ctN/wQhtHxGoTcJ3FEu9AOBpeuWncwmr2LQLxYVz1/Uj0PV0hgiMGMGcnMDxrUfdV1eCcZxPamWhLN8fxsGwdAIuk4dSef273P5Npaks3xPWyEgKIlnkxE0QzB7/q6WQ+sA+rnPH/xVDMNSqqIQKC3S5zHRo87Lk8fl2nuZabJlR6t9HdEuvMznD6l200w7CVS8YQQy7xtAbf6QIVDqdj0mN+XiwOj8LMjsdiWdCAjpl/yxf5qIf1nbEPqawicuCJDXY3zXmXgTaUF4WGRsr5QfyxO8eEggaOFAa8j+Y4a6PskjIMCM7/kaze/Hw7bSmRwIzK3b8CeCdfjyGUcIl4qSFEOgsmHZw2A+f1/uxILFJ88NpJj7aeduiUc/n1grA/giAHlxDHATiJ8gix6taTTr4mhHqY5AwOs2agDYid7cHB3jR2XWg6+9zSZ27wt/zbQGyTz6RfWQQ31GMhiB+FydZzCgKvSeEfC6DXmifJismDQuxy7BV9KJgGTVJbveLvyezx/6uMIntgh43fqFBLqLgS7YSiXQ8GHtPdOJlOYW0yZ+63yiErb+LzDf5GsM/TWR/ihbiUGgbPWGX4N5xvIZhT0+MU6MJ8rKQBC4e+29n9VI+yODrlxUPN+uJlSSFAhQiUc/j5jmADhbJsMM0it5mrAahH/Cwj98jeYLg9SnDh8AAnM8xpkW40Xn0DEjszE8d2gnzQwgjAEdEtVSLJVCN9X6zbsHpEwdpBBIEwRU8iJNNjLZwygpzj6erNDb4qeU3xdMUFNGutuzpi0HwiPXdDYP/0cjNiX73qaKfyVufRmBpMw4LNIWIqSx0iM9lCJEcFJ1I1UZXYRR6Ws0VWn6UG5OHGyX1TVVATx3+Ywj7GSuktRDoLK+6kWAuKK4XG6SlSQhAuecirxgljGFLDoJxMfAokImnqABo5iQC4Z88ZtgHGDCTjBt0cDrGfwuNO0NX0OwMXLMdRKGmDEulXqMSmab58TmmTpsbG7cqiOTCdStO1vRGghfF7zs85sy/UyJQiCjEVDJi4ze/sQFH9m3mJOtY8LozCr76yvSkT9UBL5AMZf3Fbme18m8eAvWL6l93Kktwk4/Mj8r6Z7eSBXGrn1Buwc7Ql7ULf2Kf6xre3fwaCgNyYDA3Jc3fJeIF410bRn58+Li9l4xJSmFQGX9soUAVzK0sxYVX/tSSjmvnFUIpCACXrchBLmniOvy4GHimJwUjKLvLkuriLSMOMJE02sbgq/0XYNaqRBITwRU8iI99zXpovK6Denhv00ckyfdMiZVycEI7NoXsGfH28K4xddo3qVwGjgCpR79c8z0SGQfdF6ugdH5rgETcA7cm74dKQz3ksA40Np50QJgOwNfrvWbf++bFrUqmREoq9tg3/gGNBr31OkFO5LZV+Vb9wjc/Wr1UVoQqwA8W1Fc/nWFk0JAIRBfBErdxlkMhFt38obpGDsiPR+E7WsxsWtPJ50OMRbVNJqV8UVYaVcIpAYCKnmRGvuU8l5GknWOHZkFuYFUcjAC++TJ+96OHyzmX/gaQ1cqnAaGgNftuhLgLuPrxozIwvBhqXHudTkXOiAg8KU1/pAkY5SkMALzVm/8KrP1S0sLHb3i9CM/SOFQMtr1pfXV9zFwBSOrYFHxVdszGgwVvEIgAQh4i1zlIK5yTKXj+FR5cLF9dyQPMP3W5w9elgB4lQmFQEogoJIXKbFNqe9kiduoI2C6RDJxbA6yXYqss7tdbW0LYeuujlnebBOEnZP6u5/4CEo8rgXEfK9j2dAJY0dm26WmqSQyXlUuYmSMX1iIrvQ1BBVJYCptZJSvc1c1fZ40/AEaTVl+esGrKRxKRrv+E3/VHMuifwBUUVE8f2lGg6GCVwgkCIGSIuNeIixwzI3Md2FkXnpU87YEQti2s+MaUPg9gJdq/Kbw6vQ4Yz1BsCszCoGkQUAlL5JmK9LbkVKP/j4zHSVRTh6fC7mZjIVcfl01zj7n4IR0a8t+/Pb+CrzseywWZmwdd/60vdXwtqtPj5nOaEVC2PhheOIIXvP5zdPiZixNFXs9rqvBfL8TXlaWhnEjs2DoqZW4cPw3Tcb2PW1dyDyJ+Cs1DaFfp+kWpn1Y817eUMrEz5PGZz92+hFhFv20DzwNA6ysr/o7QBMrisunpGF4KiSFQFIi4HW7HgV4XjiBMdyFkcNTO4EhxN3bnIdX7YG9g5BZ6nsVG5NyE5RTCoEhQiA2d5BD5LwymzoIeN3GLgCjxGOZNCITR2IhkryYdtZFByUqbrzzaRz3iRn4y4p78NQjd8bCVEJ0mJaFTVs7xqUyNvgazcKEGE4TI6VuvYxB4YyVjEAdPzoLJPTkKSwhi+2Lmq7TSPgzPn/omRQOK2Ndv3j1Jo/GoXqy6NOPnVHw54wFIg0CX1Jf/Q0Cfgqm8yumzv9LGoSkQlAIpAQCXrfxJwCfcZzNH2Zg9IislPA92sn9LSHs3NNZcQHQ/zTQp573B95KyYDbjjezAAAgAElEQVSU0wqBOCKQ2lf0cQRGqY4tAl63IQ18dlq88LBhUgoXE+kpeSHKpVIiN28EHqy8Cm+9mhrj2dliNG1taceGsdPXaI6NCVAZoGSO2zXdAguBnl1iIS0i40dnQ0vxxIWzdd0kMPYRtDNr/AFhYFeSQgiU1W85BsHAe8z8xcdnHvFoCrmuXI1C4J7V90wMGfoqMOorppaHnwQroBQCCoH4I+B1G08AuMixNCxHh3BbxeoBWfwjAHbvC2Jvc+fQKQLetULahbWvBt5IhH1lQyGQagjE6h4y1eJW/iYYAa/bkEHV9vl2xGHDYmb9UMmLC798G8753DV47o/3h6svottM3lz3T9x922dw4mln48qKB7C56V37345E6j//4hvsl6VtRCo7xh/2MRiuLIweOxmOnsEGZjFjw5aO5AWw1+c3Rw5WZyYcf8bxyM/OM9YAOEHidRlkj1FLpQuYvuyTGWJs3dkGMxSe+97g85vTAIRf6IsetWZoEbikdtM4Kye0DUzfWD6z4IGh9UZZHywClfXVdwNYpLF+zA1Tr3l/sPrU8QoBhUDfESjx6L8gpiucIwyDMCY/CznZet+VDMFK+T3fuTcA4TqLkFfAZpmvEf8bApeUSYVASiCgkhcpsU2p76TXbUha2R7zkKjkxUzvPFx6TSXWvPgkHr633E44HH28J9xi4rz//jsNdsIi+n3xNZLnIvL/Ze1JU2bhhed+Y+uOlQgx4wan8gLY5fObY2KlO531lLhdjxD4SxKjFFocNjYHLiM1OS5626e2oIUtnbwoIPDPa/yhq3o7Tr2fPAjMrmVjYs6GIBg3LZ9ZKDe+SlIYgcrG+2YiZEn1xXcqppYvTuFQlOsKgZREoNRjfJsZ34l0Pj/PwKj8rJhV+sYSGBmFuntvEMydPJwMWr6lNXjZm28ictRILM0qXQqBtEBAJS/SYhuTPwiv29gLIF88LZiYG7NS/kNVXkQmL1avXGFXVrze8HyXZEPk8eJbZLIjOvkRnbyITITEagdCIcbGbeHKi00+v3l4rHSnqx6vx/U1MD/oxDd2VBbyclJjHOpA92R/i4mdETPgwfxFX2NItR8MFNA4Hzd31f8Wk6YPB2E4gUcwQyqqzmPwSwQaCcIoWBhNROsem1FwVpzdUerjgEBlw7InwTylorj86DioVyoVAgqBXhAoKdI/T0Q/AzDOWSrk8DKNJFmuCdoCFvbsD0ImiUXJ7T6/mToEbepsVAgMIQIqeTGE4GeS6VK3az2DbfLJw8fnQI/R5Ie+Ji/eeX2VnZjIyR1+EOyRk0kiExTRuqOTF5MKPx5zPo2gydi8PZy8eNPnN0/OpPOkv7HOnorDtJDxNmDfDCKVCbv6G/uOvW1oPhC+ANpotZonrHwT+/urR61PDAJldU3NAA7ZM8eESx+fXvhIYjxSVmKJQOXaqstA9GtiumTh1PmxG3MVSyeVLoVAmiPgPQ2Hs27cS8DnI0OVqWMjhxnIHaIHG0K2vfeAiQMtZvQOvEaE62sazNo03xoVnkIgZgio5EXMoFSKDoWA123UA/DImoljc5Dtik1Jf2+cF97zr8CjD96KiZOPwXkXX2+PTj1Um0c0x8XunVvCHBiJSF5EjspixsraRrNEnVk9IxDZ6yo8F5PG5WYMXMKPsnl7G0Kd/Bf3+vzm9RkDQIoFWrZ64zywdajqmI3LZxQWpFhYyt0OBO566a58I2fYKiJsWOgpP08BoxBQCAwdAl636ysAf1+el3VJYrg05OUaGJ6rJ2QK2YFW037I0HJwpYWwwH3f12B+a+hQUpYVAqmJgEpepOa+pZzXXrfxFIDPiePjRmVhWIyy371NGxF7QrAZzW/RE4DOug3/fQMFR57chewzEckL+ZGTJ+rtQr/1+YOXpdxmJ8jh2R7jTI3xomNOJovkJjlBV6yhaW4xsSOifcSyqGjluuC6WNtR+mKDQFldkx9AUXfaGPStx2cUyMW2khRFYEl91XcI9O2QpRXdNO1a9TlM0X1UbqcHArOPRI42xrgdwC0AurJ3EjAs20ButmZfN8SS3FtaQuRB1IGWEGRKWLQw6Hc66E41BjU9zjMVReIRUMmLxGOekRa9bsNmY5fgRw532X9iIT0lL4RQ87hPzMBfVtwTnjTS3WvdjVN1yDh37djUpS0kEcmL3fsC2NscLitc7PObXQioYoFZuujwuo1nAHxa4hmWa2DcyNSc7z7Y/di2q82+UGoXesznD14yWJ3q+PggcPHq/52psRZOuEVaWT69QAPRwVe68XFFaY0DAj9pvG8Kh6xVFuOBRVPLF8bBhFKpEFAI9BMBu73UMq4H4xqHey1ahbSVSEVwlvwxNAhXBvVhzHowxDCDFgKmBSHTFk6LSBLOSDuStCANVb76oExGU6IQUAgMEAGVvBggcOqw/iFQUuT6KhH/0r7RzDHs6otYSPToU0dnJI9FpB0nMeG8Fp2gkNdlxKq0mPz7X3VdxqYmInmxdVdb59gs4rm+htCKWOCUbjpKioxZRFjpxCXtItI2kokSCFj4cGdrZ+hEHl9DUJ7wK0lCBMrq1j8K0LwuF7XMDz0+84jwqL8kdFu51EcEKuuXPcLgc/fvG16wuOTyiA9mHxWoZQoBhUBcEJg9Gzn6XtcVAH+Zgem9GdE1gqbBrsqQ/0RY/mPAshA5svwQqvi/AP0OpD/sa2j7T2821fsKAYVA7whk5tV+77ioFTFGYE6xq8iy2L6h0nXC4eMzh5ugP1Bu3NoSLjM0Lf24F9a1vduf4zNlrdftWg7wXIlXelfHjMzOlNC7jXP77gCkt9a+uCL+ZW1D6GsZDUgSB3/xy03HaoQun2vLpX9sRfHk9UnstnKtjwgsWVv1BSJawRZdtWja/J/38TC1TCGgEEggAnM8WadYlvVZED4FYGaMTQuJ+N8BPO3zm74Y61bqFAIZj4BKXmT8KZA4ALxuY5/ca4pFSV5IEkNJJwJB08Lm7eEHdR/6/OYkhc/BCJROzTmaQ2b4CcaksTlwxYgANlXxllLVLRHVF0E2J7zYiG2pGk+6+z335fV3E5HdRgfw88tnHPHJdI85U+J7/PHH9fVHb1lFgFlRXH5mpsSt4lQIpCoCZ56C0dku/QyLaaqm4TS2cCIIMvK415nrBGqywO98NN3kdQI36Ibr5efWtH6QqlgovxUCqYCAuntMhV1KEx+9HuPPYNgs7PKkXJ6YK+lEQLguhPOiXehxnz9YpvA5GAGv27jjo1cXyztCtCVEnUpgJy8kiWHfDoMW1vqDP1G4JCcCl776YV7gQHCrdNExtDMfn3H4quT0VHk1EAQq65fdDPCP2KJZi6bNf2EgOtQxCgGFwNAiIFwZ4KxxmmmNIB3ZzBAWjCBptB8c3LEL2NzQgODQeqmsKwQyDwGVvMi8PR+yiEvcrhsIvNS+6czRMX6UuumM3IwufBegr/v8wQeHbLOS2LDXbbwJ4ERxUUg6haxTCbC/xcTOzskjr/j8Zq89vQq3xCDg8cA1KuSaAt06iUHHkkWF2sSjTqfs3I+ZTW+8C4IORoiBAwTsAngLM60n8HvQtDd8DfYEmfbMlJKkR6DylWXHQbdWAfSniuJy1cKV9DumHFQIKAQUAgqBVEFAJS9SZafSwM+S4uzjyQpJL6AtBRNzofWBzTkNQu81hFCIsXFbS+e6kFngexUbez0wwxbMLnIVa8RrJWxhAi+cqLhTnFPAYsaGLZ3nEBn68TVr2v6dYadI0oRbWmTMYQ1zmDGL+kAO14vjJgOrCfgnM/5R22j+M2kCVY50i0BlfbXwXXzFajMKbjzjaqmyUaIQUAgoBBQCCgGFwCARUMmLQQKoDu8fAl63sRrA6XLUmBFZGD5MPTUXLPY1m9jV0TJCwPM1flP1wHdzapV4jG8R47vyVl6ugbEZOh61p09d1NjUG3z+4D39+4Sq1YNBoKTIKCXwPIAuAmHMYHT1cuyHBH5SRuPW+M1uR6/G0bZS3QcEfuKv/pRl4S8AbqwoLl/Sh0PUEoWAQkAhoBBQCCgEekFAJS/UKZJQBLxu1/UA27342VkaJo7JSaj9ZDUmRJ1C2GkL0ZW+huAvktXXofTL6zZkPOos8UESF5LAUNKJwP4DJnbudXhT8KzPb16g8Ik/AqVu17UM/jqAU3uyZhiELEOHSyfohgZDA0hG8YWrzxhsASFmhDrG8JkmI2CGIH8fQtaC6OfqOyP++9xfC5X1VT6AxlUUl/d4XvRXp1qvEFAIKAQUAgqBTEZAJS8yefeHIPb/m4ExwTZju9yii/mJY7KRnZXZxJ0tbSHIE/MO2Te21Ry34k2E70CHYJuS0qTNG8BGKwOaOHj4hFzIHHYlnQgETcbm7eHWkT0+vzlK4RM/BEo9RoXFqCDgoMlAkqTIydaRk6XbiVptEOeqZTFaAyG0tVloCVgwJbsRJUT8AVirrPEH74tfxEpzfxBYUl9dTkAViC6o8Mx/tj/HqrUKAYWAQkAhoBBQCByMgLryV2dFwhEoces/I9BVYlgRdwJbd7bZNya2ECp9DWbHCMWEb01SG/ROMWZCgz2VwWUQJo1TfBfdbdimra0wrfabW420U59vCLye1Bubgs6VePQvEpNMvPl4pPtSRZGXq2NYjmEnLOIlbYEQmltDaG4xwQcXZbz20byZxT5/6Kl42Vd6+4bAXaurCgyD5DvrlYri8rl9O0qtUggoBBQCCgGFgEKgJwRU8kKdGwlHYI4n6xSLrdccw5lcfRFVdQHDMI5WM8K7PyW9HtfVYL5f3lV8Fz1/bCN5Lwh8aY0/9EjCP+RpavDsU3OOMgxT+AsuigxRqizy81z2eZlIDmIhad1/IIT9zWY4YeX4xaDfaa5gRc0r2JKm25ESYS2tr76HgeuItI8v9Fz7Xko4rZxUCCgEFAIKAYVAkiKgkhdJujHp7lZJketXH5U5/z+JU0qrJ4zOzLGpH+5oRSDY/pScwffV+kPz033vBxqf16NXgalcjh+Vn4UReYrvojss9+wPQv60n1P4Qa3fvG2gmKvjOhHwul1fAbgawHDnVWlbGpHnQn4SnIt7m03s3R+EJDQiZBuD59f6Q4+rvRwaBJb6q2axRcLV872K4vJvD40XyqpCQCGgEFAIKATSAwGVvEiPfUy5KGZ7sk7Q2HrLcXzMyGwMz80s7ovICSMATMtlHrXyFWxIuc1MkMPeIuPPIJwn5saPzkZudmadL32FWVoJduxxKFPoMZ8/eElfj1XrukcgMnHmrJCExajhLntkb7JIyGI7cSXErV2EcJevwbwlWfzMND8q66ufAXBKRXH5kZkWu4pXIaAQUAgoBBQCsUQgea66YhmV0pUSCHiLjB+CYF9QyxPMw8bmQNcz45Q0Q+3EiuGHpIxv+RrN76fExg2Rk1638aozzUHOlSxX/DgFhijEmJgVPoQtO9sJYBl4qdZvnhUTxRmo5MxTMNrlMn5PwLlO+MK3MnpElk3Emawi7WgydSYU6qzCIOCJMa3mFxUZcOJ37e611VdohF8Q8KWFxeW/T7wHyqJCQCGgEFAIKATSA4HMuFNMj71Kxyg0r8d4C4zjJDghuRs3Kisd4zwopkheAgCNPr/pzojABxFkqdvYxB1THQ4fnxtOdJ142tm4suIBjB47Oay9tWU/fnt/BV72PdZni3f+9BV77W1Xnx4+xtGdO2xEv/X12XCMF8pYzU2dE0fe8fnNE2JsIiPUlU7NORqW+QQzpjgBS3XY6JHZ7aOSklykfWTXniCaWyOqMBirKGh+vuZfigcjkdu39OWlYzjLJcSd/6soLg8nwhLpg7KlEFAIKAQUAgqBdEAgFa7B0gFnFUMPCHjd+gUAPe28PTo/Kyn6x+O5YZGcBB12Sn1+0xdPm+mg2+s2miXHJbEUTsy1y/Uvv64aZ59zGd5c90/cfdtnwmHeeOfTOGnKLLzw3G/w8L02TUav0l3yQvRPO+uilElcSJDSOrBxa3hc6oc+v3nQGM9ewcjwBSXF2cdrVugZjpgmkqo8K7v3B20uDEeIsI5N89O+V7Exw7c5oeFX1lf/AMA3QyDPTcX/v70zAY+sKvP+/9x7qypLJ53e6RZwZBFEG0ilwWk2O5WmlWER8YMPFGEc9WNgbIUBZhG/0dFPR0daARFxGFyAUQQHUKBRplNpQEShUwFmAJHFBWjovbMnVffe8/He5FbfVFcnVUlVavuf58mjXXXuOe/7O5dU7r/e5ZOJWd2cm5EACZAACZBAlRCgeFElB1nJbsRarauhcLnvQzXXMxgasbF9t1+PAJI28oWuHvtzlXx+s2V7R9SSIHgvV+SAJQ04vuNcfOSSdXj5+e4JwoVvjwgYSw84FDetuwjPPfXwlGZmEy+mvKgMJ7iuxqt7xIvd8YQ9rwzNLFuTVrfhQFdbDwI4zDdywdyw10mkUofUwJA0ksDoDkXsNb94DDsr1adKs/vqx791jDLcRzVwwxUr1l5aafbTXhIgARIgARIoBwIUL8rhFGgDYlGrE0BMUBhKYcmCCEJWddU0GE252LpjROoQ+OO+eMI+ncefG4FY1EqjO3C/Bi/qIp+oCD9KI7hbMGIjU7yQfy87cE/GhW0nsf7Oa3D3bV/CB86/CmvOvASv/uEZHPKOsTST4Pvy71zSWfwIEZkvqS5bNr+E5pZFOQsu2chprfHKlnTkRV88Yc/NjTBnrVqFOqPXeggKx/o0qkVMnVjI1fOuM56wV/PUZ4/A1zdd/2MX+uQBhPf//IqLhmZvZ+5EAiRAAiRAAtVBgOJFdZxjxXsh33ZqHfqlhj5AnDEthSUtdbCs6rhFpR2q1LmQkP7x8byr7BM2dmN7xR/eLDkQi1ry1XFItjtgvwZ8OUuNin2Z4osND95zgyc+yBDh4O3vWpkWJILiRWbUhi9EyHUSyXH48hPxF2dfCjuVTKeUyDUHHdaW/nemGHJcbCxSZOe2V726GiKmyGu+IOKLK7t2bJ6ReJERebEjnrAXztIRVfw2HVHrJxr4oO+I1OCRWjzVMjIFDK3VD7p6Un9ZLf6Vux9fT1x/rnb1jzRw8RUr1t5Y7vbSPhIgARIgARIoNwLV8WRYblRpz7QIrGqzTjA0pPaD94AqwsXiKhAwRLiQVBHbcX0uvVAqFu9OMe85jzslFrUkxN1Lgdh/ST3+5cbHvauDBTaDkQzyXmY0RHC7TEFjqrSRoKDhixdSENSvqeELHK+/8kLWNBbZ29/jthuv9IqMZs6V9+sbm2ckXkgnm83b/MgL9cd4IsX2jDncZ7E264vQ+Kw/dUFzBI0N5dtRJAeXsk7pH7KxK5BCooG/70rY/zrd9Xhd7gQ+3/X5uqamBY9qjdErjll7XO5XciYJkAAJkAAJkIAQoHjB+6CsCHREzdM01L2+UdI6deHcCCLhykwhGUk62L4rCan8Pz5srfG+rh5b0mQ48iAQi5ovAupguWTZwnp89aa9xYvJxAl5z49+qKuf400Nihv7KtgpBUH94UdFiHghaSPBSA6Zk22NTEFl859+i/vv/IYXhfH4I3dNKCiab52ObPgkPWnLjhH/LXayyeEey/y90zwnhJY5noZalWN3fxJ9g3u6kGiNVV099kNV6WyZOXX1pus+q6C+6Gq0X3nM2o1lZh7NIQESIAESIIGyJkDxoqyPpzaN62gzz9Ra3R30fkFLGI0VFr49MOxgZ+9o0I1RDby/K2H/ojZPdmZet0etRxRwgqyyZH4Ef33lDZPWvAhGVsg1kuZhWeF0Z5LJIi98wSEobmRGXkwlXvg1M4JtW31xo5jixdCIg+27x+87hfXxbvvUmZGv7qtXrkR93Yj5jFLqbeJpfZ2JRS2R6nYa8NLYhkcd38+n4gk73RK26p0voYNff/z6d2pDS/TFXVccs/avxJTrXriuObUb5xnKeOIydiIp4elwaxIgARIggXInQPGi3E+oRu1rj1rvVcAdAJp9BJX0beiu/iT6A99sAtgKjbPjPfbUbS9q9Myncrs9GrpNQX9Y5klI/8mnfXjSbiNBcUKKamZ2HsmsOZFPSsdUaSOPdv5wr8gKP61keLAPxUwbkftO7j9vaP3teI9zyVRsa/n9WNT8JqA+KQwMQ2HpwjqYRvV/NNq2xus7hqXj0ditAny5K2FfVcv3wmz5vm7T9d+D1h8B9DFQ6gNK4a+1xiIjZb/tspWX/WG27OA+JEACJEACJFBpBKr/L7RKOxHamyZw8jGhox1X3waNd/ovRkIG5jWHEQ6VZxqJhOxLPrnUuQiMblcZ52/sTv6Wxzt9Ah1t1j9pjX+WFZobLbQ0hb2uHxJRsXXzy1lrX0iKhtTEyCym6V8na/kFMzPFCxEZ/HoafiRGMG1ksoKdsm5mG1c/EsO3qVgFO6UlprTGHBvqsngidc30qVf3lavbrBNcjUd8LysxwmsmJ5TZQlXBOKozkXx6Jmvy2skJfO/336vbub3/QiglBTvlP9R0RdiIoxZ+8t2f3EGGJEACJEACJEAC2QlQvOCdUdYEjj8eTZGh0M1Q+uygoc2N4znpZXIHS4eHvsHUhDzy8YfHW3tV6mPd3UiVNegKMK49ap6loP5TTK2LmFg8byy0P5eWpDIv2PpU0kGk2Ka0Wn35+W6vwGawXkVmbQwRLX73zGNoO+50T+yQkdkqNZgeIu/7AomkqsgQ0WL3zi0TOpJM1Sp1X11PgoU+M9Nf3tgxkhbPlMbJnT32hgo43pKYGItaksK1RjZviFhYOG/srGppbN05CqnN4w2Fn8S77Qm/a2uJRTF9vTpx3RFwcCaUcYGCPizbXgfUL4mc885zxsOmimkN1yYBEiABEiCByiRQJo9+lQmPVs8egY5W62+1wrrgjlLMs7khhKbG0rYylOr9fQOpYBtUMdNRUJ/uTKS+NXuUqnunWCveCmV5IdWGUl7HkVKNbK1XC2GLiBUt85dMiCLJZ11JAXhly1D6ktCoveAXz0C6tHBkEGhvNc9QSv3Uf3npwnqECtSaObNIayb8hx+8ZUKh1nwOpxBFXYP7SZSYCF7+MAy0b9hks5BkPocyxdxvPHHDQa5y5F571yRT7ctXrK3eKrEF5MmlSIAESIAEapcAxYvaPfuK87y9NXSUofRXNfDeoPGmaaCp3kRjgzVrueqOq73QfPmR/58xfqYN8++6No0+X3GQy9zgjjbzZa3HCivut6CuZOlDMxUvgvUv/NQUP1Ij2H413+OQb9Dlm/Tx8XQ8YR+V7xq1Mr+91epSCqvE36YGy0tHK9QotMAQtKsYa+/oHcXg8Fj0hdL4aWePfWahWHCdMQJeusiOwfWAbt8Hk9cvX7F2GXmRAAmQAAmQAAnsmwDFC94dFUcgFg39JeB+1m+bGXRAOpI01JuoC5tQBb675Vvt4VEbQyMuhkb2tBkM7P8cDP3F+CbnRxUHtUIMjkXN7wLqo2KutLKUIq6lGDMVL8TmzNQUeW0m38jL9cEWmFrjuq4e+9Ol4FPue65eYa1yXXT5di5bXAfLKFwdnWIIDL6txVg7aWu8sX04fWyGoaIbNqV6yv0cK9G+dZu+KYWo907NUXjq8ra17PhSiYdKm0mABEiABGaNQIEf72bNbm5EAohFQ5e++bx2KaDfmolDhAsRMOQnHDYQtoy8xQyJp0gmXSRtFyOjjvezV4yFlyaOFwB1LVNEin9TdrSa52qlPHFIirZK9AXHHgKvbx9Gyh67S7WhT+3a5Kwnn70JxKKhWwF9vrwzp8HC/AJGXciauQoMfp0VuWbZgYd7hvpFYZ97aqwx0VR1UQp1vtt7kxgaHhNlNfS3uhKO14GFo/AE1m267gZAXRxcWWtsuOKYtSdPttuaI7HYMUJv1Ya7nzRdUjAaNRBSSo4MI9Burwu1TRvGa4uGky/f+SxYP6Pwx8cVSYAESIAESkiA4kUJ4XPrwhCQSAwN/TEFnDDZipLPLikmlqm89BKllAgPnvogURVaay8FxHE0UrYL28kmVUzYoUtB39yZcP6jMJ5wlakIrDkSjY5l9WnA+5p8v4X1CBeoTsFUe5f7+yK0vbEzXbugN56wW8rd5lLY9953Yn4qYqU7OhQj/Sgf8UJECz/ixo/G8YvIFqsjTTbuGSlHfScl7HmfBya0TSrFeVXrnus2ffP/vlm+5wtp/xT+8/K2tf/L/3fHsVjgpsxVylArFdCmNZaLYJEXD4XfwVVPwdCPu1r9cmMi9eu8rudkEiABEiABEigzAhQvyuxAaM70Caw6OnS0YWj54+/9UxRGm/YmSuFJrfFTbRp3dj2RfGbaC/HCaROIRUM/BvQ5soCkjUj6CAcQbJGqlb65q9v5OLnsTaAjGrpIQ0ubSkjr5SVFiN6ZrGBnMLJCIi/qG5tx07qL4EdaZLbsDXaWEZuzXVOoc5bUEUkhkaG0Pq+zx7m9UGtznb0JfL37mx/VGt8de0d9f/3FV3zRdewPKuB0ACcWgdl2pdR6rd174gnn7iKszyVJgARIgARIoKgEKF4UFS8XLxWBjqMib4fptmvgeECvkI6a07JF4Rlo/QSU8ShgdMW7R1+a1jq8qGAEVq8w3++66h5ZUDrOvGVR6bqOFMypGS4kUUOvbh3xoofGR0c8YcdnuGxVXt4etR5QwPvEOSnSKcU6Cz3yibyQvf2irfL/ffHi/ju/gY9csg6PP3LXhM4kua49HZ+ka9LuAb+rs7o9nkidN511eE3uBK5+4vqT30j0PPji+g1/7Hvltb1SIIMrSZclSyIIDeV1XFKGdF4ajxyUdB8XsL3owakjBzWwTWncYijj5g2J5HO5W8yZJEACJEACJFA6AhQvSseeO88igZUrUR8ZDh1mmu6fuTCWAXqBodHkakTEDENh1NXoV4barh13s2GYvw/3JZ9/4EWkWzfMorncagoCsaj1OwCHyjSpVyB1C2p59A3aXrHO8ZGIJ+y2WuaxL98l7ci2rAH//bcsqvNSyQo9chUYfKGiXMQLSSan4zkAACAASURBVJd7fTtTjwp9P+xrvVhb6GJo/SkAYwVPMkZdyEBE6jaFDIRDY2mPuQ7RMeU8pRXuaMrFSNL1RI3sQ92uFa7p6k79Jtf1OY8ESIAESIAESkGA4kUpqHNPEiCBGRHoaLMu1xpXyyJSy2TpwtqOvti8bQT2+IOJhrqoK5H6txkBrtKLO6LmaRrqXnGvWCkjsnYhxIvbbrwSn7j8O5jNtBGx/fVtw0iN1/tRwEmdCfuRKr0dSuZWR9Q8X0NdlU20qI+YqK+zUB8xCt76W4SMoREHwyN2+oyDEJRStzja+OLGxOiLJYPDjUmABEiABEhgEgIUL3h7kAAJVByBs49AeEed9RqAhWJ8LUdfBEP9tdK/7+p2Dqq4A50lg2Nt1leg8feyXXOjhZamcFF2LoR4IdEYs1mw0wexs3cUA8PO2D8V/jHebX+lKJBqcNGOaPhIDVd4nhJ0X9JAJHpMWn1LWshsjOFRB4NDNoZGx886sKkCrupM2F+eDTu4BwmQAAmQAAnkQ2B2PiXzsYhzSYAESCAHAh1R6+808FWZahgKyxbVeXngtTSkO45EXaRrXSh1Sbw79e1aYpCPr7GoJXVA2uWaRS0R1NeZ+Vye89zJCnbKIs8++RC+dtUZ6foW2dJG/NdEwDhpzQXe3iPDA9iy+SU0tyyaUOQzZ8NymCjChQgY4+PueMI+K4fLOGUKArE26wpofC04TUSLpsYQmhqtsc5XJRgSjdE/aGNwZKxNbmD8SkN9qiuR6i6BWdySBEiABEiABLISKNXnJY+DBEiABGZMIFj7QgovSgHGWhoTviUHeuIJO1pL/ufra6zV2gGF+XJdsepd5GtTuc2fWPdCvxxPOAeXm42VZM97V2J+atS6CcAEEUgif+bOCXktu8thSKvc3v6UVx9jwqAgWg7HQxtIgARIgATGCZTHpyaPgwRIgASmQaCj1TxXK/Uj/9JF8yOoDxfn2/RpmFfUS4ZGbGzfnS7SCQV9emfCua+om1bw4ie2YWlIW5vFBYnU2X9xbddJ2edRauBPW4bSbw9H7IbHHsNwBR99yUxfFQ39uQF9i19cWAyRWisiskoRznIcGcV/x03U18cTztpytJc2kQAJkAAJ1BYBihe1dd70lgSqjkBHNHS7hv7f4phlKuy3sPrTRxxH442dI5D/laGVvrmr2/l41R1uAR2KHW0dBwOPypLy4LjfgroCrl5dS23ePgzbHru3lDbe2dmTfLa6PCy+Nx1t5pnQ6scaSIeDNTeG0NIUKv7mM9xBom929iYzozDucZvtszduxF75JTPcjpeTAAmQAAmQQM4EKF7kjIoTSYAEypHAya1Y5ijraQALxL6GOgsLW6o7fWTbrlFIwb2xof5oqNRRG7rRW47nUy42xdrMs6HVHbVyj8yE+9ado5A0Au/uMrCmc5P9XzNZr9au7YiaH9ZQt/l+S2bIgrlh73dTJY2MtDQxvWt00H7/o8+jv5L8oK0kQAIkQALVQ4DiRfWcJT0hgZol0B41z1FQP/YBVMo3nNM5sF19SfQP7fnyUyt9Wle3c/901qqla9rbQpcorb8lPjfVW5g3tzAC1wfOvwp/cfalsKw9623+028RLMJZaZy39yYxNDx2j2mlP9zV7fyw0nwolb3tbeaHlFb/4e8fMhUWtETKNk1kKk69AynIT2A85Dbb79u4ESNTXcv3SYAESIAESKDQBCheFJoo1yMBEigJgY6o9SUNfMbfvBrbp/YOpryiev5gS8Pcb7VYq/UPUPgXuaJ5Tggtc2Yevv+lb/8Gi5cdhPV3XoO7b/uSZ8w7jjoJn7j8O6hvaMatN1yOX8Vvz93IMpm5sy+JAV8g0+rieE/qxjIxrazNaG8zT1VapevOSHqSRIFZZnnWt8gVpoilIpqmh8b6eI99aq7Xcx4JkAAJkAAJFIoAxYtCkeQ6JEACJSfQHg3drsbrX4gx1SRgSDvDXf0TCnR+tzPhfKzk0CvEgFjU+tybpn5ezJUuD/IzkyEtTI+LnTtBuPDX8wWM1195wWuJWmkjGN2jlLq0szt1baX5MNv2treGjlJK/xLAHNk7ZBlYPC8C06yOP7MyBQwFzd8/s32TcT8SIAESIIGStRYnehIgARIoCoFY1OoEEPMXrwYBI0sHgHvjCbvynoqLcuK5LRqLWiJciIDhRV1I9MVMhkRdyMg1PUTEjpPWXDBhy2effMgTN0QE+cgl6/DqH57Bnx3a6qWg2HbSE0YOece7ccTR7/Gu27VjM25adxGee+ph79+ZKSuFSlcRkUzEsrGhLosnUtfMhFW1X3vKIYiMNltyQxwlvpqmgSXzI14B4WoamQIqNP4x3mN/pZp8pC8kQAIkQALlTaC6PlnLmzWtIwESmAUCp7wbzaMp6wEAx/nbFeKb9lkwPesWuwdS6AvknGtgg262T2HV//xOpCNqfUYDXm7HTNNGfLHh8UfuwveunbqDpIgMa868BA/ec0M6veTKL/0Mb3/XSk+g2LL5JU+8kOGnmog4suzAw5EpcLz8fLcneGRGfvjRHsODfTkLKvsiGEwbUUr9TWd36ob8aNfW7PbW0PeV0hf6Xi+ZX4dIuLJTRfZ1gpk1d1jQtbbudXpLAiRAAqUmQPGi1CfA/UmABApOYNXRaDEM6543q+OPfWUNoLHewvy54YoJN3O1xs7eFIZGJnQmfGDBiH3mnc8ikIBecHxVuWBHW+hTWmsv/aGp0cK8pukX7MwmXvjiwbwFy9L8MiMlgmCDgoYvXvjChMwTceLYE89KixmZqSgibuzeuWVCWko2kWQ6h7mjN4lBv2Cn1hd29Ti3TGedWrgm1hb6OLS+yfdVuorI75pqHhO6HSn8LtJrH/nAixitZp/pGwmQAAmQQHkQoHhRHudAK0iABApMYNUqWEafJR1IzvKXljx0ETAiofL+VnRk1MHO/iRsW6epaKj/6Eqkzi8wpppZriNqnq+hbvWErDoLC2bQTjeXyAuJrFh6wKET0jz86+rqvbII6dQQX7wIRnJMJl7cd8fVXlHQoFDiH6SfbuIXEJ3OAW/dNQq5B2Uo6NM7E066COV01qvWa2JH4S0wrWclmEd8bGqwMK95+qJYpXCyHRdv7BiF6/q/n/T18YQzdQhSpThIO0mABEiABMqWAMWLsj0aGkYCJFAIArGo9XUAlwXXmtsYwtymmdU8KIRtmWtoDfQOJCE1LoJDA1/uSthXFWPPWlkzFrWkDorUQ/FC+iW0fyZjqpoXQfHi8OUnptup+mkg2SIvchUvHu38oZdmEozUmIkvmde+vn0EKdv1XtZQK7oSqe5Crl8ta3W0hr6vx9NFQpbC0oX11eLalH5IZI5E6PjDMNC+YZO9ccoLOYEESIAESIAEZkCA4sUM4PFSEiCByiDQ3hr6K6X0twGkvxaVhw2phdFQVx4h3vIw0DuQgu3sibZ4U3TphdYXx3ucH1UG6fK1MtYWORjaeVEslNaVyxbNTLyYrNuI7BEUL04754q9ojCC10838qIQ9S2yndirW4YhaUsylGUv7HwcO8r3ZEtjWXur1aEUNvi7L5oXQX3ELI0xJdp1++5kMK3toXjCXlUiU7gtCZAACZBAjRCgeFEjB003SaDWCaxqCx9uavcaDbw3yCISNtHcaJXswUNqWkgbwtHk2Dfd/lAKP3Uc69KNT478odbPrlD+x6KW5OV7Atb+i+thGDP7CBSBQjqBPPzgLenCncHaF/7rMu+gw9rS9Sv8LiFiR7BgZ66RF37BTuleEtw7c5/pcHMcjde2DfuXbo0n7CXTWafarwl2NZIaF1LrotaGpLVt3p6+VwCtP0ShtdbuAvpLAiRAArNLYGZ/uc2urdyNBEiABGZMoCMa+hsN/UUA8yaIGCEDDQ0WGutMGKq4vxolV3xwxMHAkJ0Ozw/Y8obS6rOdPambZ+wsF5hAoCNqPaGBFfLi4vkR1IVn/k15ZrtSWTtby1K/e4i8L3UpfhW/3SvIKakffhpIPuKFrJPZfnVkeCAtkEz36EVMk2/UZShgQ2fCPnm6a1XrdR1R8zQNda/v39JF9QhVWVvUXM9ud38KfYMpf3p3PGF7/31xkAAJkAAJkEAxCBT3L/RiWMw1SYAESGCGBE5YjnmhsPVZpfG3mUvJL8X6egv1YQP1BRQyRLAYHnUwPOpmdhDxTXCVxlcbDPv/3duNoRm6yMuzEGiPmjcqqIvkrZamEJoby6/uSakPbnd/oOaKwlfj3fY/lNqmctu/I2r93I/gmtNgYX4NFOnc1xnI7zWJ1BnPMpIqKWfFE87d5XZmtIcESIAESKA6CFC8qI5zpBckQALTIBBrxVuhrE8DuBhA1iII4ZAB+ZEOJdKtxDLVlOkG8gd9ytFI2RrJlINkyvV+9jH6oPDtFOxrH+nG69Nwg5fkSKC91bxAKfUDmS5RFxJ9wTGRwBs7RtL3qtb6/V09zs/IaA+B9mioTUFv8l9Ztqje+51Qy2P3QAp9A2PRFxr4eVfCPqWWedB3EiABEiCB4hGo7U/c4nHlyiRAAhVE4Pjj0VQ3Evqo1lpakR4zlelSK0HKJWTWTJAih44jqd8Tim7ua7lfQanbIr2p7z7wIqQWA0eRCaxuw4Gutv7ob7P/kvqipwgV2aWCLp9R7wKRkD33gd+gr6CbVPhisTbzOmjltQWVYr8LZ9Byt8JRpM3PrH1hwDhiQyL5XLX4Rz9IgARIgATKhwDFi/I5C1pCAiRQBgQ6ouEjtXbPgIH3QeP4Apv0MBQeUK7xs86e5LMFXpvL5UAgFrXkW/M2mSoPnuXSbSYH04s+RWqw7OxLt7/sjCfs1UXftMI2iEWtbXLriNmL50VQV2MdRvZ1XMHOI1rjC1099ucq7GhpLgmQAAmQQAUQoHhRAYdEE0mABEpDYHUb5rqueZw21AoFHAmNwwC8DcCcKSzqB/AyoJ5/Mwf8aSg84Q7bv9r4LAZK4wl39Ql0tFn/pDX+Wf493W/Oj4udi49csg519RNvAynEKd1D7r7tSxUJfOuuUYyMOp7tSqlPd3anrqtIR4pkdLBQp2UpLFtYX6SdKm/ZYKFXKDwT77bfVXle0GISIAESIIFyJ0DxotxPiPaRAAmUHYFVR6PFMCMLXMdtMqyx1pvawahhmf1hY2Q7Q+3L7sjSBnW0ho/Qyn3Gf+Eti+th5tky1Rcvgt1BZD1pVfr2d62sSAFD6rO8Hmx76dj7x5/Ca+V7krNvWbDga1OjhXlNtdcedTLqr2yRwp1jKXOuYSzfuCn5P7N/StyRBEiABEigmglQvKjm06VvJEACJEACexGIRa04gHZ5Y+6ckPeTz9iXeLGv1/NZu1RzJ3QZAe6OJ+yzSmVLue4bi5ovAeogsW/J/DpEwsZe7WqDtvuta4/v+BCWHnAoblp3EZ576uGiuCfCWaH3OPP8z2Dr5pe9tr65jGDqCKAuiydS1+RyHeeQAAmQAAmQQK4EKF7kSorzSIAESIAEqoJAR9Q8X0PdKs6YpsJbFuUX/p+PePGOo07CJy7/DuYtWOax8x9o5YHQX+e3Tz+Cw488MZ2G8uyTD+FrV50xa6yl0OxrW0cChWb1GfGEc++sGVABG62KRg4x4LwgphpKQYq9yvjop7+JY088C7fecPk+H/KLISxkIiv0Hrn4lWnD4JCNHXtqptwTT9gfqICjpYkkQAIkQAIVRIDiRQUdFk0lARIgARIoDIHgt+jzmsNoarByXniytJGW+Utw1cXv9tby5+3c9mr6tS99+zeYv2h/72FXhtTOkOE//MpDo1w3m7UzpM2ltLscHz3xhB3NGUaNTOyImh/WULeJu/VhE4vG2+zm8pBfaGEhG/JC75GLX5l2ZKQevRFP2Etr5PagmyRAAiRAArNEgOLFLIHmNiRAAiRAAuVDoKMt9Cmt9bVikdS8WLaoHirHT8R9FeyUtXbt2JxOD8j2ABgUPp7/70c98eLl57vTkRaznXriuhqvbZsQdfHReML5fvmcVHlY0t5mrVMafyvWBFONcnnIzyYsiIi17MDDPeeyFXqVdU9ac0Ha+cxoHFnziKPf470v0TxbNr+E5pZF6Xsv8x7940tPYcmyg+HXacmMCPLXERHtsOXHT9j74QdvwfeuXYvJooh8Q1/dOgy5p2QYyn7rhm78qTxOkFaQAAmQAAlUA4Ec/1SrBlfpAwmQAAmQAAnsIRCLmi8A6hDvgbQxhLlNudW+2JfA8IHzr8JfnH2pVydAoi/29W24PLju3rkFj3b+0BMvgoU/Z1u8kNao0iJ1fCTiCdtrI8sxkUB71HpAAe+TVxe1RFBfZ3oT8hUv5BpJI5Lh18DILPSa+W//vvrd/zzmiVyZ0Tm+0OELZ/4ew4N93n0YFB18IULuQRn7ihLK9Mu/L4NCm9h50GFtE1Jmtu4cwUjS9dZWwCmdCfvnvJdIgARIgARIoFAEKF4UiiTXIQESIAESqCgCHW3mhVqrdJTBkgV1iISMKX2YTGAIChannXPFXkUU/QfJ1195oeTixUjSwdadowF/9VnxhHP3lABqcEIsar4IqIPFdWmRKq1SffEiGCHhowlGUwTvicOXn4g1Z16CB++5Id1SN3hP3HfH1Z64IfdHsO6Jv8aD93wLa878m73eFzGivrHZE0T+fNXZe9Xh8AUQqbUiURTZRlDQyBQv5N/L21ZPKDoatNu3daIYptbGE6nra/B2ocskQAIkQAJFIkDxokhguSwJkAAJkED5E4hFrV8AWCOWSvcI6SIx1chVvMj2EJktbaRUkRevbx9Byh77lhwaP4n32GdP5Xutvh+LWkkAXmjOAUsa0ilG+UZeZLsnZE0RJ6Reyv13fmOvaBx5X8SH2Kkfw6ZHf+aJE9na9PrdRrKJZpPVafHTT2SfzX/6rReNkelXME0l8x4IprT0DqbQ2z9WP0UBX+tM2H9Xq/cM/SYBEiABEig8AYoXhWfKFUmABEiABCqEwKqjQ0cbhu7xzW2eE0LLFK1Tc+02kmvBzlKIF7v6kujfky4yCmW+M949+lKFHNusmtlxLBZo29oumxqGwv6L93SnKZR44Uc97Eu88Pf59cY7CyJe+DU3gt1vJou8CEZ2TNbudXDYxo5e0XkApdQtnd2pC2f1sLgZCZAACZBAVROgeFHVx0vnSIAESIAEpiLQHrWuVMC/+vMWtoTRULfv7iOTFez0awr4a+XSKnUy8SKbUJLtgTmzhsFkPg8MO9jZG0gX0erieE/qxqk41er7sbbIwdDOi+K/ZY4Vd/VHvuJFOaSN+IVig/edf5/6dTKyRV5k1rfIdj8MjzjYtjt9b90bT9iz1/O3Vm9Q+k0CJEACNUSA4kUNHTZdJQESIAESyE4gFrXukuh8eVe6jiyen1v9i0rjOZp0sCVQ50JpdUtnD78dn+wcV7eFl7vafVrmhCwDSxfuSS3KV7yQNUpdsDNblxs/EsNPG5E0lWBtjmxRRNnqaGTUUemMJ+zVlfbfCO0lARIgARIoXwIUL8r3bGgZCZAACZDALBF470rMTyWtx6DxdtlSvmGX+hemWT0fk1LfQoQLv5UlgO5eZa/s7sZYkQKOrARWrwi1uq5OyJvhkIH9FkxfvPBTLmbaKjXYSnU6rVJ94cGywp7PIlpIBxw/ukI6l4jIMm/BMvg1LbJFHGVGGkmnEek4Mi4Cbuzsttt5W5EACZAACZBAoQhUz19lhSLCdUiABEiABGqSQGxF6Fi4+mGp3SkAQpbC4vkRmMbUHUjKHZhta2zZNQLH0b6p25U23tPZk3y23G0vtX0d0fCRGu5TY/fExMiLUtuW6/4iPJz3iS8jfv/N6S4nuV6bzzxGXuRDi3NJgARIgATyJUDxIl9inE8CJEACJFC1BNpbzTOUUj/1HRQBY+G8OoQqOAIjmXKxfXcStjPeWQSQ/3NyPGHHq/YgC+jYqmjkEAPOC554YSosDdS8KOA2BVtKojJErFh/5zVpoSLXgpszNWJ41MG2XemaF/fFE/bpM12T15MACZAACZCAT4DiBe8FEiABEiABEggQ6Gg1z9VK/ch/SVJHFsyNoC5ceREYw0kHO3Yl4ep0xAUU9OmdCec+HnpuBFa1YaGhrW0yO7PbSG4rzP6szNamkgZy07qLMFmnkEJYOThiY8fusW4jgLo1nkhdUIh1uQYJkAAJkAAJeJ8sxEACJEACJEACJDCRQHvUPEdB/Tj46vzmMOY07LsLSbkx7B+0savff5D0rBvVhj6ra5OzvtxsLXd7YlHLBmCKnQcsafCKunLsTaBvIIXdA+MlVDTWxXvsK8iJBEiABEiABApFgB+/hSLJdUiABEiABKqKQKzNWgMXP4LCfN+xOfUW5s0Nl7XyLwU5d/alMDQiz9tjQ0G94hr6vK5N9qNVdUiz5Ex7m/my0uptsp2kjUw3jShYqFPWsu3khPSOWXKnaNvs7EtiYGjsvlNKfbqzO3Vd0TbjwiRAAiRAAjVHgOJFzR05HSYBEiABEsiVwOpo+B0u3B8AOMa/RjqRtDSF0FBXflEYg8MSbZEKdhSB1tioYP9lvAd/zNVvzptIINZqPQiFk+XVRS0R1Nd5QRg5D7+7x9bNL+Oqi9+dvs7vGuJ39Mh5wTKduHXnKKRopwyt9Gld3c79ZWoqzSIBEiABEqhAAhQvKvDQaDIJkAAJkMDsEuiImt/RUP8nuGtDxMLcJsvrQFHqIUU5ewdSkIKJGeOaeMK+rNT2Vfr+sah1DYBPix9z54S8n1zHO446yWs7OjzYN0G48K8XAePYE8/CrTdcjl/Fb8912bKc99rWYTjuWH0V27YOevjpkd+XpaE0igRIgARIoCIJULyoyGOj0SRAAiRAArNNoCNqflgrtQ4aS4J7NzaYaG4IlUTEENGif8iGRFxMHOoPGu7lXQnnrtnmVI37dbSZF2qtvi++SdSFRF/kOiTqYs2Zl+DBe27IqU2pL3bMW7AsvcXI8EBa3JBinEsPOBR2KolF+/2ZN2fzn36L++/8Bj5yyTrU1c/xXnv4wVvwvWvXptcIpqxkpqtk7jmddBZpx7t5+7C/37Z4wl6cKyPOIwESIAESIIFcCFC8yIUS55AACZAACZAAgFOXY95w2PwytPrrTCDyUDunzso7pWA6YKWexcCwg5G9Iy1kuW8MR+yrHnsM6SfJ6ezBa/YQWNUWPtzQ7nPySr4dR3yxIdduHyIyyPDTS6TtqYgSO7e96r3mdxLxU038lBQRM/zoDZlz0GFt3r+l00hm5EdmO9XMPfO1WewdHHKwoy/dJvXeeMI+g/cQCZAACZAACRSSAMWLQtLkWiRAAiRAAjVBoKPVWqkV/hHA6ZkOS2vV+ojp/UTCBowCtKbQWnspISJWDI26E2papPfX6k7DxL9s2JTqqYlDmGUnY9HQHwF9oGy73/w6hHNsnZtNCPBrXQRdyIyUCL4XFBeCwoSkmfhRE6+/8gK+dtWYXhBMRVmy7GDETv0YfnTTZyakpfhr3nbjlZOmteSKWVqkSqtUbyhcGe+2r871Ws4jARIgARIggVwIULzIhRLnkAAJkAAJkEAWAqtXWKscF59UwAf3BUgEDKmLEbFMmCEFKZFhmdnrZEi1ANdxYTtAynaRlJ/U2M8+h1Y/VNDXd/bYj/GQikegvc38d6XVx2SH5jkhtORY92KqKAY/suLxR+6akObhR1j4HklqiB95IWkjfiTHVOLFYcuPx0lrLsgKxl8zKKZMJ2VEFn9163BaVHNd1brxydSTxTsNrkwCJEACJFCLBChe1OKp02cSIAESIIGCEug4NvJ213YuVNDnAuqgXBb3IjIUYEBBQ0PqHEqERY7jtwBud137BxufxB9yvIbTZkAgFjU/ACivhkjIUli6sD6n1aaqeZEpXvi1KYJ1LjIjL/IRL47v+FA6hWSqgqDB2hf5iBjDIw627R5PGdH4XbzHPiwnOJxEAiRAAiRAAnkQoHiRByxOJQESIAESIIGpCHRErRO1wqnQXmvN6FTz83j/N1D4L0Or+zckUr/O4zpOLRCBWNTqlcALWW7J/DovLWiqMVW3kaB48fx/P+rVtwhGYWRenxnJkUvkheyx/s5rcioYKv5kW3MyP7f3JjHkF43V+Eq8x5aUKg4SIAESIAESKCgBihcFxcnFSIAESIAESGAPgY5jscB1zXcrV7VCqyMAfQgUpG6CdCzJ9hksvU63KOBPGupFKP2M1ugxlf3rDd2QB2eOEhJoj5o3KqiLxIQ59Sbmz82t64gvUAwP9aXTPWQNP11DimpKGoh0GBHx4uXnu9P1K/xIjOmmjfgFO2U/P9XEt0f2ue+Oq/eqeTFVtEjwCBxH47Vte2rDaq2O7upJPVXCY+LWJEACJEACVUqA4kWVHizdIgESIAESKG8Cq9swdxRoMFMwEYFtuRimQFHeZxY72joOBh71rXzLonpIgdZcR7BdqVyTLTXD7x5iWWFvWREtdu/ckk79kDSQfNJGgkU9g+1X/W4lsocvZvhtVuW1yQqIBv3t7U+hdzDlvxSPJ+yOXHlwHgmQAAmQAAnkQyD3T9x8VuVcEiABEiABEiABEqhCArGoFQfQLq41N1poaRoTGWpxSI2W17aNpAt1Kq3P6+xxbq9FFvSZBEiABEig+AQoXhSfMXcgARIgARIgARKoEgLtreYHlVI/EXek5urSRXWwjKlrX1SJ+xPc6B1IQX7Gx//EE/byavSTPpEACZAACZQHAYoX5XEOtIIESIAESIAESKBCCMRarV++WTz1eDF3ToOF+c21F33hOC42bxvBnv446qPxROr7FXKENJMESIAESKACCVC8qMBDo8kkQAIkQAIkQAKlI9DeZp6qtLrPt2DJ/AgiYbN0BpVg5x29SQyOdxhRwK87E/bKEpjBLUmABEiABGqIAMWLGjpsukoCJEACJEACJFAYArFo6MeAPkdWi4QMLFlQV5iFK2CVoREb23cn05Yq4JTOhP3zCjCdJpIAsbfrOAAABd1JREFUCZAACVQwAYoXFXx4NJ0ESIAESIAESKA0BGJtkYOhnecAhMSCWine6boar+8YgbRI9YbW/x7vcT5RmlPgriRAAiRAArVEgOJFLZ02fSUBEiABEiABEigYgVhraC2Uvs5fcGFLGA11VsHWL8eFtu0axfCo45mmoF5RKrWcLX7L8aRoEwmQAAlUHwGKF9V3pvSIBEiABEiABEhglgjEWkN3QOmzvYd5pSD1L8Kh6uw+0tufQu9gursItKvP7HrS+eksoeY2JEACJEACNU6A4kWN3wB0nwRIgARIgARIYPoETliOeeGQ9RsAh8oqliUCRh1Mo7r+xOofsrGrb0+dC63xha4e+3PTJ8crSYAESIAESCA/AtX1yZqf75xNAiRAAiRAAiRAAjMmEDvaOg4GHgHghVyEwwYWz4vAUNXxZ5Z0FZHuInuGuj2eSJ03Y3BcgARIgARIgATyIFAdn6p5OMypJEACJEACJEACJFBoAu1R8xwF9WN/XelAsnBepOIjMAaGHezsHQ3ieiiesNulVGehGXI9EiABEiABEpiMAMUL3h8kQAIkQAIkQAIkUAACsWjoE4D+N38pqX2xoCWCkFmZf271DdrY3T+hJeomWPb7Oh/HjgLg4hIkQAIkQAIkkBeByvw0zctFTiYBEiABEiABEiCB2SHQEQ1dpKFv9HczDIWFc8Ooi5izY0CBdtnVn0T/oB1c7QnXtM/Y+ATeKNAWXIYESIAESIAE8iJA8SIvXJxMAiRAAiRAAiRAApMT6Iia52uoW4OzWppCaG4MlT26lKO9wpwj4+1QxWANbNCuffbGJ7G77B2ggSRAAiRAAlVLgOJF1R4tHSMBEiABEiABEigVgY5WazUUbtHAUt+G+oiJeU1hryNJOY4B6SjSn4LWwXIW+vvxhPPRcrSXNpEACZAACdQWgfL89KytM6C3JEACJEACJEACVUgg1oq3AtZNUDg56N7cOSHIT7mMZMrF7oHUhGgLsU0Bf9+ZsP+1XOykHSRAAiRAArVNgOJFbZ8/vScBEiABEiABEigygfZW65+Vwj8Ft7FM5aWRzGmwirz7vpeXFJH+gRQGhifUtpAL/tsw8KkNm+yNJTOOG5MACZAACZBABgGKF7wlSIAESIAESIAESKDIBNpXWMcbLr7yZv2IEzJFjDkNIcypNyHFPWdjjKZcSIrI4N6ihYRbfDXebf/DbNjBPUiABEiABEggHwKz8ymZj0WcSwIkQAIkQAIkQAJVSiDWFroYWn8WwLJMFxvrLDTUmairMyVlo6DDtjWGRh0MjdiQNJEs4x7DUF/YsCnVU9CNuRgJkAAJkAAJFIhAoT8bC2QWlyEBEiABEiABEiCB6iSwahUso9e6HAqfyiZiiHJRHzYRkZ+QgXBIQan8/mSzHY1kysFo0sVI0kXKzipYSKTFeuXgms4n7f+qTtr0igRIgARIoFoI5PdJWC1e0w8SIAESIAESIAESKAMCsbbQx6G1dPM4bjJzLNOAaSpYhoIy4KWY+H/EuVpDGoQ4jobjakiUhbw2yUhC61tcZdy8MZH6dRlgoAkkQAIkQAIkMCUBihdTIuIEEiABEiABEiABEigugdUrQq2uqz8I4HQARxZht5TSWK+VuqdRpe64txtDRdiDS5IACZAACZBA0QhQvCgaWi5MAiRAAiRAAiRAAvkTiLVFDtau+x4Y7nEGVJvWWA7AzHOlrQCehMLjWuOXfcqOd3cjlecanE4CJEACJEACZUOA4kXZHAUNIQESIAESIAESIIHsBDqOirwdynmrVno/ZRjztdZzAIQAaGiMAKrXgLvNVsZrYTv18oNPQ8QLDhIgARIgARKoGgIUL6rmKOkICZAACZAACZAACZAACZAACZAACVQnAYoX1Xmu9IoESIAESIAESIAESIAESIAESIAEqoYAxYuqOUo6QgIkQAIkQAIkQAIkQAIkQAIkQALVSYDiRXWeK70iARIgARIgARIgARIgARIgARIggaoh8P8Bb/qtfysXLeQAAAAASUVORK5CYII=)"
      ],
      "metadata": {
        "id": "g9jey_43KxPr"
      }
    },
    {
      "cell_type": "markdown",
      "source": [
        "## 5. Generar interfaz"
      ],
      "metadata": {
        "id": "2-VSDpnMLNWf"
      }
    },
    {
      "cell_type": "markdown",
      "source": [
        "En nuestro dataset la respuesta se obtendría con"
      ],
      "metadata": {
        "id": "TM6VJMicPVnk"
      }
    },
    {
      "cell_type": "code",
      "source": [
        "df_relaciones[df_relaciones['RELACION'] == 'Publishers']"
      ],
      "metadata": {
        "colab": {
          "base_uri": "https://localhost:8080/",
          "height": 645
        },
        "id": "Vb8U_EdjPY5c",
        "outputId": "21812ba8-249e-4ea1-cf3b-7d18cb6b3f58"
      },
      "execution_count": null,
      "outputs": [
        {
          "output_type": "execute_result",
          "data": {
            "text/plain": [
              "    SUJETO1    RELACION           SUJETO2\n",
              "4   Sagrada  Publishers   Floodgate Games\n",
              "5   Sagrada  Publishers  Cranio Creations\n",
              "6   Sagrada  Publishers       CrowD Games\n",
              "7   Sagrada  Publishers             Devir\n",
              "8   Sagrada  Publishers           Engames\n",
              "9   Sagrada  Publishers          FoxGames\n",
              "10  Sagrada  Publishers   Galápagos Jogos\n",
              "11  Sagrada  Publishers     Geekach Games\n",
              "12  Sagrada  Publishers          Lanlalen\n",
              "13  Sagrada  Publishers         Lex Games\n",
              "14  Sagrada  Publishers      Mandoo Games\n",
              "15  Sagrada  Publishers           Matagot\n",
              "16  Sagrada  Publishers        MEBO Games\n",
              "17  Sagrada  Publishers            MINDOK\n",
              "18  Sagrada  Publishers              MIPL\n",
              "19  Sagrada  Publishers  One Moment Games\n",
              "20  Sagrada  Publishers    Pegasus Spiele\n",
              "21  Sagrada  Publishers        Reflexshop\n",
              "22  Sagrada  Publishers    Yes Papa Games"
            ],
            "text/html": [
              "\n",
              "  <div id=\"df-870326a7-f44a-484a-9a17-9f2b7dc635a7\" class=\"colab-df-container\">\n",
              "    <div>\n",
              "<style scoped>\n",
              "    .dataframe tbody tr th:only-of-type {\n",
              "        vertical-align: middle;\n",
              "    }\n",
              "\n",
              "    .dataframe tbody tr th {\n",
              "        vertical-align: top;\n",
              "    }\n",
              "\n",
              "    .dataframe thead th {\n",
              "        text-align: right;\n",
              "    }\n",
              "</style>\n",
              "<table border=\"1\" class=\"dataframe\">\n",
              "  <thead>\n",
              "    <tr style=\"text-align: right;\">\n",
              "      <th></th>\n",
              "      <th>SUJETO1</th>\n",
              "      <th>RELACION</th>\n",
              "      <th>SUJETO2</th>\n",
              "    </tr>\n",
              "  </thead>\n",
              "  <tbody>\n",
              "    <tr>\n",
              "      <th>4</th>\n",
              "      <td>Sagrada</td>\n",
              "      <td>Publishers</td>\n",
              "      <td>Floodgate Games</td>\n",
              "    </tr>\n",
              "    <tr>\n",
              "      <th>5</th>\n",
              "      <td>Sagrada</td>\n",
              "      <td>Publishers</td>\n",
              "      <td>Cranio Creations</td>\n",
              "    </tr>\n",
              "    <tr>\n",
              "      <th>6</th>\n",
              "      <td>Sagrada</td>\n",
              "      <td>Publishers</td>\n",
              "      <td>CrowD Games</td>\n",
              "    </tr>\n",
              "    <tr>\n",
              "      <th>7</th>\n",
              "      <td>Sagrada</td>\n",
              "      <td>Publishers</td>\n",
              "      <td>Devir</td>\n",
              "    </tr>\n",
              "    <tr>\n",
              "      <th>8</th>\n",
              "      <td>Sagrada</td>\n",
              "      <td>Publishers</td>\n",
              "      <td>Engames</td>\n",
              "    </tr>\n",
              "    <tr>\n",
              "      <th>9</th>\n",
              "      <td>Sagrada</td>\n",
              "      <td>Publishers</td>\n",
              "      <td>FoxGames</td>\n",
              "    </tr>\n",
              "    <tr>\n",
              "      <th>10</th>\n",
              "      <td>Sagrada</td>\n",
              "      <td>Publishers</td>\n",
              "      <td>Galápagos Jogos</td>\n",
              "    </tr>\n",
              "    <tr>\n",
              "      <th>11</th>\n",
              "      <td>Sagrada</td>\n",
              "      <td>Publishers</td>\n",
              "      <td>Geekach Games</td>\n",
              "    </tr>\n",
              "    <tr>\n",
              "      <th>12</th>\n",
              "      <td>Sagrada</td>\n",
              "      <td>Publishers</td>\n",
              "      <td>Lanlalen</td>\n",
              "    </tr>\n",
              "    <tr>\n",
              "      <th>13</th>\n",
              "      <td>Sagrada</td>\n",
              "      <td>Publishers</td>\n",
              "      <td>Lex Games</td>\n",
              "    </tr>\n",
              "    <tr>\n",
              "      <th>14</th>\n",
              "      <td>Sagrada</td>\n",
              "      <td>Publishers</td>\n",
              "      <td>Mandoo Games</td>\n",
              "    </tr>\n",
              "    <tr>\n",
              "      <th>15</th>\n",
              "      <td>Sagrada</td>\n",
              "      <td>Publishers</td>\n",
              "      <td>Matagot</td>\n",
              "    </tr>\n",
              "    <tr>\n",
              "      <th>16</th>\n",
              "      <td>Sagrada</td>\n",
              "      <td>Publishers</td>\n",
              "      <td>MEBO Games</td>\n",
              "    </tr>\n",
              "    <tr>\n",
              "      <th>17</th>\n",
              "      <td>Sagrada</td>\n",
              "      <td>Publishers</td>\n",
              "      <td>MINDOK</td>\n",
              "    </tr>\n",
              "    <tr>\n",
              "      <th>18</th>\n",
              "      <td>Sagrada</td>\n",
              "      <td>Publishers</td>\n",
              "      <td>MIPL</td>\n",
              "    </tr>\n",
              "    <tr>\n",
              "      <th>19</th>\n",
              "      <td>Sagrada</td>\n",
              "      <td>Publishers</td>\n",
              "      <td>One Moment Games</td>\n",
              "    </tr>\n",
              "    <tr>\n",
              "      <th>20</th>\n",
              "      <td>Sagrada</td>\n",
              "      <td>Publishers</td>\n",
              "      <td>Pegasus Spiele</td>\n",
              "    </tr>\n",
              "    <tr>\n",
              "      <th>21</th>\n",
              "      <td>Sagrada</td>\n",
              "      <td>Publishers</td>\n",
              "      <td>Reflexshop</td>\n",
              "    </tr>\n",
              "    <tr>\n",
              "      <th>22</th>\n",
              "      <td>Sagrada</td>\n",
              "      <td>Publishers</td>\n",
              "      <td>Yes Papa Games</td>\n",
              "    </tr>\n",
              "  </tbody>\n",
              "</table>\n",
              "</div>\n",
              "    <div class=\"colab-df-buttons\">\n",
              "\n",
              "  <div class=\"colab-df-container\">\n",
              "    <button class=\"colab-df-convert\" onclick=\"convertToInteractive('df-870326a7-f44a-484a-9a17-9f2b7dc635a7')\"\n",
              "            title=\"Convert this dataframe to an interactive table.\"\n",
              "            style=\"display:none;\">\n",
              "\n",
              "  <svg xmlns=\"http://www.w3.org/2000/svg\" height=\"24px\" viewBox=\"0 -960 960 960\">\n",
              "    <path d=\"M120-120v-720h720v720H120Zm60-500h600v-160H180v160Zm220 220h160v-160H400v160Zm0 220h160v-160H400v160ZM180-400h160v-160H180v160Zm440 0h160v-160H620v160ZM180-180h160v-160H180v160Zm440 0h160v-160H620v160Z\"/>\n",
              "  </svg>\n",
              "    </button>\n",
              "\n",
              "  <style>\n",
              "    .colab-df-container {\n",
              "      display:flex;\n",
              "      gap: 12px;\n",
              "    }\n",
              "\n",
              "    .colab-df-convert {\n",
              "      background-color: #E8F0FE;\n",
              "      border: none;\n",
              "      border-radius: 50%;\n",
              "      cursor: pointer;\n",
              "      display: none;\n",
              "      fill: #1967D2;\n",
              "      height: 32px;\n",
              "      padding: 0 0 0 0;\n",
              "      width: 32px;\n",
              "    }\n",
              "\n",
              "    .colab-df-convert:hover {\n",
              "      background-color: #E2EBFA;\n",
              "      box-shadow: 0px 1px 2px rgba(60, 64, 67, 0.3), 0px 1px 3px 1px rgba(60, 64, 67, 0.15);\n",
              "      fill: #174EA6;\n",
              "    }\n",
              "\n",
              "    .colab-df-buttons div {\n",
              "      margin-bottom: 4px;\n",
              "    }\n",
              "\n",
              "    [theme=dark] .colab-df-convert {\n",
              "      background-color: #3B4455;\n",
              "      fill: #D2E3FC;\n",
              "    }\n",
              "\n",
              "    [theme=dark] .colab-df-convert:hover {\n",
              "      background-color: #434B5C;\n",
              "      box-shadow: 0px 1px 3px 1px rgba(0, 0, 0, 0.15);\n",
              "      filter: drop-shadow(0px 1px 2px rgba(0, 0, 0, 0.3));\n",
              "      fill: #FFFFFF;\n",
              "    }\n",
              "  </style>\n",
              "\n",
              "    <script>\n",
              "      const buttonEl =\n",
              "        document.querySelector('#df-870326a7-f44a-484a-9a17-9f2b7dc635a7 button.colab-df-convert');\n",
              "      buttonEl.style.display =\n",
              "        google.colab.kernel.accessAllowed ? 'block' : 'none';\n",
              "\n",
              "      async function convertToInteractive(key) {\n",
              "        const element = document.querySelector('#df-870326a7-f44a-484a-9a17-9f2b7dc635a7');\n",
              "        const dataTable =\n",
              "          await google.colab.kernel.invokeFunction('convertToInteractive',\n",
              "                                                    [key], {});\n",
              "        if (!dataTable) return;\n",
              "\n",
              "        const docLinkHtml = 'Like what you see? Visit the ' +\n",
              "          '<a target=\"_blank\" href=https://colab.research.google.com/notebooks/data_table.ipynb>data table notebook</a>'\n",
              "          + ' to learn more about interactive tables.';\n",
              "        element.innerHTML = '';\n",
              "        dataTable['output_type'] = 'display_data';\n",
              "        await google.colab.output.renderOutput(dataTable, element);\n",
              "        const docLink = document.createElement('div');\n",
              "        docLink.innerHTML = docLinkHtml;\n",
              "        element.appendChild(docLink);\n",
              "      }\n",
              "    </script>\n",
              "  </div>\n",
              "\n",
              "\n",
              "    <div id=\"df-e96cb8c8-c40a-47e7-a56f-1d3dfd0d4698\">\n",
              "      <button class=\"colab-df-quickchart\" onclick=\"quickchart('df-e96cb8c8-c40a-47e7-a56f-1d3dfd0d4698')\"\n",
              "                title=\"Suggest charts\"\n",
              "                style=\"display:none;\">\n",
              "\n",
              "<svg xmlns=\"http://www.w3.org/2000/svg\" height=\"24px\"viewBox=\"0 0 24 24\"\n",
              "     width=\"24px\">\n",
              "    <g>\n",
              "        <path d=\"M19 3H5c-1.1 0-2 .9-2 2v14c0 1.1.9 2 2 2h14c1.1 0 2-.9 2-2V5c0-1.1-.9-2-2-2zM9 17H7v-7h2v7zm4 0h-2V7h2v10zm4 0h-2v-4h2v4z\"/>\n",
              "    </g>\n",
              "</svg>\n",
              "      </button>\n",
              "\n",
              "<style>\n",
              "  .colab-df-quickchart {\n",
              "      --bg-color: #E8F0FE;\n",
              "      --fill-color: #1967D2;\n",
              "      --hover-bg-color: #E2EBFA;\n",
              "      --hover-fill-color: #174EA6;\n",
              "      --disabled-fill-color: #AAA;\n",
              "      --disabled-bg-color: #DDD;\n",
              "  }\n",
              "\n",
              "  [theme=dark] .colab-df-quickchart {\n",
              "      --bg-color: #3B4455;\n",
              "      --fill-color: #D2E3FC;\n",
              "      --hover-bg-color: #434B5C;\n",
              "      --hover-fill-color: #FFFFFF;\n",
              "      --disabled-bg-color: #3B4455;\n",
              "      --disabled-fill-color: #666;\n",
              "  }\n",
              "\n",
              "  .colab-df-quickchart {\n",
              "    background-color: var(--bg-color);\n",
              "    border: none;\n",
              "    border-radius: 50%;\n",
              "    cursor: pointer;\n",
              "    display: none;\n",
              "    fill: var(--fill-color);\n",
              "    height: 32px;\n",
              "    padding: 0;\n",
              "    width: 32px;\n",
              "  }\n",
              "\n",
              "  .colab-df-quickchart:hover {\n",
              "    background-color: var(--hover-bg-color);\n",
              "    box-shadow: 0 1px 2px rgba(60, 64, 67, 0.3), 0 1px 3px 1px rgba(60, 64, 67, 0.15);\n",
              "    fill: var(--button-hover-fill-color);\n",
              "  }\n",
              "\n",
              "  .colab-df-quickchart-complete:disabled,\n",
              "  .colab-df-quickchart-complete:disabled:hover {\n",
              "    background-color: var(--disabled-bg-color);\n",
              "    fill: var(--disabled-fill-color);\n",
              "    box-shadow: none;\n",
              "  }\n",
              "\n",
              "  .colab-df-spinner {\n",
              "    border: 2px solid var(--fill-color);\n",
              "    border-color: transparent;\n",
              "    border-bottom-color: var(--fill-color);\n",
              "    animation:\n",
              "      spin 1s steps(1) infinite;\n",
              "  }\n",
              "\n",
              "  @keyframes spin {\n",
              "    0% {\n",
              "      border-color: transparent;\n",
              "      border-bottom-color: var(--fill-color);\n",
              "      border-left-color: var(--fill-color);\n",
              "    }\n",
              "    20% {\n",
              "      border-color: transparent;\n",
              "      border-left-color: var(--fill-color);\n",
              "      border-top-color: var(--fill-color);\n",
              "    }\n",
              "    30% {\n",
              "      border-color: transparent;\n",
              "      border-left-color: var(--fill-color);\n",
              "      border-top-color: var(--fill-color);\n",
              "      border-right-color: var(--fill-color);\n",
              "    }\n",
              "    40% {\n",
              "      border-color: transparent;\n",
              "      border-right-color: var(--fill-color);\n",
              "      border-top-color: var(--fill-color);\n",
              "    }\n",
              "    60% {\n",
              "      border-color: transparent;\n",
              "      border-right-color: var(--fill-color);\n",
              "    }\n",
              "    80% {\n",
              "      border-color: transparent;\n",
              "      border-right-color: var(--fill-color);\n",
              "      border-bottom-color: var(--fill-color);\n",
              "    }\n",
              "    90% {\n",
              "      border-color: transparent;\n",
              "      border-bottom-color: var(--fill-color);\n",
              "    }\n",
              "  }\n",
              "</style>\n",
              "\n",
              "      <script>\n",
              "        async function quickchart(key) {\n",
              "          const quickchartButtonEl =\n",
              "            document.querySelector('#' + key + ' button');\n",
              "          quickchartButtonEl.disabled = true;  // To prevent multiple clicks.\n",
              "          quickchartButtonEl.classList.add('colab-df-spinner');\n",
              "          try {\n",
              "            const charts = await google.colab.kernel.invokeFunction(\n",
              "                'suggestCharts', [key], {});\n",
              "          } catch (error) {\n",
              "            console.error('Error during call to suggestCharts:', error);\n",
              "          }\n",
              "          quickchartButtonEl.classList.remove('colab-df-spinner');\n",
              "          quickchartButtonEl.classList.add('colab-df-quickchart-complete');\n",
              "        }\n",
              "        (() => {\n",
              "          let quickchartButtonEl =\n",
              "            document.querySelector('#df-e96cb8c8-c40a-47e7-a56f-1d3dfd0d4698 button');\n",
              "          quickchartButtonEl.style.display =\n",
              "            google.colab.kernel.accessAllowed ? 'block' : 'none';\n",
              "        })();\n",
              "      </script>\n",
              "    </div>\n",
              "\n",
              "    </div>\n",
              "  </div>\n"
            ],
            "application/vnd.google.colaboratory.intrinsic+json": {
              "type": "dataframe",
              "summary": "{\n  \"name\": \"df_relaciones[df_relaciones['RELACION'] == 'Publishers']\",\n  \"rows\": 19,\n  \"fields\": [\n    {\n      \"column\": \"SUJETO1\",\n      \"properties\": {\n        \"dtype\": \"category\",\n        \"num_unique_values\": 1,\n        \"samples\": [\n          \"Sagrada\"\n        ],\n        \"semantic_type\": \"\",\n        \"description\": \"\"\n      }\n    },\n    {\n      \"column\": \"RELACION\",\n      \"properties\": {\n        \"dtype\": \"category\",\n        \"num_unique_values\": 1,\n        \"samples\": [\n          \"Publishers\"\n        ],\n        \"semantic_type\": \"\",\n        \"description\": \"\"\n      }\n    },\n    {\n      \"column\": \"SUJETO2\",\n      \"properties\": {\n        \"dtype\": \"string\",\n        \"num_unique_values\": 19,\n        \"samples\": [\n          \"Floodgate Games\"\n        ],\n        \"semantic_type\": \"\",\n        \"description\": \"\"\n      }\n    }\n  ]\n}"
            }
          },
          "metadata": {},
          "execution_count": 49
        }
      ]
    },
    {
      "cell_type": "markdown",
      "source": [
        "pero con el llm en cypher quedaría algo así"
      ],
      "metadata": {
        "id": "neg_x4SUQGfw"
      }
    },
    {
      "cell_type": "code",
      "source": [
        "import json"
      ],
      "metadata": {
        "id": "qnElB-SIKqad"
      },
      "execution_count": null,
      "outputs": []
    },
    {
      "cell_type": "code",
      "source": [
        "response_relaciones = client.models.generate_content(\n",
        "    model=\"gemini-2.5-flash\",\n",
        "    # system_instruction should be a list of Parts\n",
        "    config=types.GenerateContentConfig(system_instruction=json.dumps(consultas_cephyr, indent=2)),\n",
        "    contents=\"Who are the publishers of Sagrada?. Show me the filters to find that answer\"\n",
        ")"
      ],
      "metadata": {
        "id": "QtCicP3iLSV6"
      },
      "execution_count": null,
      "outputs": []
    },
    {
      "cell_type": "code",
      "source": [
        "response_relaciones.text"
      ],
      "metadata": {
        "colab": {
          "base_uri": "https://localhost:8080/",
          "height": 69
        },
        "id": "LxDmPEaQOwzk",
        "outputId": "88950d3c-b3a0-4b7a-ca7b-3cf66736597c"
      },
      "execution_count": null,
      "outputs": [
        {
          "output_type": "execute_result",
          "data": {
            "text/plain": [
              "\"The publishers of Sagrada are:\\n\\n*   Floodgate Games\\n*   Cranio Creations\\n*   CrowD Games\\n*   Devir\\n*   Engames\\n*   FoxGames\\n*   Galápagos Jogos\\n*   Geekach Games\\n*   Lanlalen\\n*   Lex Games\\n*   Mandoo Games\\n*   Matagot\\n*   MEBO Games\\n*   MINDOK\\n*   MIPL\\n*   One Moment Games\\n*   Pegasus Spiele\\n*   Reflexshop\\n*   Yes Papa Games\\n\\n**Filters to find this answer:**\\n\\nTo find this information in a graph database, you would typically use a query that looks for nodes connected to 'Sagrada' via a 'Publishers' relationship.\\n\\nIn Cypher (Neo4j's query language), the query would be:\\n\\n```cypher\\nMATCH (sagrada:Sujeto {name: 'Sagrada'})-[:Publishers]->(publisher:Sujeto)\\nRETURN publisher.name AS Publisher\\n```\""
            ],
            "application/vnd.google.colaboratory.intrinsic+json": {
              "type": "string"
            }
          },
          "metadata": {},
          "execution_count": 52
        }
      ]
    },
    {
      "cell_type": "markdown",
      "source": [
        "En la interfaz entonces, el usuario le pasará la consulta cómo quién publicó, quién diseño, que juegos diseño x? y el llm devolverá la consulta en Cypher"
      ],
      "metadata": {
        "id": "3AaEz_DiQMqA"
      }
    },
    {
      "cell_type": "code",
      "source": [
        "def interfaz_relaciones(consulta, instructions):\n",
        "\n",
        "  response_relaciones = client.models.generate_content(\n",
        "    model=\"gemini-2.5-flash\",\n",
        "    # system_instruction con las queries filtradas\n",
        "    config=types.GenerateContentConfig(system_instruction=instructions),\n",
        "    contents=f\"{consulta}. Show me ONLY the filters to find that answer\"\n",
        ")\n",
        "  return response_relaciones.text"
      ],
      "metadata": {
        "id": "U_H-qGFPP6ww"
      },
      "execution_count": null,
      "outputs": []
    },
    {
      "cell_type": "code",
      "source": [
        "instructiones = json.dumps(consultas_cephyr, indent=2)\n",
        "consulta = \"Who are the artists of Sagrada?\""
      ],
      "metadata": {
        "id": "WJPmkdYQQ2am"
      },
      "execution_count": null,
      "outputs": []
    },
    {
      "cell_type": "code",
      "source": [
        "interfaz_relaciones(consulta, instructiones)"
      ],
      "metadata": {
        "colab": {
          "base_uri": "https://localhost:8080/",
          "height": 35
        },
        "id": "GR_sUo72RDWz",
        "outputId": "d8cacdbe-2b66-4e17-fc41-1f58443529d2"
      },
      "execution_count": null,
      "outputs": [
        {
          "output_type": "execute_result",
          "data": {
            "text/plain": [
              "\"To find the artists of Sagrada, you would apply the following filters:\\n\\n1.  **Node Label:** `Sujeto`\\n2.  **Node Property:** `name` equal to 'Sagrada'\\n3.  **Relationship Type:** `Artist` (outgoing from 'Sagrada')\\n4.  **Target Node Label:** `Sujeto`\""
            ],
            "application/vnd.google.colaboratory.intrinsic+json": {
              "type": "string"
            }
          },
          "metadata": {},
          "execution_count": 55
        }
      ]
    },
    {
      "cell_type": "markdown",
      "source": [
        "La interfaz devuelve únicamente la query en Cypher para correrla directamente en neo4j"
      ],
      "metadata": {
        "id": "iN-QaRjbRVw2"
      }
    },
    {
      "cell_type": "markdown",
      "source": [
        "# Clasificador de Intención Avanzado:\n",
        "\n",
        "1. Importar el modelo entrenado en el punto 6 del TP1P2.\n",
        "\n",
        "2. Instanciar el Clasificador basado en LLM con Few-Shot Prompting.\n",
        "\n",
        "3. Comparar ambos clasificadores (el entrenado y el basado en LLM)\n",
        "\n",
        "4. Seleccionar el mejor.\n"
      ],
      "metadata": {
        "id": "olZPdPPrReb5"
      }
    },
    {
      "cell_type": "markdown",
      "source": [
        "## 1. Importar el modelo\n",
        "Previamente, descargué el modelo y lo subí al repositorio de la materia"
      ],
      "metadata": {
        "id": "220McqMMXYXZ"
      }
    },
    {
      "cell_type": "code",
      "source": [
        "import tensorflow.keras as tf_keras"
      ],
      "metadata": {
        "id": "6bDj0w4-Xr1I"
      },
      "execution_count": null,
      "outputs": []
    },
    {
      "cell_type": "code",
      "source": [
        "modelo_entrenado = tf_keras.models.load_model('//content/sagrada/NLP-2025/modelo_preguntas.keras')"
      ],
      "metadata": {
        "id": "mQJ2XPQzRd3L"
      },
      "execution_count": null,
      "outputs": []
    },
    {
      "cell_type": "code",
      "source": [
        "pd.read_csv(\"/content/sagrada/NLP-2025/dataset_preguntas.csv\")"
      ],
      "metadata": {
        "colab": {
          "base_uri": "https://localhost:8080/",
          "height": 424
        },
        "id": "Y4TLy_GfRtPw",
        "outputId": "7365e01c-b11c-4210-c9e2-935dd130c26c"
      },
      "execution_count": null,
      "outputs": [
        {
          "output_type": "execute_result",
          "data": {
            "text/plain": [
              "                                              pregunta      etiqueta\n",
              "0            ¿Qué empresa diseñó el empaque del juego?    relaciones\n",
              "1                ¿Qué celebridades han jugado Sagrada?    relaciones\n",
              "2    ¿Qué porcentaje de jugadores recomiendan Sagrada?  estadisticas\n",
              "3    ¿Qué puesto ocupa Sagrada en el ranking global...  estadisticas\n",
              "4    ¿Quién ganó el torneo nacional de Sagrada en 2...    relaciones\n",
              "..                                                 ...           ...\n",
              "496  ¿Cuántos países han participado en torneos de ...  estadisticas\n",
              "497       ¿Cómo se usan las cartas de objetivo oculto?   informacion\n",
              "498  ¿Qué tipos de restricciones se deben seguir al...   informacion\n",
              "499      ¿Cuántas ediciones del juego Sagrada existen?  estadisticas\n",
              "500  ¿Cuántas unidades de expansión ‘Pasión’ se han...  estadisticas\n",
              "\n",
              "[501 rows x 2 columns]"
            ],
            "text/html": [
              "\n",
              "  <div id=\"df-7a794f54-6cba-4a85-b8fd-3d272af7cf8c\" class=\"colab-df-container\">\n",
              "    <div>\n",
              "<style scoped>\n",
              "    .dataframe tbody tr th:only-of-type {\n",
              "        vertical-align: middle;\n",
              "    }\n",
              "\n",
              "    .dataframe tbody tr th {\n",
              "        vertical-align: top;\n",
              "    }\n",
              "\n",
              "    .dataframe thead th {\n",
              "        text-align: right;\n",
              "    }\n",
              "</style>\n",
              "<table border=\"1\" class=\"dataframe\">\n",
              "  <thead>\n",
              "    <tr style=\"text-align: right;\">\n",
              "      <th></th>\n",
              "      <th>pregunta</th>\n",
              "      <th>etiqueta</th>\n",
              "    </tr>\n",
              "  </thead>\n",
              "  <tbody>\n",
              "    <tr>\n",
              "      <th>0</th>\n",
              "      <td>¿Qué empresa diseñó el empaque del juego?</td>\n",
              "      <td>relaciones</td>\n",
              "    </tr>\n",
              "    <tr>\n",
              "      <th>1</th>\n",
              "      <td>¿Qué celebridades han jugado Sagrada?</td>\n",
              "      <td>relaciones</td>\n",
              "    </tr>\n",
              "    <tr>\n",
              "      <th>2</th>\n",
              "      <td>¿Qué porcentaje de jugadores recomiendan Sagrada?</td>\n",
              "      <td>estadisticas</td>\n",
              "    </tr>\n",
              "    <tr>\n",
              "      <th>3</th>\n",
              "      <td>¿Qué puesto ocupa Sagrada en el ranking global...</td>\n",
              "      <td>estadisticas</td>\n",
              "    </tr>\n",
              "    <tr>\n",
              "      <th>4</th>\n",
              "      <td>¿Quién ganó el torneo nacional de Sagrada en 2...</td>\n",
              "      <td>relaciones</td>\n",
              "    </tr>\n",
              "    <tr>\n",
              "      <th>...</th>\n",
              "      <td>...</td>\n",
              "      <td>...</td>\n",
              "    </tr>\n",
              "    <tr>\n",
              "      <th>496</th>\n",
              "      <td>¿Cuántos países han participado en torneos de ...</td>\n",
              "      <td>estadisticas</td>\n",
              "    </tr>\n",
              "    <tr>\n",
              "      <th>497</th>\n",
              "      <td>¿Cómo se usan las cartas de objetivo oculto?</td>\n",
              "      <td>informacion</td>\n",
              "    </tr>\n",
              "    <tr>\n",
              "      <th>498</th>\n",
              "      <td>¿Qué tipos de restricciones se deben seguir al...</td>\n",
              "      <td>informacion</td>\n",
              "    </tr>\n",
              "    <tr>\n",
              "      <th>499</th>\n",
              "      <td>¿Cuántas ediciones del juego Sagrada existen?</td>\n",
              "      <td>estadisticas</td>\n",
              "    </tr>\n",
              "    <tr>\n",
              "      <th>500</th>\n",
              "      <td>¿Cuántas unidades de expansión ‘Pasión’ se han...</td>\n",
              "      <td>estadisticas</td>\n",
              "    </tr>\n",
              "  </tbody>\n",
              "</table>\n",
              "<p>501 rows × 2 columns</p>\n",
              "</div>\n",
              "    <div class=\"colab-df-buttons\">\n",
              "\n",
              "  <div class=\"colab-df-container\">\n",
              "    <button class=\"colab-df-convert\" onclick=\"convertToInteractive('df-7a794f54-6cba-4a85-b8fd-3d272af7cf8c')\"\n",
              "            title=\"Convert this dataframe to an interactive table.\"\n",
              "            style=\"display:none;\">\n",
              "\n",
              "  <svg xmlns=\"http://www.w3.org/2000/svg\" height=\"24px\" viewBox=\"0 -960 960 960\">\n",
              "    <path d=\"M120-120v-720h720v720H120Zm60-500h600v-160H180v160Zm220 220h160v-160H400v160Zm0 220h160v-160H400v160ZM180-400h160v-160H180v160Zm440 0h160v-160H620v160ZM180-180h160v-160H180v160Zm440 0h160v-160H620v160Z\"/>\n",
              "  </svg>\n",
              "    </button>\n",
              "\n",
              "  <style>\n",
              "    .colab-df-container {\n",
              "      display:flex;\n",
              "      gap: 12px;\n",
              "    }\n",
              "\n",
              "    .colab-df-convert {\n",
              "      background-color: #E8F0FE;\n",
              "      border: none;\n",
              "      border-radius: 50%;\n",
              "      cursor: pointer;\n",
              "      display: none;\n",
              "      fill: #1967D2;\n",
              "      height: 32px;\n",
              "      padding: 0 0 0 0;\n",
              "      width: 32px;\n",
              "    }\n",
              "\n",
              "    .colab-df-convert:hover {\n",
              "      background-color: #E2EBFA;\n",
              "      box-shadow: 0px 1px 2px rgba(60, 64, 67, 0.3), 0px 1px 3px 1px rgba(60, 64, 67, 0.15);\n",
              "      fill: #174EA6;\n",
              "    }\n",
              "\n",
              "    .colab-df-buttons div {\n",
              "      margin-bottom: 4px;\n",
              "    }\n",
              "\n",
              "    [theme=dark] .colab-df-convert {\n",
              "      background-color: #3B4455;\n",
              "      fill: #D2E3FC;\n",
              "    }\n",
              "\n",
              "    [theme=dark] .colab-df-convert:hover {\n",
              "      background-color: #434B5C;\n",
              "      box-shadow: 0px 1px 3px 1px rgba(0, 0, 0, 0.15);\n",
              "      filter: drop-shadow(0px 1px 2px rgba(0, 0, 0, 0.3));\n",
              "      fill: #FFFFFF;\n",
              "    }\n",
              "  </style>\n",
              "\n",
              "    <script>\n",
              "      const buttonEl =\n",
              "        document.querySelector('#df-7a794f54-6cba-4a85-b8fd-3d272af7cf8c button.colab-df-convert');\n",
              "      buttonEl.style.display =\n",
              "        google.colab.kernel.accessAllowed ? 'block' : 'none';\n",
              "\n",
              "      async function convertToInteractive(key) {\n",
              "        const element = document.querySelector('#df-7a794f54-6cba-4a85-b8fd-3d272af7cf8c');\n",
              "        const dataTable =\n",
              "          await google.colab.kernel.invokeFunction('convertToInteractive',\n",
              "                                                    [key], {});\n",
              "        if (!dataTable) return;\n",
              "\n",
              "        const docLinkHtml = 'Like what you see? Visit the ' +\n",
              "          '<a target=\"_blank\" href=https://colab.research.google.com/notebooks/data_table.ipynb>data table notebook</a>'\n",
              "          + ' to learn more about interactive tables.';\n",
              "        element.innerHTML = '';\n",
              "        dataTable['output_type'] = 'display_data';\n",
              "        await google.colab.output.renderOutput(dataTable, element);\n",
              "        const docLink = document.createElement('div');\n",
              "        docLink.innerHTML = docLinkHtml;\n",
              "        element.appendChild(docLink);\n",
              "      }\n",
              "    </script>\n",
              "  </div>\n",
              "\n",
              "\n",
              "    <div id=\"df-05254586-1753-431a-aeee-d8f88fcb1727\">\n",
              "      <button class=\"colab-df-quickchart\" onclick=\"quickchart('df-05254586-1753-431a-aeee-d8f88fcb1727')\"\n",
              "                title=\"Suggest charts\"\n",
              "                style=\"display:none;\">\n",
              "\n",
              "<svg xmlns=\"http://www.w3.org/2000/svg\" height=\"24px\"viewBox=\"0 0 24 24\"\n",
              "     width=\"24px\">\n",
              "    <g>\n",
              "        <path d=\"M19 3H5c-1.1 0-2 .9-2 2v14c0 1.1.9 2 2 2h14c1.1 0 2-.9 2-2V5c0-1.1-.9-2-2-2zM9 17H7v-7h2v7zm4 0h-2V7h2v10zm4 0h-2v-4h2v4z\"/>\n",
              "    </g>\n",
              "</svg>\n",
              "      </button>\n",
              "\n",
              "<style>\n",
              "  .colab-df-quickchart {\n",
              "      --bg-color: #E8F0FE;\n",
              "      --fill-color: #1967D2;\n",
              "      --hover-bg-color: #E2EBFA;\n",
              "      --hover-fill-color: #174EA6;\n",
              "      --disabled-fill-color: #AAA;\n",
              "      --disabled-bg-color: #DDD;\n",
              "  }\n",
              "\n",
              "  [theme=dark] .colab-df-quickchart {\n",
              "      --bg-color: #3B4455;\n",
              "      --fill-color: #D2E3FC;\n",
              "      --hover-bg-color: #434B5C;\n",
              "      --hover-fill-color: #FFFFFF;\n",
              "      --disabled-bg-color: #3B4455;\n",
              "      --disabled-fill-color: #666;\n",
              "  }\n",
              "\n",
              "  .colab-df-quickchart {\n",
              "    background-color: var(--bg-color);\n",
              "    border: none;\n",
              "    border-radius: 50%;\n",
              "    cursor: pointer;\n",
              "    display: none;\n",
              "    fill: var(--fill-color);\n",
              "    height: 32px;\n",
              "    padding: 0;\n",
              "    width: 32px;\n",
              "  }\n",
              "\n",
              "  .colab-df-quickchart:hover {\n",
              "    background-color: var(--hover-bg-color);\n",
              "    box-shadow: 0 1px 2px rgba(60, 64, 67, 0.3), 0 1px 3px 1px rgba(60, 64, 67, 0.15);\n",
              "    fill: var(--button-hover-fill-color);\n",
              "  }\n",
              "\n",
              "  .colab-df-quickchart-complete:disabled,\n",
              "  .colab-df-quickchart-complete:disabled:hover {\n",
              "    background-color: var(--disabled-bg-color);\n",
              "    fill: var(--disabled-fill-color);\n",
              "    box-shadow: none;\n",
              "  }\n",
              "\n",
              "  .colab-df-spinner {\n",
              "    border: 2px solid var(--fill-color);\n",
              "    border-color: transparent;\n",
              "    border-bottom-color: var(--fill-color);\n",
              "    animation:\n",
              "      spin 1s steps(1) infinite;\n",
              "  }\n",
              "\n",
              "  @keyframes spin {\n",
              "    0% {\n",
              "      border-color: transparent;\n",
              "      border-bottom-color: var(--fill-color);\n",
              "      border-left-color: var(--fill-color);\n",
              "    }\n",
              "    20% {\n",
              "      border-color: transparent;\n",
              "      border-left-color: var(--fill-color);\n",
              "      border-top-color: var(--fill-color);\n",
              "    }\n",
              "    30% {\n",
              "      border-color: transparent;\n",
              "      border-left-color: var(--fill-color);\n",
              "      border-top-color: var(--fill-color);\n",
              "      border-right-color: var(--fill-color);\n",
              "    }\n",
              "    40% {\n",
              "      border-color: transparent;\n",
              "      border-right-color: var(--fill-color);\n",
              "      border-top-color: var(--fill-color);\n",
              "    }\n",
              "    60% {\n",
              "      border-color: transparent;\n",
              "      border-right-color: var(--fill-color);\n",
              "    }\n",
              "    80% {\n",
              "      border-color: transparent;\n",
              "      border-right-color: var(--fill-color);\n",
              "      border-bottom-color: var(--fill-color);\n",
              "    }\n",
              "    90% {\n",
              "      border-color: transparent;\n",
              "      border-bottom-color: var(--fill-color);\n",
              "    }\n",
              "  }\n",
              "</style>\n",
              "\n",
              "      <script>\n",
              "        async function quickchart(key) {\n",
              "          const quickchartButtonEl =\n",
              "            document.querySelector('#' + key + ' button');\n",
              "          quickchartButtonEl.disabled = true;  // To prevent multiple clicks.\n",
              "          quickchartButtonEl.classList.add('colab-df-spinner');\n",
              "          try {\n",
              "            const charts = await google.colab.kernel.invokeFunction(\n",
              "                'suggestCharts', [key], {});\n",
              "          } catch (error) {\n",
              "            console.error('Error during call to suggestCharts:', error);\n",
              "          }\n",
              "          quickchartButtonEl.classList.remove('colab-df-spinner');\n",
              "          quickchartButtonEl.classList.add('colab-df-quickchart-complete');\n",
              "        }\n",
              "        (() => {\n",
              "          let quickchartButtonEl =\n",
              "            document.querySelector('#df-05254586-1753-431a-aeee-d8f88fcb1727 button');\n",
              "          quickchartButtonEl.style.display =\n",
              "            google.colab.kernel.accessAllowed ? 'block' : 'none';\n",
              "        })();\n",
              "      </script>\n",
              "    </div>\n",
              "\n",
              "    </div>\n",
              "  </div>\n"
            ],
            "application/vnd.google.colaboratory.intrinsic+json": {
              "type": "dataframe",
              "summary": "{\n  \"name\": \"pd\",\n  \"rows\": 501,\n  \"fields\": [\n    {\n      \"column\": \"pregunta\",\n      \"properties\": {\n        \"dtype\": \"category\",\n        \"num_unique_values\": 111,\n        \"samples\": [\n          \"\\u00bfEn cu\\u00e1ntos pa\\u00edses se comercializa Sagrada actualmente?\",\n          \"\\u00bfQu\\u00e9 ilustradores colaboraron con la edici\\u00f3n deluxe?\",\n          \"\\u00bfQui\\u00e9n gan\\u00f3 el torneo nacional de Sagrada en 2021?\"\n        ],\n        \"semantic_type\": \"\",\n        \"description\": \"\"\n      }\n    },\n    {\n      \"column\": \"etiqueta\",\n      \"properties\": {\n        \"dtype\": \"category\",\n        \"num_unique_values\": 3,\n        \"samples\": [\n          \"relaciones\",\n          \"estadisticas\",\n          \"informacion\"\n        ],\n        \"semantic_type\": \"\",\n        \"description\": \"\"\n      }\n    }\n  ]\n}"
            }
          },
          "metadata": {},
          "execution_count": 58
        }
      ]
    },
    {
      "cell_type": "markdown",
      "source": [
        "2. Instaciamos el modelo LLM que actuará como clasificador al entrenarlo con Few-Shot Prompting"
      ],
      "metadata": {
        "id": "l_43OkjSPp83"
      }
    },
    {
      "cell_type": "code",
      "source": [
        "prompt=\"\\n\\\n",
        "SOLAMENTE Clasifica las siguientes preguntas en las posibles categorías donde estará la información: relaciones, estadísticas o información:\\n\\\n",
        "Ejemplo 1:\\n\\\n",
        "¿Qué celebridades han jugado Sagrada?: relaciones\\n\\\n",
        "Ejemplo 2:\\n\\\n",
        "¿Qué porcentaje de jugadores recomiendan Sagrada? // estadísticas\\n\\\n",
        "Ejemplo 3:\\n\\\n",
        "¿Cómo se eligen los dados al inicio del juego?//informacion\"\n",
        "\n",
        "preguntas_ddtaset = \"¿Quién reseñó el juego Sagrada en YouTube?, ¿Cómo se eligen los dados al inicio del juego?, ¿Qué puesto ocupa Sagrada en el ranking global de BoardGameGeek? \"\n",
        "response_preguntas_avanzado = client.models.generate_content(\n",
        "    model=\"gemini-2.5-flash\",\n",
        "    contents=prompt + preguntas_ddtaset\n",
        "\n",
        ")\n"
      ],
      "metadata": {
        "id": "odMowZ78ONCl"
      },
      "execution_count": null,
      "outputs": []
    },
    {
      "cell_type": "markdown",
      "source": [
        "3. Comparamos las respuestas al pasarle las siguientes preguntas que sí estan en el dataset:\n",
        "\n",
        "*   ¿Quién reseñó el juego Sagrada en YouTube? // **relaciones**\n",
        "*   ¿Cómo se eligen los dados al inicio del juego? // **información**\n",
        "*   ¿Qué puesto ocupa Sagrada en el ranking global de BoardGameGeek? // **estadísticas**\n",
        "\n",
        "preguntas que no estan en el dataset\n",
        "\n",
        "* ¿Cuántos dados se necesitan para jugar? --> Info\n",
        "* ¿Cuánto vale el récord máximo en Sagrada? --> estad\n",
        "* ¿Quienes pueden jugar Sagrada? --> info\n",
        "* ¿Qué distribuidora distribuye el juego en Argentina? --> rela"
      ],
      "metadata": {
        "id": "eLXTq5tuVxiI"
      }
    },
    {
      "cell_type": "code",
      "source": [
        "# Respuestas a preguntas en el dataset LLM:\n",
        "print(\"Respuestas LLM con Few-Shot:\\n\" + response_preguntas_avanzado.text)"
      ],
      "metadata": {
        "colab": {
          "base_uri": "https://localhost:8080/"
        },
        "id": "WIybTCoVV3r_",
        "outputId": "629e55c9-0e2d-4b62-d4e0-27132df16f14"
      },
      "execution_count": null,
      "outputs": [
        {
          "output_type": "stream",
          "name": "stdout",
          "text": [
            "Respuestas LLM con Few-Shot:\n",
            "*   ¿Quién reseñó el juego Sagrada en YouTube? // **relaciones**\n",
            "*   ¿Cómo se eligen los dados al inicio del juego? // **información**\n",
            "*   ¿Qué puesto ocupa Sagrada en el ranking global de BoardGameGeek? // **estadísticas**\n"
          ]
        }
      ]
    },
    {
      "cell_type": "markdown",
      "source": [
        "Al LLM le bastó solo 1 ejemplo de cada categoria para responder bien a las preguntas."
      ],
      "metadata": {
        "id": "yoHHUOJvXMy1"
      }
    },
    {
      "cell_type": "markdown",
      "source": [
        "Como los modelos keras no entienden texto directamente, entonces debo vectorizar las preguntas y luego pasarselas para que puedan interpretarlas"
      ],
      "metadata": {
        "id": "ceOytb-tYBPI"
      }
    },
    {
      "cell_type": "code",
      "source": [
        "import numpy as np\n"
      ],
      "metadata": {
        "id": "Fk_SKAsFZI_2"
      },
      "execution_count": null,
      "outputs": []
    },
    {
      "cell_type": "code",
      "source": [
        "def preguntar_modelo_entrenado(preguntas):\n",
        "  clases = {0: \"estadísticas\", 1: \"informacion\", 2: \"relaciones\"}\n",
        "\n",
        "  pregunta_embdd = model.encode(sentences=preguntas, show_progress_bar=True, convert_to_tensor=True).cpu().numpy()\n",
        "\n",
        "  predicciones = modelo_entrenado.predict(pregunta_embdd)\n",
        "\n",
        "  for idx, pregunta in enumerate(preguntas):\n",
        "\n",
        "    clase_predicha = np.argmax(predicciones[idx])\n",
        "\n",
        "    print(f\"Pregunta: {pregunta}, Clase predicha: {clases[clase_predicha]}\")"
      ],
      "metadata": {
        "id": "gDEdXl3xb34j"
      },
      "execution_count": null,
      "outputs": []
    },
    {
      "cell_type": "code",
      "source": [
        "preguntar_modelo_entrenado(['¿Quién reseñó el juego Sagrada en YouTube?','¿Cómo se eligen los dados al inicio del juego?','¿Qué puesto ocupa Sagrada en el ranking global de BoardGameGeek?' ])"
      ],
      "metadata": {
        "colab": {
          "base_uri": "https://localhost:8080/",
          "height": 118,
          "referenced_widgets": [
            "fa9a31099c2b496d8c149ff54c6a20d7",
            "47fdd3e7c3124328a4506e7c58154518",
            "568f81ff802e479bbc800b4a9bcc09fd",
            "8de5a34418374fcb8734889e0e484c55",
            "f65787a3532c4e9b96ba2f0d1cbf9298",
            "fe0b8d33dd044dfca44cabb982d27aad",
            "897e510b032043cc978b0e718250aa13",
            "cbb54be3a48e435295832439f6d31de1",
            "d9c2dbbc4c98490a947882595c03594a",
            "1600ba6b0ca047dc8ec406dc7baa382b",
            "3ee245b674d341f683619d19a8bb1250"
          ]
        },
        "id": "vyW3zn9waJIb",
        "outputId": "6062ef4d-5f22-4b51-a229-76381115e8fe"
      },
      "execution_count": null,
      "outputs": [
        {
          "output_type": "display_data",
          "data": {
            "text/plain": [
              "Batches:   0%|          | 0/1 [00:00<?, ?it/s]"
            ],
            "application/vnd.jupyter.widget-view+json": {
              "version_major": 2,
              "version_minor": 0,
              "model_id": "fa9a31099c2b496d8c149ff54c6a20d7"
            }
          },
          "metadata": {}
        },
        {
          "output_type": "stream",
          "name": "stdout",
          "text": [
            "\u001b[1m1/1\u001b[0m \u001b[32m━━━━━━━━━━━━━━━━━━━━\u001b[0m\u001b[37m\u001b[0m \u001b[1m0s\u001b[0m 125ms/step\n",
            "Pregunta: ¿Quién reseñó el juego Sagrada en YouTube?, Clase predicha: relaciones\n",
            "Pregunta: ¿Cómo se eligen los dados al inicio del juego?, Clase predicha: informacion\n",
            "Pregunta: ¿Qué puesto ocupa Sagrada en el ranking global de BoardGameGeek?, Clase predicha: estadísticas\n"
          ]
        }
      ]
    },
    {
      "cell_type": "markdown",
      "source": [
        "El modelo entrenado tambien logra responder correctamente las categorias de las preguntas que estaban en el dataset. Ahora probaré de pasarle preguntas que NO estaban en el dataset para hacer una comparación un poco mas justa con el llm que no estuvo entrenado con el dataset.\n"
      ],
      "metadata": {
        "id": "xFdcnYaXcBYY"
      }
    },
    {
      "cell_type": "code",
      "source": [
        "preguntas_NOdtaset = \"¿Con cuántos dados se juega?,  ¿Cuál es el récord máximo en Sagrada?, ¿Quienes pueden jugar Sagrada?, ¿Qué distribuidora distribuye el juego en Argentina?\""
      ],
      "metadata": {
        "id": "z3HvWBl2da29"
      },
      "execution_count": null,
      "outputs": []
    },
    {
      "cell_type": "code",
      "source": [
        "preguntar_modelo_entrenado(preguntas_NOdtaset.split(', '))"
      ],
      "metadata": {
        "colab": {
          "base_uri": "https://localhost:8080/",
          "height": 136,
          "referenced_widgets": [
            "534058290f39419197606d9d78cf4c21",
            "684ee7a009d04f0180abb8bed94180b9",
            "b343fadbd79d4e6d8955ceea527f5244",
            "4a1fb9e4f1f54106a87199c5e468b2d6",
            "5f091a8b0238442aa7e864ac167a5494",
            "572c89f08fdb4ddc802c404842a77427",
            "b7a21d7496a3464d8c91623955373cc9",
            "fc7b2d0e61a2480bb3718d29c72e96a8",
            "8167bc337bb140e1836126dfeb683735",
            "774d23dcfdde40ff8977f01627efcf5d",
            "71601c1ba383480e8cb7b3a27cb6a840"
          ]
        },
        "id": "AL0Mjtwadccd",
        "outputId": "b5614a7f-9187-4071-92a9-3842e48e2203"
      },
      "execution_count": null,
      "outputs": [
        {
          "output_type": "display_data",
          "data": {
            "text/plain": [
              "Batches:   0%|          | 0/1 [00:00<?, ?it/s]"
            ],
            "application/vnd.jupyter.widget-view+json": {
              "version_major": 2,
              "version_minor": 0,
              "model_id": "534058290f39419197606d9d78cf4c21"
            }
          },
          "metadata": {}
        },
        {
          "output_type": "stream",
          "name": "stdout",
          "text": [
            "\u001b[1m1/1\u001b[0m \u001b[32m━━━━━━━━━━━━━━━━━━━━\u001b[0m\u001b[37m\u001b[0m \u001b[1m0s\u001b[0m 79ms/step\n",
            "Pregunta: ¿Con cuántos dados se juega?, Clase predicha: informacion\n",
            "Pregunta:  ¿Cuál es el récord máximo en Sagrada?, Clase predicha: estadísticas\n",
            "Pregunta: ¿Quienes pueden jugar Sagrada?, Clase predicha: relaciones\n",
            "Pregunta: ¿Qué distribuidora distribuye el juego en Argentina?, Clase predicha: relaciones\n"
          ]
        }
      ]
    },
    {
      "cell_type": "markdown",
      "source": [
        "Al pasarle preguntas que nunca vio, falla en las categorias de relaciones e información."
      ],
      "metadata": {
        "id": "JQwrDykodKR7"
      }
    },
    {
      "cell_type": "markdown",
      "source": [
        "Veamos como clasifica estas preguntas el LLM"
      ],
      "metadata": {
        "id": "ZZleWnPldHhC"
      }
    },
    {
      "cell_type": "code",
      "source": [
        "prompt=\"\\n\\\n",
        "SOLAMENTE Clasifica las siguientes preguntas en las posibles categorías donde estará la información: relaciones, estadísticas o información:\\n\\\n",
        "Ejemplo 1:\\n\\\n",
        "¿Qué celebridades han jugado Sagrada?: relaciones\\n\\\n",
        "Ejemplo 2:\\n\\\n",
        "¿Qué porcentaje de jugadores recomiendan Sagrada? // estadísticas\\n\\\n",
        "Ejemplo 3:\\n\\\n",
        "¿Cómo se eligen los dados al inicio del juego?//informacion\"\n",
        "\n",
        "\n",
        "response_preguntas_avanzado_NOdtaset = client.models.generate_content(\n",
        "    model=\"gemini-2.5-flash\",\n",
        "    contents=prompt + preguntas_NOdtaset\n",
        "\n",
        ")"
      ],
      "metadata": {
        "id": "5RqB9QttV3oR"
      },
      "execution_count": null,
      "outputs": []
    },
    {
      "cell_type": "code",
      "source": [
        "print(response_preguntas_avanzado_NOdtaset.text)"
      ],
      "metadata": {
        "colab": {
          "base_uri": "https://localhost:8080/"
        },
        "id": "xyE9LwLHczbE",
        "outputId": "02baf2cb-1da8-4ea3-c6f7-0b53c23b8e7a"
      },
      "execution_count": null,
      "outputs": [
        {
          "output_type": "stream",
          "name": "stdout",
          "text": [
            "Aquí están las clasificaciones de las preguntas:\n",
            "\n",
            "*   ¿Con cuántos dados se juega? // información\n",
            "*   ¿Cuál es el récord máximo en Sagrada? // estadísticas\n",
            "*   ¿Quiénes pueden jugar Sagrada? // información\n",
            "*   ¿Qué distribuidora distribuye el juego en Argentina? // relaciones\n"
          ]
        }
      ]
    },
    {
      "cell_type": "markdown",
      "source": [
        "El LLM acierta el 100% de las categorías haciendolo mas eficiente que el modelo entrenado"
      ],
      "metadata": {
        "id": "HZM_eH9aXbXq"
      }
    },
    {
      "cell_type": "markdown",
      "source": [
        "# Pipeline de Recuperación (Retrieval)\n",
        "\n",
        "Por un lasdo, en esta etapa mejoraré las funciones definidas en los pasos de la creción de base de datos vectorial con la información de los textos implementando:\n",
        "- Búsqueda híbrida = Búsqueda semántica por keyword + ReRank.\n",
        "\n",
        "Por el otro, para la base de datos de grafos y datos tabulares:\n",
        "- Prompt de usuar --> Filtro Pandas + Query Cypher\n",
        "\n"
      ],
      "metadata": {
        "id": "059H8-7yeSdn"
      }
    },
    {
      "cell_type": "code",
      "source": [
        "## Interfaz creada anteriormente:\n",
        "#def encontrar_textos_para_query(consulta: str , cantidadtextos: int):\n",
        "#\n",
        "#  query = consulta\n",
        "#\n",
        "#  # Búsqueda en la BDD vectorial\n",
        "#  retrieved_docs = vector_store.similarity_search(query, k=cantidadtextos)\n",
        "#\n",
        "#  for num, d in enumerate(retrieved_docs):\n",
        "#      print(f\"Doc number: {num+1}\")\n",
        "#      print(d.page_content)\n",
        "#      print(\"Metadata:\")\n",
        "#      print(d.metadata)\n",
        "#      print(\"-\"*100)\n",
        "\n",
        "\n"
      ],
      "metadata": {
        "id": "4C1LW17Z-Szk"
      },
      "execution_count": null,
      "outputs": []
    },
    {
      "cell_type": "code",
      "source": [
        "!pip install txtai"
      ],
      "metadata": {
        "colab": {
          "base_uri": "https://localhost:8080/"
        },
        "id": "rpGI5nVH-zBa",
        "outputId": "7eeab4a7-5a43-465a-fef5-0d4395d4a839"
      },
      "execution_count": null,
      "outputs": [
        {
          "output_type": "stream",
          "name": "stdout",
          "text": [
            "Requirement already satisfied: txtai in /usr/local/lib/python3.11/dist-packages (8.6.0)\n",
            "Requirement already satisfied: faiss-cpu>=1.7.1.post2 in /usr/local/lib/python3.11/dist-packages (from txtai) (1.11.0)\n",
            "Requirement already satisfied: msgpack>=1.0.7 in /usr/local/lib/python3.11/dist-packages (from txtai) (1.1.1)\n",
            "Requirement already satisfied: torch>=1.12.1 in /usr/local/lib/python3.11/dist-packages (from txtai) (2.6.0+cu124)\n",
            "Requirement already satisfied: transformers>=4.45.0 in /usr/local/lib/python3.11/dist-packages (from txtai) (4.52.4)\n",
            "Requirement already satisfied: huggingface-hub>=0.19.0 in /usr/local/lib/python3.11/dist-packages (from txtai) (0.33.0)\n",
            "Requirement already satisfied: numpy>=1.18.4 in /usr/local/lib/python3.11/dist-packages (from txtai) (2.0.2)\n",
            "Requirement already satisfied: pyyaml>=5.3 in /usr/local/lib/python3.11/dist-packages (from txtai) (6.0.2)\n",
            "Requirement already satisfied: regex>=2022.8.17 in /usr/local/lib/python3.11/dist-packages (from txtai) (2024.11.6)\n",
            "Requirement already satisfied: packaging in /usr/local/lib/python3.11/dist-packages (from faiss-cpu>=1.7.1.post2->txtai) (24.2)\n",
            "Requirement already satisfied: filelock in /usr/local/lib/python3.11/dist-packages (from huggingface-hub>=0.19.0->txtai) (3.18.0)\n",
            "Requirement already satisfied: fsspec>=2023.5.0 in /usr/local/lib/python3.11/dist-packages (from huggingface-hub>=0.19.0->txtai) (2025.3.2)\n",
            "Requirement already satisfied: requests in /usr/local/lib/python3.11/dist-packages (from huggingface-hub>=0.19.0->txtai) (2.32.3)\n",
            "Requirement already satisfied: tqdm>=4.42.1 in /usr/local/lib/python3.11/dist-packages (from huggingface-hub>=0.19.0->txtai) (4.67.1)\n",
            "Requirement already satisfied: typing-extensions>=3.7.4.3 in /usr/local/lib/python3.11/dist-packages (from huggingface-hub>=0.19.0->txtai) (4.14.0)\n",
            "Requirement already satisfied: hf-xet<2.0.0,>=1.1.2 in /usr/local/lib/python3.11/dist-packages (from huggingface-hub>=0.19.0->txtai) (1.1.3)\n",
            "Requirement already satisfied: networkx in /usr/local/lib/python3.11/dist-packages (from torch>=1.12.1->txtai) (3.5)\n",
            "Requirement already satisfied: jinja2 in /usr/local/lib/python3.11/dist-packages (from torch>=1.12.1->txtai) (3.1.6)\n",
            "Requirement already satisfied: nvidia-cuda-nvrtc-cu12==12.4.127 in /usr/local/lib/python3.11/dist-packages (from torch>=1.12.1->txtai) (12.4.127)\n",
            "Requirement already satisfied: nvidia-cuda-runtime-cu12==12.4.127 in /usr/local/lib/python3.11/dist-packages (from torch>=1.12.1->txtai) (12.4.127)\n",
            "Requirement already satisfied: nvidia-cuda-cupti-cu12==12.4.127 in /usr/local/lib/python3.11/dist-packages (from torch>=1.12.1->txtai) (12.4.127)\n",
            "Requirement already satisfied: nvidia-cudnn-cu12==9.1.0.70 in /usr/local/lib/python3.11/dist-packages (from torch>=1.12.1->txtai) (9.1.0.70)\n",
            "Requirement already satisfied: nvidia-cublas-cu12==12.4.5.8 in /usr/local/lib/python3.11/dist-packages (from torch>=1.12.1->txtai) (12.4.5.8)\n",
            "Requirement already satisfied: nvidia-cufft-cu12==11.2.1.3 in /usr/local/lib/python3.11/dist-packages (from torch>=1.12.1->txtai) (11.2.1.3)\n",
            "Requirement already satisfied: nvidia-curand-cu12==10.3.5.147 in /usr/local/lib/python3.11/dist-packages (from torch>=1.12.1->txtai) (10.3.5.147)\n",
            "Requirement already satisfied: nvidia-cusolver-cu12==11.6.1.9 in /usr/local/lib/python3.11/dist-packages (from torch>=1.12.1->txtai) (11.6.1.9)\n",
            "Requirement already satisfied: nvidia-cusparse-cu12==12.3.1.170 in /usr/local/lib/python3.11/dist-packages (from torch>=1.12.1->txtai) (12.3.1.170)\n",
            "Requirement already satisfied: nvidia-cusparselt-cu12==0.6.2 in /usr/local/lib/python3.11/dist-packages (from torch>=1.12.1->txtai) (0.6.2)\n",
            "Requirement already satisfied: nvidia-nccl-cu12==2.21.5 in /usr/local/lib/python3.11/dist-packages (from torch>=1.12.1->txtai) (2.21.5)\n",
            "Requirement already satisfied: nvidia-nvtx-cu12==12.4.127 in /usr/local/lib/python3.11/dist-packages (from torch>=1.12.1->txtai) (12.4.127)\n",
            "Requirement already satisfied: nvidia-nvjitlink-cu12==12.4.127 in /usr/local/lib/python3.11/dist-packages (from torch>=1.12.1->txtai) (12.4.127)\n",
            "Requirement already satisfied: triton==3.2.0 in /usr/local/lib/python3.11/dist-packages (from torch>=1.12.1->txtai) (3.2.0)\n",
            "Requirement already satisfied: sympy==1.13.1 in /usr/local/lib/python3.11/dist-packages (from torch>=1.12.1->txtai) (1.13.1)\n",
            "Requirement already satisfied: mpmath<1.4,>=1.1.0 in /usr/local/lib/python3.11/dist-packages (from sympy==1.13.1->torch>=1.12.1->txtai) (1.3.0)\n",
            "Requirement already satisfied: tokenizers<0.22,>=0.21 in /usr/local/lib/python3.11/dist-packages (from transformers>=4.45.0->txtai) (0.21.1)\n",
            "Requirement already satisfied: safetensors>=0.4.3 in /usr/local/lib/python3.11/dist-packages (from transformers>=4.45.0->txtai) (0.5.3)\n",
            "Requirement already satisfied: MarkupSafe>=2.0 in /usr/local/lib/python3.11/dist-packages (from jinja2->torch>=1.12.1->txtai) (3.0.2)\n",
            "Requirement already satisfied: charset-normalizer<4,>=2 in /usr/local/lib/python3.11/dist-packages (from requests->huggingface-hub>=0.19.0->txtai) (3.4.2)\n",
            "Requirement already satisfied: idna<4,>=2.5 in /usr/local/lib/python3.11/dist-packages (from requests->huggingface-hub>=0.19.0->txtai) (3.10)\n",
            "Requirement already satisfied: urllib3<3,>=1.21.1 in /usr/local/lib/python3.11/dist-packages (from requests->huggingface-hub>=0.19.0->txtai) (2.4.0)\n",
            "Requirement already satisfied: certifi>=2017.4.17 in /usr/local/lib/python3.11/dist-packages (from requests->huggingface-hub>=0.19.0->txtai) (2025.6.15)\n"
          ]
        }
      ]
    },
    {
      "cell_type": "code",
      "source": [
        "from txtai.scoring import ScoringFactory"
      ],
      "metadata": {
        "id": "AJuYWpZGDp8M"
      },
      "execution_count": null,
      "outputs": []
    },
    {
      "cell_type": "code",
      "source": [
        "def pipeline_retrical_textos_para_query_hibrida(consulta: str, view=False):\n",
        "\n",
        "  documentos_cercanos=[]\n",
        "\n",
        "  # Búsqueda en la BDD vectorial, nos traemos los primeros 15 texto mas cercanos en el espacio vectorial\n",
        "  retrieved_docs = vector_store.similarity_search(consulta, k=15)\n",
        "\n",
        "  for d in retrieved_docs:\n",
        "    documentos_cercanos.append(d.page_content)\n",
        "\n",
        "\n",
        "  # Crear un índice BM25\n",
        "  scoring = ScoringFactory.create({\"method\": \"bm25\", \"terms\": True})\n",
        "  scoring.index(((x, texto, None) for x, texto in enumerate(documentos_cercanos)))\n",
        "\n",
        "  resultados = scoring.search(consulta, 1)\n",
        "  coincidencia = documentos_cercanos[resultados[0][0]] if resultados else \"Sin resultados\"\n",
        "\n",
        "  if view:\n",
        "    #Mostramos resultados en pantalla\n",
        "    # Obtener el índice de la sección que mejor coincide con la consulta\n",
        "    print(\"%-20s %s\" % (\"Consulta\", \"Mejor coincidencia\"))\n",
        "    print(\"-\" * 50)\n",
        "    print(\"%-20s %s\" % (consulta, coincidencia))\n",
        "\n",
        "  return coincidencia\n"
      ],
      "metadata": {
        "id": "bNXHrgsp-hkn"
      },
      "execution_count": null,
      "outputs": []
    },
    {
      "cell_type": "code",
      "source": [
        "pipeline_retrical_textos_para_query_hibrida(\"Can kids play Sagrada?\", view=True)"
      ],
      "metadata": {
        "colab": {
          "base_uri": "https://localhost:8080/",
          "height": 1000
        },
        "id": "KnT3_hl-FzoO",
        "outputId": "1c6b63e6-4d12-46b8-a182-4cc92d2c1918"
      },
      "execution_count": null,
      "outputs": [
        {
          "output_type": "stream",
          "name": "stdout",
          "text": [
            "Consulta             Mejor coincidencia\n",
            "--------------------------------------------------\n",
            "Can kids play Sagrada? and you're gonna have to\n",
            "use your tools at that point the only\n",
            "thing that I don't like about the game\n",
            "and this may just be me is that I feel\n",
            "like after you've played this game I\n",
            "don't know four or five times you will\n",
            "have seen everything that you possibly\n",
            "can see there's only 12 tools there's\n",
            "five public objectives all our private\n",
            "objectives all the private objectives\n",
            "are four colors so there's no variance\n",
            "and that other than trying to meet a\n",
            "very specific color and then there are\n",
            "ten public objectives I feel like with\n",
            "one media expansion that allows for more\n",
            "variety and your private objectives it\n",
            "could be a very good game I would agree\n",
            "with the fact that it's right for\n",
            "expansion\n",
            "\n",
            "yes like you could just\n",
            "continually come out with more\n",
            "windowpane guards more tools all sorts\n",
            "of different things\n",
            "I still think though at the end of the\n",
            "day the game while some of those\n",
            "variable elements can you can get\n",
            "through in a few games pretty easily the\n",
            "game itself because you're drafting dice\n",
            "because you're rolling dice that's gonna\n",
            "be different every time because you can\n",
            "take so many different things during any\n",
            "given game it definitely has a lot of\n",
            "replayability in my opinion\n",
            "\n",
            "plus I think\n",
            "one of the greatest things about this\n",
            "game is its extraordinaire aliy except\n",
            "accessible\n",
            "\n",
            "yeah\n",
            "\n",
            "this is a great gateway\n",
            "game it's beautiful to look at anyone\n",
            "could play this I think so too\n",
            "\n",
            "I mean I\n",
            "think I think an eight-year-old who can\n",
            "obviously read it could play this game\n",
            "they're gonna screw up\n",
            "\n",
            "but that's part\n",
            "of the fun of solving these puzzles is\n",
            "placing dice and learning from that and\n",
            "I think this doesn't punish you too much\n",
            "for doing that\n",
            "\n",
            "yeah um a great\n",
            "opportunity to teach kids you know some\n",
            "of the new the nuances of a game like\n",
            "this particularly with these tools and\n",
            "how you can use things to manipulate you\n",
            "know mistakes you've made\n",
            "yeah beautiful looking game guys this is\n",
            "a grotto by floodgate games\n",
            "congratulations to them it looks good\n",
            "absolutely standing on the table if you\n",
            "guys have any questions make comments\n",
            "below please subscribe to us as always\n",
            "follow us on Twitter like us on Facebook\n",
            "and everything else that we do here at\n",
            "man vs. meeple and we will catch you\n",
            "guys next time\n",
            "\n",
            "bye bye\n",
            "\n",
            "\n",
            "[Music]\n",
            "\n",
            "\n",
            "[Music]\n",
            "you\n"
          ]
        },
        {
          "output_type": "execute_result",
          "data": {
            "text/plain": [
              "\"and you're gonna have to\\nuse your tools at that point the only\\nthing that I don't like about the game\\nand this may just be me is that I feel\\nlike after you've played this game I\\ndon't know four or five times you will\\nhave seen everything that you possibly\\ncan see there's only 12 tools there's\\nfive public objectives all our private\\nobjectives all the private objectives\\nare four colors so there's no variance\\nand that other than trying to meet a\\nvery specific color and then there are\\nten public objectives I feel like with\\none media expansion that allows for more\\nvariety and your private objectives it\\ncould be a very good game I would agree\\nwith the fact that it's right for\\nexpansion\\n\\nyes like you could just\\ncontinually come out with more\\nwindowpane guards more tools all sorts\\nof different things\\nI still think though at the end of the\\nday the game while some of those\\nvariable elements can you can get\\nthrough in a few games pretty easily the\\ngame itself because you're drafting dice\\nbecause you're rolling dice that's gonna\\nbe different every time because you can\\ntake so many different things during any\\ngiven game it definitely has a lot of\\nreplayability in my opinion\\n\\nplus I think\\none of the greatest things about this\\ngame is its extraordinaire aliy except\\naccessible\\n\\nyeah\\n\\nthis is a great gateway\\ngame it's beautiful to look at anyone\\ncould play this I think so too\\n\\nI mean I\\nthink I think an eight-year-old who can\\nobviously read it could play this game\\nthey're gonna screw up\\n\\nbut that's part\\nof the fun of solving these puzzles is\\nplacing dice and learning from that and\\nI think this doesn't punish you too much\\nfor doing that\\n\\nyeah um a great\\nopportunity to teach kids you know some\\nof the new the nuances of a game like\\nthis particularly with these tools and\\nhow you can use things to manipulate you\\nknow mistakes you've made\\nyeah beautiful looking game guys this is\\na grotto by floodgate games\\ncongratulations to them it looks good\\nabsolutely standing on the table if you\\nguys have any questions make comments\\nbelow please subscribe to us as always\\nfollow us on Twitter like us on Facebook\\nand everything else that we do here at\\nman vs. meeple and we will catch you\\nguys next time\\n\\nbye bye\\n\\n\\n[Music]\\n\\n\\n[Music]\\nyou\""
            ],
            "application/vnd.google.colaboratory.intrinsic+json": {
              "type": "string"
            }
          },
          "metadata": {},
          "execution_count": 72
        }
      ]
    },
    {
      "cell_type": "code",
      "source": [
        "def categorizacion_con_llm(pregunta):\n",
        "  prompt=\"\\n\\\n",
        "  SOLAMENTE devuelve el valor clasificado y  Clasifica las siguientes preguntas en las posibles categorías donde estará la información: relaciones, estadísticas o información:\\n\\\n",
        "  Ejemplo 1:\\n\\\n",
        "  ¿Qué celebridades han jugado Sagrada?: relaciones\\n\\\n",
        "  Ejemplo 2:\\n\\\n",
        "  ¿Qué porcentaje de jugadores recomiendan Sagrada? // estadísticas\\n\\\n",
        "  Ejemplo 3:\\n\\\n",
        "  ¿Cómo se eligen los dados al inicio del juego?//informacion\"\n",
        "\n",
        "  response_preguntas_avanzado = client.models.generate_content(\n",
        "      model=\"gemini-2.5-flash\",\n",
        "      contents=prompt + pregunta\n",
        "\n",
        "  )\n",
        "  return response_preguntas_avanzado.text"
      ],
      "metadata": {
        "id": "0OmLaE8gOSnK"
      },
      "execution_count": null,
      "outputs": []
    },
    {
      "cell_type": "code",
      "source": [
        "def pipeline_retrival_grafos(consulta):\n",
        "\n",
        "    # Evaluar si la consulta esta semanticamente relacionada con relaciones o estadísticas, aprovechando el modelo LLM de los puntos anteriores\n",
        "    response_categoria = categorizacion_con_llm(consulta)\n",
        "    additional_info = \"\"\n",
        "    motor = \"Pandas\"\n",
        "    pd_info =  \"\"\n",
        "    valores_info = \"\"\n",
        "    valores_info_categorias = \"\"\n",
        "\n",
        "    if response_categoria == \"relaciones\":\n",
        "      motor = \"Cypher y Pandas\"\n",
        "      aditional_info = \"Sagrada is always the value of SUJETO1\"\n",
        "      pd_info = df_relaciones.columns\n",
        "      valores_info = df_relaciones['RELACION'].unique()\n",
        "\n",
        "\n",
        "    if response_categoria == \"estadísticas\":\n",
        "      motor = \"Pandas\"\n",
        "      pd_info =  df_estadísticas.columns\n",
        "      valores_info= df_estadísticas['Metric'].unique()\n",
        "      valores_info_categorias = df_estadísticas['Category'].unique()\n",
        "      additional_info = f\"The template should be compound search the category and the metric:\"\n",
        "\n",
        "    elif  response_categoria == \"informacion\":\n",
        "      raise ValueError(f'La consulta no corresponde a dato tabular. Fue clasificada como {response_categoria} ')\n",
        "      return\n",
        "\n",
        "    response_relaciones = client.models.generate_content(\n",
        "      model=\"gemini-2.5-flash\",\n",
        "\n",
        "      # system_instruction con las queries filtradas\n",
        "      config=types.GenerateContentConfig(system_instruction=\"Just give the answer do not explain\"),\n",
        "      contents=f\"{consulta}. Generate the correspoding {motor} filter depending on the dataframe with the columns {pd_info} and the unique values of those columns being {valores_info}. {additional_info}, with the right value for {valores_info_categorias} \"\n",
        "    )\n",
        "\n",
        "    return response_relaciones.text\n"
      ],
      "metadata": {
        "id": "IUItVu7rHe-z"
      },
      "execution_count": null,
      "outputs": []
    },
    {
      "cell_type": "code",
      "source": [
        "print(pipeline_retrival_grafos('Quienes crearon sagrada'))"
      ],
      "metadata": {
        "colab": {
          "base_uri": "https://localhost:8080/"
        },
        "id": "VbyISr7SP_Gn",
        "outputId": "eeef51e8-a9cf-4b49-b8f9-d4ba8b93035e"
      },
      "execution_count": null,
      "outputs": [
        {
          "output_type": "stream",
          "name": "stdout",
          "text": [
            "**Cypher:**\n",
            "```cypher\n",
            "MATCH (game:PrimaryName {name: 'Sagrada'})-[:Designers]->(designer)\n",
            "RETURN designer.name\n",
            "```\n",
            "\n",
            "**Pandas Filter:**\n",
            "```python\n",
            "df[(df['SUJETO1'] == 'Sagrada') & (df['RELACION'] == 'Designers')]['SUJETO2']\n",
            "```\n"
          ]
        }
      ]
    },
    {
      "cell_type": "code",
      "source": [
        "df_relaciones[(df_relaciones['SUJETO1'] == 'Sagrada') & (df_relaciones['RELACION'] == 'Designers')]['SUJETO2']"
      ],
      "metadata": {
        "id": "W7070QlY2GrB",
        "colab": {
          "base_uri": "https://localhost:8080/",
          "height": 147
        },
        "outputId": "03105016-b1e2-496f-a80b-a34fa976dcd6"
      },
      "execution_count": null,
      "outputs": [
        {
          "output_type": "execute_result",
          "data": {
            "text/plain": [
              "1    Adrian Adamescu\n",
              "2      Daryl Andrews\n",
              "Name: SUJETO2, dtype: object"
            ],
            "text/html": [
              "<div>\n",
              "<style scoped>\n",
              "    .dataframe tbody tr th:only-of-type {\n",
              "        vertical-align: middle;\n",
              "    }\n",
              "\n",
              "    .dataframe tbody tr th {\n",
              "        vertical-align: top;\n",
              "    }\n",
              "\n",
              "    .dataframe thead th {\n",
              "        text-align: right;\n",
              "    }\n",
              "</style>\n",
              "<table border=\"1\" class=\"dataframe\">\n",
              "  <thead>\n",
              "    <tr style=\"text-align: right;\">\n",
              "      <th></th>\n",
              "      <th>SUJETO2</th>\n",
              "    </tr>\n",
              "  </thead>\n",
              "  <tbody>\n",
              "    <tr>\n",
              "      <th>1</th>\n",
              "      <td>Adrian Adamescu</td>\n",
              "    </tr>\n",
              "    <tr>\n",
              "      <th>2</th>\n",
              "      <td>Daryl Andrews</td>\n",
              "    </tr>\n",
              "  </tbody>\n",
              "</table>\n",
              "</div><br><label><b>dtype:</b> object</label>"
            ]
          },
          "metadata": {},
          "execution_count": 76
        }
      ]
    },
    {
      "cell_type": "code",
      "source": [
        "print(pipeline_retrival_grafos('Cuantos comentarios tiene el juego?'))"
      ],
      "metadata": {
        "id": "PyV80U9fUt_w",
        "colab": {
          "base_uri": "https://localhost:8080/"
        },
        "outputId": "bc17e755-e57b-4f8e-86de-915d51038f98"
      },
      "execution_count": null,
      "outputs": [
        {
          "output_type": "stream",
          "name": "stdout",
          "text": [
            "`(df['Category'] == 'GAME STATS') & (df['Metric'] == 'Comments')`\n"
          ]
        }
      ]
    },
    {
      "cell_type": "code",
      "source": [
        "df_estadísticas[(df_estadísticas['Category'] == 'GAME STATS') & (df_estadísticas['Metric'] == 'Comments')]"
      ],
      "metadata": {
        "id": "W7qdd1BjDmho",
        "colab": {
          "base_uri": "https://localhost:8080/",
          "height": 81
        },
        "outputId": "d1508c36-c161-4086-a416-4b01fde839ac"
      },
      "execution_count": null,
      "outputs": [
        {
          "output_type": "execute_result",
          "data": {
            "text/plain": [
              "     Category    Metric   Value\n",
              "4  GAME STATS  Comments  6137.0"
            ],
            "text/html": [
              "\n",
              "  <div id=\"df-d0053052-1684-465d-a711-02057a09dd00\" class=\"colab-df-container\">\n",
              "    <div>\n",
              "<style scoped>\n",
              "    .dataframe tbody tr th:only-of-type {\n",
              "        vertical-align: middle;\n",
              "    }\n",
              "\n",
              "    .dataframe tbody tr th {\n",
              "        vertical-align: top;\n",
              "    }\n",
              "\n",
              "    .dataframe thead th {\n",
              "        text-align: right;\n",
              "    }\n",
              "</style>\n",
              "<table border=\"1\" class=\"dataframe\">\n",
              "  <thead>\n",
              "    <tr style=\"text-align: right;\">\n",
              "      <th></th>\n",
              "      <th>Category</th>\n",
              "      <th>Metric</th>\n",
              "      <th>Value</th>\n",
              "    </tr>\n",
              "  </thead>\n",
              "  <tbody>\n",
              "    <tr>\n",
              "      <th>4</th>\n",
              "      <td>GAME STATS</td>\n",
              "      <td>Comments</td>\n",
              "      <td>6137.0</td>\n",
              "    </tr>\n",
              "  </tbody>\n",
              "</table>\n",
              "</div>\n",
              "    <div class=\"colab-df-buttons\">\n",
              "\n",
              "  <div class=\"colab-df-container\">\n",
              "    <button class=\"colab-df-convert\" onclick=\"convertToInteractive('df-d0053052-1684-465d-a711-02057a09dd00')\"\n",
              "            title=\"Convert this dataframe to an interactive table.\"\n",
              "            style=\"display:none;\">\n",
              "\n",
              "  <svg xmlns=\"http://www.w3.org/2000/svg\" height=\"24px\" viewBox=\"0 -960 960 960\">\n",
              "    <path d=\"M120-120v-720h720v720H120Zm60-500h600v-160H180v160Zm220 220h160v-160H400v160Zm0 220h160v-160H400v160ZM180-400h160v-160H180v160Zm440 0h160v-160H620v160ZM180-180h160v-160H180v160Zm440 0h160v-160H620v160Z\"/>\n",
              "  </svg>\n",
              "    </button>\n",
              "\n",
              "  <style>\n",
              "    .colab-df-container {\n",
              "      display:flex;\n",
              "      gap: 12px;\n",
              "    }\n",
              "\n",
              "    .colab-df-convert {\n",
              "      background-color: #E8F0FE;\n",
              "      border: none;\n",
              "      border-radius: 50%;\n",
              "      cursor: pointer;\n",
              "      display: none;\n",
              "      fill: #1967D2;\n",
              "      height: 32px;\n",
              "      padding: 0 0 0 0;\n",
              "      width: 32px;\n",
              "    }\n",
              "\n",
              "    .colab-df-convert:hover {\n",
              "      background-color: #E2EBFA;\n",
              "      box-shadow: 0px 1px 2px rgba(60, 64, 67, 0.3), 0px 1px 3px 1px rgba(60, 64, 67, 0.15);\n",
              "      fill: #174EA6;\n",
              "    }\n",
              "\n",
              "    .colab-df-buttons div {\n",
              "      margin-bottom: 4px;\n",
              "    }\n",
              "\n",
              "    [theme=dark] .colab-df-convert {\n",
              "      background-color: #3B4455;\n",
              "      fill: #D2E3FC;\n",
              "    }\n",
              "\n",
              "    [theme=dark] .colab-df-convert:hover {\n",
              "      background-color: #434B5C;\n",
              "      box-shadow: 0px 1px 3px 1px rgba(0, 0, 0, 0.15);\n",
              "      filter: drop-shadow(0px 1px 2px rgba(0, 0, 0, 0.3));\n",
              "      fill: #FFFFFF;\n",
              "    }\n",
              "  </style>\n",
              "\n",
              "    <script>\n",
              "      const buttonEl =\n",
              "        document.querySelector('#df-d0053052-1684-465d-a711-02057a09dd00 button.colab-df-convert');\n",
              "      buttonEl.style.display =\n",
              "        google.colab.kernel.accessAllowed ? 'block' : 'none';\n",
              "\n",
              "      async function convertToInteractive(key) {\n",
              "        const element = document.querySelector('#df-d0053052-1684-465d-a711-02057a09dd00');\n",
              "        const dataTable =\n",
              "          await google.colab.kernel.invokeFunction('convertToInteractive',\n",
              "                                                    [key], {});\n",
              "        if (!dataTable) return;\n",
              "\n",
              "        const docLinkHtml = 'Like what you see? Visit the ' +\n",
              "          '<a target=\"_blank\" href=https://colab.research.google.com/notebooks/data_table.ipynb>data table notebook</a>'\n",
              "          + ' to learn more about interactive tables.';\n",
              "        element.innerHTML = '';\n",
              "        dataTable['output_type'] = 'display_data';\n",
              "        await google.colab.output.renderOutput(dataTable, element);\n",
              "        const docLink = document.createElement('div');\n",
              "        docLink.innerHTML = docLinkHtml;\n",
              "        element.appendChild(docLink);\n",
              "      }\n",
              "    </script>\n",
              "  </div>\n",
              "\n",
              "\n",
              "    </div>\n",
              "  </div>\n"
            ],
            "application/vnd.google.colaboratory.intrinsic+json": {
              "type": "dataframe",
              "summary": "{\n  \"name\": \"df_estad\\u00edsticas[(df_estad\\u00edsticas['Category'] == 'GAME STATS') & (df_estad\\u00edsticas['Metric'] == 'Comments')]\",\n  \"rows\": 1,\n  \"fields\": [\n    {\n      \"column\": \"Category\",\n      \"properties\": {\n        \"dtype\": \"string\",\n        \"num_unique_values\": 1,\n        \"samples\": [\n          \"GAME STATS\"\n        ],\n        \"semantic_type\": \"\",\n        \"description\": \"\"\n      }\n    },\n    {\n      \"column\": \"Metric\",\n      \"properties\": {\n        \"dtype\": \"string\",\n        \"num_unique_values\": 1,\n        \"samples\": [\n          \"Comments\"\n        ],\n        \"semantic_type\": \"\",\n        \"description\": \"\"\n      }\n    },\n    {\n      \"column\": \"Value\",\n      \"properties\": {\n        \"dtype\": \"number\",\n        \"std\": null,\n        \"min\": 6137.0,\n        \"max\": 6137.0,\n        \"num_unique_values\": 1,\n        \"samples\": [\n          6137.0\n        ],\n        \"semantic_type\": \"\",\n        \"description\": \"\"\n      }\n    }\n  ]\n}"
            }
          },
          "metadata": {},
          "execution_count": 78
        }
      ]
    },
    {
      "cell_type": "markdown",
      "source": [
        "# Integrar para la Generación y Conversación:\n",
        "1. Definir el modo de integración de los componentes:\n",
        "clasificador + recuperadores + un LLM generador\n",
        "categorizacion_con_llm(pregunta) + pipeline_retrival_grafos/pipeline_retrical_textos_para_query_hibrida\n",
        "\n",
        "Para eso crearé una funcion para procesar mi query, agregarle contexto y luego pasarsela al chat: process_query_with_rag\n",
        "\n",
        "2. Crear el bucle conversacional con memoria para mantener el contexto de la conversarcion. Si no encuentra información relevante, el LLM debe generar una respuesta sugiriendo al usuario reformular su pregunta.\n"
      ],
      "metadata": {
        "id": "4EQC7ebnYPiz"
      }
    },
    {
      "cell_type": "markdown",
      "source": [
        "Como las interface ya fueron creadas en los puntos anteriores.Ahora tengo que implementar el LLM que tenga memoria y luego integrarlas"
      ],
      "metadata": {
        "id": "sTqcszcEbqfH"
      }
    },
    {
      "cell_type": "code",
      "source": [
        "!pip install langchain_google_genai"
      ],
      "metadata": {
        "id": "qvyc4fcMcxHC",
        "colab": {
          "base_uri": "https://localhost:8080/"
        },
        "outputId": "12e2bdbb-1a94-4648-de3f-b55b69012bbc"
      },
      "execution_count": null,
      "outputs": [
        {
          "output_type": "stream",
          "name": "stdout",
          "text": [
            "Requirement already satisfied: langchain_google_genai in /usr/local/lib/python3.11/dist-packages (2.1.5)\n",
            "Requirement already satisfied: filetype<2.0.0,>=1.2.0 in /usr/local/lib/python3.11/dist-packages (from langchain_google_genai) (1.2.0)\n",
            "Requirement already satisfied: google-ai-generativelanguage<0.7.0,>=0.6.18 in /usr/local/lib/python3.11/dist-packages (from langchain_google_genai) (0.6.18)\n",
            "Requirement already satisfied: langchain-core<0.4.0,>=0.3.62 in /usr/local/lib/python3.11/dist-packages (from langchain_google_genai) (0.3.66)\n",
            "Requirement already satisfied: pydantic<3,>=2 in /usr/local/lib/python3.11/dist-packages (from langchain_google_genai) (2.11.7)\n",
            "Requirement already satisfied: google-api-core!=2.0.*,!=2.1.*,!=2.10.*,!=2.2.*,!=2.3.*,!=2.4.*,!=2.5.*,!=2.6.*,!=2.7.*,!=2.8.*,!=2.9.*,<3.0.0,>=1.34.1 in /usr/local/lib/python3.11/dist-packages (from google-api-core[grpc]!=2.0.*,!=2.1.*,!=2.10.*,!=2.2.*,!=2.3.*,!=2.4.*,!=2.5.*,!=2.6.*,!=2.7.*,!=2.8.*,!=2.9.*,<3.0.0,>=1.34.1->google-ai-generativelanguage<0.7.0,>=0.6.18->langchain_google_genai) (2.25.1)\n",
            "Requirement already satisfied: google-auth!=2.24.0,!=2.25.0,<3.0.0,>=2.14.1 in /usr/local/lib/python3.11/dist-packages (from google-ai-generativelanguage<0.7.0,>=0.6.18->langchain_google_genai) (2.38.0)\n",
            "Requirement already satisfied: proto-plus<2.0.0,>=1.22.3 in /usr/local/lib/python3.11/dist-packages (from google-ai-generativelanguage<0.7.0,>=0.6.18->langchain_google_genai) (1.26.1)\n",
            "Requirement already satisfied: protobuf!=4.21.0,!=4.21.1,!=4.21.2,!=4.21.3,!=4.21.4,!=4.21.5,<7.0.0,>=3.20.2 in /usr/local/lib/python3.11/dist-packages (from google-ai-generativelanguage<0.7.0,>=0.6.18->langchain_google_genai) (5.29.5)\n",
            "Requirement already satisfied: langsmith>=0.3.45 in /usr/local/lib/python3.11/dist-packages (from langchain-core<0.4.0,>=0.3.62->langchain_google_genai) (0.3.45)\n",
            "Requirement already satisfied: tenacity!=8.4.0,<10.0.0,>=8.1.0 in /usr/local/lib/python3.11/dist-packages (from langchain-core<0.4.0,>=0.3.62->langchain_google_genai) (9.1.2)\n",
            "Requirement already satisfied: jsonpatch<2.0,>=1.33 in /usr/local/lib/python3.11/dist-packages (from langchain-core<0.4.0,>=0.3.62->langchain_google_genai) (1.33)\n",
            "Requirement already satisfied: PyYAML>=5.3 in /usr/local/lib/python3.11/dist-packages (from langchain-core<0.4.0,>=0.3.62->langchain_google_genai) (6.0.2)\n",
            "Requirement already satisfied: packaging<25,>=23.2 in /usr/local/lib/python3.11/dist-packages (from langchain-core<0.4.0,>=0.3.62->langchain_google_genai) (24.2)\n",
            "Requirement already satisfied: typing-extensions>=4.7 in /usr/local/lib/python3.11/dist-packages (from langchain-core<0.4.0,>=0.3.62->langchain_google_genai) (4.14.0)\n",
            "Requirement already satisfied: annotated-types>=0.6.0 in /usr/local/lib/python3.11/dist-packages (from pydantic<3,>=2->langchain_google_genai) (0.7.0)\n",
            "Requirement already satisfied: pydantic-core==2.33.2 in /usr/local/lib/python3.11/dist-packages (from pydantic<3,>=2->langchain_google_genai) (2.33.2)\n",
            "Requirement already satisfied: typing-inspection>=0.4.0 in /usr/local/lib/python3.11/dist-packages (from pydantic<3,>=2->langchain_google_genai) (0.4.1)\n",
            "Requirement already satisfied: googleapis-common-protos<2.0.0,>=1.56.2 in /usr/local/lib/python3.11/dist-packages (from google-api-core!=2.0.*,!=2.1.*,!=2.10.*,!=2.2.*,!=2.3.*,!=2.4.*,!=2.5.*,!=2.6.*,!=2.7.*,!=2.8.*,!=2.9.*,<3.0.0,>=1.34.1->google-api-core[grpc]!=2.0.*,!=2.1.*,!=2.10.*,!=2.2.*,!=2.3.*,!=2.4.*,!=2.5.*,!=2.6.*,!=2.7.*,!=2.8.*,!=2.9.*,<3.0.0,>=1.34.1->google-ai-generativelanguage<0.7.0,>=0.6.18->langchain_google_genai) (1.70.0)\n",
            "Requirement already satisfied: requests<3.0.0,>=2.18.0 in /usr/local/lib/python3.11/dist-packages (from google-api-core!=2.0.*,!=2.1.*,!=2.10.*,!=2.2.*,!=2.3.*,!=2.4.*,!=2.5.*,!=2.6.*,!=2.7.*,!=2.8.*,!=2.9.*,<3.0.0,>=1.34.1->google-api-core[grpc]!=2.0.*,!=2.1.*,!=2.10.*,!=2.2.*,!=2.3.*,!=2.4.*,!=2.5.*,!=2.6.*,!=2.7.*,!=2.8.*,!=2.9.*,<3.0.0,>=1.34.1->google-ai-generativelanguage<0.7.0,>=0.6.18->langchain_google_genai) (2.32.3)\n",
            "Requirement already satisfied: grpcio<2.0.0,>=1.33.2 in /usr/local/lib/python3.11/dist-packages (from google-api-core[grpc]!=2.0.*,!=2.1.*,!=2.10.*,!=2.2.*,!=2.3.*,!=2.4.*,!=2.5.*,!=2.6.*,!=2.7.*,!=2.8.*,!=2.9.*,<3.0.0,>=1.34.1->google-ai-generativelanguage<0.7.0,>=0.6.18->langchain_google_genai) (1.73.0)\n",
            "Requirement already satisfied: grpcio-status<2.0.0,>=1.33.2 in /usr/local/lib/python3.11/dist-packages (from google-api-core[grpc]!=2.0.*,!=2.1.*,!=2.10.*,!=2.2.*,!=2.3.*,!=2.4.*,!=2.5.*,!=2.6.*,!=2.7.*,!=2.8.*,!=2.9.*,<3.0.0,>=1.34.1->google-ai-generativelanguage<0.7.0,>=0.6.18->langchain_google_genai) (1.71.0)\n",
            "Requirement already satisfied: cachetools<6.0,>=2.0.0 in /usr/local/lib/python3.11/dist-packages (from google-auth!=2.24.0,!=2.25.0,<3.0.0,>=2.14.1->google-ai-generativelanguage<0.7.0,>=0.6.18->langchain_google_genai) (5.5.2)\n",
            "Requirement already satisfied: pyasn1-modules>=0.2.1 in /usr/local/lib/python3.11/dist-packages (from google-auth!=2.24.0,!=2.25.0,<3.0.0,>=2.14.1->google-ai-generativelanguage<0.7.0,>=0.6.18->langchain_google_genai) (0.4.2)\n",
            "Requirement already satisfied: rsa<5,>=3.1.4 in /usr/local/lib/python3.11/dist-packages (from google-auth!=2.24.0,!=2.25.0,<3.0.0,>=2.14.1->google-ai-generativelanguage<0.7.0,>=0.6.18->langchain_google_genai) (4.9.1)\n",
            "Requirement already satisfied: jsonpointer>=1.9 in /usr/local/lib/python3.11/dist-packages (from jsonpatch<2.0,>=1.33->langchain-core<0.4.0,>=0.3.62->langchain_google_genai) (3.0.0)\n",
            "Requirement already satisfied: httpx<1,>=0.23.0 in /usr/local/lib/python3.11/dist-packages (from langsmith>=0.3.45->langchain-core<0.4.0,>=0.3.62->langchain_google_genai) (0.28.1)\n",
            "Requirement already satisfied: orjson<4.0.0,>=3.9.14 in /usr/local/lib/python3.11/dist-packages (from langsmith>=0.3.45->langchain-core<0.4.0,>=0.3.62->langchain_google_genai) (3.10.18)\n",
            "Requirement already satisfied: requests-toolbelt<2.0.0,>=1.0.0 in /usr/local/lib/python3.11/dist-packages (from langsmith>=0.3.45->langchain-core<0.4.0,>=0.3.62->langchain_google_genai) (1.0.0)\n",
            "Requirement already satisfied: zstandard<0.24.0,>=0.23.0 in /usr/local/lib/python3.11/dist-packages (from langsmith>=0.3.45->langchain-core<0.4.0,>=0.3.62->langchain_google_genai) (0.23.0)\n",
            "Requirement already satisfied: anyio in /usr/local/lib/python3.11/dist-packages (from httpx<1,>=0.23.0->langsmith>=0.3.45->langchain-core<0.4.0,>=0.3.62->langchain_google_genai) (4.9.0)\n",
            "Requirement already satisfied: certifi in /usr/local/lib/python3.11/dist-packages (from httpx<1,>=0.23.0->langsmith>=0.3.45->langchain-core<0.4.0,>=0.3.62->langchain_google_genai) (2025.6.15)\n",
            "Requirement already satisfied: httpcore==1.* in /usr/local/lib/python3.11/dist-packages (from httpx<1,>=0.23.0->langsmith>=0.3.45->langchain-core<0.4.0,>=0.3.62->langchain_google_genai) (1.0.9)\n",
            "Requirement already satisfied: idna in /usr/local/lib/python3.11/dist-packages (from httpx<1,>=0.23.0->langsmith>=0.3.45->langchain-core<0.4.0,>=0.3.62->langchain_google_genai) (3.10)\n",
            "Requirement already satisfied: h11>=0.16 in /usr/local/lib/python3.11/dist-packages (from httpcore==1.*->httpx<1,>=0.23.0->langsmith>=0.3.45->langchain-core<0.4.0,>=0.3.62->langchain_google_genai) (0.16.0)\n",
            "Requirement already satisfied: pyasn1<0.7.0,>=0.6.1 in /usr/local/lib/python3.11/dist-packages (from pyasn1-modules>=0.2.1->google-auth!=2.24.0,!=2.25.0,<3.0.0,>=2.14.1->google-ai-generativelanguage<0.7.0,>=0.6.18->langchain_google_genai) (0.6.1)\n",
            "Requirement already satisfied: charset-normalizer<4,>=2 in /usr/local/lib/python3.11/dist-packages (from requests<3.0.0,>=2.18.0->google-api-core!=2.0.*,!=2.1.*,!=2.10.*,!=2.2.*,!=2.3.*,!=2.4.*,!=2.5.*,!=2.6.*,!=2.7.*,!=2.8.*,!=2.9.*,<3.0.0,>=1.34.1->google-api-core[grpc]!=2.0.*,!=2.1.*,!=2.10.*,!=2.2.*,!=2.3.*,!=2.4.*,!=2.5.*,!=2.6.*,!=2.7.*,!=2.8.*,!=2.9.*,<3.0.0,>=1.34.1->google-ai-generativelanguage<0.7.0,>=0.6.18->langchain_google_genai) (3.4.2)\n",
            "Requirement already satisfied: urllib3<3,>=1.21.1 in /usr/local/lib/python3.11/dist-packages (from requests<3.0.0,>=2.18.0->google-api-core!=2.0.*,!=2.1.*,!=2.10.*,!=2.2.*,!=2.3.*,!=2.4.*,!=2.5.*,!=2.6.*,!=2.7.*,!=2.8.*,!=2.9.*,<3.0.0,>=1.34.1->google-api-core[grpc]!=2.0.*,!=2.1.*,!=2.10.*,!=2.2.*,!=2.3.*,!=2.4.*,!=2.5.*,!=2.6.*,!=2.7.*,!=2.8.*,!=2.9.*,<3.0.0,>=1.34.1->google-ai-generativelanguage<0.7.0,>=0.6.18->langchain_google_genai) (2.4.0)\n",
            "Requirement already satisfied: sniffio>=1.1 in /usr/local/lib/python3.11/dist-packages (from anyio->httpx<1,>=0.23.0->langsmith>=0.3.45->langchain-core<0.4.0,>=0.3.62->langchain_google_genai) (1.3.1)\n"
          ]
        }
      ]
    },
    {
      "cell_type": "code",
      "source": [
        "from dotenv import load_dotenv\n",
        "from langchain_google_genai import ChatGoogleGenerativeAI\n",
        "from langchain.chains import ConversationChain\n",
        "from langchain.memory import ConversationBufferMemory"
      ],
      "metadata": {
        "id": "tS_0uLuqef7c"
      },
      "execution_count": null,
      "outputs": []
    },
    {
      "cell_type": "code",
      "source": [
        "\n",
        "\n",
        "#\n",
        "#\n",
        "#\n",
        "#    if info_econtrada:\n",
        "#        prompt += f\"usa la siguiente informacion para responder:\\n{info_econtrada} Respondé solo con información del contexto. Si no está, indicá que no se encontró nada relacionado.\\n\\n\"\n",
        "#    else:\n",
        "#        # Handle case where no relevant information is found\n",
        "#        prompt += \"No relevant information found. Reformulate your question\\n\\n\"\n",
        "#\n",
        "#    prompt += f\"Chat history:\\n{chat_history}\\n\\n\"\n",
        "#    prompt += \"Bot response:\"\n",
        "#\n",
        "#    # 3. Generate the response using the LLM\n",
        "#    response = llm.predict(prompt)\n",
        "#\n",
        "#    # 4. Update the memory\n",
        "#    memory.save_context({\"input\": query}, {\"output\": response})\n",
        "#\n",
        "#    return response, retrieved_info"
      ],
      "metadata": {
        "id": "tgZIPiItvrap"
      },
      "execution_count": null,
      "outputs": []
    },
    {
      "cell_type": "code",
      "source": [
        "import re\n",
        "\n",
        "def consultar_filtro_pandas_relaciones(texto_filtro: str, df_relaciones: pd.DataFrame) -> str:\n",
        "    \"\"\"\n",
        "    Evalúa el código de filtro pandas devuelto por el modelo si está presente en la respuesta.\n",
        "    \"\"\"\n",
        "    # Buscar bloque de código en triple backticks o inline\n",
        "    match = re.search(r\"```python\\s+(.*?)```\", texto_filtro, re.DOTALL)\n",
        "    if not match:\n",
        "        match = re.search(r\"(df\\[.*\\])\", texto_filtro, re.DOTALL)\n",
        "\n",
        "    if match:\n",
        "        codigo = match.group(1).strip()\n",
        "        try:\n",
        "            resultado = eval(codigo, {\"df\": df_relaciones})\n",
        "            if resultado.empty:\n",
        "                return \"No se encontraron resultados.\"\n",
        "            return resultado.to_string(index=False)\n",
        "        except Exception as e:\n",
        "            return f\"Error al ejecutar el filtro generado: {e}\"\n",
        "    else:\n",
        "        return \"No se detectó un código válido de pandas en la respuesta.\"\n"
      ],
      "metadata": {
        "id": "JenVuLmA3_-f"
      },
      "execution_count": null,
      "outputs": []
    },
    {
      "cell_type": "code",
      "source": [
        "def consultar_filtro_pandas_estadisticas(codigo_str, df_pass=df_estadísticas):\n",
        "    \"\"\"\n",
        "    Evalúa un filtro pandas devuelto por el modelo sobre el DataFrame df_estadísticas.\n",
        "    Puede ser una condición booleana o una expresión completa.\n",
        "    \"\"\"\n",
        "    try:\n",
        "        # Limpia espacios y backticks\n",
        "        codigo_str = codigo_str.strip().strip(\"`\")\n",
        "\n",
        "\n",
        "        codigo_eval = codigo_str.replace(\"df\", \"df_estadísticas\")\n",
        "\n",
        "        # Detecta si es una expresión completa (ya incluye df[...] o df_estadísticas[...])\n",
        "        if not codigo_eval.startswith(\"df_estadísticas[\"):\n",
        "          codigo_eval = f\"df_estadísticas[{codigo_eval}]\"\n",
        "\n",
        "        print(f\"Query a ejecutar: {codigo_eval}\")\n",
        "\n",
        "        # Evalúa el código con df_estadísticas disponible\n",
        "        resultado = eval(codigo_eval, {\"df_estadísticas\": df_pass})\n",
        "\n",
        "        if resultado.empty:\n",
        "            return \"No se encontraron resultados\"\n",
        "\n",
        "        valor = resultado[\"Value\"].values\n",
        "        return valor[0] if len(valor) == 1 else valor.tolist()\n",
        "\n",
        "    except Exception as e:\n",
        "        return f\"Error al evaluar el filtro: {e}\"\n"
      ],
      "metadata": {
        "id": "he2IaQt1D7KG"
      },
      "execution_count": null,
      "outputs": []
    },
    {
      "cell_type": "code",
      "source": [
        "consultar_filtro_pandas_estadisticas(\"df[(df['Category'] == 'GAME STATS') & (df['Metric'] == 'Comments')]\")"
      ],
      "metadata": {
        "colab": {
          "base_uri": "https://localhost:8080/"
        },
        "id": "jjTRgVgllWmp",
        "outputId": "e85ea6a3-a3a2-42d8-c3eb-f9842fc381c6"
      },
      "execution_count": null,
      "outputs": [
        {
          "output_type": "stream",
          "name": "stdout",
          "text": [
            "Query a ejecutar: df_estadísticas[(df_estadísticas['Category'] == 'GAME STATS') & (df_estadísticas['Metric'] == 'Comments')]\n"
          ]
        },
        {
          "output_type": "execute_result",
          "data": {
            "text/plain": [
              "np.float64(6137.0)"
            ]
          },
          "metadata": {},
          "execution_count": 84
        }
      ]
    },
    {
      "cell_type": "code",
      "source": [
        "load_dotenv()\n",
        "\n",
        "llm = ChatGoogleGenerativeAI(\n",
        "    model=\"gemini-2.5-flash\",\n",
        "    temperature=0,\n",
        "    max_retries=2,\n",
        "    google_api_key=userdata.get(\"GEMINI_TOKE\")\n",
        ")\n"
      ],
      "metadata": {
        "id": "so-uotKsel3L"
      },
      "execution_count": null,
      "outputs": []
    },
    {
      "cell_type": "code",
      "source": [
        "def process_query_with_rag(query, memory, resumen):\n",
        "\n",
        "    # 1. Categorizamos la pregunta\n",
        "    category = str(categorizacion_con_llm(query))\n",
        "    print(f\"La categoria es: {category}\")\n",
        "\n",
        "    # 2. Obtenemos la información relevante según categoría\n",
        "    if category in ['información', 'informacion']:\n",
        "        info_econtrada = pipeline_retrical_textos_para_query_hibrida(query)\n",
        "    elif category in ['estadísticas', 'estadisticas']:\n",
        "        info_econtrada = pipeline_retrival_grafos(query)\n",
        "        info_econtrada = consultar_filtro_pandas_estadisticas(info_econtrada, df_estadísticas)\n",
        "    elif category == 'relaciones':\n",
        "        info_econtrada = pipeline_retrival_grafos(query)\n",
        "        info_econtrada = consultar_filtro_pandas_relaciones(info_econtrada, df_relaciones)\n",
        "    else:\n",
        "        info_econtrada = \"No se pudo determinar la categoría de la consulta.\"\n",
        "\n",
        "\n",
        "    # 3. Contextualizamos la info para el prompt\n",
        "    if isinstance(info_econtrada, (int, float, str)):\n",
        "        contexto = f\"La información solicitada es: {info_econtrada}.\"\n",
        "    else:\n",
        "        contexto = str(info_econtrada)\n",
        "\n",
        "    # 4. Incluimos el historial si existe y armamos el prompt completo\n",
        "    chat_history = memory.load_memory_variables({}).get('chat_history', '')\n",
        "\n",
        "    prompt = (\n",
        "        f\"{chat_history}\\n\\n\"\n",
        "        f\"User query: {query}\\n\\n\"\n",
        "        f\"Usa la siguiente información para responder:\\n{contexto}\\n\"\n",
        "        \"Respondé solo interpretándola. Si no está, indicá que no se encontró nada relacionado.\\n\\n\"\n",
        "    )\n",
        "\n",
        "    #print(\"Prompt enviado al modelo:\\n\", prompt)\n",
        "\n",
        "    # 5. Generamos la respuesta con el LLM\n",
        "    response = llm.predict(prompt)\n",
        "    return response\n"
      ],
      "metadata": {
        "id": "koE59DmPr8xr"
      },
      "execution_count": null,
      "outputs": []
    },
    {
      "cell_type": "code",
      "source": [
        "# Initialize memory and conversation chain\n",
        "memory = ConversationBufferMemory()\n",
        "conversation = ConversationChain(\n",
        "    llm=llm,\n",
        "    memory=memory,\n",
        "    verbose=False\n",
        ")"
      ],
      "metadata": {
        "id": "bPuy2xcUenE0",
        "colab": {
          "base_uri": "https://localhost:8080/"
        },
        "outputId": "7e3af52e-7800-4454-d992-ed07ae085096"
      },
      "execution_count": null,
      "outputs": [
        {
          "output_type": "stream",
          "name": "stderr",
          "text": [
            "/tmp/ipython-input-87-2739318404.py:2: LangChainDeprecationWarning: Please see the migration guide at: https://python.langchain.com/docs/versions/migrating_memory/\n",
            "  memory = ConversationBufferMemory()\n",
            "/tmp/ipython-input-87-2739318404.py:3: LangChainDeprecationWarning: The class `ConversationChain` was deprecated in LangChain 0.2.7 and will be removed in 1.0. Use :class:`~langchain_core.runnables.history.RunnableWithMessageHistory` instead.\n",
            "  conversation = ConversationChain(\n"
          ]
        }
      ]
    },
    {
      "cell_type": "markdown",
      "source": [
        "Evaluamos el propmt por fuera del bucle consersacional para interpretar como usa el contexto el chat"
      ],
      "metadata": {
        "id": "ic6OqmeHwx2M"
      }
    },
    {
      "cell_type": "code",
      "source": [
        "test_prompt = f\"User query: Quien diseño Sagrada\\n\\n\""
      ],
      "metadata": {
        "id": "AWCwtxoqw8ea"
      },
      "execution_count": null,
      "outputs": []
    },
    {
      "cell_type": "code",
      "source": [
        "llm.predict(test_prompt)"
      ],
      "metadata": {
        "id": "WMgFMal5wxo0",
        "colab": {
          "base_uri": "https://localhost:8080/",
          "height": 104
        },
        "outputId": "4e269d80-cf6b-4eba-c51b-4a48149644ad"
      },
      "execution_count": null,
      "outputs": [
        {
          "output_type": "stream",
          "name": "stderr",
          "text": [
            "/tmp/ipython-input-89-4221082933.py:1: LangChainDeprecationWarning: The method `BaseChatModel.predict` was deprecated in langchain-core 0.1.7 and will be removed in 1.0. Use :meth:`~invoke` instead.\n",
            "  llm.predict(test_prompt)\n"
          ]
        },
        {
          "output_type": "execute_result",
          "data": {
            "text/plain": [
              "'El arquitecto más conocido y el que le dio su forma distintiva a la **Sagrada Familia** es **Antoni Gaudí**.\\n\\nSin embargo, es importante saber que el diseño original no fue suyo. La primera piedra se colocó en 1882 bajo la dirección del arquitecto **Francisco de Paula del Villar y Lozano**.\\n\\nVillar renunció poco después, y en 1883, **Antoni Gaudí** asumió el proyecto. Gaudí transformó completamente el diseño inicial, dedicando las últimas décadas de su vida exclusivamente a la Sagrada Familia y dándole la visión y el estilo modernista que hoy conocemos.\\n\\nDesde la muerte de Gaudí en 1926, varios arquitectos han continuado su obra, siguiendo sus planos y maquetas, aunque la interpretación de su visión ha sido un tema de debate.'"
            ],
            "application/vnd.google.colaboratory.intrinsic+json": {
              "type": "string"
            }
          },
          "metadata": {},
          "execution_count": 89
        }
      ]
    },
    {
      "cell_type": "markdown",
      "source": [
        "En una primer instancia, el chat no respondió directamente acerca del juego sino de la Sagrada Basilica. Veremos como responde con el contexto adecuado en la conversación."
      ],
      "metadata": {
        "id": "rGOZoztjixOs"
      }
    },
    {
      "cell_type": "code",
      "source": [
        "print(\"Conversación iniciada. Escribí 'exit' para salir.\\n\")\n",
        "\n",
        "while True:\n",
        "    user_input = input(\"\")\n",
        "    if user_input.lower() == \"exit\":\n",
        "        break\n",
        "\n",
        "    respuesta = process_query_with_rag(user_input, memory, resumen)\n",
        "\n",
        "    print(f\"Asistente: {respuesta}\\n\")\n"
      ],
      "metadata": {
        "id": "IysDTRltaGzV",
        "colab": {
          "base_uri": "https://localhost:8080/"
        },
        "outputId": "094dc9a1-877c-426a-db14-42b6fac53843"
      },
      "execution_count": null,
      "outputs": [
        {
          "name": "stdout",
          "output_type": "stream",
          "text": [
            "Conversación iniciada. Escribí 'exit' para salir.\n",
            "\n",
            "Cuantos comentarios tiene Sagrada?\n",
            "La categoria es: estadísticas\n",
            "Query a ejecutar: df_estadísticas[(df_estadísticas['Category'] == 'GAME STATS') & (df_estadísticas['Metric'] == 'Comments')]\n",
            "Asistente: Sagrada tiene 6137 comentarios.\n",
            "\n",
            "Los niños pueden jugar?\n",
            "La categoria es: informacion\n",
            "Asistente: No se encontró información relacionada con si los niños pueden jugar en el texto proporcionado. El texto se centra en las reglas de puntuación y el modo solitario del juego.\n",
            "\n",
            "Can kids play?\n",
            "La categoria es: informacion\n",
            "Asistente: Sí, los niños pueden jugar. El texto menciona que es un juego muy accesible y que \"cualquiera podría jugarlo\". Específicamente, se dice que \"un niño de ocho años que obviamente sepa leer podría jugar a este juego\". También se destaca que es una gran oportunidad para enseñar a los niños las sutilezas del juego.\n",
            "\n",
            "Cuando termina la partida?\n",
            "La categoria es: informacion\n",
            "informacion\n",
            "Asistente: No se encontró nada relacionado con cuándo termina la partida en la información proporcionada.\n",
            "\n",
            "Cuando termina el juego?\n",
            "La categoria es: informacion\n",
            "Asistente: El juego termina al final de la ronda 10.\n",
            "\n",
            "Cuantos jugadores pueden jugar?\n",
            "La categoria es: estadísticas\n",
            "Query a ejecutar: df_estadísticas[df_estadísticas['num_players'] == 4]\n",
            "Asistente: No se encontró información sobre cuántos jugadores pueden jugar. La información proporcionada indica un error al evaluar el número de jugadores.\n",
            "\n",
            "de a cuantos jugadores se puede jugar?\n",
            "La categoria es: información\n",
            "Asistente: Según la información proporcionada, el juego se puede jugar en \"Modo Solitario\", lo que significa que se puede jugar con **un jugador**.\n",
            "\n",
            "No se encontró información sobre el número de jugadores para el modo no solitario.\n",
            "\n",
            "Quienes diseñaron sagrada?\n",
            "La categoria es: relaciones\n",
            "Asistente: No se encontró información relacionada con quién diseñó la Sagrada Familia.\n",
            "\n",
            "quienes crearon sagrada?\n",
            "La categoria es: relaciones\n",
            "Asistente: Los creadores de Sagrada son Adrian Adamescu, Daryl Andrews y Peter Wocken.\n",
            "\n",
            "exit\n"
          ]
        }
      ]
    },
    {
      "cell_type": "markdown",
      "source": [
        "Consulta dinamicamenta la tabla de los datos, y responde acorde. Uno de los mayores desafíos es que la clasificación de la preguntas no funcione correctamente aunque esto es algo inherente de las preguntas ya que la categorizacipon depende de como se tenga estrucuturada la información. Si el contexto que encontró está en inglés el chat no logra interpretarl a consulta, pero al pasarle la traduccion de la query, logra responder y en español. Un analisis mas profundo y con mayores datos, se encuentra en el informe. Preguntas del input:\n",
        "\n",
        "* Cuantos comentarios tiene Sagrada?\n",
        "* Los niños pueden jugar?\n",
        "* Can kids play?\n",
        "* Cuando termina la partida?\n",
        "* Cuando termina el juego?\n",
        "* Cuantos jugadores pueden jugar?\n",
        "* De a cuantos jugadores se puede jugar?\n",
        "* Quienes diseñaron sagrada?\n",
        "* Quienes crearon sagrada?\n"
      ],
      "metadata": {
        "id": "OS5z5FsA-q87"
      }
    },
    {
      "cell_type": "markdown",
      "source": [
        "# Agregar conclusion del ejercicio 1"
      ],
      "metadata": {
        "id": "-5qgF9dKxt7j"
      }
    },
    {
      "cell_type": "markdown",
      "source": [
        "# Ejercicio 2 - Evolución del RAG a un Agente Autónomo\n",
        "\n"
      ],
      "metadata": {
        "id": "9XdAcAf3xwgL"
      }
    },
    {
      "cell_type": "markdown",
      "source": [
        "Utilizar Langchain para implementar un agente basado en el paradigma ReAct.\n",
        "Creación de Herramientas (Tools):\n",
        "\n",
        "Encapsula la lógica de búsqueda de cada fuente de datos del Ejercicio 1 en herramientas independientes:\n",
        "\n",
        "doc_search(): Busca en los documentos de texto (con búsqueda híbrida y re-rank).\n",
        "table_search(): Realiza consultas dinámicas a los datos tabulares.\n",
        "graph_search(): Realiza consultas dinámicas a la base de datos de grafos.\n",
        "\n",
        "Adicionalmente, implementa una cuarta herramienta de búsqueda online utilizando las integraciones de Langchain:\n",
        "\n",
        "wikipedia_search(): Para búsqueda en una enciclopedia libre.\n",
        "duckduckgo_search(): Para búsquedas en internet.\n",
        "\n",
        "Construye un prompt de sistema cuidadosamente diseñado que le indique al agente el propósito de cada herramienta y cómo debe razonar (Thought) para elegir una o varias herramientas (Action) y así construir una respuesta completa.\n"
      ],
      "metadata": {
        "id": "jC9mPnITyEjc"
      }
    },
    {
      "cell_type": "code",
      "source": [
        "!pip install -U duckduckgo-searchv"
      ],
      "metadata": {
        "colab": {
          "base_uri": "https://localhost:8080/"
        },
        "id": "JZAok5ToKcjw",
        "outputId": "89b60251-e9cc-4fbb-e0ea-3b976ad773f5"
      },
      "execution_count": null,
      "outputs": [
        {
          "output_type": "stream",
          "name": "stdout",
          "text": [
            "Collecting duckduckgo-search\n",
            "  Downloading duckduckgo_search-8.0.4-py3-none-any.whl.metadata (16 kB)\n",
            "Requirement already satisfied: click>=8.1.8 in /usr/local/lib/python3.11/dist-packages (from duckduckgo-search) (8.2.1)\n",
            "Collecting primp>=0.15.0 (from duckduckgo-search)\n",
            "  Downloading primp-0.15.0-cp38-abi3-manylinux_2_17_x86_64.manylinux2014_x86_64.whl.metadata (13 kB)\n",
            "Requirement already satisfied: lxml>=5.3.0 in /usr/local/lib/python3.11/dist-packages (from duckduckgo-search) (5.4.0)\n",
            "Downloading duckduckgo_search-8.0.4-py3-none-any.whl (18 kB)\n",
            "Downloading primp-0.15.0-cp38-abi3-manylinux_2_17_x86_64.manylinux2014_x86_64.whl (3.3 MB)\n",
            "\u001b[2K   \u001b[90m━━━━━━━━━━━━━━━━━━━━━━━━━━━━━━━━━━━━━━━━\u001b[0m \u001b[32m3.3/3.3 MB\u001b[0m \u001b[31m72.9 MB/s\u001b[0m eta \u001b[36m0:00:00\u001b[0m\n",
            "\u001b[?25hInstalling collected packages: primp, duckduckgo-search\n",
            "Successfully installed duckduckgo-search-8.0.4 primp-0.15.0\n"
          ]
        }
      ]
    },
    {
      "cell_type": "code",
      "source": [
        "!pip install wikipedia"
      ],
      "metadata": {
        "colab": {
          "base_uri": "https://localhost:8080/"
        },
        "id": "icb-i6eZKdeR",
        "outputId": "32e93d53-de52-4e06-b29f-18333b88a782"
      },
      "execution_count": null,
      "outputs": [
        {
          "output_type": "stream",
          "name": "stdout",
          "text": [
            "Collecting wikipedia\n",
            "  Downloading wikipedia-1.4.0.tar.gz (27 kB)\n",
            "  Preparing metadata (setup.py) ... \u001b[?25l\u001b[?25hdone\n",
            "Requirement already satisfied: beautifulsoup4 in /usr/local/lib/python3.11/dist-packages (from wikipedia) (4.13.4)\n",
            "Requirement already satisfied: requests<3.0.0,>=2.0.0 in /usr/local/lib/python3.11/dist-packages (from wikipedia) (2.32.3)\n",
            "Requirement already satisfied: charset-normalizer<4,>=2 in /usr/local/lib/python3.11/dist-packages (from requests<3.0.0,>=2.0.0->wikipedia) (3.4.2)\n",
            "Requirement already satisfied: idna<4,>=2.5 in /usr/local/lib/python3.11/dist-packages (from requests<3.0.0,>=2.0.0->wikipedia) (3.10)\n",
            "Requirement already satisfied: urllib3<3,>=1.21.1 in /usr/local/lib/python3.11/dist-packages (from requests<3.0.0,>=2.0.0->wikipedia) (2.4.0)\n",
            "Requirement already satisfied: certifi>=2017.4.17 in /usr/local/lib/python3.11/dist-packages (from requests<3.0.0,>=2.0.0->wikipedia) (2025.6.15)\n",
            "Requirement already satisfied: soupsieve>1.2 in /usr/local/lib/python3.11/dist-packages (from beautifulsoup4->wikipedia) (2.7)\n",
            "Requirement already satisfied: typing-extensions>=4.0.0 in /usr/local/lib/python3.11/dist-packages (from beautifulsoup4->wikipedia) (4.14.0)\n",
            "Building wheels for collected packages: wikipedia\n",
            "  Building wheel for wikipedia (setup.py) ... \u001b[?25l\u001b[?25hdone\n",
            "  Created wheel for wikipedia: filename=wikipedia-1.4.0-py3-none-any.whl size=11678 sha256=b737ef94496ccc28374a649d74d06f4aff1d40e2d8288555a887988549b67fe3\n",
            "  Stored in directory: /root/.cache/pip/wheels/8f/ab/cb/45ccc40522d3a1c41e1d2ad53b8f33a62f394011ec38cd71c6\n",
            "Successfully built wikipedia\n",
            "Installing collected packages: wikipedia\n",
            "Successfully installed wikipedia-1.4.0\n"
          ]
        }
      ]
    },
    {
      "cell_type": "code",
      "source": [
        "from langchain_community.tools import WikipediaQueryRun\n",
        "from langchain_community.utilities import WikipediaAPIWrapper\n",
        "from langchain_community.tools import DuckDuckGoSearchRun"
      ],
      "metadata": {
        "id": "wyDprEW2JGGZ"
      },
      "execution_count": null,
      "outputs": []
    },
    {
      "cell_type": "code",
      "source": [
        "def doc_search(query):\n",
        "  return pipeline_retrical_textos_para_query_hibrida(query, view=False)"
      ],
      "metadata": {
        "id": "MrtlCG_4qEte"
      },
      "execution_count": null,
      "outputs": []
    },
    {
      "cell_type": "code",
      "source": [
        "def table_search(query):\n",
        "  return pipeline_retrival_grafos(query)"
      ],
      "metadata": {
        "id": "I-r8B14VIkw_"
      },
      "execution_count": null,
      "outputs": []
    },
    {
      "cell_type": "code",
      "source": [
        "def graph_search(query):\n",
        "  return pipeline_retrival_grafos(query)"
      ],
      "metadata": {
        "id": "M_zkx0FdInl_"
      },
      "execution_count": null,
      "outputs": []
    },
    {
      "cell_type": "code",
      "source": [
        "def wikipedia_search(query):\n",
        "    return WikipediaQueryRun(api_wrapper=WikipediaAPIWrapper()).run(query)"
      ],
      "metadata": {
        "id": "v9PWGUe7Ipjm"
      },
      "execution_count": null,
      "outputs": []
    },
    {
      "cell_type": "code",
      "source": [
        "def duckduckgo_search(query):\n",
        "    return DuckDuckGoSearchRun().run(query)"
      ],
      "metadata": {
        "id": "5IftnH-2IreW"
      },
      "execution_count": null,
      "outputs": []
    },
    {
      "cell_type": "code",
      "source": [
        "prompt_ReAct = \"\"\"Sos un asistente que responde preguntas utilizando múltiples fuentes de datos.\n",
        "\n",
        "Temes que elegir la herramienta mas adecuada para responder correctamente, usando el siguiente razonamiento:\n",
        "\n",
        "herramientas locales, las cuales debes consultar primero:\n",
        "1. doc_search: para buscar información en documentos textuales (reglas de juego, manuales, textos extensos). Usa esta herramienta cuando el usuario busque definiciones, reglas, descripciones o informacion.\n",
        "2. table_search: para obtener estadísticas, métricas o datos numéricos. Usá esta herramienta si la consulta menciona cantidades, rankings, puntuaciones, comentarios, etc. y existan los resultados de dichas queries\n",
        "3. graph_search: para explorar relaciones entre entidades como juegos, diseñadores, categorías, editoriales.\"\n",
        "\n",
        "\n",
        "herramientas externas, si la información necesaria para responder no fue encontrada:\n",
        "4. wikipedia_search: para obtener contexto general sobre temas conocidos del mundo real. Usala cuando el usuario pregunte sobre un concepto amplio o externo al dominio interno.\n",
        "5. duckduckgo_search: para buscar en toda la web, UNICAMENTE cuando ninguna otra herramienta da buenos resultados.\n",
        "\n",
        "procedimiento:\n",
        "1. Pensa (Thought) que tipo de información se requiere.\n",
        "2. Elegi (Action) una herramienta local basándote en el tipo de datos necesario.\n",
        "3. Ejecutá las herramienta elegida.\n",
        "4. Si la información no es relevante para responder entonces elegi alguna herramienta externa\n",
        "5. Ejecuta la herramienta externa.\n",
        "6. Usá los resultados para construir una respuesta clara.\n",
        "\n",
        "\"\"\"\n"
      ],
      "metadata": {
        "id": "U00TC09kIwL2"
      },
      "execution_count": null,
      "outputs": []
    },
    {
      "cell_type": "code",
      "source": [
        "from langchain_google_genai import ChatGoogleGenerativeAI\n",
        "\n",
        "llm_react = ChatGoogleGenerativeAI(\n",
        "    model=\"gemini-1.5-flash\",\n",
        "    temperature=0,\n",
        "    convert_system_message_to_human=True  # respetar el prompt de sistema\n",
        ")\n"
      ],
      "metadata": {
        "id": "OK_FxWeGJw6P"
      },
      "execution_count": null,
      "outputs": []
    },
    {
      "cell_type": "code",
      "source": [
        "from langchain.agents import Tool\n",
        "\n",
        "tools = [\n",
        "    Tool(name=\"doc_search\", func=doc_search, description=\"Busca en los documentos textuales\"),\n",
        "    Tool(name=\"table_search\", func=table_search, description=\"Consulta estadísticas numéricas\"),\n",
        "    Tool(name=\"graph_search\", func=graph_search, description=\"Consulta relaciones entre juegos, autores, etc.\"),\n",
        "    Tool(name=\"wikipedia_search\", func=wikipedia_search, description=\"Busca información enciclopédica\"),\n",
        "    #Tool(name=\"duckduckgo_search\", func=duckduckgo_search, description=\"Busca en toda la web\"),\n",
        "]\n"
      ],
      "metadata": {
        "id": "Oq3IQ6s7J6jW"
      },
      "execution_count": null,
      "outputs": []
    },
    {
      "cell_type": "code",
      "source": [
        "from langchain.agents import initialize_agent\n",
        "from langchain.agents.agent_types import AgentType\n",
        "\n",
        "\n",
        "agent = initialize_agent(\n",
        "    tools=tools,\n",
        "    llm=llm,\n",
        "    agent=AgentType.ZERO_SHOT_REACT_DESCRIPTION,\n",
        "    verbose=True,\n",
        "    agent_kwargs={\"system_message\": prompt_ReAct}\n",
        ")\n"
      ],
      "metadata": {
        "id": "fUVXBgI9KGD0"
      },
      "execution_count": null,
      "outputs": []
    },
    {
      "cell_type": "code",
      "source": [
        "respuesta = agent.run(\"Los daltinicos pueden jugar Sagrada?\")\n",
        "print(respuesta)\n"
      ],
      "metadata": {
        "colab": {
          "base_uri": "https://localhost:8080/"
        },
        "id": "6h7jJWB2KO6Y",
        "outputId": "29b041dd-25e4-4a33-b5e6-654152cff7c4"
      },
      "execution_count": null,
      "outputs": [
        {
          "output_type": "stream",
          "name": "stdout",
          "text": [
            "\n",
            "\n",
            "\u001b[1m> Entering new AgentExecutor chain...\u001b[0m\n",
            "\u001b[32;1m\u001b[1;3mAction: wikipedia_search\n",
            "Action Input: Sagrada board game\u001b[0m"
          ]
        },
        {
          "output_type": "stream",
          "name": "stderr",
          "text": [
            "/usr/local/lib/python3.11/dist-packages/wikipedia/wikipedia.py:389: GuessedAtParserWarning: No parser was explicitly specified, so I'm using the best available HTML parser for this system (\"lxml\"). This usually isn't a problem, but if you run this code on another system, or in a different virtual environment, it may use a different parser and behave differently.\n",
            "\n",
            "The code that caused this warning is on line 389 of the file /usr/local/lib/python3.11/dist-packages/wikipedia/wikipedia.py. To get rid of this warning, pass the additional argument 'features=\"lxml\"' to the BeautifulSoup constructor.\n",
            "\n",
            "  lis = BeautifulSoup(html).find_all('li')\n"
          ]
        },
        {
          "output_type": "stream",
          "name": "stdout",
          "text": [
            "\n",
            "Observation: \u001b[36;1m\u001b[1;3mPage: Sagrada (board game)\n",
            "Summary: Sagrada is a dice-drafting board game designed by Adrian Adamescu and Daryl Andrews and published in 2017 by Floodgate Games. Each player constructs a stained-glass window using dice on a personal 4×5 game board board with restrictions on the types of dice that can be played on each space. Players gain points by completing public and secret objectives for dice placements, and the one with the most after ten rounds is the winner.\n",
            "\n",
            "Page: Board game\n",
            "Summary: A board game is a type of tabletop game that involves small objects (game pieces) that are placed and moved in particular ways on a specially designed patterned game board, potentially including other components, e.g. dice. The earliest known uses of the term \"board game\" are between the 1840s and 1850s.\n",
            "While game boards are a necessary and sufficient condition of this genre, card games that do not use a standard deck of cards, as well as games that use neither cards nor a game board, are often colloquially included, with some referring to this genre generally as \"table and board games\" or simply \"tabletop games\".\u001b[0m\n",
            "Thought:\u001b[32;1m\u001b[1;3mAction: doc_search\n",
            "Action Input: Sagrada game mechanics dice colors colorblind\u001b[0m\n",
            "Observation: \u001b[36;1m\u001b[1;3mso using the rules above only one die can be placed in the middle four space here and that is a red four\n",
            "we draft a red three but this lets us use  one of the available tool cards\n",
            "we pay one tool token to use the card and change the three to a four\n",
            "subsequent uses of a tool card would use two charges\n",
            "if you ever accidentally break the placing rules you must remove those dice\n",
            "once 10 rounds are up scoring takes place\n",
            "you score the point shown in the bottom left of the goal for each time you achieve that goal\n",
            "so in this example we score it twice\n",
            "your private goal will always be the total value of one color\n",
            "and finally lose one point for each empty square\n",
            "why would you like this game\n",
            "sagrada is a puzzle game for people who love spatial puzzles\n",
            "and the rising tension of having your  available placement options get more and more limited as the game goes on\n",
            "and that's the best part of sagrada\n",
            "looking at the draft options and realizing that you have put yourself in a bad position\n",
            "or the triumph of getting a row exactly right to match a goal\n",
            "the tool cards give you different options on how to manipulate the game\n",
            "and only three are included each time you play\n",
            "and well it's simply a pretty looking game those shiny dice are really nice\n",
            "the best thing about this game is when it all works well and you have a wonderful looking high scoring completed window\n",
            "however, despite the myriad of tools, tiles and goals in the game if you don't like the core gameplay of drafting and placement\n",
            "none of the changes will make the game work for you\n",
            "there's also limited interaction\n",
            "while drafting to hurt other players can happen you're far more likely to draft for your own needs first\n",
            "like the mechanics but wish the game had swords and spells try roll player\n",
            "and for a different type of pretty dice  rafting game try noctiluca\n",
            "sagrada one pretty puzzle\n",
            "if you enjoyed this video hit the notification button subscribe to the channel and come support us on patreon\u001b[0m\n",
            "Thought:\u001b[32;1m\u001b[1;3mThought:The question asks if colorblind people can play Sagrada.\n",
            "From the `wikipedia_search` result, Sagrada is a dice-drafting game where players construct a stained-glass window using dice, with restrictions on placement.\n",
            "From the `doc_search` result, I learned that dice have both colors and numbers (e.g., \"red four\", \"red three\"). Crucially, the document states: \"your private goal will always be the total value of one color\". This means that a player's personal scoring objective depends entirely on being able to identify and sum dice of a specific color. If a player cannot distinguish between certain colors, they would be unable to effectively pursue their private objective, which is a significant part of the game's scoring. While dice also have numbers, the color-specific objective makes color distinction essential for full gameplay. Therefore, it would be challenging for colorblind individuals to play Sagrada effectively.\n",
            "\n",
            "Final Answer: Sería difícil para las personas daltónicas jugar Sagrada de manera efectiva, ya que un objetivo privado clave en el juego es sumar el valor total de los dados de un color específico. Si un jugador no puede distinguir los colores, no podrá perseguir este objetivo crucial.\u001b[0m\n",
            "\n",
            "\u001b[1m> Finished chain.\u001b[0m\n",
            "Sería difícil para las personas daltónicas jugar Sagrada de manera efectiva, ya que un objetivo privado clave en el juego es sumar el valor total de los dados de un color específico. Si un jugador no puede distinguir los colores, no podrá perseguir este objetivo crucial.\n"
          ]
        }
      ]
    }
  ]
}