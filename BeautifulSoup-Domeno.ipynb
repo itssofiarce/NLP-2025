{
  "nbformat": 4,
  "nbformat_minor": 0,
  "metadata": {
    "colab": {
      "provenance": [],
      "include_colab_link": true
    },
    "kernelspec": {
      "name": "python3",
      "display_name": "Python 3"
    },
    "language_info": {
      "name": "python"
    }
  },
  "cells": [
    {
      "cell_type": "markdown",
      "metadata": {
        "id": "view-in-github",
        "colab_type": "text"
      },
      "source": [
        "<a href=\"https://colab.research.google.com/github/itssofiarce/NLP-2024/blob/main/BeautifulSoup-Domeno.ipynb\" target=\"_parent\"><img src=\"https://colab.research.google.com/assets/colab-badge.svg\" alt=\"Open In Colab\"/></a>"
      ]
    },
    {
      "cell_type": "markdown",
      "source": [
        "# **Introducción al Web Scraping**\n",
        "El Web Scraping permite extraer información de sitios web de manera automática. Es útil cuando:\n",
        "\n",
        "* No hay una API disponible.\n",
        "* Se necesita obtener datos actualizados regularmente.\n",
        "* Se quiere extraer información específica de una página web.\n",
        "\n",
        "Importante: Antes de hacer scraping, revisa los términos de uso del sitio y su archivo `robots.txt`.\n",
        "\n",
        "_Por ejemplo [Robots.txt de Facebook](https://facebook.com/robots.txt)_"
      ],
      "metadata": {
        "id": "gX77V0Z84pQG"
      }
    },
    {
      "cell_type": "markdown",
      "source": [
        "## 1.Instalar y Configurar BeautifulSoup"
      ],
      "metadata": {
        "id": "-QhrbXSXFjzi"
      }
    },
    {
      "cell_type": "code",
      "source": [
        "!pip install beautifulsoup4 requests"
      ],
      "metadata": {
        "colab": {
          "base_uri": "https://localhost:8080/"
        },
        "id": "EsXkjOWkFkyb",
        "outputId": "ba8bbb46-4593-4e9f-b5f9-ffa9ce302fbc"
      },
      "execution_count": 1,
      "outputs": [
        {
          "output_type": "stream",
          "name": "stdout",
          "text": [
            "Requirement already satisfied: beautifulsoup4 in /usr/local/lib/python3.11/dist-packages (4.13.3)\n",
            "Requirement already satisfied: requests in /usr/local/lib/python3.11/dist-packages (2.32.3)\n",
            "Requirement already satisfied: soupsieve>1.2 in /usr/local/lib/python3.11/dist-packages (from beautifulsoup4) (2.6)\n",
            "Requirement already satisfied: typing-extensions>=4.0.0 in /usr/local/lib/python3.11/dist-packages (from beautifulsoup4) (4.12.2)\n",
            "Requirement already satisfied: charset-normalizer<4,>=2 in /usr/local/lib/python3.11/dist-packages (from requests) (3.4.1)\n",
            "Requirement already satisfied: idna<4,>=2.5 in /usr/local/lib/python3.11/dist-packages (from requests) (3.10)\n",
            "Requirement already satisfied: urllib3<3,>=1.21.1 in /usr/local/lib/python3.11/dist-packages (from requests) (2.3.0)\n",
            "Requirement already satisfied: certifi>=2017.4.17 in /usr/local/lib/python3.11/dist-packages (from requests) (2025.1.31)\n"
          ]
        }
      ]
    },
    {
      "cell_type": "markdown",
      "source": [
        "## 2.Extraer el HTML de una página con requests"
      ],
      "metadata": {
        "id": "92g0tKltFlgt"
      }
    },
    {
      "cell_type": "code",
      "execution_count": 3,
      "metadata": {
        "colab": {
          "base_uri": "https://localhost:8080/"
        },
        "id": "6DObFAX44jS3",
        "outputId": "3bd309e7-ba8e-4342-87b9-601c538fdc51"
      },
      "outputs": [
        {
          "output_type": "stream",
          "name": "stdout",
          "text": [
            "Página obtenida con éxito\n"
          ]
        }
      ],
      "source": [
        "import requests\n",
        "from bs4 import BeautifulSoup\n",
        "\n",
        "# URL de la página a scrapear\n",
        "url = \"https://misutmeeple.com/2024/09/resena-domemo-stonehenge/\"\n",
        "\n",
        "# Enviar una solicitud GET\n",
        "response = requests.get(url)\n",
        "\n",
        "# Verificar si la solicitud fue exitosa\n",
        "if response.status_code == 200:\n",
        "    html_content = response.text\n",
        "    print(\"Página obtenida con éxito\")\n",
        "else:\n",
        "    print(f\"Error {response.status_code}\")\n"
      ]
    },
    {
      "cell_type": "markdown",
      "source": [
        "## 3.Parsear el HTML con BeautifulSoup"
      ],
      "metadata": {
        "id": "v7L93Zn3FrNz"
      }
    },
    {
      "cell_type": "code",
      "source": [
        "# Crear el objeto BeautifulSoup\n",
        "soup = BeautifulSoup(html_content, \"html.parser\")\n",
        "\n",
        "# Imprimir el HTML formateado\n",
        "print(soup.prettify()[:1000])  # Solo mostramos una parte para no saturar el output"
      ],
      "metadata": {
        "colab": {
          "base_uri": "https://localhost:8080/"
        },
        "id": "zM2lQKU_8S-d",
        "outputId": "b1def7e5-5832-4e85-fa4e-b46fc71d0273"
      },
      "execution_count": null,
      "outputs": [
        {
          "output_type": "stream",
          "name": "stdout",
          "text": [
            "<!DOCTYPE html>\n",
            "<html class=\"no-js\" dir=\"ltr\" itemscope=\"\" itemtype=\"https://schema.org/Blog\" lang=\"es\" prefix=\"og: https://ogp.me/ns#\">\n",
            " <head>\n",
            "  <meta charset=\"utf-8\"/>\n",
            "  <meta content=\"width=device-width, initial-scale=1, minimum-scale=1\" name=\"viewport\"/>\n",
            "  <title>\n",
            "   Reseña: Azul | Misut Meeple\n",
            "  </title>\n",
            "  <style>\n",
            "   img:is([sizes=\"auto\" i], [sizes^=\"auto,\" i]){contain-intrinsic-size:3000px 1500px}\n",
            "  </style>\n",
            "  <meta content=\"Reseña de Azul, diseñado por Michael Kiesling, ilustrado por Chris Quilliams\" name=\"description\"/>\n",
            "  <meta content=\"max-image-preview:large\" name=\"robots\"/>\n",
            "  <meta content=\"iMisut\" name=\"author\"/>\n",
            "  <meta content=\"iJfWzcPgmmN6dvYJQ8mK43UT2fGrqwfgHRHBzpHTkzc\" name=\"google-site-verification\"/>\n",
            "  <meta content=\"3adf79b746734dc795e741979ac11b7c\" name=\"msvalidate.01\"/>\n",
            "  <meta content=\"7a8e0d54755436f4\" name=\"yandex-verification\"/>\n",
            "  <meta content=\"chris quilliams,colecciones,colocación de losetas,construcción de patrones,draft,eurogames,juegos de tablero,michae\n"
          ]
        }
      ]
    },
    {
      "cell_type": "markdown",
      "source": [
        "## 4.Encontrar elementos HTML"
      ],
      "metadata": {
        "id": "3CWVLZOVFthx"
      }
    },
    {
      "cell_type": "markdown",
      "source": [
        "### Método 1: `find()` (Encuentra el primer elemento)"
      ],
      "metadata": {
        "id": "Q-CdfMaYFwXH"
      }
    },
    {
      "cell_type": "code",
      "source": [
        "titulo = soup.find(\"title\").text\n",
        "print(f\"Título de la página: {titulo}\")"
      ],
      "metadata": {
        "colab": {
          "base_uri": "https://localhost:8080/"
        },
        "id": "uG0ZSyWX_5ch",
        "outputId": "e344c285-c6d9-4962-d65a-d48edd15266c"
      },
      "execution_count": null,
      "outputs": [
        {
          "output_type": "stream",
          "name": "stdout",
          "text": [
            "Título de la página: Reseña: Azul | Misut Meeple\n"
          ]
        }
      ]
    },
    {
      "cell_type": "markdown",
      "source": [
        "### Método 2: `find_all()` (Encuentra múltiples elementos)"
      ],
      "metadata": {
        "id": "2oSp2fyuF1pZ"
      }
    },
    {
      "cell_type": "code",
      "source": [
        "# Extraer todos los títulos de las secciones\n",
        "titulos_libros = soup.find_all(\"h2\")\n",
        "\n",
        "for i, libro in enumerate(titulos_libros[:5], 1):\n",
        "    print(f\"{i}. {libro.text}\")"
      ],
      "metadata": {
        "colab": {
          "base_uri": "https://localhost:8080/"
        },
        "id": "whgHC75M_8tf",
        "outputId": "0c406b2a-23a6-4acd-d3c6-83a25a5b7f7d"
      },
      "execution_count": null,
      "outputs": [
        {
          "output_type": "stream",
          "name": "stdout",
          "text": [
            "1. Introducción\n",
            "2. Contenido\n",
            "3. Mecánica\n",
            "4. Opinión Personal\n",
            "5. Navegación de entradas\n"
          ]
        }
      ]
    },
    {
      "cell_type": "markdown",
      "source": [
        "## 5.Extraer datos específicos usando `select()` (CSS Selectors)"
      ],
      "metadata": {
        "id": "LBPeQ_VkF5__"
      }
    },
    {
      "cell_type": "code",
      "source": [
        "# Extraer todos los comentarios\n",
        "comentarios = soup.select(\".comment-body\")\n",
        "\n",
        "for i, comentario in enumerate(comentarios[:5], 1):\n",
        "    print(f\"{i} {comentario.find(class_='comment-content').text}\")"
      ],
      "metadata": {
        "colab": {
          "base_uri": "https://localhost:8080/"
        },
        "id": "y3Ei-5klAAKH",
        "outputId": "80fe7ece-b48f-4429-9d83-e78fa0c36ab7"
      },
      "execution_count": null,
      "outputs": [
        {
          "output_type": "stream",
          "name": "stdout",
          "text": [
            "1 Gracias, totalmente de acuerdo con la opinión personal, aunque el tablero de construcción personal no es tan aburrido como dices más bien un nuevo reto que plantea el creador, no es tan fácil…tiene su dificultad. Lo hemos probado y tienes que estar más atento a las restricciones del juego, no puedes ponerlo donde tú quieras a base que vas avanzando. Y en cuanto a su expansión le aporta su punto de mejora y novedad respecto a la partida inicial, no excesivamente pero si un punto extra al juego. Una pena que no sea para 5/6 jugadores pero eso incrementaría el precio.\n",
            "2 Tienes razón en que no es tan simple como tal vez lo he pintado, pero te da la libertad de ir escogiendo el color para formar bloques, mientras que con el patron original estás obligado a seguir unos colores. Y son para todos los mismos.\n",
            "3 Gracias por la reseña:)\n",
            "Has probado el otro abstracto de Essen que tenía mucho bombo? El Dragón Castle?\n",
            "Sin haber jugado ninguno me atrae más el segundo, aunque viendo las reglas de ambos parece que en azul puedes fastidiar a varios jugadores a la vez si sabes elegir la fábrica adecuada, parece con más fastidio/interacción,que me atrae más.\n",
            "4 No he podido probarlo. Parece que se agotó en Essen y todavia no ha llegado la reimpresión. Pero, sin haberlo probado, parece que el sentimiento general es que Azul está un puntito por encima aunque ambos son dos muy buenos abstractos de peso ligero pero con sutilezas que satisfarán a los mas exigentes.\n",
            "5 Hola, si pierdes alguna ficha,donde puedes conseguir?\n",
            "Gracias\n"
          ]
        }
      ]
    },
    {
      "cell_type": "markdown",
      "source": [
        "## 6.Scraping de Imágenes"
      ],
      "metadata": {
        "id": "bzl67yVMGKgM"
      }
    },
    {
      "cell_type": "markdown",
      "source": [
        "### Extraer URLs de imágenes"
      ],
      "metadata": {
        "id": "j5-DGdHgGP5n"
      }
    },
    {
      "cell_type": "code",
      "source": [
        "# Extraer todas las imágenes de la página\n",
        "imagenes = soup.find(class_=\"entry-content-wrap\").find_all(\"img\")\n",
        "\n",
        "for i, img in enumerate(imagenes, 1):  # Mostramos solo 5 imágenes\n",
        "    print(f\"Imagen {i}: {img.get('src')}\")"
      ],
      "metadata": {
        "colab": {
          "base_uri": "https://localhost:8080/"
        },
        "id": "PtCzbGuCARw8",
        "outputId": "ca7ec83a-3525-49f9-9cf9-2f30012c266e"
      },
      "execution_count": null,
      "outputs": [
        {
          "output_type": "stream",
          "name": "stdout",
          "text": [
            "Imagen 1: https://i0.wp.com/misutmeeple.com/wp-content/uploads/2017/12/azul_portada.jpg?resize=1200%2C801&ssl=1\n",
            "Imagen 2: https://i0.wp.com/misutmeeple.com/wp-content/uploads/2017/12/azul_contraportada.jpg?resize=1200%2C801&ssl=1\n",
            "Imagen 3: https://i0.wp.com/misutmeeple.com/wp-content/uploads/2017/12/azul_contenido.jpg?resize=1200%2C365&ssl=1\n",
            "Imagen 4: https://i0.wp.com/misutmeeple.com/wp-content/uploads/2017/12/azul_azulejos.jpg?resize=1200%2C240&ssl=1\n",
            "Imagen 5: https://i0.wp.com/misutmeeple.com/wp-content/uploads/2017/12/azul_factorias.jpg?resize=1200%2C313&ssl=1\n",
            "Imagen 6: https://i0.wp.com/misutmeeple.com/wp-content/uploads/2017/12/azul_marcadores.jpg?resize=1200%2C397&ssl=1\n",
            "Imagen 7: https://i0.wp.com/misutmeeple.com/wp-content/uploads/2017/12/azul_tablero.jpg?resize=1200%2C775&ssl=1\n",
            "Imagen 8: https://i0.wp.com/misutmeeple.com/wp-content/uploads/2017/12/azul_jugador_inicial.jpg?resize=1200%2C657&ssl=1\n",
            "Imagen 9: https://i0.wp.com/misutmeeple.com/wp-content/uploads/2017/12/azul_partida_preparada.jpg?resize=1200%2C626&ssl=1\n",
            "Imagen 10: https://i0.wp.com/misutmeeple.com/wp-content/uploads/2017/12/azul_detalle_centro.jpg?resize=1200%2C712&ssl=1\n",
            "Imagen 11: https://i0.wp.com/misutmeeple.com/wp-content/uploads/2017/12/azul_tablero_alternativo.jpg?resize=1200%2C802&ssl=1\n",
            "Imagen 12: https://i0.wp.com/misutmeeple.com/wp-content/uploads/2017/12/azul_comodines.jpg?resize=1200%2C504&ssl=1\n",
            "Imagen 13: https://i0.wp.com/misutmeeple.com/wp-content/uploads/2017/12/azul_detalle_penalizacion.jpg?resize=1200%2C763&ssl=1\n",
            "Imagen 14: https://i0.wp.com/misutmeeple.com/wp-content/uploads/2017/12/azul_detalle_bolsa.jpg?resize=1200%2C809&ssl=1\n",
            "Imagen 15: https://i0.wp.com/misutmeeple.com/wp-content/uploads/2017/12/azul_detalle_tela.jpg?resize=1200%2C811&ssl=1\n",
            "Imagen 16: https://i0.wp.com/misutmeeple.com/wp-content/uploads/2017/12/azul_detalle_factoria.jpg?resize=1200%2C641&ssl=1\n",
            "Imagen 17: https://i0.wp.com/misutmeeple.com/wp-content/uploads/2017/12/azul_detalle_marcador.jpg?resize=1200%2C782&ssl=1\n",
            "Imagen 18: https://i0.wp.com/misutmeeple.com/wp-content/uploads/2017/12/azul_detalle_tablero.jpg?resize=1200%2C791&ssl=1\n",
            "Imagen 19: https://i0.wp.com/misutmeeple.com/wp-content/uploads/2018/09/Misut-Meeple-Sello-Notable-2.0-380.png?w=1200&ssl=1\n"
          ]
        }
      ]
    },
    {
      "cell_type": "markdown",
      "source": [
        "### Descargar imágenes y guardarlas"
      ],
      "metadata": {
        "id": "5yALTcPGGR1a"
      }
    },
    {
      "cell_type": "code",
      "source": [
        "import os\n",
        "\n",
        "# Crear carpeta para guardar imágenes\n",
        "os.makedirs(\"imagenes_scrapeadas\", exist_ok=True)\n",
        "\n",
        "# Descargar las primeras 5 imágenes\n",
        "for i, img in enumerate(imagenes, 1):\n",
        "    img_url = img.get(\"src\")\n",
        "\n",
        "    # Algunas URLs son relativas, convertirlas en absolutas\n",
        "    if img_url.startswith(\"/\"):\n",
        "        img_url = url + img_url\n",
        "\n",
        "    # Descargar imagen\n",
        "    img_data = requests.get(img_url).content\n",
        "\n",
        "    # Guardar la imagen\n",
        "    with open(f\"imagenes_scrapeadas/imagen_{i}.jpg\", \"wb\") as f:\n",
        "        f.write(img_data)\n",
        "\n",
        "    print(f\"✅ Imagen {i} descargada\")"
      ],
      "metadata": {
        "colab": {
          "base_uri": "https://localhost:8080/"
        },
        "id": "UGZ_VFq1ASvL",
        "outputId": "d4509017-3205-4103-9c56-bbea275219ed"
      },
      "execution_count": null,
      "outputs": [
        {
          "output_type": "stream",
          "name": "stdout",
          "text": [
            "✅ Imagen 1 descargada\n",
            "✅ Imagen 2 descargada\n",
            "✅ Imagen 3 descargada\n",
            "✅ Imagen 4 descargada\n",
            "✅ Imagen 5 descargada\n",
            "✅ Imagen 6 descargada\n",
            "✅ Imagen 7 descargada\n",
            "✅ Imagen 8 descargada\n",
            "✅ Imagen 9 descargada\n",
            "✅ Imagen 10 descargada\n",
            "✅ Imagen 11 descargada\n",
            "✅ Imagen 12 descargada\n",
            "✅ Imagen 13 descargada\n",
            "✅ Imagen 14 descargada\n",
            "✅ Imagen 15 descargada\n",
            "✅ Imagen 16 descargada\n",
            "✅ Imagen 17 descargada\n",
            "✅ Imagen 18 descargada\n",
            "✅ Imagen 19 descargada\n"
          ]
        }
      ]
    },
    {
      "cell_type": "markdown",
      "source": [
        "## 7.Scraping de Hipervínculos"
      ],
      "metadata": {
        "id": "-TpKvXAYDw_Z"
      }
    },
    {
      "cell_type": "code",
      "source": [
        "# Extración de tags\n",
        "related_posts = soup.find(class_=\"tags-links\").find_all('a')\n",
        "\n",
        "for post in related_posts:\n",
        "    print(post.text)\n",
        "    print(post.attrs['href'])"
      ],
      "metadata": {
        "colab": {
          "base_uri": "https://localhost:8080/"
        },
        "id": "J3mvgks5Dx0E",
        "outputId": "a7970257-dea5-40b2-bc2c-04c87b9880be"
      },
      "execution_count": null,
      "outputs": [
        {
          "output_type": "stream",
          "name": "stdout",
          "text": [
            "#Chris Quilliams\n",
            "https://misutmeeple.com/tag/chris-quilliams/\n",
            "#Colecciones\n",
            "https://misutmeeple.com/tag/colecciones/\n",
            "#Colocación de Losetas\n",
            "https://misutmeeple.com/tag/colocacion-de-losetas/\n",
            "#Construcción de Patrones\n",
            "https://misutmeeple.com/tag/construccion-de-patrones/\n",
            "#Draft\n",
            "https://misutmeeple.com/tag/draft/\n",
            "#Eurogames\n",
            "https://misutmeeple.com/tag/eurogames/\n",
            "#Juegos de Tablero\n",
            "https://misutmeeple.com/tag/juegos-de-tablero/\n",
            "#Michael Kiesling\n",
            "https://misutmeeple.com/tag/michael-kiesling/\n",
            "#Reseñas\n",
            "https://misutmeeple.com/tag/resenas/\n"
          ]
        }
      ]
    }
  ]
}