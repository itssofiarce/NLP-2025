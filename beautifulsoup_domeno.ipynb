{
  "nbformat": 4,
  "nbformat_minor": 0,
  "metadata": {
    "colab": {
      "provenance": [],
      "include_colab_link": true
    },
    "kernelspec": {
      "name": "python3",
      "display_name": "Python 3"
    },
    "language_info": {
      "name": "python"
    }
  },
  "cells": [
    {
      "cell_type": "markdown",
      "metadata": {
        "id": "view-in-github",
        "colab_type": "text"
      },
      "source": [
        "<a href=\"https://colab.research.google.com/github/itssofiarce/NLP-2024/blob/main/beautifulsoup_domeno.ipynb\" target=\"_parent\"><img src=\"https://colab.research.google.com/assets/colab-badge.svg\" alt=\"Open In Colab\"/></a>"
      ]
    },
    {
      "cell_type": "markdown",
      "source": [
        "# **Introducción al Web Scraping**\n",
        "El Web Scraping permite extraer información de sitios web de manera automática. Es útil cuando:\n",
        "\n",
        "* No hay una API disponible.\n",
        "* Se necesita obtener datos actualizados regularmente.\n",
        "* Se quiere extraer información específica de una página web.\n",
        "\n",
        "Importante: Antes de hacer scraping, revisa los términos de uso del sitio y su archivo `robots.txt`.\n",
        "\n",
        "_Por ejemplo [Robots.txt de Facebook](https://facebook.com/robots.txt)_"
      ],
      "metadata": {
        "id": "gX77V0Z84pQG"
      }
    },
    {
      "cell_type": "markdown",
      "source": [
        "## 1.Instalar y Configurar BeautifulSoup"
      ],
      "metadata": {
        "id": "-QhrbXSXFjzi"
      }
    },
    {
      "cell_type": "code",
      "source": [
        "!pip install beautifulsoup4 requests"
      ],
      "metadata": {
        "colab": {
          "base_uri": "https://localhost:8080/"
        },
        "id": "EsXkjOWkFkyb",
        "outputId": "650bb1da-6182-41c7-bf5d-013dd6b830ea"
      },
      "execution_count": 2,
      "outputs": [
        {
          "output_type": "stream",
          "name": "stdout",
          "text": [
            "Requirement already satisfied: beautifulsoup4 in /usr/local/lib/python3.11/dist-packages (4.13.3)\n",
            "Requirement already satisfied: requests in /usr/local/lib/python3.11/dist-packages (2.32.3)\n",
            "Requirement already satisfied: soupsieve>1.2 in /usr/local/lib/python3.11/dist-packages (from beautifulsoup4) (2.6)\n",
            "Requirement already satisfied: typing-extensions>=4.0.0 in /usr/local/lib/python3.11/dist-packages (from beautifulsoup4) (4.12.2)\n",
            "Requirement already satisfied: charset-normalizer<4,>=2 in /usr/local/lib/python3.11/dist-packages (from requests) (3.4.1)\n",
            "Requirement already satisfied: idna<4,>=2.5 in /usr/local/lib/python3.11/dist-packages (from requests) (3.10)\n",
            "Requirement already satisfied: urllib3<3,>=1.21.1 in /usr/local/lib/python3.11/dist-packages (from requests) (2.3.0)\n",
            "Requirement already satisfied: certifi>=2017.4.17 in /usr/local/lib/python3.11/dist-packages (from requests) (2025.1.31)\n"
          ]
        }
      ]
    },
    {
      "cell_type": "markdown",
      "source": [
        "## 2.Extraer el HTML de una página con requests"
      ],
      "metadata": {
        "id": "92g0tKltFlgt"
      }
    },
    {
      "cell_type": "code",
      "execution_count": 3,
      "metadata": {
        "colab": {
          "base_uri": "https://localhost:8080/"
        },
        "id": "6DObFAX44jS3",
        "outputId": "128dbe6b-3548-40fa-a39b-32249d64daeb"
      },
      "outputs": [
        {
          "output_type": "stream",
          "name": "stdout",
          "text": [
            "Página obtenida con éxito\n"
          ]
        }
      ],
      "source": [
        "import requests\n",
        "from bs4 import BeautifulSoup\n",
        "\n",
        "# https://misutmeeple.com/2022/12/resena-cat-in-the-box/\n",
        "\n",
        "# URL de la página a scrapear\n",
        "url = \"https://misutmeeple.com/2024/09/resena-domemo-stonehenge/\"\n",
        "\n",
        "# Enviar una solicitud GET\n",
        "response = requests.get(url)\n",
        "\n",
        "# Verificar si la solicitud fue exitosa\n",
        "if response.status_code == 200:\n",
        "    html_content = response.text\n",
        "    print(\"Página obtenida con éxito\")\n",
        "else:\n",
        "    print(f\"Error {response.status_code}\")\n"
      ]
    },
    {
      "cell_type": "markdown",
      "source": [
        "## 3.Parsear el HTML con BeautifulSoup"
      ],
      "metadata": {
        "id": "v7L93Zn3FrNz"
      }
    },
    {
      "cell_type": "code",
      "source": [
        "# Crear el objeto BeautifulSoup\n",
        "soup = BeautifulSoup(html_content, \"html.parser\")\n",
        "\n",
        "# Imprimir el HTML formateado\n",
        "print(soup.prettify()[:1000])  # Solo mostramos una parte para no saturar el output"
      ],
      "metadata": {
        "colab": {
          "base_uri": "https://localhost:8080/"
        },
        "id": "zM2lQKU_8S-d",
        "outputId": "3e81a643-7f41-4048-e549-abd772abf30f"
      },
      "execution_count": 4,
      "outputs": [
        {
          "output_type": "stream",
          "name": "stdout",
          "text": [
            "<!DOCTYPE html>\n",
            "<html class=\"no-js\" dir=\"ltr\" itemscope=\"\" itemtype=\"https://schema.org/Blog\" lang=\"es\" prefix=\"og: https://ogp.me/ns#\">\n",
            " <head>\n",
            "  <meta charset=\"utf-8\"/>\n",
            "  <meta content=\"width=device-width, initial-scale=1, minimum-scale=1\" name=\"viewport\"/>\n",
            "  <title>\n",
            "   Reseña: Domemo – Stonehenge | Misut Meeple\n",
            "  </title>\n",
            "  <style>\n",
            "   img:is([sizes=\"auto\" i], [sizes^=\"auto,\" i]){contain-intrinsic-size:3000px 1500px}\n",
            "  </style>\n",
            "  <meta content=\"Adivina los números en tus fichas. El asunto es que no puedes ver tus propias fichas. ¡Solo los demás jugadores podrán hacerlo! En cada turno, intentarás adivinar un número que crees que está en uno de monolitos. La primera persona que adivine todos sus monolitos gana. Así se nos presenta Domemo: Stonehenge, un diseño de\" name=\"description\"/>\n",
            "  <meta content=\"max-image-preview:large\" name=\"robots\"/>\n",
            "  <meta content=\"iMisut\" name=\"author\"/>\n",
            "  <meta content=\"iJfWzcPgmmN6dvYJQ8mK43UT2fGrqwfgHRHBzpHTkzc\" name=\"google-site-verification\"/>\n",
            "  <meta c\n"
          ]
        }
      ]
    },
    {
      "cell_type": "markdown",
      "source": [
        "## 4.Encontrar elementos HTML"
      ],
      "metadata": {
        "id": "3CWVLZOVFthx"
      }
    },
    {
      "cell_type": "markdown",
      "source": [
        "### Método 1: `find()` (Encuentra el primer elemento)"
      ],
      "metadata": {
        "id": "Q-CdfMaYFwXH"
      }
    },
    {
      "cell_type": "code",
      "source": [
        "titulo = soup.find(\"title\").text\n",
        "print(f\"Título de la página: {titulo}\")"
      ],
      "metadata": {
        "colab": {
          "base_uri": "https://localhost:8080/"
        },
        "id": "uG0ZSyWX_5ch",
        "outputId": "25b0571f-a5ae-4ae6-d16b-1ce19fc7eacc"
      },
      "execution_count": 5,
      "outputs": [
        {
          "output_type": "stream",
          "name": "stdout",
          "text": [
            "Título de la página: Reseña: Domemo – Stonehenge | Misut Meeple\n"
          ]
        }
      ]
    },
    {
      "cell_type": "code",
      "source": [
        "soup.title"
      ],
      "metadata": {
        "colab": {
          "base_uri": "https://localhost:8080/"
        },
        "id": "M1gh5dgzhH35",
        "outputId": "de8a6702-b1ae-47e7-da84-e35d81f5062b"
      },
      "execution_count": 6,
      "outputs": [
        {
          "output_type": "execute_result",
          "data": {
            "text/plain": [
              "<title>Reseña: Domemo – Stonehenge | Misut Meeple</title>"
            ]
          },
          "metadata": {},
          "execution_count": 6
        }
      ]
    },
    {
      "cell_type": "code",
      "source": [
        "soup.find_all(class_=\"comment-notes\")"
      ],
      "metadata": {
        "colab": {
          "base_uri": "https://localhost:8080/"
        },
        "id": "E8xcnEh1ib1V",
        "outputId": "7afd3810-ad63-465d-e0e4-7692024d6208"
      },
      "execution_count": 14,
      "outputs": [
        {
          "output_type": "execute_result",
          "data": {
            "text/plain": [
              "[<p class=\"comment-notes\"><span id=\"email-notes\">Tu dirección de correo electrónico no será publicada.</span> <span class=\"required-field-message\">Los campos obligatorios están marcados con <span class=\"required\">*</span></span></p>]"
            ]
          },
          "metadata": {},
          "execution_count": 14
        }
      ]
    },
    {
      "cell_type": "code",
      "source": [
        "soup.css.select(\"title\")"
      ],
      "metadata": {
        "colab": {
          "base_uri": "https://localhost:8080/"
        },
        "id": "8gAgNmEFmCUk",
        "outputId": "8e8d59ac-1e38-4499-ca00-8f7344de8c4a"
      },
      "execution_count": 15,
      "outputs": [
        {
          "output_type": "execute_result",
          "data": {
            "text/plain": [
              "[<title>Reseña: Domemo – Stonehenge | Misut Meeple</title>,\n",
              " <title>Buscar</title>,\n",
              " <title>X</title>,\n",
              " <title>Facebook</title>,\n",
              " <title>Instagram</title>,\n",
              " <title>Threads</title>,\n",
              " <title>TikTok</title>,\n",
              " <title>Telegram</title>,\n",
              " <title>Alternar el menú</title>,\n",
              " <title>Horas</title>,\n",
              " <title>Comentarios</title>,\n",
              " <title>Anterior</title>,\n",
              " <title>Continuar</title>,\n",
              " <title>X</title>,\n",
              " <title>Facebook</title>,\n",
              " <title>Instagram</title>,\n",
              " <title>Threads</title>,\n",
              " <title>TikTok</title>,\n",
              " <title>Scroll hacia arriba</title>,\n",
              " <title>Scroll hacia arriba</title>,\n",
              " <title>Buscar</title>,\n",
              " <title>Twitter</title>,\n",
              " <title>Facebook</title>,\n",
              " <title>Instagram</title>,\n",
              " <title>Threads</title>,\n",
              " <title>TikTok</title>,\n",
              " <title>Telegram</title>,\n",
              " <title>Alternar cerrar menú</title>,\n",
              " <title>Buscar</title>]"
            ]
          },
          "metadata": {},
          "execution_count": 15
        }
      ]
    },
    {
      "cell_type": "code",
      "source": [
        "import re\n",
        "#This code finds the <title> tags whose .string contains \"Domemo\"\n",
        "soup.find_all(\"title\", string=re.compile(\"Domemo\"))"
      ],
      "metadata": {
        "colab": {
          "base_uri": "https://localhost:8080/"
        },
        "id": "1i4HLMmDnK2H",
        "outputId": "ce14abb4-c685-40f4-e153-e149a9c4bb29"
      },
      "execution_count": 24,
      "outputs": [
        {
          "output_type": "execute_result",
          "data": {
            "text/plain": [
              "[<title>Reseña: Domemo – Stonehenge | Misut Meeple</title>]"
            ]
          },
          "metadata": {},
          "execution_count": 24
        }
      ]
    },
    {
      "cell_type": "markdown",
      "source": [
        "### Método 2: `find_all()` (Encuentra múltiples elementos)"
      ],
      "metadata": {
        "id": "2oSp2fyuF1pZ"
      }
    },
    {
      "cell_type": "code",
      "source": [
        "# Extraer todos los títulos de las secciones\n",
        "titulos_libros = soup.find_all(\"h2\")\n",
        "\n",
        "for i, libro in enumerate(titulos_libros[:5], 1):\n",
        "    print(f\"{i}. {libro.text}\")"
      ],
      "metadata": {
        "colab": {
          "base_uri": "https://localhost:8080/"
        },
        "id": "whgHC75M_8tf",
        "outputId": "72cddb55-3f7b-47cb-cbb3-2fbb625e3103"
      },
      "execution_count": null,
      "outputs": [
        {
          "output_type": "stream",
          "name": "stdout",
          "text": [
            "1. Introducción\n",
            "2. Contenido\n",
            "3. Mecánica\n",
            "4. Opinión Personal\n",
            "5. Navegación de entradas\n"
          ]
        }
      ]
    },
    {
      "cell_type": "code",
      "source": [
        "soup.h2"
      ],
      "metadata": {
        "colab": {
          "base_uri": "https://localhost:8080/"
        },
        "id": "dqS0Upf0hOIn",
        "outputId": "ee0f5ce4-03f8-457e-9a4b-0a768bf9ba6a"
      },
      "execution_count": null,
      "outputs": [
        {
          "output_type": "execute_result",
          "data": {
            "text/plain": [
              "<h2>Introducción</h2>"
            ]
          },
          "metadata": {},
          "execution_count": 13
        }
      ]
    },
    {
      "cell_type": "code",
      "source": [
        "import re\n",
        "for tag in soup.find_all(re.compile(\"^b\")):\n",
        "    print(tag.name)"
      ],
      "metadata": {
        "colab": {
          "base_uri": "https://localhost:8080/"
        },
        "id": "-OA5UUWThlQO",
        "outputId": "d5465b4e-bd6f-4fa4-849e-b81ec9fbc501"
      },
      "execution_count": null,
      "outputs": [
        {
          "output_type": "stream",
          "name": "stdout",
          "text": [
            "body\n",
            "button\n",
            "button\n",
            "br\n",
            "button\n",
            "br\n",
            "br\n",
            "br\n",
            "br\n",
            "br\n",
            "br\n",
            "br\n",
            "br\n",
            "button\n",
            "button\n",
            "button\n",
            "button\n",
            "button\n",
            "button\n",
            "button\n"
          ]
        }
      ]
    },
    {
      "cell_type": "code",
      "source": [
        "# Tienen la letra 't'\n",
        "\n",
        "for tag in soup.find_all(re.compile(\"t\")):\n",
        "    print(tag.name)"
      ],
      "metadata": {
        "id": "wNFQKkqlhsFs"
      },
      "execution_count": null,
      "outputs": []
    },
    {
      "cell_type": "markdown",
      "source": [
        "## 5.Extraer datos específicos usando `select()` (CSS Selectors)"
      ],
      "metadata": {
        "id": "LBPeQ_VkF5__"
      }
    },
    {
      "cell_type": "code",
      "source": [
        "# Extraer todos los comentarios\n",
        "comentarios = soup.select(\".comment-body\")\n",
        "\n",
        "for i, comentario in enumerate(comentarios[:5], 1):\n",
        "    print(f\"{i} {comentario.find(class_='comment-content').text}\")"
      ],
      "metadata": {
        "id": "y3Ei-5klAAKH"
      },
      "execution_count": null,
      "outputs": []
    },
    {
      "cell_type": "markdown",
      "source": [
        "## 6.Scraping de Imágenes"
      ],
      "metadata": {
        "id": "bzl67yVMGKgM"
      }
    },
    {
      "cell_type": "markdown",
      "source": [
        "### Extraer URLs de imágenes"
      ],
      "metadata": {
        "id": "j5-DGdHgGP5n"
      }
    },
    {
      "cell_type": "code",
      "source": [
        "# Extraer todas las imágenes de la página\n",
        "imagenes = soup.find(class_=\"entry-content-wrap\").find_all(\"img\")\n",
        "\n",
        "for i, img in enumerate(imagenes, 1):  # Mostramos solo 5 imágenes\n",
        "    print(f\"Imagen {i}: {img.get('src')}\")"
      ],
      "metadata": {
        "colab": {
          "base_uri": "https://localhost:8080/"
        },
        "id": "PtCzbGuCARw8",
        "outputId": "be570b49-fdf2-4605-de18-2cfc487fb88f"
      },
      "execution_count": null,
      "outputs": [
        {
          "output_type": "stream",
          "name": "stdout",
          "text": [
            "Imagen 1: https://i0.wp.com/misutmeeple.com/wp-content/uploads/2024/09/domemo_portada.jpg?resize=1200%2C801&ssl=1\n",
            "Imagen 2: https://i0.wp.com/misutmeeple.com/wp-content/uploads/2024/09/domemo_contraportada.jpg?resize=1200%2C801&ssl=1\n",
            "Imagen 3: https://i0.wp.com/misutmeeple.com/wp-content/uploads/2024/09/domemo_contenido.jpg?resize=1200%2C279&ssl=1\n",
            "Imagen 4: https://i0.wp.com/misutmeeple.com/wp-content/uploads/2024/09/domemo_piezas.jpg?resize=1200%2C434&ssl=1\n",
            "Imagen 5: https://i0.wp.com/misutmeeple.com/wp-content/uploads/2024/09/domemo_detalle_mano.jpg?resize=1200%2C620&ssl=1\n",
            "Imagen 6: https://i0.wp.com/misutmeeple.com/wp-content/uploads/2024/09/domemo_detalle_fichas_generales.jpg?resize=1200%2C699&ssl=1\n",
            "Imagen 7: https://i0.wp.com/misutmeeple.com/wp-content/uploads/2024/09/domemo_detalle_fichas_2.jpg?resize=1200%2C766&ssl=1\n",
            "Imagen 8: https://i0.wp.com/misutmeeple.com/wp-content/uploads/2018/09/Misut-Meeple-Sello-Notable-2.0-380.png?w=1200&ssl=1\n"
          ]
        }
      ]
    },
    {
      "cell_type": "markdown",
      "source": [
        "### Descargar imágenes y guardarlas"
      ],
      "metadata": {
        "id": "5yALTcPGGR1a"
      }
    },
    {
      "cell_type": "code",
      "source": [
        "import os\n",
        "\n",
        "# Crear carpeta para guardar imágenes\n",
        "os.makedirs(\"imagenes_scrapeadas\", exist_ok=True)\n",
        "\n",
        "# Descargar las primeras 5 imágenes\n",
        "for i, img in enumerate(imagenes, 1):\n",
        "    img_url = img.get(\"src\")\n",
        "\n",
        "    # Algunas URLs son relativas, convertirlas en absolutas\n",
        "    if img_url.startswith(\"/\"):\n",
        "        img_url = url + img_url\n",
        "\n",
        "    # Descargar imagen\n",
        "    img_data = requests.get(img_url).content\n",
        "\n",
        "    # Guardar la imagen\n",
        "    with open(f\"imagenes_scrapeadas/imagen_{i}.jpg\", \"wb\") as f:\n",
        "        f.write(img_data)\n",
        "\n",
        "    print(f\"✅ Imagen {i} descargada\")"
      ],
      "metadata": {
        "colab": {
          "base_uri": "https://localhost:8080/"
        },
        "id": "UGZ_VFq1ASvL",
        "outputId": "aaa6e634-b280-48a1-ec3e-a762cc09e3f8"
      },
      "execution_count": null,
      "outputs": [
        {
          "output_type": "stream",
          "name": "stdout",
          "text": [
            "✅ Imagen 1 descargada\n",
            "✅ Imagen 2 descargada\n",
            "✅ Imagen 3 descargada\n",
            "✅ Imagen 4 descargada\n",
            "✅ Imagen 5 descargada\n",
            "✅ Imagen 6 descargada\n",
            "✅ Imagen 7 descargada\n",
            "✅ Imagen 8 descargada\n"
          ]
        }
      ]
    },
    {
      "cell_type": "markdown",
      "source": [
        "## 7.Scraping de Hipervínculos"
      ],
      "metadata": {
        "id": "-TpKvXAYDw_Z"
      }
    },
    {
      "cell_type": "code",
      "source": [
        "# Extración de tags\n",
        "related_posts = soup.find(class_=\"tags-links\").find_all('a')\n",
        "\n",
        "for post in related_posts:\n",
        "    print(post.text)\n",
        "    print(post.attrs['href'])"
      ],
      "metadata": {
        "colab": {
          "base_uri": "https://localhost:8080/"
        },
        "id": "J3mvgks5Dx0E",
        "outputId": "321b80f8-d7e2-4008-e412-825d2a59687f"
      },
      "execution_count": null,
      "outputs": [
        {
          "output_type": "stream",
          "name": "stdout",
          "text": [
            "#Alex Randolph\n",
            "https://misutmeeple.com/tag/alex-randolph/\n",
            "#Deducción\n",
            "https://misutmeeple.com/tag/deduccion/\n",
            "#Juegos de Cartas\n",
            "https://misutmeeple.com/tag/juegos-de-cartas/\n",
            "#Memoria\n",
            "https://misutmeeple.com/tag/memoria/\n",
            "#Reseñas\n",
            "https://misutmeeple.com/tag/resenas/\n",
            "#Wanjin Gill\n",
            "https://misutmeeple.com/tag/wanjin-gill/\n"
          ]
        }
      ]
    }
  ]
}